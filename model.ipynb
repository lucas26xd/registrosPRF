{
  "nbformat": 4,
  "nbformat_minor": 0,
  "metadata": {
    "colab": {
      "name": "model.ipynb",
      "provenance": [],
      "include_colab_link": true
    },
    "kernelspec": {
      "name": "python3",
      "display_name": "Python 3"
    }
  },
  "cells": [
    {
      "cell_type": "markdown",
      "metadata": {
        "id": "view-in-github",
        "colab_type": "text"
      },
      "source": [
        "<a href=\"https://colab.research.google.com/github/lucas26xd/registrosPRF/blob/master/model.ipynb\" target=\"_parent\"><img src=\"https://colab.research.google.com/assets/colab-badge.svg\" alt=\"Open In Colab\"/></a>"
      ]
    },
    {
      "cell_type": "markdown",
      "metadata": {
        "id": "MWfi_D1TXAkZ"
      },
      "source": [
        "#Dados abertos sobre Acidentes da Polícia Rodoviária Federal a partir da aplicação do processo OSEMN."
      ]
    },
    {
      "cell_type": "markdown",
      "metadata": {
        "id": "8X-ZB6x5GyAE"
      },
      "source": [
        "# Etapa de Limpeza"
      ]
    },
    {
      "cell_type": "code",
      "metadata": {
        "id": "p8sIrkKsG1rV"
      },
      "source": [
        "import pandas as pd\n",
        "from plotly import __version__\n",
        "if float(__version__[:__version__.rfind('.')]) < 4.11:\n",
        "  !pip install -U plotly\n",
        "import plotly.express as px\n",
        "import seaborn as sn\n",
        "import matplotlib.pyplot as plt\n",
        "\n",
        "url = 'https://raw.githubusercontent.com/lucas26xd/registrosPRF/master/Bases'\n",
        "bases = {'Ocorrencias': {'folder': 'Agrupados%20por%20ocorrencia', \n",
        "                         'files': ['datatran2017.csv', 'datatran2018.csv', 'datatran2019.csv', 'datatran2020.csv']}, \n",
        "         'Pessoas': {'folder': 'Agrupados%20por%20pessoa', \n",
        "                     'files': ['acidentes2017.csv', 'acidentes2018.csv', 'acidentes2019.csv', 'acidentes2020.csv']}, \n",
        "         }\n",
        "\n",
        "def import_base(base):\n",
        "  dfs = list()\n",
        "  for file in bases[base]['files']:\n",
        "    dfs.append(pd.read_csv(f'{url}/{bases[base][\"folder\"]}/{file}', encoding='ISO-8859-1', sep=';'))\n",
        "\n",
        "  return pd.concat(dfs)\n",
        "\n",
        "def converte_srt_to_float(df, atrib):\n",
        "  for i in range(0, len(atrib)):\n",
        "    df[atrib[i]] = df[atrib[i]].apply(lambda x: x.replace(\",\", \".\"))\n",
        "    df[atrib[i]] = df[atrib[i]].astype(float)\n",
        "\n",
        "def converte_float_to_int(df, atrib):\n",
        "  for i in range(0, len(atrib)):\n",
        "    df[atrib[i]] = df[atrib[i]].astype(int)"
      ],
      "execution_count": null,
      "outputs": []
    },
    {
      "cell_type": "markdown",
      "metadata": {
        "id": "iUN9HGGNHm8N"
      },
      "source": [
        "### Base de Ocorrêncas"
      ]
    },
    {
      "cell_type": "code",
      "metadata": {
        "id": "E_1V1oyfHMOv",
        "outputId": "2dac46ca-764d-40ac-b558-0b616b4c4e87",
        "colab": {
          "base_uri": "https://localhost:8080/",
          "height": 659
        }
      },
      "source": [
        "# UNINDO AS 4 ÚLTIMAS BASES DE OCORRÊNCIAS (2017 a 2020)\n",
        "dfOcorrencias = import_base('Ocorrencias')\n",
        "dfOcorrencias.info()"
      ],
      "execution_count": null,
      "outputs": [
        {
          "output_type": "stream",
          "text": [
            "<class 'pandas.core.frame.DataFrame'>\n",
            "Int64Index: 260388 entries, 0 to 34083\n",
            "Data columns (total 30 columns):\n",
            " #   Column                  Non-Null Count   Dtype  \n",
            "---  ------                  --------------   -----  \n",
            " 0   id                      260388 non-null  float64\n",
            " 1   data_inversa            260388 non-null  object \n",
            " 2   dia_semana              260388 non-null  object \n",
            " 3   horario                 260388 non-null  object \n",
            " 4   uf                      260388 non-null  object \n",
            " 5   br                      259955 non-null  float64\n",
            " 6   km                      259955 non-null  object \n",
            " 7   municipio               260388 non-null  object \n",
            " 8   causa_acidente          260388 non-null  object \n",
            " 9   tipo_acidente           260388 non-null  object \n",
            " 10  classificacao_acidente  260388 non-null  object \n",
            " 11  fase_dia                260388 non-null  object \n",
            " 12  sentido_via             260388 non-null  object \n",
            " 13  condicao_metereologica  260388 non-null  object \n",
            " 14  tipo_pista              260388 non-null  object \n",
            " 15  tracado_via             260388 non-null  object \n",
            " 16  uso_solo                260388 non-null  object \n",
            " 17  pessoas                 260388 non-null  int64  \n",
            " 18  mortos                  260388 non-null  int64  \n",
            " 19  feridos_leves           260388 non-null  int64  \n",
            " 20  feridos_graves          260388 non-null  int64  \n",
            " 21  ilesos                  260388 non-null  int64  \n",
            " 22  ignorados               260388 non-null  int64  \n",
            " 23  feridos                 260388 non-null  int64  \n",
            " 24  veiculos                260388 non-null  int64  \n",
            " 25  latitude                260388 non-null  object \n",
            " 26  longitude               260388 non-null  object \n",
            " 27  regional                260388 non-null  object \n",
            " 28  delegacia               260388 non-null  object \n",
            " 29  uop                     249298 non-null  object \n",
            "dtypes: float64(2), int64(8), object(20)\n",
            "memory usage: 61.6+ MB\n"
          ],
          "name": "stdout"
        }
      ]
    },
    {
      "cell_type": "code",
      "metadata": {
        "id": "f6yJZpwukseV",
        "outputId": "c8427184-4093-4f9d-be7a-0cb80caecf1c",
        "colab": {
          "base_uri": "https://localhost:8080/",
          "height": 950
        }
      },
      "source": [
        "# LIMPEZA BASE OCORRÊNCAS\n",
        "\n",
        "## Remoção de atributos considerados irrelevantes\n",
        "dfOcorrencias = dfOcorrencias.drop(columns=['fase_dia', 'sentido_via', 'uso_solo', 'latitude', 'longitude', 'regional', 'delegacia', 'uop'])\n",
        "\n",
        "## Remove regitros NaN nos atributos br e km\n",
        "t = len(dfOcorrencias.id)\n",
        "dfOcorrencias = dfOcorrencias[dfOcorrencias['br'].notna()]\n",
        "dfOcorrencias = dfOcorrencias[dfOcorrencias['km'].notna()]\n",
        "print(f'Removidos {t - len(dfOcorrencias.id)} registros.')\n",
        "\n",
        "## Conversões\n",
        "atributos_str = [\"data_inversa\", \"dia_semana\", \"horario\", \"uf\", \"municipio\", \"causa_acidente\",\"tipo_acidente\", \"classificacao_acidente\", \"condicao_metereologica\", \"tipo_pista\", \"tracado_via\"]\n",
        "atributos_int = [\"id\", \"br\", \"pessoas\", \"mortos\", \"feridos_leves\", \"feridos_graves\", \"ilesos\", \"ignorados\", \"feridos\", \"veiculos\"]\n",
        "converte_float_to_int(dfOcorrencias, atributos_int)\n",
        "converte_srt_to_float(dfOcorrencias, [\"km\"])\n",
        "\n",
        "dfOcorrencias['data_inversa'] = pd.to_datetime(dfOcorrencias['data_inversa'])\n",
        "dfOcorrencias['horario'] = pd.to_datetime(dfOcorrencias['horario'])\n",
        "\n",
        "dfOcorrencias.info()\n",
        "dfOcorrencias.head()"
      ],
      "execution_count": null,
      "outputs": [
        {
          "output_type": "stream",
          "text": [
            "Removidos 433 registros.\n",
            "<class 'pandas.core.frame.DataFrame'>\n",
            "Int64Index: 259955 entries, 0 to 34083\n",
            "Data columns (total 22 columns):\n",
            " #   Column                  Non-Null Count   Dtype         \n",
            "---  ------                  --------------   -----         \n",
            " 0   id                      259955 non-null  int64         \n",
            " 1   data_inversa            259955 non-null  datetime64[ns]\n",
            " 2   dia_semana              259955 non-null  object        \n",
            " 3   horario                 259955 non-null  datetime64[ns]\n",
            " 4   uf                      259955 non-null  object        \n",
            " 5   br                      259955 non-null  int64         \n",
            " 6   km                      259955 non-null  float64       \n",
            " 7   municipio               259955 non-null  object        \n",
            " 8   causa_acidente          259955 non-null  object        \n",
            " 9   tipo_acidente           259955 non-null  object        \n",
            " 10  classificacao_acidente  259955 non-null  object        \n",
            " 11  condicao_metereologica  259955 non-null  object        \n",
            " 12  tipo_pista              259955 non-null  object        \n",
            " 13  tracado_via             259955 non-null  object        \n",
            " 14  pessoas                 259955 non-null  int64         \n",
            " 15  mortos                  259955 non-null  int64         \n",
            " 16  feridos_leves           259955 non-null  int64         \n",
            " 17  feridos_graves          259955 non-null  int64         \n",
            " 18  ilesos                  259955 non-null  int64         \n",
            " 19  ignorados               259955 non-null  int64         \n",
            " 20  feridos                 259955 non-null  int64         \n",
            " 21  veiculos                259955 non-null  int64         \n",
            "dtypes: datetime64[ns](2), float64(1), int64(10), object(9)\n",
            "memory usage: 45.6+ MB\n"
          ],
          "name": "stdout"
        },
        {
          "output_type": "execute_result",
          "data": {
            "text/html": [
              "<div>\n",
              "<style scoped>\n",
              "    .dataframe tbody tr th:only-of-type {\n",
              "        vertical-align: middle;\n",
              "    }\n",
              "\n",
              "    .dataframe tbody tr th {\n",
              "        vertical-align: top;\n",
              "    }\n",
              "\n",
              "    .dataframe thead th {\n",
              "        text-align: right;\n",
              "    }\n",
              "</style>\n",
              "<table border=\"1\" class=\"dataframe\">\n",
              "  <thead>\n",
              "    <tr style=\"text-align: right;\">\n",
              "      <th></th>\n",
              "      <th>id</th>\n",
              "      <th>data_inversa</th>\n",
              "      <th>dia_semana</th>\n",
              "      <th>horario</th>\n",
              "      <th>uf</th>\n",
              "      <th>br</th>\n",
              "      <th>km</th>\n",
              "      <th>municipio</th>\n",
              "      <th>causa_acidente</th>\n",
              "      <th>tipo_acidente</th>\n",
              "      <th>classificacao_acidente</th>\n",
              "      <th>condicao_metereologica</th>\n",
              "      <th>tipo_pista</th>\n",
              "      <th>tracado_via</th>\n",
              "      <th>pessoas</th>\n",
              "      <th>mortos</th>\n",
              "      <th>feridos_leves</th>\n",
              "      <th>feridos_graves</th>\n",
              "      <th>ilesos</th>\n",
              "      <th>ignorados</th>\n",
              "      <th>feridos</th>\n",
              "      <th>veiculos</th>\n",
              "    </tr>\n",
              "  </thead>\n",
              "  <tbody>\n",
              "    <tr>\n",
              "      <th>0</th>\n",
              "      <td>8</td>\n",
              "      <td>2017-01-01</td>\n",
              "      <td>domingo</td>\n",
              "      <td>2020-10-06 00:00:00</td>\n",
              "      <td>PR</td>\n",
              "      <td>376</td>\n",
              "      <td>112.0</td>\n",
              "      <td>PARANAVAI</td>\n",
              "      <td>Fenômenos da Natureza</td>\n",
              "      <td>Queda de ocupante de veículo</td>\n",
              "      <td>Com Vítimas Feridas</td>\n",
              "      <td>Chuva</td>\n",
              "      <td>Simples</td>\n",
              "      <td>Reta</td>\n",
              "      <td>1</td>\n",
              "      <td>0</td>\n",
              "      <td>0</td>\n",
              "      <td>1</td>\n",
              "      <td>0</td>\n",
              "      <td>0</td>\n",
              "      <td>1</td>\n",
              "      <td>1</td>\n",
              "    </tr>\n",
              "    <tr>\n",
              "      <th>1</th>\n",
              "      <td>9</td>\n",
              "      <td>2017-01-01</td>\n",
              "      <td>domingo</td>\n",
              "      <td>2020-10-06 00:01:00</td>\n",
              "      <td>SC</td>\n",
              "      <td>101</td>\n",
              "      <td>234.0</td>\n",
              "      <td>PALHOCA</td>\n",
              "      <td>Falta de Atenção à Condução</td>\n",
              "      <td>Colisão com objeto estático</td>\n",
              "      <td>Sem Vítimas</td>\n",
              "      <td>Chuva</td>\n",
              "      <td>Dupla</td>\n",
              "      <td>Curva</td>\n",
              "      <td>1</td>\n",
              "      <td>0</td>\n",
              "      <td>0</td>\n",
              "      <td>0</td>\n",
              "      <td>1</td>\n",
              "      <td>0</td>\n",
              "      <td>0</td>\n",
              "      <td>1</td>\n",
              "    </tr>\n",
              "    <tr>\n",
              "      <th>2</th>\n",
              "      <td>11</td>\n",
              "      <td>2017-01-01</td>\n",
              "      <td>domingo</td>\n",
              "      <td>2020-10-06 00:00:00</td>\n",
              "      <td>PR</td>\n",
              "      <td>153</td>\n",
              "      <td>56.9</td>\n",
              "      <td>SANTO ANTONIO DA PLATINA</td>\n",
              "      <td>Animais na Pista</td>\n",
              "      <td>Capotamento</td>\n",
              "      <td>Com Vítimas Feridas</td>\n",
              "      <td>Garoa/Chuvisco</td>\n",
              "      <td>Simples</td>\n",
              "      <td>Reta</td>\n",
              "      <td>2</td>\n",
              "      <td>0</td>\n",
              "      <td>2</td>\n",
              "      <td>0</td>\n",
              "      <td>0</td>\n",
              "      <td>0</td>\n",
              "      <td>2</td>\n",
              "      <td>1</td>\n",
              "    </tr>\n",
              "    <tr>\n",
              "      <th>3</th>\n",
              "      <td>12</td>\n",
              "      <td>2017-01-01</td>\n",
              "      <td>domingo</td>\n",
              "      <td>2020-10-06 00:00:00</td>\n",
              "      <td>GO</td>\n",
              "      <td>153</td>\n",
              "      <td>435.0</td>\n",
              "      <td>ANAPOLIS</td>\n",
              "      <td>Avarias e/ou desgaste excessivo no pneu</td>\n",
              "      <td>Tombamento</td>\n",
              "      <td>Com Vítimas Feridas</td>\n",
              "      <td>Céu Claro</td>\n",
              "      <td>Dupla</td>\n",
              "      <td>Reta</td>\n",
              "      <td>1</td>\n",
              "      <td>0</td>\n",
              "      <td>0</td>\n",
              "      <td>1</td>\n",
              "      <td>0</td>\n",
              "      <td>0</td>\n",
              "      <td>1</td>\n",
              "      <td>1</td>\n",
              "    </tr>\n",
              "    <tr>\n",
              "      <th>4</th>\n",
              "      <td>13</td>\n",
              "      <td>2017-01-01</td>\n",
              "      <td>domingo</td>\n",
              "      <td>2020-10-06 00:00:00</td>\n",
              "      <td>SC</td>\n",
              "      <td>280</td>\n",
              "      <td>77.3</td>\n",
              "      <td>CORUPA</td>\n",
              "      <td>Ingestão de Álcool</td>\n",
              "      <td>Saída de leito carroçável</td>\n",
              "      <td>Com Vítimas Feridas</td>\n",
              "      <td>Chuva</td>\n",
              "      <td>Simples</td>\n",
              "      <td>Não Informado</td>\n",
              "      <td>1</td>\n",
              "      <td>0</td>\n",
              "      <td>1</td>\n",
              "      <td>0</td>\n",
              "      <td>0</td>\n",
              "      <td>0</td>\n",
              "      <td>1</td>\n",
              "      <td>1</td>\n",
              "    </tr>\n",
              "  </tbody>\n",
              "</table>\n",
              "</div>"
            ],
            "text/plain": [
              "   id data_inversa dia_semana  ... ignorados feridos  veiculos\n",
              "0   8   2017-01-01    domingo  ...         0       1         1\n",
              "1   9   2017-01-01    domingo  ...         0       0         1\n",
              "2  11   2017-01-01    domingo  ...         0       2         1\n",
              "3  12   2017-01-01    domingo  ...         0       1         1\n",
              "4  13   2017-01-01    domingo  ...         0       1         1\n",
              "\n",
              "[5 rows x 22 columns]"
            ]
          },
          "metadata": {
            "tags": []
          },
          "execution_count": 10
        }
      ]
    },
    {
      "cell_type": "markdown",
      "metadata": {
        "id": "z05yg-t8Hqkh"
      },
      "source": [
        "### Base de Pessoas"
      ]
    },
    {
      "cell_type": "code",
      "metadata": {
        "id": "KOMAfN6tHu5U",
        "outputId": "556ec3fe-9e39-4359-9e6f-82996b5d2634",
        "colab": {
          "base_uri": "https://localhost:8080/",
          "height": 745
        }
      },
      "source": [
        "# UNINDO AS 4 ÚLTIMAS BASES DE PESSOAS (2017 a 2020)\n",
        "dfPessoas = import_base('Pessoas')\n",
        "dfPessoas.info()"
      ],
      "execution_count": null,
      "outputs": [
        {
          "output_type": "stream",
          "text": [
            "<class 'pandas.core.frame.DataFrame'>\n",
            "Int64Index: 609882 entries, 0 to 78411\n",
            "Data columns (total 35 columns):\n",
            " #   Column                  Non-Null Count   Dtype  \n",
            "---  ------                  --------------   -----  \n",
            " 0   id                      609882 non-null  float64\n",
            " 1   pesid                   609878 non-null  float64\n",
            " 2   data_inversa            609882 non-null  object \n",
            " 3   dia_semana              609882 non-null  object \n",
            " 4   horario                 609882 non-null  object \n",
            " 5   uf                      609882 non-null  object \n",
            " 6   br                      608891 non-null  float64\n",
            " 7   km                      608891 non-null  object \n",
            " 8   municipio               609882 non-null  object \n",
            " 9   causa_acidente          609882 non-null  object \n",
            " 10  tipo_acidente           609882 non-null  object \n",
            " 11  classificacao_acidente  609882 non-null  object \n",
            " 12  fase_dia                609882 non-null  object \n",
            " 13  sentido_via             609882 non-null  object \n",
            " 14  condicao_metereologica  609882 non-null  object \n",
            " 15  tipo_pista              609882 non-null  object \n",
            " 16  tracado_via             609882 non-null  object \n",
            " 17  uso_solo                609882 non-null  object \n",
            " 18  id_veiculo              609878 non-null  float64\n",
            " 19  tipo_veiculo            609882 non-null  object \n",
            " 20  marca                   580333 non-null  object \n",
            " 21  ano_fabricacao_veiculo  575291 non-null  float64\n",
            " 22  tipo_envolvido          609882 non-null  object \n",
            " 23  estado_fisico           609882 non-null  object \n",
            " 24  idade                   553522 non-null  float64\n",
            " 25  sexo                    609882 non-null  object \n",
            " 26  ilesos                  609882 non-null  int64  \n",
            " 27  feridos_leves           609882 non-null  int64  \n",
            " 28  feridos_graves          609882 non-null  int64  \n",
            " 29  mortos                  609882 non-null  int64  \n",
            " 30  latitude                609882 non-null  object \n",
            " 31  longitude               609882 non-null  object \n",
            " 32  regional                609882 non-null  object \n",
            " 33  delegacia               609882 non-null  object \n",
            " 34  uop                     582049 non-null  object \n",
            "dtypes: float64(6), int64(4), object(25)\n",
            "memory usage: 167.5+ MB\n"
          ],
          "name": "stdout"
        }
      ]
    },
    {
      "cell_type": "code",
      "metadata": {
        "id": "ZAf_GqaUF40A",
        "outputId": "b23910ad-68da-4136-f559-da7292a67637",
        "colab": {
          "base_uri": "https://localhost:8080/",
          "height": 1000
        }
      },
      "source": [
        "# LIMPEZA BASE PESSOAS\n",
        "\n",
        "## Remoção de atributos considerados irrelevantes\n",
        "dfPessoas = dfPessoas.drop(columns=['fase_dia', 'sentido_via', 'uso_solo', 'id_veiculo', 'marca', 'ano_fabricacao_veiculo', 'latitude', 'longitude', 'regional', 'delegacia', 'uop'])\n",
        "\n",
        "## Remove regitros NaN nos atributos br e km\n",
        "t = len(dfPessoas.id)\n",
        "dfPessoas = dfPessoas[dfPessoas['br'].notna()]\n",
        "dfPessoas = dfPessoas[dfPessoas['km'].notna()]\n",
        "print(f'Removidos {t - len(dfPessoas.id)} registros.')\n",
        "\n",
        "## Pessoas com sexo = 'Ignorado' virarão sexo = 'Não Informado'\n",
        "dfPessoas.loc[dfPessoas['sexo'] == 'Ignorado', 'sexo'] = 'Não Informado'\n",
        "\n",
        "## Conversões\n",
        "dfPessoas['id'] = dfPessoas['id'].astype(int)\n",
        "dfPessoas['data_inversa'] = pd.to_datetime(dfPessoas['data_inversa'])\n",
        "dfPessoas['horario'] = pd.to_datetime(dfPessoas['horario'])\n",
        "\n",
        "### Substituindo valores NaN por PESIDs novos\n",
        "qtd_pesid_nan = len(dfPessoas[dfPessoas['pesid'].isna()]['pesid'])\n",
        "dfPessoas.loc[dfPessoas['pesid'].isna(), 'pesid'] = [dfPessoas['pesid'].max() + 1 + i for i in range(qtd_pesid_nan)]\n",
        "dfPessoas['pesid'] = dfPessoas['pesid'].astype(int)\n",
        "\n",
        "### Preenchendo idades faltantes ou outliers com a média dos valores válidos\n",
        "media_idade = dfPessoas.loc[dfPessoas['idade'] <= 110, 'idade'].mean()\n",
        "dfPessoas.loc[(dfPessoas['idade'].isna()) | (dfPessoas['idade'] > 110), 'idade'] = media_idade\n",
        "dfPessoas['idade'] = dfPessoas['idade'].astype(int)\n",
        "\n",
        "dfPessoas.info()\n",
        "dfPessoas.head()"
      ],
      "execution_count": null,
      "outputs": [
        {
          "output_type": "stream",
          "text": [
            "Removidos 991 registros.\n",
            "<class 'pandas.core.frame.DataFrame'>\n",
            "Int64Index: 608891 entries, 0 to 78411\n",
            "Data columns (total 24 columns):\n",
            " #   Column                  Non-Null Count   Dtype         \n",
            "---  ------                  --------------   -----         \n",
            " 0   id                      608891 non-null  int64         \n",
            " 1   pesid                   608891 non-null  int64         \n",
            " 2   data_inversa            608891 non-null  datetime64[ns]\n",
            " 3   dia_semana              608891 non-null  object        \n",
            " 4   horario                 608891 non-null  datetime64[ns]\n",
            " 5   uf                      608891 non-null  object        \n",
            " 6   br                      608891 non-null  float64       \n",
            " 7   km                      608891 non-null  object        \n",
            " 8   municipio               608891 non-null  object        \n",
            " 9   causa_acidente          608891 non-null  object        \n",
            " 10  tipo_acidente           608891 non-null  object        \n",
            " 11  classificacao_acidente  608891 non-null  object        \n",
            " 12  condicao_metereologica  608891 non-null  object        \n",
            " 13  tipo_pista              608891 non-null  object        \n",
            " 14  tracado_via             608891 non-null  object        \n",
            " 15  tipo_veiculo            608891 non-null  object        \n",
            " 16  tipo_envolvido          608891 non-null  object        \n",
            " 17  estado_fisico           608891 non-null  object        \n",
            " 18  idade                   608891 non-null  int64         \n",
            " 19  sexo                    608891 non-null  object        \n",
            " 20  ilesos                  608891 non-null  int64         \n",
            " 21  feridos_leves           608891 non-null  int64         \n",
            " 22  feridos_graves          608891 non-null  int64         \n",
            " 23  mortos                  608891 non-null  int64         \n",
            "dtypes: datetime64[ns](2), float64(1), int64(7), object(14)\n",
            "memory usage: 116.1+ MB\n"
          ],
          "name": "stdout"
        },
        {
          "output_type": "execute_result",
          "data": {
            "text/html": [
              "<div>\n",
              "<style scoped>\n",
              "    .dataframe tbody tr th:only-of-type {\n",
              "        vertical-align: middle;\n",
              "    }\n",
              "\n",
              "    .dataframe tbody tr th {\n",
              "        vertical-align: top;\n",
              "    }\n",
              "\n",
              "    .dataframe thead th {\n",
              "        text-align: right;\n",
              "    }\n",
              "</style>\n",
              "<table border=\"1\" class=\"dataframe\">\n",
              "  <thead>\n",
              "    <tr style=\"text-align: right;\">\n",
              "      <th></th>\n",
              "      <th>id</th>\n",
              "      <th>pesid</th>\n",
              "      <th>data_inversa</th>\n",
              "      <th>dia_semana</th>\n",
              "      <th>horario</th>\n",
              "      <th>uf</th>\n",
              "      <th>br</th>\n",
              "      <th>km</th>\n",
              "      <th>municipio</th>\n",
              "      <th>causa_acidente</th>\n",
              "      <th>tipo_acidente</th>\n",
              "      <th>classificacao_acidente</th>\n",
              "      <th>condicao_metereologica</th>\n",
              "      <th>tipo_pista</th>\n",
              "      <th>tracado_via</th>\n",
              "      <th>tipo_veiculo</th>\n",
              "      <th>tipo_envolvido</th>\n",
              "      <th>estado_fisico</th>\n",
              "      <th>idade</th>\n",
              "      <th>sexo</th>\n",
              "      <th>ilesos</th>\n",
              "      <th>feridos_leves</th>\n",
              "      <th>feridos_graves</th>\n",
              "      <th>mortos</th>\n",
              "    </tr>\n",
              "  </thead>\n",
              "  <tbody>\n",
              "    <tr>\n",
              "      <th>0</th>\n",
              "      <td>8</td>\n",
              "      <td>1</td>\n",
              "      <td>2017-01-01</td>\n",
              "      <td>domingo</td>\n",
              "      <td>2020-10-06 00:00:00</td>\n",
              "      <td>PR</td>\n",
              "      <td>376.0</td>\n",
              "      <td>112</td>\n",
              "      <td>PARANAVAI</td>\n",
              "      <td>Fenômenos da Natureza</td>\n",
              "      <td>Queda de ocupante de veículo</td>\n",
              "      <td>Com Vítimas Feridas</td>\n",
              "      <td>Chuva</td>\n",
              "      <td>Simples</td>\n",
              "      <td>Reta</td>\n",
              "      <td>Motocicleta</td>\n",
              "      <td>Condutor</td>\n",
              "      <td>Lesões Graves</td>\n",
              "      <td>19</td>\n",
              "      <td>Masculino</td>\n",
              "      <td>0</td>\n",
              "      <td>0</td>\n",
              "      <td>1</td>\n",
              "      <td>0</td>\n",
              "    </tr>\n",
              "    <tr>\n",
              "      <th>1</th>\n",
              "      <td>9</td>\n",
              "      <td>955</td>\n",
              "      <td>2017-01-01</td>\n",
              "      <td>domingo</td>\n",
              "      <td>2020-10-06 00:01:00</td>\n",
              "      <td>SC</td>\n",
              "      <td>101.0</td>\n",
              "      <td>234</td>\n",
              "      <td>PALHOCA</td>\n",
              "      <td>Falta de Atenção à Condução</td>\n",
              "      <td>Colisão com objeto estático</td>\n",
              "      <td>Sem Vítimas</td>\n",
              "      <td>Chuva</td>\n",
              "      <td>Dupla</td>\n",
              "      <td>Curva</td>\n",
              "      <td>Automóvel</td>\n",
              "      <td>Condutor</td>\n",
              "      <td>Ileso</td>\n",
              "      <td>35</td>\n",
              "      <td>Masculino</td>\n",
              "      <td>1</td>\n",
              "      <td>0</td>\n",
              "      <td>0</td>\n",
              "      <td>0</td>\n",
              "    </tr>\n",
              "    <tr>\n",
              "      <th>2</th>\n",
              "      <td>11</td>\n",
              "      <td>3</td>\n",
              "      <td>2017-01-01</td>\n",
              "      <td>domingo</td>\n",
              "      <td>2020-10-06 00:00:00</td>\n",
              "      <td>PR</td>\n",
              "      <td>153.0</td>\n",
              "      <td>56,9</td>\n",
              "      <td>SANTO ANTONIO DA PLATINA</td>\n",
              "      <td>Animais na Pista</td>\n",
              "      <td>Capotamento</td>\n",
              "      <td>Com Vítimas Feridas</td>\n",
              "      <td>Garoa/Chuvisco</td>\n",
              "      <td>Simples</td>\n",
              "      <td>Reta</td>\n",
              "      <td>Automóvel</td>\n",
              "      <td>Passageiro</td>\n",
              "      <td>Lesões Leves</td>\n",
              "      <td>27</td>\n",
              "      <td>Masculino</td>\n",
              "      <td>0</td>\n",
              "      <td>1</td>\n",
              "      <td>0</td>\n",
              "      <td>0</td>\n",
              "    </tr>\n",
              "    <tr>\n",
              "      <th>3</th>\n",
              "      <td>11</td>\n",
              "      <td>2</td>\n",
              "      <td>2017-01-01</td>\n",
              "      <td>domingo</td>\n",
              "      <td>2020-10-06 00:00:00</td>\n",
              "      <td>PR</td>\n",
              "      <td>153.0</td>\n",
              "      <td>56,9</td>\n",
              "      <td>SANTO ANTONIO DA PLATINA</td>\n",
              "      <td>Animais na Pista</td>\n",
              "      <td>Capotamento</td>\n",
              "      <td>Com Vítimas Feridas</td>\n",
              "      <td>Garoa/Chuvisco</td>\n",
              "      <td>Simples</td>\n",
              "      <td>Reta</td>\n",
              "      <td>Automóvel</td>\n",
              "      <td>Condutor</td>\n",
              "      <td>Lesões Leves</td>\n",
              "      <td>27</td>\n",
              "      <td>Feminino</td>\n",
              "      <td>0</td>\n",
              "      <td>1</td>\n",
              "      <td>0</td>\n",
              "      <td>0</td>\n",
              "    </tr>\n",
              "    <tr>\n",
              "      <th>4</th>\n",
              "      <td>12</td>\n",
              "      <td>1499</td>\n",
              "      <td>2017-01-01</td>\n",
              "      <td>domingo</td>\n",
              "      <td>2020-10-06 00:00:00</td>\n",
              "      <td>GO</td>\n",
              "      <td>153.0</td>\n",
              "      <td>435</td>\n",
              "      <td>ANAPOLIS</td>\n",
              "      <td>Avarias e/ou desgaste excessivo no pneu</td>\n",
              "      <td>Tombamento</td>\n",
              "      <td>Com Vítimas Feridas</td>\n",
              "      <td>Céu Claro</td>\n",
              "      <td>Dupla</td>\n",
              "      <td>Reta</td>\n",
              "      <td>Motocicleta</td>\n",
              "      <td>Condutor</td>\n",
              "      <td>Lesões Graves</td>\n",
              "      <td>24</td>\n",
              "      <td>Masculino</td>\n",
              "      <td>0</td>\n",
              "      <td>0</td>\n",
              "      <td>1</td>\n",
              "      <td>0</td>\n",
              "    </tr>\n",
              "  </tbody>\n",
              "</table>\n",
              "</div>"
            ],
            "text/plain": [
              "   id  pesid data_inversa  ... feridos_leves feridos_graves mortos\n",
              "0   8      1   2017-01-01  ...             0              1      0\n",
              "1   9    955   2017-01-01  ...             0              0      0\n",
              "2  11      3   2017-01-01  ...             1              0      0\n",
              "3  11      2   2017-01-01  ...             1              0      0\n",
              "4  12   1499   2017-01-01  ...             0              1      0\n",
              "\n",
              "[5 rows x 24 columns]"
            ]
          },
          "metadata": {
            "tags": []
          },
          "execution_count": 12
        }
      ]
    },
    {
      "cell_type": "markdown",
      "metadata": {
        "id": "iqnPE1NmXHf9"
      },
      "source": [
        "# Etapa Modelagem"
      ]
    },
    {
      "cell_type": "markdown",
      "metadata": {
        "id": "a-8GAlEzjjLf"
      },
      "source": [
        "### **Hipóteses Lançadas**\n",
        "\n",
        "---\n",
        "\n",
        "- Base Pessoas :\n",
        "  - Número de Acidentes por Faixa Etária\n",
        "  - Número de Pessoas por Tipo de Acidente\n",
        "  - Número de Acidentes por Sexo\n",
        "- Base Ocorrências:\n",
        "  - Número de Acidentes Totais \n",
        "  - Número de Acidentes por Tipo de Veículo\n",
        "  - Número de Acidentes por Causa de Acidente"
      ]
    },
    {
      "cell_type": "markdown",
      "metadata": {
        "id": "Ku8Vu6juZ1KL"
      },
      "source": [
        "## Funções Regressão"
      ]
    },
    {
      "cell_type": "code",
      "metadata": {
        "id": "POKb6UUxZ6BA"
      },
      "source": [
        "from sklearn.model_selection import train_test_split\n",
        "from sklearn.preprocessing import LabelEncoder, StandardScaler, PolynomialFeatures\n",
        "from sklearn.linear_model import LinearRegression\n",
        "from sklearn.metrics import mean_absolute_error\n",
        "from sklearn.tree import DecisionTreeRegressor\n",
        "from sklearn.ensemble import RandomForestRegressor\n",
        "from sklearn.neural_network import MLPRegressor\n",
        "from sklearn.neighbors import KNeighborsRegressor\n",
        "import plotly.graph_objects as go\n",
        "\n",
        "def hold_out(X, Y, size=0.3):  # Separação da base em treino em teste usando a técnica holdout\n",
        "  return train_test_split(X, Y, test_size=size)\n",
        "\n",
        "def label_encoder(df, attrs):\n",
        "  LE = LabelEncoder()\n",
        "  for i in attrs:\n",
        "    df[i] = LE.fit_transform(df[i])\n",
        "  return df\n",
        "\n",
        "def standard_scaler(X, Y):  # Escalonamento padrão de toda base\n",
        "  SS = StandardScaler()\n",
        "  X = SS.fit_transform(X)\n",
        "  Y = SS.fit_transform(Y)\n",
        "  return X, Y\n",
        "\n",
        "def regressao(regressor, X_train, Y_train, X_test, Y_test):  # Treina o regressor, imprime e retorna suas métricas\n",
        "  regressor.fit(X_train, Y_train)\n",
        "  \n",
        "  score_train = regressor.score(X_train, Y_train)\n",
        "  score_test = regressor.score(X_test, Y_test)\n",
        "  print('Score Treino: ', score_train, '\\nScore Teste: ', score_test)\n",
        "\n",
        "  previsoes = regressor.predict(X_test)\n",
        "  mae = mean_absolute_error(Y_test, previsoes)\n",
        "  print('Erro médio absoluto: ', mae, '\\n')\n",
        "\n",
        "  return score_train, score_test, mae\n",
        "\n",
        "def regressao_linear(X_train, Y_train, X_test, Y_test):  # Cria o modelo de regressão linear\n",
        "  regressor = LinearRegression()\n",
        "  return regressao(regressor, X_train, Y_train, X_test, Y_test)\n",
        "\n",
        "def regressao_polinomial(X_train, Y_train, X_test, Y_test, dg = 3):  # Cria o modelo de regressão polinomial\n",
        "  poly = PolynomialFeatures(degree=dg)\n",
        "  X_poly_train = poly.fit_transform(X_train)\n",
        "  X_poly_test = poly.fit_transform(X_test)\n",
        "\n",
        "  return regressao_linear(X_poly_train, Y_train, X_poly_test, Y_test)\n",
        "\n",
        "def arvore_decisao(X_train, Y_train, X_test, Y_test):  # Cria o modelo de árvore de decisão\n",
        "  regressor = DecisionTreeRegressor()\n",
        "  return regressao(regressor, X_train, Y_train, X_test, Y_test)\n",
        "\n",
        "def floresta_randomica(X_train, Y_train, X_test, Y_test, n=10):  # Cria o modelo de floresta randômica\n",
        "  regressor = RandomForestRegressor(n_estimators=n)\n",
        "  return regressao(regressor, X_train, Y_train, X_test, Y_test)\n",
        "\n",
        "def mlp(X_train, Y_train, X_test, Y_test, hls=(100,)):  # Cria o modelo de MLP \n",
        "  regressor = MLPRegressor(hidden_layer_sizes=hls)\n",
        "  return regressao(regressor, X_train, Y_train, X_test, Y_test)\n",
        "\n",
        "def knr(X_train, Y_train, X_test, Y_test, k=2):  # Cria o modelo de regressão dos k vizinhos \n",
        "  regressor = KNeighborsRegressor(n_neighbors=k)\n",
        "  return regressao(regressor, X_train, Y_train, X_test, Y_test)\n",
        "\n",
        "def plot_scores_bar(regressors, scs1, scs2, title):  # Plota o gráfico de barras dos scores de cada regressor\n",
        "  fig = go.Figure(data=[go.Bar(name='Scores de Treino', x=regressors, y=scs1), go.Bar(name='Scores de Teste', x=regressors, y=scs2)])\n",
        "  fig.update_layout(barmode='group', title_text=title)\n",
        "  fig.show()"
      ],
      "execution_count": null,
      "outputs": []
    },
    {
      "cell_type": "markdown",
      "metadata": {
        "id": "42O44fs9Zy59"
      },
      "source": [
        "## **Base Pessoas**\n",
        "---"
      ]
    },
    {
      "cell_type": "markdown",
      "metadata": {
        "id": "cAWFx6KmlJYE"
      },
      "source": [
        "#### **Hipótese 1:**"
      ]
    },
    {
      "cell_type": "markdown",
      "metadata": {
        "id": "huNuQ-k0mIoZ"
      },
      "source": [
        "##### Agrupando Dados"
      ]
    },
    {
      "cell_type": "code",
      "metadata": {
        "id": "Q8Nqg8jrlkqc",
        "outputId": "677aa38a-1133-4edf-9a7e-79246d7f5378",
        "colab": {
          "base_uri": "https://localhost:8080/",
          "height": 687
        }
      },
      "source": [
        "x = ['ano', 'mes', 'faixa_idade']\n",
        "y = ['qtd_acidentes', 'qtd_pessoas', 'qtd_ilesos', 'qtd_feridos_leves', 'qtd_feridos_graves', 'qtd_mortos']\n",
        "\n",
        "df = dfPessoas.copy()\n",
        "\n",
        "df['idade'].loc[df['idade'] < 24] = 1\n",
        "df['idade'].loc[df['idade'] > 60] = 3\n",
        "df['idade'].loc[df['idade'] >= 24] = 2\n",
        "df['idade'].loc[df['idade'] == 1] = 'Menor de 24 anos' \n",
        "df['idade'].loc[df['idade'] == 3] = 'Maior de 60 anos' \n",
        "df['idade'].loc[df['idade'] == 2] = 'Entre 24 e 60 anos'\n",
        "\n",
        "df = df.groupby([df['data_inversa'].dt.strftime('%Y'), df['data_inversa'].dt.strftime('%B'), 'idade'])\n",
        "df = df.agg({'id': 'nunique', 'pesid': 'nunique', 'ilesos': 'sum', 'feridos_leves': 'sum', 'feridos_graves': 'sum', 'mortos': 'sum'})\n",
        "df.index.names = x\n",
        "df.columns = y\n",
        "df = df.reset_index()\n",
        "\n",
        "df.head()"
      ],
      "execution_count": null,
      "outputs": [
        {
          "output_type": "stream",
          "text": [
            "/usr/local/lib/python3.6/dist-packages/pandas/core/indexing.py:670: SettingWithCopyWarning:\n",
            "\n",
            "\n",
            "A value is trying to be set on a copy of a slice from a DataFrame\n",
            "\n",
            "See the caveats in the documentation: https://pandas.pydata.org/pandas-docs/stable/user_guide/indexing.html#returning-a-view-versus-a-copy\n",
            "\n",
            "/usr/local/lib/python3.6/dist-packages/pandas/core/indexing.py:670: SettingWithCopyWarning:\n",
            "\n",
            "\n",
            "A value is trying to be set on a copy of a slice from a DataFrame\n",
            "\n",
            "See the caveats in the documentation: https://pandas.pydata.org/pandas-docs/stable/user_guide/indexing.html#returning-a-view-versus-a-copy\n",
            "\n",
            "/usr/local/lib/python3.6/dist-packages/pandas/core/indexing.py:670: SettingWithCopyWarning:\n",
            "\n",
            "\n",
            "A value is trying to be set on a copy of a slice from a DataFrame\n",
            "\n",
            "See the caveats in the documentation: https://pandas.pydata.org/pandas-docs/stable/user_guide/indexing.html#returning-a-view-versus-a-copy\n",
            "\n",
            "/usr/local/lib/python3.6/dist-packages/pandas/core/indexing.py:670: SettingWithCopyWarning:\n",
            "\n",
            "\n",
            "A value is trying to be set on a copy of a slice from a DataFrame\n",
            "\n",
            "See the caveats in the documentation: https://pandas.pydata.org/pandas-docs/stable/user_guide/indexing.html#returning-a-view-versus-a-copy\n",
            "\n"
          ],
          "name": "stderr"
        },
        {
          "output_type": "execute_result",
          "data": {
            "text/html": [
              "<div>\n",
              "<style scoped>\n",
              "    .dataframe tbody tr th:only-of-type {\n",
              "        vertical-align: middle;\n",
              "    }\n",
              "\n",
              "    .dataframe tbody tr th {\n",
              "        vertical-align: top;\n",
              "    }\n",
              "\n",
              "    .dataframe thead th {\n",
              "        text-align: right;\n",
              "    }\n",
              "</style>\n",
              "<table border=\"1\" class=\"dataframe\">\n",
              "  <thead>\n",
              "    <tr style=\"text-align: right;\">\n",
              "      <th></th>\n",
              "      <th>ano</th>\n",
              "      <th>mes</th>\n",
              "      <th>faixa_idade</th>\n",
              "      <th>qtd_acidentes</th>\n",
              "      <th>qtd_pessoas</th>\n",
              "      <th>qtd_ilesos</th>\n",
              "      <th>qtd_feridos_leves</th>\n",
              "      <th>qtd_feridos_graves</th>\n",
              "      <th>qtd_mortos</th>\n",
              "    </tr>\n",
              "  </thead>\n",
              "  <tbody>\n",
              "    <tr>\n",
              "      <th>0</th>\n",
              "      <td>2017</td>\n",
              "      <td>April</td>\n",
              "      <td>Entre 24 e 60 anos</td>\n",
              "      <td>7226</td>\n",
              "      <td>14043</td>\n",
              "      <td>7459</td>\n",
              "      <td>4088</td>\n",
              "      <td>1153</td>\n",
              "      <td>381</td>\n",
              "    </tr>\n",
              "    <tr>\n",
              "      <th>1</th>\n",
              "      <td>2017</td>\n",
              "      <td>April</td>\n",
              "      <td>Maior de 60 anos</td>\n",
              "      <td>1045</td>\n",
              "      <td>1274</td>\n",
              "      <td>729</td>\n",
              "      <td>388</td>\n",
              "      <td>104</td>\n",
              "      <td>53</td>\n",
              "    </tr>\n",
              "    <tr>\n",
              "      <th>2</th>\n",
              "      <td>2017</td>\n",
              "      <td>April</td>\n",
              "      <td>Menor de 24 anos</td>\n",
              "      <td>1782</td>\n",
              "      <td>2586</td>\n",
              "      <td>971</td>\n",
              "      <td>1190</td>\n",
              "      <td>344</td>\n",
              "      <td>81</td>\n",
              "    </tr>\n",
              "    <tr>\n",
              "      <th>3</th>\n",
              "      <td>2017</td>\n",
              "      <td>August</td>\n",
              "      <td>Entre 24 e 60 anos</td>\n",
              "      <td>6584</td>\n",
              "      <td>12369</td>\n",
              "      <td>6315</td>\n",
              "      <td>3604</td>\n",
              "      <td>1222</td>\n",
              "      <td>346</td>\n",
              "    </tr>\n",
              "    <tr>\n",
              "      <th>4</th>\n",
              "      <td>2017</td>\n",
              "      <td>August</td>\n",
              "      <td>Maior de 60 anos</td>\n",
              "      <td>957</td>\n",
              "      <td>1116</td>\n",
              "      <td>583</td>\n",
              "      <td>375</td>\n",
              "      <td>93</td>\n",
              "      <td>65</td>\n",
              "    </tr>\n",
              "  </tbody>\n",
              "</table>\n",
              "</div>"
            ],
            "text/plain": [
              "    ano     mes  ... qtd_feridos_graves  qtd_mortos\n",
              "0  2017   April  ...               1153         381\n",
              "1  2017   April  ...                104          53\n",
              "2  2017   April  ...                344          81\n",
              "3  2017  August  ...               1222         346\n",
              "4  2017  August  ...                 93          65\n",
              "\n",
              "[5 rows x 9 columns]"
            ]
          },
          "metadata": {
            "tags": []
          },
          "execution_count": 14
        }
      ]
    },
    {
      "cell_type": "markdown",
      "metadata": {
        "id": "0Qf5gSvrmlRs"
      },
      "source": [
        "##### Tratando Dados"
      ]
    },
    {
      "cell_type": "code",
      "metadata": {
        "id": "fqTCbJ2altnZ"
      },
      "source": [
        "# Label Encoder\n",
        "df_pessoas_tratado = label_encoder(df.copy(), ['mes','faixa_idade'])\n",
        "\n",
        "# Divisão da base\n",
        "X = df_pessoas_tratado[x]\n",
        "Y = df_pessoas_tratado[y]\n",
        "\n",
        "# Standart Scaler\n",
        "# X, Y = standard_scaler(X, Y)\n",
        "\n",
        "X_train, X_test, Y_train, Y_test = hold_out(X, Y)"
      ],
      "execution_count": null,
      "outputs": []
    },
    {
      "cell_type": "markdown",
      "metadata": {
        "id": "2rPXAFlvmv2q"
      },
      "source": [
        "##### Regressão Linear"
      ]
    },
    {
      "cell_type": "code",
      "metadata": {
        "id": "hIfZUSIxmv2s",
        "outputId": "b55a0394-5849-4c53-e816-2150a00d35da",
        "colab": {
          "base_uri": "https://localhost:8080/",
          "height": 245
        }
      },
      "source": [
        "sc1_rl, sc2_rl, mae_rl = regressao_linear(X_train, Y_train, X_test, Y_test)"
      ],
      "execution_count": null,
      "outputs": [
        {
          "output_type": "stream",
          "text": [
            "Score Treino:  0.6308526806555491 \n",
            "Score Teste:  0.6598230108948874\n",
            "Erro médio absoluto:  959.1271245710568 \n",
            "\n"
          ],
          "name": "stdout"
        },
        {
          "output_type": "stream",
          "text": [
            "/usr/local/lib/python3.6/dist-packages/sklearn/base.py:434: FutureWarning:\n",
            "\n",
            "The default value of multioutput (not exposed in score method) will change from 'variance_weighted' to 'uniform_average' in 0.23 to keep consistent with 'metrics.r2_score'. To specify the default value manually and avoid the warning, please either call 'metrics.r2_score' directly or make a custom scorer with 'metrics.make_scorer' (the built-in scorer 'r2' uses multioutput='uniform_average').\n",
            "\n",
            "/usr/local/lib/python3.6/dist-packages/sklearn/base.py:434: FutureWarning:\n",
            "\n",
            "The default value of multioutput (not exposed in score method) will change from 'variance_weighted' to 'uniform_average' in 0.23 to keep consistent with 'metrics.r2_score'. To specify the default value manually and avoid the warning, please either call 'metrics.r2_score' directly or make a custom scorer with 'metrics.make_scorer' (the built-in scorer 'r2' uses multioutput='uniform_average').\n",
            "\n"
          ],
          "name": "stderr"
        }
      ]
    },
    {
      "cell_type": "markdown",
      "metadata": {
        "id": "08_7aipxm5xJ"
      },
      "source": [
        "##### Regressão Polinomial"
      ]
    },
    {
      "cell_type": "code",
      "metadata": {
        "id": "2ZiYTk-Im5xK",
        "outputId": "af93b5e7-cdc5-49e4-9094-f6f576614bfd",
        "colab": {
          "base_uri": "https://localhost:8080/",
          "height": 245
        }
      },
      "source": [
        "sc1_rp, sc2_rp, mae_rp = regressao_polinomial(X_train, Y_train, X_test, Y_test)"
      ],
      "execution_count": null,
      "outputs": [
        {
          "output_type": "stream",
          "text": [
            "Score Treino:  0.9860956153797502 \n",
            "Score Teste:  0.9763372673095564\n",
            "Erro médio absoluto:  203.06904615092483 \n",
            "\n"
          ],
          "name": "stdout"
        },
        {
          "output_type": "stream",
          "text": [
            "/usr/local/lib/python3.6/dist-packages/sklearn/base.py:434: FutureWarning:\n",
            "\n",
            "The default value of multioutput (not exposed in score method) will change from 'variance_weighted' to 'uniform_average' in 0.23 to keep consistent with 'metrics.r2_score'. To specify the default value manually and avoid the warning, please either call 'metrics.r2_score' directly or make a custom scorer with 'metrics.make_scorer' (the built-in scorer 'r2' uses multioutput='uniform_average').\n",
            "\n",
            "/usr/local/lib/python3.6/dist-packages/sklearn/base.py:434: FutureWarning:\n",
            "\n",
            "The default value of multioutput (not exposed in score method) will change from 'variance_weighted' to 'uniform_average' in 0.23 to keep consistent with 'metrics.r2_score'. To specify the default value manually and avoid the warning, please either call 'metrics.r2_score' directly or make a custom scorer with 'metrics.make_scorer' (the built-in scorer 'r2' uses multioutput='uniform_average').\n",
            "\n"
          ],
          "name": "stderr"
        }
      ]
    },
    {
      "cell_type": "markdown",
      "metadata": {
        "id": "D59LCnBAnccV"
      },
      "source": [
        "##### Regressão por Árvore de Decisão"
      ]
    },
    {
      "cell_type": "code",
      "metadata": {
        "id": "RkIAh5TAnccX",
        "outputId": "071e77a8-7b95-4b16-8c3b-0a178d1e73ef",
        "colab": {
          "base_uri": "https://localhost:8080/",
          "height": 245
        }
      },
      "source": [
        "sc1_ad, sc2_ad, mae_ad = arvore_decisao(X_train, Y_train, X_test, Y_test)"
      ],
      "execution_count": null,
      "outputs": [
        {
          "output_type": "stream",
          "text": [
            "Score Treino:  1.0 \n",
            "Score Teste:  0.9607071359997094\n",
            "Erro médio absoluto:  221.08974358974353 \n",
            "\n"
          ],
          "name": "stdout"
        },
        {
          "output_type": "stream",
          "text": [
            "/usr/local/lib/python3.6/dist-packages/sklearn/base.py:434: FutureWarning:\n",
            "\n",
            "The default value of multioutput (not exposed in score method) will change from 'variance_weighted' to 'uniform_average' in 0.23 to keep consistent with 'metrics.r2_score'. To specify the default value manually and avoid the warning, please either call 'metrics.r2_score' directly or make a custom scorer with 'metrics.make_scorer' (the built-in scorer 'r2' uses multioutput='uniform_average').\n",
            "\n",
            "/usr/local/lib/python3.6/dist-packages/sklearn/base.py:434: FutureWarning:\n",
            "\n",
            "The default value of multioutput (not exposed in score method) will change from 'variance_weighted' to 'uniform_average' in 0.23 to keep consistent with 'metrics.r2_score'. To specify the default value manually and avoid the warning, please either call 'metrics.r2_score' directly or make a custom scorer with 'metrics.make_scorer' (the built-in scorer 'r2' uses multioutput='uniform_average').\n",
            "\n"
          ],
          "name": "stderr"
        }
      ]
    },
    {
      "cell_type": "markdown",
      "metadata": {
        "id": "x601qrzInhcY"
      },
      "source": [
        "##### Regressão por Random Forest"
      ]
    },
    {
      "cell_type": "code",
      "metadata": {
        "id": "iLifLyfOnhcZ",
        "outputId": "439eace9-7336-404a-c76c-decf089d91b5",
        "colab": {
          "base_uri": "https://localhost:8080/",
          "height": 245
        }
      },
      "source": [
        "sc1_rf, sc2_rf, mae_rf = floresta_randomica(X_train, Y_train, X_test, Y_test)"
      ],
      "execution_count": null,
      "outputs": [
        {
          "output_type": "stream",
          "text": [
            "Score Treino:  0.9924883766709951 \n",
            "Score Teste:  0.979666890877125\n",
            "Erro médio absoluto:  172.64102564102564 \n",
            "\n"
          ],
          "name": "stdout"
        },
        {
          "output_type": "stream",
          "text": [
            "/usr/local/lib/python3.6/dist-packages/sklearn/base.py:434: FutureWarning:\n",
            "\n",
            "The default value of multioutput (not exposed in score method) will change from 'variance_weighted' to 'uniform_average' in 0.23 to keep consistent with 'metrics.r2_score'. To specify the default value manually and avoid the warning, please either call 'metrics.r2_score' directly or make a custom scorer with 'metrics.make_scorer' (the built-in scorer 'r2' uses multioutput='uniform_average').\n",
            "\n",
            "/usr/local/lib/python3.6/dist-packages/sklearn/base.py:434: FutureWarning:\n",
            "\n",
            "The default value of multioutput (not exposed in score method) will change from 'variance_weighted' to 'uniform_average' in 0.23 to keep consistent with 'metrics.r2_score'. To specify the default value manually and avoid the warning, please either call 'metrics.r2_score' directly or make a custom scorer with 'metrics.make_scorer' (the built-in scorer 'r2' uses multioutput='uniform_average').\n",
            "\n"
          ],
          "name": "stderr"
        }
      ]
    },
    {
      "cell_type": "markdown",
      "metadata": {
        "id": "egsvMugjnm5V"
      },
      "source": [
        "##### Regressão por MLP"
      ]
    },
    {
      "cell_type": "code",
      "metadata": {
        "id": "KJAQKEphnm5Y",
        "outputId": "a709b33a-e1fc-4d40-a590-85e621014bfb",
        "colab": {
          "base_uri": "https://localhost:8080/",
          "height": 245
        }
      },
      "source": [
        "sc1_rn, sc2_rn, mae_rn = mlp(X_train, Y_train, X_test, Y_test, hls=(200, 100))"
      ],
      "execution_count": null,
      "outputs": [
        {
          "output_type": "stream",
          "text": [
            "Score Treino:  -0.001369014116730468 \n",
            "Score Teste:  -0.046380150793003734\n",
            "Erro médio absoluto:  1701.8168619908486 \n",
            "\n"
          ],
          "name": "stdout"
        },
        {
          "output_type": "stream",
          "text": [
            "/usr/local/lib/python3.6/dist-packages/sklearn/base.py:434: FutureWarning:\n",
            "\n",
            "The default value of multioutput (not exposed in score method) will change from 'variance_weighted' to 'uniform_average' in 0.23 to keep consistent with 'metrics.r2_score'. To specify the default value manually and avoid the warning, please either call 'metrics.r2_score' directly or make a custom scorer with 'metrics.make_scorer' (the built-in scorer 'r2' uses multioutput='uniform_average').\n",
            "\n",
            "/usr/local/lib/python3.6/dist-packages/sklearn/base.py:434: FutureWarning:\n",
            "\n",
            "The default value of multioutput (not exposed in score method) will change from 'variance_weighted' to 'uniform_average' in 0.23 to keep consistent with 'metrics.r2_score'. To specify the default value manually and avoid the warning, please either call 'metrics.r2_score' directly or make a custom scorer with 'metrics.make_scorer' (the built-in scorer 'r2' uses multioutput='uniform_average').\n",
            "\n"
          ],
          "name": "stderr"
        }
      ]
    },
    {
      "cell_type": "markdown",
      "metadata": {
        "id": "NtouC8oDns-W"
      },
      "source": [
        "##### Regressão por KNR"
      ]
    },
    {
      "cell_type": "code",
      "metadata": {
        "id": "Iv9j_EHOns-Z",
        "outputId": "2d33dff9-a399-4a3a-a429-5dbd14af23e8",
        "colab": {
          "base_uri": "https://localhost:8080/",
          "height": 245
        }
      },
      "source": [
        "sc1_kn, sc2_kn, mae_kn = knr(X_train, Y_train, X_test, Y_test, k=5)"
      ],
      "execution_count": null,
      "outputs": [
        {
          "output_type": "stream",
          "text": [
            "Score Treino:  0.7503060603186378 \n",
            "Score Teste:  0.2716820112751806\n",
            "Erro médio absoluto:  1204.6914529914532 \n",
            "\n"
          ],
          "name": "stdout"
        },
        {
          "output_type": "stream",
          "text": [
            "/usr/local/lib/python3.6/dist-packages/sklearn/base.py:434: FutureWarning:\n",
            "\n",
            "The default value of multioutput (not exposed in score method) will change from 'variance_weighted' to 'uniform_average' in 0.23 to keep consistent with 'metrics.r2_score'. To specify the default value manually and avoid the warning, please either call 'metrics.r2_score' directly or make a custom scorer with 'metrics.make_scorer' (the built-in scorer 'r2' uses multioutput='uniform_average').\n",
            "\n",
            "/usr/local/lib/python3.6/dist-packages/sklearn/base.py:434: FutureWarning:\n",
            "\n",
            "The default value of multioutput (not exposed in score method) will change from 'variance_weighted' to 'uniform_average' in 0.23 to keep consistent with 'metrics.r2_score'. To specify the default value manually and avoid the warning, please either call 'metrics.r2_score' directly or make a custom scorer with 'metrics.make_scorer' (the built-in scorer 'r2' uses multioutput='uniform_average').\n",
            "\n"
          ],
          "name": "stderr"
        }
      ]
    },
    {
      "cell_type": "markdown",
      "metadata": {
        "id": "y4mr1u97n00Q"
      },
      "source": [
        "#####Resultados"
      ]
    },
    {
      "cell_type": "code",
      "metadata": {
        "id": "zyusU95Fn00S"
      },
      "source": [
        "regressores = ['Linear', 'Polinomial', 'Decision Tree', 'Random Forest', 'MLP', 'KNN']\n",
        "scores_treino = [sc1_rl, sc1_rp, sc1_ad, sc1_rf, sc1_rn, sc1_kn]\n",
        "scores_teste = [sc2_rl, sc2_rp, sc2_ad, sc2_rf, sc2_rn, sc2_kn]\n",
        "maes = [mae_rl, mae_rp, mae_ad, mae_rf, mae_rn, mae_kn]"
      ],
      "execution_count": null,
      "outputs": []
    },
    {
      "cell_type": "code",
      "metadata": {
        "id": "Dre3aSc0n00U",
        "outputId": "2aabeff9-2da7-4df2-c221-78923f90b80e",
        "colab": {
          "base_uri": "https://localhost:8080/",
          "height": 542
        }
      },
      "source": [
        "plot_scores_bar(regressores, scores_treino, scores_teste, 'Scores de TREINO/TESTE dos regressores na base de pessoas agrupadas (Mês, Ano, Faixa Etária).')"
      ],
      "execution_count": null,
      "outputs": [
        {
          "output_type": "display_data",
          "data": {
            "text/html": [
              "<html>\n",
              "<head><meta charset=\"utf-8\" /></head>\n",
              "<body>\n",
              "    <div>\n",
              "            <script src=\"https://cdnjs.cloudflare.com/ajax/libs/mathjax/2.7.5/MathJax.js?config=TeX-AMS-MML_SVG\"></script><script type=\"text/javascript\">if (window.MathJax) {MathJax.Hub.Config({SVG: {font: \"STIX-Web\"}});}</script>\n",
              "                <script type=\"text/javascript\">window.PlotlyConfig = {MathJaxConfig: 'local'};</script>\n",
              "        <script src=\"https://cdn.plot.ly/plotly-latest.min.js\"></script>    \n",
              "            <div id=\"29b12fde-17ba-4721-a90f-86fc23d3f56f\" class=\"plotly-graph-div\" style=\"height:525px; width:100%;\"></div>\n",
              "            <script type=\"text/javascript\">\n",
              "                \n",
              "                    window.PLOTLYENV=window.PLOTLYENV || {};\n",
              "                    \n",
              "                if (document.getElementById(\"29b12fde-17ba-4721-a90f-86fc23d3f56f\")) {\n",
              "                    Plotly.newPlot(\n",
              "                        '29b12fde-17ba-4721-a90f-86fc23d3f56f',\n",
              "                        [{\"name\": \"Scores de Treino\", \"type\": \"bar\", \"x\": [\"Linear\", \"Polinomial\", \"Decision Tree\", \"Random Forest\", \"MLP\", \"KNN\"], \"y\": [0.6308526806555491, 0.9860956153797502, 1.0, 0.9924883766709951, -0.001369014116730468, 0.7503060603186378]}, {\"name\": \"Scores de Teste\", \"type\": \"bar\", \"x\": [\"Linear\", \"Polinomial\", \"Decision Tree\", \"Random Forest\", \"MLP\", \"KNN\"], \"y\": [0.6598230108948874, 0.9763372673095564, 0.9607071359997094, 0.979666890877125, -0.046380150793003734, 0.2716820112751806]}],\n",
              "                        {\"barmode\": \"group\", \"template\": {\"data\": {\"bar\": [{\"error_x\": {\"color\": \"#2a3f5f\"}, \"error_y\": {\"color\": \"#2a3f5f\"}, \"marker\": {\"line\": {\"color\": \"#E5ECF6\", \"width\": 0.5}}, \"type\": \"bar\"}], \"barpolar\": [{\"marker\": {\"line\": {\"color\": \"#E5ECF6\", \"width\": 0.5}}, \"type\": \"barpolar\"}], \"carpet\": [{\"aaxis\": {\"endlinecolor\": \"#2a3f5f\", \"gridcolor\": \"white\", \"linecolor\": \"white\", \"minorgridcolor\": \"white\", \"startlinecolor\": \"#2a3f5f\"}, \"baxis\": {\"endlinecolor\": \"#2a3f5f\", \"gridcolor\": \"white\", \"linecolor\": \"white\", \"minorgridcolor\": \"white\", \"startlinecolor\": \"#2a3f5f\"}, \"type\": \"carpet\"}], \"choropleth\": [{\"colorbar\": {\"outlinewidth\": 0, \"ticks\": \"\"}, \"type\": \"choropleth\"}], \"contour\": [{\"colorbar\": {\"outlinewidth\": 0, \"ticks\": \"\"}, \"colorscale\": [[0.0, \"#0d0887\"], [0.1111111111111111, \"#46039f\"], [0.2222222222222222, \"#7201a8\"], [0.3333333333333333, \"#9c179e\"], [0.4444444444444444, \"#bd3786\"], [0.5555555555555556, \"#d8576b\"], [0.6666666666666666, \"#ed7953\"], [0.7777777777777778, \"#fb9f3a\"], [0.8888888888888888, \"#fdca26\"], [1.0, \"#f0f921\"]], \"type\": \"contour\"}], \"contourcarpet\": [{\"colorbar\": {\"outlinewidth\": 0, \"ticks\": \"\"}, \"type\": \"contourcarpet\"}], \"heatmap\": [{\"colorbar\": {\"outlinewidth\": 0, \"ticks\": \"\"}, \"colorscale\": [[0.0, \"#0d0887\"], [0.1111111111111111, \"#46039f\"], [0.2222222222222222, \"#7201a8\"], [0.3333333333333333, \"#9c179e\"], [0.4444444444444444, \"#bd3786\"], [0.5555555555555556, \"#d8576b\"], [0.6666666666666666, \"#ed7953\"], [0.7777777777777778, \"#fb9f3a\"], [0.8888888888888888, \"#fdca26\"], [1.0, \"#f0f921\"]], \"type\": \"heatmap\"}], \"heatmapgl\": [{\"colorbar\": {\"outlinewidth\": 0, \"ticks\": \"\"}, \"colorscale\": [[0.0, \"#0d0887\"], [0.1111111111111111, \"#46039f\"], [0.2222222222222222, \"#7201a8\"], [0.3333333333333333, \"#9c179e\"], [0.4444444444444444, \"#bd3786\"], [0.5555555555555556, \"#d8576b\"], [0.6666666666666666, \"#ed7953\"], [0.7777777777777778, \"#fb9f3a\"], [0.8888888888888888, \"#fdca26\"], [1.0, \"#f0f921\"]], \"type\": \"heatmapgl\"}], \"histogram\": [{\"marker\": {\"colorbar\": {\"outlinewidth\": 0, \"ticks\": \"\"}}, \"type\": \"histogram\"}], \"histogram2d\": [{\"colorbar\": {\"outlinewidth\": 0, \"ticks\": \"\"}, \"colorscale\": [[0.0, \"#0d0887\"], [0.1111111111111111, \"#46039f\"], [0.2222222222222222, \"#7201a8\"], [0.3333333333333333, \"#9c179e\"], [0.4444444444444444, \"#bd3786\"], [0.5555555555555556, \"#d8576b\"], [0.6666666666666666, \"#ed7953\"], [0.7777777777777778, \"#fb9f3a\"], [0.8888888888888888, \"#fdca26\"], [1.0, \"#f0f921\"]], \"type\": \"histogram2d\"}], \"histogram2dcontour\": [{\"colorbar\": {\"outlinewidth\": 0, \"ticks\": \"\"}, \"colorscale\": [[0.0, \"#0d0887\"], [0.1111111111111111, \"#46039f\"], [0.2222222222222222, \"#7201a8\"], [0.3333333333333333, \"#9c179e\"], [0.4444444444444444, \"#bd3786\"], [0.5555555555555556, \"#d8576b\"], [0.6666666666666666, \"#ed7953\"], [0.7777777777777778, \"#fb9f3a\"], [0.8888888888888888, \"#fdca26\"], [1.0, \"#f0f921\"]], \"type\": \"histogram2dcontour\"}], \"mesh3d\": [{\"colorbar\": {\"outlinewidth\": 0, \"ticks\": \"\"}, \"type\": \"mesh3d\"}], \"parcoords\": [{\"line\": {\"colorbar\": {\"outlinewidth\": 0, \"ticks\": \"\"}}, \"type\": \"parcoords\"}], \"pie\": [{\"automargin\": true, \"type\": \"pie\"}], \"scatter\": [{\"marker\": {\"colorbar\": {\"outlinewidth\": 0, \"ticks\": \"\"}}, \"type\": \"scatter\"}], \"scatter3d\": [{\"line\": {\"colorbar\": {\"outlinewidth\": 0, \"ticks\": \"\"}}, \"marker\": {\"colorbar\": {\"outlinewidth\": 0, \"ticks\": \"\"}}, \"type\": \"scatter3d\"}], \"scattercarpet\": [{\"marker\": {\"colorbar\": {\"outlinewidth\": 0, \"ticks\": \"\"}}, \"type\": \"scattercarpet\"}], \"scattergeo\": [{\"marker\": {\"colorbar\": {\"outlinewidth\": 0, \"ticks\": \"\"}}, \"type\": \"scattergeo\"}], \"scattergl\": [{\"marker\": {\"colorbar\": {\"outlinewidth\": 0, \"ticks\": \"\"}}, \"type\": \"scattergl\"}], \"scattermapbox\": [{\"marker\": {\"colorbar\": {\"outlinewidth\": 0, \"ticks\": \"\"}}, \"type\": \"scattermapbox\"}], \"scatterpolar\": [{\"marker\": {\"colorbar\": {\"outlinewidth\": 0, \"ticks\": \"\"}}, \"type\": \"scatterpolar\"}], \"scatterpolargl\": [{\"marker\": {\"colorbar\": {\"outlinewidth\": 0, \"ticks\": \"\"}}, \"type\": \"scatterpolargl\"}], \"scatterternary\": [{\"marker\": {\"colorbar\": {\"outlinewidth\": 0, \"ticks\": \"\"}}, \"type\": \"scatterternary\"}], \"surface\": [{\"colorbar\": {\"outlinewidth\": 0, \"ticks\": \"\"}, \"colorscale\": [[0.0, \"#0d0887\"], [0.1111111111111111, \"#46039f\"], [0.2222222222222222, \"#7201a8\"], [0.3333333333333333, \"#9c179e\"], [0.4444444444444444, \"#bd3786\"], [0.5555555555555556, \"#d8576b\"], [0.6666666666666666, \"#ed7953\"], [0.7777777777777778, \"#fb9f3a\"], [0.8888888888888888, \"#fdca26\"], [1.0, \"#f0f921\"]], \"type\": \"surface\"}], \"table\": [{\"cells\": {\"fill\": {\"color\": \"#EBF0F8\"}, \"line\": {\"color\": \"white\"}}, \"header\": {\"fill\": {\"color\": \"#C8D4E3\"}, \"line\": {\"color\": \"white\"}}, \"type\": \"table\"}]}, \"layout\": {\"annotationdefaults\": {\"arrowcolor\": \"#2a3f5f\", \"arrowhead\": 0, \"arrowwidth\": 1}, \"coloraxis\": {\"colorbar\": {\"outlinewidth\": 0, \"ticks\": \"\"}}, \"colorscale\": {\"diverging\": [[0, \"#8e0152\"], [0.1, \"#c51b7d\"], [0.2, \"#de77ae\"], [0.3, \"#f1b6da\"], [0.4, \"#fde0ef\"], [0.5, \"#f7f7f7\"], [0.6, \"#e6f5d0\"], [0.7, \"#b8e186\"], [0.8, \"#7fbc41\"], [0.9, \"#4d9221\"], [1, \"#276419\"]], \"sequential\": [[0.0, \"#0d0887\"], [0.1111111111111111, \"#46039f\"], [0.2222222222222222, \"#7201a8\"], [0.3333333333333333, \"#9c179e\"], [0.4444444444444444, \"#bd3786\"], [0.5555555555555556, \"#d8576b\"], [0.6666666666666666, \"#ed7953\"], [0.7777777777777778, \"#fb9f3a\"], [0.8888888888888888, \"#fdca26\"], [1.0, \"#f0f921\"]], \"sequentialminus\": [[0.0, \"#0d0887\"], [0.1111111111111111, \"#46039f\"], [0.2222222222222222, \"#7201a8\"], [0.3333333333333333, \"#9c179e\"], [0.4444444444444444, \"#bd3786\"], [0.5555555555555556, \"#d8576b\"], [0.6666666666666666, \"#ed7953\"], [0.7777777777777778, \"#fb9f3a\"], [0.8888888888888888, \"#fdca26\"], [1.0, \"#f0f921\"]]}, \"colorway\": [\"#636efa\", \"#EF553B\", \"#00cc96\", \"#ab63fa\", \"#FFA15A\", \"#19d3f3\", \"#FF6692\", \"#B6E880\", \"#FF97FF\", \"#FECB52\"], \"font\": {\"color\": \"#2a3f5f\"}, \"geo\": {\"bgcolor\": \"white\", \"lakecolor\": \"white\", \"landcolor\": \"#E5ECF6\", \"showlakes\": true, \"showland\": true, \"subunitcolor\": \"white\"}, \"hoverlabel\": {\"align\": \"left\"}, \"hovermode\": \"closest\", \"mapbox\": {\"style\": \"light\"}, \"paper_bgcolor\": \"white\", \"plot_bgcolor\": \"#E5ECF6\", \"polar\": {\"angularaxis\": {\"gridcolor\": \"white\", \"linecolor\": \"white\", \"ticks\": \"\"}, \"bgcolor\": \"#E5ECF6\", \"radialaxis\": {\"gridcolor\": \"white\", \"linecolor\": \"white\", \"ticks\": \"\"}}, \"scene\": {\"xaxis\": {\"backgroundcolor\": \"#E5ECF6\", \"gridcolor\": \"white\", \"gridwidth\": 2, \"linecolor\": \"white\", \"showbackground\": true, \"ticks\": \"\", \"zerolinecolor\": \"white\"}, \"yaxis\": {\"backgroundcolor\": \"#E5ECF6\", \"gridcolor\": \"white\", \"gridwidth\": 2, \"linecolor\": \"white\", \"showbackground\": true, \"ticks\": \"\", \"zerolinecolor\": \"white\"}, \"zaxis\": {\"backgroundcolor\": \"#E5ECF6\", \"gridcolor\": \"white\", \"gridwidth\": 2, \"linecolor\": \"white\", \"showbackground\": true, \"ticks\": \"\", \"zerolinecolor\": \"white\"}}, \"shapedefaults\": {\"line\": {\"color\": \"#2a3f5f\"}}, \"ternary\": {\"aaxis\": {\"gridcolor\": \"white\", \"linecolor\": \"white\", \"ticks\": \"\"}, \"baxis\": {\"gridcolor\": \"white\", \"linecolor\": \"white\", \"ticks\": \"\"}, \"bgcolor\": \"#E5ECF6\", \"caxis\": {\"gridcolor\": \"white\", \"linecolor\": \"white\", \"ticks\": \"\"}}, \"title\": {\"x\": 0.05}, \"xaxis\": {\"automargin\": true, \"gridcolor\": \"white\", \"linecolor\": \"white\", \"ticks\": \"\", \"title\": {\"standoff\": 15}, \"zerolinecolor\": \"white\", \"zerolinewidth\": 2}, \"yaxis\": {\"automargin\": true, \"gridcolor\": \"white\", \"linecolor\": \"white\", \"ticks\": \"\", \"title\": {\"standoff\": 15}, \"zerolinecolor\": \"white\", \"zerolinewidth\": 2}}}, \"title\": {\"text\": \"Scores de TREINO/TESTE dos regressores na base de pessoas agrupadas (M\\u00eas, Ano, Faixa Et\\u00e1ria).\"}},\n",
              "                        {\"responsive\": true}\n",
              "                    ).then(function(){\n",
              "                            \n",
              "var gd = document.getElementById('29b12fde-17ba-4721-a90f-86fc23d3f56f');\n",
              "var x = new MutationObserver(function (mutations, observer) {{\n",
              "        var display = window.getComputedStyle(gd).display;\n",
              "        if (!display || display === 'none') {{\n",
              "            console.log([gd, 'removed!']);\n",
              "            Plotly.purge(gd);\n",
              "            observer.disconnect();\n",
              "        }}\n",
              "}});\n",
              "\n",
              "// Listen for the removal of the full notebook cells\n",
              "var notebookContainer = gd.closest('#notebook-container');\n",
              "if (notebookContainer) {{\n",
              "    x.observe(notebookContainer, {childList: true});\n",
              "}}\n",
              "\n",
              "// Listen for the clearing of the current output cell\n",
              "var outputEl = gd.closest('.output');\n",
              "if (outputEl) {{\n",
              "    x.observe(outputEl, {childList: true});\n",
              "}}\n",
              "\n",
              "                        })\n",
              "                };\n",
              "                \n",
              "            </script>\n",
              "        </div>\n",
              "</body>\n",
              "</html>"
            ]
          },
          "metadata": {
            "tags": []
          }
        }
      ]
    },
    {
      "cell_type": "code",
      "metadata": {
        "id": "y2mDfHkFn00W",
        "outputId": "91108e6a-d17e-49aa-f327-997c2a5d8442",
        "colab": {
          "base_uri": "https://localhost:8080/",
          "height": 542
        }
      },
      "source": [
        "px.bar(x=regressores, y=maes, color=maes , title='ERRO MÉDIO ABSOLUTO dos regressores na base de pessoas agrupadas (Mês, Ano, Faixa Etária).', labels={'x': 'Regressores', 'y': 'MAE'})"
      ],
      "execution_count": null,
      "outputs": [
        {
          "output_type": "display_data",
          "data": {
            "text/html": [
              "<html>\n",
              "<head><meta charset=\"utf-8\" /></head>\n",
              "<body>\n",
              "    <div>\n",
              "            <script src=\"https://cdnjs.cloudflare.com/ajax/libs/mathjax/2.7.5/MathJax.js?config=TeX-AMS-MML_SVG\"></script><script type=\"text/javascript\">if (window.MathJax) {MathJax.Hub.Config({SVG: {font: \"STIX-Web\"}});}</script>\n",
              "                <script type=\"text/javascript\">window.PlotlyConfig = {MathJaxConfig: 'local'};</script>\n",
              "        <script src=\"https://cdn.plot.ly/plotly-latest.min.js\"></script>    \n",
              "            <div id=\"fed50191-0a9d-4c51-8d44-38a38eddfebd\" class=\"plotly-graph-div\" style=\"height:525px; width:100%;\"></div>\n",
              "            <script type=\"text/javascript\">\n",
              "                \n",
              "                    window.PLOTLYENV=window.PLOTLYENV || {};\n",
              "                    \n",
              "                if (document.getElementById(\"fed50191-0a9d-4c51-8d44-38a38eddfebd\")) {\n",
              "                    Plotly.newPlot(\n",
              "                        'fed50191-0a9d-4c51-8d44-38a38eddfebd',\n",
              "                        [{\"alignmentgroup\": \"True\", \"hoverlabel\": {\"namelength\": 0}, \"hovertemplate\": \"Regressores=%{x}<br>MAE=%{y}<br>color=%{marker.color}\", \"legendgroup\": \"\", \"marker\": {\"color\": [959.1271245710568, 203.06904615092483, 221.08974358974353, 172.64102564102564, 1701.8168619908486, 1204.6914529914532], \"coloraxis\": \"coloraxis\"}, \"name\": \"\", \"offsetgroup\": \"\", \"orientation\": \"v\", \"showlegend\": false, \"textposition\": \"auto\", \"type\": \"bar\", \"x\": [\"Linear\", \"Polinomial\", \"Decision Tree\", \"Random Forest\", \"MLP\", \"KNN\"], \"xaxis\": \"x\", \"y\": [959.1271245710568, 203.06904615092483, 221.08974358974353, 172.64102564102564, 1701.8168619908486, 1204.6914529914532], \"yaxis\": \"y\"}],\n",
              "                        {\"barmode\": \"relative\", \"coloraxis\": {\"colorbar\": {\"title\": {\"text\": \"color\"}}, \"colorscale\": [[0.0, \"#0d0887\"], [0.1111111111111111, \"#46039f\"], [0.2222222222222222, \"#7201a8\"], [0.3333333333333333, \"#9c179e\"], [0.4444444444444444, \"#bd3786\"], [0.5555555555555556, \"#d8576b\"], [0.6666666666666666, \"#ed7953\"], [0.7777777777777778, \"#fb9f3a\"], [0.8888888888888888, \"#fdca26\"], [1.0, \"#f0f921\"]]}, \"legend\": {\"tracegroupgap\": 0}, \"template\": {\"data\": {\"bar\": [{\"error_x\": {\"color\": \"#2a3f5f\"}, \"error_y\": {\"color\": \"#2a3f5f\"}, \"marker\": {\"line\": {\"color\": \"#E5ECF6\", \"width\": 0.5}}, \"type\": \"bar\"}], \"barpolar\": [{\"marker\": {\"line\": {\"color\": \"#E5ECF6\", \"width\": 0.5}}, \"type\": \"barpolar\"}], \"carpet\": [{\"aaxis\": {\"endlinecolor\": \"#2a3f5f\", \"gridcolor\": \"white\", \"linecolor\": \"white\", \"minorgridcolor\": \"white\", \"startlinecolor\": \"#2a3f5f\"}, \"baxis\": {\"endlinecolor\": \"#2a3f5f\", \"gridcolor\": \"white\", \"linecolor\": \"white\", \"minorgridcolor\": \"white\", \"startlinecolor\": \"#2a3f5f\"}, \"type\": \"carpet\"}], \"choropleth\": [{\"colorbar\": {\"outlinewidth\": 0, \"ticks\": \"\"}, \"type\": \"choropleth\"}], \"contour\": [{\"colorbar\": {\"outlinewidth\": 0, \"ticks\": \"\"}, \"colorscale\": [[0.0, \"#0d0887\"], [0.1111111111111111, \"#46039f\"], [0.2222222222222222, \"#7201a8\"], [0.3333333333333333, \"#9c179e\"], [0.4444444444444444, \"#bd3786\"], [0.5555555555555556, \"#d8576b\"], [0.6666666666666666, \"#ed7953\"], [0.7777777777777778, \"#fb9f3a\"], [0.8888888888888888, \"#fdca26\"], [1.0, \"#f0f921\"]], \"type\": \"contour\"}], \"contourcarpet\": [{\"colorbar\": {\"outlinewidth\": 0, \"ticks\": \"\"}, \"type\": \"contourcarpet\"}], \"heatmap\": [{\"colorbar\": {\"outlinewidth\": 0, \"ticks\": \"\"}, \"colorscale\": [[0.0, \"#0d0887\"], [0.1111111111111111, \"#46039f\"], [0.2222222222222222, \"#7201a8\"], [0.3333333333333333, \"#9c179e\"], [0.4444444444444444, \"#bd3786\"], [0.5555555555555556, \"#d8576b\"], [0.6666666666666666, \"#ed7953\"], [0.7777777777777778, \"#fb9f3a\"], [0.8888888888888888, \"#fdca26\"], [1.0, \"#f0f921\"]], \"type\": \"heatmap\"}], \"heatmapgl\": [{\"colorbar\": {\"outlinewidth\": 0, \"ticks\": \"\"}, \"colorscale\": [[0.0, \"#0d0887\"], [0.1111111111111111, \"#46039f\"], [0.2222222222222222, \"#7201a8\"], [0.3333333333333333, \"#9c179e\"], [0.4444444444444444, \"#bd3786\"], [0.5555555555555556, \"#d8576b\"], [0.6666666666666666, \"#ed7953\"], [0.7777777777777778, \"#fb9f3a\"], [0.8888888888888888, \"#fdca26\"], [1.0, \"#f0f921\"]], \"type\": \"heatmapgl\"}], \"histogram\": [{\"marker\": {\"colorbar\": {\"outlinewidth\": 0, \"ticks\": \"\"}}, \"type\": \"histogram\"}], \"histogram2d\": [{\"colorbar\": {\"outlinewidth\": 0, \"ticks\": \"\"}, \"colorscale\": [[0.0, \"#0d0887\"], [0.1111111111111111, \"#46039f\"], [0.2222222222222222, \"#7201a8\"], [0.3333333333333333, \"#9c179e\"], [0.4444444444444444, \"#bd3786\"], [0.5555555555555556, \"#d8576b\"], [0.6666666666666666, \"#ed7953\"], [0.7777777777777778, \"#fb9f3a\"], [0.8888888888888888, \"#fdca26\"], [1.0, \"#f0f921\"]], \"type\": \"histogram2d\"}], \"histogram2dcontour\": [{\"colorbar\": {\"outlinewidth\": 0, \"ticks\": \"\"}, \"colorscale\": [[0.0, \"#0d0887\"], [0.1111111111111111, \"#46039f\"], [0.2222222222222222, \"#7201a8\"], [0.3333333333333333, \"#9c179e\"], [0.4444444444444444, \"#bd3786\"], [0.5555555555555556, \"#d8576b\"], [0.6666666666666666, \"#ed7953\"], [0.7777777777777778, \"#fb9f3a\"], [0.8888888888888888, \"#fdca26\"], [1.0, \"#f0f921\"]], \"type\": \"histogram2dcontour\"}], \"mesh3d\": [{\"colorbar\": {\"outlinewidth\": 0, \"ticks\": \"\"}, \"type\": \"mesh3d\"}], \"parcoords\": [{\"line\": {\"colorbar\": {\"outlinewidth\": 0, \"ticks\": \"\"}}, \"type\": \"parcoords\"}], \"pie\": [{\"automargin\": true, \"type\": \"pie\"}], \"scatter\": [{\"marker\": {\"colorbar\": {\"outlinewidth\": 0, \"ticks\": \"\"}}, \"type\": \"scatter\"}], \"scatter3d\": [{\"line\": {\"colorbar\": {\"outlinewidth\": 0, \"ticks\": \"\"}}, \"marker\": {\"colorbar\": {\"outlinewidth\": 0, \"ticks\": \"\"}}, \"type\": \"scatter3d\"}], \"scattercarpet\": [{\"marker\": {\"colorbar\": {\"outlinewidth\": 0, \"ticks\": \"\"}}, \"type\": \"scattercarpet\"}], \"scattergeo\": [{\"marker\": {\"colorbar\": {\"outlinewidth\": 0, \"ticks\": \"\"}}, \"type\": \"scattergeo\"}], \"scattergl\": [{\"marker\": {\"colorbar\": {\"outlinewidth\": 0, \"ticks\": \"\"}}, \"type\": \"scattergl\"}], \"scattermapbox\": [{\"marker\": {\"colorbar\": {\"outlinewidth\": 0, \"ticks\": \"\"}}, \"type\": \"scattermapbox\"}], \"scatterpolar\": [{\"marker\": {\"colorbar\": {\"outlinewidth\": 0, \"ticks\": \"\"}}, \"type\": \"scatterpolar\"}], \"scatterpolargl\": [{\"marker\": {\"colorbar\": {\"outlinewidth\": 0, \"ticks\": \"\"}}, \"type\": \"scatterpolargl\"}], \"scatterternary\": [{\"marker\": {\"colorbar\": {\"outlinewidth\": 0, \"ticks\": \"\"}}, \"type\": \"scatterternary\"}], \"surface\": [{\"colorbar\": {\"outlinewidth\": 0, \"ticks\": \"\"}, \"colorscale\": [[0.0, \"#0d0887\"], [0.1111111111111111, \"#46039f\"], [0.2222222222222222, \"#7201a8\"], [0.3333333333333333, \"#9c179e\"], [0.4444444444444444, \"#bd3786\"], [0.5555555555555556, \"#d8576b\"], [0.6666666666666666, \"#ed7953\"], [0.7777777777777778, \"#fb9f3a\"], [0.8888888888888888, \"#fdca26\"], [1.0, \"#f0f921\"]], \"type\": \"surface\"}], \"table\": [{\"cells\": {\"fill\": {\"color\": \"#EBF0F8\"}, \"line\": {\"color\": \"white\"}}, \"header\": {\"fill\": {\"color\": \"#C8D4E3\"}, \"line\": {\"color\": \"white\"}}, \"type\": \"table\"}]}, \"layout\": {\"annotationdefaults\": {\"arrowcolor\": \"#2a3f5f\", \"arrowhead\": 0, \"arrowwidth\": 1}, \"coloraxis\": {\"colorbar\": {\"outlinewidth\": 0, \"ticks\": \"\"}}, \"colorscale\": {\"diverging\": [[0, \"#8e0152\"], [0.1, \"#c51b7d\"], [0.2, \"#de77ae\"], [0.3, \"#f1b6da\"], [0.4, \"#fde0ef\"], [0.5, \"#f7f7f7\"], [0.6, \"#e6f5d0\"], [0.7, \"#b8e186\"], [0.8, \"#7fbc41\"], [0.9, \"#4d9221\"], [1, \"#276419\"]], \"sequential\": [[0.0, \"#0d0887\"], [0.1111111111111111, \"#46039f\"], [0.2222222222222222, \"#7201a8\"], [0.3333333333333333, \"#9c179e\"], [0.4444444444444444, \"#bd3786\"], [0.5555555555555556, \"#d8576b\"], [0.6666666666666666, \"#ed7953\"], [0.7777777777777778, \"#fb9f3a\"], [0.8888888888888888, \"#fdca26\"], [1.0, \"#f0f921\"]], \"sequentialminus\": [[0.0, \"#0d0887\"], [0.1111111111111111, \"#46039f\"], [0.2222222222222222, \"#7201a8\"], [0.3333333333333333, \"#9c179e\"], [0.4444444444444444, \"#bd3786\"], [0.5555555555555556, \"#d8576b\"], [0.6666666666666666, \"#ed7953\"], [0.7777777777777778, \"#fb9f3a\"], [0.8888888888888888, \"#fdca26\"], [1.0, \"#f0f921\"]]}, \"colorway\": [\"#636efa\", \"#EF553B\", \"#00cc96\", \"#ab63fa\", \"#FFA15A\", \"#19d3f3\", \"#FF6692\", \"#B6E880\", \"#FF97FF\", \"#FECB52\"], \"font\": {\"color\": \"#2a3f5f\"}, \"geo\": {\"bgcolor\": \"white\", \"lakecolor\": \"white\", \"landcolor\": \"#E5ECF6\", \"showlakes\": true, \"showland\": true, \"subunitcolor\": \"white\"}, \"hoverlabel\": {\"align\": \"left\"}, \"hovermode\": \"closest\", \"mapbox\": {\"style\": \"light\"}, \"paper_bgcolor\": \"white\", \"plot_bgcolor\": \"#E5ECF6\", \"polar\": {\"angularaxis\": {\"gridcolor\": \"white\", \"linecolor\": \"white\", \"ticks\": \"\"}, \"bgcolor\": \"#E5ECF6\", \"radialaxis\": {\"gridcolor\": \"white\", \"linecolor\": \"white\", \"ticks\": \"\"}}, \"scene\": {\"xaxis\": {\"backgroundcolor\": \"#E5ECF6\", \"gridcolor\": \"white\", \"gridwidth\": 2, \"linecolor\": \"white\", \"showbackground\": true, \"ticks\": \"\", \"zerolinecolor\": \"white\"}, \"yaxis\": {\"backgroundcolor\": \"#E5ECF6\", \"gridcolor\": \"white\", \"gridwidth\": 2, \"linecolor\": \"white\", \"showbackground\": true, \"ticks\": \"\", \"zerolinecolor\": \"white\"}, \"zaxis\": {\"backgroundcolor\": \"#E5ECF6\", \"gridcolor\": \"white\", \"gridwidth\": 2, \"linecolor\": \"white\", \"showbackground\": true, \"ticks\": \"\", \"zerolinecolor\": \"white\"}}, \"shapedefaults\": {\"line\": {\"color\": \"#2a3f5f\"}}, \"ternary\": {\"aaxis\": {\"gridcolor\": \"white\", \"linecolor\": \"white\", \"ticks\": \"\"}, \"baxis\": {\"gridcolor\": \"white\", \"linecolor\": \"white\", \"ticks\": \"\"}, \"bgcolor\": \"#E5ECF6\", \"caxis\": {\"gridcolor\": \"white\", \"linecolor\": \"white\", \"ticks\": \"\"}}, \"title\": {\"x\": 0.05}, \"xaxis\": {\"automargin\": true, \"gridcolor\": \"white\", \"linecolor\": \"white\", \"ticks\": \"\", \"title\": {\"standoff\": 15}, \"zerolinecolor\": \"white\", \"zerolinewidth\": 2}, \"yaxis\": {\"automargin\": true, \"gridcolor\": \"white\", \"linecolor\": \"white\", \"ticks\": \"\", \"title\": {\"standoff\": 15}, \"zerolinecolor\": \"white\", \"zerolinewidth\": 2}}}, \"title\": {\"text\": \"ERRO M\\u00c9DIO ABSOLUTO dos regressores na base de pessoas agrupadas (M\\u00eas, Ano, Faixa Et\\u00e1ria).\"}, \"xaxis\": {\"anchor\": \"y\", \"domain\": [0.0, 1.0], \"title\": {\"text\": \"Regressores\"}}, \"yaxis\": {\"anchor\": \"x\", \"domain\": [0.0, 1.0], \"title\": {\"text\": \"MAE\"}}},\n",
              "                        {\"responsive\": true}\n",
              "                    ).then(function(){\n",
              "                            \n",
              "var gd = document.getElementById('fed50191-0a9d-4c51-8d44-38a38eddfebd');\n",
              "var x = new MutationObserver(function (mutations, observer) {{\n",
              "        var display = window.getComputedStyle(gd).display;\n",
              "        if (!display || display === 'none') {{\n",
              "            console.log([gd, 'removed!']);\n",
              "            Plotly.purge(gd);\n",
              "            observer.disconnect();\n",
              "        }}\n",
              "}});\n",
              "\n",
              "// Listen for the removal of the full notebook cells\n",
              "var notebookContainer = gd.closest('#notebook-container');\n",
              "if (notebookContainer) {{\n",
              "    x.observe(notebookContainer, {childList: true});\n",
              "}}\n",
              "\n",
              "// Listen for the clearing of the current output cell\n",
              "var outputEl = gd.closest('.output');\n",
              "if (outputEl) {{\n",
              "    x.observe(outputEl, {childList: true});\n",
              "}}\n",
              "\n",
              "                        })\n",
              "                };\n",
              "                \n",
              "            </script>\n",
              "        </div>\n",
              "</body>\n",
              "</html>"
            ]
          },
          "metadata": {
            "tags": []
          }
        }
      ]
    },
    {
      "cell_type": "markdown",
      "metadata": {
        "id": "lILAhHtGn4RY"
      },
      "source": [
        "##### Extrapolação dos dados"
      ]
    },
    {
      "cell_type": "markdown",
      "metadata": {
        "id": "QGdhF61Yn4Ra"
      },
      "source": [
        "###### Criando as novas amostras (X)"
      ]
    },
    {
      "cell_type": "code",
      "metadata": {
        "id": "wymu0-ycn4Rd"
      },
      "source": [
        "import numpy as np\n",
        "monthNames = ['July', 'August', 'September', 'October', 'November', 'December'];\n",
        "ano = ['2020']\n",
        "faixa_idade = df['faixa_idade'].unique()\n",
        "\n",
        "comb  = np.array(np.meshgrid(ano, monthNames, faixa_idade)).T.reshape(-1,3)\n",
        "df_novo1 = pd.DataFrame(comb, columns=['ano', 'mes', 'faixa_idade'])\n",
        "\n",
        "monthNames = [\"January\"];\n",
        "ano = ['2021']\n",
        "\n",
        "comb  = np.array(np.meshgrid(ano, monthNames, faixa_idade)).T.reshape(-1,3)\n",
        "df_novo2 = pd.DataFrame(comb, columns=['ano', 'mes', 'faixa_idade'])\n",
        "\n",
        "df_novo = pd.concat([df_novo1, df_novo2])\n",
        "df_novo.index = [i for i in range(len(df_novo))]\n",
        "\n",
        "df_novo_concatenado = pd.concat([df, df_novo])\n",
        "\n",
        "LE = LabelEncoder()\n",
        "df_novo_concatenado['faixa_idade'] = LE.fit_transform(df_novo_concatenado['faixa_idade'])\n",
        "meses = ['January', 'February', 'March', 'April', 'May', 'June', 'July', 'August', 'September', 'October', 'November', 'December']\n",
        "for mes in meses:\n",
        "  df_novo_concatenado.loc[df_novo_concatenado.mes == mes, 'mes'] = meses.index(mes) + 1\n",
        "df_novo_concatenado.index = [i for i in range(len(df_novo_concatenado))]"
      ],
      "execution_count": null,
      "outputs": []
    },
    {
      "cell_type": "markdown",
      "metadata": {
        "id": "XGhufs-Dn4Rk"
      },
      "source": [
        "###### Dividindo a base em treino e teste"
      ]
    },
    {
      "cell_type": "code",
      "metadata": {
        "id": "_wJuL9Mdn4Rl"
      },
      "source": [
        "X_train = df_novo_concatenado[:len(df)][x]\n",
        "X_test = df_novo_concatenado[len(df):][x]\n",
        "Y_train = df[y]"
      ],
      "execution_count": null,
      "outputs": []
    },
    {
      "cell_type": "markdown",
      "metadata": {
        "id": "bo9L_DYTn4Rp"
      },
      "source": [
        "######Random Forest"
      ]
    },
    {
      "cell_type": "code",
      "metadata": {
        "id": "qDwmmig2n4Rq",
        "outputId": "49c0e713-1bb6-4194-f13e-604e1a319df4",
        "colab": {
          "base_uri": "https://localhost:8080/",
          "height": 693
        }
      },
      "source": [
        "regressor = RandomForestRegressor()\n",
        "regressor.fit(X_train, Y_train)\n",
        "\n",
        "previsoes = regressor.predict(X_test)\n",
        "\n",
        "previsoes = pd.DataFrame(previsoes)\n",
        "previsoes.columns = y\n",
        "\n",
        "previsoes = pd.concat([df_novo, previsoes], axis=1)\n",
        "for mes in meses:\n",
        "  previsoes.loc[previsoes.mes == mes, 'mes'] = meses.index(mes) + 1\n",
        "previsoes"
      ],
      "execution_count": null,
      "outputs": [
        {
          "output_type": "execute_result",
          "data": {
            "text/html": [
              "<div>\n",
              "<style scoped>\n",
              "    .dataframe tbody tr th:only-of-type {\n",
              "        vertical-align: middle;\n",
              "    }\n",
              "\n",
              "    .dataframe tbody tr th {\n",
              "        vertical-align: top;\n",
              "    }\n",
              "\n",
              "    .dataframe thead th {\n",
              "        text-align: right;\n",
              "    }\n",
              "</style>\n",
              "<table border=\"1\" class=\"dataframe\">\n",
              "  <thead>\n",
              "    <tr style=\"text-align: right;\">\n",
              "      <th></th>\n",
              "      <th>ano</th>\n",
              "      <th>mes</th>\n",
              "      <th>faixa_idade</th>\n",
              "      <th>qtd_acidentes</th>\n",
              "      <th>qtd_pessoas</th>\n",
              "      <th>qtd_ilesos</th>\n",
              "      <th>qtd_feridos_leves</th>\n",
              "      <th>qtd_feridos_graves</th>\n",
              "      <th>qtd_mortos</th>\n",
              "    </tr>\n",
              "  </thead>\n",
              "  <tbody>\n",
              "    <tr>\n",
              "      <th>0</th>\n",
              "      <td>2020</td>\n",
              "      <td>7</td>\n",
              "      <td>Entre 24 e 60 anos</td>\n",
              "      <td>4648.63</td>\n",
              "      <td>8926.07</td>\n",
              "      <td>3941.28</td>\n",
              "      <td>2952.38</td>\n",
              "      <td>914.37</td>\n",
              "      <td>316.42</td>\n",
              "    </tr>\n",
              "    <tr>\n",
              "      <th>1</th>\n",
              "      <td>2020</td>\n",
              "      <td>8</td>\n",
              "      <td>Entre 24 e 60 anos</td>\n",
              "      <td>4647.65</td>\n",
              "      <td>8897.53</td>\n",
              "      <td>3917.53</td>\n",
              "      <td>2953.64</td>\n",
              "      <td>910.50</td>\n",
              "      <td>314.60</td>\n",
              "    </tr>\n",
              "    <tr>\n",
              "      <th>2</th>\n",
              "      <td>2020</td>\n",
              "      <td>9</td>\n",
              "      <td>Entre 24 e 60 anos</td>\n",
              "      <td>4659.87</td>\n",
              "      <td>8910.80</td>\n",
              "      <td>3921.65</td>\n",
              "      <td>2962.22</td>\n",
              "      <td>910.75</td>\n",
              "      <td>313.83</td>\n",
              "    </tr>\n",
              "    <tr>\n",
              "      <th>3</th>\n",
              "      <td>2020</td>\n",
              "      <td>10</td>\n",
              "      <td>Entre 24 e 60 anos</td>\n",
              "      <td>4659.25</td>\n",
              "      <td>8920.50</td>\n",
              "      <td>3926.62</td>\n",
              "      <td>2963.27</td>\n",
              "      <td>918.08</td>\n",
              "      <td>313.04</td>\n",
              "    </tr>\n",
              "    <tr>\n",
              "      <th>4</th>\n",
              "      <td>2020</td>\n",
              "      <td>11</td>\n",
              "      <td>Entre 24 e 60 anos</td>\n",
              "      <td>4655.70</td>\n",
              "      <td>8915.35</td>\n",
              "      <td>3930.87</td>\n",
              "      <td>2956.82</td>\n",
              "      <td>911.93</td>\n",
              "      <td>314.74</td>\n",
              "    </tr>\n",
              "    <tr>\n",
              "      <th>5</th>\n",
              "      <td>2020</td>\n",
              "      <td>12</td>\n",
              "      <td>Entre 24 e 60 anos</td>\n",
              "      <td>4754.68</td>\n",
              "      <td>9166.35</td>\n",
              "      <td>4047.81</td>\n",
              "      <td>3049.50</td>\n",
              "      <td>942.45</td>\n",
              "      <td>317.70</td>\n",
              "    </tr>\n",
              "    <tr>\n",
              "      <th>6</th>\n",
              "      <td>2020</td>\n",
              "      <td>7</td>\n",
              "      <td>Maior de 60 anos</td>\n",
              "      <td>648.99</td>\n",
              "      <td>738.28</td>\n",
              "      <td>346.16</td>\n",
              "      <td>252.00</td>\n",
              "      <td>95.23</td>\n",
              "      <td>44.89</td>\n",
              "    </tr>\n",
              "    <tr>\n",
              "      <th>7</th>\n",
              "      <td>2020</td>\n",
              "      <td>8</td>\n",
              "      <td>Maior de 60 anos</td>\n",
              "      <td>648.06</td>\n",
              "      <td>737.81</td>\n",
              "      <td>345.42</td>\n",
              "      <td>252.01</td>\n",
              "      <td>95.12</td>\n",
              "      <td>45.26</td>\n",
              "    </tr>\n",
              "    <tr>\n",
              "      <th>8</th>\n",
              "      <td>2020</td>\n",
              "      <td>9</td>\n",
              "      <td>Maior de 60 anos</td>\n",
              "      <td>647.92</td>\n",
              "      <td>737.07</td>\n",
              "      <td>344.96</td>\n",
              "      <td>252.17</td>\n",
              "      <td>94.86</td>\n",
              "      <td>45.08</td>\n",
              "    </tr>\n",
              "    <tr>\n",
              "      <th>9</th>\n",
              "      <td>2020</td>\n",
              "      <td>10</td>\n",
              "      <td>Maior de 60 anos</td>\n",
              "      <td>648.12</td>\n",
              "      <td>737.27</td>\n",
              "      <td>345.18</td>\n",
              "      <td>252.17</td>\n",
              "      <td>95.02</td>\n",
              "      <td>44.90</td>\n",
              "    </tr>\n",
              "    <tr>\n",
              "      <th>10</th>\n",
              "      <td>2020</td>\n",
              "      <td>11</td>\n",
              "      <td>Maior de 60 anos</td>\n",
              "      <td>647.94</td>\n",
              "      <td>737.61</td>\n",
              "      <td>345.60</td>\n",
              "      <td>252.15</td>\n",
              "      <td>94.60</td>\n",
              "      <td>45.26</td>\n",
              "    </tr>\n",
              "    <tr>\n",
              "      <th>11</th>\n",
              "      <td>2020</td>\n",
              "      <td>12</td>\n",
              "      <td>Maior de 60 anos</td>\n",
              "      <td>651.87</td>\n",
              "      <td>742.37</td>\n",
              "      <td>347.58</td>\n",
              "      <td>254.24</td>\n",
              "      <td>95.46</td>\n",
              "      <td>45.09</td>\n",
              "    </tr>\n",
              "    <tr>\n",
              "      <th>12</th>\n",
              "      <td>2020</td>\n",
              "      <td>7</td>\n",
              "      <td>Menor de 24 anos</td>\n",
              "      <td>1193.06</td>\n",
              "      <td>1592.46</td>\n",
              "      <td>466.45</td>\n",
              "      <td>820.87</td>\n",
              "      <td>243.50</td>\n",
              "      <td>61.64</td>\n",
              "    </tr>\n",
              "    <tr>\n",
              "      <th>13</th>\n",
              "      <td>2020</td>\n",
              "      <td>8</td>\n",
              "      <td>Menor de 24 anos</td>\n",
              "      <td>1195.90</td>\n",
              "      <td>1593.52</td>\n",
              "      <td>462.28</td>\n",
              "      <td>825.48</td>\n",
              "      <td>245.24</td>\n",
              "      <td>60.52</td>\n",
              "    </tr>\n",
              "    <tr>\n",
              "      <th>14</th>\n",
              "      <td>2020</td>\n",
              "      <td>9</td>\n",
              "      <td>Menor de 24 anos</td>\n",
              "      <td>1197.70</td>\n",
              "      <td>1600.53</td>\n",
              "      <td>467.01</td>\n",
              "      <td>828.13</td>\n",
              "      <td>243.98</td>\n",
              "      <td>61.41</td>\n",
              "    </tr>\n",
              "    <tr>\n",
              "      <th>15</th>\n",
              "      <td>2020</td>\n",
              "      <td>10</td>\n",
              "      <td>Menor de 24 anos</td>\n",
              "      <td>1214.90</td>\n",
              "      <td>1625.09</td>\n",
              "      <td>474.69</td>\n",
              "      <td>840.02</td>\n",
              "      <td>248.25</td>\n",
              "      <td>62.13</td>\n",
              "    </tr>\n",
              "    <tr>\n",
              "      <th>16</th>\n",
              "      <td>2020</td>\n",
              "      <td>11</td>\n",
              "      <td>Menor de 24 anos</td>\n",
              "      <td>1235.62</td>\n",
              "      <td>1655.58</td>\n",
              "      <td>479.24</td>\n",
              "      <td>860.64</td>\n",
              "      <td>253.40</td>\n",
              "      <td>62.30</td>\n",
              "    </tr>\n",
              "    <tr>\n",
              "      <th>17</th>\n",
              "      <td>2020</td>\n",
              "      <td>12</td>\n",
              "      <td>Menor de 24 anos</td>\n",
              "      <td>1527.01</td>\n",
              "      <td>2193.77</td>\n",
              "      <td>658.98</td>\n",
              "      <td>1144.10</td>\n",
              "      <td>312.25</td>\n",
              "      <td>78.44</td>\n",
              "    </tr>\n",
              "    <tr>\n",
              "      <th>18</th>\n",
              "      <td>2021</td>\n",
              "      <td>1</td>\n",
              "      <td>Entre 24 e 60 anos</td>\n",
              "      <td>5013.45</td>\n",
              "      <td>10211.69</td>\n",
              "      <td>4464.69</td>\n",
              "      <td>3645.92</td>\n",
              "      <td>1045.40</td>\n",
              "      <td>292.94</td>\n",
              "    </tr>\n",
              "    <tr>\n",
              "      <th>19</th>\n",
              "      <td>2021</td>\n",
              "      <td>1</td>\n",
              "      <td>Maior de 60 anos</td>\n",
              "      <td>912.55</td>\n",
              "      <td>1128.62</td>\n",
              "      <td>506.84</td>\n",
              "      <td>441.82</td>\n",
              "      <td>121.39</td>\n",
              "      <td>58.57</td>\n",
              "    </tr>\n",
              "    <tr>\n",
              "      <th>20</th>\n",
              "      <td>2021</td>\n",
              "      <td>1</td>\n",
              "      <td>Menor de 24 anos</td>\n",
              "      <td>1351.03</td>\n",
              "      <td>1940.47</td>\n",
              "      <td>573.50</td>\n",
              "      <td>1045.00</td>\n",
              "      <td>271.44</td>\n",
              "      <td>50.53</td>\n",
              "    </tr>\n",
              "  </tbody>\n",
              "</table>\n",
              "</div>"
            ],
            "text/plain": [
              "     ano mes  ... qtd_feridos_graves  qtd_mortos\n",
              "0   2020   7  ...             914.37      316.42\n",
              "1   2020   8  ...             910.50      314.60\n",
              "2   2020   9  ...             910.75      313.83\n",
              "3   2020  10  ...             918.08      313.04\n",
              "4   2020  11  ...             911.93      314.74\n",
              "5   2020  12  ...             942.45      317.70\n",
              "6   2020   7  ...              95.23       44.89\n",
              "7   2020   8  ...              95.12       45.26\n",
              "8   2020   9  ...              94.86       45.08\n",
              "9   2020  10  ...              95.02       44.90\n",
              "10  2020  11  ...              94.60       45.26\n",
              "11  2020  12  ...              95.46       45.09\n",
              "12  2020   7  ...             243.50       61.64\n",
              "13  2020   8  ...             245.24       60.52\n",
              "14  2020   9  ...             243.98       61.41\n",
              "15  2020  10  ...             248.25       62.13\n",
              "16  2020  11  ...             253.40       62.30\n",
              "17  2020  12  ...             312.25       78.44\n",
              "18  2021   1  ...            1045.40      292.94\n",
              "19  2021   1  ...             121.39       58.57\n",
              "20  2021   1  ...             271.44       50.53\n",
              "\n",
              "[21 rows x 9 columns]"
            ]
          },
          "metadata": {
            "tags": []
          },
          "execution_count": 27
        }
      ]
    },
    {
      "cell_type": "markdown",
      "metadata": {
        "id": "405jUNbYoPkR"
      },
      "source": [
        "##### Plot Extrapolação"
      ]
    },
    {
      "cell_type": "code",
      "metadata": {
        "id": "gh0DsJ22oPkS"
      },
      "source": [
        "def cria_data_plot(attr):\n",
        "  data_plot = list()\n",
        "  for faixa_idade in df_plot.faixa_idade.unique():\n",
        "    data = df_plot[df_plot.faixa_idade == faixa_idade]\n",
        "    data_plot.append(go.Line(name=(faixa_idade + '- Real'), x=data.mes.values, y=data[attr].values))\n",
        "\n",
        "  for faixa_idade in previsoes.faixa_idade.unique():\n",
        "    data = previsoes[(previsoes.faixa_idade == faixa_idade) & (previsoes.ano == '2020')]\n",
        "    data_plot.append(go.Line(name=(faixa_idade + '- Previsto'), x=data.mes.values, y=data[attr].values))\n",
        "  return data_plot\n"
      ],
      "execution_count": null,
      "outputs": []
    },
    {
      "cell_type": "code",
      "metadata": {
        "id": "5Pe3hY15oPkV"
      },
      "source": [
        "df_novo_concatenado['faixa_idade'] = LE.inverse_transform(df_novo_concatenado['faixa_idade'])\n",
        "\n",
        "df_plot = df_novo_concatenado[:len(df)][df_novo_concatenado[:len(df)]['ano'] == '2020']\n",
        "df_plot = df_plot.sort_values('mes')"
      ],
      "execution_count": null,
      "outputs": []
    },
    {
      "cell_type": "markdown",
      "metadata": {
        "id": "bUJe5pdHoPkW"
      },
      "source": [
        "###### Quantidade de Acidentes"
      ]
    },
    {
      "cell_type": "code",
      "metadata": {
        "id": "jLYdTDYnoPkX",
        "outputId": "9fe3d882-efc4-45c8-b73d-ac6afac51ce3",
        "colab": {
          "base_uri": "https://localhost:8080/",
          "height": 698
        }
      },
      "source": [
        "data_plot = cria_data_plot('qtd_acidentes')\n",
        "fig = go.Figure(data=data_plot)\n",
        "fig.update_layout(title_text='Quantidade de acidentes por mês em 2020 em cada Faixa Etária - Dados reais e previstos')\n",
        "fig.show()"
      ],
      "execution_count": null,
      "outputs": [
        {
          "output_type": "stream",
          "text": [
            "/usr/local/lib/python3.6/dist-packages/plotly/graph_objs/_deprecations.py:385: DeprecationWarning:\n",
            "\n",
            "plotly.graph_objs.Line is deprecated.\n",
            "Please replace it with one of the following more specific types\n",
            "  - plotly.graph_objs.scatter.Line\n",
            "  - plotly.graph_objs.layout.shape.Line\n",
            "  - etc.\n",
            "\n",
            "\n"
          ],
          "name": "stderr"
        },
        {
          "output_type": "display_data",
          "data": {
            "text/html": [
              "<html>\n",
              "<head><meta charset=\"utf-8\" /></head>\n",
              "<body>\n",
              "    <div>\n",
              "            <script src=\"https://cdnjs.cloudflare.com/ajax/libs/mathjax/2.7.5/MathJax.js?config=TeX-AMS-MML_SVG\"></script><script type=\"text/javascript\">if (window.MathJax) {MathJax.Hub.Config({SVG: {font: \"STIX-Web\"}});}</script>\n",
              "                <script type=\"text/javascript\">window.PlotlyConfig = {MathJaxConfig: 'local'};</script>\n",
              "        <script src=\"https://cdn.plot.ly/plotly-latest.min.js\"></script>    \n",
              "            <div id=\"1a59c67b-1ba1-4f7f-ba20-8afdcff5526d\" class=\"plotly-graph-div\" style=\"height:525px; width:100%;\"></div>\n",
              "            <script type=\"text/javascript\">\n",
              "                \n",
              "                    window.PLOTLYENV=window.PLOTLYENV || {};\n",
              "                    \n",
              "                if (document.getElementById(\"1a59c67b-1ba1-4f7f-ba20-8afdcff5526d\")) {\n",
              "                    Plotly.newPlot(\n",
              "                        '1a59c67b-1ba1-4f7f-ba20-8afdcff5526d',\n",
              "                        [{\"name\": \"Entre 24 e 60 anos- Real\", \"type\": \"scatter\", \"x\": [1, 2, 3, 4, 5, 6, 7], \"y\": [5144.0, 5110.0, 4445.0, 3603.0, 4347.0, 4394.0, 4741.0]}, {\"name\": \"Maior de 60 anos- Real\", \"type\": \"scatter\", \"x\": [1, 2, 3, 4, 5, 6, 7], \"y\": [952.0, 870.0, 724.0, 434.0, 574.0, 597.0, 691.0]}, {\"name\": \"Menor de 24 anos- Real\", \"type\": \"scatter\", \"x\": [1, 2, 3, 4, 5, 6, 7], \"y\": [1406.0, 1357.0, 1045.0, 848.0, 971.0, 1061.0, 1230.0]}, {\"name\": \"Entre 24 e 60 anos- Previsto\", \"type\": \"scatter\", \"x\": [7, 8, 9, 10, 11, 12], \"y\": [4648.63, 4647.65, 4659.87, 4659.25, 4655.7, 4754.68]}, {\"name\": \"Maior de 60 anos- Previsto\", \"type\": \"scatter\", \"x\": [7, 8, 9, 10, 11, 12], \"y\": [648.99, 648.06, 647.92, 648.12, 647.94, 651.87]}, {\"name\": \"Menor de 24 anos- Previsto\", \"type\": \"scatter\", \"x\": [7, 8, 9, 10, 11, 12], \"y\": [1193.06, 1195.9, 1197.7, 1214.9, 1235.62, 1527.01]}],\n",
              "                        {\"template\": {\"data\": {\"bar\": [{\"error_x\": {\"color\": \"#2a3f5f\"}, \"error_y\": {\"color\": \"#2a3f5f\"}, \"marker\": {\"line\": {\"color\": \"#E5ECF6\", \"width\": 0.5}}, \"type\": \"bar\"}], \"barpolar\": [{\"marker\": {\"line\": {\"color\": \"#E5ECF6\", \"width\": 0.5}}, \"type\": \"barpolar\"}], \"carpet\": [{\"aaxis\": {\"endlinecolor\": \"#2a3f5f\", \"gridcolor\": \"white\", \"linecolor\": \"white\", \"minorgridcolor\": \"white\", \"startlinecolor\": \"#2a3f5f\"}, \"baxis\": {\"endlinecolor\": \"#2a3f5f\", \"gridcolor\": \"white\", \"linecolor\": \"white\", \"minorgridcolor\": \"white\", \"startlinecolor\": \"#2a3f5f\"}, \"type\": \"carpet\"}], \"choropleth\": [{\"colorbar\": {\"outlinewidth\": 0, \"ticks\": \"\"}, \"type\": \"choropleth\"}], \"contour\": [{\"colorbar\": {\"outlinewidth\": 0, \"ticks\": \"\"}, \"colorscale\": [[0.0, \"#0d0887\"], [0.1111111111111111, \"#46039f\"], [0.2222222222222222, \"#7201a8\"], [0.3333333333333333, \"#9c179e\"], [0.4444444444444444, \"#bd3786\"], [0.5555555555555556, \"#d8576b\"], [0.6666666666666666, \"#ed7953\"], [0.7777777777777778, \"#fb9f3a\"], [0.8888888888888888, \"#fdca26\"], [1.0, \"#f0f921\"]], \"type\": \"contour\"}], \"contourcarpet\": [{\"colorbar\": {\"outlinewidth\": 0, \"ticks\": \"\"}, \"type\": \"contourcarpet\"}], \"heatmap\": [{\"colorbar\": {\"outlinewidth\": 0, \"ticks\": \"\"}, \"colorscale\": [[0.0, \"#0d0887\"], [0.1111111111111111, \"#46039f\"], [0.2222222222222222, \"#7201a8\"], [0.3333333333333333, \"#9c179e\"], [0.4444444444444444, \"#bd3786\"], [0.5555555555555556, \"#d8576b\"], [0.6666666666666666, \"#ed7953\"], [0.7777777777777778, \"#fb9f3a\"], [0.8888888888888888, \"#fdca26\"], [1.0, \"#f0f921\"]], \"type\": \"heatmap\"}], \"heatmapgl\": [{\"colorbar\": {\"outlinewidth\": 0, \"ticks\": \"\"}, \"colorscale\": [[0.0, \"#0d0887\"], [0.1111111111111111, \"#46039f\"], [0.2222222222222222, \"#7201a8\"], [0.3333333333333333, \"#9c179e\"], [0.4444444444444444, \"#bd3786\"], [0.5555555555555556, \"#d8576b\"], [0.6666666666666666, \"#ed7953\"], [0.7777777777777778, \"#fb9f3a\"], [0.8888888888888888, \"#fdca26\"], [1.0, \"#f0f921\"]], \"type\": \"heatmapgl\"}], \"histogram\": [{\"marker\": {\"colorbar\": {\"outlinewidth\": 0, \"ticks\": \"\"}}, \"type\": \"histogram\"}], \"histogram2d\": [{\"colorbar\": {\"outlinewidth\": 0, \"ticks\": \"\"}, \"colorscale\": [[0.0, \"#0d0887\"], [0.1111111111111111, \"#46039f\"], [0.2222222222222222, \"#7201a8\"], [0.3333333333333333, \"#9c179e\"], [0.4444444444444444, \"#bd3786\"], [0.5555555555555556, \"#d8576b\"], [0.6666666666666666, \"#ed7953\"], [0.7777777777777778, \"#fb9f3a\"], [0.8888888888888888, \"#fdca26\"], [1.0, \"#f0f921\"]], \"type\": \"histogram2d\"}], \"histogram2dcontour\": [{\"colorbar\": {\"outlinewidth\": 0, \"ticks\": \"\"}, \"colorscale\": [[0.0, \"#0d0887\"], [0.1111111111111111, \"#46039f\"], [0.2222222222222222, \"#7201a8\"], [0.3333333333333333, \"#9c179e\"], [0.4444444444444444, \"#bd3786\"], [0.5555555555555556, \"#d8576b\"], [0.6666666666666666, \"#ed7953\"], [0.7777777777777778, \"#fb9f3a\"], [0.8888888888888888, \"#fdca26\"], [1.0, \"#f0f921\"]], \"type\": \"histogram2dcontour\"}], \"mesh3d\": [{\"colorbar\": {\"outlinewidth\": 0, \"ticks\": \"\"}, \"type\": \"mesh3d\"}], \"parcoords\": [{\"line\": {\"colorbar\": {\"outlinewidth\": 0, \"ticks\": \"\"}}, \"type\": \"parcoords\"}], \"pie\": [{\"automargin\": true, \"type\": \"pie\"}], \"scatter\": [{\"marker\": {\"colorbar\": {\"outlinewidth\": 0, \"ticks\": \"\"}}, \"type\": \"scatter\"}], \"scatter3d\": [{\"line\": {\"colorbar\": {\"outlinewidth\": 0, \"ticks\": \"\"}}, \"marker\": {\"colorbar\": {\"outlinewidth\": 0, \"ticks\": \"\"}}, \"type\": \"scatter3d\"}], \"scattercarpet\": [{\"marker\": {\"colorbar\": {\"outlinewidth\": 0, \"ticks\": \"\"}}, \"type\": \"scattercarpet\"}], \"scattergeo\": [{\"marker\": {\"colorbar\": {\"outlinewidth\": 0, \"ticks\": \"\"}}, \"type\": \"scattergeo\"}], \"scattergl\": [{\"marker\": {\"colorbar\": {\"outlinewidth\": 0, \"ticks\": \"\"}}, \"type\": \"scattergl\"}], \"scattermapbox\": [{\"marker\": {\"colorbar\": {\"outlinewidth\": 0, \"ticks\": \"\"}}, \"type\": \"scattermapbox\"}], \"scatterpolar\": [{\"marker\": {\"colorbar\": {\"outlinewidth\": 0, \"ticks\": \"\"}}, \"type\": \"scatterpolar\"}], \"scatterpolargl\": [{\"marker\": {\"colorbar\": {\"outlinewidth\": 0, \"ticks\": \"\"}}, \"type\": \"scatterpolargl\"}], \"scatterternary\": [{\"marker\": {\"colorbar\": {\"outlinewidth\": 0, \"ticks\": \"\"}}, \"type\": \"scatterternary\"}], \"surface\": [{\"colorbar\": {\"outlinewidth\": 0, \"ticks\": \"\"}, \"colorscale\": [[0.0, \"#0d0887\"], [0.1111111111111111, \"#46039f\"], [0.2222222222222222, \"#7201a8\"], [0.3333333333333333, \"#9c179e\"], [0.4444444444444444, \"#bd3786\"], [0.5555555555555556, \"#d8576b\"], [0.6666666666666666, \"#ed7953\"], [0.7777777777777778, \"#fb9f3a\"], [0.8888888888888888, \"#fdca26\"], [1.0, \"#f0f921\"]], \"type\": \"surface\"}], \"table\": [{\"cells\": {\"fill\": {\"color\": \"#EBF0F8\"}, \"line\": {\"color\": \"white\"}}, \"header\": {\"fill\": {\"color\": \"#C8D4E3\"}, \"line\": {\"color\": \"white\"}}, \"type\": \"table\"}]}, \"layout\": {\"annotationdefaults\": {\"arrowcolor\": \"#2a3f5f\", \"arrowhead\": 0, \"arrowwidth\": 1}, \"coloraxis\": {\"colorbar\": {\"outlinewidth\": 0, \"ticks\": \"\"}}, \"colorscale\": {\"diverging\": [[0, \"#8e0152\"], [0.1, \"#c51b7d\"], [0.2, \"#de77ae\"], [0.3, \"#f1b6da\"], [0.4, \"#fde0ef\"], [0.5, \"#f7f7f7\"], [0.6, \"#e6f5d0\"], [0.7, \"#b8e186\"], [0.8, \"#7fbc41\"], [0.9, \"#4d9221\"], [1, \"#276419\"]], \"sequential\": [[0.0, \"#0d0887\"], [0.1111111111111111, \"#46039f\"], [0.2222222222222222, \"#7201a8\"], [0.3333333333333333, \"#9c179e\"], [0.4444444444444444, \"#bd3786\"], [0.5555555555555556, \"#d8576b\"], [0.6666666666666666, \"#ed7953\"], [0.7777777777777778, \"#fb9f3a\"], [0.8888888888888888, \"#fdca26\"], [1.0, \"#f0f921\"]], \"sequentialminus\": [[0.0, \"#0d0887\"], [0.1111111111111111, \"#46039f\"], [0.2222222222222222, \"#7201a8\"], [0.3333333333333333, \"#9c179e\"], [0.4444444444444444, \"#bd3786\"], [0.5555555555555556, \"#d8576b\"], [0.6666666666666666, \"#ed7953\"], [0.7777777777777778, \"#fb9f3a\"], [0.8888888888888888, \"#fdca26\"], [1.0, \"#f0f921\"]]}, \"colorway\": [\"#636efa\", \"#EF553B\", \"#00cc96\", \"#ab63fa\", \"#FFA15A\", \"#19d3f3\", \"#FF6692\", \"#B6E880\", \"#FF97FF\", \"#FECB52\"], \"font\": {\"color\": \"#2a3f5f\"}, \"geo\": {\"bgcolor\": \"white\", \"lakecolor\": \"white\", \"landcolor\": \"#E5ECF6\", \"showlakes\": true, \"showland\": true, \"subunitcolor\": \"white\"}, \"hoverlabel\": {\"align\": \"left\"}, \"hovermode\": \"closest\", \"mapbox\": {\"style\": \"light\"}, \"paper_bgcolor\": \"white\", \"plot_bgcolor\": \"#E5ECF6\", \"polar\": {\"angularaxis\": {\"gridcolor\": \"white\", \"linecolor\": \"white\", \"ticks\": \"\"}, \"bgcolor\": \"#E5ECF6\", \"radialaxis\": {\"gridcolor\": \"white\", \"linecolor\": \"white\", \"ticks\": \"\"}}, \"scene\": {\"xaxis\": {\"backgroundcolor\": \"#E5ECF6\", \"gridcolor\": \"white\", \"gridwidth\": 2, \"linecolor\": \"white\", \"showbackground\": true, \"ticks\": \"\", \"zerolinecolor\": \"white\"}, \"yaxis\": {\"backgroundcolor\": \"#E5ECF6\", \"gridcolor\": \"white\", \"gridwidth\": 2, \"linecolor\": \"white\", \"showbackground\": true, \"ticks\": \"\", \"zerolinecolor\": \"white\"}, \"zaxis\": {\"backgroundcolor\": \"#E5ECF6\", \"gridcolor\": \"white\", \"gridwidth\": 2, \"linecolor\": \"white\", \"showbackground\": true, \"ticks\": \"\", \"zerolinecolor\": \"white\"}}, \"shapedefaults\": {\"line\": {\"color\": \"#2a3f5f\"}}, \"ternary\": {\"aaxis\": {\"gridcolor\": \"white\", \"linecolor\": \"white\", \"ticks\": \"\"}, \"baxis\": {\"gridcolor\": \"white\", \"linecolor\": \"white\", \"ticks\": \"\"}, \"bgcolor\": \"#E5ECF6\", \"caxis\": {\"gridcolor\": \"white\", \"linecolor\": \"white\", \"ticks\": \"\"}}, \"title\": {\"x\": 0.05}, \"xaxis\": {\"automargin\": true, \"gridcolor\": \"white\", \"linecolor\": \"white\", \"ticks\": \"\", \"title\": {\"standoff\": 15}, \"zerolinecolor\": \"white\", \"zerolinewidth\": 2}, \"yaxis\": {\"automargin\": true, \"gridcolor\": \"white\", \"linecolor\": \"white\", \"ticks\": \"\", \"title\": {\"standoff\": 15}, \"zerolinecolor\": \"white\", \"zerolinewidth\": 2}}}, \"title\": {\"text\": \"Quantidade de acidentes por m\\u00eas em 2020 em cada Faixa Et\\u00e1ria - Dados reais e previstos\"}},\n",
              "                        {\"responsive\": true}\n",
              "                    ).then(function(){\n",
              "                            \n",
              "var gd = document.getElementById('1a59c67b-1ba1-4f7f-ba20-8afdcff5526d');\n",
              "var x = new MutationObserver(function (mutations, observer) {{\n",
              "        var display = window.getComputedStyle(gd).display;\n",
              "        if (!display || display === 'none') {{\n",
              "            console.log([gd, 'removed!']);\n",
              "            Plotly.purge(gd);\n",
              "            observer.disconnect();\n",
              "        }}\n",
              "}});\n",
              "\n",
              "// Listen for the removal of the full notebook cells\n",
              "var notebookContainer = gd.closest('#notebook-container');\n",
              "if (notebookContainer) {{\n",
              "    x.observe(notebookContainer, {childList: true});\n",
              "}}\n",
              "\n",
              "// Listen for the clearing of the current output cell\n",
              "var outputEl = gd.closest('.output');\n",
              "if (outputEl) {{\n",
              "    x.observe(outputEl, {childList: true});\n",
              "}}\n",
              "\n",
              "                        })\n",
              "                };\n",
              "                \n",
              "            </script>\n",
              "        </div>\n",
              "</body>\n",
              "</html>"
            ]
          },
          "metadata": {
            "tags": []
          }
        }
      ]
    },
    {
      "cell_type": "markdown",
      "metadata": {
        "id": "6xEYN-jwoPkZ"
      },
      "source": [
        "###### Quantidade de Pessoas"
      ]
    },
    {
      "cell_type": "code",
      "metadata": {
        "id": "eB5KBFiZoPkZ",
        "outputId": "a2386ecd-f4d0-4855-fc1f-566119dba5dd",
        "colab": {
          "base_uri": "https://localhost:8080/",
          "height": 698
        }
      },
      "source": [
        "data_plot = cria_data_plot('qtd_pessoas')\n",
        "fig = go.Figure(data=data_plot)\n",
        "fig.update_layout(title_text='Quantidade de Pessoas por mês em 2020 em cada Faixa Etária - Dados reais e previstos')\n",
        "fig.show()"
      ],
      "execution_count": null,
      "outputs": [
        {
          "output_type": "stream",
          "text": [
            "/usr/local/lib/python3.6/dist-packages/plotly/graph_objs/_deprecations.py:385: DeprecationWarning:\n",
            "\n",
            "plotly.graph_objs.Line is deprecated.\n",
            "Please replace it with one of the following more specific types\n",
            "  - plotly.graph_objs.scatter.Line\n",
            "  - plotly.graph_objs.layout.shape.Line\n",
            "  - etc.\n",
            "\n",
            "\n"
          ],
          "name": "stderr"
        },
        {
          "output_type": "display_data",
          "data": {
            "text/html": [
              "<html>\n",
              "<head><meta charset=\"utf-8\" /></head>\n",
              "<body>\n",
              "    <div>\n",
              "            <script src=\"https://cdnjs.cloudflare.com/ajax/libs/mathjax/2.7.5/MathJax.js?config=TeX-AMS-MML_SVG\"></script><script type=\"text/javascript\">if (window.MathJax) {MathJax.Hub.Config({SVG: {font: \"STIX-Web\"}});}</script>\n",
              "                <script type=\"text/javascript\">window.PlotlyConfig = {MathJaxConfig: 'local'};</script>\n",
              "        <script src=\"https://cdn.plot.ly/plotly-latest.min.js\"></script>    \n",
              "            <div id=\"bc833772-db80-4e8d-9f53-8452f1266417\" class=\"plotly-graph-div\" style=\"height:525px; width:100%;\"></div>\n",
              "            <script type=\"text/javascript\">\n",
              "                \n",
              "                    window.PLOTLYENV=window.PLOTLYENV || {};\n",
              "                    \n",
              "                if (document.getElementById(\"bc833772-db80-4e8d-9f53-8452f1266417\")) {\n",
              "                    Plotly.newPlot(\n",
              "                        'bc833772-db80-4e8d-9f53-8452f1266417',\n",
              "                        [{\"name\": \"Entre 24 e 60 anos- Real\", \"type\": \"scatter\", \"x\": [1, 2, 3, 4, 5, 6, 7], \"y\": [10767.0, 10226.0, 8474.0, 6706.0, 8085.0, 8338.0, 9104.0]}, {\"name\": \"Maior de 60 anos- Real\", \"type\": \"scatter\", \"x\": [1, 2, 3, 4, 5, 6, 7], \"y\": [1196.0, 1046.0, 877.0, 482.0, 652.0, 675.0, 786.0]}, {\"name\": \"Menor de 24 anos- Real\", \"type\": \"scatter\", \"x\": [1, 2, 3, 4, 5, 6, 7], \"y\": [2055.0, 1893.0, 1395.0, 1160.0, 1285.0, 1368.0, 1644.0]}, {\"name\": \"Entre 24 e 60 anos- Previsto\", \"type\": \"scatter\", \"x\": [7, 8, 9, 10, 11, 12], \"y\": [8926.07, 8897.53, 8910.8, 8920.5, 8915.35, 9166.35]}, {\"name\": \"Maior de 60 anos- Previsto\", \"type\": \"scatter\", \"x\": [7, 8, 9, 10, 11, 12], \"y\": [738.28, 737.81, 737.07, 737.27, 737.61, 742.37]}, {\"name\": \"Menor de 24 anos- Previsto\", \"type\": \"scatter\", \"x\": [7, 8, 9, 10, 11, 12], \"y\": [1592.46, 1593.52, 1600.53, 1625.09, 1655.58, 2193.77]}],\n",
              "                        {\"template\": {\"data\": {\"bar\": [{\"error_x\": {\"color\": \"#2a3f5f\"}, \"error_y\": {\"color\": \"#2a3f5f\"}, \"marker\": {\"line\": {\"color\": \"#E5ECF6\", \"width\": 0.5}}, \"type\": \"bar\"}], \"barpolar\": [{\"marker\": {\"line\": {\"color\": \"#E5ECF6\", \"width\": 0.5}}, \"type\": \"barpolar\"}], \"carpet\": [{\"aaxis\": {\"endlinecolor\": \"#2a3f5f\", \"gridcolor\": \"white\", \"linecolor\": \"white\", \"minorgridcolor\": \"white\", \"startlinecolor\": \"#2a3f5f\"}, \"baxis\": {\"endlinecolor\": \"#2a3f5f\", \"gridcolor\": \"white\", \"linecolor\": \"white\", \"minorgridcolor\": \"white\", \"startlinecolor\": \"#2a3f5f\"}, \"type\": \"carpet\"}], \"choropleth\": [{\"colorbar\": {\"outlinewidth\": 0, \"ticks\": \"\"}, \"type\": \"choropleth\"}], \"contour\": [{\"colorbar\": {\"outlinewidth\": 0, \"ticks\": \"\"}, \"colorscale\": [[0.0, \"#0d0887\"], [0.1111111111111111, \"#46039f\"], [0.2222222222222222, \"#7201a8\"], [0.3333333333333333, \"#9c179e\"], [0.4444444444444444, \"#bd3786\"], [0.5555555555555556, \"#d8576b\"], [0.6666666666666666, \"#ed7953\"], [0.7777777777777778, \"#fb9f3a\"], [0.8888888888888888, \"#fdca26\"], [1.0, \"#f0f921\"]], \"type\": \"contour\"}], \"contourcarpet\": [{\"colorbar\": {\"outlinewidth\": 0, \"ticks\": \"\"}, \"type\": \"contourcarpet\"}], \"heatmap\": [{\"colorbar\": {\"outlinewidth\": 0, \"ticks\": \"\"}, \"colorscale\": [[0.0, \"#0d0887\"], [0.1111111111111111, \"#46039f\"], [0.2222222222222222, \"#7201a8\"], [0.3333333333333333, \"#9c179e\"], [0.4444444444444444, \"#bd3786\"], [0.5555555555555556, \"#d8576b\"], [0.6666666666666666, \"#ed7953\"], [0.7777777777777778, \"#fb9f3a\"], [0.8888888888888888, \"#fdca26\"], [1.0, \"#f0f921\"]], \"type\": \"heatmap\"}], \"heatmapgl\": [{\"colorbar\": {\"outlinewidth\": 0, \"ticks\": \"\"}, \"colorscale\": [[0.0, \"#0d0887\"], [0.1111111111111111, \"#46039f\"], [0.2222222222222222, \"#7201a8\"], [0.3333333333333333, \"#9c179e\"], [0.4444444444444444, \"#bd3786\"], [0.5555555555555556, \"#d8576b\"], [0.6666666666666666, \"#ed7953\"], [0.7777777777777778, \"#fb9f3a\"], [0.8888888888888888, \"#fdca26\"], [1.0, \"#f0f921\"]], \"type\": \"heatmapgl\"}], \"histogram\": [{\"marker\": {\"colorbar\": {\"outlinewidth\": 0, \"ticks\": \"\"}}, \"type\": \"histogram\"}], \"histogram2d\": [{\"colorbar\": {\"outlinewidth\": 0, \"ticks\": \"\"}, \"colorscale\": [[0.0, \"#0d0887\"], [0.1111111111111111, \"#46039f\"], [0.2222222222222222, \"#7201a8\"], [0.3333333333333333, \"#9c179e\"], [0.4444444444444444, \"#bd3786\"], [0.5555555555555556, \"#d8576b\"], [0.6666666666666666, \"#ed7953\"], [0.7777777777777778, \"#fb9f3a\"], [0.8888888888888888, \"#fdca26\"], [1.0, \"#f0f921\"]], \"type\": \"histogram2d\"}], \"histogram2dcontour\": [{\"colorbar\": {\"outlinewidth\": 0, \"ticks\": \"\"}, \"colorscale\": [[0.0, \"#0d0887\"], [0.1111111111111111, \"#46039f\"], [0.2222222222222222, \"#7201a8\"], [0.3333333333333333, \"#9c179e\"], [0.4444444444444444, \"#bd3786\"], [0.5555555555555556, \"#d8576b\"], [0.6666666666666666, \"#ed7953\"], [0.7777777777777778, \"#fb9f3a\"], [0.8888888888888888, \"#fdca26\"], [1.0, \"#f0f921\"]], \"type\": \"histogram2dcontour\"}], \"mesh3d\": [{\"colorbar\": {\"outlinewidth\": 0, \"ticks\": \"\"}, \"type\": \"mesh3d\"}], \"parcoords\": [{\"line\": {\"colorbar\": {\"outlinewidth\": 0, \"ticks\": \"\"}}, \"type\": \"parcoords\"}], \"pie\": [{\"automargin\": true, \"type\": \"pie\"}], \"scatter\": [{\"marker\": {\"colorbar\": {\"outlinewidth\": 0, \"ticks\": \"\"}}, \"type\": \"scatter\"}], \"scatter3d\": [{\"line\": {\"colorbar\": {\"outlinewidth\": 0, \"ticks\": \"\"}}, \"marker\": {\"colorbar\": {\"outlinewidth\": 0, \"ticks\": \"\"}}, \"type\": \"scatter3d\"}], \"scattercarpet\": [{\"marker\": {\"colorbar\": {\"outlinewidth\": 0, \"ticks\": \"\"}}, \"type\": \"scattercarpet\"}], \"scattergeo\": [{\"marker\": {\"colorbar\": {\"outlinewidth\": 0, \"ticks\": \"\"}}, \"type\": \"scattergeo\"}], \"scattergl\": [{\"marker\": {\"colorbar\": {\"outlinewidth\": 0, \"ticks\": \"\"}}, \"type\": \"scattergl\"}], \"scattermapbox\": [{\"marker\": {\"colorbar\": {\"outlinewidth\": 0, \"ticks\": \"\"}}, \"type\": \"scattermapbox\"}], \"scatterpolar\": [{\"marker\": {\"colorbar\": {\"outlinewidth\": 0, \"ticks\": \"\"}}, \"type\": \"scatterpolar\"}], \"scatterpolargl\": [{\"marker\": {\"colorbar\": {\"outlinewidth\": 0, \"ticks\": \"\"}}, \"type\": \"scatterpolargl\"}], \"scatterternary\": [{\"marker\": {\"colorbar\": {\"outlinewidth\": 0, \"ticks\": \"\"}}, \"type\": \"scatterternary\"}], \"surface\": [{\"colorbar\": {\"outlinewidth\": 0, \"ticks\": \"\"}, \"colorscale\": [[0.0, \"#0d0887\"], [0.1111111111111111, \"#46039f\"], [0.2222222222222222, \"#7201a8\"], [0.3333333333333333, \"#9c179e\"], [0.4444444444444444, \"#bd3786\"], [0.5555555555555556, \"#d8576b\"], [0.6666666666666666, \"#ed7953\"], [0.7777777777777778, \"#fb9f3a\"], [0.8888888888888888, \"#fdca26\"], [1.0, \"#f0f921\"]], \"type\": \"surface\"}], \"table\": [{\"cells\": {\"fill\": {\"color\": \"#EBF0F8\"}, \"line\": {\"color\": \"white\"}}, \"header\": {\"fill\": {\"color\": \"#C8D4E3\"}, \"line\": {\"color\": \"white\"}}, \"type\": \"table\"}]}, \"layout\": {\"annotationdefaults\": {\"arrowcolor\": \"#2a3f5f\", \"arrowhead\": 0, \"arrowwidth\": 1}, \"coloraxis\": {\"colorbar\": {\"outlinewidth\": 0, \"ticks\": \"\"}}, \"colorscale\": {\"diverging\": [[0, \"#8e0152\"], [0.1, \"#c51b7d\"], [0.2, \"#de77ae\"], [0.3, \"#f1b6da\"], [0.4, \"#fde0ef\"], [0.5, \"#f7f7f7\"], [0.6, \"#e6f5d0\"], [0.7, \"#b8e186\"], [0.8, \"#7fbc41\"], [0.9, \"#4d9221\"], [1, \"#276419\"]], \"sequential\": [[0.0, \"#0d0887\"], [0.1111111111111111, \"#46039f\"], [0.2222222222222222, \"#7201a8\"], [0.3333333333333333, \"#9c179e\"], [0.4444444444444444, \"#bd3786\"], [0.5555555555555556, \"#d8576b\"], [0.6666666666666666, \"#ed7953\"], [0.7777777777777778, \"#fb9f3a\"], [0.8888888888888888, \"#fdca26\"], [1.0, \"#f0f921\"]], \"sequentialminus\": [[0.0, \"#0d0887\"], [0.1111111111111111, \"#46039f\"], [0.2222222222222222, \"#7201a8\"], [0.3333333333333333, \"#9c179e\"], [0.4444444444444444, \"#bd3786\"], [0.5555555555555556, \"#d8576b\"], [0.6666666666666666, \"#ed7953\"], [0.7777777777777778, \"#fb9f3a\"], [0.8888888888888888, \"#fdca26\"], [1.0, \"#f0f921\"]]}, \"colorway\": [\"#636efa\", \"#EF553B\", \"#00cc96\", \"#ab63fa\", \"#FFA15A\", \"#19d3f3\", \"#FF6692\", \"#B6E880\", \"#FF97FF\", \"#FECB52\"], \"font\": {\"color\": \"#2a3f5f\"}, \"geo\": {\"bgcolor\": \"white\", \"lakecolor\": \"white\", \"landcolor\": \"#E5ECF6\", \"showlakes\": true, \"showland\": true, \"subunitcolor\": \"white\"}, \"hoverlabel\": {\"align\": \"left\"}, \"hovermode\": \"closest\", \"mapbox\": {\"style\": \"light\"}, \"paper_bgcolor\": \"white\", \"plot_bgcolor\": \"#E5ECF6\", \"polar\": {\"angularaxis\": {\"gridcolor\": \"white\", \"linecolor\": \"white\", \"ticks\": \"\"}, \"bgcolor\": \"#E5ECF6\", \"radialaxis\": {\"gridcolor\": \"white\", \"linecolor\": \"white\", \"ticks\": \"\"}}, \"scene\": {\"xaxis\": {\"backgroundcolor\": \"#E5ECF6\", \"gridcolor\": \"white\", \"gridwidth\": 2, \"linecolor\": \"white\", \"showbackground\": true, \"ticks\": \"\", \"zerolinecolor\": \"white\"}, \"yaxis\": {\"backgroundcolor\": \"#E5ECF6\", \"gridcolor\": \"white\", \"gridwidth\": 2, \"linecolor\": \"white\", \"showbackground\": true, \"ticks\": \"\", \"zerolinecolor\": \"white\"}, \"zaxis\": {\"backgroundcolor\": \"#E5ECF6\", \"gridcolor\": \"white\", \"gridwidth\": 2, \"linecolor\": \"white\", \"showbackground\": true, \"ticks\": \"\", \"zerolinecolor\": \"white\"}}, \"shapedefaults\": {\"line\": {\"color\": \"#2a3f5f\"}}, \"ternary\": {\"aaxis\": {\"gridcolor\": \"white\", \"linecolor\": \"white\", \"ticks\": \"\"}, \"baxis\": {\"gridcolor\": \"white\", \"linecolor\": \"white\", \"ticks\": \"\"}, \"bgcolor\": \"#E5ECF6\", \"caxis\": {\"gridcolor\": \"white\", \"linecolor\": \"white\", \"ticks\": \"\"}}, \"title\": {\"x\": 0.05}, \"xaxis\": {\"automargin\": true, \"gridcolor\": \"white\", \"linecolor\": \"white\", \"ticks\": \"\", \"title\": {\"standoff\": 15}, \"zerolinecolor\": \"white\", \"zerolinewidth\": 2}, \"yaxis\": {\"automargin\": true, \"gridcolor\": \"white\", \"linecolor\": \"white\", \"ticks\": \"\", \"title\": {\"standoff\": 15}, \"zerolinecolor\": \"white\", \"zerolinewidth\": 2}}}, \"title\": {\"text\": \"Quantidade de Pessoas por m\\u00eas em 2020 em cada Faixa Et\\u00e1ria - Dados reais e previstos\"}},\n",
              "                        {\"responsive\": true}\n",
              "                    ).then(function(){\n",
              "                            \n",
              "var gd = document.getElementById('bc833772-db80-4e8d-9f53-8452f1266417');\n",
              "var x = new MutationObserver(function (mutations, observer) {{\n",
              "        var display = window.getComputedStyle(gd).display;\n",
              "        if (!display || display === 'none') {{\n",
              "            console.log([gd, 'removed!']);\n",
              "            Plotly.purge(gd);\n",
              "            observer.disconnect();\n",
              "        }}\n",
              "}});\n",
              "\n",
              "// Listen for the removal of the full notebook cells\n",
              "var notebookContainer = gd.closest('#notebook-container');\n",
              "if (notebookContainer) {{\n",
              "    x.observe(notebookContainer, {childList: true});\n",
              "}}\n",
              "\n",
              "// Listen for the clearing of the current output cell\n",
              "var outputEl = gd.closest('.output');\n",
              "if (outputEl) {{\n",
              "    x.observe(outputEl, {childList: true});\n",
              "}}\n",
              "\n",
              "                        })\n",
              "                };\n",
              "                \n",
              "            </script>\n",
              "        </div>\n",
              "</body>\n",
              "</html>"
            ]
          },
          "metadata": {
            "tags": []
          }
        }
      ]
    },
    {
      "cell_type": "markdown",
      "metadata": {
        "id": "ObRWxMZNoPkb"
      },
      "source": [
        "###### Quantidade de Ilesos"
      ]
    },
    {
      "cell_type": "code",
      "metadata": {
        "id": "r4rXZSaJoPkb",
        "outputId": "16543c79-8c98-4ce9-95f1-d5a4916d8b03",
        "colab": {
          "base_uri": "https://localhost:8080/",
          "height": 698
        }
      },
      "source": [
        "data_plot = cria_data_plot('qtd_ilesos')\n",
        "fig = go.Figure(data=data_plot)\n",
        "fig.update_layout(title_text='Quantidade de Ilesos por mês em 2020 em cada Faixa Etária - Dados reais e previstos')\n",
        "fig.show()"
      ],
      "execution_count": null,
      "outputs": [
        {
          "output_type": "stream",
          "text": [
            "/usr/local/lib/python3.6/dist-packages/plotly/graph_objs/_deprecations.py:385: DeprecationWarning:\n",
            "\n",
            "plotly.graph_objs.Line is deprecated.\n",
            "Please replace it with one of the following more specific types\n",
            "  - plotly.graph_objs.scatter.Line\n",
            "  - plotly.graph_objs.layout.shape.Line\n",
            "  - etc.\n",
            "\n",
            "\n"
          ],
          "name": "stderr"
        },
        {
          "output_type": "display_data",
          "data": {
            "text/html": [
              "<html>\n",
              "<head><meta charset=\"utf-8\" /></head>\n",
              "<body>\n",
              "    <div>\n",
              "            <script src=\"https://cdnjs.cloudflare.com/ajax/libs/mathjax/2.7.5/MathJax.js?config=TeX-AMS-MML_SVG\"></script><script type=\"text/javascript\">if (window.MathJax) {MathJax.Hub.Config({SVG: {font: \"STIX-Web\"}});}</script>\n",
              "                <script type=\"text/javascript\">window.PlotlyConfig = {MathJaxConfig: 'local'};</script>\n",
              "        <script src=\"https://cdn.plot.ly/plotly-latest.min.js\"></script>    \n",
              "            <div id=\"bff3b619-ee02-4bb0-bbc5-9a5864913a08\" class=\"plotly-graph-div\" style=\"height:525px; width:100%;\"></div>\n",
              "            <script type=\"text/javascript\">\n",
              "                \n",
              "                    window.PLOTLYENV=window.PLOTLYENV || {};\n",
              "                    \n",
              "                if (document.getElementById(\"bff3b619-ee02-4bb0-bbc5-9a5864913a08\")) {\n",
              "                    Plotly.newPlot(\n",
              "                        'bff3b619-ee02-4bb0-bbc5-9a5864913a08',\n",
              "                        [{\"name\": \"Entre 24 e 60 anos- Real\", \"type\": \"scatter\", \"x\": [1, 2, 3, 4, 5, 6, 7], \"y\": [4679.0, 4475.0, 3574.0, 2654.0, 3378.0, 3633.0, 4051.0]}, {\"name\": \"Maior de 60 anos- Real\", \"type\": \"scatter\", \"x\": [1, 2, 3, 4, 5, 6, 7], \"y\": [510.0, 509.0, 369.0, 201.0, 283.0, 333.0, 367.0]}, {\"name\": \"Menor de 24 anos- Real\", \"type\": \"scatter\", \"x\": [1, 2, 3, 4, 5, 6, 7], \"y\": [619.0, 543.0, 368.0, 284.0, 358.0, 426.0, 476.0]}, {\"name\": \"Entre 24 e 60 anos- Previsto\", \"type\": \"scatter\", \"x\": [7, 8, 9, 10, 11, 12], \"y\": [3941.28, 3917.53, 3921.65, 3926.62, 3930.87, 4047.81]}, {\"name\": \"Maior de 60 anos- Previsto\", \"type\": \"scatter\", \"x\": [7, 8, 9, 10, 11, 12], \"y\": [346.16, 345.42, 344.96, 345.18, 345.6, 347.58]}, {\"name\": \"Menor de 24 anos- Previsto\", \"type\": \"scatter\", \"x\": [7, 8, 9, 10, 11, 12], \"y\": [466.45, 462.28, 467.01, 474.69, 479.24, 658.98]}],\n",
              "                        {\"template\": {\"data\": {\"bar\": [{\"error_x\": {\"color\": \"#2a3f5f\"}, \"error_y\": {\"color\": \"#2a3f5f\"}, \"marker\": {\"line\": {\"color\": \"#E5ECF6\", \"width\": 0.5}}, \"type\": \"bar\"}], \"barpolar\": [{\"marker\": {\"line\": {\"color\": \"#E5ECF6\", \"width\": 0.5}}, \"type\": \"barpolar\"}], \"carpet\": [{\"aaxis\": {\"endlinecolor\": \"#2a3f5f\", \"gridcolor\": \"white\", \"linecolor\": \"white\", \"minorgridcolor\": \"white\", \"startlinecolor\": \"#2a3f5f\"}, \"baxis\": {\"endlinecolor\": \"#2a3f5f\", \"gridcolor\": \"white\", \"linecolor\": \"white\", \"minorgridcolor\": \"white\", \"startlinecolor\": \"#2a3f5f\"}, \"type\": \"carpet\"}], \"choropleth\": [{\"colorbar\": {\"outlinewidth\": 0, \"ticks\": \"\"}, \"type\": \"choropleth\"}], \"contour\": [{\"colorbar\": {\"outlinewidth\": 0, \"ticks\": \"\"}, \"colorscale\": [[0.0, \"#0d0887\"], [0.1111111111111111, \"#46039f\"], [0.2222222222222222, \"#7201a8\"], [0.3333333333333333, \"#9c179e\"], [0.4444444444444444, \"#bd3786\"], [0.5555555555555556, \"#d8576b\"], [0.6666666666666666, \"#ed7953\"], [0.7777777777777778, \"#fb9f3a\"], [0.8888888888888888, \"#fdca26\"], [1.0, \"#f0f921\"]], \"type\": \"contour\"}], \"contourcarpet\": [{\"colorbar\": {\"outlinewidth\": 0, \"ticks\": \"\"}, \"type\": \"contourcarpet\"}], \"heatmap\": [{\"colorbar\": {\"outlinewidth\": 0, \"ticks\": \"\"}, \"colorscale\": [[0.0, \"#0d0887\"], [0.1111111111111111, \"#46039f\"], [0.2222222222222222, \"#7201a8\"], [0.3333333333333333, \"#9c179e\"], [0.4444444444444444, \"#bd3786\"], [0.5555555555555556, \"#d8576b\"], [0.6666666666666666, \"#ed7953\"], [0.7777777777777778, \"#fb9f3a\"], [0.8888888888888888, \"#fdca26\"], [1.0, \"#f0f921\"]], \"type\": \"heatmap\"}], \"heatmapgl\": [{\"colorbar\": {\"outlinewidth\": 0, \"ticks\": \"\"}, \"colorscale\": [[0.0, \"#0d0887\"], [0.1111111111111111, \"#46039f\"], [0.2222222222222222, \"#7201a8\"], [0.3333333333333333, \"#9c179e\"], [0.4444444444444444, \"#bd3786\"], [0.5555555555555556, \"#d8576b\"], [0.6666666666666666, \"#ed7953\"], [0.7777777777777778, \"#fb9f3a\"], [0.8888888888888888, \"#fdca26\"], [1.0, \"#f0f921\"]], \"type\": \"heatmapgl\"}], \"histogram\": [{\"marker\": {\"colorbar\": {\"outlinewidth\": 0, \"ticks\": \"\"}}, \"type\": \"histogram\"}], \"histogram2d\": [{\"colorbar\": {\"outlinewidth\": 0, \"ticks\": \"\"}, \"colorscale\": [[0.0, \"#0d0887\"], [0.1111111111111111, \"#46039f\"], [0.2222222222222222, \"#7201a8\"], [0.3333333333333333, \"#9c179e\"], [0.4444444444444444, \"#bd3786\"], [0.5555555555555556, \"#d8576b\"], [0.6666666666666666, \"#ed7953\"], [0.7777777777777778, \"#fb9f3a\"], [0.8888888888888888, \"#fdca26\"], [1.0, \"#f0f921\"]], \"type\": \"histogram2d\"}], \"histogram2dcontour\": [{\"colorbar\": {\"outlinewidth\": 0, \"ticks\": \"\"}, \"colorscale\": [[0.0, \"#0d0887\"], [0.1111111111111111, \"#46039f\"], [0.2222222222222222, \"#7201a8\"], [0.3333333333333333, \"#9c179e\"], [0.4444444444444444, \"#bd3786\"], [0.5555555555555556, \"#d8576b\"], [0.6666666666666666, \"#ed7953\"], [0.7777777777777778, \"#fb9f3a\"], [0.8888888888888888, \"#fdca26\"], [1.0, \"#f0f921\"]], \"type\": \"histogram2dcontour\"}], \"mesh3d\": [{\"colorbar\": {\"outlinewidth\": 0, \"ticks\": \"\"}, \"type\": \"mesh3d\"}], \"parcoords\": [{\"line\": {\"colorbar\": {\"outlinewidth\": 0, \"ticks\": \"\"}}, \"type\": \"parcoords\"}], \"pie\": [{\"automargin\": true, \"type\": \"pie\"}], \"scatter\": [{\"marker\": {\"colorbar\": {\"outlinewidth\": 0, \"ticks\": \"\"}}, \"type\": \"scatter\"}], \"scatter3d\": [{\"line\": {\"colorbar\": {\"outlinewidth\": 0, \"ticks\": \"\"}}, \"marker\": {\"colorbar\": {\"outlinewidth\": 0, \"ticks\": \"\"}}, \"type\": \"scatter3d\"}], \"scattercarpet\": [{\"marker\": {\"colorbar\": {\"outlinewidth\": 0, \"ticks\": \"\"}}, \"type\": \"scattercarpet\"}], \"scattergeo\": [{\"marker\": {\"colorbar\": {\"outlinewidth\": 0, \"ticks\": \"\"}}, \"type\": \"scattergeo\"}], \"scattergl\": [{\"marker\": {\"colorbar\": {\"outlinewidth\": 0, \"ticks\": \"\"}}, \"type\": \"scattergl\"}], \"scattermapbox\": [{\"marker\": {\"colorbar\": {\"outlinewidth\": 0, \"ticks\": \"\"}}, \"type\": \"scattermapbox\"}], \"scatterpolar\": [{\"marker\": {\"colorbar\": {\"outlinewidth\": 0, \"ticks\": \"\"}}, \"type\": \"scatterpolar\"}], \"scatterpolargl\": [{\"marker\": {\"colorbar\": {\"outlinewidth\": 0, \"ticks\": \"\"}}, \"type\": \"scatterpolargl\"}], \"scatterternary\": [{\"marker\": {\"colorbar\": {\"outlinewidth\": 0, \"ticks\": \"\"}}, \"type\": \"scatterternary\"}], \"surface\": [{\"colorbar\": {\"outlinewidth\": 0, \"ticks\": \"\"}, \"colorscale\": [[0.0, \"#0d0887\"], [0.1111111111111111, \"#46039f\"], [0.2222222222222222, \"#7201a8\"], [0.3333333333333333, \"#9c179e\"], [0.4444444444444444, \"#bd3786\"], [0.5555555555555556, \"#d8576b\"], [0.6666666666666666, \"#ed7953\"], [0.7777777777777778, \"#fb9f3a\"], [0.8888888888888888, \"#fdca26\"], [1.0, \"#f0f921\"]], \"type\": \"surface\"}], \"table\": [{\"cells\": {\"fill\": {\"color\": \"#EBF0F8\"}, \"line\": {\"color\": \"white\"}}, \"header\": {\"fill\": {\"color\": \"#C8D4E3\"}, \"line\": {\"color\": \"white\"}}, \"type\": \"table\"}]}, \"layout\": {\"annotationdefaults\": {\"arrowcolor\": \"#2a3f5f\", \"arrowhead\": 0, \"arrowwidth\": 1}, \"coloraxis\": {\"colorbar\": {\"outlinewidth\": 0, \"ticks\": \"\"}}, \"colorscale\": {\"diverging\": [[0, \"#8e0152\"], [0.1, \"#c51b7d\"], [0.2, \"#de77ae\"], [0.3, \"#f1b6da\"], [0.4, \"#fde0ef\"], [0.5, \"#f7f7f7\"], [0.6, \"#e6f5d0\"], [0.7, \"#b8e186\"], [0.8, \"#7fbc41\"], [0.9, \"#4d9221\"], [1, \"#276419\"]], \"sequential\": [[0.0, \"#0d0887\"], [0.1111111111111111, \"#46039f\"], [0.2222222222222222, \"#7201a8\"], [0.3333333333333333, \"#9c179e\"], [0.4444444444444444, \"#bd3786\"], [0.5555555555555556, \"#d8576b\"], [0.6666666666666666, \"#ed7953\"], [0.7777777777777778, \"#fb9f3a\"], [0.8888888888888888, \"#fdca26\"], [1.0, \"#f0f921\"]], \"sequentialminus\": [[0.0, \"#0d0887\"], [0.1111111111111111, \"#46039f\"], [0.2222222222222222, \"#7201a8\"], [0.3333333333333333, \"#9c179e\"], [0.4444444444444444, \"#bd3786\"], [0.5555555555555556, \"#d8576b\"], [0.6666666666666666, \"#ed7953\"], [0.7777777777777778, \"#fb9f3a\"], [0.8888888888888888, \"#fdca26\"], [1.0, \"#f0f921\"]]}, \"colorway\": [\"#636efa\", \"#EF553B\", \"#00cc96\", \"#ab63fa\", \"#FFA15A\", \"#19d3f3\", \"#FF6692\", \"#B6E880\", \"#FF97FF\", \"#FECB52\"], \"font\": {\"color\": \"#2a3f5f\"}, \"geo\": {\"bgcolor\": \"white\", \"lakecolor\": \"white\", \"landcolor\": \"#E5ECF6\", \"showlakes\": true, \"showland\": true, \"subunitcolor\": \"white\"}, \"hoverlabel\": {\"align\": \"left\"}, \"hovermode\": \"closest\", \"mapbox\": {\"style\": \"light\"}, \"paper_bgcolor\": \"white\", \"plot_bgcolor\": \"#E5ECF6\", \"polar\": {\"angularaxis\": {\"gridcolor\": \"white\", \"linecolor\": \"white\", \"ticks\": \"\"}, \"bgcolor\": \"#E5ECF6\", \"radialaxis\": {\"gridcolor\": \"white\", \"linecolor\": \"white\", \"ticks\": \"\"}}, \"scene\": {\"xaxis\": {\"backgroundcolor\": \"#E5ECF6\", \"gridcolor\": \"white\", \"gridwidth\": 2, \"linecolor\": \"white\", \"showbackground\": true, \"ticks\": \"\", \"zerolinecolor\": \"white\"}, \"yaxis\": {\"backgroundcolor\": \"#E5ECF6\", \"gridcolor\": \"white\", \"gridwidth\": 2, \"linecolor\": \"white\", \"showbackground\": true, \"ticks\": \"\", \"zerolinecolor\": \"white\"}, \"zaxis\": {\"backgroundcolor\": \"#E5ECF6\", \"gridcolor\": \"white\", \"gridwidth\": 2, \"linecolor\": \"white\", \"showbackground\": true, \"ticks\": \"\", \"zerolinecolor\": \"white\"}}, \"shapedefaults\": {\"line\": {\"color\": \"#2a3f5f\"}}, \"ternary\": {\"aaxis\": {\"gridcolor\": \"white\", \"linecolor\": \"white\", \"ticks\": \"\"}, \"baxis\": {\"gridcolor\": \"white\", \"linecolor\": \"white\", \"ticks\": \"\"}, \"bgcolor\": \"#E5ECF6\", \"caxis\": {\"gridcolor\": \"white\", \"linecolor\": \"white\", \"ticks\": \"\"}}, \"title\": {\"x\": 0.05}, \"xaxis\": {\"automargin\": true, \"gridcolor\": \"white\", \"linecolor\": \"white\", \"ticks\": \"\", \"title\": {\"standoff\": 15}, \"zerolinecolor\": \"white\", \"zerolinewidth\": 2}, \"yaxis\": {\"automargin\": true, \"gridcolor\": \"white\", \"linecolor\": \"white\", \"ticks\": \"\", \"title\": {\"standoff\": 15}, \"zerolinecolor\": \"white\", \"zerolinewidth\": 2}}}, \"title\": {\"text\": \"Quantidade de Ilesos por m\\u00eas em 2020 em cada Faixa Et\\u00e1ria - Dados reais e previstos\"}},\n",
              "                        {\"responsive\": true}\n",
              "                    ).then(function(){\n",
              "                            \n",
              "var gd = document.getElementById('bff3b619-ee02-4bb0-bbc5-9a5864913a08');\n",
              "var x = new MutationObserver(function (mutations, observer) {{\n",
              "        var display = window.getComputedStyle(gd).display;\n",
              "        if (!display || display === 'none') {{\n",
              "            console.log([gd, 'removed!']);\n",
              "            Plotly.purge(gd);\n",
              "            observer.disconnect();\n",
              "        }}\n",
              "}});\n",
              "\n",
              "// Listen for the removal of the full notebook cells\n",
              "var notebookContainer = gd.closest('#notebook-container');\n",
              "if (notebookContainer) {{\n",
              "    x.observe(notebookContainer, {childList: true});\n",
              "}}\n",
              "\n",
              "// Listen for the clearing of the current output cell\n",
              "var outputEl = gd.closest('.output');\n",
              "if (outputEl) {{\n",
              "    x.observe(outputEl, {childList: true});\n",
              "}}\n",
              "\n",
              "                        })\n",
              "                };\n",
              "                \n",
              "            </script>\n",
              "        </div>\n",
              "</body>\n",
              "</html>"
            ]
          },
          "metadata": {
            "tags": []
          }
        }
      ]
    },
    {
      "cell_type": "markdown",
      "metadata": {
        "id": "GsluO4KsoPkd"
      },
      "source": [
        "###### Quantidade de Feridos Leves"
      ]
    },
    {
      "cell_type": "code",
      "metadata": {
        "id": "cmz5FQgXoPkd",
        "outputId": "812e1ea6-2b64-4a73-d079-cd5b51b5b958",
        "colab": {
          "base_uri": "https://localhost:8080/",
          "height": 698
        }
      },
      "source": [
        "data_plot = cria_data_plot('qtd_feridos_leves')\n",
        "fig = go.Figure(data=data_plot)\n",
        "fig.update_layout(title_text='Quantidade de Feridos Leves por mês em 2020 em cada Faixa Etária - Dados reais e previstos')\n",
        "fig.show()"
      ],
      "execution_count": null,
      "outputs": [
        {
          "output_type": "stream",
          "text": [
            "/usr/local/lib/python3.6/dist-packages/plotly/graph_objs/_deprecations.py:385: DeprecationWarning:\n",
            "\n",
            "plotly.graph_objs.Line is deprecated.\n",
            "Please replace it with one of the following more specific types\n",
            "  - plotly.graph_objs.scatter.Line\n",
            "  - plotly.graph_objs.layout.shape.Line\n",
            "  - etc.\n",
            "\n",
            "\n"
          ],
          "name": "stderr"
        },
        {
          "output_type": "display_data",
          "data": {
            "text/html": [
              "<html>\n",
              "<head><meta charset=\"utf-8\" /></head>\n",
              "<body>\n",
              "    <div>\n",
              "            <script src=\"https://cdnjs.cloudflare.com/ajax/libs/mathjax/2.7.5/MathJax.js?config=TeX-AMS-MML_SVG\"></script><script type=\"text/javascript\">if (window.MathJax) {MathJax.Hub.Config({SVG: {font: \"STIX-Web\"}});}</script>\n",
              "                <script type=\"text/javascript\">window.PlotlyConfig = {MathJaxConfig: 'local'};</script>\n",
              "        <script src=\"https://cdn.plot.ly/plotly-latest.min.js\"></script>    \n",
              "            <div id=\"e5156225-d2a2-4e5b-8f95-992b70b2657b\" class=\"plotly-graph-div\" style=\"height:525px; width:100%;\"></div>\n",
              "            <script type=\"text/javascript\">\n",
              "                \n",
              "                    window.PLOTLYENV=window.PLOTLYENV || {};\n",
              "                    \n",
              "                if (document.getElementById(\"e5156225-d2a2-4e5b-8f95-992b70b2657b\")) {\n",
              "                    Plotly.newPlot(\n",
              "                        'e5156225-d2a2-4e5b-8f95-992b70b2657b',\n",
              "                        [{\"name\": \"Entre 24 e 60 anos- Real\", \"type\": \"scatter\", \"x\": [1, 2, 3, 4, 5, 6, 7], \"y\": [3931.0, 3602.0, 2943.0, 2448.0, 2778.0, 2751.0, 3002.0]}, {\"name\": \"Maior de 60 anos- Real\", \"type\": \"scatter\", \"x\": [1, 2, 3, 4, 5, 6, 7], \"y\": [488.0, 389.0, 348.0, 181.0, 248.0, 224.0, 265.0]}, {\"name\": \"Menor de 24 anos- Real\", \"type\": \"scatter\", \"x\": [1, 2, 3, 4, 5, 6, 7], \"y\": [1103.0, 1008.0, 792.0, 657.0, 678.0, 667.0, 856.0]}, {\"name\": \"Entre 24 e 60 anos- Previsto\", \"type\": \"scatter\", \"x\": [7, 8, 9, 10, 11, 12], \"y\": [2952.38, 2953.64, 2962.22, 2963.27, 2956.82, 3049.5]}, {\"name\": \"Maior de 60 anos- Previsto\", \"type\": \"scatter\", \"x\": [7, 8, 9, 10, 11, 12], \"y\": [252.0, 252.01, 252.17, 252.17, 252.15, 254.24]}, {\"name\": \"Menor de 24 anos- Previsto\", \"type\": \"scatter\", \"x\": [7, 8, 9, 10, 11, 12], \"y\": [820.87, 825.48, 828.13, 840.02, 860.64, 1144.1]}],\n",
              "                        {\"template\": {\"data\": {\"bar\": [{\"error_x\": {\"color\": \"#2a3f5f\"}, \"error_y\": {\"color\": \"#2a3f5f\"}, \"marker\": {\"line\": {\"color\": \"#E5ECF6\", \"width\": 0.5}}, \"type\": \"bar\"}], \"barpolar\": [{\"marker\": {\"line\": {\"color\": \"#E5ECF6\", \"width\": 0.5}}, \"type\": \"barpolar\"}], \"carpet\": [{\"aaxis\": {\"endlinecolor\": \"#2a3f5f\", \"gridcolor\": \"white\", \"linecolor\": \"white\", \"minorgridcolor\": \"white\", \"startlinecolor\": \"#2a3f5f\"}, \"baxis\": {\"endlinecolor\": \"#2a3f5f\", \"gridcolor\": \"white\", \"linecolor\": \"white\", \"minorgridcolor\": \"white\", \"startlinecolor\": \"#2a3f5f\"}, \"type\": \"carpet\"}], \"choropleth\": [{\"colorbar\": {\"outlinewidth\": 0, \"ticks\": \"\"}, \"type\": \"choropleth\"}], \"contour\": [{\"colorbar\": {\"outlinewidth\": 0, \"ticks\": \"\"}, \"colorscale\": [[0.0, \"#0d0887\"], [0.1111111111111111, \"#46039f\"], [0.2222222222222222, \"#7201a8\"], [0.3333333333333333, \"#9c179e\"], [0.4444444444444444, \"#bd3786\"], [0.5555555555555556, \"#d8576b\"], [0.6666666666666666, \"#ed7953\"], [0.7777777777777778, \"#fb9f3a\"], [0.8888888888888888, \"#fdca26\"], [1.0, \"#f0f921\"]], \"type\": \"contour\"}], \"contourcarpet\": [{\"colorbar\": {\"outlinewidth\": 0, \"ticks\": \"\"}, \"type\": \"contourcarpet\"}], \"heatmap\": [{\"colorbar\": {\"outlinewidth\": 0, \"ticks\": \"\"}, \"colorscale\": [[0.0, \"#0d0887\"], [0.1111111111111111, \"#46039f\"], [0.2222222222222222, \"#7201a8\"], [0.3333333333333333, \"#9c179e\"], [0.4444444444444444, \"#bd3786\"], [0.5555555555555556, \"#d8576b\"], [0.6666666666666666, \"#ed7953\"], [0.7777777777777778, \"#fb9f3a\"], [0.8888888888888888, \"#fdca26\"], [1.0, \"#f0f921\"]], \"type\": \"heatmap\"}], \"heatmapgl\": [{\"colorbar\": {\"outlinewidth\": 0, \"ticks\": \"\"}, \"colorscale\": [[0.0, \"#0d0887\"], [0.1111111111111111, \"#46039f\"], [0.2222222222222222, \"#7201a8\"], [0.3333333333333333, \"#9c179e\"], [0.4444444444444444, \"#bd3786\"], [0.5555555555555556, \"#d8576b\"], [0.6666666666666666, \"#ed7953\"], [0.7777777777777778, \"#fb9f3a\"], [0.8888888888888888, \"#fdca26\"], [1.0, \"#f0f921\"]], \"type\": \"heatmapgl\"}], \"histogram\": [{\"marker\": {\"colorbar\": {\"outlinewidth\": 0, \"ticks\": \"\"}}, \"type\": \"histogram\"}], \"histogram2d\": [{\"colorbar\": {\"outlinewidth\": 0, \"ticks\": \"\"}, \"colorscale\": [[0.0, \"#0d0887\"], [0.1111111111111111, \"#46039f\"], [0.2222222222222222, \"#7201a8\"], [0.3333333333333333, \"#9c179e\"], [0.4444444444444444, \"#bd3786\"], [0.5555555555555556, \"#d8576b\"], [0.6666666666666666, \"#ed7953\"], [0.7777777777777778, \"#fb9f3a\"], [0.8888888888888888, \"#fdca26\"], [1.0, \"#f0f921\"]], \"type\": \"histogram2d\"}], \"histogram2dcontour\": [{\"colorbar\": {\"outlinewidth\": 0, \"ticks\": \"\"}, \"colorscale\": [[0.0, \"#0d0887\"], [0.1111111111111111, \"#46039f\"], [0.2222222222222222, \"#7201a8\"], [0.3333333333333333, \"#9c179e\"], [0.4444444444444444, \"#bd3786\"], [0.5555555555555556, \"#d8576b\"], [0.6666666666666666, \"#ed7953\"], [0.7777777777777778, \"#fb9f3a\"], [0.8888888888888888, \"#fdca26\"], [1.0, \"#f0f921\"]], \"type\": \"histogram2dcontour\"}], \"mesh3d\": [{\"colorbar\": {\"outlinewidth\": 0, \"ticks\": \"\"}, \"type\": \"mesh3d\"}], \"parcoords\": [{\"line\": {\"colorbar\": {\"outlinewidth\": 0, \"ticks\": \"\"}}, \"type\": \"parcoords\"}], \"pie\": [{\"automargin\": true, \"type\": \"pie\"}], \"scatter\": [{\"marker\": {\"colorbar\": {\"outlinewidth\": 0, \"ticks\": \"\"}}, \"type\": \"scatter\"}], \"scatter3d\": [{\"line\": {\"colorbar\": {\"outlinewidth\": 0, \"ticks\": \"\"}}, \"marker\": {\"colorbar\": {\"outlinewidth\": 0, \"ticks\": \"\"}}, \"type\": \"scatter3d\"}], \"scattercarpet\": [{\"marker\": {\"colorbar\": {\"outlinewidth\": 0, \"ticks\": \"\"}}, \"type\": \"scattercarpet\"}], \"scattergeo\": [{\"marker\": {\"colorbar\": {\"outlinewidth\": 0, \"ticks\": \"\"}}, \"type\": \"scattergeo\"}], \"scattergl\": [{\"marker\": {\"colorbar\": {\"outlinewidth\": 0, \"ticks\": \"\"}}, \"type\": \"scattergl\"}], \"scattermapbox\": [{\"marker\": {\"colorbar\": {\"outlinewidth\": 0, \"ticks\": \"\"}}, \"type\": \"scattermapbox\"}], \"scatterpolar\": [{\"marker\": {\"colorbar\": {\"outlinewidth\": 0, \"ticks\": \"\"}}, \"type\": \"scatterpolar\"}], \"scatterpolargl\": [{\"marker\": {\"colorbar\": {\"outlinewidth\": 0, \"ticks\": \"\"}}, \"type\": \"scatterpolargl\"}], \"scatterternary\": [{\"marker\": {\"colorbar\": {\"outlinewidth\": 0, \"ticks\": \"\"}}, \"type\": \"scatterternary\"}], \"surface\": [{\"colorbar\": {\"outlinewidth\": 0, \"ticks\": \"\"}, \"colorscale\": [[0.0, \"#0d0887\"], [0.1111111111111111, \"#46039f\"], [0.2222222222222222, \"#7201a8\"], [0.3333333333333333, \"#9c179e\"], [0.4444444444444444, \"#bd3786\"], [0.5555555555555556, \"#d8576b\"], [0.6666666666666666, \"#ed7953\"], [0.7777777777777778, \"#fb9f3a\"], [0.8888888888888888, \"#fdca26\"], [1.0, \"#f0f921\"]], \"type\": \"surface\"}], \"table\": [{\"cells\": {\"fill\": {\"color\": \"#EBF0F8\"}, \"line\": {\"color\": \"white\"}}, \"header\": {\"fill\": {\"color\": \"#C8D4E3\"}, \"line\": {\"color\": \"white\"}}, \"type\": \"table\"}]}, \"layout\": {\"annotationdefaults\": {\"arrowcolor\": \"#2a3f5f\", \"arrowhead\": 0, \"arrowwidth\": 1}, \"coloraxis\": {\"colorbar\": {\"outlinewidth\": 0, \"ticks\": \"\"}}, \"colorscale\": {\"diverging\": [[0, \"#8e0152\"], [0.1, \"#c51b7d\"], [0.2, \"#de77ae\"], [0.3, \"#f1b6da\"], [0.4, \"#fde0ef\"], [0.5, \"#f7f7f7\"], [0.6, \"#e6f5d0\"], [0.7, \"#b8e186\"], [0.8, \"#7fbc41\"], [0.9, \"#4d9221\"], [1, \"#276419\"]], \"sequential\": [[0.0, \"#0d0887\"], [0.1111111111111111, \"#46039f\"], [0.2222222222222222, \"#7201a8\"], [0.3333333333333333, \"#9c179e\"], [0.4444444444444444, \"#bd3786\"], [0.5555555555555556, \"#d8576b\"], [0.6666666666666666, \"#ed7953\"], [0.7777777777777778, \"#fb9f3a\"], [0.8888888888888888, \"#fdca26\"], [1.0, \"#f0f921\"]], \"sequentialminus\": [[0.0, \"#0d0887\"], [0.1111111111111111, \"#46039f\"], [0.2222222222222222, \"#7201a8\"], [0.3333333333333333, \"#9c179e\"], [0.4444444444444444, \"#bd3786\"], [0.5555555555555556, \"#d8576b\"], [0.6666666666666666, \"#ed7953\"], [0.7777777777777778, \"#fb9f3a\"], [0.8888888888888888, \"#fdca26\"], [1.0, \"#f0f921\"]]}, \"colorway\": [\"#636efa\", \"#EF553B\", \"#00cc96\", \"#ab63fa\", \"#FFA15A\", \"#19d3f3\", \"#FF6692\", \"#B6E880\", \"#FF97FF\", \"#FECB52\"], \"font\": {\"color\": \"#2a3f5f\"}, \"geo\": {\"bgcolor\": \"white\", \"lakecolor\": \"white\", \"landcolor\": \"#E5ECF6\", \"showlakes\": true, \"showland\": true, \"subunitcolor\": \"white\"}, \"hoverlabel\": {\"align\": \"left\"}, \"hovermode\": \"closest\", \"mapbox\": {\"style\": \"light\"}, \"paper_bgcolor\": \"white\", \"plot_bgcolor\": \"#E5ECF6\", \"polar\": {\"angularaxis\": {\"gridcolor\": \"white\", \"linecolor\": \"white\", \"ticks\": \"\"}, \"bgcolor\": \"#E5ECF6\", \"radialaxis\": {\"gridcolor\": \"white\", \"linecolor\": \"white\", \"ticks\": \"\"}}, \"scene\": {\"xaxis\": {\"backgroundcolor\": \"#E5ECF6\", \"gridcolor\": \"white\", \"gridwidth\": 2, \"linecolor\": \"white\", \"showbackground\": true, \"ticks\": \"\", \"zerolinecolor\": \"white\"}, \"yaxis\": {\"backgroundcolor\": \"#E5ECF6\", \"gridcolor\": \"white\", \"gridwidth\": 2, \"linecolor\": \"white\", \"showbackground\": true, \"ticks\": \"\", \"zerolinecolor\": \"white\"}, \"zaxis\": {\"backgroundcolor\": \"#E5ECF6\", \"gridcolor\": \"white\", \"gridwidth\": 2, \"linecolor\": \"white\", \"showbackground\": true, \"ticks\": \"\", \"zerolinecolor\": \"white\"}}, \"shapedefaults\": {\"line\": {\"color\": \"#2a3f5f\"}}, \"ternary\": {\"aaxis\": {\"gridcolor\": \"white\", \"linecolor\": \"white\", \"ticks\": \"\"}, \"baxis\": {\"gridcolor\": \"white\", \"linecolor\": \"white\", \"ticks\": \"\"}, \"bgcolor\": \"#E5ECF6\", \"caxis\": {\"gridcolor\": \"white\", \"linecolor\": \"white\", \"ticks\": \"\"}}, \"title\": {\"x\": 0.05}, \"xaxis\": {\"automargin\": true, \"gridcolor\": \"white\", \"linecolor\": \"white\", \"ticks\": \"\", \"title\": {\"standoff\": 15}, \"zerolinecolor\": \"white\", \"zerolinewidth\": 2}, \"yaxis\": {\"automargin\": true, \"gridcolor\": \"white\", \"linecolor\": \"white\", \"ticks\": \"\", \"title\": {\"standoff\": 15}, \"zerolinecolor\": \"white\", \"zerolinewidth\": 2}}}, \"title\": {\"text\": \"Quantidade de Feridos Leves por m\\u00eas em 2020 em cada Faixa Et\\u00e1ria - Dados reais e previstos\"}},\n",
              "                        {\"responsive\": true}\n",
              "                    ).then(function(){\n",
              "                            \n",
              "var gd = document.getElementById('e5156225-d2a2-4e5b-8f95-992b70b2657b');\n",
              "var x = new MutationObserver(function (mutations, observer) {{\n",
              "        var display = window.getComputedStyle(gd).display;\n",
              "        if (!display || display === 'none') {{\n",
              "            console.log([gd, 'removed!']);\n",
              "            Plotly.purge(gd);\n",
              "            observer.disconnect();\n",
              "        }}\n",
              "}});\n",
              "\n",
              "// Listen for the removal of the full notebook cells\n",
              "var notebookContainer = gd.closest('#notebook-container');\n",
              "if (notebookContainer) {{\n",
              "    x.observe(notebookContainer, {childList: true});\n",
              "}}\n",
              "\n",
              "// Listen for the clearing of the current output cell\n",
              "var outputEl = gd.closest('.output');\n",
              "if (outputEl) {{\n",
              "    x.observe(outputEl, {childList: true});\n",
              "}}\n",
              "\n",
              "                        })\n",
              "                };\n",
              "                \n",
              "            </script>\n",
              "        </div>\n",
              "</body>\n",
              "</html>"
            ]
          },
          "metadata": {
            "tags": []
          }
        }
      ]
    },
    {
      "cell_type": "markdown",
      "metadata": {
        "id": "Gciknj3HoPkf"
      },
      "source": [
        "###### Quantidade de Feridos Graves"
      ]
    },
    {
      "cell_type": "code",
      "metadata": {
        "id": "6JU7XzO1oPkf",
        "outputId": "cc868866-a332-403e-db1b-6768be6f3e03",
        "colab": {
          "base_uri": "https://localhost:8080/",
          "height": 698
        }
      },
      "source": [
        "data_plot = cria_data_plot('qtd_feridos_graves')\n",
        "fig = go.Figure(data=data_plot)\n",
        "fig.update_layout(title_text='Quantidade de Graves Leves por mês em 2020 em cada Faixa Etária - Dados reais e previstos')\n",
        "fig.show()"
      ],
      "execution_count": null,
      "outputs": [
        {
          "output_type": "stream",
          "text": [
            "/usr/local/lib/python3.6/dist-packages/plotly/graph_objs/_deprecations.py:385: DeprecationWarning:\n",
            "\n",
            "plotly.graph_objs.Line is deprecated.\n",
            "Please replace it with one of the following more specific types\n",
            "  - plotly.graph_objs.scatter.Line\n",
            "  - plotly.graph_objs.layout.shape.Line\n",
            "  - etc.\n",
            "\n",
            "\n"
          ],
          "name": "stderr"
        },
        {
          "output_type": "display_data",
          "data": {
            "text/html": [
              "<html>\n",
              "<head><meta charset=\"utf-8\" /></head>\n",
              "<body>\n",
              "    <div>\n",
              "            <script src=\"https://cdnjs.cloudflare.com/ajax/libs/mathjax/2.7.5/MathJax.js?config=TeX-AMS-MML_SVG\"></script><script type=\"text/javascript\">if (window.MathJax) {MathJax.Hub.Config({SVG: {font: \"STIX-Web\"}});}</script>\n",
              "                <script type=\"text/javascript\">window.PlotlyConfig = {MathJaxConfig: 'local'};</script>\n",
              "        <script src=\"https://cdn.plot.ly/plotly-latest.min.js\"></script>    \n",
              "            <div id=\"cfb93ebd-b00a-4f9f-9eaf-3e5f29cd2d9e\" class=\"plotly-graph-div\" style=\"height:525px; width:100%;\"></div>\n",
              "            <script type=\"text/javascript\">\n",
              "                \n",
              "                    window.PLOTLYENV=window.PLOTLYENV || {};\n",
              "                    \n",
              "                if (document.getElementById(\"cfb93ebd-b00a-4f9f-9eaf-3e5f29cd2d9e\")) {\n",
              "                    Plotly.newPlot(\n",
              "                        'cfb93ebd-b00a-4f9f-9eaf-3e5f29cd2d9e',\n",
              "                        [{\"name\": \"Entre 24 e 60 anos- Real\", \"type\": \"scatter\", \"x\": [1, 2, 3, 4, 5, 6, 7], \"y\": [1092.0, 1077.0, 908.0, 751.0, 876.0, 901.0, 895.0]}, {\"name\": \"Maior de 60 anos- Real\", \"type\": \"scatter\", \"x\": [1, 2, 3, 4, 5, 6, 7], \"y\": [131.0, 106.0, 107.0, 57.0, 79.0, 84.0, 104.0]}, {\"name\": \"Menor de 24 anos- Real\", \"type\": \"scatter\", \"x\": [1, 2, 3, 4, 5, 6, 7], \"y\": [285.0, 281.0, 191.0, 177.0, 203.0, 221.0, 248.0]}, {\"name\": \"Entre 24 e 60 anos- Previsto\", \"type\": \"scatter\", \"x\": [7, 8, 9, 10, 11, 12], \"y\": [914.37, 910.5, 910.75, 918.08, 911.93, 942.45]}, {\"name\": \"Maior de 60 anos- Previsto\", \"type\": \"scatter\", \"x\": [7, 8, 9, 10, 11, 12], \"y\": [95.23, 95.12, 94.86, 95.02, 94.6, 95.46]}, {\"name\": \"Menor de 24 anos- Previsto\", \"type\": \"scatter\", \"x\": [7, 8, 9, 10, 11, 12], \"y\": [243.5, 245.24, 243.98, 248.25, 253.4, 312.25]}],\n",
              "                        {\"template\": {\"data\": {\"bar\": [{\"error_x\": {\"color\": \"#2a3f5f\"}, \"error_y\": {\"color\": \"#2a3f5f\"}, \"marker\": {\"line\": {\"color\": \"#E5ECF6\", \"width\": 0.5}}, \"type\": \"bar\"}], \"barpolar\": [{\"marker\": {\"line\": {\"color\": \"#E5ECF6\", \"width\": 0.5}}, \"type\": \"barpolar\"}], \"carpet\": [{\"aaxis\": {\"endlinecolor\": \"#2a3f5f\", \"gridcolor\": \"white\", \"linecolor\": \"white\", \"minorgridcolor\": \"white\", \"startlinecolor\": \"#2a3f5f\"}, \"baxis\": {\"endlinecolor\": \"#2a3f5f\", \"gridcolor\": \"white\", \"linecolor\": \"white\", \"minorgridcolor\": \"white\", \"startlinecolor\": \"#2a3f5f\"}, \"type\": \"carpet\"}], \"choropleth\": [{\"colorbar\": {\"outlinewidth\": 0, \"ticks\": \"\"}, \"type\": \"choropleth\"}], \"contour\": [{\"colorbar\": {\"outlinewidth\": 0, \"ticks\": \"\"}, \"colorscale\": [[0.0, \"#0d0887\"], [0.1111111111111111, \"#46039f\"], [0.2222222222222222, \"#7201a8\"], [0.3333333333333333, \"#9c179e\"], [0.4444444444444444, \"#bd3786\"], [0.5555555555555556, \"#d8576b\"], [0.6666666666666666, \"#ed7953\"], [0.7777777777777778, \"#fb9f3a\"], [0.8888888888888888, \"#fdca26\"], [1.0, \"#f0f921\"]], \"type\": \"contour\"}], \"contourcarpet\": [{\"colorbar\": {\"outlinewidth\": 0, \"ticks\": \"\"}, \"type\": \"contourcarpet\"}], \"heatmap\": [{\"colorbar\": {\"outlinewidth\": 0, \"ticks\": \"\"}, \"colorscale\": [[0.0, \"#0d0887\"], [0.1111111111111111, \"#46039f\"], [0.2222222222222222, \"#7201a8\"], [0.3333333333333333, \"#9c179e\"], [0.4444444444444444, \"#bd3786\"], [0.5555555555555556, \"#d8576b\"], [0.6666666666666666, \"#ed7953\"], [0.7777777777777778, \"#fb9f3a\"], [0.8888888888888888, \"#fdca26\"], [1.0, \"#f0f921\"]], \"type\": \"heatmap\"}], \"heatmapgl\": [{\"colorbar\": {\"outlinewidth\": 0, \"ticks\": \"\"}, \"colorscale\": [[0.0, \"#0d0887\"], [0.1111111111111111, \"#46039f\"], [0.2222222222222222, \"#7201a8\"], [0.3333333333333333, \"#9c179e\"], [0.4444444444444444, \"#bd3786\"], [0.5555555555555556, \"#d8576b\"], [0.6666666666666666, \"#ed7953\"], [0.7777777777777778, \"#fb9f3a\"], [0.8888888888888888, \"#fdca26\"], [1.0, \"#f0f921\"]], \"type\": \"heatmapgl\"}], \"histogram\": [{\"marker\": {\"colorbar\": {\"outlinewidth\": 0, \"ticks\": \"\"}}, \"type\": \"histogram\"}], \"histogram2d\": [{\"colorbar\": {\"outlinewidth\": 0, \"ticks\": \"\"}, \"colorscale\": [[0.0, \"#0d0887\"], [0.1111111111111111, \"#46039f\"], [0.2222222222222222, \"#7201a8\"], [0.3333333333333333, \"#9c179e\"], [0.4444444444444444, \"#bd3786\"], [0.5555555555555556, \"#d8576b\"], [0.6666666666666666, \"#ed7953\"], [0.7777777777777778, \"#fb9f3a\"], [0.8888888888888888, \"#fdca26\"], [1.0, \"#f0f921\"]], \"type\": \"histogram2d\"}], \"histogram2dcontour\": [{\"colorbar\": {\"outlinewidth\": 0, \"ticks\": \"\"}, \"colorscale\": [[0.0, \"#0d0887\"], [0.1111111111111111, \"#46039f\"], [0.2222222222222222, \"#7201a8\"], [0.3333333333333333, \"#9c179e\"], [0.4444444444444444, \"#bd3786\"], [0.5555555555555556, \"#d8576b\"], [0.6666666666666666, \"#ed7953\"], [0.7777777777777778, \"#fb9f3a\"], [0.8888888888888888, \"#fdca26\"], [1.0, \"#f0f921\"]], \"type\": \"histogram2dcontour\"}], \"mesh3d\": [{\"colorbar\": {\"outlinewidth\": 0, \"ticks\": \"\"}, \"type\": \"mesh3d\"}], \"parcoords\": [{\"line\": {\"colorbar\": {\"outlinewidth\": 0, \"ticks\": \"\"}}, \"type\": \"parcoords\"}], \"pie\": [{\"automargin\": true, \"type\": \"pie\"}], \"scatter\": [{\"marker\": {\"colorbar\": {\"outlinewidth\": 0, \"ticks\": \"\"}}, \"type\": \"scatter\"}], \"scatter3d\": [{\"line\": {\"colorbar\": {\"outlinewidth\": 0, \"ticks\": \"\"}}, \"marker\": {\"colorbar\": {\"outlinewidth\": 0, \"ticks\": \"\"}}, \"type\": \"scatter3d\"}], \"scattercarpet\": [{\"marker\": {\"colorbar\": {\"outlinewidth\": 0, \"ticks\": \"\"}}, \"type\": \"scattercarpet\"}], \"scattergeo\": [{\"marker\": {\"colorbar\": {\"outlinewidth\": 0, \"ticks\": \"\"}}, \"type\": \"scattergeo\"}], \"scattergl\": [{\"marker\": {\"colorbar\": {\"outlinewidth\": 0, \"ticks\": \"\"}}, \"type\": \"scattergl\"}], \"scattermapbox\": [{\"marker\": {\"colorbar\": {\"outlinewidth\": 0, \"ticks\": \"\"}}, \"type\": \"scattermapbox\"}], \"scatterpolar\": [{\"marker\": {\"colorbar\": {\"outlinewidth\": 0, \"ticks\": \"\"}}, \"type\": \"scatterpolar\"}], \"scatterpolargl\": [{\"marker\": {\"colorbar\": {\"outlinewidth\": 0, \"ticks\": \"\"}}, \"type\": \"scatterpolargl\"}], \"scatterternary\": [{\"marker\": {\"colorbar\": {\"outlinewidth\": 0, \"ticks\": \"\"}}, \"type\": \"scatterternary\"}], \"surface\": [{\"colorbar\": {\"outlinewidth\": 0, \"ticks\": \"\"}, \"colorscale\": [[0.0, \"#0d0887\"], [0.1111111111111111, \"#46039f\"], [0.2222222222222222, \"#7201a8\"], [0.3333333333333333, \"#9c179e\"], [0.4444444444444444, \"#bd3786\"], [0.5555555555555556, \"#d8576b\"], [0.6666666666666666, \"#ed7953\"], [0.7777777777777778, \"#fb9f3a\"], [0.8888888888888888, \"#fdca26\"], [1.0, \"#f0f921\"]], \"type\": \"surface\"}], \"table\": [{\"cells\": {\"fill\": {\"color\": \"#EBF0F8\"}, \"line\": {\"color\": \"white\"}}, \"header\": {\"fill\": {\"color\": \"#C8D4E3\"}, \"line\": {\"color\": \"white\"}}, \"type\": \"table\"}]}, \"layout\": {\"annotationdefaults\": {\"arrowcolor\": \"#2a3f5f\", \"arrowhead\": 0, \"arrowwidth\": 1}, \"coloraxis\": {\"colorbar\": {\"outlinewidth\": 0, \"ticks\": \"\"}}, \"colorscale\": {\"diverging\": [[0, \"#8e0152\"], [0.1, \"#c51b7d\"], [0.2, \"#de77ae\"], [0.3, \"#f1b6da\"], [0.4, \"#fde0ef\"], [0.5, \"#f7f7f7\"], [0.6, \"#e6f5d0\"], [0.7, \"#b8e186\"], [0.8, \"#7fbc41\"], [0.9, \"#4d9221\"], [1, \"#276419\"]], \"sequential\": [[0.0, \"#0d0887\"], [0.1111111111111111, \"#46039f\"], [0.2222222222222222, \"#7201a8\"], [0.3333333333333333, \"#9c179e\"], [0.4444444444444444, \"#bd3786\"], [0.5555555555555556, \"#d8576b\"], [0.6666666666666666, \"#ed7953\"], [0.7777777777777778, \"#fb9f3a\"], [0.8888888888888888, \"#fdca26\"], [1.0, \"#f0f921\"]], \"sequentialminus\": [[0.0, \"#0d0887\"], [0.1111111111111111, \"#46039f\"], [0.2222222222222222, \"#7201a8\"], [0.3333333333333333, \"#9c179e\"], [0.4444444444444444, \"#bd3786\"], [0.5555555555555556, \"#d8576b\"], [0.6666666666666666, \"#ed7953\"], [0.7777777777777778, \"#fb9f3a\"], [0.8888888888888888, \"#fdca26\"], [1.0, \"#f0f921\"]]}, \"colorway\": [\"#636efa\", \"#EF553B\", \"#00cc96\", \"#ab63fa\", \"#FFA15A\", \"#19d3f3\", \"#FF6692\", \"#B6E880\", \"#FF97FF\", \"#FECB52\"], \"font\": {\"color\": \"#2a3f5f\"}, \"geo\": {\"bgcolor\": \"white\", \"lakecolor\": \"white\", \"landcolor\": \"#E5ECF6\", \"showlakes\": true, \"showland\": true, \"subunitcolor\": \"white\"}, \"hoverlabel\": {\"align\": \"left\"}, \"hovermode\": \"closest\", \"mapbox\": {\"style\": \"light\"}, \"paper_bgcolor\": \"white\", \"plot_bgcolor\": \"#E5ECF6\", \"polar\": {\"angularaxis\": {\"gridcolor\": \"white\", \"linecolor\": \"white\", \"ticks\": \"\"}, \"bgcolor\": \"#E5ECF6\", \"radialaxis\": {\"gridcolor\": \"white\", \"linecolor\": \"white\", \"ticks\": \"\"}}, \"scene\": {\"xaxis\": {\"backgroundcolor\": \"#E5ECF6\", \"gridcolor\": \"white\", \"gridwidth\": 2, \"linecolor\": \"white\", \"showbackground\": true, \"ticks\": \"\", \"zerolinecolor\": \"white\"}, \"yaxis\": {\"backgroundcolor\": \"#E5ECF6\", \"gridcolor\": \"white\", \"gridwidth\": 2, \"linecolor\": \"white\", \"showbackground\": true, \"ticks\": \"\", \"zerolinecolor\": \"white\"}, \"zaxis\": {\"backgroundcolor\": \"#E5ECF6\", \"gridcolor\": \"white\", \"gridwidth\": 2, \"linecolor\": \"white\", \"showbackground\": true, \"ticks\": \"\", \"zerolinecolor\": \"white\"}}, \"shapedefaults\": {\"line\": {\"color\": \"#2a3f5f\"}}, \"ternary\": {\"aaxis\": {\"gridcolor\": \"white\", \"linecolor\": \"white\", \"ticks\": \"\"}, \"baxis\": {\"gridcolor\": \"white\", \"linecolor\": \"white\", \"ticks\": \"\"}, \"bgcolor\": \"#E5ECF6\", \"caxis\": {\"gridcolor\": \"white\", \"linecolor\": \"white\", \"ticks\": \"\"}}, \"title\": {\"x\": 0.05}, \"xaxis\": {\"automargin\": true, \"gridcolor\": \"white\", \"linecolor\": \"white\", \"ticks\": \"\", \"title\": {\"standoff\": 15}, \"zerolinecolor\": \"white\", \"zerolinewidth\": 2}, \"yaxis\": {\"automargin\": true, \"gridcolor\": \"white\", \"linecolor\": \"white\", \"ticks\": \"\", \"title\": {\"standoff\": 15}, \"zerolinecolor\": \"white\", \"zerolinewidth\": 2}}}, \"title\": {\"text\": \"Quantidade de Graves Leves por m\\u00eas em 2020 em cada Faixa Et\\u00e1ria - Dados reais e previstos\"}},\n",
              "                        {\"responsive\": true}\n",
              "                    ).then(function(){\n",
              "                            \n",
              "var gd = document.getElementById('cfb93ebd-b00a-4f9f-9eaf-3e5f29cd2d9e');\n",
              "var x = new MutationObserver(function (mutations, observer) {{\n",
              "        var display = window.getComputedStyle(gd).display;\n",
              "        if (!display || display === 'none') {{\n",
              "            console.log([gd, 'removed!']);\n",
              "            Plotly.purge(gd);\n",
              "            observer.disconnect();\n",
              "        }}\n",
              "}});\n",
              "\n",
              "// Listen for the removal of the full notebook cells\n",
              "var notebookContainer = gd.closest('#notebook-container');\n",
              "if (notebookContainer) {{\n",
              "    x.observe(notebookContainer, {childList: true});\n",
              "}}\n",
              "\n",
              "// Listen for the clearing of the current output cell\n",
              "var outputEl = gd.closest('.output');\n",
              "if (outputEl) {{\n",
              "    x.observe(outputEl, {childList: true});\n",
              "}}\n",
              "\n",
              "                        })\n",
              "                };\n",
              "                \n",
              "            </script>\n",
              "        </div>\n",
              "</body>\n",
              "</html>"
            ]
          },
          "metadata": {
            "tags": []
          }
        }
      ]
    },
    {
      "cell_type": "markdown",
      "metadata": {
        "id": "BuueihU4oPkh"
      },
      "source": [
        "###### Quantidade de Mortos"
      ]
    },
    {
      "cell_type": "code",
      "metadata": {
        "id": "oUMae0lMoPkh",
        "outputId": "08447713-0679-4bc0-bc4b-8381d7765724",
        "colab": {
          "base_uri": "https://localhost:8080/",
          "height": 698
        }
      },
      "source": [
        "data_plot = cria_data_plot('qtd_mortos')\n",
        "fig = go.Figure(data=data_plot)\n",
        "fig.update_layout(title_text='Quantidade de Mortos Leves por mês em 2020 em cada sexo- Dados reais e previstos')\n",
        "fig.show()"
      ],
      "execution_count": null,
      "outputs": [
        {
          "output_type": "stream",
          "text": [
            "/usr/local/lib/python3.6/dist-packages/plotly/graph_objs/_deprecations.py:385: DeprecationWarning:\n",
            "\n",
            "plotly.graph_objs.Line is deprecated.\n",
            "Please replace it with one of the following more specific types\n",
            "  - plotly.graph_objs.scatter.Line\n",
            "  - plotly.graph_objs.layout.shape.Line\n",
            "  - etc.\n",
            "\n",
            "\n"
          ],
          "name": "stderr"
        },
        {
          "output_type": "display_data",
          "data": {
            "text/html": [
              "<html>\n",
              "<head><meta charset=\"utf-8\" /></head>\n",
              "<body>\n",
              "    <div>\n",
              "            <script src=\"https://cdnjs.cloudflare.com/ajax/libs/mathjax/2.7.5/MathJax.js?config=TeX-AMS-MML_SVG\"></script><script type=\"text/javascript\">if (window.MathJax) {MathJax.Hub.Config({SVG: {font: \"STIX-Web\"}});}</script>\n",
              "                <script type=\"text/javascript\">window.PlotlyConfig = {MathJaxConfig: 'local'};</script>\n",
              "        <script src=\"https://cdn.plot.ly/plotly-latest.min.js\"></script>    \n",
              "            <div id=\"da98ade4-f916-4a49-9575-761ae6f78c9a\" class=\"plotly-graph-div\" style=\"height:525px; width:100%;\"></div>\n",
              "            <script type=\"text/javascript\">\n",
              "                \n",
              "                    window.PLOTLYENV=window.PLOTLYENV || {};\n",
              "                    \n",
              "                if (document.getElementById(\"da98ade4-f916-4a49-9575-761ae6f78c9a\")) {\n",
              "                    Plotly.newPlot(\n",
              "                        'da98ade4-f916-4a49-9575-761ae6f78c9a',\n",
              "                        [{\"name\": \"Entre 24 e 60 anos- Real\", \"type\": \"scatter\", \"x\": [1, 2, 3, 4, 5, 6, 7], \"y\": [295.0, 283.0, 292.0, 269.0, 298.0, 268.0, 339.0]}, {\"name\": \"Maior de 60 anos- Real\", \"type\": \"scatter\", \"x\": [1, 2, 3, 4, 5, 6, 7], \"y\": [67.0, 42.0, 53.0, 43.0, 42.0, 34.0, 50.0]}, {\"name\": \"Menor de 24 anos- Real\", \"type\": \"scatter\", \"x\": [1, 2, 3, 4, 5, 6, 7], \"y\": [48.0, 61.0, 44.0, 42.0, 46.0, 54.0, 64.0]}, {\"name\": \"Entre 24 e 60 anos- Previsto\", \"type\": \"scatter\", \"x\": [7, 8, 9, 10, 11, 12], \"y\": [316.42, 314.6, 313.83, 313.04, 314.74, 317.7]}, {\"name\": \"Maior de 60 anos- Previsto\", \"type\": \"scatter\", \"x\": [7, 8, 9, 10, 11, 12], \"y\": [44.89, 45.26, 45.08, 44.9, 45.26, 45.09]}, {\"name\": \"Menor de 24 anos- Previsto\", \"type\": \"scatter\", \"x\": [7, 8, 9, 10, 11, 12], \"y\": [61.64, 60.52, 61.41, 62.13, 62.3, 78.44]}],\n",
              "                        {\"template\": {\"data\": {\"bar\": [{\"error_x\": {\"color\": \"#2a3f5f\"}, \"error_y\": {\"color\": \"#2a3f5f\"}, \"marker\": {\"line\": {\"color\": \"#E5ECF6\", \"width\": 0.5}}, \"type\": \"bar\"}], \"barpolar\": [{\"marker\": {\"line\": {\"color\": \"#E5ECF6\", \"width\": 0.5}}, \"type\": \"barpolar\"}], \"carpet\": [{\"aaxis\": {\"endlinecolor\": \"#2a3f5f\", \"gridcolor\": \"white\", \"linecolor\": \"white\", \"minorgridcolor\": \"white\", \"startlinecolor\": \"#2a3f5f\"}, \"baxis\": {\"endlinecolor\": \"#2a3f5f\", \"gridcolor\": \"white\", \"linecolor\": \"white\", \"minorgridcolor\": \"white\", \"startlinecolor\": \"#2a3f5f\"}, \"type\": \"carpet\"}], \"choropleth\": [{\"colorbar\": {\"outlinewidth\": 0, \"ticks\": \"\"}, \"type\": \"choropleth\"}], \"contour\": [{\"colorbar\": {\"outlinewidth\": 0, \"ticks\": \"\"}, \"colorscale\": [[0.0, \"#0d0887\"], [0.1111111111111111, \"#46039f\"], [0.2222222222222222, \"#7201a8\"], [0.3333333333333333, \"#9c179e\"], [0.4444444444444444, \"#bd3786\"], [0.5555555555555556, \"#d8576b\"], [0.6666666666666666, \"#ed7953\"], [0.7777777777777778, \"#fb9f3a\"], [0.8888888888888888, \"#fdca26\"], [1.0, \"#f0f921\"]], \"type\": \"contour\"}], \"contourcarpet\": [{\"colorbar\": {\"outlinewidth\": 0, \"ticks\": \"\"}, \"type\": \"contourcarpet\"}], \"heatmap\": [{\"colorbar\": {\"outlinewidth\": 0, \"ticks\": \"\"}, \"colorscale\": [[0.0, \"#0d0887\"], [0.1111111111111111, \"#46039f\"], [0.2222222222222222, \"#7201a8\"], [0.3333333333333333, \"#9c179e\"], [0.4444444444444444, \"#bd3786\"], [0.5555555555555556, \"#d8576b\"], [0.6666666666666666, \"#ed7953\"], [0.7777777777777778, \"#fb9f3a\"], [0.8888888888888888, \"#fdca26\"], [1.0, \"#f0f921\"]], \"type\": \"heatmap\"}], \"heatmapgl\": [{\"colorbar\": {\"outlinewidth\": 0, \"ticks\": \"\"}, \"colorscale\": [[0.0, \"#0d0887\"], [0.1111111111111111, \"#46039f\"], [0.2222222222222222, \"#7201a8\"], [0.3333333333333333, \"#9c179e\"], [0.4444444444444444, \"#bd3786\"], [0.5555555555555556, \"#d8576b\"], [0.6666666666666666, \"#ed7953\"], [0.7777777777777778, \"#fb9f3a\"], [0.8888888888888888, \"#fdca26\"], [1.0, \"#f0f921\"]], \"type\": \"heatmapgl\"}], \"histogram\": [{\"marker\": {\"colorbar\": {\"outlinewidth\": 0, \"ticks\": \"\"}}, \"type\": \"histogram\"}], \"histogram2d\": [{\"colorbar\": {\"outlinewidth\": 0, \"ticks\": \"\"}, \"colorscale\": [[0.0, \"#0d0887\"], [0.1111111111111111, \"#46039f\"], [0.2222222222222222, \"#7201a8\"], [0.3333333333333333, \"#9c179e\"], [0.4444444444444444, \"#bd3786\"], [0.5555555555555556, \"#d8576b\"], [0.6666666666666666, \"#ed7953\"], [0.7777777777777778, \"#fb9f3a\"], [0.8888888888888888, \"#fdca26\"], [1.0, \"#f0f921\"]], \"type\": \"histogram2d\"}], \"histogram2dcontour\": [{\"colorbar\": {\"outlinewidth\": 0, \"ticks\": \"\"}, \"colorscale\": [[0.0, \"#0d0887\"], [0.1111111111111111, \"#46039f\"], [0.2222222222222222, \"#7201a8\"], [0.3333333333333333, \"#9c179e\"], [0.4444444444444444, \"#bd3786\"], [0.5555555555555556, \"#d8576b\"], [0.6666666666666666, \"#ed7953\"], [0.7777777777777778, \"#fb9f3a\"], [0.8888888888888888, \"#fdca26\"], [1.0, \"#f0f921\"]], \"type\": \"histogram2dcontour\"}], \"mesh3d\": [{\"colorbar\": {\"outlinewidth\": 0, \"ticks\": \"\"}, \"type\": \"mesh3d\"}], \"parcoords\": [{\"line\": {\"colorbar\": {\"outlinewidth\": 0, \"ticks\": \"\"}}, \"type\": \"parcoords\"}], \"pie\": [{\"automargin\": true, \"type\": \"pie\"}], \"scatter\": [{\"marker\": {\"colorbar\": {\"outlinewidth\": 0, \"ticks\": \"\"}}, \"type\": \"scatter\"}], \"scatter3d\": [{\"line\": {\"colorbar\": {\"outlinewidth\": 0, \"ticks\": \"\"}}, \"marker\": {\"colorbar\": {\"outlinewidth\": 0, \"ticks\": \"\"}}, \"type\": \"scatter3d\"}], \"scattercarpet\": [{\"marker\": {\"colorbar\": {\"outlinewidth\": 0, \"ticks\": \"\"}}, \"type\": \"scattercarpet\"}], \"scattergeo\": [{\"marker\": {\"colorbar\": {\"outlinewidth\": 0, \"ticks\": \"\"}}, \"type\": \"scattergeo\"}], \"scattergl\": [{\"marker\": {\"colorbar\": {\"outlinewidth\": 0, \"ticks\": \"\"}}, \"type\": \"scattergl\"}], \"scattermapbox\": [{\"marker\": {\"colorbar\": {\"outlinewidth\": 0, \"ticks\": \"\"}}, \"type\": \"scattermapbox\"}], \"scatterpolar\": [{\"marker\": {\"colorbar\": {\"outlinewidth\": 0, \"ticks\": \"\"}}, \"type\": \"scatterpolar\"}], \"scatterpolargl\": [{\"marker\": {\"colorbar\": {\"outlinewidth\": 0, \"ticks\": \"\"}}, \"type\": \"scatterpolargl\"}], \"scatterternary\": [{\"marker\": {\"colorbar\": {\"outlinewidth\": 0, \"ticks\": \"\"}}, \"type\": \"scatterternary\"}], \"surface\": [{\"colorbar\": {\"outlinewidth\": 0, \"ticks\": \"\"}, \"colorscale\": [[0.0, \"#0d0887\"], [0.1111111111111111, \"#46039f\"], [0.2222222222222222, \"#7201a8\"], [0.3333333333333333, \"#9c179e\"], [0.4444444444444444, \"#bd3786\"], [0.5555555555555556, \"#d8576b\"], [0.6666666666666666, \"#ed7953\"], [0.7777777777777778, \"#fb9f3a\"], [0.8888888888888888, \"#fdca26\"], [1.0, \"#f0f921\"]], \"type\": \"surface\"}], \"table\": [{\"cells\": {\"fill\": {\"color\": \"#EBF0F8\"}, \"line\": {\"color\": \"white\"}}, \"header\": {\"fill\": {\"color\": \"#C8D4E3\"}, \"line\": {\"color\": \"white\"}}, \"type\": \"table\"}]}, \"layout\": {\"annotationdefaults\": {\"arrowcolor\": \"#2a3f5f\", \"arrowhead\": 0, \"arrowwidth\": 1}, \"coloraxis\": {\"colorbar\": {\"outlinewidth\": 0, \"ticks\": \"\"}}, \"colorscale\": {\"diverging\": [[0, \"#8e0152\"], [0.1, \"#c51b7d\"], [0.2, \"#de77ae\"], [0.3, \"#f1b6da\"], [0.4, \"#fde0ef\"], [0.5, \"#f7f7f7\"], [0.6, \"#e6f5d0\"], [0.7, \"#b8e186\"], [0.8, \"#7fbc41\"], [0.9, \"#4d9221\"], [1, \"#276419\"]], \"sequential\": [[0.0, \"#0d0887\"], [0.1111111111111111, \"#46039f\"], [0.2222222222222222, \"#7201a8\"], [0.3333333333333333, \"#9c179e\"], [0.4444444444444444, \"#bd3786\"], [0.5555555555555556, \"#d8576b\"], [0.6666666666666666, \"#ed7953\"], [0.7777777777777778, \"#fb9f3a\"], [0.8888888888888888, \"#fdca26\"], [1.0, \"#f0f921\"]], \"sequentialminus\": [[0.0, \"#0d0887\"], [0.1111111111111111, \"#46039f\"], [0.2222222222222222, \"#7201a8\"], [0.3333333333333333, \"#9c179e\"], [0.4444444444444444, \"#bd3786\"], [0.5555555555555556, \"#d8576b\"], [0.6666666666666666, \"#ed7953\"], [0.7777777777777778, \"#fb9f3a\"], [0.8888888888888888, \"#fdca26\"], [1.0, \"#f0f921\"]]}, \"colorway\": [\"#636efa\", \"#EF553B\", \"#00cc96\", \"#ab63fa\", \"#FFA15A\", \"#19d3f3\", \"#FF6692\", \"#B6E880\", \"#FF97FF\", \"#FECB52\"], \"font\": {\"color\": \"#2a3f5f\"}, \"geo\": {\"bgcolor\": \"white\", \"lakecolor\": \"white\", \"landcolor\": \"#E5ECF6\", \"showlakes\": true, \"showland\": true, \"subunitcolor\": \"white\"}, \"hoverlabel\": {\"align\": \"left\"}, \"hovermode\": \"closest\", \"mapbox\": {\"style\": \"light\"}, \"paper_bgcolor\": \"white\", \"plot_bgcolor\": \"#E5ECF6\", \"polar\": {\"angularaxis\": {\"gridcolor\": \"white\", \"linecolor\": \"white\", \"ticks\": \"\"}, \"bgcolor\": \"#E5ECF6\", \"radialaxis\": {\"gridcolor\": \"white\", \"linecolor\": \"white\", \"ticks\": \"\"}}, \"scene\": {\"xaxis\": {\"backgroundcolor\": \"#E5ECF6\", \"gridcolor\": \"white\", \"gridwidth\": 2, \"linecolor\": \"white\", \"showbackground\": true, \"ticks\": \"\", \"zerolinecolor\": \"white\"}, \"yaxis\": {\"backgroundcolor\": \"#E5ECF6\", \"gridcolor\": \"white\", \"gridwidth\": 2, \"linecolor\": \"white\", \"showbackground\": true, \"ticks\": \"\", \"zerolinecolor\": \"white\"}, \"zaxis\": {\"backgroundcolor\": \"#E5ECF6\", \"gridcolor\": \"white\", \"gridwidth\": 2, \"linecolor\": \"white\", \"showbackground\": true, \"ticks\": \"\", \"zerolinecolor\": \"white\"}}, \"shapedefaults\": {\"line\": {\"color\": \"#2a3f5f\"}}, \"ternary\": {\"aaxis\": {\"gridcolor\": \"white\", \"linecolor\": \"white\", \"ticks\": \"\"}, \"baxis\": {\"gridcolor\": \"white\", \"linecolor\": \"white\", \"ticks\": \"\"}, \"bgcolor\": \"#E5ECF6\", \"caxis\": {\"gridcolor\": \"white\", \"linecolor\": \"white\", \"ticks\": \"\"}}, \"title\": {\"x\": 0.05}, \"xaxis\": {\"automargin\": true, \"gridcolor\": \"white\", \"linecolor\": \"white\", \"ticks\": \"\", \"title\": {\"standoff\": 15}, \"zerolinecolor\": \"white\", \"zerolinewidth\": 2}, \"yaxis\": {\"automargin\": true, \"gridcolor\": \"white\", \"linecolor\": \"white\", \"ticks\": \"\", \"title\": {\"standoff\": 15}, \"zerolinecolor\": \"white\", \"zerolinewidth\": 2}}}, \"title\": {\"text\": \"Quantidade de Mortos Leves por m\\u00eas em 2020 em cada sexo- Dados reais e previstos\"}},\n",
              "                        {\"responsive\": true}\n",
              "                    ).then(function(){\n",
              "                            \n",
              "var gd = document.getElementById('da98ade4-f916-4a49-9575-761ae6f78c9a');\n",
              "var x = new MutationObserver(function (mutations, observer) {{\n",
              "        var display = window.getComputedStyle(gd).display;\n",
              "        if (!display || display === 'none') {{\n",
              "            console.log([gd, 'removed!']);\n",
              "            Plotly.purge(gd);\n",
              "            observer.disconnect();\n",
              "        }}\n",
              "}});\n",
              "\n",
              "// Listen for the removal of the full notebook cells\n",
              "var notebookContainer = gd.closest('#notebook-container');\n",
              "if (notebookContainer) {{\n",
              "    x.observe(notebookContainer, {childList: true});\n",
              "}}\n",
              "\n",
              "// Listen for the clearing of the current output cell\n",
              "var outputEl = gd.closest('.output');\n",
              "if (outputEl) {{\n",
              "    x.observe(outputEl, {childList: true});\n",
              "}}\n",
              "\n",
              "                        })\n",
              "                };\n",
              "                \n",
              "            </script>\n",
              "        </div>\n",
              "</body>\n",
              "</html>"
            ]
          },
          "metadata": {
            "tags": []
          }
        }
      ]
    },
    {
      "cell_type": "markdown",
      "metadata": {
        "id": "-TvKowtmo5d5"
      },
      "source": [
        "#### **Hipótese 2:**"
      ]
    },
    {
      "cell_type": "markdown",
      "metadata": {
        "id": "Y9cC2KLDo5d6"
      },
      "source": [
        "##### Agrupando Dados"
      ]
    },
    {
      "cell_type": "code",
      "metadata": {
        "id": "Vny0SjyQo5d7"
      },
      "source": [
        "x = ['ano', 'mes', 'tipo_acidente']\n",
        "y = ['qtd_acidentes', 'qtd_ilesos', 'qtd_feridos_leves', 'qtd_feridos_graves', 'qtd_mortos', 'qtd_feridos', 'qtd_veiculos']\n",
        "\n",
        "df = dfOcorrencias\n",
        "df = df.groupby([df['data_inversa'].dt.strftime('%Y'), df['data_inversa'].dt.strftime('%B'), 'tipo_acidente'])\n",
        "df = df.agg({'id': 'nunique', 'ilesos': 'sum', 'feridos_leves': 'sum', 'feridos_graves': 'sum', 'mortos': 'sum', 'feridos': 'sum', 'veiculos': 'sum'})\n",
        "df.index.names = x\n",
        "df.columns = y\n",
        "df = df.reset_index()"
      ],
      "execution_count": null,
      "outputs": []
    },
    {
      "cell_type": "markdown",
      "metadata": {
        "id": "GFkvd25Yo5d9"
      },
      "source": [
        "##### Tratando Dados"
      ]
    },
    {
      "cell_type": "code",
      "metadata": {
        "id": "Sbpb88t4o5d9"
      },
      "source": [
        "# Label Encoder\n",
        "df_encoded = label_encoder(df.copy(), ['mes', 'tipo_acidente'])\n",
        "\n",
        "# Divisão da base\n",
        "X = df_encoded[x]\n",
        "Y = df_encoded[y]\n",
        "\n",
        "X_train, X_test, Y_train, Y_test = hold_out(X, Y)"
      ],
      "execution_count": null,
      "outputs": []
    },
    {
      "cell_type": "markdown",
      "metadata": {
        "id": "3S1UIg2io5d_"
      },
      "source": [
        "##### Regressão Linear"
      ]
    },
    {
      "cell_type": "code",
      "metadata": {
        "id": "VUnVHFVyo5d_",
        "outputId": "ba028475-3725-4d6e-ec09-c5240f6cf1ed",
        "colab": {
          "base_uri": "https://localhost:8080/"
        }
      },
      "source": [
        "scrl1_tipo, scrl2_tipo, maerl_tipo = regressao_linear(X_train, Y_train, X_test, Y_test)"
      ],
      "execution_count": null,
      "outputs": [
        {
          "output_type": "stream",
          "text": [
            "Score Treino:  0.6566366551817503 \n",
            "Score Teste:  0.5960782090935575\n",
            "Erro médio absoluto:  1009.2446363510967 \n",
            "\n"
          ],
          "name": "stdout"
        },
        {
          "output_type": "stream",
          "text": [
            "/usr/local/lib/python3.6/dist-packages/sklearn/base.py:434: FutureWarning:\n",
            "\n",
            "The default value of multioutput (not exposed in score method) will change from 'variance_weighted' to 'uniform_average' in 0.23 to keep consistent with 'metrics.r2_score'. To specify the default value manually and avoid the warning, please either call 'metrics.r2_score' directly or make a custom scorer with 'metrics.make_scorer' (the built-in scorer 'r2' uses multioutput='uniform_average').\n",
            "\n",
            "/usr/local/lib/python3.6/dist-packages/sklearn/base.py:434: FutureWarning:\n",
            "\n",
            "The default value of multioutput (not exposed in score method) will change from 'variance_weighted' to 'uniform_average' in 0.23 to keep consistent with 'metrics.r2_score'. To specify the default value manually and avoid the warning, please either call 'metrics.r2_score' directly or make a custom scorer with 'metrics.make_scorer' (the built-in scorer 'r2' uses multioutput='uniform_average').\n",
            "\n"
          ],
          "name": "stderr"
        }
      ]
    },
    {
      "cell_type": "markdown",
      "metadata": {
        "id": "IeV9zX8ko5eD"
      },
      "source": [
        "##### Regressão Polinomial"
      ]
    },
    {
      "cell_type": "code",
      "metadata": {
        "id": "1mAgD_ido5eD",
        "outputId": "888a5d0c-538a-49cb-c408-0c9ca0625a75",
        "colab": {
          "base_uri": "https://localhost:8080/"
        }
      },
      "source": [
        "scrl1_tipo, scrl2_tipo, maerp_tipo= regressao_polinomial(X_train, Y_train, X_test, Y_test)"
      ],
      "execution_count": null,
      "outputs": [
        {
          "output_type": "stream",
          "text": [
            "Score Treino:  0.9872060466297599 \n",
            "Score Teste:  0.9773227438823342\n",
            "Erro médio absoluto:  191.63490647536057 \n",
            "\n"
          ],
          "name": "stdout"
        },
        {
          "output_type": "stream",
          "text": [
            "/usr/local/lib/python3.6/dist-packages/sklearn/base.py:434: FutureWarning:\n",
            "\n",
            "The default value of multioutput (not exposed in score method) will change from 'variance_weighted' to 'uniform_average' in 0.23 to keep consistent with 'metrics.r2_score'. To specify the default value manually and avoid the warning, please either call 'metrics.r2_score' directly or make a custom scorer with 'metrics.make_scorer' (the built-in scorer 'r2' uses multioutput='uniform_average').\n",
            "\n",
            "/usr/local/lib/python3.6/dist-packages/sklearn/base.py:434: FutureWarning:\n",
            "\n",
            "The default value of multioutput (not exposed in score method) will change from 'variance_weighted' to 'uniform_average' in 0.23 to keep consistent with 'metrics.r2_score'. To specify the default value manually and avoid the warning, please either call 'metrics.r2_score' directly or make a custom scorer with 'metrics.make_scorer' (the built-in scorer 'r2' uses multioutput='uniform_average').\n",
            "\n"
          ],
          "name": "stderr"
        }
      ]
    },
    {
      "cell_type": "markdown",
      "metadata": {
        "id": "Jgv6qYF3o5eF"
      },
      "source": [
        "##### Regressão por Árvore de Decisão"
      ]
    },
    {
      "cell_type": "code",
      "metadata": {
        "id": "0x-Y6Vv-o5eF",
        "outputId": "fe1ef265-073f-4eb6-e8d0-abe978b2a9dd",
        "colab": {
          "base_uri": "https://localhost:8080/"
        }
      },
      "source": [
        "scad1_tipo, scad2_tipo, maead_tipo = arvore_decisao(X_train, Y_train, X_test, Y_test)"
      ],
      "execution_count": null,
      "outputs": [
        {
          "output_type": "stream",
          "text": [
            "Score Treino:  1.0 \n",
            "Score Teste:  0.9669257539790482\n",
            "Erro médio absoluto:  218.77350427350427 \n",
            "\n"
          ],
          "name": "stdout"
        },
        {
          "output_type": "stream",
          "text": [
            "/usr/local/lib/python3.6/dist-packages/sklearn/base.py:434: FutureWarning:\n",
            "\n",
            "The default value of multioutput (not exposed in score method) will change from 'variance_weighted' to 'uniform_average' in 0.23 to keep consistent with 'metrics.r2_score'. To specify the default value manually and avoid the warning, please either call 'metrics.r2_score' directly or make a custom scorer with 'metrics.make_scorer' (the built-in scorer 'r2' uses multioutput='uniform_average').\n",
            "\n",
            "/usr/local/lib/python3.6/dist-packages/sklearn/base.py:434: FutureWarning:\n",
            "\n",
            "The default value of multioutput (not exposed in score method) will change from 'variance_weighted' to 'uniform_average' in 0.23 to keep consistent with 'metrics.r2_score'. To specify the default value manually and avoid the warning, please either call 'metrics.r2_score' directly or make a custom scorer with 'metrics.make_scorer' (the built-in scorer 'r2' uses multioutput='uniform_average').\n",
            "\n"
          ],
          "name": "stderr"
        }
      ]
    },
    {
      "cell_type": "markdown",
      "metadata": {
        "id": "D4Oo0MjLo5eH"
      },
      "source": [
        "##### Regressão por Random Forest"
      ]
    },
    {
      "cell_type": "code",
      "metadata": {
        "id": "lYtwv_2To5eH",
        "outputId": "a89fe38a-78aa-4952-a242-43877ccb1a62",
        "colab": {
          "base_uri": "https://localhost:8080/"
        }
      },
      "source": [
        "scrf1_tipo, scrf2_tipo, maerf_tipo = floresta_randomica(X_train, Y_train, X_test, Y_test)"
      ],
      "execution_count": null,
      "outputs": [
        {
          "output_type": "stream",
          "text": [
            "Score Treino:  0.9967650909926473 \n",
            "Score Teste:  0.9736071129534679\n",
            "Erro médio absoluto:  183.92521367521374 \n",
            "\n"
          ],
          "name": "stdout"
        },
        {
          "output_type": "stream",
          "text": [
            "/usr/local/lib/python3.6/dist-packages/sklearn/base.py:434: FutureWarning:\n",
            "\n",
            "The default value of multioutput (not exposed in score method) will change from 'variance_weighted' to 'uniform_average' in 0.23 to keep consistent with 'metrics.r2_score'. To specify the default value manually and avoid the warning, please either call 'metrics.r2_score' directly or make a custom scorer with 'metrics.make_scorer' (the built-in scorer 'r2' uses multioutput='uniform_average').\n",
            "\n",
            "/usr/local/lib/python3.6/dist-packages/sklearn/base.py:434: FutureWarning:\n",
            "\n",
            "The default value of multioutput (not exposed in score method) will change from 'variance_weighted' to 'uniform_average' in 0.23 to keep consistent with 'metrics.r2_score'. To specify the default value manually and avoid the warning, please either call 'metrics.r2_score' directly or make a custom scorer with 'metrics.make_scorer' (the built-in scorer 'r2' uses multioutput='uniform_average').\n",
            "\n"
          ],
          "name": "stderr"
        }
      ]
    },
    {
      "cell_type": "markdown",
      "metadata": {
        "id": "UDmTo-4io5eJ"
      },
      "source": [
        "##### Regressão por MLP"
      ]
    },
    {
      "cell_type": "code",
      "metadata": {
        "id": "ZI_6qQa_o5eJ",
        "outputId": "ce4e0b06-7bd2-4095-b5c7-73f46b700e80",
        "colab": {
          "base_uri": "https://localhost:8080/"
        }
      },
      "source": [
        "scmpl1_tipo, scmpl2_tipo, maempl_tipo = mlp(X_train, Y_train, X_test, Y_test, hls=(200, 100))"
      ],
      "execution_count": null,
      "outputs": [
        {
          "output_type": "stream",
          "text": [
            "Score Treino:  -0.000692652117398385 \n",
            "Score Teste:  -0.00579659727338131\n",
            "Erro médio absoluto:  1607.6859614936932 \n",
            "\n"
          ],
          "name": "stdout"
        },
        {
          "output_type": "stream",
          "text": [
            "/usr/local/lib/python3.6/dist-packages/sklearn/base.py:434: FutureWarning:\n",
            "\n",
            "The default value of multioutput (not exposed in score method) will change from 'variance_weighted' to 'uniform_average' in 0.23 to keep consistent with 'metrics.r2_score'. To specify the default value manually and avoid the warning, please either call 'metrics.r2_score' directly or make a custom scorer with 'metrics.make_scorer' (the built-in scorer 'r2' uses multioutput='uniform_average').\n",
            "\n",
            "/usr/local/lib/python3.6/dist-packages/sklearn/base.py:434: FutureWarning:\n",
            "\n",
            "The default value of multioutput (not exposed in score method) will change from 'variance_weighted' to 'uniform_average' in 0.23 to keep consistent with 'metrics.r2_score'. To specify the default value manually and avoid the warning, please either call 'metrics.r2_score' directly or make a custom scorer with 'metrics.make_scorer' (the built-in scorer 'r2' uses multioutput='uniform_average').\n",
            "\n"
          ],
          "name": "stderr"
        }
      ]
    },
    {
      "cell_type": "markdown",
      "metadata": {
        "id": "Tp6R33VJo5eL"
      },
      "source": [
        "##### Regressão por KNR"
      ]
    },
    {
      "cell_type": "code",
      "metadata": {
        "id": "uXCAZooko5eL",
        "outputId": "5f1de184-aa55-4428-8453-ac29e2785705",
        "colab": {
          "base_uri": "https://localhost:8080/"
        }
      },
      "source": [
        "sckn1_tipo, sckn2_tipo, maekn_tipo = knr(X_train, Y_train, X_test, Y_test, k=7)"
      ],
      "execution_count": null,
      "outputs": [
        {
          "output_type": "stream",
          "text": [
            "Score Treino:  0.713808521272756 \n",
            "Score Teste:  0.48163165650740086\n",
            "Erro médio absoluto:  913.4512820512822 \n",
            "\n"
          ],
          "name": "stdout"
        },
        {
          "output_type": "stream",
          "text": [
            "/usr/local/lib/python3.6/dist-packages/sklearn/base.py:434: FutureWarning:\n",
            "\n",
            "The default value of multioutput (not exposed in score method) will change from 'variance_weighted' to 'uniform_average' in 0.23 to keep consistent with 'metrics.r2_score'. To specify the default value manually and avoid the warning, please either call 'metrics.r2_score' directly or make a custom scorer with 'metrics.make_scorer' (the built-in scorer 'r2' uses multioutput='uniform_average').\n",
            "\n",
            "/usr/local/lib/python3.6/dist-packages/sklearn/base.py:434: FutureWarning:\n",
            "\n",
            "The default value of multioutput (not exposed in score method) will change from 'variance_weighted' to 'uniform_average' in 0.23 to keep consistent with 'metrics.r2_score'. To specify the default value manually and avoid the warning, please either call 'metrics.r2_score' directly or make a custom scorer with 'metrics.make_scorer' (the built-in scorer 'r2' uses multioutput='uniform_average').\n",
            "\n"
          ],
          "name": "stderr"
        }
      ]
    },
    {
      "cell_type": "markdown",
      "metadata": {
        "id": "ShzGxLsAo5eN"
      },
      "source": [
        "#####Resultados"
      ]
    },
    {
      "cell_type": "code",
      "metadata": {
        "id": "3izuOQjOo5eN"
      },
      "source": [
        "regressores_tipo = ['Linear', 'Polinomial', 'Decision Tree', 'Random Forest', 'MLP', 'KNN']\n",
        "scores_treino_tipo = [scrl1_tipo, scrl1_tipo, scad1_tipo, scrf1_tipo, scmpl1_tipo, sckn1_tipo]\n",
        "scores_teste_tipo = [scrl2_tipo, scrl2_tipo, scad2_tipo, scrf2_tipo, scmpl2_tipo, sckn2_tipo]\n",
        "maes_tipo = [maerl_tipo, maerp_tipo, maead_tipo , maerf_tipo , maempl_tipo, maekn_tipo ]"
      ],
      "execution_count": null,
      "outputs": []
    },
    {
      "cell_type": "code",
      "metadata": {
        "id": "EbmD0QwUo5eQ",
        "outputId": "e4a6b6d0-87ee-4285-ba13-de78e869d185",
        "colab": {
          "base_uri": "https://localhost:8080/",
          "height": 542
        }
      },
      "source": [
        "plot_scores_bar(regressores, scores_treino, scores_teste, 'Scores de TREINO/TESTE dos regressores na base de pessoas agrupadas (Mês, Ano, Faixa Etária).')"
      ],
      "execution_count": null,
      "outputs": [
        {
          "output_type": "display_data",
          "data": {
            "text/html": [
              "<html>\n",
              "<head><meta charset=\"utf-8\" /></head>\n",
              "<body>\n",
              "    <div>\n",
              "            <script src=\"https://cdnjs.cloudflare.com/ajax/libs/mathjax/2.7.5/MathJax.js?config=TeX-AMS-MML_SVG\"></script><script type=\"text/javascript\">if (window.MathJax) {MathJax.Hub.Config({SVG: {font: \"STIX-Web\"}});}</script>\n",
              "                <script type=\"text/javascript\">window.PlotlyConfig = {MathJaxConfig: 'local'};</script>\n",
              "        <script src=\"https://cdn.plot.ly/plotly-latest.min.js\"></script>    \n",
              "            <div id=\"e02db03b-500f-45d4-9ea0-c2c77411e375\" class=\"plotly-graph-div\" style=\"height:525px; width:100%;\"></div>\n",
              "            <script type=\"text/javascript\">\n",
              "                \n",
              "                    window.PLOTLYENV=window.PLOTLYENV || {};\n",
              "                    \n",
              "                if (document.getElementById(\"e02db03b-500f-45d4-9ea0-c2c77411e375\")) {\n",
              "                    Plotly.newPlot(\n",
              "                        'e02db03b-500f-45d4-9ea0-c2c77411e375',\n",
              "                        [{\"name\": \"Scores de Treino\", \"type\": \"bar\", \"x\": [\"Linear\", \"Polinomial\", \"Decision Tree\", \"Random Forest\", \"MLP\", \"KNN\"], \"y\": [0.6566366551817503, 0.9872060466297599, 1.0, 0.9967650909926473, -0.000692652117398385, 0.713808521272756]}, {\"name\": \"Scores de Teste\", \"type\": \"bar\", \"x\": [\"Linear\", \"Polinomial\", \"Decision Tree\", \"Random Forest\", \"MLP\", \"KNN\"], \"y\": [0.5960782090935575, 0.9773227438823342, 0.9669257539790482, 0.9736071129534679, -0.00579659727338131, 0.48163165650740086]}],\n",
              "                        {\"barmode\": \"group\", \"template\": {\"data\": {\"bar\": [{\"error_x\": {\"color\": \"#2a3f5f\"}, \"error_y\": {\"color\": \"#2a3f5f\"}, \"marker\": {\"line\": {\"color\": \"#E5ECF6\", \"width\": 0.5}}, \"type\": \"bar\"}], \"barpolar\": [{\"marker\": {\"line\": {\"color\": \"#E5ECF6\", \"width\": 0.5}}, \"type\": \"barpolar\"}], \"carpet\": [{\"aaxis\": {\"endlinecolor\": \"#2a3f5f\", \"gridcolor\": \"white\", \"linecolor\": \"white\", \"minorgridcolor\": \"white\", \"startlinecolor\": \"#2a3f5f\"}, \"baxis\": {\"endlinecolor\": \"#2a3f5f\", \"gridcolor\": \"white\", \"linecolor\": \"white\", \"minorgridcolor\": \"white\", \"startlinecolor\": \"#2a3f5f\"}, \"type\": \"carpet\"}], \"choropleth\": [{\"colorbar\": {\"outlinewidth\": 0, \"ticks\": \"\"}, \"type\": \"choropleth\"}], \"contour\": [{\"colorbar\": {\"outlinewidth\": 0, \"ticks\": \"\"}, \"colorscale\": [[0.0, \"#0d0887\"], [0.1111111111111111, \"#46039f\"], [0.2222222222222222, \"#7201a8\"], [0.3333333333333333, \"#9c179e\"], [0.4444444444444444, \"#bd3786\"], [0.5555555555555556, \"#d8576b\"], [0.6666666666666666, \"#ed7953\"], [0.7777777777777778, \"#fb9f3a\"], [0.8888888888888888, \"#fdca26\"], [1.0, \"#f0f921\"]], \"type\": \"contour\"}], \"contourcarpet\": [{\"colorbar\": {\"outlinewidth\": 0, \"ticks\": \"\"}, \"type\": \"contourcarpet\"}], \"heatmap\": [{\"colorbar\": {\"outlinewidth\": 0, \"ticks\": \"\"}, \"colorscale\": [[0.0, \"#0d0887\"], [0.1111111111111111, \"#46039f\"], [0.2222222222222222, \"#7201a8\"], [0.3333333333333333, \"#9c179e\"], [0.4444444444444444, \"#bd3786\"], [0.5555555555555556, \"#d8576b\"], [0.6666666666666666, \"#ed7953\"], [0.7777777777777778, \"#fb9f3a\"], [0.8888888888888888, \"#fdca26\"], [1.0, \"#f0f921\"]], \"type\": \"heatmap\"}], \"heatmapgl\": [{\"colorbar\": {\"outlinewidth\": 0, \"ticks\": \"\"}, \"colorscale\": [[0.0, \"#0d0887\"], [0.1111111111111111, \"#46039f\"], [0.2222222222222222, \"#7201a8\"], [0.3333333333333333, \"#9c179e\"], [0.4444444444444444, \"#bd3786\"], [0.5555555555555556, \"#d8576b\"], [0.6666666666666666, \"#ed7953\"], [0.7777777777777778, \"#fb9f3a\"], [0.8888888888888888, \"#fdca26\"], [1.0, \"#f0f921\"]], \"type\": \"heatmapgl\"}], \"histogram\": [{\"marker\": {\"colorbar\": {\"outlinewidth\": 0, \"ticks\": \"\"}}, \"type\": \"histogram\"}], \"histogram2d\": [{\"colorbar\": {\"outlinewidth\": 0, \"ticks\": \"\"}, \"colorscale\": [[0.0, \"#0d0887\"], [0.1111111111111111, \"#46039f\"], [0.2222222222222222, \"#7201a8\"], [0.3333333333333333, \"#9c179e\"], [0.4444444444444444, \"#bd3786\"], [0.5555555555555556, \"#d8576b\"], [0.6666666666666666, \"#ed7953\"], [0.7777777777777778, \"#fb9f3a\"], [0.8888888888888888, \"#fdca26\"], [1.0, \"#f0f921\"]], \"type\": \"histogram2d\"}], \"histogram2dcontour\": [{\"colorbar\": {\"outlinewidth\": 0, \"ticks\": \"\"}, \"colorscale\": [[0.0, \"#0d0887\"], [0.1111111111111111, \"#46039f\"], [0.2222222222222222, \"#7201a8\"], [0.3333333333333333, \"#9c179e\"], [0.4444444444444444, \"#bd3786\"], [0.5555555555555556, \"#d8576b\"], [0.6666666666666666, \"#ed7953\"], [0.7777777777777778, \"#fb9f3a\"], [0.8888888888888888, \"#fdca26\"], [1.0, \"#f0f921\"]], \"type\": \"histogram2dcontour\"}], \"mesh3d\": [{\"colorbar\": {\"outlinewidth\": 0, \"ticks\": \"\"}, \"type\": \"mesh3d\"}], \"parcoords\": [{\"line\": {\"colorbar\": {\"outlinewidth\": 0, \"ticks\": \"\"}}, \"type\": \"parcoords\"}], \"pie\": [{\"automargin\": true, \"type\": \"pie\"}], \"scatter\": [{\"marker\": {\"colorbar\": {\"outlinewidth\": 0, \"ticks\": \"\"}}, \"type\": \"scatter\"}], \"scatter3d\": [{\"line\": {\"colorbar\": {\"outlinewidth\": 0, \"ticks\": \"\"}}, \"marker\": {\"colorbar\": {\"outlinewidth\": 0, \"ticks\": \"\"}}, \"type\": \"scatter3d\"}], \"scattercarpet\": [{\"marker\": {\"colorbar\": {\"outlinewidth\": 0, \"ticks\": \"\"}}, \"type\": \"scattercarpet\"}], \"scattergeo\": [{\"marker\": {\"colorbar\": {\"outlinewidth\": 0, \"ticks\": \"\"}}, \"type\": \"scattergeo\"}], \"scattergl\": [{\"marker\": {\"colorbar\": {\"outlinewidth\": 0, \"ticks\": \"\"}}, \"type\": \"scattergl\"}], \"scattermapbox\": [{\"marker\": {\"colorbar\": {\"outlinewidth\": 0, \"ticks\": \"\"}}, \"type\": \"scattermapbox\"}], \"scatterpolar\": [{\"marker\": {\"colorbar\": {\"outlinewidth\": 0, \"ticks\": \"\"}}, \"type\": \"scatterpolar\"}], \"scatterpolargl\": [{\"marker\": {\"colorbar\": {\"outlinewidth\": 0, \"ticks\": \"\"}}, \"type\": \"scatterpolargl\"}], \"scatterternary\": [{\"marker\": {\"colorbar\": {\"outlinewidth\": 0, \"ticks\": \"\"}}, \"type\": \"scatterternary\"}], \"surface\": [{\"colorbar\": {\"outlinewidth\": 0, \"ticks\": \"\"}, \"colorscale\": [[0.0, \"#0d0887\"], [0.1111111111111111, \"#46039f\"], [0.2222222222222222, \"#7201a8\"], [0.3333333333333333, \"#9c179e\"], [0.4444444444444444, \"#bd3786\"], [0.5555555555555556, \"#d8576b\"], [0.6666666666666666, \"#ed7953\"], [0.7777777777777778, \"#fb9f3a\"], [0.8888888888888888, \"#fdca26\"], [1.0, \"#f0f921\"]], \"type\": \"surface\"}], \"table\": [{\"cells\": {\"fill\": {\"color\": \"#EBF0F8\"}, \"line\": {\"color\": \"white\"}}, \"header\": {\"fill\": {\"color\": \"#C8D4E3\"}, \"line\": {\"color\": \"white\"}}, \"type\": \"table\"}]}, \"layout\": {\"annotationdefaults\": {\"arrowcolor\": \"#2a3f5f\", \"arrowhead\": 0, \"arrowwidth\": 1}, \"coloraxis\": {\"colorbar\": {\"outlinewidth\": 0, \"ticks\": \"\"}}, \"colorscale\": {\"diverging\": [[0, \"#8e0152\"], [0.1, \"#c51b7d\"], [0.2, \"#de77ae\"], [0.3, \"#f1b6da\"], [0.4, \"#fde0ef\"], [0.5, \"#f7f7f7\"], [0.6, \"#e6f5d0\"], [0.7, \"#b8e186\"], [0.8, \"#7fbc41\"], [0.9, \"#4d9221\"], [1, \"#276419\"]], \"sequential\": [[0.0, \"#0d0887\"], [0.1111111111111111, \"#46039f\"], [0.2222222222222222, \"#7201a8\"], [0.3333333333333333, \"#9c179e\"], [0.4444444444444444, \"#bd3786\"], [0.5555555555555556, \"#d8576b\"], [0.6666666666666666, \"#ed7953\"], [0.7777777777777778, \"#fb9f3a\"], [0.8888888888888888, \"#fdca26\"], [1.0, \"#f0f921\"]], \"sequentialminus\": [[0.0, \"#0d0887\"], [0.1111111111111111, \"#46039f\"], [0.2222222222222222, \"#7201a8\"], [0.3333333333333333, \"#9c179e\"], [0.4444444444444444, \"#bd3786\"], [0.5555555555555556, \"#d8576b\"], [0.6666666666666666, \"#ed7953\"], [0.7777777777777778, \"#fb9f3a\"], [0.8888888888888888, \"#fdca26\"], [1.0, \"#f0f921\"]]}, \"colorway\": [\"#636efa\", \"#EF553B\", \"#00cc96\", \"#ab63fa\", \"#FFA15A\", \"#19d3f3\", \"#FF6692\", \"#B6E880\", \"#FF97FF\", \"#FECB52\"], \"font\": {\"color\": \"#2a3f5f\"}, \"geo\": {\"bgcolor\": \"white\", \"lakecolor\": \"white\", \"landcolor\": \"#E5ECF6\", \"showlakes\": true, \"showland\": true, \"subunitcolor\": \"white\"}, \"hoverlabel\": {\"align\": \"left\"}, \"hovermode\": \"closest\", \"mapbox\": {\"style\": \"light\"}, \"paper_bgcolor\": \"white\", \"plot_bgcolor\": \"#E5ECF6\", \"polar\": {\"angularaxis\": {\"gridcolor\": \"white\", \"linecolor\": \"white\", \"ticks\": \"\"}, \"bgcolor\": \"#E5ECF6\", \"radialaxis\": {\"gridcolor\": \"white\", \"linecolor\": \"white\", \"ticks\": \"\"}}, \"scene\": {\"xaxis\": {\"backgroundcolor\": \"#E5ECF6\", \"gridcolor\": \"white\", \"gridwidth\": 2, \"linecolor\": \"white\", \"showbackground\": true, \"ticks\": \"\", \"zerolinecolor\": \"white\"}, \"yaxis\": {\"backgroundcolor\": \"#E5ECF6\", \"gridcolor\": \"white\", \"gridwidth\": 2, \"linecolor\": \"white\", \"showbackground\": true, \"ticks\": \"\", \"zerolinecolor\": \"white\"}, \"zaxis\": {\"backgroundcolor\": \"#E5ECF6\", \"gridcolor\": \"white\", \"gridwidth\": 2, \"linecolor\": \"white\", \"showbackground\": true, \"ticks\": \"\", \"zerolinecolor\": \"white\"}}, \"shapedefaults\": {\"line\": {\"color\": \"#2a3f5f\"}}, \"ternary\": {\"aaxis\": {\"gridcolor\": \"white\", \"linecolor\": \"white\", \"ticks\": \"\"}, \"baxis\": {\"gridcolor\": \"white\", \"linecolor\": \"white\", \"ticks\": \"\"}, \"bgcolor\": \"#E5ECF6\", \"caxis\": {\"gridcolor\": \"white\", \"linecolor\": \"white\", \"ticks\": \"\"}}, \"title\": {\"x\": 0.05}, \"xaxis\": {\"automargin\": true, \"gridcolor\": \"white\", \"linecolor\": \"white\", \"ticks\": \"\", \"title\": {\"standoff\": 15}, \"zerolinecolor\": \"white\", \"zerolinewidth\": 2}, \"yaxis\": {\"automargin\": true, \"gridcolor\": \"white\", \"linecolor\": \"white\", \"ticks\": \"\", \"title\": {\"standoff\": 15}, \"zerolinecolor\": \"white\", \"zerolinewidth\": 2}}}, \"title\": {\"text\": \"Scores de TREINO/TESTE dos regressores na base de pessoas agrupadas (M\\u00eas, Ano, Faixa Et\\u00e1ria).\"}},\n",
              "                        {\"responsive\": true}\n",
              "                    ).then(function(){\n",
              "                            \n",
              "var gd = document.getElementById('e02db03b-500f-45d4-9ea0-c2c77411e375');\n",
              "var x = new MutationObserver(function (mutations, observer) {{\n",
              "        var display = window.getComputedStyle(gd).display;\n",
              "        if (!display || display === 'none') {{\n",
              "            console.log([gd, 'removed!']);\n",
              "            Plotly.purge(gd);\n",
              "            observer.disconnect();\n",
              "        }}\n",
              "}});\n",
              "\n",
              "// Listen for the removal of the full notebook cells\n",
              "var notebookContainer = gd.closest('#notebook-container');\n",
              "if (notebookContainer) {{\n",
              "    x.observe(notebookContainer, {childList: true});\n",
              "}}\n",
              "\n",
              "// Listen for the clearing of the current output cell\n",
              "var outputEl = gd.closest('.output');\n",
              "if (outputEl) {{\n",
              "    x.observe(outputEl, {childList: true});\n",
              "}}\n",
              "\n",
              "                        })\n",
              "                };\n",
              "                \n",
              "            </script>\n",
              "        </div>\n",
              "</body>\n",
              "</html>"
            ]
          },
          "metadata": {
            "tags": []
          }
        }
      ]
    },
    {
      "cell_type": "code",
      "metadata": {
        "id": "b9z9b-DGo5eS",
        "outputId": "a39b6330-a746-4d47-81e8-f1d5da4e88da",
        "colab": {
          "base_uri": "https://localhost:8080/",
          "height": 542
        }
      },
      "source": [
        "px.bar(x=regressores, y=maes, color=maes , title='ERRO MÉDIO ABSOLUTO dos regressores na base de pessoas agrupadas (Mês, Ano, Faixa Etária).', labels={'x': 'Regressores', 'y': 'MAE'})"
      ],
      "execution_count": null,
      "outputs": [
        {
          "output_type": "display_data",
          "data": {
            "text/html": [
              "<html>\n",
              "<head><meta charset=\"utf-8\" /></head>\n",
              "<body>\n",
              "    <div>\n",
              "            <script src=\"https://cdnjs.cloudflare.com/ajax/libs/mathjax/2.7.5/MathJax.js?config=TeX-AMS-MML_SVG\"></script><script type=\"text/javascript\">if (window.MathJax) {MathJax.Hub.Config({SVG: {font: \"STIX-Web\"}});}</script>\n",
              "                <script type=\"text/javascript\">window.PlotlyConfig = {MathJaxConfig: 'local'};</script>\n",
              "        <script src=\"https://cdn.plot.ly/plotly-latest.min.js\"></script>    \n",
              "            <div id=\"27a54aad-8bd2-4237-90ba-0166038dd619\" class=\"plotly-graph-div\" style=\"height:525px; width:100%;\"></div>\n",
              "            <script type=\"text/javascript\">\n",
              "                \n",
              "                    window.PLOTLYENV=window.PLOTLYENV || {};\n",
              "                    \n",
              "                if (document.getElementById(\"27a54aad-8bd2-4237-90ba-0166038dd619\")) {\n",
              "                    Plotly.newPlot(\n",
              "                        '27a54aad-8bd2-4237-90ba-0166038dd619',\n",
              "                        [{\"alignmentgroup\": \"True\", \"hoverlabel\": {\"namelength\": 0}, \"hovertemplate\": \"Regressores=%{x}<br>MAE=%{y}<br>color=%{marker.color}\", \"legendgroup\": \"\", \"marker\": {\"color\": [1009.2446363510967, 191.63490647536057, 218.77350427350427, 183.92521367521374, 1607.6859614936932, 913.4512820512822], \"coloraxis\": \"coloraxis\"}, \"name\": \"\", \"offsetgroup\": \"\", \"orientation\": \"v\", \"showlegend\": false, \"textposition\": \"auto\", \"type\": \"bar\", \"x\": [\"Linear\", \"Polinomial\", \"Decision Tree\", \"Random Forest\", \"MLP\", \"KNN\"], \"xaxis\": \"x\", \"y\": [1009.2446363510967, 191.63490647536057, 218.77350427350427, 183.92521367521374, 1607.6859614936932, 913.4512820512822], \"yaxis\": \"y\"}],\n",
              "                        {\"barmode\": \"relative\", \"coloraxis\": {\"colorbar\": {\"title\": {\"text\": \"color\"}}, \"colorscale\": [[0.0, \"#0d0887\"], [0.1111111111111111, \"#46039f\"], [0.2222222222222222, \"#7201a8\"], [0.3333333333333333, \"#9c179e\"], [0.4444444444444444, \"#bd3786\"], [0.5555555555555556, \"#d8576b\"], [0.6666666666666666, \"#ed7953\"], [0.7777777777777778, \"#fb9f3a\"], [0.8888888888888888, \"#fdca26\"], [1.0, \"#f0f921\"]]}, \"legend\": {\"tracegroupgap\": 0}, \"template\": {\"data\": {\"bar\": [{\"error_x\": {\"color\": \"#2a3f5f\"}, \"error_y\": {\"color\": \"#2a3f5f\"}, \"marker\": {\"line\": {\"color\": \"#E5ECF6\", \"width\": 0.5}}, \"type\": \"bar\"}], \"barpolar\": [{\"marker\": {\"line\": {\"color\": \"#E5ECF6\", \"width\": 0.5}}, \"type\": \"barpolar\"}], \"carpet\": [{\"aaxis\": {\"endlinecolor\": \"#2a3f5f\", \"gridcolor\": \"white\", \"linecolor\": \"white\", \"minorgridcolor\": \"white\", \"startlinecolor\": \"#2a3f5f\"}, \"baxis\": {\"endlinecolor\": \"#2a3f5f\", \"gridcolor\": \"white\", \"linecolor\": \"white\", \"minorgridcolor\": \"white\", \"startlinecolor\": \"#2a3f5f\"}, \"type\": \"carpet\"}], \"choropleth\": [{\"colorbar\": {\"outlinewidth\": 0, \"ticks\": \"\"}, \"type\": \"choropleth\"}], \"contour\": [{\"colorbar\": {\"outlinewidth\": 0, \"ticks\": \"\"}, \"colorscale\": [[0.0, \"#0d0887\"], [0.1111111111111111, \"#46039f\"], [0.2222222222222222, \"#7201a8\"], [0.3333333333333333, \"#9c179e\"], [0.4444444444444444, \"#bd3786\"], [0.5555555555555556, \"#d8576b\"], [0.6666666666666666, \"#ed7953\"], [0.7777777777777778, \"#fb9f3a\"], [0.8888888888888888, \"#fdca26\"], [1.0, \"#f0f921\"]], \"type\": \"contour\"}], \"contourcarpet\": [{\"colorbar\": {\"outlinewidth\": 0, \"ticks\": \"\"}, \"type\": \"contourcarpet\"}], \"heatmap\": [{\"colorbar\": {\"outlinewidth\": 0, \"ticks\": \"\"}, \"colorscale\": [[0.0, \"#0d0887\"], [0.1111111111111111, \"#46039f\"], [0.2222222222222222, \"#7201a8\"], [0.3333333333333333, \"#9c179e\"], [0.4444444444444444, \"#bd3786\"], [0.5555555555555556, \"#d8576b\"], [0.6666666666666666, \"#ed7953\"], [0.7777777777777778, \"#fb9f3a\"], [0.8888888888888888, \"#fdca26\"], [1.0, \"#f0f921\"]], \"type\": \"heatmap\"}], \"heatmapgl\": [{\"colorbar\": {\"outlinewidth\": 0, \"ticks\": \"\"}, \"colorscale\": [[0.0, \"#0d0887\"], [0.1111111111111111, \"#46039f\"], [0.2222222222222222, \"#7201a8\"], [0.3333333333333333, \"#9c179e\"], [0.4444444444444444, \"#bd3786\"], [0.5555555555555556, \"#d8576b\"], [0.6666666666666666, \"#ed7953\"], [0.7777777777777778, \"#fb9f3a\"], [0.8888888888888888, \"#fdca26\"], [1.0, \"#f0f921\"]], \"type\": \"heatmapgl\"}], \"histogram\": [{\"marker\": {\"colorbar\": {\"outlinewidth\": 0, \"ticks\": \"\"}}, \"type\": \"histogram\"}], \"histogram2d\": [{\"colorbar\": {\"outlinewidth\": 0, \"ticks\": \"\"}, \"colorscale\": [[0.0, \"#0d0887\"], [0.1111111111111111, \"#46039f\"], [0.2222222222222222, \"#7201a8\"], [0.3333333333333333, \"#9c179e\"], [0.4444444444444444, \"#bd3786\"], [0.5555555555555556, \"#d8576b\"], [0.6666666666666666, \"#ed7953\"], [0.7777777777777778, \"#fb9f3a\"], [0.8888888888888888, \"#fdca26\"], [1.0, \"#f0f921\"]], \"type\": \"histogram2d\"}], \"histogram2dcontour\": [{\"colorbar\": {\"outlinewidth\": 0, \"ticks\": \"\"}, \"colorscale\": [[0.0, \"#0d0887\"], [0.1111111111111111, \"#46039f\"], [0.2222222222222222, \"#7201a8\"], [0.3333333333333333, \"#9c179e\"], [0.4444444444444444, \"#bd3786\"], [0.5555555555555556, \"#d8576b\"], [0.6666666666666666, \"#ed7953\"], [0.7777777777777778, \"#fb9f3a\"], [0.8888888888888888, \"#fdca26\"], [1.0, \"#f0f921\"]], \"type\": \"histogram2dcontour\"}], \"mesh3d\": [{\"colorbar\": {\"outlinewidth\": 0, \"ticks\": \"\"}, \"type\": \"mesh3d\"}], \"parcoords\": [{\"line\": {\"colorbar\": {\"outlinewidth\": 0, \"ticks\": \"\"}}, \"type\": \"parcoords\"}], \"pie\": [{\"automargin\": true, \"type\": \"pie\"}], \"scatter\": [{\"marker\": {\"colorbar\": {\"outlinewidth\": 0, \"ticks\": \"\"}}, \"type\": \"scatter\"}], \"scatter3d\": [{\"line\": {\"colorbar\": {\"outlinewidth\": 0, \"ticks\": \"\"}}, \"marker\": {\"colorbar\": {\"outlinewidth\": 0, \"ticks\": \"\"}}, \"type\": \"scatter3d\"}], \"scattercarpet\": [{\"marker\": {\"colorbar\": {\"outlinewidth\": 0, \"ticks\": \"\"}}, \"type\": \"scattercarpet\"}], \"scattergeo\": [{\"marker\": {\"colorbar\": {\"outlinewidth\": 0, \"ticks\": \"\"}}, \"type\": \"scattergeo\"}], \"scattergl\": [{\"marker\": {\"colorbar\": {\"outlinewidth\": 0, \"ticks\": \"\"}}, \"type\": \"scattergl\"}], \"scattermapbox\": [{\"marker\": {\"colorbar\": {\"outlinewidth\": 0, \"ticks\": \"\"}}, \"type\": \"scattermapbox\"}], \"scatterpolar\": [{\"marker\": {\"colorbar\": {\"outlinewidth\": 0, \"ticks\": \"\"}}, \"type\": \"scatterpolar\"}], \"scatterpolargl\": [{\"marker\": {\"colorbar\": {\"outlinewidth\": 0, \"ticks\": \"\"}}, \"type\": \"scatterpolargl\"}], \"scatterternary\": [{\"marker\": {\"colorbar\": {\"outlinewidth\": 0, \"ticks\": \"\"}}, \"type\": \"scatterternary\"}], \"surface\": [{\"colorbar\": {\"outlinewidth\": 0, \"ticks\": \"\"}, \"colorscale\": [[0.0, \"#0d0887\"], [0.1111111111111111, \"#46039f\"], [0.2222222222222222, \"#7201a8\"], [0.3333333333333333, \"#9c179e\"], [0.4444444444444444, \"#bd3786\"], [0.5555555555555556, \"#d8576b\"], [0.6666666666666666, \"#ed7953\"], [0.7777777777777778, \"#fb9f3a\"], [0.8888888888888888, \"#fdca26\"], [1.0, \"#f0f921\"]], \"type\": \"surface\"}], \"table\": [{\"cells\": {\"fill\": {\"color\": \"#EBF0F8\"}, \"line\": {\"color\": \"white\"}}, \"header\": {\"fill\": {\"color\": \"#C8D4E3\"}, \"line\": {\"color\": \"white\"}}, \"type\": \"table\"}]}, \"layout\": {\"annotationdefaults\": {\"arrowcolor\": \"#2a3f5f\", \"arrowhead\": 0, \"arrowwidth\": 1}, \"coloraxis\": {\"colorbar\": {\"outlinewidth\": 0, \"ticks\": \"\"}}, \"colorscale\": {\"diverging\": [[0, \"#8e0152\"], [0.1, \"#c51b7d\"], [0.2, \"#de77ae\"], [0.3, \"#f1b6da\"], [0.4, \"#fde0ef\"], [0.5, \"#f7f7f7\"], [0.6, \"#e6f5d0\"], [0.7, \"#b8e186\"], [0.8, \"#7fbc41\"], [0.9, \"#4d9221\"], [1, \"#276419\"]], \"sequential\": [[0.0, \"#0d0887\"], [0.1111111111111111, \"#46039f\"], [0.2222222222222222, \"#7201a8\"], [0.3333333333333333, \"#9c179e\"], [0.4444444444444444, \"#bd3786\"], [0.5555555555555556, \"#d8576b\"], [0.6666666666666666, \"#ed7953\"], [0.7777777777777778, \"#fb9f3a\"], [0.8888888888888888, \"#fdca26\"], [1.0, \"#f0f921\"]], \"sequentialminus\": [[0.0, \"#0d0887\"], [0.1111111111111111, \"#46039f\"], [0.2222222222222222, \"#7201a8\"], [0.3333333333333333, \"#9c179e\"], [0.4444444444444444, \"#bd3786\"], [0.5555555555555556, \"#d8576b\"], [0.6666666666666666, \"#ed7953\"], [0.7777777777777778, \"#fb9f3a\"], [0.8888888888888888, \"#fdca26\"], [1.0, \"#f0f921\"]]}, \"colorway\": [\"#636efa\", \"#EF553B\", \"#00cc96\", \"#ab63fa\", \"#FFA15A\", \"#19d3f3\", \"#FF6692\", \"#B6E880\", \"#FF97FF\", \"#FECB52\"], \"font\": {\"color\": \"#2a3f5f\"}, \"geo\": {\"bgcolor\": \"white\", \"lakecolor\": \"white\", \"landcolor\": \"#E5ECF6\", \"showlakes\": true, \"showland\": true, \"subunitcolor\": \"white\"}, \"hoverlabel\": {\"align\": \"left\"}, \"hovermode\": \"closest\", \"mapbox\": {\"style\": \"light\"}, \"paper_bgcolor\": \"white\", \"plot_bgcolor\": \"#E5ECF6\", \"polar\": {\"angularaxis\": {\"gridcolor\": \"white\", \"linecolor\": \"white\", \"ticks\": \"\"}, \"bgcolor\": \"#E5ECF6\", \"radialaxis\": {\"gridcolor\": \"white\", \"linecolor\": \"white\", \"ticks\": \"\"}}, \"scene\": {\"xaxis\": {\"backgroundcolor\": \"#E5ECF6\", \"gridcolor\": \"white\", \"gridwidth\": 2, \"linecolor\": \"white\", \"showbackground\": true, \"ticks\": \"\", \"zerolinecolor\": \"white\"}, \"yaxis\": {\"backgroundcolor\": \"#E5ECF6\", \"gridcolor\": \"white\", \"gridwidth\": 2, \"linecolor\": \"white\", \"showbackground\": true, \"ticks\": \"\", \"zerolinecolor\": \"white\"}, \"zaxis\": {\"backgroundcolor\": \"#E5ECF6\", \"gridcolor\": \"white\", \"gridwidth\": 2, \"linecolor\": \"white\", \"showbackground\": true, \"ticks\": \"\", \"zerolinecolor\": \"white\"}}, \"shapedefaults\": {\"line\": {\"color\": \"#2a3f5f\"}}, \"ternary\": {\"aaxis\": {\"gridcolor\": \"white\", \"linecolor\": \"white\", \"ticks\": \"\"}, \"baxis\": {\"gridcolor\": \"white\", \"linecolor\": \"white\", \"ticks\": \"\"}, \"bgcolor\": \"#E5ECF6\", \"caxis\": {\"gridcolor\": \"white\", \"linecolor\": \"white\", \"ticks\": \"\"}}, \"title\": {\"x\": 0.05}, \"xaxis\": {\"automargin\": true, \"gridcolor\": \"white\", \"linecolor\": \"white\", \"ticks\": \"\", \"title\": {\"standoff\": 15}, \"zerolinecolor\": \"white\", \"zerolinewidth\": 2}, \"yaxis\": {\"automargin\": true, \"gridcolor\": \"white\", \"linecolor\": \"white\", \"ticks\": \"\", \"title\": {\"standoff\": 15}, \"zerolinecolor\": \"white\", \"zerolinewidth\": 2}}}, \"title\": {\"text\": \"ERRO M\\u00c9DIO ABSOLUTO dos regressores na base de pessoas agrupadas (M\\u00eas, Ano, Faixa Et\\u00e1ria).\"}, \"xaxis\": {\"anchor\": \"y\", \"domain\": [0.0, 1.0], \"title\": {\"text\": \"Regressores\"}}, \"yaxis\": {\"anchor\": \"x\", \"domain\": [0.0, 1.0], \"title\": {\"text\": \"MAE\"}}},\n",
              "                        {\"responsive\": true}\n",
              "                    ).then(function(){\n",
              "                            \n",
              "var gd = document.getElementById('27a54aad-8bd2-4237-90ba-0166038dd619');\n",
              "var x = new MutationObserver(function (mutations, observer) {{\n",
              "        var display = window.getComputedStyle(gd).display;\n",
              "        if (!display || display === 'none') {{\n",
              "            console.log([gd, 'removed!']);\n",
              "            Plotly.purge(gd);\n",
              "            observer.disconnect();\n",
              "        }}\n",
              "}});\n",
              "\n",
              "// Listen for the removal of the full notebook cells\n",
              "var notebookContainer = gd.closest('#notebook-container');\n",
              "if (notebookContainer) {{\n",
              "    x.observe(notebookContainer, {childList: true});\n",
              "}}\n",
              "\n",
              "// Listen for the clearing of the current output cell\n",
              "var outputEl = gd.closest('.output');\n",
              "if (outputEl) {{\n",
              "    x.observe(outputEl, {childList: true});\n",
              "}}\n",
              "\n",
              "                        })\n",
              "                };\n",
              "                \n",
              "            </script>\n",
              "        </div>\n",
              "</body>\n",
              "</html>"
            ]
          },
          "metadata": {
            "tags": []
          }
        }
      ]
    },
    {
      "cell_type": "markdown",
      "metadata": {
        "id": "aHukPOkRrmZm"
      },
      "source": [
        "##### Extrapolação dos Dados"
      ]
    },
    {
      "cell_type": "markdown",
      "metadata": {
        "id": "Qd_yLJVrrmZr"
      },
      "source": [
        "###### Criando novas amostras"
      ]
    },
    {
      "cell_type": "code",
      "metadata": {
        "id": "riKbYeu9rmZs",
        "outputId": "c4c9d642-4f08-41d1-a390-ab0fdf5b6105",
        "colab": {
          "base_uri": "https://localhost:8080/",
          "height": 415
        }
      },
      "source": [
        "import numpy as np\n",
        "monthNames = [\"August\", \"September\", \"October\", \"November\", \"December\"];\n",
        "ano = ['2020']\n",
        "causas = df['tipo_acidente'].unique()\n",
        "\n",
        "comb  = np.array(np.meshgrid(monthNames,ano,causas)).T.reshape(-1,3)\n",
        "df_novo1 = pd.DataFrame(comb, columns = ['mes','ano','tipo_acidente'])\n",
        "\n",
        "monthNames = [\"January\"];\n",
        "ano = ['2021']\n",
        "\n",
        "comb  = np.array(np.meshgrid(monthNames,ano,causas)).T.reshape(-1,3)\n",
        "df_novo2 = pd.DataFrame(comb, columns = ['mes','ano','tipo_acidente'])\n",
        "\n",
        "df_novo = pd.concat([df_novo1, df_novo2], axis=0)\n",
        "df_novo.index = [i for i in range(len(df_novo))]\n",
        "\n",
        "df_novo_concat = pd.concat([df, df_novo])\n",
        "\n",
        "LE = LabelEncoder()\n",
        "df_novo_concat['tipo_acidente'] = LE.fit_transform(df_novo_concat['tipo_acidente'])\n",
        "meses = ['January', 'February', 'March', 'April', 'May', 'June', 'July', 'August', 'September', 'October', 'November', 'December']\n",
        "for mes in meses:\n",
        "  df_novo_concat.loc[df_novo_concat.mes == mes, 'mes'] = meses.index(mes) + 1\n",
        "df_novo_concat.index = [i for i in range(len(df_novo_concat))]\n",
        "df_novo_concat"
      ],
      "execution_count": null,
      "outputs": [
        {
          "output_type": "execute_result",
          "data": {
            "text/html": [
              "<div>\n",
              "<style scoped>\n",
              "    .dataframe tbody tr th:only-of-type {\n",
              "        vertical-align: middle;\n",
              "    }\n",
              "\n",
              "    .dataframe tbody tr th {\n",
              "        vertical-align: top;\n",
              "    }\n",
              "\n",
              "    .dataframe thead th {\n",
              "        text-align: right;\n",
              "    }\n",
              "</style>\n",
              "<table border=\"1\" class=\"dataframe\">\n",
              "  <thead>\n",
              "    <tr style=\"text-align: right;\">\n",
              "      <th></th>\n",
              "      <th>ano</th>\n",
              "      <th>mes</th>\n",
              "      <th>tipo_acidente</th>\n",
              "      <th>qtd_acidentes</th>\n",
              "      <th>qtd_ilesos</th>\n",
              "      <th>qtd_feridos_leves</th>\n",
              "      <th>qtd_feridos_graves</th>\n",
              "      <th>qtd_mortos</th>\n",
              "      <th>qtd_feridos</th>\n",
              "      <th>qtd_veiculos</th>\n",
              "    </tr>\n",
              "  </thead>\n",
              "  <tbody>\n",
              "    <tr>\n",
              "      <th>0</th>\n",
              "      <td>2017</td>\n",
              "      <td>4</td>\n",
              "      <td>0</td>\n",
              "      <td>189.0</td>\n",
              "      <td>184.0</td>\n",
              "      <td>77.0</td>\n",
              "      <td>26.0</td>\n",
              "      <td>8.0</td>\n",
              "      <td>103.0</td>\n",
              "      <td>199.0</td>\n",
              "    </tr>\n",
              "    <tr>\n",
              "      <th>1</th>\n",
              "      <td>2017</td>\n",
              "      <td>4</td>\n",
              "      <td>1</td>\n",
              "      <td>310.0</td>\n",
              "      <td>241.0</td>\n",
              "      <td>186.0</td>\n",
              "      <td>124.0</td>\n",
              "      <td>86.0</td>\n",
              "      <td>310.0</td>\n",
              "      <td>340.0</td>\n",
              "    </tr>\n",
              "    <tr>\n",
              "      <th>2</th>\n",
              "      <td>2017</td>\n",
              "      <td>4</td>\n",
              "      <td>2</td>\n",
              "      <td>485.0</td>\n",
              "      <td>367.0</td>\n",
              "      <td>352.0</td>\n",
              "      <td>114.0</td>\n",
              "      <td>26.0</td>\n",
              "      <td>466.0</td>\n",
              "      <td>514.0</td>\n",
              "    </tr>\n",
              "    <tr>\n",
              "      <th>3</th>\n",
              "      <td>2017</td>\n",
              "      <td>4</td>\n",
              "      <td>3</td>\n",
              "      <td>57.0</td>\n",
              "      <td>88.0</td>\n",
              "      <td>40.0</td>\n",
              "      <td>14.0</td>\n",
              "      <td>4.0</td>\n",
              "      <td>54.0</td>\n",
              "      <td>103.0</td>\n",
              "    </tr>\n",
              "    <tr>\n",
              "      <th>4</th>\n",
              "      <td>2017</td>\n",
              "      <td>4</td>\n",
              "      <td>4</td>\n",
              "      <td>624.0</td>\n",
              "      <td>561.0</td>\n",
              "      <td>315.0</td>\n",
              "      <td>63.0</td>\n",
              "      <td>28.0</td>\n",
              "      <td>378.0</td>\n",
              "      <td>700.0</td>\n",
              "    </tr>\n",
              "    <tr>\n",
              "      <th>...</th>\n",
              "      <td>...</td>\n",
              "      <td>...</td>\n",
              "      <td>...</td>\n",
              "      <td>...</td>\n",
              "      <td>...</td>\n",
              "      <td>...</td>\n",
              "      <td>...</td>\n",
              "      <td>...</td>\n",
              "      <td>...</td>\n",
              "      <td>...</td>\n",
              "    </tr>\n",
              "    <tr>\n",
              "      <th>779</th>\n",
              "      <td>2021</td>\n",
              "      <td>1</td>\n",
              "      <td>11</td>\n",
              "      <td>NaN</td>\n",
              "      <td>NaN</td>\n",
              "      <td>NaN</td>\n",
              "      <td>NaN</td>\n",
              "      <td>NaN</td>\n",
              "      <td>NaN</td>\n",
              "      <td>NaN</td>\n",
              "    </tr>\n",
              "    <tr>\n",
              "      <th>780</th>\n",
              "      <td>2021</td>\n",
              "      <td>1</td>\n",
              "      <td>12</td>\n",
              "      <td>NaN</td>\n",
              "      <td>NaN</td>\n",
              "      <td>NaN</td>\n",
              "      <td>NaN</td>\n",
              "      <td>NaN</td>\n",
              "      <td>NaN</td>\n",
              "      <td>NaN</td>\n",
              "    </tr>\n",
              "    <tr>\n",
              "      <th>781</th>\n",
              "      <td>2021</td>\n",
              "      <td>1</td>\n",
              "      <td>13</td>\n",
              "      <td>NaN</td>\n",
              "      <td>NaN</td>\n",
              "      <td>NaN</td>\n",
              "      <td>NaN</td>\n",
              "      <td>NaN</td>\n",
              "      <td>NaN</td>\n",
              "      <td>NaN</td>\n",
              "    </tr>\n",
              "    <tr>\n",
              "      <th>782</th>\n",
              "      <td>2021</td>\n",
              "      <td>1</td>\n",
              "      <td>14</td>\n",
              "      <td>NaN</td>\n",
              "      <td>NaN</td>\n",
              "      <td>NaN</td>\n",
              "      <td>NaN</td>\n",
              "      <td>NaN</td>\n",
              "      <td>NaN</td>\n",
              "      <td>NaN</td>\n",
              "    </tr>\n",
              "    <tr>\n",
              "      <th>783</th>\n",
              "      <td>2021</td>\n",
              "      <td>1</td>\n",
              "      <td>15</td>\n",
              "      <td>NaN</td>\n",
              "      <td>NaN</td>\n",
              "      <td>NaN</td>\n",
              "      <td>NaN</td>\n",
              "      <td>NaN</td>\n",
              "      <td>NaN</td>\n",
              "      <td>NaN</td>\n",
              "    </tr>\n",
              "  </tbody>\n",
              "</table>\n",
              "<p>784 rows × 10 columns</p>\n",
              "</div>"
            ],
            "text/plain": [
              "      ano mes  tipo_acidente  ...  qtd_mortos  qtd_feridos  qtd_veiculos\n",
              "0    2017   4              0  ...         8.0        103.0         199.0\n",
              "1    2017   4              1  ...        86.0        310.0         340.0\n",
              "2    2017   4              2  ...        26.0        466.0         514.0\n",
              "3    2017   4              3  ...         4.0         54.0         103.0\n",
              "4    2017   4              4  ...        28.0        378.0         700.0\n",
              "..    ...  ..            ...  ...         ...          ...           ...\n",
              "779  2021   1             11  ...         NaN          NaN           NaN\n",
              "780  2021   1             12  ...         NaN          NaN           NaN\n",
              "781  2021   1             13  ...         NaN          NaN           NaN\n",
              "782  2021   1             14  ...         NaN          NaN           NaN\n",
              "783  2021   1             15  ...         NaN          NaN           NaN\n",
              "\n",
              "[784 rows x 10 columns]"
            ]
          },
          "metadata": {
            "tags": []
          },
          "execution_count": 120
        }
      ]
    },
    {
      "cell_type": "markdown",
      "metadata": {
        "id": "NzNXTEyBrmZv"
      },
      "source": [
        "###### Dividindo a base em treino e teste"
      ]
    },
    {
      "cell_type": "code",
      "metadata": {
        "id": "FdI9y49qrmZw"
      },
      "source": [
        "X_train = df_novo_concat[:len(df)][x]\n",
        "X_test = df_novo_concat[len(df):][x]\n",
        "Y_train = df[y]"
      ],
      "execution_count": null,
      "outputs": []
    },
    {
      "cell_type": "markdown",
      "metadata": {
        "id": "ZyhplLVrrmZy"
      },
      "source": [
        "###### Arvore de Decisão"
      ]
    },
    {
      "cell_type": "code",
      "metadata": {
        "id": "Magn1umbrmZy",
        "outputId": "3ec889e0-d6df-4c50-bc50-8374c4c31f47",
        "colab": {
          "base_uri": "https://localhost:8080/",
          "height": 415
        }
      },
      "source": [
        "regressor1 = DecisionTreeRegressor()\n",
        "  \n",
        "regressor1.fit(X_train, Y_train)\n",
        "previsoes1 = regressor1.predict(X_test)\n",
        "\n",
        "previsoes1 = pd.DataFrame(previsoes1)\n",
        "previsoes1.columns = y\n",
        "\n",
        "previsoes1 = pd.concat([df_novo, previsoes1], axis=1)\n",
        "for mes in meses:\n",
        "  previsoes1.loc[previsoes1.mes == mes, 'mes'] = meses.index(mes) + 1\n",
        "previsoes1"
      ],
      "execution_count": null,
      "outputs": [
        {
          "output_type": "execute_result",
          "data": {
            "text/html": [
              "<div>\n",
              "<style scoped>\n",
              "    .dataframe tbody tr th:only-of-type {\n",
              "        vertical-align: middle;\n",
              "    }\n",
              "\n",
              "    .dataframe tbody tr th {\n",
              "        vertical-align: top;\n",
              "    }\n",
              "\n",
              "    .dataframe thead th {\n",
              "        text-align: right;\n",
              "    }\n",
              "</style>\n",
              "<table border=\"1\" class=\"dataframe\">\n",
              "  <thead>\n",
              "    <tr style=\"text-align: right;\">\n",
              "      <th></th>\n",
              "      <th>mes</th>\n",
              "      <th>ano</th>\n",
              "      <th>tipo_acidente</th>\n",
              "      <th>qtd_acidentes</th>\n",
              "      <th>qtd_ilesos</th>\n",
              "      <th>qtd_feridos_leves</th>\n",
              "      <th>qtd_feridos_graves</th>\n",
              "      <th>qtd_mortos</th>\n",
              "      <th>qtd_feridos</th>\n",
              "      <th>qtd_veiculos</th>\n",
              "    </tr>\n",
              "  </thead>\n",
              "  <tbody>\n",
              "    <tr>\n",
              "      <th>0</th>\n",
              "      <td>8</td>\n",
              "      <td>2020</td>\n",
              "      <td>Atropelamento de Animal</td>\n",
              "      <td>99.0</td>\n",
              "      <td>60.0</td>\n",
              "      <td>72.0</td>\n",
              "      <td>24.0</td>\n",
              "      <td>6.0</td>\n",
              "      <td>96.0</td>\n",
              "      <td>113.0</td>\n",
              "    </tr>\n",
              "    <tr>\n",
              "      <th>1</th>\n",
              "      <td>9</td>\n",
              "      <td>2020</td>\n",
              "      <td>Atropelamento de Animal</td>\n",
              "      <td>99.0</td>\n",
              "      <td>54.0</td>\n",
              "      <td>102.0</td>\n",
              "      <td>28.0</td>\n",
              "      <td>3.0</td>\n",
              "      <td>130.0</td>\n",
              "      <td>114.0</td>\n",
              "    </tr>\n",
              "    <tr>\n",
              "      <th>2</th>\n",
              "      <td>10</td>\n",
              "      <td>2020</td>\n",
              "      <td>Atropelamento de Animal</td>\n",
              "      <td>109.0</td>\n",
              "      <td>38.0</td>\n",
              "      <td>80.0</td>\n",
              "      <td>37.0</td>\n",
              "      <td>3.0</td>\n",
              "      <td>117.0</td>\n",
              "      <td>116.0</td>\n",
              "    </tr>\n",
              "    <tr>\n",
              "      <th>3</th>\n",
              "      <td>11</td>\n",
              "      <td>2020</td>\n",
              "      <td>Atropelamento de Animal</td>\n",
              "      <td>101.0</td>\n",
              "      <td>70.0</td>\n",
              "      <td>78.0</td>\n",
              "      <td>21.0</td>\n",
              "      <td>11.0</td>\n",
              "      <td>99.0</td>\n",
              "      <td>111.0</td>\n",
              "    </tr>\n",
              "    <tr>\n",
              "      <th>4</th>\n",
              "      <td>12</td>\n",
              "      <td>2020</td>\n",
              "      <td>Atropelamento de Animal</td>\n",
              "      <td>106.0</td>\n",
              "      <td>74.0</td>\n",
              "      <td>75.0</td>\n",
              "      <td>27.0</td>\n",
              "      <td>9.0</td>\n",
              "      <td>102.0</td>\n",
              "      <td>114.0</td>\n",
              "    </tr>\n",
              "    <tr>\n",
              "      <th>...</th>\n",
              "      <td>...</td>\n",
              "      <td>...</td>\n",
              "      <td>...</td>\n",
              "      <td>...</td>\n",
              "      <td>...</td>\n",
              "      <td>...</td>\n",
              "      <td>...</td>\n",
              "      <td>...</td>\n",
              "      <td>...</td>\n",
              "      <td>...</td>\n",
              "    </tr>\n",
              "    <tr>\n",
              "      <th>91</th>\n",
              "      <td>1</td>\n",
              "      <td>2021</td>\n",
              "      <td>Engavetamento</td>\n",
              "      <td>100.0</td>\n",
              "      <td>379.0</td>\n",
              "      <td>117.0</td>\n",
              "      <td>16.0</td>\n",
              "      <td>1.0</td>\n",
              "      <td>133.0</td>\n",
              "      <td>392.0</td>\n",
              "    </tr>\n",
              "    <tr>\n",
              "      <th>92</th>\n",
              "      <td>1</td>\n",
              "      <td>2021</td>\n",
              "      <td>Incêndio</td>\n",
              "      <td>79.0</td>\n",
              "      <td>87.0</td>\n",
              "      <td>3.0</td>\n",
              "      <td>2.0</td>\n",
              "      <td>0.0</td>\n",
              "      <td>5.0</td>\n",
              "      <td>81.0</td>\n",
              "    </tr>\n",
              "    <tr>\n",
              "      <th>93</th>\n",
              "      <td>1</td>\n",
              "      <td>2021</td>\n",
              "      <td>Queda de ocupante de veículo</td>\n",
              "      <td>237.0</td>\n",
              "      <td>36.0</td>\n",
              "      <td>244.0</td>\n",
              "      <td>43.0</td>\n",
              "      <td>6.0</td>\n",
              "      <td>287.0</td>\n",
              "      <td>260.0</td>\n",
              "    </tr>\n",
              "    <tr>\n",
              "      <th>94</th>\n",
              "      <td>1</td>\n",
              "      <td>2021</td>\n",
              "      <td>Saída de leito carroçável</td>\n",
              "      <td>988.0</td>\n",
              "      <td>585.0</td>\n",
              "      <td>1152.0</td>\n",
              "      <td>206.0</td>\n",
              "      <td>57.0</td>\n",
              "      <td>1358.0</td>\n",
              "      <td>1036.0</td>\n",
              "    </tr>\n",
              "    <tr>\n",
              "      <th>95</th>\n",
              "      <td>1</td>\n",
              "      <td>2021</td>\n",
              "      <td>Tombamento</td>\n",
              "      <td>405.0</td>\n",
              "      <td>114.0</td>\n",
              "      <td>405.0</td>\n",
              "      <td>76.0</td>\n",
              "      <td>17.0</td>\n",
              "      <td>481.0</td>\n",
              "      <td>449.0</td>\n",
              "    </tr>\n",
              "  </tbody>\n",
              "</table>\n",
              "<p>96 rows × 10 columns</p>\n",
              "</div>"
            ],
            "text/plain": [
              "   mes   ano  ... qtd_feridos  qtd_veiculos\n",
              "0    8  2020  ...        96.0         113.0\n",
              "1    9  2020  ...       130.0         114.0\n",
              "2   10  2020  ...       117.0         116.0\n",
              "3   11  2020  ...        99.0         111.0\n",
              "4   12  2020  ...       102.0         114.0\n",
              "..  ..   ...  ...         ...           ...\n",
              "91   1  2021  ...       133.0         392.0\n",
              "92   1  2021  ...         5.0          81.0\n",
              "93   1  2021  ...       287.0         260.0\n",
              "94   1  2021  ...      1358.0        1036.0\n",
              "95   1  2021  ...       481.0         449.0\n",
              "\n",
              "[96 rows x 10 columns]"
            ]
          },
          "metadata": {
            "tags": []
          },
          "execution_count": 122
        }
      ]
    },
    {
      "cell_type": "markdown",
      "metadata": {
        "id": "dPjS7Jnbtfwr"
      },
      "source": [
        "#### **Hipótese 3:**"
      ]
    },
    {
      "cell_type": "markdown",
      "metadata": {
        "id": "vd38kFGgtfwt"
      },
      "source": [
        "##### Agrupamento da base Pessoas"
      ]
    },
    {
      "cell_type": "code",
      "metadata": {
        "id": "izK6-7tatfwt",
        "outputId": "b34f9c36-0033-470e-a557-782c05a1123c",
        "colab": {
          "base_uri": "https://localhost:8080/"
        }
      },
      "source": [
        "x = ['ano', 'mes', 'sexo']\n",
        "y = ['qtd_acidentes', 'qtd_pessoas', 'qtd_ilesos', 'qtd_feridos_leves', 'qtd_feridos_graves', 'qtd_mortos']\n",
        "\n",
        "df = dfPessoas\n",
        "df = df.groupby([df['data_inversa'].dt.strftime('%Y'), df['data_inversa'].dt.strftime('%B'), 'sexo'])\n",
        "df = df.agg({'id': 'nunique', 'pesid': 'nunique', 'ilesos': 'sum', 'feridos_leves': 'sum', 'feridos_graves': 'sum', 'mortos': 'sum'})\n",
        "df.index.names = x\n",
        "df.columns = y\n",
        "df = df.reset_index()\n",
        "\n",
        "df.head()"
      ],
      "execution_count": null,
      "outputs": [
        {
          "output_type": "execute_result",
          "data": {
            "text/html": [
              "<div>\n",
              "<style scoped>\n",
              "    .dataframe tbody tr th:only-of-type {\n",
              "        vertical-align: middle;\n",
              "    }\n",
              "\n",
              "    .dataframe tbody tr th {\n",
              "        vertical-align: top;\n",
              "    }\n",
              "\n",
              "    .dataframe thead th {\n",
              "        text-align: right;\n",
              "    }\n",
              "</style>\n",
              "<table border=\"1\" class=\"dataframe\">\n",
              "  <thead>\n",
              "    <tr style=\"text-align: right;\">\n",
              "      <th></th>\n",
              "      <th>ano</th>\n",
              "      <th>mes</th>\n",
              "      <th>sexo</th>\n",
              "      <th>qtd_acidentes</th>\n",
              "      <th>qtd_pessoas</th>\n",
              "      <th>qtd_ilesos</th>\n",
              "      <th>qtd_feridos_leves</th>\n",
              "      <th>qtd_feridos_graves</th>\n",
              "      <th>qtd_mortos</th>\n",
              "    </tr>\n",
              "  </thead>\n",
              "  <tbody>\n",
              "    <tr>\n",
              "      <th>0</th>\n",
              "      <td>2017</td>\n",
              "      <td>April</td>\n",
              "      <td>Feminino</td>\n",
              "      <td>2581</td>\n",
              "      <td>3939</td>\n",
              "      <td>1540</td>\n",
              "      <td>1908</td>\n",
              "      <td>394</td>\n",
              "      <td>97</td>\n",
              "    </tr>\n",
              "    <tr>\n",
              "      <th>1</th>\n",
              "      <td>2017</td>\n",
              "      <td>April</td>\n",
              "      <td>Masculino</td>\n",
              "      <td>7223</td>\n",
              "      <td>12719</td>\n",
              "      <td>7359</td>\n",
              "      <td>3745</td>\n",
              "      <td>1204</td>\n",
              "      <td>411</td>\n",
              "    </tr>\n",
              "    <tr>\n",
              "      <th>2</th>\n",
              "      <td>2017</td>\n",
              "      <td>April</td>\n",
              "      <td>Não Informado</td>\n",
              "      <td>975</td>\n",
              "      <td>1245</td>\n",
              "      <td>260</td>\n",
              "      <td>13</td>\n",
              "      <td>3</td>\n",
              "      <td>7</td>\n",
              "    </tr>\n",
              "    <tr>\n",
              "      <th>3</th>\n",
              "      <td>2017</td>\n",
              "      <td>August</td>\n",
              "      <td>Feminino</td>\n",
              "      <td>2307</td>\n",
              "      <td>3317</td>\n",
              "      <td>1252</td>\n",
              "      <td>1574</td>\n",
              "      <td>397</td>\n",
              "      <td>94</td>\n",
              "    </tr>\n",
              "    <tr>\n",
              "      <th>4</th>\n",
              "      <td>2017</td>\n",
              "      <td>August</td>\n",
              "      <td>Masculino</td>\n",
              "      <td>6614</td>\n",
              "      <td>11433</td>\n",
              "      <td>6258</td>\n",
              "      <td>3547</td>\n",
              "      <td>1224</td>\n",
              "      <td>404</td>\n",
              "    </tr>\n",
              "  </tbody>\n",
              "</table>\n",
              "</div>"
            ],
            "text/plain": [
              "    ano     mes  ... qtd_feridos_graves  qtd_mortos\n",
              "0  2017   April  ...                394          97\n",
              "1  2017   April  ...               1204         411\n",
              "2  2017   April  ...                  3           7\n",
              "3  2017  August  ...                397          94\n",
              "4  2017  August  ...               1224         404\n",
              "\n",
              "[5 rows x 9 columns]"
            ]
          },
          "metadata": {
            "tags": []
          },
          "execution_count": 36
        }
      ]
    },
    {
      "cell_type": "markdown",
      "metadata": {
        "id": "kB9YqJlbtfwx"
      },
      "source": [
        "##### Tratamentos"
      ]
    },
    {
      "cell_type": "code",
      "metadata": {
        "id": "LSsGWUxttfwx"
      },
      "source": [
        "# Label Encoder\n",
        "df_pessoas_tratado = label_encoder(df.copy(), ['mes', 'sexo'])\n",
        "\n",
        "# Divisão da base\n",
        "X = df_pessoas_tratado[x]\n",
        "Y = df_pessoas_tratado[y]\n",
        "\n",
        "# Standart Scaler\n",
        "# X, Y = standard_scaler(X, Y)\n",
        "\n",
        "X_train, X_test, Y_train, Y_test = hold_out(X, Y)"
      ],
      "execution_count": null,
      "outputs": []
    },
    {
      "cell_type": "markdown",
      "metadata": {
        "id": "cn5q8OGEtfwz"
      },
      "source": [
        "##### Regressão Linear"
      ]
    },
    {
      "cell_type": "code",
      "metadata": {
        "id": "DbFd8Xqstfw0",
        "outputId": "b69a0687-085b-4a3d-efed-17b7e06b23ae",
        "colab": {
          "base_uri": "https://localhost:8080/"
        }
      },
      "source": [
        "sc1_rl, sc2_rl, mae_rl = regressao_linear(X_train, Y_train, X_test, Y_test)"
      ],
      "execution_count": null,
      "outputs": [
        {
          "output_type": "stream",
          "text": [
            "Score Treino:  0.14699108603950742 \n",
            "Score Teste:  -0.396483410620267\n",
            "Erro médio absoluto:  1630.6741219469368 \n",
            "\n"
          ],
          "name": "stdout"
        },
        {
          "output_type": "stream",
          "text": [
            "/usr/local/lib/python3.6/dist-packages/sklearn/base.py:434: FutureWarning:\n",
            "\n",
            "The default value of multioutput (not exposed in score method) will change from 'variance_weighted' to 'uniform_average' in 0.23 to keep consistent with 'metrics.r2_score'. To specify the default value manually and avoid the warning, please either call 'metrics.r2_score' directly or make a custom scorer with 'metrics.make_scorer' (the built-in scorer 'r2' uses multioutput='uniform_average').\n",
            "\n",
            "/usr/local/lib/python3.6/dist-packages/sklearn/base.py:434: FutureWarning:\n",
            "\n",
            "The default value of multioutput (not exposed in score method) will change from 'variance_weighted' to 'uniform_average' in 0.23 to keep consistent with 'metrics.r2_score'. To specify the default value manually and avoid the warning, please either call 'metrics.r2_score' directly or make a custom scorer with 'metrics.make_scorer' (the built-in scorer 'r2' uses multioutput='uniform_average').\n",
            "\n"
          ],
          "name": "stderr"
        }
      ]
    },
    {
      "cell_type": "markdown",
      "metadata": {
        "id": "PypmXhBktfw2"
      },
      "source": [
        "##### Regressão Polinomial"
      ]
    },
    {
      "cell_type": "code",
      "metadata": {
        "id": "xDGTKf9-tfw2",
        "outputId": "9bfbb518-6374-4079-cad8-7bf715054cdc",
        "colab": {
          "base_uri": "https://localhost:8080/"
        }
      },
      "source": [
        "sc1_rp, sc2_rp, mae_rp = regressao_polinomial(X_train, Y_train, X_test, Y_test)"
      ],
      "execution_count": null,
      "outputs": [
        {
          "output_type": "stream",
          "text": [
            "Score Treino:  0.9810058431314316 \n",
            "Score Teste:  0.9791543544401263\n",
            "Erro médio absoluto:  175.3507491543762 \n",
            "\n"
          ],
          "name": "stdout"
        },
        {
          "output_type": "stream",
          "text": [
            "/usr/local/lib/python3.6/dist-packages/sklearn/base.py:434: FutureWarning:\n",
            "\n",
            "The default value of multioutput (not exposed in score method) will change from 'variance_weighted' to 'uniform_average' in 0.23 to keep consistent with 'metrics.r2_score'. To specify the default value manually and avoid the warning, please either call 'metrics.r2_score' directly or make a custom scorer with 'metrics.make_scorer' (the built-in scorer 'r2' uses multioutput='uniform_average').\n",
            "\n",
            "/usr/local/lib/python3.6/dist-packages/sklearn/base.py:434: FutureWarning:\n",
            "\n",
            "The default value of multioutput (not exposed in score method) will change from 'variance_weighted' to 'uniform_average' in 0.23 to keep consistent with 'metrics.r2_score'. To specify the default value manually and avoid the warning, please either call 'metrics.r2_score' directly or make a custom scorer with 'metrics.make_scorer' (the built-in scorer 'r2' uses multioutput='uniform_average').\n",
            "\n"
          ],
          "name": "stderr"
        }
      ]
    },
    {
      "cell_type": "markdown",
      "metadata": {
        "id": "rhthnwhwtfw4"
      },
      "source": [
        "##### Regressão por Árvores de Decisão"
      ]
    },
    {
      "cell_type": "code",
      "metadata": {
        "id": "16CEvst1tfw5",
        "outputId": "6cd450e7-33fe-4fa6-84d0-1b9f86e864fb",
        "colab": {
          "base_uri": "https://localhost:8080/"
        }
      },
      "source": [
        "sc1_ad, sc2_ad, mae_ad = arvore_decisao(X_train, Y_train, X_test, Y_test)"
      ],
      "execution_count": null,
      "outputs": [
        {
          "output_type": "stream",
          "text": [
            "Score Treino:  1.0 \n",
            "Score Teste:  0.976302869785816\n",
            "Erro médio absoluto:  161.66666666666666 \n",
            "\n"
          ],
          "name": "stdout"
        },
        {
          "output_type": "stream",
          "text": [
            "/usr/local/lib/python3.6/dist-packages/sklearn/base.py:434: FutureWarning:\n",
            "\n",
            "The default value of multioutput (not exposed in score method) will change from 'variance_weighted' to 'uniform_average' in 0.23 to keep consistent with 'metrics.r2_score'. To specify the default value manually and avoid the warning, please either call 'metrics.r2_score' directly or make a custom scorer with 'metrics.make_scorer' (the built-in scorer 'r2' uses multioutput='uniform_average').\n",
            "\n",
            "/usr/local/lib/python3.6/dist-packages/sklearn/base.py:434: FutureWarning:\n",
            "\n",
            "The default value of multioutput (not exposed in score method) will change from 'variance_weighted' to 'uniform_average' in 0.23 to keep consistent with 'metrics.r2_score'. To specify the default value manually and avoid the warning, please either call 'metrics.r2_score' directly or make a custom scorer with 'metrics.make_scorer' (the built-in scorer 'r2' uses multioutput='uniform_average').\n",
            "\n"
          ],
          "name": "stderr"
        }
      ]
    },
    {
      "cell_type": "markdown",
      "metadata": {
        "id": "KDLu1jI4tfw7"
      },
      "source": [
        "##### Regressão por Random Forest"
      ]
    },
    {
      "cell_type": "code",
      "metadata": {
        "id": "J8qAuk-9tfw7",
        "outputId": "08607fbb-2d7f-4158-8406-2df825c9eede",
        "colab": {
          "base_uri": "https://localhost:8080/"
        }
      },
      "source": [
        "sc1_rf, sc2_rf, mae_rf = floresta_randomica(X_train, Y_train, X_test, Y_test)"
      ],
      "execution_count": null,
      "outputs": [
        {
          "output_type": "stream",
          "text": [
            "Score Treino:  0.9947641354770748 \n",
            "Score Teste:  0.9801284231525191\n",
            "Erro médio absoluto:  146.41410256410256 \n",
            "\n"
          ],
          "name": "stdout"
        },
        {
          "output_type": "stream",
          "text": [
            "/usr/local/lib/python3.6/dist-packages/sklearn/base.py:434: FutureWarning:\n",
            "\n",
            "The default value of multioutput (not exposed in score method) will change from 'variance_weighted' to 'uniform_average' in 0.23 to keep consistent with 'metrics.r2_score'. To specify the default value manually and avoid the warning, please either call 'metrics.r2_score' directly or make a custom scorer with 'metrics.make_scorer' (the built-in scorer 'r2' uses multioutput='uniform_average').\n",
            "\n",
            "/usr/local/lib/python3.6/dist-packages/sklearn/base.py:434: FutureWarning:\n",
            "\n",
            "The default value of multioutput (not exposed in score method) will change from 'variance_weighted' to 'uniform_average' in 0.23 to keep consistent with 'metrics.r2_score'. To specify the default value manually and avoid the warning, please either call 'metrics.r2_score' directly or make a custom scorer with 'metrics.make_scorer' (the built-in scorer 'r2' uses multioutput='uniform_average').\n",
            "\n"
          ],
          "name": "stderr"
        }
      ]
    },
    {
      "cell_type": "markdown",
      "metadata": {
        "id": "hCPWv_jqtfw9"
      },
      "source": [
        "##### Regressão MLP"
      ]
    },
    {
      "cell_type": "code",
      "metadata": {
        "id": "J05_afv_tfw9",
        "outputId": "461494bf-552c-48b5-f4f9-dec6c9d89ce4",
        "colab": {
          "base_uri": "https://localhost:8080/"
        }
      },
      "source": [
        "sc1_rn, sc2_rn, mae_rn = mlp(X_train, Y_train, X_test, Y_test, hls=(200, 100))"
      ],
      "execution_count": null,
      "outputs": [
        {
          "output_type": "stream",
          "text": [
            "Score Treino:  4.0223999360271224e-05 \n",
            "Score Teste:  -0.12504620272749237\n",
            "Erro médio absoluto:  1356.2003339477942 \n",
            "\n"
          ],
          "name": "stdout"
        },
        {
          "output_type": "stream",
          "text": [
            "/usr/local/lib/python3.6/dist-packages/sklearn/neural_network/_multilayer_perceptron.py:571: ConvergenceWarning:\n",
            "\n",
            "Stochastic Optimizer: Maximum iterations (200) reached and the optimization hasn't converged yet.\n",
            "\n",
            "/usr/local/lib/python3.6/dist-packages/sklearn/base.py:434: FutureWarning:\n",
            "\n",
            "The default value of multioutput (not exposed in score method) will change from 'variance_weighted' to 'uniform_average' in 0.23 to keep consistent with 'metrics.r2_score'. To specify the default value manually and avoid the warning, please either call 'metrics.r2_score' directly or make a custom scorer with 'metrics.make_scorer' (the built-in scorer 'r2' uses multioutput='uniform_average').\n",
            "\n",
            "/usr/local/lib/python3.6/dist-packages/sklearn/base.py:434: FutureWarning:\n",
            "\n",
            "The default value of multioutput (not exposed in score method) will change from 'variance_weighted' to 'uniform_average' in 0.23 to keep consistent with 'metrics.r2_score'. To specify the default value manually and avoid the warning, please either call 'metrics.r2_score' directly or make a custom scorer with 'metrics.make_scorer' (the built-in scorer 'r2' uses multioutput='uniform_average').\n",
            "\n"
          ],
          "name": "stderr"
        }
      ]
    },
    {
      "cell_type": "markdown",
      "metadata": {
        "id": "mgF0FuXZtfw_"
      },
      "source": [
        "##### Regressão KNN"
      ]
    },
    {
      "cell_type": "code",
      "metadata": {
        "id": "ZpyU2ZMCtfw_",
        "outputId": "fdf8d1a5-07bf-4cc9-b8fb-c48adc7ec98d",
        "colab": {
          "base_uri": "https://localhost:8080/"
        }
      },
      "source": [
        "sc1_kn, sc2_kn, mae_kn = knr(X_train, Y_train, X_test, Y_test, k=5)"
      ],
      "execution_count": null,
      "outputs": [
        {
          "output_type": "stream",
          "text": [
            "Score Treino:  0.52425255620791 \n",
            "Score Teste:  -0.31504530516409956\n",
            "Erro médio absoluto:  1521.6350427350426 \n",
            "\n"
          ],
          "name": "stdout"
        },
        {
          "output_type": "stream",
          "text": [
            "/usr/local/lib/python3.6/dist-packages/sklearn/base.py:434: FutureWarning:\n",
            "\n",
            "The default value of multioutput (not exposed in score method) will change from 'variance_weighted' to 'uniform_average' in 0.23 to keep consistent with 'metrics.r2_score'. To specify the default value manually and avoid the warning, please either call 'metrics.r2_score' directly or make a custom scorer with 'metrics.make_scorer' (the built-in scorer 'r2' uses multioutput='uniform_average').\n",
            "\n",
            "/usr/local/lib/python3.6/dist-packages/sklearn/base.py:434: FutureWarning:\n",
            "\n",
            "The default value of multioutput (not exposed in score method) will change from 'variance_weighted' to 'uniform_average' in 0.23 to keep consistent with 'metrics.r2_score'. To specify the default value manually and avoid the warning, please either call 'metrics.r2_score' directly or make a custom scorer with 'metrics.make_scorer' (the built-in scorer 'r2' uses multioutput='uniform_average').\n",
            "\n"
          ],
          "name": "stderr"
        }
      ]
    },
    {
      "cell_type": "markdown",
      "metadata": {
        "id": "y_S0KJxptfxB"
      },
      "source": [
        "##### Resultados"
      ]
    },
    {
      "cell_type": "code",
      "metadata": {
        "id": "WY3KxH69tfxB"
      },
      "source": [
        "regressores = ['Linear', 'Polinomial', 'Decision Tree', 'Random Forest', 'MLP', 'KNN']\n",
        "scores_treino = [sc1_rl, sc1_rp, sc1_ad, sc1_rf, sc1_rn, sc1_kn]\n",
        "scores_teste = [sc2_rl, sc2_rp, sc2_ad, sc2_rf, sc2_rn, sc2_kn]\n",
        "maes = [mae_rl, mae_rp, mae_ad, mae_rf, mae_rn, mae_kn]"
      ],
      "execution_count": null,
      "outputs": []
    },
    {
      "cell_type": "code",
      "metadata": {
        "id": "M1z_RjJUtfxE",
        "outputId": "c006fb6c-472b-449c-b5c8-2fea8cd875d9",
        "colab": {
          "base_uri": "https://localhost:8080/"
        }
      },
      "source": [
        "plot_scores_bar(regressores, scores_treino, scores_teste, 'Scores de TREINO/TESTE dos regressores na base de pessoas agrupadas (mes, ano, sexo).')"
      ],
      "execution_count": null,
      "outputs": [
        {
          "output_type": "display_data",
          "data": {
            "text/html": [
              "<html>\n",
              "<head><meta charset=\"utf-8\" /></head>\n",
              "<body>\n",
              "    <div>\n",
              "            <script src=\"https://cdnjs.cloudflare.com/ajax/libs/mathjax/2.7.5/MathJax.js?config=TeX-AMS-MML_SVG\"></script><script type=\"text/javascript\">if (window.MathJax) {MathJax.Hub.Config({SVG: {font: \"STIX-Web\"}});}</script>\n",
              "                <script type=\"text/javascript\">window.PlotlyConfig = {MathJaxConfig: 'local'};</script>\n",
              "        <script src=\"https://cdn.plot.ly/plotly-latest.min.js\"></script>    \n",
              "            <div id=\"841b6324-6bb3-4aa0-8162-10d0602055c3\" class=\"plotly-graph-div\" style=\"height:525px; width:100%;\"></div>\n",
              "            <script type=\"text/javascript\">\n",
              "                \n",
              "                    window.PLOTLYENV=window.PLOTLYENV || {};\n",
              "                    \n",
              "                if (document.getElementById(\"841b6324-6bb3-4aa0-8162-10d0602055c3\")) {\n",
              "                    Plotly.newPlot(\n",
              "                        '841b6324-6bb3-4aa0-8162-10d0602055c3',\n",
              "                        [{\"name\": \"Scores de Treino\", \"type\": \"bar\", \"x\": [\"Linear\", \"Polinomial\", \"Decision Tree\", \"Random Forest\", \"MLP\", \"KNN\"], \"y\": [0.14699108603950742, 0.9810058431314316, 1.0, 0.9947641354770748, 4.0223999360271224e-05, 0.52425255620791]}, {\"name\": \"Scores de Teste\", \"type\": \"bar\", \"x\": [\"Linear\", \"Polinomial\", \"Decision Tree\", \"Random Forest\", \"MLP\", \"KNN\"], \"y\": [-0.396483410620267, 0.9791543544401263, 0.976302869785816, 0.9801284231525191, -0.12504620272749237, -0.31504530516409956]}],\n",
              "                        {\"barmode\": \"group\", \"template\": {\"data\": {\"bar\": [{\"error_x\": {\"color\": \"#2a3f5f\"}, \"error_y\": {\"color\": \"#2a3f5f\"}, \"marker\": {\"line\": {\"color\": \"#E5ECF6\", \"width\": 0.5}}, \"type\": \"bar\"}], \"barpolar\": [{\"marker\": {\"line\": {\"color\": \"#E5ECF6\", \"width\": 0.5}}, \"type\": \"barpolar\"}], \"carpet\": [{\"aaxis\": {\"endlinecolor\": \"#2a3f5f\", \"gridcolor\": \"white\", \"linecolor\": \"white\", \"minorgridcolor\": \"white\", \"startlinecolor\": \"#2a3f5f\"}, \"baxis\": {\"endlinecolor\": \"#2a3f5f\", \"gridcolor\": \"white\", \"linecolor\": \"white\", \"minorgridcolor\": \"white\", \"startlinecolor\": \"#2a3f5f\"}, \"type\": \"carpet\"}], \"choropleth\": [{\"colorbar\": {\"outlinewidth\": 0, \"ticks\": \"\"}, \"type\": \"choropleth\"}], \"contour\": [{\"colorbar\": {\"outlinewidth\": 0, \"ticks\": \"\"}, \"colorscale\": [[0.0, \"#0d0887\"], [0.1111111111111111, \"#46039f\"], [0.2222222222222222, \"#7201a8\"], [0.3333333333333333, \"#9c179e\"], [0.4444444444444444, \"#bd3786\"], [0.5555555555555556, \"#d8576b\"], [0.6666666666666666, \"#ed7953\"], [0.7777777777777778, \"#fb9f3a\"], [0.8888888888888888, \"#fdca26\"], [1.0, \"#f0f921\"]], \"type\": \"contour\"}], \"contourcarpet\": [{\"colorbar\": {\"outlinewidth\": 0, \"ticks\": \"\"}, \"type\": \"contourcarpet\"}], \"heatmap\": [{\"colorbar\": {\"outlinewidth\": 0, \"ticks\": \"\"}, \"colorscale\": [[0.0, \"#0d0887\"], [0.1111111111111111, \"#46039f\"], [0.2222222222222222, \"#7201a8\"], [0.3333333333333333, \"#9c179e\"], [0.4444444444444444, \"#bd3786\"], [0.5555555555555556, \"#d8576b\"], [0.6666666666666666, \"#ed7953\"], [0.7777777777777778, \"#fb9f3a\"], [0.8888888888888888, \"#fdca26\"], [1.0, \"#f0f921\"]], \"type\": \"heatmap\"}], \"heatmapgl\": [{\"colorbar\": {\"outlinewidth\": 0, \"ticks\": \"\"}, \"colorscale\": [[0.0, \"#0d0887\"], [0.1111111111111111, \"#46039f\"], [0.2222222222222222, \"#7201a8\"], [0.3333333333333333, \"#9c179e\"], [0.4444444444444444, \"#bd3786\"], [0.5555555555555556, \"#d8576b\"], [0.6666666666666666, \"#ed7953\"], [0.7777777777777778, \"#fb9f3a\"], [0.8888888888888888, \"#fdca26\"], [1.0, \"#f0f921\"]], \"type\": \"heatmapgl\"}], \"histogram\": [{\"marker\": {\"colorbar\": {\"outlinewidth\": 0, \"ticks\": \"\"}}, \"type\": \"histogram\"}], \"histogram2d\": [{\"colorbar\": {\"outlinewidth\": 0, \"ticks\": \"\"}, \"colorscale\": [[0.0, \"#0d0887\"], [0.1111111111111111, \"#46039f\"], [0.2222222222222222, \"#7201a8\"], [0.3333333333333333, \"#9c179e\"], [0.4444444444444444, \"#bd3786\"], [0.5555555555555556, \"#d8576b\"], [0.6666666666666666, \"#ed7953\"], [0.7777777777777778, \"#fb9f3a\"], [0.8888888888888888, \"#fdca26\"], [1.0, \"#f0f921\"]], \"type\": \"histogram2d\"}], \"histogram2dcontour\": [{\"colorbar\": {\"outlinewidth\": 0, \"ticks\": \"\"}, \"colorscale\": [[0.0, \"#0d0887\"], [0.1111111111111111, \"#46039f\"], [0.2222222222222222, \"#7201a8\"], [0.3333333333333333, \"#9c179e\"], [0.4444444444444444, \"#bd3786\"], [0.5555555555555556, \"#d8576b\"], [0.6666666666666666, \"#ed7953\"], [0.7777777777777778, \"#fb9f3a\"], [0.8888888888888888, \"#fdca26\"], [1.0, \"#f0f921\"]], \"type\": \"histogram2dcontour\"}], \"mesh3d\": [{\"colorbar\": {\"outlinewidth\": 0, \"ticks\": \"\"}, \"type\": \"mesh3d\"}], \"parcoords\": [{\"line\": {\"colorbar\": {\"outlinewidth\": 0, \"ticks\": \"\"}}, \"type\": \"parcoords\"}], \"pie\": [{\"automargin\": true, \"type\": \"pie\"}], \"scatter\": [{\"marker\": {\"colorbar\": {\"outlinewidth\": 0, \"ticks\": \"\"}}, \"type\": \"scatter\"}], \"scatter3d\": [{\"line\": {\"colorbar\": {\"outlinewidth\": 0, \"ticks\": \"\"}}, \"marker\": {\"colorbar\": {\"outlinewidth\": 0, \"ticks\": \"\"}}, \"type\": \"scatter3d\"}], \"scattercarpet\": [{\"marker\": {\"colorbar\": {\"outlinewidth\": 0, \"ticks\": \"\"}}, \"type\": \"scattercarpet\"}], \"scattergeo\": [{\"marker\": {\"colorbar\": {\"outlinewidth\": 0, \"ticks\": \"\"}}, \"type\": \"scattergeo\"}], \"scattergl\": [{\"marker\": {\"colorbar\": {\"outlinewidth\": 0, \"ticks\": \"\"}}, \"type\": \"scattergl\"}], \"scattermapbox\": [{\"marker\": {\"colorbar\": {\"outlinewidth\": 0, \"ticks\": \"\"}}, \"type\": \"scattermapbox\"}], \"scatterpolar\": [{\"marker\": {\"colorbar\": {\"outlinewidth\": 0, \"ticks\": \"\"}}, \"type\": \"scatterpolar\"}], \"scatterpolargl\": [{\"marker\": {\"colorbar\": {\"outlinewidth\": 0, \"ticks\": \"\"}}, \"type\": \"scatterpolargl\"}], \"scatterternary\": [{\"marker\": {\"colorbar\": {\"outlinewidth\": 0, \"ticks\": \"\"}}, \"type\": \"scatterternary\"}], \"surface\": [{\"colorbar\": {\"outlinewidth\": 0, \"ticks\": \"\"}, \"colorscale\": [[0.0, \"#0d0887\"], [0.1111111111111111, \"#46039f\"], [0.2222222222222222, \"#7201a8\"], [0.3333333333333333, \"#9c179e\"], [0.4444444444444444, \"#bd3786\"], [0.5555555555555556, \"#d8576b\"], [0.6666666666666666, \"#ed7953\"], [0.7777777777777778, \"#fb9f3a\"], [0.8888888888888888, \"#fdca26\"], [1.0, \"#f0f921\"]], \"type\": \"surface\"}], \"table\": [{\"cells\": {\"fill\": {\"color\": \"#EBF0F8\"}, \"line\": {\"color\": \"white\"}}, \"header\": {\"fill\": {\"color\": \"#C8D4E3\"}, \"line\": {\"color\": \"white\"}}, \"type\": \"table\"}]}, \"layout\": {\"annotationdefaults\": {\"arrowcolor\": \"#2a3f5f\", \"arrowhead\": 0, \"arrowwidth\": 1}, \"coloraxis\": {\"colorbar\": {\"outlinewidth\": 0, \"ticks\": \"\"}}, \"colorscale\": {\"diverging\": [[0, \"#8e0152\"], [0.1, \"#c51b7d\"], [0.2, \"#de77ae\"], [0.3, \"#f1b6da\"], [0.4, \"#fde0ef\"], [0.5, \"#f7f7f7\"], [0.6, \"#e6f5d0\"], [0.7, \"#b8e186\"], [0.8, \"#7fbc41\"], [0.9, \"#4d9221\"], [1, \"#276419\"]], \"sequential\": [[0.0, \"#0d0887\"], [0.1111111111111111, \"#46039f\"], [0.2222222222222222, \"#7201a8\"], [0.3333333333333333, \"#9c179e\"], [0.4444444444444444, \"#bd3786\"], [0.5555555555555556, \"#d8576b\"], [0.6666666666666666, \"#ed7953\"], [0.7777777777777778, \"#fb9f3a\"], [0.8888888888888888, \"#fdca26\"], [1.0, \"#f0f921\"]], \"sequentialminus\": [[0.0, \"#0d0887\"], [0.1111111111111111, \"#46039f\"], [0.2222222222222222, \"#7201a8\"], [0.3333333333333333, \"#9c179e\"], [0.4444444444444444, \"#bd3786\"], [0.5555555555555556, \"#d8576b\"], [0.6666666666666666, \"#ed7953\"], [0.7777777777777778, \"#fb9f3a\"], [0.8888888888888888, \"#fdca26\"], [1.0, \"#f0f921\"]]}, \"colorway\": [\"#636efa\", \"#EF553B\", \"#00cc96\", \"#ab63fa\", \"#FFA15A\", \"#19d3f3\", \"#FF6692\", \"#B6E880\", \"#FF97FF\", \"#FECB52\"], \"font\": {\"color\": \"#2a3f5f\"}, \"geo\": {\"bgcolor\": \"white\", \"lakecolor\": \"white\", \"landcolor\": \"#E5ECF6\", \"showlakes\": true, \"showland\": true, \"subunitcolor\": \"white\"}, \"hoverlabel\": {\"align\": \"left\"}, \"hovermode\": \"closest\", \"mapbox\": {\"style\": \"light\"}, \"paper_bgcolor\": \"white\", \"plot_bgcolor\": \"#E5ECF6\", \"polar\": {\"angularaxis\": {\"gridcolor\": \"white\", \"linecolor\": \"white\", \"ticks\": \"\"}, \"bgcolor\": \"#E5ECF6\", \"radialaxis\": {\"gridcolor\": \"white\", \"linecolor\": \"white\", \"ticks\": \"\"}}, \"scene\": {\"xaxis\": {\"backgroundcolor\": \"#E5ECF6\", \"gridcolor\": \"white\", \"gridwidth\": 2, \"linecolor\": \"white\", \"showbackground\": true, \"ticks\": \"\", \"zerolinecolor\": \"white\"}, \"yaxis\": {\"backgroundcolor\": \"#E5ECF6\", \"gridcolor\": \"white\", \"gridwidth\": 2, \"linecolor\": \"white\", \"showbackground\": true, \"ticks\": \"\", \"zerolinecolor\": \"white\"}, \"zaxis\": {\"backgroundcolor\": \"#E5ECF6\", \"gridcolor\": \"white\", \"gridwidth\": 2, \"linecolor\": \"white\", \"showbackground\": true, \"ticks\": \"\", \"zerolinecolor\": \"white\"}}, \"shapedefaults\": {\"line\": {\"color\": \"#2a3f5f\"}}, \"ternary\": {\"aaxis\": {\"gridcolor\": \"white\", \"linecolor\": \"white\", \"ticks\": \"\"}, \"baxis\": {\"gridcolor\": \"white\", \"linecolor\": \"white\", \"ticks\": \"\"}, \"bgcolor\": \"#E5ECF6\", \"caxis\": {\"gridcolor\": \"white\", \"linecolor\": \"white\", \"ticks\": \"\"}}, \"title\": {\"x\": 0.05}, \"xaxis\": {\"automargin\": true, \"gridcolor\": \"white\", \"linecolor\": \"white\", \"ticks\": \"\", \"title\": {\"standoff\": 15}, \"zerolinecolor\": \"white\", \"zerolinewidth\": 2}, \"yaxis\": {\"automargin\": true, \"gridcolor\": \"white\", \"linecolor\": \"white\", \"ticks\": \"\", \"title\": {\"standoff\": 15}, \"zerolinecolor\": \"white\", \"zerolinewidth\": 2}}}, \"title\": {\"text\": \"Scores de TREINO/TESTE dos regressores na base de pessoas agrupadas (mes, ano, sexo).\"}},\n",
              "                        {\"responsive\": true}\n",
              "                    ).then(function(){\n",
              "                            \n",
              "var gd = document.getElementById('841b6324-6bb3-4aa0-8162-10d0602055c3');\n",
              "var x = new MutationObserver(function (mutations, observer) {{\n",
              "        var display = window.getComputedStyle(gd).display;\n",
              "        if (!display || display === 'none') {{\n",
              "            console.log([gd, 'removed!']);\n",
              "            Plotly.purge(gd);\n",
              "            observer.disconnect();\n",
              "        }}\n",
              "}});\n",
              "\n",
              "// Listen for the removal of the full notebook cells\n",
              "var notebookContainer = gd.closest('#notebook-container');\n",
              "if (notebookContainer) {{\n",
              "    x.observe(notebookContainer, {childList: true});\n",
              "}}\n",
              "\n",
              "// Listen for the clearing of the current output cell\n",
              "var outputEl = gd.closest('.output');\n",
              "if (outputEl) {{\n",
              "    x.observe(outputEl, {childList: true});\n",
              "}}\n",
              "\n",
              "                        })\n",
              "                };\n",
              "                \n",
              "            </script>\n",
              "        </div>\n",
              "</body>\n",
              "</html>"
            ]
          },
          "metadata": {
            "tags": []
          }
        }
      ]
    },
    {
      "cell_type": "code",
      "metadata": {
        "id": "4rBt6boGtfxF",
        "outputId": "98249b44-81bc-4a8b-feba-3bffd2ea7b6b",
        "colab": {
          "base_uri": "https://localhost:8080/"
        }
      },
      "source": [
        "px.bar(x=regressores, y=maes, color=maes , title='ERRO MÉDIO ABSOLUTO dos regressores na base de pessoas agrupadas (mes, ano, sexo).', labels={'x': 'Regressores', 'y': 'MAE'})"
      ],
      "execution_count": null,
      "outputs": [
        {
          "output_type": "display_data",
          "data": {
            "text/html": [
              "<html>\n",
              "<head><meta charset=\"utf-8\" /></head>\n",
              "<body>\n",
              "    <div>\n",
              "            <script src=\"https://cdnjs.cloudflare.com/ajax/libs/mathjax/2.7.5/MathJax.js?config=TeX-AMS-MML_SVG\"></script><script type=\"text/javascript\">if (window.MathJax) {MathJax.Hub.Config({SVG: {font: \"STIX-Web\"}});}</script>\n",
              "                <script type=\"text/javascript\">window.PlotlyConfig = {MathJaxConfig: 'local'};</script>\n",
              "        <script src=\"https://cdn.plot.ly/plotly-latest.min.js\"></script>    \n",
              "            <div id=\"7a1ac02e-2da8-44ef-bb7b-f7e8be32806d\" class=\"plotly-graph-div\" style=\"height:525px; width:100%;\"></div>\n",
              "            <script type=\"text/javascript\">\n",
              "                \n",
              "                    window.PLOTLYENV=window.PLOTLYENV || {};\n",
              "                    \n",
              "                if (document.getElementById(\"7a1ac02e-2da8-44ef-bb7b-f7e8be32806d\")) {\n",
              "                    Plotly.newPlot(\n",
              "                        '7a1ac02e-2da8-44ef-bb7b-f7e8be32806d',\n",
              "                        [{\"alignmentgroup\": \"True\", \"hoverlabel\": {\"namelength\": 0}, \"hovertemplate\": \"Regressores=%{x}<br>MAE=%{y}<br>color=%{marker.color}\", \"legendgroup\": \"\", \"marker\": {\"color\": [1630.6741219469368, 175.3507491543762, 161.66666666666666, 146.41410256410256, 1356.2003339477942, 1521.6350427350426], \"coloraxis\": \"coloraxis\"}, \"name\": \"\", \"offsetgroup\": \"\", \"orientation\": \"v\", \"showlegend\": false, \"textposition\": \"auto\", \"type\": \"bar\", \"x\": [\"Linear\", \"Polinomial\", \"Decision Tree\", \"Random Forest\", \"MLP\", \"KNN\"], \"xaxis\": \"x\", \"y\": [1630.6741219469368, 175.3507491543762, 161.66666666666666, 146.41410256410256, 1356.2003339477942, 1521.6350427350426], \"yaxis\": \"y\"}],\n",
              "                        {\"barmode\": \"relative\", \"coloraxis\": {\"colorbar\": {\"title\": {\"text\": \"color\"}}, \"colorscale\": [[0.0, \"#0d0887\"], [0.1111111111111111, \"#46039f\"], [0.2222222222222222, \"#7201a8\"], [0.3333333333333333, \"#9c179e\"], [0.4444444444444444, \"#bd3786\"], [0.5555555555555556, \"#d8576b\"], [0.6666666666666666, \"#ed7953\"], [0.7777777777777778, \"#fb9f3a\"], [0.8888888888888888, \"#fdca26\"], [1.0, \"#f0f921\"]]}, \"legend\": {\"tracegroupgap\": 0}, \"template\": {\"data\": {\"bar\": [{\"error_x\": {\"color\": \"#2a3f5f\"}, \"error_y\": {\"color\": \"#2a3f5f\"}, \"marker\": {\"line\": {\"color\": \"#E5ECF6\", \"width\": 0.5}}, \"type\": \"bar\"}], \"barpolar\": [{\"marker\": {\"line\": {\"color\": \"#E5ECF6\", \"width\": 0.5}}, \"type\": \"barpolar\"}], \"carpet\": [{\"aaxis\": {\"endlinecolor\": \"#2a3f5f\", \"gridcolor\": \"white\", \"linecolor\": \"white\", \"minorgridcolor\": \"white\", \"startlinecolor\": \"#2a3f5f\"}, \"baxis\": {\"endlinecolor\": \"#2a3f5f\", \"gridcolor\": \"white\", \"linecolor\": \"white\", \"minorgridcolor\": \"white\", \"startlinecolor\": \"#2a3f5f\"}, \"type\": \"carpet\"}], \"choropleth\": [{\"colorbar\": {\"outlinewidth\": 0, \"ticks\": \"\"}, \"type\": \"choropleth\"}], \"contour\": [{\"colorbar\": {\"outlinewidth\": 0, \"ticks\": \"\"}, \"colorscale\": [[0.0, \"#0d0887\"], [0.1111111111111111, \"#46039f\"], [0.2222222222222222, \"#7201a8\"], [0.3333333333333333, \"#9c179e\"], [0.4444444444444444, \"#bd3786\"], [0.5555555555555556, \"#d8576b\"], [0.6666666666666666, \"#ed7953\"], [0.7777777777777778, \"#fb9f3a\"], [0.8888888888888888, \"#fdca26\"], [1.0, \"#f0f921\"]], \"type\": \"contour\"}], \"contourcarpet\": [{\"colorbar\": {\"outlinewidth\": 0, \"ticks\": \"\"}, \"type\": \"contourcarpet\"}], \"heatmap\": [{\"colorbar\": {\"outlinewidth\": 0, \"ticks\": \"\"}, \"colorscale\": [[0.0, \"#0d0887\"], [0.1111111111111111, \"#46039f\"], [0.2222222222222222, \"#7201a8\"], [0.3333333333333333, \"#9c179e\"], [0.4444444444444444, \"#bd3786\"], [0.5555555555555556, \"#d8576b\"], [0.6666666666666666, \"#ed7953\"], [0.7777777777777778, \"#fb9f3a\"], [0.8888888888888888, \"#fdca26\"], [1.0, \"#f0f921\"]], \"type\": \"heatmap\"}], \"heatmapgl\": [{\"colorbar\": {\"outlinewidth\": 0, \"ticks\": \"\"}, \"colorscale\": [[0.0, \"#0d0887\"], [0.1111111111111111, \"#46039f\"], [0.2222222222222222, \"#7201a8\"], [0.3333333333333333, \"#9c179e\"], [0.4444444444444444, \"#bd3786\"], [0.5555555555555556, \"#d8576b\"], [0.6666666666666666, \"#ed7953\"], [0.7777777777777778, \"#fb9f3a\"], [0.8888888888888888, \"#fdca26\"], [1.0, \"#f0f921\"]], \"type\": \"heatmapgl\"}], \"histogram\": [{\"marker\": {\"colorbar\": {\"outlinewidth\": 0, \"ticks\": \"\"}}, \"type\": \"histogram\"}], \"histogram2d\": [{\"colorbar\": {\"outlinewidth\": 0, \"ticks\": \"\"}, \"colorscale\": [[0.0, \"#0d0887\"], [0.1111111111111111, \"#46039f\"], [0.2222222222222222, \"#7201a8\"], [0.3333333333333333, \"#9c179e\"], [0.4444444444444444, \"#bd3786\"], [0.5555555555555556, \"#d8576b\"], [0.6666666666666666, \"#ed7953\"], [0.7777777777777778, \"#fb9f3a\"], [0.8888888888888888, \"#fdca26\"], [1.0, \"#f0f921\"]], \"type\": \"histogram2d\"}], \"histogram2dcontour\": [{\"colorbar\": {\"outlinewidth\": 0, \"ticks\": \"\"}, \"colorscale\": [[0.0, \"#0d0887\"], [0.1111111111111111, \"#46039f\"], [0.2222222222222222, \"#7201a8\"], [0.3333333333333333, \"#9c179e\"], [0.4444444444444444, \"#bd3786\"], [0.5555555555555556, \"#d8576b\"], [0.6666666666666666, \"#ed7953\"], [0.7777777777777778, \"#fb9f3a\"], [0.8888888888888888, \"#fdca26\"], [1.0, \"#f0f921\"]], \"type\": \"histogram2dcontour\"}], \"mesh3d\": [{\"colorbar\": {\"outlinewidth\": 0, \"ticks\": \"\"}, \"type\": \"mesh3d\"}], \"parcoords\": [{\"line\": {\"colorbar\": {\"outlinewidth\": 0, \"ticks\": \"\"}}, \"type\": \"parcoords\"}], \"pie\": [{\"automargin\": true, \"type\": \"pie\"}], \"scatter\": [{\"marker\": {\"colorbar\": {\"outlinewidth\": 0, \"ticks\": \"\"}}, \"type\": \"scatter\"}], \"scatter3d\": [{\"line\": {\"colorbar\": {\"outlinewidth\": 0, \"ticks\": \"\"}}, \"marker\": {\"colorbar\": {\"outlinewidth\": 0, \"ticks\": \"\"}}, \"type\": \"scatter3d\"}], \"scattercarpet\": [{\"marker\": {\"colorbar\": {\"outlinewidth\": 0, \"ticks\": \"\"}}, \"type\": \"scattercarpet\"}], \"scattergeo\": [{\"marker\": {\"colorbar\": {\"outlinewidth\": 0, \"ticks\": \"\"}}, \"type\": \"scattergeo\"}], \"scattergl\": [{\"marker\": {\"colorbar\": {\"outlinewidth\": 0, \"ticks\": \"\"}}, \"type\": \"scattergl\"}], \"scattermapbox\": [{\"marker\": {\"colorbar\": {\"outlinewidth\": 0, \"ticks\": \"\"}}, \"type\": \"scattermapbox\"}], \"scatterpolar\": [{\"marker\": {\"colorbar\": {\"outlinewidth\": 0, \"ticks\": \"\"}}, \"type\": \"scatterpolar\"}], \"scatterpolargl\": [{\"marker\": {\"colorbar\": {\"outlinewidth\": 0, \"ticks\": \"\"}}, \"type\": \"scatterpolargl\"}], \"scatterternary\": [{\"marker\": {\"colorbar\": {\"outlinewidth\": 0, \"ticks\": \"\"}}, \"type\": \"scatterternary\"}], \"surface\": [{\"colorbar\": {\"outlinewidth\": 0, \"ticks\": \"\"}, \"colorscale\": [[0.0, \"#0d0887\"], [0.1111111111111111, \"#46039f\"], [0.2222222222222222, \"#7201a8\"], [0.3333333333333333, \"#9c179e\"], [0.4444444444444444, \"#bd3786\"], [0.5555555555555556, \"#d8576b\"], [0.6666666666666666, \"#ed7953\"], [0.7777777777777778, \"#fb9f3a\"], [0.8888888888888888, \"#fdca26\"], [1.0, \"#f0f921\"]], \"type\": \"surface\"}], \"table\": [{\"cells\": {\"fill\": {\"color\": \"#EBF0F8\"}, \"line\": {\"color\": \"white\"}}, \"header\": {\"fill\": {\"color\": \"#C8D4E3\"}, \"line\": {\"color\": \"white\"}}, \"type\": \"table\"}]}, \"layout\": {\"annotationdefaults\": {\"arrowcolor\": \"#2a3f5f\", \"arrowhead\": 0, \"arrowwidth\": 1}, \"coloraxis\": {\"colorbar\": {\"outlinewidth\": 0, \"ticks\": \"\"}}, \"colorscale\": {\"diverging\": [[0, \"#8e0152\"], [0.1, \"#c51b7d\"], [0.2, \"#de77ae\"], [0.3, \"#f1b6da\"], [0.4, \"#fde0ef\"], [0.5, \"#f7f7f7\"], [0.6, \"#e6f5d0\"], [0.7, \"#b8e186\"], [0.8, \"#7fbc41\"], [0.9, \"#4d9221\"], [1, \"#276419\"]], \"sequential\": [[0.0, \"#0d0887\"], [0.1111111111111111, \"#46039f\"], [0.2222222222222222, \"#7201a8\"], [0.3333333333333333, \"#9c179e\"], [0.4444444444444444, \"#bd3786\"], [0.5555555555555556, \"#d8576b\"], [0.6666666666666666, \"#ed7953\"], [0.7777777777777778, \"#fb9f3a\"], [0.8888888888888888, \"#fdca26\"], [1.0, \"#f0f921\"]], \"sequentialminus\": [[0.0, \"#0d0887\"], [0.1111111111111111, \"#46039f\"], [0.2222222222222222, \"#7201a8\"], [0.3333333333333333, \"#9c179e\"], [0.4444444444444444, \"#bd3786\"], [0.5555555555555556, \"#d8576b\"], [0.6666666666666666, \"#ed7953\"], [0.7777777777777778, \"#fb9f3a\"], [0.8888888888888888, \"#fdca26\"], [1.0, \"#f0f921\"]]}, \"colorway\": [\"#636efa\", \"#EF553B\", \"#00cc96\", \"#ab63fa\", \"#FFA15A\", \"#19d3f3\", \"#FF6692\", \"#B6E880\", \"#FF97FF\", \"#FECB52\"], \"font\": {\"color\": \"#2a3f5f\"}, \"geo\": {\"bgcolor\": \"white\", \"lakecolor\": \"white\", \"landcolor\": \"#E5ECF6\", \"showlakes\": true, \"showland\": true, \"subunitcolor\": \"white\"}, \"hoverlabel\": {\"align\": \"left\"}, \"hovermode\": \"closest\", \"mapbox\": {\"style\": \"light\"}, \"paper_bgcolor\": \"white\", \"plot_bgcolor\": \"#E5ECF6\", \"polar\": {\"angularaxis\": {\"gridcolor\": \"white\", \"linecolor\": \"white\", \"ticks\": \"\"}, \"bgcolor\": \"#E5ECF6\", \"radialaxis\": {\"gridcolor\": \"white\", \"linecolor\": \"white\", \"ticks\": \"\"}}, \"scene\": {\"xaxis\": {\"backgroundcolor\": \"#E5ECF6\", \"gridcolor\": \"white\", \"gridwidth\": 2, \"linecolor\": \"white\", \"showbackground\": true, \"ticks\": \"\", \"zerolinecolor\": \"white\"}, \"yaxis\": {\"backgroundcolor\": \"#E5ECF6\", \"gridcolor\": \"white\", \"gridwidth\": 2, \"linecolor\": \"white\", \"showbackground\": true, \"ticks\": \"\", \"zerolinecolor\": \"white\"}, \"zaxis\": {\"backgroundcolor\": \"#E5ECF6\", \"gridcolor\": \"white\", \"gridwidth\": 2, \"linecolor\": \"white\", \"showbackground\": true, \"ticks\": \"\", \"zerolinecolor\": \"white\"}}, \"shapedefaults\": {\"line\": {\"color\": \"#2a3f5f\"}}, \"ternary\": {\"aaxis\": {\"gridcolor\": \"white\", \"linecolor\": \"white\", \"ticks\": \"\"}, \"baxis\": {\"gridcolor\": \"white\", \"linecolor\": \"white\", \"ticks\": \"\"}, \"bgcolor\": \"#E5ECF6\", \"caxis\": {\"gridcolor\": \"white\", \"linecolor\": \"white\", \"ticks\": \"\"}}, \"title\": {\"x\": 0.05}, \"xaxis\": {\"automargin\": true, \"gridcolor\": \"white\", \"linecolor\": \"white\", \"ticks\": \"\", \"title\": {\"standoff\": 15}, \"zerolinecolor\": \"white\", \"zerolinewidth\": 2}, \"yaxis\": {\"automargin\": true, \"gridcolor\": \"white\", \"linecolor\": \"white\", \"ticks\": \"\", \"title\": {\"standoff\": 15}, \"zerolinecolor\": \"white\", \"zerolinewidth\": 2}}}, \"title\": {\"text\": \"ERRO M\\u00c9DIO ABSOLUTO dos regressores na base de pessoas agrupadas (mes, ano, sexo).\"}, \"xaxis\": {\"anchor\": \"y\", \"domain\": [0.0, 1.0], \"title\": {\"text\": \"Regressores\"}}, \"yaxis\": {\"anchor\": \"x\", \"domain\": [0.0, 1.0], \"title\": {\"text\": \"MAE\"}}},\n",
              "                        {\"responsive\": true}\n",
              "                    ).then(function(){\n",
              "                            \n",
              "var gd = document.getElementById('7a1ac02e-2da8-44ef-bb7b-f7e8be32806d');\n",
              "var x = new MutationObserver(function (mutations, observer) {{\n",
              "        var display = window.getComputedStyle(gd).display;\n",
              "        if (!display || display === 'none') {{\n",
              "            console.log([gd, 'removed!']);\n",
              "            Plotly.purge(gd);\n",
              "            observer.disconnect();\n",
              "        }}\n",
              "}});\n",
              "\n",
              "// Listen for the removal of the full notebook cells\n",
              "var notebookContainer = gd.closest('#notebook-container');\n",
              "if (notebookContainer) {{\n",
              "    x.observe(notebookContainer, {childList: true});\n",
              "}}\n",
              "\n",
              "// Listen for the clearing of the current output cell\n",
              "var outputEl = gd.closest('.output');\n",
              "if (outputEl) {{\n",
              "    x.observe(outputEl, {childList: true});\n",
              "}}\n",
              "\n",
              "                        })\n",
              "                };\n",
              "                \n",
              "            </script>\n",
              "        </div>\n",
              "</body>\n",
              "</html>"
            ]
          },
          "metadata": {
            "tags": []
          }
        }
      ]
    },
    {
      "cell_type": "markdown",
      "metadata": {
        "id": "jtj8lUD1tfxH"
      },
      "source": [
        "##### Extrapolação dos dados"
      ]
    },
    {
      "cell_type": "markdown",
      "metadata": {
        "id": "K-JA0h5EtfxH"
      },
      "source": [
        "###### Criando as novas amostras (X)"
      ]
    },
    {
      "cell_type": "code",
      "metadata": {
        "id": "MliwEwdNtfxI",
        "outputId": "59986378-da44-40c2-d732-d0f179556609",
        "colab": {
          "base_uri": "https://localhost:8080/"
        }
      },
      "source": [
        "import numpy as np\n",
        "monthNames = ['July', 'August', 'September', 'October', 'November', 'December'];\n",
        "ano = ['2020']\n",
        "sexo = df['sexo'].unique()\n",
        "\n",
        "comb  = np.array(np.meshgrid(ano, monthNames, sexo)).T.reshape(-1,3)\n",
        "df_novo1 = pd.DataFrame(comb, columns=['ano', 'mes', 'sexo'])\n",
        "\n",
        "monthNames = [\"January\"];\n",
        "ano = ['2021']\n",
        "\n",
        "comb  = np.array(np.meshgrid(ano, monthNames, sexo)).T.reshape(-1,3)\n",
        "df_novo2 = pd.DataFrame(comb, columns=['ano', 'mes', 'sexo'])\n",
        "\n",
        "df_novo = pd.concat([df_novo1, df_novo2])\n",
        "df_novo.index = [i for i in range(len(df_novo))]\n",
        "\n",
        "df_novo_concatenado = pd.concat([df, df_novo])\n",
        "\n",
        "LE = LabelEncoder()\n",
        "df_novo_concatenado['sexo'] = LE.fit_transform(df_novo_concatenado['sexo'])\n",
        "meses = ['January', 'February', 'March', 'April', 'May', 'June', 'July', 'August', 'September', 'October', 'November', 'December']\n",
        "for mes in meses:\n",
        "  df_novo_concatenado.loc[df_novo_concatenado.mes == mes, 'mes'] = meses.index(mes) + 1\n",
        "df_novo_concatenado.index = [i for i in range(len(df_novo_concatenado))]\n",
        "df_novo_concatenado"
      ],
      "execution_count": null,
      "outputs": [
        {
          "output_type": "execute_result",
          "data": {
            "text/html": [
              "<div>\n",
              "<style scoped>\n",
              "    .dataframe tbody tr th:only-of-type {\n",
              "        vertical-align: middle;\n",
              "    }\n",
              "\n",
              "    .dataframe tbody tr th {\n",
              "        vertical-align: top;\n",
              "    }\n",
              "\n",
              "    .dataframe thead th {\n",
              "        text-align: right;\n",
              "    }\n",
              "</style>\n",
              "<table border=\"1\" class=\"dataframe\">\n",
              "  <thead>\n",
              "    <tr style=\"text-align: right;\">\n",
              "      <th></th>\n",
              "      <th>ano</th>\n",
              "      <th>mes</th>\n",
              "      <th>sexo</th>\n",
              "      <th>qtd_acidentes</th>\n",
              "      <th>qtd_pessoas</th>\n",
              "      <th>qtd_ilesos</th>\n",
              "      <th>qtd_feridos_leves</th>\n",
              "      <th>qtd_feridos_graves</th>\n",
              "      <th>qtd_mortos</th>\n",
              "    </tr>\n",
              "  </thead>\n",
              "  <tbody>\n",
              "    <tr>\n",
              "      <th>0</th>\n",
              "      <td>2017</td>\n",
              "      <td>4</td>\n",
              "      <td>0</td>\n",
              "      <td>2581.0</td>\n",
              "      <td>3939.0</td>\n",
              "      <td>1540.0</td>\n",
              "      <td>1908.0</td>\n",
              "      <td>394.0</td>\n",
              "      <td>97.0</td>\n",
              "    </tr>\n",
              "    <tr>\n",
              "      <th>1</th>\n",
              "      <td>2017</td>\n",
              "      <td>4</td>\n",
              "      <td>1</td>\n",
              "      <td>7223.0</td>\n",
              "      <td>12719.0</td>\n",
              "      <td>7359.0</td>\n",
              "      <td>3745.0</td>\n",
              "      <td>1204.0</td>\n",
              "      <td>411.0</td>\n",
              "    </tr>\n",
              "    <tr>\n",
              "      <th>2</th>\n",
              "      <td>2017</td>\n",
              "      <td>4</td>\n",
              "      <td>2</td>\n",
              "      <td>975.0</td>\n",
              "      <td>1245.0</td>\n",
              "      <td>260.0</td>\n",
              "      <td>13.0</td>\n",
              "      <td>3.0</td>\n",
              "      <td>7.0</td>\n",
              "    </tr>\n",
              "    <tr>\n",
              "      <th>3</th>\n",
              "      <td>2017</td>\n",
              "      <td>8</td>\n",
              "      <td>0</td>\n",
              "      <td>2307.0</td>\n",
              "      <td>3317.0</td>\n",
              "      <td>1252.0</td>\n",
              "      <td>1574.0</td>\n",
              "      <td>397.0</td>\n",
              "      <td>94.0</td>\n",
              "    </tr>\n",
              "    <tr>\n",
              "      <th>4</th>\n",
              "      <td>2017</td>\n",
              "      <td>8</td>\n",
              "      <td>1</td>\n",
              "      <td>6614.0</td>\n",
              "      <td>11433.0</td>\n",
              "      <td>6258.0</td>\n",
              "      <td>3547.0</td>\n",
              "      <td>1224.0</td>\n",
              "      <td>404.0</td>\n",
              "    </tr>\n",
              "    <tr>\n",
              "      <th>...</th>\n",
              "      <td>...</td>\n",
              "      <td>...</td>\n",
              "      <td>...</td>\n",
              "      <td>...</td>\n",
              "      <td>...</td>\n",
              "      <td>...</td>\n",
              "      <td>...</td>\n",
              "      <td>...</td>\n",
              "      <td>...</td>\n",
              "    </tr>\n",
              "    <tr>\n",
              "      <th>145</th>\n",
              "      <td>2020</td>\n",
              "      <td>11</td>\n",
              "      <td>2</td>\n",
              "      <td>NaN</td>\n",
              "      <td>NaN</td>\n",
              "      <td>NaN</td>\n",
              "      <td>NaN</td>\n",
              "      <td>NaN</td>\n",
              "      <td>NaN</td>\n",
              "    </tr>\n",
              "    <tr>\n",
              "      <th>146</th>\n",
              "      <td>2020</td>\n",
              "      <td>12</td>\n",
              "      <td>2</td>\n",
              "      <td>NaN</td>\n",
              "      <td>NaN</td>\n",
              "      <td>NaN</td>\n",
              "      <td>NaN</td>\n",
              "      <td>NaN</td>\n",
              "      <td>NaN</td>\n",
              "    </tr>\n",
              "    <tr>\n",
              "      <th>147</th>\n",
              "      <td>2021</td>\n",
              "      <td>1</td>\n",
              "      <td>0</td>\n",
              "      <td>NaN</td>\n",
              "      <td>NaN</td>\n",
              "      <td>NaN</td>\n",
              "      <td>NaN</td>\n",
              "      <td>NaN</td>\n",
              "      <td>NaN</td>\n",
              "    </tr>\n",
              "    <tr>\n",
              "      <th>148</th>\n",
              "      <td>2021</td>\n",
              "      <td>1</td>\n",
              "      <td>1</td>\n",
              "      <td>NaN</td>\n",
              "      <td>NaN</td>\n",
              "      <td>NaN</td>\n",
              "      <td>NaN</td>\n",
              "      <td>NaN</td>\n",
              "      <td>NaN</td>\n",
              "    </tr>\n",
              "    <tr>\n",
              "      <th>149</th>\n",
              "      <td>2021</td>\n",
              "      <td>1</td>\n",
              "      <td>2</td>\n",
              "      <td>NaN</td>\n",
              "      <td>NaN</td>\n",
              "      <td>NaN</td>\n",
              "      <td>NaN</td>\n",
              "      <td>NaN</td>\n",
              "      <td>NaN</td>\n",
              "    </tr>\n",
              "  </tbody>\n",
              "</table>\n",
              "<p>150 rows × 9 columns</p>\n",
              "</div>"
            ],
            "text/plain": [
              "      ano mes  sexo  ...  qtd_feridos_leves  qtd_feridos_graves  qtd_mortos\n",
              "0    2017   4     0  ...             1908.0               394.0        97.0\n",
              "1    2017   4     1  ...             3745.0              1204.0       411.0\n",
              "2    2017   4     2  ...               13.0                 3.0         7.0\n",
              "3    2017   8     0  ...             1574.0               397.0        94.0\n",
              "4    2017   8     1  ...             3547.0              1224.0       404.0\n",
              "..    ...  ..   ...  ...                ...                 ...         ...\n",
              "145  2020  11     2  ...                NaN                 NaN         NaN\n",
              "146  2020  12     2  ...                NaN                 NaN         NaN\n",
              "147  2021   1     0  ...                NaN                 NaN         NaN\n",
              "148  2021   1     1  ...                NaN                 NaN         NaN\n",
              "149  2021   1     2  ...                NaN                 NaN         NaN\n",
              "\n",
              "[150 rows x 9 columns]"
            ]
          },
          "metadata": {
            "tags": []
          },
          "execution_count": 47
        }
      ]
    },
    {
      "cell_type": "markdown",
      "metadata": {
        "id": "iuxTN3FDtfxJ"
      },
      "source": [
        "###### Dividindo a base em treino e teste"
      ]
    },
    {
      "cell_type": "code",
      "metadata": {
        "id": "-GitMeQxtfxJ"
      },
      "source": [
        "X_train = df_novo_concatenado[:len(df)][x]\n",
        "X_test = df_novo_concatenado[len(df):][x]\n",
        "Y_train = df[y]"
      ],
      "execution_count": null,
      "outputs": []
    },
    {
      "cell_type": "markdown",
      "metadata": {
        "id": "n19m-JOEtfxL"
      },
      "source": [
        "###### Random Forest"
      ]
    },
    {
      "cell_type": "code",
      "metadata": {
        "id": "TJk4hXF7tfxL",
        "outputId": "f60f220a-248b-4082-c3f3-8d034b89feb4",
        "colab": {
          "base_uri": "https://localhost:8080/"
        }
      },
      "source": [
        "regressor = RandomForestRegressor()\n",
        "\n",
        "regressor.fit(X_train, Y_train)\n",
        "\n",
        "previsoes = regressor.predict(X_test)\n",
        "\n",
        "previsoes = pd.DataFrame(previsoes)\n",
        "previsoes.columns = y\n",
        "\n",
        "previsoes = pd.concat([df_novo, previsoes], axis=1)\n",
        "for mes in meses:\n",
        "  previsoes.loc[previsoes.mes == mes, 'mes'] = meses.index(mes) + 1\n",
        "previsoes"
      ],
      "execution_count": null,
      "outputs": [
        {
          "output_type": "execute_result",
          "data": {
            "text/html": [
              "<div>\n",
              "<style scoped>\n",
              "    .dataframe tbody tr th:only-of-type {\n",
              "        vertical-align: middle;\n",
              "    }\n",
              "\n",
              "    .dataframe tbody tr th {\n",
              "        vertical-align: top;\n",
              "    }\n",
              "\n",
              "    .dataframe thead th {\n",
              "        text-align: right;\n",
              "    }\n",
              "</style>\n",
              "<table border=\"1\" class=\"dataframe\">\n",
              "  <thead>\n",
              "    <tr style=\"text-align: right;\">\n",
              "      <th></th>\n",
              "      <th>ano</th>\n",
              "      <th>mes</th>\n",
              "      <th>sexo</th>\n",
              "      <th>qtd_acidentes</th>\n",
              "      <th>qtd_pessoas</th>\n",
              "      <th>qtd_ilesos</th>\n",
              "      <th>qtd_feridos_leves</th>\n",
              "      <th>qtd_feridos_graves</th>\n",
              "      <th>qtd_mortos</th>\n",
              "    </tr>\n",
              "  </thead>\n",
              "  <tbody>\n",
              "    <tr>\n",
              "      <th>0</th>\n",
              "      <td>2020</td>\n",
              "      <td>7</td>\n",
              "      <td>Feminino</td>\n",
              "      <td>1510.24</td>\n",
              "      <td>2079.75</td>\n",
              "      <td>696.85</td>\n",
              "      <td>1074.05</td>\n",
              "      <td>248.00</td>\n",
              "      <td>60.85</td>\n",
              "    </tr>\n",
              "    <tr>\n",
              "      <th>1</th>\n",
              "      <td>2020</td>\n",
              "      <td>8</td>\n",
              "      <td>Feminino</td>\n",
              "      <td>1507.69</td>\n",
              "      <td>2069.91</td>\n",
              "      <td>689.23</td>\n",
              "      <td>1073.09</td>\n",
              "      <td>246.86</td>\n",
              "      <td>60.73</td>\n",
              "    </tr>\n",
              "    <tr>\n",
              "      <th>2</th>\n",
              "      <td>2020</td>\n",
              "      <td>9</td>\n",
              "      <td>Feminino</td>\n",
              "      <td>1514.62</td>\n",
              "      <td>2081.83</td>\n",
              "      <td>691.74</td>\n",
              "      <td>1081.59</td>\n",
              "      <td>247.29</td>\n",
              "      <td>61.21</td>\n",
              "    </tr>\n",
              "    <tr>\n",
              "      <th>3</th>\n",
              "      <td>2020</td>\n",
              "      <td>10</td>\n",
              "      <td>Feminino</td>\n",
              "      <td>1522.36</td>\n",
              "      <td>2095.87</td>\n",
              "      <td>697.49</td>\n",
              "      <td>1084.45</td>\n",
              "      <td>252.06</td>\n",
              "      <td>61.87</td>\n",
              "    </tr>\n",
              "    <tr>\n",
              "      <th>4</th>\n",
              "      <td>2020</td>\n",
              "      <td>11</td>\n",
              "      <td>Feminino</td>\n",
              "      <td>1524.34</td>\n",
              "      <td>2096.80</td>\n",
              "      <td>698.82</td>\n",
              "      <td>1085.08</td>\n",
              "      <td>251.47</td>\n",
              "      <td>61.43</td>\n",
              "    </tr>\n",
              "    <tr>\n",
              "      <th>5</th>\n",
              "      <td>2020</td>\n",
              "      <td>12</td>\n",
              "      <td>Feminino</td>\n",
              "      <td>1730.23</td>\n",
              "      <td>2499.58</td>\n",
              "      <td>837.47</td>\n",
              "      <td>1293.89</td>\n",
              "      <td>296.24</td>\n",
              "      <td>71.98</td>\n",
              "    </tr>\n",
              "    <tr>\n",
              "      <th>6</th>\n",
              "      <td>2020</td>\n",
              "      <td>7</td>\n",
              "      <td>Masculino</td>\n",
              "      <td>4649.35</td>\n",
              "      <td>8247.77</td>\n",
              "      <td>3980.51</td>\n",
              "      <td>2913.92</td>\n",
              "      <td>991.18</td>\n",
              "      <td>362.16</td>\n",
              "    </tr>\n",
              "    <tr>\n",
              "      <th>7</th>\n",
              "      <td>2020</td>\n",
              "      <td>8</td>\n",
              "      <td>Masculino</td>\n",
              "      <td>4650.29</td>\n",
              "      <td>8244.10</td>\n",
              "      <td>3976.86</td>\n",
              "      <td>2915.81</td>\n",
              "      <td>989.82</td>\n",
              "      <td>361.61</td>\n",
              "    </tr>\n",
              "    <tr>\n",
              "      <th>8</th>\n",
              "      <td>2020</td>\n",
              "      <td>9</td>\n",
              "      <td>Masculino</td>\n",
              "      <td>4668.01</td>\n",
              "      <td>8276.71</td>\n",
              "      <td>3992.83</td>\n",
              "      <td>2928.41</td>\n",
              "      <td>994.64</td>\n",
              "      <td>360.83</td>\n",
              "    </tr>\n",
              "    <tr>\n",
              "      <th>9</th>\n",
              "      <td>2020</td>\n",
              "      <td>10</td>\n",
              "      <td>Masculino</td>\n",
              "      <td>4675.20</td>\n",
              "      <td>8292.33</td>\n",
              "      <td>3999.64</td>\n",
              "      <td>2935.20</td>\n",
              "      <td>998.39</td>\n",
              "      <td>359.10</td>\n",
              "    </tr>\n",
              "    <tr>\n",
              "      <th>10</th>\n",
              "      <td>2020</td>\n",
              "      <td>11</td>\n",
              "      <td>Masculino</td>\n",
              "      <td>4678.87</td>\n",
              "      <td>8303.31</td>\n",
              "      <td>4004.66</td>\n",
              "      <td>2939.12</td>\n",
              "      <td>1000.11</td>\n",
              "      <td>359.42</td>\n",
              "    </tr>\n",
              "    <tr>\n",
              "      <th>11</th>\n",
              "      <td>2020</td>\n",
              "      <td>12</td>\n",
              "      <td>Masculino</td>\n",
              "      <td>4779.32</td>\n",
              "      <td>8528.10</td>\n",
              "      <td>4116.80</td>\n",
              "      <td>3021.18</td>\n",
              "      <td>1027.07</td>\n",
              "      <td>363.05</td>\n",
              "    </tr>\n",
              "    <tr>\n",
              "      <th>12</th>\n",
              "      <td>2020</td>\n",
              "      <td>7</td>\n",
              "      <td>Não Informado</td>\n",
              "      <td>742.77</td>\n",
              "      <td>853.55</td>\n",
              "      <td>44.20</td>\n",
              "      <td>3.06</td>\n",
              "      <td>0.03</td>\n",
              "      <td>1.40</td>\n",
              "    </tr>\n",
              "    <tr>\n",
              "      <th>13</th>\n",
              "      <td>2020</td>\n",
              "      <td>8</td>\n",
              "      <td>Não Informado</td>\n",
              "      <td>741.15</td>\n",
              "      <td>850.09</td>\n",
              "      <td>43.44</td>\n",
              "      <td>2.24</td>\n",
              "      <td>0.13</td>\n",
              "      <td>1.42</td>\n",
              "    </tr>\n",
              "    <tr>\n",
              "      <th>14</th>\n",
              "      <td>2020</td>\n",
              "      <td>9</td>\n",
              "      <td>Não Informado</td>\n",
              "      <td>742.29</td>\n",
              "      <td>850.79</td>\n",
              "      <td>45.25</td>\n",
              "      <td>2.34</td>\n",
              "      <td>0.05</td>\n",
              "      <td>1.26</td>\n",
              "    </tr>\n",
              "    <tr>\n",
              "      <th>15</th>\n",
              "      <td>2020</td>\n",
              "      <td>10</td>\n",
              "      <td>Não Informado</td>\n",
              "      <td>739.19</td>\n",
              "      <td>843.73</td>\n",
              "      <td>46.78</td>\n",
              "      <td>4.23</td>\n",
              "      <td>0.08</td>\n",
              "      <td>0.98</td>\n",
              "    </tr>\n",
              "    <tr>\n",
              "      <th>16</th>\n",
              "      <td>2020</td>\n",
              "      <td>11</td>\n",
              "      <td>Não Informado</td>\n",
              "      <td>737.71</td>\n",
              "      <td>846.91</td>\n",
              "      <td>51.07</td>\n",
              "      <td>4.21</td>\n",
              "      <td>0.02</td>\n",
              "      <td>0.93</td>\n",
              "    </tr>\n",
              "    <tr>\n",
              "      <th>17</th>\n",
              "      <td>2020</td>\n",
              "      <td>12</td>\n",
              "      <td>Não Informado</td>\n",
              "      <td>804.42</td>\n",
              "      <td>921.06</td>\n",
              "      <td>73.53</td>\n",
              "      <td>5.33</td>\n",
              "      <td>1.18</td>\n",
              "      <td>1.31</td>\n",
              "    </tr>\n",
              "    <tr>\n",
              "      <th>18</th>\n",
              "      <td>2021</td>\n",
              "      <td>1</td>\n",
              "      <td>Feminino</td>\n",
              "      <td>2084.14</td>\n",
              "      <td>3288.13</td>\n",
              "      <td>1009.07</td>\n",
              "      <td>1801.42</td>\n",
              "      <td>389.04</td>\n",
              "      <td>88.60</td>\n",
              "    </tr>\n",
              "    <tr>\n",
              "      <th>19</th>\n",
              "      <td>2021</td>\n",
              "      <td>1</td>\n",
              "      <td>Masculino</td>\n",
              "      <td>5018.87</td>\n",
              "      <td>9238.35</td>\n",
              "      <td>4491.55</td>\n",
              "      <td>3370.44</td>\n",
              "      <td>1062.09</td>\n",
              "      <td>314.27</td>\n",
              "    </tr>\n",
              "    <tr>\n",
              "      <th>20</th>\n",
              "      <td>2021</td>\n",
              "      <td>1</td>\n",
              "      <td>Não Informado</td>\n",
              "      <td>719.63</td>\n",
              "      <td>843.46</td>\n",
              "      <td>75.48</td>\n",
              "      <td>4.65</td>\n",
              "      <td>0.80</td>\n",
              "      <td>0.43</td>\n",
              "    </tr>\n",
              "  </tbody>\n",
              "</table>\n",
              "</div>"
            ],
            "text/plain": [
              "     ano mes           sexo  ...  qtd_feridos_leves  qtd_feridos_graves  qtd_mortos\n",
              "0   2020   7       Feminino  ...            1074.05              248.00       60.85\n",
              "1   2020   8       Feminino  ...            1073.09              246.86       60.73\n",
              "2   2020   9       Feminino  ...            1081.59              247.29       61.21\n",
              "3   2020  10       Feminino  ...            1084.45              252.06       61.87\n",
              "4   2020  11       Feminino  ...            1085.08              251.47       61.43\n",
              "5   2020  12       Feminino  ...            1293.89              296.24       71.98\n",
              "6   2020   7      Masculino  ...            2913.92              991.18      362.16\n",
              "7   2020   8      Masculino  ...            2915.81              989.82      361.61\n",
              "8   2020   9      Masculino  ...            2928.41              994.64      360.83\n",
              "9   2020  10      Masculino  ...            2935.20              998.39      359.10\n",
              "10  2020  11      Masculino  ...            2939.12             1000.11      359.42\n",
              "11  2020  12      Masculino  ...            3021.18             1027.07      363.05\n",
              "12  2020   7  Não Informado  ...               3.06                0.03        1.40\n",
              "13  2020   8  Não Informado  ...               2.24                0.13        1.42\n",
              "14  2020   9  Não Informado  ...               2.34                0.05        1.26\n",
              "15  2020  10  Não Informado  ...               4.23                0.08        0.98\n",
              "16  2020  11  Não Informado  ...               4.21                0.02        0.93\n",
              "17  2020  12  Não Informado  ...               5.33                1.18        1.31\n",
              "18  2021   1       Feminino  ...            1801.42              389.04       88.60\n",
              "19  2021   1      Masculino  ...            3370.44             1062.09      314.27\n",
              "20  2021   1  Não Informado  ...               4.65                0.80        0.43\n",
              "\n",
              "[21 rows x 9 columns]"
            ]
          },
          "metadata": {
            "tags": []
          },
          "execution_count": 49
        }
      ]
    },
    {
      "cell_type": "markdown",
      "metadata": {
        "id": "OCcQsxzltfxN"
      },
      "source": [
        "##### Plot Extrapolação"
      ]
    },
    {
      "cell_type": "code",
      "metadata": {
        "id": "ILi62jKvtfxN"
      },
      "source": [
        "def cria_data_plot(attr):\n",
        "  data_plot = list()\n",
        "  for sexo in df_plot.sexo.unique():\n",
        "    data = df_plot[df_plot.sexo == sexo]\n",
        "    data_plot.append(go.Line(name=(sexo + '- Real'), x=data.mes.values, y=data[attr].values))\n",
        "\n",
        "  for sexo in previsoes.sexo.unique():\n",
        "    data = previsoes[(previsoes.sexo == sexo) & (previsoes.ano == '2020')]\n",
        "    data_plot.append(go.Line(name=(sexo + '- Previsto'), x=data.mes.values, y=data[attr].values))\n",
        "  return data_plot"
      ],
      "execution_count": null,
      "outputs": []
    },
    {
      "cell_type": "code",
      "metadata": {
        "id": "Cf-HFRsrtfxQ"
      },
      "source": [
        "df_novo_concatenado['sexo'] = LE.inverse_transform(df_novo_concatenado['sexo'])\n",
        "\n",
        "df_plot = df_novo_concatenado[:len(df)][df_novo_concatenado[:len(df)]['ano'] == '2020']\n",
        "df_plot = df_plot.sort_values('mes')"
      ],
      "execution_count": null,
      "outputs": []
    },
    {
      "cell_type": "markdown",
      "metadata": {
        "id": "nLLk_AXWtfxR"
      },
      "source": [
        "###### Quantidade de Acidentes"
      ]
    },
    {
      "cell_type": "code",
      "metadata": {
        "id": "Ew8YemkCtfxS",
        "outputId": "f4fb806e-8d06-4ff6-ed95-099a333cf27b",
        "colab": {
          "base_uri": "https://localhost:8080/"
        }
      },
      "source": [
        "data_plot = cria_data_plot('qtd_acidentes')\n",
        "fig = go.Figure(data=data_plot)\n",
        "fig.update_layout(title_text='Quantidade de acidentes por mês em 2020 em cada sexo- Dados reais e previstos')\n",
        "fig.show()"
      ],
      "execution_count": null,
      "outputs": [
        {
          "output_type": "stream",
          "text": [
            "/usr/local/lib/python3.6/dist-packages/plotly/graph_objs/_deprecations.py:385: DeprecationWarning:\n",
            "\n",
            "plotly.graph_objs.Line is deprecated.\n",
            "Please replace it with one of the following more specific types\n",
            "  - plotly.graph_objs.scatter.Line\n",
            "  - plotly.graph_objs.layout.shape.Line\n",
            "  - etc.\n",
            "\n",
            "\n"
          ],
          "name": "stderr"
        },
        {
          "output_type": "display_data",
          "data": {
            "text/html": [
              "<html>\n",
              "<head><meta charset=\"utf-8\" /></head>\n",
              "<body>\n",
              "    <div>\n",
              "            <script src=\"https://cdnjs.cloudflare.com/ajax/libs/mathjax/2.7.5/MathJax.js?config=TeX-AMS-MML_SVG\"></script><script type=\"text/javascript\">if (window.MathJax) {MathJax.Hub.Config({SVG: {font: \"STIX-Web\"}});}</script>\n",
              "                <script type=\"text/javascript\">window.PlotlyConfig = {MathJaxConfig: 'local'};</script>\n",
              "        <script src=\"https://cdn.plot.ly/plotly-latest.min.js\"></script>    \n",
              "            <div id=\"666a20a6-e41c-492e-ac78-54e705456093\" class=\"plotly-graph-div\" style=\"height:525px; width:100%;\"></div>\n",
              "            <script type=\"text/javascript\">\n",
              "                \n",
              "                    window.PLOTLYENV=window.PLOTLYENV || {};\n",
              "                    \n",
              "                if (document.getElementById(\"666a20a6-e41c-492e-ac78-54e705456093\")) {\n",
              "                    Plotly.newPlot(\n",
              "                        '666a20a6-e41c-492e-ac78-54e705456093',\n",
              "                        [{\"name\": \"Feminino- Real\", \"type\": \"scatter\", \"x\": [1, 2, 3, 4, 5, 6, 7], \"y\": [2218.0, 2057.0, 1546.0, 1145.0, 1401.0, 1408.0, 1545.0]}, {\"name\": \"Masculino- Real\", \"type\": \"scatter\", \"x\": [1, 2, 3, 4, 5, 6, 7], \"y\": [5103.0, 5075.0, 4438.0, 3611.0, 4307.0, 4378.0, 4787.0]}, {\"name\": \"N\\u00e3o Informado- Real\", \"type\": \"scatter\", \"x\": [1, 2, 3, 4, 5, 6, 7], \"y\": [726.0, 723.0, 692.0, 546.0, 718.0, 737.0, 743.0]}, {\"name\": \"Feminino- Previsto\", \"type\": \"scatter\", \"x\": [7, 8, 9, 10, 11, 12], \"y\": [1510.24, 1507.69, 1514.62, 1522.36, 1524.34, 1730.23]}, {\"name\": \"Masculino- Previsto\", \"type\": \"scatter\", \"x\": [7, 8, 9, 10, 11, 12], \"y\": [4649.35, 4650.29, 4668.01, 4675.2, 4678.87, 4779.32]}, {\"name\": \"N\\u00e3o Informado- Previsto\", \"type\": \"scatter\", \"x\": [7, 8, 9, 10, 11, 12], \"y\": [742.77, 741.15, 742.29, 739.19, 737.71, 804.42]}],\n",
              "                        {\"template\": {\"data\": {\"bar\": [{\"error_x\": {\"color\": \"#2a3f5f\"}, \"error_y\": {\"color\": \"#2a3f5f\"}, \"marker\": {\"line\": {\"color\": \"#E5ECF6\", \"width\": 0.5}}, \"type\": \"bar\"}], \"barpolar\": [{\"marker\": {\"line\": {\"color\": \"#E5ECF6\", \"width\": 0.5}}, \"type\": \"barpolar\"}], \"carpet\": [{\"aaxis\": {\"endlinecolor\": \"#2a3f5f\", \"gridcolor\": \"white\", \"linecolor\": \"white\", \"minorgridcolor\": \"white\", \"startlinecolor\": \"#2a3f5f\"}, \"baxis\": {\"endlinecolor\": \"#2a3f5f\", \"gridcolor\": \"white\", \"linecolor\": \"white\", \"minorgridcolor\": \"white\", \"startlinecolor\": \"#2a3f5f\"}, \"type\": \"carpet\"}], \"choropleth\": [{\"colorbar\": {\"outlinewidth\": 0, \"ticks\": \"\"}, \"type\": \"choropleth\"}], \"contour\": [{\"colorbar\": {\"outlinewidth\": 0, \"ticks\": \"\"}, \"colorscale\": [[0.0, \"#0d0887\"], [0.1111111111111111, \"#46039f\"], [0.2222222222222222, \"#7201a8\"], [0.3333333333333333, \"#9c179e\"], [0.4444444444444444, \"#bd3786\"], [0.5555555555555556, \"#d8576b\"], [0.6666666666666666, \"#ed7953\"], [0.7777777777777778, \"#fb9f3a\"], [0.8888888888888888, \"#fdca26\"], [1.0, \"#f0f921\"]], \"type\": \"contour\"}], \"contourcarpet\": [{\"colorbar\": {\"outlinewidth\": 0, \"ticks\": \"\"}, \"type\": \"contourcarpet\"}], \"heatmap\": [{\"colorbar\": {\"outlinewidth\": 0, \"ticks\": \"\"}, \"colorscale\": [[0.0, \"#0d0887\"], [0.1111111111111111, \"#46039f\"], [0.2222222222222222, \"#7201a8\"], [0.3333333333333333, \"#9c179e\"], [0.4444444444444444, \"#bd3786\"], [0.5555555555555556, \"#d8576b\"], [0.6666666666666666, \"#ed7953\"], [0.7777777777777778, \"#fb9f3a\"], [0.8888888888888888, \"#fdca26\"], [1.0, \"#f0f921\"]], \"type\": \"heatmap\"}], \"heatmapgl\": [{\"colorbar\": {\"outlinewidth\": 0, \"ticks\": \"\"}, \"colorscale\": [[0.0, \"#0d0887\"], [0.1111111111111111, \"#46039f\"], [0.2222222222222222, \"#7201a8\"], [0.3333333333333333, \"#9c179e\"], [0.4444444444444444, \"#bd3786\"], [0.5555555555555556, \"#d8576b\"], [0.6666666666666666, \"#ed7953\"], [0.7777777777777778, \"#fb9f3a\"], [0.8888888888888888, \"#fdca26\"], [1.0, \"#f0f921\"]], \"type\": \"heatmapgl\"}], \"histogram\": [{\"marker\": {\"colorbar\": {\"outlinewidth\": 0, \"ticks\": \"\"}}, \"type\": \"histogram\"}], \"histogram2d\": [{\"colorbar\": {\"outlinewidth\": 0, \"ticks\": \"\"}, \"colorscale\": [[0.0, \"#0d0887\"], [0.1111111111111111, \"#46039f\"], [0.2222222222222222, \"#7201a8\"], [0.3333333333333333, \"#9c179e\"], [0.4444444444444444, \"#bd3786\"], [0.5555555555555556, \"#d8576b\"], [0.6666666666666666, \"#ed7953\"], [0.7777777777777778, \"#fb9f3a\"], [0.8888888888888888, \"#fdca26\"], [1.0, \"#f0f921\"]], \"type\": \"histogram2d\"}], \"histogram2dcontour\": [{\"colorbar\": {\"outlinewidth\": 0, \"ticks\": \"\"}, \"colorscale\": [[0.0, \"#0d0887\"], [0.1111111111111111, \"#46039f\"], [0.2222222222222222, \"#7201a8\"], [0.3333333333333333, \"#9c179e\"], [0.4444444444444444, \"#bd3786\"], [0.5555555555555556, \"#d8576b\"], [0.6666666666666666, \"#ed7953\"], [0.7777777777777778, \"#fb9f3a\"], [0.8888888888888888, \"#fdca26\"], [1.0, \"#f0f921\"]], \"type\": \"histogram2dcontour\"}], \"mesh3d\": [{\"colorbar\": {\"outlinewidth\": 0, \"ticks\": \"\"}, \"type\": \"mesh3d\"}], \"parcoords\": [{\"line\": {\"colorbar\": {\"outlinewidth\": 0, \"ticks\": \"\"}}, \"type\": \"parcoords\"}], \"pie\": [{\"automargin\": true, \"type\": \"pie\"}], \"scatter\": [{\"marker\": {\"colorbar\": {\"outlinewidth\": 0, \"ticks\": \"\"}}, \"type\": \"scatter\"}], \"scatter3d\": [{\"line\": {\"colorbar\": {\"outlinewidth\": 0, \"ticks\": \"\"}}, \"marker\": {\"colorbar\": {\"outlinewidth\": 0, \"ticks\": \"\"}}, \"type\": \"scatter3d\"}], \"scattercarpet\": [{\"marker\": {\"colorbar\": {\"outlinewidth\": 0, \"ticks\": \"\"}}, \"type\": \"scattercarpet\"}], \"scattergeo\": [{\"marker\": {\"colorbar\": {\"outlinewidth\": 0, \"ticks\": \"\"}}, \"type\": \"scattergeo\"}], \"scattergl\": [{\"marker\": {\"colorbar\": {\"outlinewidth\": 0, \"ticks\": \"\"}}, \"type\": \"scattergl\"}], \"scattermapbox\": [{\"marker\": {\"colorbar\": {\"outlinewidth\": 0, \"ticks\": \"\"}}, \"type\": \"scattermapbox\"}], \"scatterpolar\": [{\"marker\": {\"colorbar\": {\"outlinewidth\": 0, \"ticks\": \"\"}}, \"type\": \"scatterpolar\"}], \"scatterpolargl\": [{\"marker\": {\"colorbar\": {\"outlinewidth\": 0, \"ticks\": \"\"}}, \"type\": \"scatterpolargl\"}], \"scatterternary\": [{\"marker\": {\"colorbar\": {\"outlinewidth\": 0, \"ticks\": \"\"}}, \"type\": \"scatterternary\"}], \"surface\": [{\"colorbar\": {\"outlinewidth\": 0, \"ticks\": \"\"}, \"colorscale\": [[0.0, \"#0d0887\"], [0.1111111111111111, \"#46039f\"], [0.2222222222222222, \"#7201a8\"], [0.3333333333333333, \"#9c179e\"], [0.4444444444444444, \"#bd3786\"], [0.5555555555555556, \"#d8576b\"], [0.6666666666666666, \"#ed7953\"], [0.7777777777777778, \"#fb9f3a\"], [0.8888888888888888, \"#fdca26\"], [1.0, \"#f0f921\"]], \"type\": \"surface\"}], \"table\": [{\"cells\": {\"fill\": {\"color\": \"#EBF0F8\"}, \"line\": {\"color\": \"white\"}}, \"header\": {\"fill\": {\"color\": \"#C8D4E3\"}, \"line\": {\"color\": \"white\"}}, \"type\": \"table\"}]}, \"layout\": {\"annotationdefaults\": {\"arrowcolor\": \"#2a3f5f\", \"arrowhead\": 0, \"arrowwidth\": 1}, \"coloraxis\": {\"colorbar\": {\"outlinewidth\": 0, \"ticks\": \"\"}}, \"colorscale\": {\"diverging\": [[0, \"#8e0152\"], [0.1, \"#c51b7d\"], [0.2, \"#de77ae\"], [0.3, \"#f1b6da\"], [0.4, \"#fde0ef\"], [0.5, \"#f7f7f7\"], [0.6, \"#e6f5d0\"], [0.7, \"#b8e186\"], [0.8, \"#7fbc41\"], [0.9, \"#4d9221\"], [1, \"#276419\"]], \"sequential\": [[0.0, \"#0d0887\"], [0.1111111111111111, \"#46039f\"], [0.2222222222222222, \"#7201a8\"], [0.3333333333333333, \"#9c179e\"], [0.4444444444444444, \"#bd3786\"], [0.5555555555555556, \"#d8576b\"], [0.6666666666666666, \"#ed7953\"], [0.7777777777777778, \"#fb9f3a\"], [0.8888888888888888, \"#fdca26\"], [1.0, \"#f0f921\"]], \"sequentialminus\": [[0.0, \"#0d0887\"], [0.1111111111111111, \"#46039f\"], [0.2222222222222222, \"#7201a8\"], [0.3333333333333333, \"#9c179e\"], [0.4444444444444444, \"#bd3786\"], [0.5555555555555556, \"#d8576b\"], [0.6666666666666666, \"#ed7953\"], [0.7777777777777778, \"#fb9f3a\"], [0.8888888888888888, \"#fdca26\"], [1.0, \"#f0f921\"]]}, \"colorway\": [\"#636efa\", \"#EF553B\", \"#00cc96\", \"#ab63fa\", \"#FFA15A\", \"#19d3f3\", \"#FF6692\", \"#B6E880\", \"#FF97FF\", \"#FECB52\"], \"font\": {\"color\": \"#2a3f5f\"}, \"geo\": {\"bgcolor\": \"white\", \"lakecolor\": \"white\", \"landcolor\": \"#E5ECF6\", \"showlakes\": true, \"showland\": true, \"subunitcolor\": \"white\"}, \"hoverlabel\": {\"align\": \"left\"}, \"hovermode\": \"closest\", \"mapbox\": {\"style\": \"light\"}, \"paper_bgcolor\": \"white\", \"plot_bgcolor\": \"#E5ECF6\", \"polar\": {\"angularaxis\": {\"gridcolor\": \"white\", \"linecolor\": \"white\", \"ticks\": \"\"}, \"bgcolor\": \"#E5ECF6\", \"radialaxis\": {\"gridcolor\": \"white\", \"linecolor\": \"white\", \"ticks\": \"\"}}, \"scene\": {\"xaxis\": {\"backgroundcolor\": \"#E5ECF6\", \"gridcolor\": \"white\", \"gridwidth\": 2, \"linecolor\": \"white\", \"showbackground\": true, \"ticks\": \"\", \"zerolinecolor\": \"white\"}, \"yaxis\": {\"backgroundcolor\": \"#E5ECF6\", \"gridcolor\": \"white\", \"gridwidth\": 2, \"linecolor\": \"white\", \"showbackground\": true, \"ticks\": \"\", \"zerolinecolor\": \"white\"}, \"zaxis\": {\"backgroundcolor\": \"#E5ECF6\", \"gridcolor\": \"white\", \"gridwidth\": 2, \"linecolor\": \"white\", \"showbackground\": true, \"ticks\": \"\", \"zerolinecolor\": \"white\"}}, \"shapedefaults\": {\"line\": {\"color\": \"#2a3f5f\"}}, \"ternary\": {\"aaxis\": {\"gridcolor\": \"white\", \"linecolor\": \"white\", \"ticks\": \"\"}, \"baxis\": {\"gridcolor\": \"white\", \"linecolor\": \"white\", \"ticks\": \"\"}, \"bgcolor\": \"#E5ECF6\", \"caxis\": {\"gridcolor\": \"white\", \"linecolor\": \"white\", \"ticks\": \"\"}}, \"title\": {\"x\": 0.05}, \"xaxis\": {\"automargin\": true, \"gridcolor\": \"white\", \"linecolor\": \"white\", \"ticks\": \"\", \"title\": {\"standoff\": 15}, \"zerolinecolor\": \"white\", \"zerolinewidth\": 2}, \"yaxis\": {\"automargin\": true, \"gridcolor\": \"white\", \"linecolor\": \"white\", \"ticks\": \"\", \"title\": {\"standoff\": 15}, \"zerolinecolor\": \"white\", \"zerolinewidth\": 2}}}, \"title\": {\"text\": \"Quantidade de acidentes por m\\u00eas em 2020 em cada sexo- Dados reais e previstos\"}},\n",
              "                        {\"responsive\": true}\n",
              "                    ).then(function(){\n",
              "                            \n",
              "var gd = document.getElementById('666a20a6-e41c-492e-ac78-54e705456093');\n",
              "var x = new MutationObserver(function (mutations, observer) {{\n",
              "        var display = window.getComputedStyle(gd).display;\n",
              "        if (!display || display === 'none') {{\n",
              "            console.log([gd, 'removed!']);\n",
              "            Plotly.purge(gd);\n",
              "            observer.disconnect();\n",
              "        }}\n",
              "}});\n",
              "\n",
              "// Listen for the removal of the full notebook cells\n",
              "var notebookContainer = gd.closest('#notebook-container');\n",
              "if (notebookContainer) {{\n",
              "    x.observe(notebookContainer, {childList: true});\n",
              "}}\n",
              "\n",
              "// Listen for the clearing of the current output cell\n",
              "var outputEl = gd.closest('.output');\n",
              "if (outputEl) {{\n",
              "    x.observe(outputEl, {childList: true});\n",
              "}}\n",
              "\n",
              "                        })\n",
              "                };\n",
              "                \n",
              "            </script>\n",
              "        </div>\n",
              "</body>\n",
              "</html>"
            ]
          },
          "metadata": {
            "tags": []
          }
        }
      ]
    },
    {
      "cell_type": "markdown",
      "metadata": {
        "id": "KwQfdCXEtfxT"
      },
      "source": [
        "###### Quantidade de Pessoas"
      ]
    },
    {
      "cell_type": "code",
      "metadata": {
        "id": "m2Bqgr5xtfxU",
        "outputId": "93b0efb7-c867-45bd-cc0e-9270c3ed3b90",
        "colab": {
          "base_uri": "https://localhost:8080/"
        }
      },
      "source": [
        "data_plot = cria_data_plot('qtd_pessoas')\n",
        "fig = go.Figure(data=data_plot)\n",
        "fig.update_layout(title_text='Quantidade de Pessoas por mês em 2020 em cada sexo- Dados reais e previstos')\n",
        "fig.show()"
      ],
      "execution_count": null,
      "outputs": [
        {
          "output_type": "stream",
          "text": [
            "/usr/local/lib/python3.6/dist-packages/plotly/graph_objs/_deprecations.py:385: DeprecationWarning:\n",
            "\n",
            "plotly.graph_objs.Line is deprecated.\n",
            "Please replace it with one of the following more specific types\n",
            "  - plotly.graph_objs.scatter.Line\n",
            "  - plotly.graph_objs.layout.shape.Line\n",
            "  - etc.\n",
            "\n",
            "\n"
          ],
          "name": "stderr"
        },
        {
          "output_type": "display_data",
          "data": {
            "text/html": [
              "<html>\n",
              "<head><meta charset=\"utf-8\" /></head>\n",
              "<body>\n",
              "    <div>\n",
              "            <script src=\"https://cdnjs.cloudflare.com/ajax/libs/mathjax/2.7.5/MathJax.js?config=TeX-AMS-MML_SVG\"></script><script type=\"text/javascript\">if (window.MathJax) {MathJax.Hub.Config({SVG: {font: \"STIX-Web\"}});}</script>\n",
              "                <script type=\"text/javascript\">window.PlotlyConfig = {MathJaxConfig: 'local'};</script>\n",
              "        <script src=\"https://cdn.plot.ly/plotly-latest.min.js\"></script>    \n",
              "            <div id=\"cad30bbb-a378-4631-902c-5f9be69d865f\" class=\"plotly-graph-div\" style=\"height:525px; width:100%;\"></div>\n",
              "            <script type=\"text/javascript\">\n",
              "                \n",
              "                    window.PLOTLYENV=window.PLOTLYENV || {};\n",
              "                    \n",
              "                if (document.getElementById(\"cad30bbb-a378-4631-902c-5f9be69d865f\")) {\n",
              "                    Plotly.newPlot(\n",
              "                        'cad30bbb-a378-4631-902c-5f9be69d865f',\n",
              "                        [{\"name\": \"Feminino- Real\", \"type\": \"scatter\", \"x\": [1, 2, 3, 4, 5, 6, 7], \"y\": [3586.0, 3140.0, 2211.0, 1576.0, 1827.0, 1863.0, 2140.0]}, {\"name\": \"Masculino- Real\", \"type\": \"scatter\", \"x\": [1, 2, 3, 4, 5, 6, 7], \"y\": [9577.0, 9192.0, 7722.0, 6154.0, 7383.0, 7680.0, 8540.0]}, {\"name\": \"N\\u00e3o Informado- Real\", \"type\": \"scatter\", \"x\": [1, 2, 3, 4, 5, 6, 7], \"y\": [855.0, 833.0, 813.0, 618.0, 812.0, 838.0, 854.0]}, {\"name\": \"Feminino- Previsto\", \"type\": \"scatter\", \"x\": [7, 8, 9, 10, 11, 12], \"y\": [2079.75, 2069.91, 2081.83, 2095.87, 2096.8, 2499.58]}, {\"name\": \"Masculino- Previsto\", \"type\": \"scatter\", \"x\": [7, 8, 9, 10, 11, 12], \"y\": [8247.77, 8244.1, 8276.71, 8292.33, 8303.31, 8528.1]}, {\"name\": \"N\\u00e3o Informado- Previsto\", \"type\": \"scatter\", \"x\": [7, 8, 9, 10, 11, 12], \"y\": [853.55, 850.09, 850.79, 843.73, 846.91, 921.06]}],\n",
              "                        {\"template\": {\"data\": {\"bar\": [{\"error_x\": {\"color\": \"#2a3f5f\"}, \"error_y\": {\"color\": \"#2a3f5f\"}, \"marker\": {\"line\": {\"color\": \"#E5ECF6\", \"width\": 0.5}}, \"type\": \"bar\"}], \"barpolar\": [{\"marker\": {\"line\": {\"color\": \"#E5ECF6\", \"width\": 0.5}}, \"type\": \"barpolar\"}], \"carpet\": [{\"aaxis\": {\"endlinecolor\": \"#2a3f5f\", \"gridcolor\": \"white\", \"linecolor\": \"white\", \"minorgridcolor\": \"white\", \"startlinecolor\": \"#2a3f5f\"}, \"baxis\": {\"endlinecolor\": \"#2a3f5f\", \"gridcolor\": \"white\", \"linecolor\": \"white\", \"minorgridcolor\": \"white\", \"startlinecolor\": \"#2a3f5f\"}, \"type\": \"carpet\"}], \"choropleth\": [{\"colorbar\": {\"outlinewidth\": 0, \"ticks\": \"\"}, \"type\": \"choropleth\"}], \"contour\": [{\"colorbar\": {\"outlinewidth\": 0, \"ticks\": \"\"}, \"colorscale\": [[0.0, \"#0d0887\"], [0.1111111111111111, \"#46039f\"], [0.2222222222222222, \"#7201a8\"], [0.3333333333333333, \"#9c179e\"], [0.4444444444444444, \"#bd3786\"], [0.5555555555555556, \"#d8576b\"], [0.6666666666666666, \"#ed7953\"], [0.7777777777777778, \"#fb9f3a\"], [0.8888888888888888, \"#fdca26\"], [1.0, \"#f0f921\"]], \"type\": \"contour\"}], \"contourcarpet\": [{\"colorbar\": {\"outlinewidth\": 0, \"ticks\": \"\"}, \"type\": \"contourcarpet\"}], \"heatmap\": [{\"colorbar\": {\"outlinewidth\": 0, \"ticks\": \"\"}, \"colorscale\": [[0.0, \"#0d0887\"], [0.1111111111111111, \"#46039f\"], [0.2222222222222222, \"#7201a8\"], [0.3333333333333333, \"#9c179e\"], [0.4444444444444444, \"#bd3786\"], [0.5555555555555556, \"#d8576b\"], [0.6666666666666666, \"#ed7953\"], [0.7777777777777778, \"#fb9f3a\"], [0.8888888888888888, \"#fdca26\"], [1.0, \"#f0f921\"]], \"type\": \"heatmap\"}], \"heatmapgl\": [{\"colorbar\": {\"outlinewidth\": 0, \"ticks\": \"\"}, \"colorscale\": [[0.0, \"#0d0887\"], [0.1111111111111111, \"#46039f\"], [0.2222222222222222, \"#7201a8\"], [0.3333333333333333, \"#9c179e\"], [0.4444444444444444, \"#bd3786\"], [0.5555555555555556, \"#d8576b\"], [0.6666666666666666, \"#ed7953\"], [0.7777777777777778, \"#fb9f3a\"], [0.8888888888888888, \"#fdca26\"], [1.0, \"#f0f921\"]], \"type\": \"heatmapgl\"}], \"histogram\": [{\"marker\": {\"colorbar\": {\"outlinewidth\": 0, \"ticks\": \"\"}}, \"type\": \"histogram\"}], \"histogram2d\": [{\"colorbar\": {\"outlinewidth\": 0, \"ticks\": \"\"}, \"colorscale\": [[0.0, \"#0d0887\"], [0.1111111111111111, \"#46039f\"], [0.2222222222222222, \"#7201a8\"], [0.3333333333333333, \"#9c179e\"], [0.4444444444444444, \"#bd3786\"], [0.5555555555555556, \"#d8576b\"], [0.6666666666666666, \"#ed7953\"], [0.7777777777777778, \"#fb9f3a\"], [0.8888888888888888, \"#fdca26\"], [1.0, \"#f0f921\"]], \"type\": \"histogram2d\"}], \"histogram2dcontour\": [{\"colorbar\": {\"outlinewidth\": 0, \"ticks\": \"\"}, \"colorscale\": [[0.0, \"#0d0887\"], [0.1111111111111111, \"#46039f\"], [0.2222222222222222, \"#7201a8\"], [0.3333333333333333, \"#9c179e\"], [0.4444444444444444, \"#bd3786\"], [0.5555555555555556, \"#d8576b\"], [0.6666666666666666, \"#ed7953\"], [0.7777777777777778, \"#fb9f3a\"], [0.8888888888888888, \"#fdca26\"], [1.0, \"#f0f921\"]], \"type\": \"histogram2dcontour\"}], \"mesh3d\": [{\"colorbar\": {\"outlinewidth\": 0, \"ticks\": \"\"}, \"type\": \"mesh3d\"}], \"parcoords\": [{\"line\": {\"colorbar\": {\"outlinewidth\": 0, \"ticks\": \"\"}}, \"type\": \"parcoords\"}], \"pie\": [{\"automargin\": true, \"type\": \"pie\"}], \"scatter\": [{\"marker\": {\"colorbar\": {\"outlinewidth\": 0, \"ticks\": \"\"}}, \"type\": \"scatter\"}], \"scatter3d\": [{\"line\": {\"colorbar\": {\"outlinewidth\": 0, \"ticks\": \"\"}}, \"marker\": {\"colorbar\": {\"outlinewidth\": 0, \"ticks\": \"\"}}, \"type\": \"scatter3d\"}], \"scattercarpet\": [{\"marker\": {\"colorbar\": {\"outlinewidth\": 0, \"ticks\": \"\"}}, \"type\": \"scattercarpet\"}], \"scattergeo\": [{\"marker\": {\"colorbar\": {\"outlinewidth\": 0, \"ticks\": \"\"}}, \"type\": \"scattergeo\"}], \"scattergl\": [{\"marker\": {\"colorbar\": {\"outlinewidth\": 0, \"ticks\": \"\"}}, \"type\": \"scattergl\"}], \"scattermapbox\": [{\"marker\": {\"colorbar\": {\"outlinewidth\": 0, \"ticks\": \"\"}}, \"type\": \"scattermapbox\"}], \"scatterpolar\": [{\"marker\": {\"colorbar\": {\"outlinewidth\": 0, \"ticks\": \"\"}}, \"type\": \"scatterpolar\"}], \"scatterpolargl\": [{\"marker\": {\"colorbar\": {\"outlinewidth\": 0, \"ticks\": \"\"}}, \"type\": \"scatterpolargl\"}], \"scatterternary\": [{\"marker\": {\"colorbar\": {\"outlinewidth\": 0, \"ticks\": \"\"}}, \"type\": \"scatterternary\"}], \"surface\": [{\"colorbar\": {\"outlinewidth\": 0, \"ticks\": \"\"}, \"colorscale\": [[0.0, \"#0d0887\"], [0.1111111111111111, \"#46039f\"], [0.2222222222222222, \"#7201a8\"], [0.3333333333333333, \"#9c179e\"], [0.4444444444444444, \"#bd3786\"], [0.5555555555555556, \"#d8576b\"], [0.6666666666666666, \"#ed7953\"], [0.7777777777777778, \"#fb9f3a\"], [0.8888888888888888, \"#fdca26\"], [1.0, \"#f0f921\"]], \"type\": \"surface\"}], \"table\": [{\"cells\": {\"fill\": {\"color\": \"#EBF0F8\"}, \"line\": {\"color\": \"white\"}}, \"header\": {\"fill\": {\"color\": \"#C8D4E3\"}, \"line\": {\"color\": \"white\"}}, \"type\": \"table\"}]}, \"layout\": {\"annotationdefaults\": {\"arrowcolor\": \"#2a3f5f\", \"arrowhead\": 0, \"arrowwidth\": 1}, \"coloraxis\": {\"colorbar\": {\"outlinewidth\": 0, \"ticks\": \"\"}}, \"colorscale\": {\"diverging\": [[0, \"#8e0152\"], [0.1, \"#c51b7d\"], [0.2, \"#de77ae\"], [0.3, \"#f1b6da\"], [0.4, \"#fde0ef\"], [0.5, \"#f7f7f7\"], [0.6, \"#e6f5d0\"], [0.7, \"#b8e186\"], [0.8, \"#7fbc41\"], [0.9, \"#4d9221\"], [1, \"#276419\"]], \"sequential\": [[0.0, \"#0d0887\"], [0.1111111111111111, \"#46039f\"], [0.2222222222222222, \"#7201a8\"], [0.3333333333333333, \"#9c179e\"], [0.4444444444444444, \"#bd3786\"], [0.5555555555555556, \"#d8576b\"], [0.6666666666666666, \"#ed7953\"], [0.7777777777777778, \"#fb9f3a\"], [0.8888888888888888, \"#fdca26\"], [1.0, \"#f0f921\"]], \"sequentialminus\": [[0.0, \"#0d0887\"], [0.1111111111111111, \"#46039f\"], [0.2222222222222222, \"#7201a8\"], [0.3333333333333333, \"#9c179e\"], [0.4444444444444444, \"#bd3786\"], [0.5555555555555556, \"#d8576b\"], [0.6666666666666666, \"#ed7953\"], [0.7777777777777778, \"#fb9f3a\"], [0.8888888888888888, \"#fdca26\"], [1.0, \"#f0f921\"]]}, \"colorway\": [\"#636efa\", \"#EF553B\", \"#00cc96\", \"#ab63fa\", \"#FFA15A\", \"#19d3f3\", \"#FF6692\", \"#B6E880\", \"#FF97FF\", \"#FECB52\"], \"font\": {\"color\": \"#2a3f5f\"}, \"geo\": {\"bgcolor\": \"white\", \"lakecolor\": \"white\", \"landcolor\": \"#E5ECF6\", \"showlakes\": true, \"showland\": true, \"subunitcolor\": \"white\"}, \"hoverlabel\": {\"align\": \"left\"}, \"hovermode\": \"closest\", \"mapbox\": {\"style\": \"light\"}, \"paper_bgcolor\": \"white\", \"plot_bgcolor\": \"#E5ECF6\", \"polar\": {\"angularaxis\": {\"gridcolor\": \"white\", \"linecolor\": \"white\", \"ticks\": \"\"}, \"bgcolor\": \"#E5ECF6\", \"radialaxis\": {\"gridcolor\": \"white\", \"linecolor\": \"white\", \"ticks\": \"\"}}, \"scene\": {\"xaxis\": {\"backgroundcolor\": \"#E5ECF6\", \"gridcolor\": \"white\", \"gridwidth\": 2, \"linecolor\": \"white\", \"showbackground\": true, \"ticks\": \"\", \"zerolinecolor\": \"white\"}, \"yaxis\": {\"backgroundcolor\": \"#E5ECF6\", \"gridcolor\": \"white\", \"gridwidth\": 2, \"linecolor\": \"white\", \"showbackground\": true, \"ticks\": \"\", \"zerolinecolor\": \"white\"}, \"zaxis\": {\"backgroundcolor\": \"#E5ECF6\", \"gridcolor\": \"white\", \"gridwidth\": 2, \"linecolor\": \"white\", \"showbackground\": true, \"ticks\": \"\", \"zerolinecolor\": \"white\"}}, \"shapedefaults\": {\"line\": {\"color\": \"#2a3f5f\"}}, \"ternary\": {\"aaxis\": {\"gridcolor\": \"white\", \"linecolor\": \"white\", \"ticks\": \"\"}, \"baxis\": {\"gridcolor\": \"white\", \"linecolor\": \"white\", \"ticks\": \"\"}, \"bgcolor\": \"#E5ECF6\", \"caxis\": {\"gridcolor\": \"white\", \"linecolor\": \"white\", \"ticks\": \"\"}}, \"title\": {\"x\": 0.05}, \"xaxis\": {\"automargin\": true, \"gridcolor\": \"white\", \"linecolor\": \"white\", \"ticks\": \"\", \"title\": {\"standoff\": 15}, \"zerolinecolor\": \"white\", \"zerolinewidth\": 2}, \"yaxis\": {\"automargin\": true, \"gridcolor\": \"white\", \"linecolor\": \"white\", \"ticks\": \"\", \"title\": {\"standoff\": 15}, \"zerolinecolor\": \"white\", \"zerolinewidth\": 2}}}, \"title\": {\"text\": \"Quantidade de Pessoas por m\\u00eas em 2020 em cada sexo- Dados reais e previstos\"}},\n",
              "                        {\"responsive\": true}\n",
              "                    ).then(function(){\n",
              "                            \n",
              "var gd = document.getElementById('cad30bbb-a378-4631-902c-5f9be69d865f');\n",
              "var x = new MutationObserver(function (mutations, observer) {{\n",
              "        var display = window.getComputedStyle(gd).display;\n",
              "        if (!display || display === 'none') {{\n",
              "            console.log([gd, 'removed!']);\n",
              "            Plotly.purge(gd);\n",
              "            observer.disconnect();\n",
              "        }}\n",
              "}});\n",
              "\n",
              "// Listen for the removal of the full notebook cells\n",
              "var notebookContainer = gd.closest('#notebook-container');\n",
              "if (notebookContainer) {{\n",
              "    x.observe(notebookContainer, {childList: true});\n",
              "}}\n",
              "\n",
              "// Listen for the clearing of the current output cell\n",
              "var outputEl = gd.closest('.output');\n",
              "if (outputEl) {{\n",
              "    x.observe(outputEl, {childList: true});\n",
              "}}\n",
              "\n",
              "                        })\n",
              "                };\n",
              "                \n",
              "            </script>\n",
              "        </div>\n",
              "</body>\n",
              "</html>"
            ]
          },
          "metadata": {
            "tags": []
          }
        }
      ]
    },
    {
      "cell_type": "markdown",
      "metadata": {
        "id": "sxJMlA8qtfxW"
      },
      "source": [
        "###### Quatidade de Ilesos"
      ]
    },
    {
      "cell_type": "code",
      "metadata": {
        "id": "NWBPKVuHtfxW",
        "outputId": "89e6aaa9-19f4-40f6-8598-49c2045dffde",
        "colab": {
          "base_uri": "https://localhost:8080/"
        }
      },
      "source": [
        "data_plot = cria_data_plot('qtd_ilesos')\n",
        "fig = go.Figure(data=data_plot)\n",
        "fig.update_layout(title_text='Quantidade de Ilesos por mês em 2020 em cada sexo- Dados reais e previstos')\n",
        "fig.show()"
      ],
      "execution_count": null,
      "outputs": [
        {
          "output_type": "stream",
          "text": [
            "/usr/local/lib/python3.6/dist-packages/plotly/graph_objs/_deprecations.py:385: DeprecationWarning:\n",
            "\n",
            "plotly.graph_objs.Line is deprecated.\n",
            "Please replace it with one of the following more specific types\n",
            "  - plotly.graph_objs.scatter.Line\n",
            "  - plotly.graph_objs.layout.shape.Line\n",
            "  - etc.\n",
            "\n",
            "\n"
          ],
          "name": "stderr"
        },
        {
          "output_type": "display_data",
          "data": {
            "text/html": [
              "<html>\n",
              "<head><meta charset=\"utf-8\" /></head>\n",
              "<body>\n",
              "    <div>\n",
              "            <script src=\"https://cdnjs.cloudflare.com/ajax/libs/mathjax/2.7.5/MathJax.js?config=TeX-AMS-MML_SVG\"></script><script type=\"text/javascript\">if (window.MathJax) {MathJax.Hub.Config({SVG: {font: \"STIX-Web\"}});}</script>\n",
              "                <script type=\"text/javascript\">window.PlotlyConfig = {MathJaxConfig: 'local'};</script>\n",
              "        <script src=\"https://cdn.plot.ly/plotly-latest.min.js\"></script>    \n",
              "            <div id=\"1a7ec0bd-f74a-4558-8c61-111c707c0f04\" class=\"plotly-graph-div\" style=\"height:525px; width:100%;\"></div>\n",
              "            <script type=\"text/javascript\">\n",
              "                \n",
              "                    window.PLOTLYENV=window.PLOTLYENV || {};\n",
              "                    \n",
              "                if (document.getElementById(\"1a7ec0bd-f74a-4558-8c61-111c707c0f04\")) {\n",
              "                    Plotly.newPlot(\n",
              "                        '1a7ec0bd-f74a-4558-8c61-111c707c0f04',\n",
              "                        [{\"name\": \"Feminino- Real\", \"type\": \"scatter\", \"x\": [1, 2, 3, 4, 5, 6, 7], \"y\": [1073.0, 1040.0, 685.0, 432.0, 601.0, 619.0, 725.0]}, {\"name\": \"Masculino- Real\", \"type\": \"scatter\", \"x\": [1, 2, 3, 4, 5, 6, 7], \"y\": [4654.0, 4450.0, 3577.0, 2675.0, 3367.0, 3725.0, 4135.0]}, {\"name\": \"N\\u00e3o Informado- Real\", \"type\": \"scatter\", \"x\": [1, 2, 3, 4, 5, 6, 7], \"y\": [81.0, 37.0, 49.0, 32.0, 51.0, 48.0, 34.0]}, {\"name\": \"Feminino- Previsto\", \"type\": \"scatter\", \"x\": [7, 8, 9, 10, 11, 12], \"y\": [696.85, 689.23, 691.74, 697.49, 698.82, 837.47]}, {\"name\": \"Masculino- Previsto\", \"type\": \"scatter\", \"x\": [7, 8, 9, 10, 11, 12], \"y\": [3980.51, 3976.86, 3992.83, 3999.64, 4004.66, 4116.8]}, {\"name\": \"N\\u00e3o Informado- Previsto\", \"type\": \"scatter\", \"x\": [7, 8, 9, 10, 11, 12], \"y\": [44.2, 43.44, 45.25, 46.78, 51.07, 73.53]}],\n",
              "                        {\"template\": {\"data\": {\"bar\": [{\"error_x\": {\"color\": \"#2a3f5f\"}, \"error_y\": {\"color\": \"#2a3f5f\"}, \"marker\": {\"line\": {\"color\": \"#E5ECF6\", \"width\": 0.5}}, \"type\": \"bar\"}], \"barpolar\": [{\"marker\": {\"line\": {\"color\": \"#E5ECF6\", \"width\": 0.5}}, \"type\": \"barpolar\"}], \"carpet\": [{\"aaxis\": {\"endlinecolor\": \"#2a3f5f\", \"gridcolor\": \"white\", \"linecolor\": \"white\", \"minorgridcolor\": \"white\", \"startlinecolor\": \"#2a3f5f\"}, \"baxis\": {\"endlinecolor\": \"#2a3f5f\", \"gridcolor\": \"white\", \"linecolor\": \"white\", \"minorgridcolor\": \"white\", \"startlinecolor\": \"#2a3f5f\"}, \"type\": \"carpet\"}], \"choropleth\": [{\"colorbar\": {\"outlinewidth\": 0, \"ticks\": \"\"}, \"type\": \"choropleth\"}], \"contour\": [{\"colorbar\": {\"outlinewidth\": 0, \"ticks\": \"\"}, \"colorscale\": [[0.0, \"#0d0887\"], [0.1111111111111111, \"#46039f\"], [0.2222222222222222, \"#7201a8\"], [0.3333333333333333, \"#9c179e\"], [0.4444444444444444, \"#bd3786\"], [0.5555555555555556, \"#d8576b\"], [0.6666666666666666, \"#ed7953\"], [0.7777777777777778, \"#fb9f3a\"], [0.8888888888888888, \"#fdca26\"], [1.0, \"#f0f921\"]], \"type\": \"contour\"}], \"contourcarpet\": [{\"colorbar\": {\"outlinewidth\": 0, \"ticks\": \"\"}, \"type\": \"contourcarpet\"}], \"heatmap\": [{\"colorbar\": {\"outlinewidth\": 0, \"ticks\": \"\"}, \"colorscale\": [[0.0, \"#0d0887\"], [0.1111111111111111, \"#46039f\"], [0.2222222222222222, \"#7201a8\"], [0.3333333333333333, \"#9c179e\"], [0.4444444444444444, \"#bd3786\"], [0.5555555555555556, \"#d8576b\"], [0.6666666666666666, \"#ed7953\"], [0.7777777777777778, \"#fb9f3a\"], [0.8888888888888888, \"#fdca26\"], [1.0, \"#f0f921\"]], \"type\": \"heatmap\"}], \"heatmapgl\": [{\"colorbar\": {\"outlinewidth\": 0, \"ticks\": \"\"}, \"colorscale\": [[0.0, \"#0d0887\"], [0.1111111111111111, \"#46039f\"], [0.2222222222222222, \"#7201a8\"], [0.3333333333333333, \"#9c179e\"], [0.4444444444444444, \"#bd3786\"], [0.5555555555555556, \"#d8576b\"], [0.6666666666666666, \"#ed7953\"], [0.7777777777777778, \"#fb9f3a\"], [0.8888888888888888, \"#fdca26\"], [1.0, \"#f0f921\"]], \"type\": \"heatmapgl\"}], \"histogram\": [{\"marker\": {\"colorbar\": {\"outlinewidth\": 0, \"ticks\": \"\"}}, \"type\": \"histogram\"}], \"histogram2d\": [{\"colorbar\": {\"outlinewidth\": 0, \"ticks\": \"\"}, \"colorscale\": [[0.0, \"#0d0887\"], [0.1111111111111111, \"#46039f\"], [0.2222222222222222, \"#7201a8\"], [0.3333333333333333, \"#9c179e\"], [0.4444444444444444, \"#bd3786\"], [0.5555555555555556, \"#d8576b\"], [0.6666666666666666, \"#ed7953\"], [0.7777777777777778, \"#fb9f3a\"], [0.8888888888888888, \"#fdca26\"], [1.0, \"#f0f921\"]], \"type\": \"histogram2d\"}], \"histogram2dcontour\": [{\"colorbar\": {\"outlinewidth\": 0, \"ticks\": \"\"}, \"colorscale\": [[0.0, \"#0d0887\"], [0.1111111111111111, \"#46039f\"], [0.2222222222222222, \"#7201a8\"], [0.3333333333333333, \"#9c179e\"], [0.4444444444444444, \"#bd3786\"], [0.5555555555555556, \"#d8576b\"], [0.6666666666666666, \"#ed7953\"], [0.7777777777777778, \"#fb9f3a\"], [0.8888888888888888, \"#fdca26\"], [1.0, \"#f0f921\"]], \"type\": \"histogram2dcontour\"}], \"mesh3d\": [{\"colorbar\": {\"outlinewidth\": 0, \"ticks\": \"\"}, \"type\": \"mesh3d\"}], \"parcoords\": [{\"line\": {\"colorbar\": {\"outlinewidth\": 0, \"ticks\": \"\"}}, \"type\": \"parcoords\"}], \"pie\": [{\"automargin\": true, \"type\": \"pie\"}], \"scatter\": [{\"marker\": {\"colorbar\": {\"outlinewidth\": 0, \"ticks\": \"\"}}, \"type\": \"scatter\"}], \"scatter3d\": [{\"line\": {\"colorbar\": {\"outlinewidth\": 0, \"ticks\": \"\"}}, \"marker\": {\"colorbar\": {\"outlinewidth\": 0, \"ticks\": \"\"}}, \"type\": \"scatter3d\"}], \"scattercarpet\": [{\"marker\": {\"colorbar\": {\"outlinewidth\": 0, \"ticks\": \"\"}}, \"type\": \"scattercarpet\"}], \"scattergeo\": [{\"marker\": {\"colorbar\": {\"outlinewidth\": 0, \"ticks\": \"\"}}, \"type\": \"scattergeo\"}], \"scattergl\": [{\"marker\": {\"colorbar\": {\"outlinewidth\": 0, \"ticks\": \"\"}}, \"type\": \"scattergl\"}], \"scattermapbox\": [{\"marker\": {\"colorbar\": {\"outlinewidth\": 0, \"ticks\": \"\"}}, \"type\": \"scattermapbox\"}], \"scatterpolar\": [{\"marker\": {\"colorbar\": {\"outlinewidth\": 0, \"ticks\": \"\"}}, \"type\": \"scatterpolar\"}], \"scatterpolargl\": [{\"marker\": {\"colorbar\": {\"outlinewidth\": 0, \"ticks\": \"\"}}, \"type\": \"scatterpolargl\"}], \"scatterternary\": [{\"marker\": {\"colorbar\": {\"outlinewidth\": 0, \"ticks\": \"\"}}, \"type\": \"scatterternary\"}], \"surface\": [{\"colorbar\": {\"outlinewidth\": 0, \"ticks\": \"\"}, \"colorscale\": [[0.0, \"#0d0887\"], [0.1111111111111111, \"#46039f\"], [0.2222222222222222, \"#7201a8\"], [0.3333333333333333, \"#9c179e\"], [0.4444444444444444, \"#bd3786\"], [0.5555555555555556, \"#d8576b\"], [0.6666666666666666, \"#ed7953\"], [0.7777777777777778, \"#fb9f3a\"], [0.8888888888888888, \"#fdca26\"], [1.0, \"#f0f921\"]], \"type\": \"surface\"}], \"table\": [{\"cells\": {\"fill\": {\"color\": \"#EBF0F8\"}, \"line\": {\"color\": \"white\"}}, \"header\": {\"fill\": {\"color\": \"#C8D4E3\"}, \"line\": {\"color\": \"white\"}}, \"type\": \"table\"}]}, \"layout\": {\"annotationdefaults\": {\"arrowcolor\": \"#2a3f5f\", \"arrowhead\": 0, \"arrowwidth\": 1}, \"coloraxis\": {\"colorbar\": {\"outlinewidth\": 0, \"ticks\": \"\"}}, \"colorscale\": {\"diverging\": [[0, \"#8e0152\"], [0.1, \"#c51b7d\"], [0.2, \"#de77ae\"], [0.3, \"#f1b6da\"], [0.4, \"#fde0ef\"], [0.5, \"#f7f7f7\"], [0.6, \"#e6f5d0\"], [0.7, \"#b8e186\"], [0.8, \"#7fbc41\"], [0.9, \"#4d9221\"], [1, \"#276419\"]], \"sequential\": [[0.0, \"#0d0887\"], [0.1111111111111111, \"#46039f\"], [0.2222222222222222, \"#7201a8\"], [0.3333333333333333, \"#9c179e\"], [0.4444444444444444, \"#bd3786\"], [0.5555555555555556, \"#d8576b\"], [0.6666666666666666, \"#ed7953\"], [0.7777777777777778, \"#fb9f3a\"], [0.8888888888888888, \"#fdca26\"], [1.0, \"#f0f921\"]], \"sequentialminus\": [[0.0, \"#0d0887\"], [0.1111111111111111, \"#46039f\"], [0.2222222222222222, \"#7201a8\"], [0.3333333333333333, \"#9c179e\"], [0.4444444444444444, \"#bd3786\"], [0.5555555555555556, \"#d8576b\"], [0.6666666666666666, \"#ed7953\"], [0.7777777777777778, \"#fb9f3a\"], [0.8888888888888888, \"#fdca26\"], [1.0, \"#f0f921\"]]}, \"colorway\": [\"#636efa\", \"#EF553B\", \"#00cc96\", \"#ab63fa\", \"#FFA15A\", \"#19d3f3\", \"#FF6692\", \"#B6E880\", \"#FF97FF\", \"#FECB52\"], \"font\": {\"color\": \"#2a3f5f\"}, \"geo\": {\"bgcolor\": \"white\", \"lakecolor\": \"white\", \"landcolor\": \"#E5ECF6\", \"showlakes\": true, \"showland\": true, \"subunitcolor\": \"white\"}, \"hoverlabel\": {\"align\": \"left\"}, \"hovermode\": \"closest\", \"mapbox\": {\"style\": \"light\"}, \"paper_bgcolor\": \"white\", \"plot_bgcolor\": \"#E5ECF6\", \"polar\": {\"angularaxis\": {\"gridcolor\": \"white\", \"linecolor\": \"white\", \"ticks\": \"\"}, \"bgcolor\": \"#E5ECF6\", \"radialaxis\": {\"gridcolor\": \"white\", \"linecolor\": \"white\", \"ticks\": \"\"}}, \"scene\": {\"xaxis\": {\"backgroundcolor\": \"#E5ECF6\", \"gridcolor\": \"white\", \"gridwidth\": 2, \"linecolor\": \"white\", \"showbackground\": true, \"ticks\": \"\", \"zerolinecolor\": \"white\"}, \"yaxis\": {\"backgroundcolor\": \"#E5ECF6\", \"gridcolor\": \"white\", \"gridwidth\": 2, \"linecolor\": \"white\", \"showbackground\": true, \"ticks\": \"\", \"zerolinecolor\": \"white\"}, \"zaxis\": {\"backgroundcolor\": \"#E5ECF6\", \"gridcolor\": \"white\", \"gridwidth\": 2, \"linecolor\": \"white\", \"showbackground\": true, \"ticks\": \"\", \"zerolinecolor\": \"white\"}}, \"shapedefaults\": {\"line\": {\"color\": \"#2a3f5f\"}}, \"ternary\": {\"aaxis\": {\"gridcolor\": \"white\", \"linecolor\": \"white\", \"ticks\": \"\"}, \"baxis\": {\"gridcolor\": \"white\", \"linecolor\": \"white\", \"ticks\": \"\"}, \"bgcolor\": \"#E5ECF6\", \"caxis\": {\"gridcolor\": \"white\", \"linecolor\": \"white\", \"ticks\": \"\"}}, \"title\": {\"x\": 0.05}, \"xaxis\": {\"automargin\": true, \"gridcolor\": \"white\", \"linecolor\": \"white\", \"ticks\": \"\", \"title\": {\"standoff\": 15}, \"zerolinecolor\": \"white\", \"zerolinewidth\": 2}, \"yaxis\": {\"automargin\": true, \"gridcolor\": \"white\", \"linecolor\": \"white\", \"ticks\": \"\", \"title\": {\"standoff\": 15}, \"zerolinecolor\": \"white\", \"zerolinewidth\": 2}}}, \"title\": {\"text\": \"Quantidade de Ilesos por m\\u00eas em 2020 em cada sexo- Dados reais e previstos\"}},\n",
              "                        {\"responsive\": true}\n",
              "                    ).then(function(){\n",
              "                            \n",
              "var gd = document.getElementById('1a7ec0bd-f74a-4558-8c61-111c707c0f04');\n",
              "var x = new MutationObserver(function (mutations, observer) {{\n",
              "        var display = window.getComputedStyle(gd).display;\n",
              "        if (!display || display === 'none') {{\n",
              "            console.log([gd, 'removed!']);\n",
              "            Plotly.purge(gd);\n",
              "            observer.disconnect();\n",
              "        }}\n",
              "}});\n",
              "\n",
              "// Listen for the removal of the full notebook cells\n",
              "var notebookContainer = gd.closest('#notebook-container');\n",
              "if (notebookContainer) {{\n",
              "    x.observe(notebookContainer, {childList: true});\n",
              "}}\n",
              "\n",
              "// Listen for the clearing of the current output cell\n",
              "var outputEl = gd.closest('.output');\n",
              "if (outputEl) {{\n",
              "    x.observe(outputEl, {childList: true});\n",
              "}}\n",
              "\n",
              "                        })\n",
              "                };\n",
              "                \n",
              "            </script>\n",
              "        </div>\n",
              "</body>\n",
              "</html>"
            ]
          },
          "metadata": {
            "tags": []
          }
        }
      ]
    },
    {
      "cell_type": "markdown",
      "metadata": {
        "id": "R3smRgBytfxX"
      },
      "source": [
        "###### Quatidade de Feridos Leves"
      ]
    },
    {
      "cell_type": "code",
      "metadata": {
        "id": "0NZHfN3BtfxY",
        "outputId": "d6e766aa-5edb-4d92-dadb-b493f5ab826c",
        "colab": {
          "base_uri": "https://localhost:8080/"
        }
      },
      "source": [
        "data_plot = cria_data_plot('qtd_feridos_leves')\n",
        "fig = go.Figure(data=data_plot)\n",
        "fig.update_layout(title_text='Quantidade de Feridos Leves por mês em 2020 em cada sexo- Dados reais e previstos')\n",
        "fig.show()"
      ],
      "execution_count": null,
      "outputs": [
        {
          "output_type": "stream",
          "text": [
            "/usr/local/lib/python3.6/dist-packages/plotly/graph_objs/_deprecations.py:385: DeprecationWarning:\n",
            "\n",
            "plotly.graph_objs.Line is deprecated.\n",
            "Please replace it with one of the following more specific types\n",
            "  - plotly.graph_objs.scatter.Line\n",
            "  - plotly.graph_objs.layout.shape.Line\n",
            "  - etc.\n",
            "\n",
            "\n"
          ],
          "name": "stderr"
        },
        {
          "output_type": "display_data",
          "data": {
            "text/html": [
              "<html>\n",
              "<head><meta charset=\"utf-8\" /></head>\n",
              "<body>\n",
              "    <div>\n",
              "            <script src=\"https://cdnjs.cloudflare.com/ajax/libs/mathjax/2.7.5/MathJax.js?config=TeX-AMS-MML_SVG\"></script><script type=\"text/javascript\">if (window.MathJax) {MathJax.Hub.Config({SVG: {font: \"STIX-Web\"}});}</script>\n",
              "                <script type=\"text/javascript\">window.PlotlyConfig = {MathJaxConfig: 'local'};</script>\n",
              "        <script src=\"https://cdn.plot.ly/plotly-latest.min.js\"></script>    \n",
              "            <div id=\"fe7c1b06-87e7-4279-9200-02f98d72a68c\" class=\"plotly-graph-div\" style=\"height:525px; width:100%;\"></div>\n",
              "            <script type=\"text/javascript\">\n",
              "                \n",
              "                    window.PLOTLYENV=window.PLOTLYENV || {};\n",
              "                    \n",
              "                if (document.getElementById(\"fe7c1b06-87e7-4279-9200-02f98d72a68c\")) {\n",
              "                    Plotly.newPlot(\n",
              "                        'fe7c1b06-87e7-4279-9200-02f98d72a68c',\n",
              "                        [{\"name\": \"Feminino- Real\", \"type\": \"scatter\", \"x\": [1, 2, 3, 4, 5, 6, 7], \"y\": [1988.0, 1656.0, 1215.0, 872.0, 928.0, 966.0, 1105.0]}, {\"name\": \"Masculino- Real\", \"type\": \"scatter\", \"x\": [1, 2, 3, 4, 5, 6, 7], \"y\": [3531.0, 3336.0, 2861.0, 2413.0, 2771.0, 2674.0, 3016.0]}, {\"name\": \"N\\u00e3o Informado- Real\", \"type\": \"scatter\", \"x\": [1, 2, 3, 4, 5, 6, 7], \"y\": [3.0, 7.0, 7.0, 1.0, 5.0, 2.0, 2.0]}, {\"name\": \"Feminino- Previsto\", \"type\": \"scatter\", \"x\": [7, 8, 9, 10, 11, 12], \"y\": [1074.05, 1073.09, 1081.59, 1084.45, 1085.08, 1293.89]}, {\"name\": \"Masculino- Previsto\", \"type\": \"scatter\", \"x\": [7, 8, 9, 10, 11, 12], \"y\": [2913.92, 2915.81, 2928.41, 2935.2, 2939.12, 3021.18]}, {\"name\": \"N\\u00e3o Informado- Previsto\", \"type\": \"scatter\", \"x\": [7, 8, 9, 10, 11, 12], \"y\": [3.06, 2.24, 2.34, 4.23, 4.21, 5.33]}],\n",
              "                        {\"template\": {\"data\": {\"bar\": [{\"error_x\": {\"color\": \"#2a3f5f\"}, \"error_y\": {\"color\": \"#2a3f5f\"}, \"marker\": {\"line\": {\"color\": \"#E5ECF6\", \"width\": 0.5}}, \"type\": \"bar\"}], \"barpolar\": [{\"marker\": {\"line\": {\"color\": \"#E5ECF6\", \"width\": 0.5}}, \"type\": \"barpolar\"}], \"carpet\": [{\"aaxis\": {\"endlinecolor\": \"#2a3f5f\", \"gridcolor\": \"white\", \"linecolor\": \"white\", \"minorgridcolor\": \"white\", \"startlinecolor\": \"#2a3f5f\"}, \"baxis\": {\"endlinecolor\": \"#2a3f5f\", \"gridcolor\": \"white\", \"linecolor\": \"white\", \"minorgridcolor\": \"white\", \"startlinecolor\": \"#2a3f5f\"}, \"type\": \"carpet\"}], \"choropleth\": [{\"colorbar\": {\"outlinewidth\": 0, \"ticks\": \"\"}, \"type\": \"choropleth\"}], \"contour\": [{\"colorbar\": {\"outlinewidth\": 0, \"ticks\": \"\"}, \"colorscale\": [[0.0, \"#0d0887\"], [0.1111111111111111, \"#46039f\"], [0.2222222222222222, \"#7201a8\"], [0.3333333333333333, \"#9c179e\"], [0.4444444444444444, \"#bd3786\"], [0.5555555555555556, \"#d8576b\"], [0.6666666666666666, \"#ed7953\"], [0.7777777777777778, \"#fb9f3a\"], [0.8888888888888888, \"#fdca26\"], [1.0, \"#f0f921\"]], \"type\": \"contour\"}], \"contourcarpet\": [{\"colorbar\": {\"outlinewidth\": 0, \"ticks\": \"\"}, \"type\": \"contourcarpet\"}], \"heatmap\": [{\"colorbar\": {\"outlinewidth\": 0, \"ticks\": \"\"}, \"colorscale\": [[0.0, \"#0d0887\"], [0.1111111111111111, \"#46039f\"], [0.2222222222222222, \"#7201a8\"], [0.3333333333333333, \"#9c179e\"], [0.4444444444444444, \"#bd3786\"], [0.5555555555555556, \"#d8576b\"], [0.6666666666666666, \"#ed7953\"], [0.7777777777777778, \"#fb9f3a\"], [0.8888888888888888, \"#fdca26\"], [1.0, \"#f0f921\"]], \"type\": \"heatmap\"}], \"heatmapgl\": [{\"colorbar\": {\"outlinewidth\": 0, \"ticks\": \"\"}, \"colorscale\": [[0.0, \"#0d0887\"], [0.1111111111111111, \"#46039f\"], [0.2222222222222222, \"#7201a8\"], [0.3333333333333333, \"#9c179e\"], [0.4444444444444444, \"#bd3786\"], [0.5555555555555556, \"#d8576b\"], [0.6666666666666666, \"#ed7953\"], [0.7777777777777778, \"#fb9f3a\"], [0.8888888888888888, \"#fdca26\"], [1.0, \"#f0f921\"]], \"type\": \"heatmapgl\"}], \"histogram\": [{\"marker\": {\"colorbar\": {\"outlinewidth\": 0, \"ticks\": \"\"}}, \"type\": \"histogram\"}], \"histogram2d\": [{\"colorbar\": {\"outlinewidth\": 0, \"ticks\": \"\"}, \"colorscale\": [[0.0, \"#0d0887\"], [0.1111111111111111, \"#46039f\"], [0.2222222222222222, \"#7201a8\"], [0.3333333333333333, \"#9c179e\"], [0.4444444444444444, \"#bd3786\"], [0.5555555555555556, \"#d8576b\"], [0.6666666666666666, \"#ed7953\"], [0.7777777777777778, \"#fb9f3a\"], [0.8888888888888888, \"#fdca26\"], [1.0, \"#f0f921\"]], \"type\": \"histogram2d\"}], \"histogram2dcontour\": [{\"colorbar\": {\"outlinewidth\": 0, \"ticks\": \"\"}, \"colorscale\": [[0.0, \"#0d0887\"], [0.1111111111111111, \"#46039f\"], [0.2222222222222222, \"#7201a8\"], [0.3333333333333333, \"#9c179e\"], [0.4444444444444444, \"#bd3786\"], [0.5555555555555556, \"#d8576b\"], [0.6666666666666666, \"#ed7953\"], [0.7777777777777778, \"#fb9f3a\"], [0.8888888888888888, \"#fdca26\"], [1.0, \"#f0f921\"]], \"type\": \"histogram2dcontour\"}], \"mesh3d\": [{\"colorbar\": {\"outlinewidth\": 0, \"ticks\": \"\"}, \"type\": \"mesh3d\"}], \"parcoords\": [{\"line\": {\"colorbar\": {\"outlinewidth\": 0, \"ticks\": \"\"}}, \"type\": \"parcoords\"}], \"pie\": [{\"automargin\": true, \"type\": \"pie\"}], \"scatter\": [{\"marker\": {\"colorbar\": {\"outlinewidth\": 0, \"ticks\": \"\"}}, \"type\": \"scatter\"}], \"scatter3d\": [{\"line\": {\"colorbar\": {\"outlinewidth\": 0, \"ticks\": \"\"}}, \"marker\": {\"colorbar\": {\"outlinewidth\": 0, \"ticks\": \"\"}}, \"type\": \"scatter3d\"}], \"scattercarpet\": [{\"marker\": {\"colorbar\": {\"outlinewidth\": 0, \"ticks\": \"\"}}, \"type\": \"scattercarpet\"}], \"scattergeo\": [{\"marker\": {\"colorbar\": {\"outlinewidth\": 0, \"ticks\": \"\"}}, \"type\": \"scattergeo\"}], \"scattergl\": [{\"marker\": {\"colorbar\": {\"outlinewidth\": 0, \"ticks\": \"\"}}, \"type\": \"scattergl\"}], \"scattermapbox\": [{\"marker\": {\"colorbar\": {\"outlinewidth\": 0, \"ticks\": \"\"}}, \"type\": \"scattermapbox\"}], \"scatterpolar\": [{\"marker\": {\"colorbar\": {\"outlinewidth\": 0, \"ticks\": \"\"}}, \"type\": \"scatterpolar\"}], \"scatterpolargl\": [{\"marker\": {\"colorbar\": {\"outlinewidth\": 0, \"ticks\": \"\"}}, \"type\": \"scatterpolargl\"}], \"scatterternary\": [{\"marker\": {\"colorbar\": {\"outlinewidth\": 0, \"ticks\": \"\"}}, \"type\": \"scatterternary\"}], \"surface\": [{\"colorbar\": {\"outlinewidth\": 0, \"ticks\": \"\"}, \"colorscale\": [[0.0, \"#0d0887\"], [0.1111111111111111, \"#46039f\"], [0.2222222222222222, \"#7201a8\"], [0.3333333333333333, \"#9c179e\"], [0.4444444444444444, \"#bd3786\"], [0.5555555555555556, \"#d8576b\"], [0.6666666666666666, \"#ed7953\"], [0.7777777777777778, \"#fb9f3a\"], [0.8888888888888888, \"#fdca26\"], [1.0, \"#f0f921\"]], \"type\": \"surface\"}], \"table\": [{\"cells\": {\"fill\": {\"color\": \"#EBF0F8\"}, \"line\": {\"color\": \"white\"}}, \"header\": {\"fill\": {\"color\": \"#C8D4E3\"}, \"line\": {\"color\": \"white\"}}, \"type\": \"table\"}]}, \"layout\": {\"annotationdefaults\": {\"arrowcolor\": \"#2a3f5f\", \"arrowhead\": 0, \"arrowwidth\": 1}, \"coloraxis\": {\"colorbar\": {\"outlinewidth\": 0, \"ticks\": \"\"}}, \"colorscale\": {\"diverging\": [[0, \"#8e0152\"], [0.1, \"#c51b7d\"], [0.2, \"#de77ae\"], [0.3, \"#f1b6da\"], [0.4, \"#fde0ef\"], [0.5, \"#f7f7f7\"], [0.6, \"#e6f5d0\"], [0.7, \"#b8e186\"], [0.8, \"#7fbc41\"], [0.9, \"#4d9221\"], [1, \"#276419\"]], \"sequential\": [[0.0, \"#0d0887\"], [0.1111111111111111, \"#46039f\"], [0.2222222222222222, \"#7201a8\"], [0.3333333333333333, \"#9c179e\"], [0.4444444444444444, \"#bd3786\"], [0.5555555555555556, \"#d8576b\"], [0.6666666666666666, \"#ed7953\"], [0.7777777777777778, \"#fb9f3a\"], [0.8888888888888888, \"#fdca26\"], [1.0, \"#f0f921\"]], \"sequentialminus\": [[0.0, \"#0d0887\"], [0.1111111111111111, \"#46039f\"], [0.2222222222222222, \"#7201a8\"], [0.3333333333333333, \"#9c179e\"], [0.4444444444444444, \"#bd3786\"], [0.5555555555555556, \"#d8576b\"], [0.6666666666666666, \"#ed7953\"], [0.7777777777777778, \"#fb9f3a\"], [0.8888888888888888, \"#fdca26\"], [1.0, \"#f0f921\"]]}, \"colorway\": [\"#636efa\", \"#EF553B\", \"#00cc96\", \"#ab63fa\", \"#FFA15A\", \"#19d3f3\", \"#FF6692\", \"#B6E880\", \"#FF97FF\", \"#FECB52\"], \"font\": {\"color\": \"#2a3f5f\"}, \"geo\": {\"bgcolor\": \"white\", \"lakecolor\": \"white\", \"landcolor\": \"#E5ECF6\", \"showlakes\": true, \"showland\": true, \"subunitcolor\": \"white\"}, \"hoverlabel\": {\"align\": \"left\"}, \"hovermode\": \"closest\", \"mapbox\": {\"style\": \"light\"}, \"paper_bgcolor\": \"white\", \"plot_bgcolor\": \"#E5ECF6\", \"polar\": {\"angularaxis\": {\"gridcolor\": \"white\", \"linecolor\": \"white\", \"ticks\": \"\"}, \"bgcolor\": \"#E5ECF6\", \"radialaxis\": {\"gridcolor\": \"white\", \"linecolor\": \"white\", \"ticks\": \"\"}}, \"scene\": {\"xaxis\": {\"backgroundcolor\": \"#E5ECF6\", \"gridcolor\": \"white\", \"gridwidth\": 2, \"linecolor\": \"white\", \"showbackground\": true, \"ticks\": \"\", \"zerolinecolor\": \"white\"}, \"yaxis\": {\"backgroundcolor\": \"#E5ECF6\", \"gridcolor\": \"white\", \"gridwidth\": 2, \"linecolor\": \"white\", \"showbackground\": true, \"ticks\": \"\", \"zerolinecolor\": \"white\"}, \"zaxis\": {\"backgroundcolor\": \"#E5ECF6\", \"gridcolor\": \"white\", \"gridwidth\": 2, \"linecolor\": \"white\", \"showbackground\": true, \"ticks\": \"\", \"zerolinecolor\": \"white\"}}, \"shapedefaults\": {\"line\": {\"color\": \"#2a3f5f\"}}, \"ternary\": {\"aaxis\": {\"gridcolor\": \"white\", \"linecolor\": \"white\", \"ticks\": \"\"}, \"baxis\": {\"gridcolor\": \"white\", \"linecolor\": \"white\", \"ticks\": \"\"}, \"bgcolor\": \"#E5ECF6\", \"caxis\": {\"gridcolor\": \"white\", \"linecolor\": \"white\", \"ticks\": \"\"}}, \"title\": {\"x\": 0.05}, \"xaxis\": {\"automargin\": true, \"gridcolor\": \"white\", \"linecolor\": \"white\", \"ticks\": \"\", \"title\": {\"standoff\": 15}, \"zerolinecolor\": \"white\", \"zerolinewidth\": 2}, \"yaxis\": {\"automargin\": true, \"gridcolor\": \"white\", \"linecolor\": \"white\", \"ticks\": \"\", \"title\": {\"standoff\": 15}, \"zerolinecolor\": \"white\", \"zerolinewidth\": 2}}}, \"title\": {\"text\": \"Quantidade de Feridos Leves por m\\u00eas em 2020 em cada sexo- Dados reais e previstos\"}},\n",
              "                        {\"responsive\": true}\n",
              "                    ).then(function(){\n",
              "                            \n",
              "var gd = document.getElementById('fe7c1b06-87e7-4279-9200-02f98d72a68c');\n",
              "var x = new MutationObserver(function (mutations, observer) {{\n",
              "        var display = window.getComputedStyle(gd).display;\n",
              "        if (!display || display === 'none') {{\n",
              "            console.log([gd, 'removed!']);\n",
              "            Plotly.purge(gd);\n",
              "            observer.disconnect();\n",
              "        }}\n",
              "}});\n",
              "\n",
              "// Listen for the removal of the full notebook cells\n",
              "var notebookContainer = gd.closest('#notebook-container');\n",
              "if (notebookContainer) {{\n",
              "    x.observe(notebookContainer, {childList: true});\n",
              "}}\n",
              "\n",
              "// Listen for the clearing of the current output cell\n",
              "var outputEl = gd.closest('.output');\n",
              "if (outputEl) {{\n",
              "    x.observe(outputEl, {childList: true});\n",
              "}}\n",
              "\n",
              "                        })\n",
              "                };\n",
              "                \n",
              "            </script>\n",
              "        </div>\n",
              "</body>\n",
              "</html>"
            ]
          },
          "metadata": {
            "tags": []
          }
        }
      ]
    },
    {
      "cell_type": "markdown",
      "metadata": {
        "id": "efDLaxOOtfxb"
      },
      "source": [
        "###### Quatidade de Feridos Graves"
      ]
    },
    {
      "cell_type": "code",
      "metadata": {
        "id": "62ztALT-tfxb",
        "outputId": "582fd397-f533-411f-c7da-71be9765eb2c",
        "colab": {
          "base_uri": "https://localhost:8080/"
        }
      },
      "source": [
        "data_plot = cria_data_plot('qtd_feridos_graves')\n",
        "fig = go.Figure(data=data_plot)\n",
        "fig.update_layout(title_text='Quantidade de Graves Leves por mês em 2020 em cada sexo- Dados reais e previstos')\n",
        "fig.show()"
      ],
      "execution_count": null,
      "outputs": [
        {
          "output_type": "stream",
          "text": [
            "/usr/local/lib/python3.6/dist-packages/plotly/graph_objs/_deprecations.py:385: DeprecationWarning:\n",
            "\n",
            "plotly.graph_objs.Line is deprecated.\n",
            "Please replace it with one of the following more specific types\n",
            "  - plotly.graph_objs.scatter.Line\n",
            "  - plotly.graph_objs.layout.shape.Line\n",
            "  - etc.\n",
            "\n",
            "\n"
          ],
          "name": "stderr"
        },
        {
          "output_type": "display_data",
          "data": {
            "text/html": [
              "<html>\n",
              "<head><meta charset=\"utf-8\" /></head>\n",
              "<body>\n",
              "    <div>\n",
              "            <script src=\"https://cdnjs.cloudflare.com/ajax/libs/mathjax/2.7.5/MathJax.js?config=TeX-AMS-MML_SVG\"></script><script type=\"text/javascript\">if (window.MathJax) {MathJax.Hub.Config({SVG: {font: \"STIX-Web\"}});}</script>\n",
              "                <script type=\"text/javascript\">window.PlotlyConfig = {MathJaxConfig: 'local'};</script>\n",
              "        <script src=\"https://cdn.plot.ly/plotly-latest.min.js\"></script>    \n",
              "            <div id=\"d56c3ff9-b444-4e92-8b15-c8f943b232c3\" class=\"plotly-graph-div\" style=\"height:525px; width:100%;\"></div>\n",
              "            <script type=\"text/javascript\">\n",
              "                \n",
              "                    window.PLOTLYENV=window.PLOTLYENV || {};\n",
              "                    \n",
              "                if (document.getElementById(\"d56c3ff9-b444-4e92-8b15-c8f943b232c3\")) {\n",
              "                    Plotly.newPlot(\n",
              "                        'd56c3ff9-b444-4e92-8b15-c8f943b232c3',\n",
              "                        [{\"name\": \"Feminino- Real\", \"type\": \"scatter\", \"x\": [1, 2, 3, 4, 5, 6, 7], \"y\": [424.0, 374.0, 251.0, 210.0, 236.0, 227.0, 247.0]}, {\"name\": \"Masculino- Real\", \"type\": \"scatter\", \"x\": [1, 2, 3, 4, 5, 6, 7], \"y\": [1083.0, 1090.0, 955.0, 775.0, 922.0, 979.0, 1000.0]}, {\"name\": \"N\\u00e3o Informado- Real\", \"type\": \"scatter\", \"x\": [1, 2, 3, 4, 5, 6, 7], \"y\": [1.0, 0.0, 0.0, 0.0, 0.0, 0.0, 0.0]}, {\"name\": \"Feminino- Previsto\", \"type\": \"scatter\", \"x\": [7, 8, 9, 10, 11, 12], \"y\": [248.0, 246.86, 247.29, 252.06, 251.47, 296.24]}, {\"name\": \"Masculino- Previsto\", \"type\": \"scatter\", \"x\": [7, 8, 9, 10, 11, 12], \"y\": [991.18, 989.82, 994.64, 998.39, 1000.11, 1027.07]}, {\"name\": \"N\\u00e3o Informado- Previsto\", \"type\": \"scatter\", \"x\": [7, 8, 9, 10, 11, 12], \"y\": [0.03, 0.13, 0.05, 0.08, 0.02, 1.18]}],\n",
              "                        {\"template\": {\"data\": {\"bar\": [{\"error_x\": {\"color\": \"#2a3f5f\"}, \"error_y\": {\"color\": \"#2a3f5f\"}, \"marker\": {\"line\": {\"color\": \"#E5ECF6\", \"width\": 0.5}}, \"type\": \"bar\"}], \"barpolar\": [{\"marker\": {\"line\": {\"color\": \"#E5ECF6\", \"width\": 0.5}}, \"type\": \"barpolar\"}], \"carpet\": [{\"aaxis\": {\"endlinecolor\": \"#2a3f5f\", \"gridcolor\": \"white\", \"linecolor\": \"white\", \"minorgridcolor\": \"white\", \"startlinecolor\": \"#2a3f5f\"}, \"baxis\": {\"endlinecolor\": \"#2a3f5f\", \"gridcolor\": \"white\", \"linecolor\": \"white\", \"minorgridcolor\": \"white\", \"startlinecolor\": \"#2a3f5f\"}, \"type\": \"carpet\"}], \"choropleth\": [{\"colorbar\": {\"outlinewidth\": 0, \"ticks\": \"\"}, \"type\": \"choropleth\"}], \"contour\": [{\"colorbar\": {\"outlinewidth\": 0, \"ticks\": \"\"}, \"colorscale\": [[0.0, \"#0d0887\"], [0.1111111111111111, \"#46039f\"], [0.2222222222222222, \"#7201a8\"], [0.3333333333333333, \"#9c179e\"], [0.4444444444444444, \"#bd3786\"], [0.5555555555555556, \"#d8576b\"], [0.6666666666666666, \"#ed7953\"], [0.7777777777777778, \"#fb9f3a\"], [0.8888888888888888, \"#fdca26\"], [1.0, \"#f0f921\"]], \"type\": \"contour\"}], \"contourcarpet\": [{\"colorbar\": {\"outlinewidth\": 0, \"ticks\": \"\"}, \"type\": \"contourcarpet\"}], \"heatmap\": [{\"colorbar\": {\"outlinewidth\": 0, \"ticks\": \"\"}, \"colorscale\": [[0.0, \"#0d0887\"], [0.1111111111111111, \"#46039f\"], [0.2222222222222222, \"#7201a8\"], [0.3333333333333333, \"#9c179e\"], [0.4444444444444444, \"#bd3786\"], [0.5555555555555556, \"#d8576b\"], [0.6666666666666666, \"#ed7953\"], [0.7777777777777778, \"#fb9f3a\"], [0.8888888888888888, \"#fdca26\"], [1.0, \"#f0f921\"]], \"type\": \"heatmap\"}], \"heatmapgl\": [{\"colorbar\": {\"outlinewidth\": 0, \"ticks\": \"\"}, \"colorscale\": [[0.0, \"#0d0887\"], [0.1111111111111111, \"#46039f\"], [0.2222222222222222, \"#7201a8\"], [0.3333333333333333, \"#9c179e\"], [0.4444444444444444, \"#bd3786\"], [0.5555555555555556, \"#d8576b\"], [0.6666666666666666, \"#ed7953\"], [0.7777777777777778, \"#fb9f3a\"], [0.8888888888888888, \"#fdca26\"], [1.0, \"#f0f921\"]], \"type\": \"heatmapgl\"}], \"histogram\": [{\"marker\": {\"colorbar\": {\"outlinewidth\": 0, \"ticks\": \"\"}}, \"type\": \"histogram\"}], \"histogram2d\": [{\"colorbar\": {\"outlinewidth\": 0, \"ticks\": \"\"}, \"colorscale\": [[0.0, \"#0d0887\"], [0.1111111111111111, \"#46039f\"], [0.2222222222222222, \"#7201a8\"], [0.3333333333333333, \"#9c179e\"], [0.4444444444444444, \"#bd3786\"], [0.5555555555555556, \"#d8576b\"], [0.6666666666666666, \"#ed7953\"], [0.7777777777777778, \"#fb9f3a\"], [0.8888888888888888, \"#fdca26\"], [1.0, \"#f0f921\"]], \"type\": \"histogram2d\"}], \"histogram2dcontour\": [{\"colorbar\": {\"outlinewidth\": 0, \"ticks\": \"\"}, \"colorscale\": [[0.0, \"#0d0887\"], [0.1111111111111111, \"#46039f\"], [0.2222222222222222, \"#7201a8\"], [0.3333333333333333, \"#9c179e\"], [0.4444444444444444, \"#bd3786\"], [0.5555555555555556, \"#d8576b\"], [0.6666666666666666, \"#ed7953\"], [0.7777777777777778, \"#fb9f3a\"], [0.8888888888888888, \"#fdca26\"], [1.0, \"#f0f921\"]], \"type\": \"histogram2dcontour\"}], \"mesh3d\": [{\"colorbar\": {\"outlinewidth\": 0, \"ticks\": \"\"}, \"type\": \"mesh3d\"}], \"parcoords\": [{\"line\": {\"colorbar\": {\"outlinewidth\": 0, \"ticks\": \"\"}}, \"type\": \"parcoords\"}], \"pie\": [{\"automargin\": true, \"type\": \"pie\"}], \"scatter\": [{\"marker\": {\"colorbar\": {\"outlinewidth\": 0, \"ticks\": \"\"}}, \"type\": \"scatter\"}], \"scatter3d\": [{\"line\": {\"colorbar\": {\"outlinewidth\": 0, \"ticks\": \"\"}}, \"marker\": {\"colorbar\": {\"outlinewidth\": 0, \"ticks\": \"\"}}, \"type\": \"scatter3d\"}], \"scattercarpet\": [{\"marker\": {\"colorbar\": {\"outlinewidth\": 0, \"ticks\": \"\"}}, \"type\": \"scattercarpet\"}], \"scattergeo\": [{\"marker\": {\"colorbar\": {\"outlinewidth\": 0, \"ticks\": \"\"}}, \"type\": \"scattergeo\"}], \"scattergl\": [{\"marker\": {\"colorbar\": {\"outlinewidth\": 0, \"ticks\": \"\"}}, \"type\": \"scattergl\"}], \"scattermapbox\": [{\"marker\": {\"colorbar\": {\"outlinewidth\": 0, \"ticks\": \"\"}}, \"type\": \"scattermapbox\"}], \"scatterpolar\": [{\"marker\": {\"colorbar\": {\"outlinewidth\": 0, \"ticks\": \"\"}}, \"type\": \"scatterpolar\"}], \"scatterpolargl\": [{\"marker\": {\"colorbar\": {\"outlinewidth\": 0, \"ticks\": \"\"}}, \"type\": \"scatterpolargl\"}], \"scatterternary\": [{\"marker\": {\"colorbar\": {\"outlinewidth\": 0, \"ticks\": \"\"}}, \"type\": \"scatterternary\"}], \"surface\": [{\"colorbar\": {\"outlinewidth\": 0, \"ticks\": \"\"}, \"colorscale\": [[0.0, \"#0d0887\"], [0.1111111111111111, \"#46039f\"], [0.2222222222222222, \"#7201a8\"], [0.3333333333333333, \"#9c179e\"], [0.4444444444444444, \"#bd3786\"], [0.5555555555555556, \"#d8576b\"], [0.6666666666666666, \"#ed7953\"], [0.7777777777777778, \"#fb9f3a\"], [0.8888888888888888, \"#fdca26\"], [1.0, \"#f0f921\"]], \"type\": \"surface\"}], \"table\": [{\"cells\": {\"fill\": {\"color\": \"#EBF0F8\"}, \"line\": {\"color\": \"white\"}}, \"header\": {\"fill\": {\"color\": \"#C8D4E3\"}, \"line\": {\"color\": \"white\"}}, \"type\": \"table\"}]}, \"layout\": {\"annotationdefaults\": {\"arrowcolor\": \"#2a3f5f\", \"arrowhead\": 0, \"arrowwidth\": 1}, \"coloraxis\": {\"colorbar\": {\"outlinewidth\": 0, \"ticks\": \"\"}}, \"colorscale\": {\"diverging\": [[0, \"#8e0152\"], [0.1, \"#c51b7d\"], [0.2, \"#de77ae\"], [0.3, \"#f1b6da\"], [0.4, \"#fde0ef\"], [0.5, \"#f7f7f7\"], [0.6, \"#e6f5d0\"], [0.7, \"#b8e186\"], [0.8, \"#7fbc41\"], [0.9, \"#4d9221\"], [1, \"#276419\"]], \"sequential\": [[0.0, \"#0d0887\"], [0.1111111111111111, \"#46039f\"], [0.2222222222222222, \"#7201a8\"], [0.3333333333333333, \"#9c179e\"], [0.4444444444444444, \"#bd3786\"], [0.5555555555555556, \"#d8576b\"], [0.6666666666666666, \"#ed7953\"], [0.7777777777777778, \"#fb9f3a\"], [0.8888888888888888, \"#fdca26\"], [1.0, \"#f0f921\"]], \"sequentialminus\": [[0.0, \"#0d0887\"], [0.1111111111111111, \"#46039f\"], [0.2222222222222222, \"#7201a8\"], [0.3333333333333333, \"#9c179e\"], [0.4444444444444444, \"#bd3786\"], [0.5555555555555556, \"#d8576b\"], [0.6666666666666666, \"#ed7953\"], [0.7777777777777778, \"#fb9f3a\"], [0.8888888888888888, \"#fdca26\"], [1.0, \"#f0f921\"]]}, \"colorway\": [\"#636efa\", \"#EF553B\", \"#00cc96\", \"#ab63fa\", \"#FFA15A\", \"#19d3f3\", \"#FF6692\", \"#B6E880\", \"#FF97FF\", \"#FECB52\"], \"font\": {\"color\": \"#2a3f5f\"}, \"geo\": {\"bgcolor\": \"white\", \"lakecolor\": \"white\", \"landcolor\": \"#E5ECF6\", \"showlakes\": true, \"showland\": true, \"subunitcolor\": \"white\"}, \"hoverlabel\": {\"align\": \"left\"}, \"hovermode\": \"closest\", \"mapbox\": {\"style\": \"light\"}, \"paper_bgcolor\": \"white\", \"plot_bgcolor\": \"#E5ECF6\", \"polar\": {\"angularaxis\": {\"gridcolor\": \"white\", \"linecolor\": \"white\", \"ticks\": \"\"}, \"bgcolor\": \"#E5ECF6\", \"radialaxis\": {\"gridcolor\": \"white\", \"linecolor\": \"white\", \"ticks\": \"\"}}, \"scene\": {\"xaxis\": {\"backgroundcolor\": \"#E5ECF6\", \"gridcolor\": \"white\", \"gridwidth\": 2, \"linecolor\": \"white\", \"showbackground\": true, \"ticks\": \"\", \"zerolinecolor\": \"white\"}, \"yaxis\": {\"backgroundcolor\": \"#E5ECF6\", \"gridcolor\": \"white\", \"gridwidth\": 2, \"linecolor\": \"white\", \"showbackground\": true, \"ticks\": \"\", \"zerolinecolor\": \"white\"}, \"zaxis\": {\"backgroundcolor\": \"#E5ECF6\", \"gridcolor\": \"white\", \"gridwidth\": 2, \"linecolor\": \"white\", \"showbackground\": true, \"ticks\": \"\", \"zerolinecolor\": \"white\"}}, \"shapedefaults\": {\"line\": {\"color\": \"#2a3f5f\"}}, \"ternary\": {\"aaxis\": {\"gridcolor\": \"white\", \"linecolor\": \"white\", \"ticks\": \"\"}, \"baxis\": {\"gridcolor\": \"white\", \"linecolor\": \"white\", \"ticks\": \"\"}, \"bgcolor\": \"#E5ECF6\", \"caxis\": {\"gridcolor\": \"white\", \"linecolor\": \"white\", \"ticks\": \"\"}}, \"title\": {\"x\": 0.05}, \"xaxis\": {\"automargin\": true, \"gridcolor\": \"white\", \"linecolor\": \"white\", \"ticks\": \"\", \"title\": {\"standoff\": 15}, \"zerolinecolor\": \"white\", \"zerolinewidth\": 2}, \"yaxis\": {\"automargin\": true, \"gridcolor\": \"white\", \"linecolor\": \"white\", \"ticks\": \"\", \"title\": {\"standoff\": 15}, \"zerolinecolor\": \"white\", \"zerolinewidth\": 2}}}, \"title\": {\"text\": \"Quantidade de Graves Leves por m\\u00eas em 2020 em cada sexo- Dados reais e previstos\"}},\n",
              "                        {\"responsive\": true}\n",
              "                    ).then(function(){\n",
              "                            \n",
              "var gd = document.getElementById('d56c3ff9-b444-4e92-8b15-c8f943b232c3');\n",
              "var x = new MutationObserver(function (mutations, observer) {{\n",
              "        var display = window.getComputedStyle(gd).display;\n",
              "        if (!display || display === 'none') {{\n",
              "            console.log([gd, 'removed!']);\n",
              "            Plotly.purge(gd);\n",
              "            observer.disconnect();\n",
              "        }}\n",
              "}});\n",
              "\n",
              "// Listen for the removal of the full notebook cells\n",
              "var notebookContainer = gd.closest('#notebook-container');\n",
              "if (notebookContainer) {{\n",
              "    x.observe(notebookContainer, {childList: true});\n",
              "}}\n",
              "\n",
              "// Listen for the clearing of the current output cell\n",
              "var outputEl = gd.closest('.output');\n",
              "if (outputEl) {{\n",
              "    x.observe(outputEl, {childList: true});\n",
              "}}\n",
              "\n",
              "                        })\n",
              "                };\n",
              "                \n",
              "            </script>\n",
              "        </div>\n",
              "</body>\n",
              "</html>"
            ]
          },
          "metadata": {
            "tags": []
          }
        }
      ]
    },
    {
      "cell_type": "markdown",
      "metadata": {
        "id": "tqjyhFWFtfxe"
      },
      "source": [
        "###### Quatidade de Mortos"
      ]
    },
    {
      "cell_type": "code",
      "metadata": {
        "id": "qo0uwmcGtfxe",
        "outputId": "8e3f0366-6c33-4a18-b724-81709dfbf05b",
        "colab": {
          "base_uri": "https://localhost:8080/"
        }
      },
      "source": [
        "data_plot = cria_data_plot('qtd_mortos')\n",
        "fig = go.Figure(data=data_plot)\n",
        "fig.update_layout(title_text='Quantidade de Mortos Leves por mês em 2020 em cada sexo- Dados reais e previstos')\n",
        "fig.show()"
      ],
      "execution_count": null,
      "outputs": [
        {
          "output_type": "stream",
          "text": [
            "/usr/local/lib/python3.6/dist-packages/plotly/graph_objs/_deprecations.py:385: DeprecationWarning:\n",
            "\n",
            "plotly.graph_objs.Line is deprecated.\n",
            "Please replace it with one of the following more specific types\n",
            "  - plotly.graph_objs.scatter.Line\n",
            "  - plotly.graph_objs.layout.shape.Line\n",
            "  - etc.\n",
            "\n",
            "\n"
          ],
          "name": "stderr"
        },
        {
          "output_type": "display_data",
          "data": {
            "text/html": [
              "<html>\n",
              "<head><meta charset=\"utf-8\" /></head>\n",
              "<body>\n",
              "    <div>\n",
              "            <script src=\"https://cdnjs.cloudflare.com/ajax/libs/mathjax/2.7.5/MathJax.js?config=TeX-AMS-MML_SVG\"></script><script type=\"text/javascript\">if (window.MathJax) {MathJax.Hub.Config({SVG: {font: \"STIX-Web\"}});}</script>\n",
              "                <script type=\"text/javascript\">window.PlotlyConfig = {MathJaxConfig: 'local'};</script>\n",
              "        <script src=\"https://cdn.plot.ly/plotly-latest.min.js\"></script>    \n",
              "            <div id=\"3ffb6742-2d29-40d4-844f-ab5bfe26d5d3\" class=\"plotly-graph-div\" style=\"height:525px; width:100%;\"></div>\n",
              "            <script type=\"text/javascript\">\n",
              "                \n",
              "                    window.PLOTLYENV=window.PLOTLYENV || {};\n",
              "                    \n",
              "                if (document.getElementById(\"3ffb6742-2d29-40d4-844f-ab5bfe26d5d3\")) {\n",
              "                    Plotly.newPlot(\n",
              "                        '3ffb6742-2d29-40d4-844f-ab5bfe26d5d3',\n",
              "                        [{\"name\": \"Feminino- Real\", \"type\": \"scatter\", \"x\": [1, 2, 3, 4, 5, 6, 7], \"y\": [101.0, 70.0, 60.0, 62.0, 62.0, 51.0, 63.0]}, {\"name\": \"Masculino- Real\", \"type\": \"scatter\", \"x\": [1, 2, 3, 4, 5, 6, 7], \"y\": [309.0, 316.0, 329.0, 291.0, 323.0, 302.0, 389.0]}, {\"name\": \"N\\u00e3o Informado- Real\", \"type\": \"scatter\", \"x\": [1, 2, 3, 4, 5, 6, 7], \"y\": [0.0, 0.0, 0.0, 1.0, 1.0, 3.0, 1.0]}, {\"name\": \"Feminino- Previsto\", \"type\": \"scatter\", \"x\": [7, 8, 9, 10, 11, 12], \"y\": [60.85, 60.73, 61.21, 61.87, 61.43, 71.98]}, {\"name\": \"Masculino- Previsto\", \"type\": \"scatter\", \"x\": [7, 8, 9, 10, 11, 12], \"y\": [362.16, 361.61, 360.83, 359.1, 359.42, 363.05]}, {\"name\": \"N\\u00e3o Informado- Previsto\", \"type\": \"scatter\", \"x\": [7, 8, 9, 10, 11, 12], \"y\": [1.4, 1.42, 1.26, 0.98, 0.93, 1.31]}],\n",
              "                        {\"template\": {\"data\": {\"bar\": [{\"error_x\": {\"color\": \"#2a3f5f\"}, \"error_y\": {\"color\": \"#2a3f5f\"}, \"marker\": {\"line\": {\"color\": \"#E5ECF6\", \"width\": 0.5}}, \"type\": \"bar\"}], \"barpolar\": [{\"marker\": {\"line\": {\"color\": \"#E5ECF6\", \"width\": 0.5}}, \"type\": \"barpolar\"}], \"carpet\": [{\"aaxis\": {\"endlinecolor\": \"#2a3f5f\", \"gridcolor\": \"white\", \"linecolor\": \"white\", \"minorgridcolor\": \"white\", \"startlinecolor\": \"#2a3f5f\"}, \"baxis\": {\"endlinecolor\": \"#2a3f5f\", \"gridcolor\": \"white\", \"linecolor\": \"white\", \"minorgridcolor\": \"white\", \"startlinecolor\": \"#2a3f5f\"}, \"type\": \"carpet\"}], \"choropleth\": [{\"colorbar\": {\"outlinewidth\": 0, \"ticks\": \"\"}, \"type\": \"choropleth\"}], \"contour\": [{\"colorbar\": {\"outlinewidth\": 0, \"ticks\": \"\"}, \"colorscale\": [[0.0, \"#0d0887\"], [0.1111111111111111, \"#46039f\"], [0.2222222222222222, \"#7201a8\"], [0.3333333333333333, \"#9c179e\"], [0.4444444444444444, \"#bd3786\"], [0.5555555555555556, \"#d8576b\"], [0.6666666666666666, \"#ed7953\"], [0.7777777777777778, \"#fb9f3a\"], [0.8888888888888888, \"#fdca26\"], [1.0, \"#f0f921\"]], \"type\": \"contour\"}], \"contourcarpet\": [{\"colorbar\": {\"outlinewidth\": 0, \"ticks\": \"\"}, \"type\": \"contourcarpet\"}], \"heatmap\": [{\"colorbar\": {\"outlinewidth\": 0, \"ticks\": \"\"}, \"colorscale\": [[0.0, \"#0d0887\"], [0.1111111111111111, \"#46039f\"], [0.2222222222222222, \"#7201a8\"], [0.3333333333333333, \"#9c179e\"], [0.4444444444444444, \"#bd3786\"], [0.5555555555555556, \"#d8576b\"], [0.6666666666666666, \"#ed7953\"], [0.7777777777777778, \"#fb9f3a\"], [0.8888888888888888, \"#fdca26\"], [1.0, \"#f0f921\"]], \"type\": \"heatmap\"}], \"heatmapgl\": [{\"colorbar\": {\"outlinewidth\": 0, \"ticks\": \"\"}, \"colorscale\": [[0.0, \"#0d0887\"], [0.1111111111111111, \"#46039f\"], [0.2222222222222222, \"#7201a8\"], [0.3333333333333333, \"#9c179e\"], [0.4444444444444444, \"#bd3786\"], [0.5555555555555556, \"#d8576b\"], [0.6666666666666666, \"#ed7953\"], [0.7777777777777778, \"#fb9f3a\"], [0.8888888888888888, \"#fdca26\"], [1.0, \"#f0f921\"]], \"type\": \"heatmapgl\"}], \"histogram\": [{\"marker\": {\"colorbar\": {\"outlinewidth\": 0, \"ticks\": \"\"}}, \"type\": \"histogram\"}], \"histogram2d\": [{\"colorbar\": {\"outlinewidth\": 0, \"ticks\": \"\"}, \"colorscale\": [[0.0, \"#0d0887\"], [0.1111111111111111, \"#46039f\"], [0.2222222222222222, \"#7201a8\"], [0.3333333333333333, \"#9c179e\"], [0.4444444444444444, \"#bd3786\"], [0.5555555555555556, \"#d8576b\"], [0.6666666666666666, \"#ed7953\"], [0.7777777777777778, \"#fb9f3a\"], [0.8888888888888888, \"#fdca26\"], [1.0, \"#f0f921\"]], \"type\": \"histogram2d\"}], \"histogram2dcontour\": [{\"colorbar\": {\"outlinewidth\": 0, \"ticks\": \"\"}, \"colorscale\": [[0.0, \"#0d0887\"], [0.1111111111111111, \"#46039f\"], [0.2222222222222222, \"#7201a8\"], [0.3333333333333333, \"#9c179e\"], [0.4444444444444444, \"#bd3786\"], [0.5555555555555556, \"#d8576b\"], [0.6666666666666666, \"#ed7953\"], [0.7777777777777778, \"#fb9f3a\"], [0.8888888888888888, \"#fdca26\"], [1.0, \"#f0f921\"]], \"type\": \"histogram2dcontour\"}], \"mesh3d\": [{\"colorbar\": {\"outlinewidth\": 0, \"ticks\": \"\"}, \"type\": \"mesh3d\"}], \"parcoords\": [{\"line\": {\"colorbar\": {\"outlinewidth\": 0, \"ticks\": \"\"}}, \"type\": \"parcoords\"}], \"pie\": [{\"automargin\": true, \"type\": \"pie\"}], \"scatter\": [{\"marker\": {\"colorbar\": {\"outlinewidth\": 0, \"ticks\": \"\"}}, \"type\": \"scatter\"}], \"scatter3d\": [{\"line\": {\"colorbar\": {\"outlinewidth\": 0, \"ticks\": \"\"}}, \"marker\": {\"colorbar\": {\"outlinewidth\": 0, \"ticks\": \"\"}}, \"type\": \"scatter3d\"}], \"scattercarpet\": [{\"marker\": {\"colorbar\": {\"outlinewidth\": 0, \"ticks\": \"\"}}, \"type\": \"scattercarpet\"}], \"scattergeo\": [{\"marker\": {\"colorbar\": {\"outlinewidth\": 0, \"ticks\": \"\"}}, \"type\": \"scattergeo\"}], \"scattergl\": [{\"marker\": {\"colorbar\": {\"outlinewidth\": 0, \"ticks\": \"\"}}, \"type\": \"scattergl\"}], \"scattermapbox\": [{\"marker\": {\"colorbar\": {\"outlinewidth\": 0, \"ticks\": \"\"}}, \"type\": \"scattermapbox\"}], \"scatterpolar\": [{\"marker\": {\"colorbar\": {\"outlinewidth\": 0, \"ticks\": \"\"}}, \"type\": \"scatterpolar\"}], \"scatterpolargl\": [{\"marker\": {\"colorbar\": {\"outlinewidth\": 0, \"ticks\": \"\"}}, \"type\": \"scatterpolargl\"}], \"scatterternary\": [{\"marker\": {\"colorbar\": {\"outlinewidth\": 0, \"ticks\": \"\"}}, \"type\": \"scatterternary\"}], \"surface\": [{\"colorbar\": {\"outlinewidth\": 0, \"ticks\": \"\"}, \"colorscale\": [[0.0, \"#0d0887\"], [0.1111111111111111, \"#46039f\"], [0.2222222222222222, \"#7201a8\"], [0.3333333333333333, \"#9c179e\"], [0.4444444444444444, \"#bd3786\"], [0.5555555555555556, \"#d8576b\"], [0.6666666666666666, \"#ed7953\"], [0.7777777777777778, \"#fb9f3a\"], [0.8888888888888888, \"#fdca26\"], [1.0, \"#f0f921\"]], \"type\": \"surface\"}], \"table\": [{\"cells\": {\"fill\": {\"color\": \"#EBF0F8\"}, \"line\": {\"color\": \"white\"}}, \"header\": {\"fill\": {\"color\": \"#C8D4E3\"}, \"line\": {\"color\": \"white\"}}, \"type\": \"table\"}]}, \"layout\": {\"annotationdefaults\": {\"arrowcolor\": \"#2a3f5f\", \"arrowhead\": 0, \"arrowwidth\": 1}, \"coloraxis\": {\"colorbar\": {\"outlinewidth\": 0, \"ticks\": \"\"}}, \"colorscale\": {\"diverging\": [[0, \"#8e0152\"], [0.1, \"#c51b7d\"], [0.2, \"#de77ae\"], [0.3, \"#f1b6da\"], [0.4, \"#fde0ef\"], [0.5, \"#f7f7f7\"], [0.6, \"#e6f5d0\"], [0.7, \"#b8e186\"], [0.8, \"#7fbc41\"], [0.9, \"#4d9221\"], [1, \"#276419\"]], \"sequential\": [[0.0, \"#0d0887\"], [0.1111111111111111, \"#46039f\"], [0.2222222222222222, \"#7201a8\"], [0.3333333333333333, \"#9c179e\"], [0.4444444444444444, \"#bd3786\"], [0.5555555555555556, \"#d8576b\"], [0.6666666666666666, \"#ed7953\"], [0.7777777777777778, \"#fb9f3a\"], [0.8888888888888888, \"#fdca26\"], [1.0, \"#f0f921\"]], \"sequentialminus\": [[0.0, \"#0d0887\"], [0.1111111111111111, \"#46039f\"], [0.2222222222222222, \"#7201a8\"], [0.3333333333333333, \"#9c179e\"], [0.4444444444444444, \"#bd3786\"], [0.5555555555555556, \"#d8576b\"], [0.6666666666666666, \"#ed7953\"], [0.7777777777777778, \"#fb9f3a\"], [0.8888888888888888, \"#fdca26\"], [1.0, \"#f0f921\"]]}, \"colorway\": [\"#636efa\", \"#EF553B\", \"#00cc96\", \"#ab63fa\", \"#FFA15A\", \"#19d3f3\", \"#FF6692\", \"#B6E880\", \"#FF97FF\", \"#FECB52\"], \"font\": {\"color\": \"#2a3f5f\"}, \"geo\": {\"bgcolor\": \"white\", \"lakecolor\": \"white\", \"landcolor\": \"#E5ECF6\", \"showlakes\": true, \"showland\": true, \"subunitcolor\": \"white\"}, \"hoverlabel\": {\"align\": \"left\"}, \"hovermode\": \"closest\", \"mapbox\": {\"style\": \"light\"}, \"paper_bgcolor\": \"white\", \"plot_bgcolor\": \"#E5ECF6\", \"polar\": {\"angularaxis\": {\"gridcolor\": \"white\", \"linecolor\": \"white\", \"ticks\": \"\"}, \"bgcolor\": \"#E5ECF6\", \"radialaxis\": {\"gridcolor\": \"white\", \"linecolor\": \"white\", \"ticks\": \"\"}}, \"scene\": {\"xaxis\": {\"backgroundcolor\": \"#E5ECF6\", \"gridcolor\": \"white\", \"gridwidth\": 2, \"linecolor\": \"white\", \"showbackground\": true, \"ticks\": \"\", \"zerolinecolor\": \"white\"}, \"yaxis\": {\"backgroundcolor\": \"#E5ECF6\", \"gridcolor\": \"white\", \"gridwidth\": 2, \"linecolor\": \"white\", \"showbackground\": true, \"ticks\": \"\", \"zerolinecolor\": \"white\"}, \"zaxis\": {\"backgroundcolor\": \"#E5ECF6\", \"gridcolor\": \"white\", \"gridwidth\": 2, \"linecolor\": \"white\", \"showbackground\": true, \"ticks\": \"\", \"zerolinecolor\": \"white\"}}, \"shapedefaults\": {\"line\": {\"color\": \"#2a3f5f\"}}, \"ternary\": {\"aaxis\": {\"gridcolor\": \"white\", \"linecolor\": \"white\", \"ticks\": \"\"}, \"baxis\": {\"gridcolor\": \"white\", \"linecolor\": \"white\", \"ticks\": \"\"}, \"bgcolor\": \"#E5ECF6\", \"caxis\": {\"gridcolor\": \"white\", \"linecolor\": \"white\", \"ticks\": \"\"}}, \"title\": {\"x\": 0.05}, \"xaxis\": {\"automargin\": true, \"gridcolor\": \"white\", \"linecolor\": \"white\", \"ticks\": \"\", \"title\": {\"standoff\": 15}, \"zerolinecolor\": \"white\", \"zerolinewidth\": 2}, \"yaxis\": {\"automargin\": true, \"gridcolor\": \"white\", \"linecolor\": \"white\", \"ticks\": \"\", \"title\": {\"standoff\": 15}, \"zerolinecolor\": \"white\", \"zerolinewidth\": 2}}}, \"title\": {\"text\": \"Quantidade de Mortos Leves por m\\u00eas em 2020 em cada sexo- Dados reais e previstos\"}},\n",
              "                        {\"responsive\": true}\n",
              "                    ).then(function(){\n",
              "                            \n",
              "var gd = document.getElementById('3ffb6742-2d29-40d4-844f-ab5bfe26d5d3');\n",
              "var x = new MutationObserver(function (mutations, observer) {{\n",
              "        var display = window.getComputedStyle(gd).display;\n",
              "        if (!display || display === 'none') {{\n",
              "            console.log([gd, 'removed!']);\n",
              "            Plotly.purge(gd);\n",
              "            observer.disconnect();\n",
              "        }}\n",
              "}});\n",
              "\n",
              "// Listen for the removal of the full notebook cells\n",
              "var notebookContainer = gd.closest('#notebook-container');\n",
              "if (notebookContainer) {{\n",
              "    x.observe(notebookContainer, {childList: true});\n",
              "}}\n",
              "\n",
              "// Listen for the clearing of the current output cell\n",
              "var outputEl = gd.closest('.output');\n",
              "if (outputEl) {{\n",
              "    x.observe(outputEl, {childList: true});\n",
              "}}\n",
              "\n",
              "                        })\n",
              "                };\n",
              "                \n",
              "            </script>\n",
              "        </div>\n",
              "</body>\n",
              "</html>"
            ]
          },
          "metadata": {
            "tags": []
          }
        }
      ]
    },
    {
      "cell_type": "markdown",
      "metadata": {
        "id": "spu5FZqQrTyD"
      },
      "source": [
        "## **Base Ocorrências**\n",
        "---"
      ]
    },
    {
      "cell_type": "markdown",
      "metadata": {
        "id": "oetEpJgJuRN0"
      },
      "source": [
        "#### **Hipótese 1:**\n",
        "\n",
        "----"
      ]
    },
    {
      "cell_type": "markdown",
      "metadata": {
        "id": "Ir_wHKhywqQ_"
      },
      "source": [
        "- *Iniciei com todos os atributos de entrada e fui retirando*\n",
        "- *Desde o início os resultados foram ruins*\n",
        "- *Fui retirando atributos e os resultados continuaram ruins do mesmo jeito*\n",
        "- *Retirei o atributo 'classificacao_acidente' e piorou mais ainda*\n",
        "- *Então, coloquei ele de volta e retirei o atributo 'municipios' e, finalmente, obtive bons resultados com o* **Árvore de Decisão(68,36%)** *e* **Random Forest(80,33%)**\n",
        "- *Retirei o atributo 'tipo_acidente' e o score de teste do Árvore de Decisão e Random Forest aumentaram para 90,27% e 93,61%  respectivamente.*"
      ]
    },
    {
      "cell_type": "markdown",
      "metadata": {
        "id": "HgU0fuQluRON"
      },
      "source": [
        "##### Agrupamento da base\n",
        "\n",
        "-----"
      ]
    },
    {
      "cell_type": "code",
      "metadata": {
        "id": "49A3ECMsuROQ"
      },
      "source": [
        "x = ['ano', 'mes', 'uf', 'causa_acidente', 'classificacao_acidente']\n",
        "y = ['qt_acidentes', 'qt_pessoas', 'qt_mortos', 'qt_feridos_leves', 'qt_feridos_graves', 'qt_ilesos', 'qt_ignorados', 'qt_feridos', 'qt_veiculos']\n",
        "\n",
        "df = dfOcorrencias\n",
        "df = df.groupby([df['data_inversa'].dt.strftime('%Y'), df['data_inversa'].dt.strftime('%m'), 'uf', 'causa_acidente', 'classificacao_acidente'])\n",
        "df = df.agg({'id': 'count', 'pessoas': 'sum', 'mortos': 'sum', 'feridos_leves': 'sum', 'feridos_graves': 'sum', 'ilesos': 'sum', 'ignorados': 'sum', 'feridos': 'sum', 'veiculos': 'sum'})\n",
        "df.index.names = x\n",
        "df.columns = y\n",
        "df = df.reset_index()"
      ],
      "execution_count": null,
      "outputs": []
    },
    {
      "cell_type": "markdown",
      "metadata": {
        "id": "iJ_cpQy3uROf"
      },
      "source": [
        "##### Tratamento da base\n",
        "\n",
        "----"
      ]
    },
    {
      "cell_type": "code",
      "metadata": {
        "id": "uCSYQOmBuROh"
      },
      "source": [
        "# Label Encoder\n",
        "categoricosOcorrencias = ['uf', 'causa_acidente', 'classificacao_acidente']\n",
        "df_encoded = label_encoder(df.copy(), categoricosOcorrencias)\n",
        "\n",
        "# Hold-Out\n",
        "X = df_encoded[x]\n",
        "Y = df_encoded[y]\n",
        "X_train, X_test, Y_train, Y_test = hold_out(X, Y)"
      ],
      "execution_count": null,
      "outputs": []
    },
    {
      "cell_type": "markdown",
      "metadata": {
        "id": "PAAUITcNuROr"
      },
      "source": [
        "##### Algoritmos de regressão\n",
        "\n",
        "----"
      ]
    },
    {
      "cell_type": "markdown",
      "metadata": {
        "id": "9HsJmwxYuROs"
      },
      "source": [
        "###### Regressão Linear:"
      ]
    },
    {
      "cell_type": "code",
      "metadata": {
        "id": "GN8OiUSMuROw",
        "outputId": "d393f15d-772d-4825-e702-98d01a1ca574",
        "colab": {
          "base_uri": "https://localhost:8080/"
        }
      },
      "source": [
        "sc1_rl, sc2_rl, mae_rl = regressao_linear(X_train, Y_train, X_test, Y_test)"
      ],
      "execution_count": null,
      "outputs": [
        {
          "output_type": "stream",
          "text": [
            "Score Treino:  0.00868414792179301 \n",
            "Score Teste:  0.007472341101122346\n",
            "Erro médio absoluto:  7.676867024083001 \n",
            "\n"
          ],
          "name": "stdout"
        },
        {
          "output_type": "stream",
          "text": [
            "/usr/local/lib/python3.6/dist-packages/sklearn/base.py:434: FutureWarning:\n",
            "\n",
            "The default value of multioutput (not exposed in score method) will change from 'variance_weighted' to 'uniform_average' in 0.23 to keep consistent with 'metrics.r2_score'. To specify the default value manually and avoid the warning, please either call 'metrics.r2_score' directly or make a custom scorer with 'metrics.make_scorer' (the built-in scorer 'r2' uses multioutput='uniform_average').\n",
            "\n",
            "/usr/local/lib/python3.6/dist-packages/sklearn/base.py:434: FutureWarning:\n",
            "\n",
            "The default value of multioutput (not exposed in score method) will change from 'variance_weighted' to 'uniform_average' in 0.23 to keep consistent with 'metrics.r2_score'. To specify the default value manually and avoid the warning, please either call 'metrics.r2_score' directly or make a custom scorer with 'metrics.make_scorer' (the built-in scorer 'r2' uses multioutput='uniform_average').\n",
            "\n"
          ],
          "name": "stderr"
        }
      ]
    },
    {
      "cell_type": "markdown",
      "metadata": {
        "id": "5Ggha1Z2uRO_"
      },
      "source": [
        "###### Regressão Polinomial:"
      ]
    },
    {
      "cell_type": "code",
      "metadata": {
        "id": "cZwsbndRuRPB",
        "outputId": "42f0887c-2287-4c87-d5a7-0b01e3d015ca",
        "colab": {
          "base_uri": "https://localhost:8080/"
        }
      },
      "source": [
        "sc1_rp, sc2_rp, mae_rp = regressao_polinomial(X_train, Y_train, X_test, Y_test)"
      ],
      "execution_count": null,
      "outputs": [
        {
          "output_type": "stream",
          "text": [
            "Score Treino:  0.09132815890509037 \n",
            "Score Teste:  0.08814897914473163\n",
            "Erro médio absoluto:  7.492008871793963 \n",
            "\n"
          ],
          "name": "stdout"
        },
        {
          "output_type": "stream",
          "text": [
            "/usr/local/lib/python3.6/dist-packages/sklearn/base.py:434: FutureWarning:\n",
            "\n",
            "The default value of multioutput (not exposed in score method) will change from 'variance_weighted' to 'uniform_average' in 0.23 to keep consistent with 'metrics.r2_score'. To specify the default value manually and avoid the warning, please either call 'metrics.r2_score' directly or make a custom scorer with 'metrics.make_scorer' (the built-in scorer 'r2' uses multioutput='uniform_average').\n",
            "\n",
            "/usr/local/lib/python3.6/dist-packages/sklearn/base.py:434: FutureWarning:\n",
            "\n",
            "The default value of multioutput (not exposed in score method) will change from 'variance_weighted' to 'uniform_average' in 0.23 to keep consistent with 'metrics.r2_score'. To specify the default value manually and avoid the warning, please either call 'metrics.r2_score' directly or make a custom scorer with 'metrics.make_scorer' (the built-in scorer 'r2' uses multioutput='uniform_average').\n",
            "\n"
          ],
          "name": "stderr"
        }
      ]
    },
    {
      "cell_type": "markdown",
      "metadata": {
        "id": "EzfouwBjuRPJ"
      },
      "source": [
        "###### Regressão com Árvore de Decisão:"
      ]
    },
    {
      "cell_type": "code",
      "metadata": {
        "id": "ROctkySpuRPL",
        "outputId": "943793d8-bd31-4287-ba28-9b46c111f973",
        "colab": {
          "base_uri": "https://localhost:8080/"
        }
      },
      "source": [
        "sc1_ad, sc2_ad, mae_ad = arvore_decisao(X_train, Y_train, X_test, Y_test)"
      ],
      "execution_count": null,
      "outputs": [
        {
          "output_type": "stream",
          "text": [
            "/usr/local/lib/python3.6/dist-packages/sklearn/base.py:434: FutureWarning:\n",
            "\n",
            "The default value of multioutput (not exposed in score method) will change from 'variance_weighted' to 'uniform_average' in 0.23 to keep consistent with 'metrics.r2_score'. To specify the default value manually and avoid the warning, please either call 'metrics.r2_score' directly or make a custom scorer with 'metrics.make_scorer' (the built-in scorer 'r2' uses multioutput='uniform_average').\n",
            "\n",
            "/usr/local/lib/python3.6/dist-packages/sklearn/base.py:434: FutureWarning:\n",
            "\n",
            "The default value of multioutput (not exposed in score method) will change from 'variance_weighted' to 'uniform_average' in 0.23 to keep consistent with 'metrics.r2_score'. To specify the default value manually and avoid the warning, please either call 'metrics.r2_score' directly or make a custom scorer with 'metrics.make_scorer' (the built-in scorer 'r2' uses multioutput='uniform_average').\n",
            "\n"
          ],
          "name": "stderr"
        },
        {
          "output_type": "stream",
          "text": [
            "Score Treino:  1.0 \n",
            "Score Teste:  0.9031143248945399\n",
            "Erro médio absoluto:  2.7703392903392903 \n",
            "\n"
          ],
          "name": "stdout"
        }
      ]
    },
    {
      "cell_type": "markdown",
      "metadata": {
        "id": "RnX2SBW7uRPS"
      },
      "source": [
        "###### Regressão com Random Forest:"
      ]
    },
    {
      "cell_type": "code",
      "metadata": {
        "id": "v0uK6_aXuRPU",
        "outputId": "33d4b04a-daba-4ed1-8e7d-b7cd455b9cd5",
        "colab": {
          "base_uri": "https://localhost:8080/"
        }
      },
      "source": [
        "sc1_rf, sc2_rf, mae_rf = floresta_randomica(X_train, Y_train, X_test, Y_test, n=20)"
      ],
      "execution_count": null,
      "outputs": [
        {
          "output_type": "stream",
          "text": [
            "Score Treino:  0.9904472799471572 \n",
            "Score Teste:  0.93279787014591\n",
            "Erro médio absoluto:  2.3151810411810416 \n",
            "\n"
          ],
          "name": "stdout"
        },
        {
          "output_type": "stream",
          "text": [
            "/usr/local/lib/python3.6/dist-packages/sklearn/base.py:434: FutureWarning:\n",
            "\n",
            "The default value of multioutput (not exposed in score method) will change from 'variance_weighted' to 'uniform_average' in 0.23 to keep consistent with 'metrics.r2_score'. To specify the default value manually and avoid the warning, please either call 'metrics.r2_score' directly or make a custom scorer with 'metrics.make_scorer' (the built-in scorer 'r2' uses multioutput='uniform_average').\n",
            "\n",
            "/usr/local/lib/python3.6/dist-packages/sklearn/base.py:434: FutureWarning:\n",
            "\n",
            "The default value of multioutput (not exposed in score method) will change from 'variance_weighted' to 'uniform_average' in 0.23 to keep consistent with 'metrics.r2_score'. To specify the default value manually and avoid the warning, please either call 'metrics.r2_score' directly or make a custom scorer with 'metrics.make_scorer' (the built-in scorer 'r2' uses multioutput='uniform_average').\n",
            "\n"
          ],
          "name": "stderr"
        }
      ]
    },
    {
      "cell_type": "markdown",
      "metadata": {
        "id": "7WrxnkfVuRPc"
      },
      "source": [
        "###### Regressão com MLP"
      ]
    },
    {
      "cell_type": "code",
      "metadata": {
        "id": "U6SmcXIkuRPd",
        "outputId": "ff34c385-6f87-4c93-db32-d44c9ff5110d",
        "colab": {
          "base_uri": "https://localhost:8080/"
        }
      },
      "source": [
        "sc1_rm, sc2_rm, mae_rm = mlp(X_train, Y_train, X_test, Y_test)"
      ],
      "execution_count": null,
      "outputs": [
        {
          "output_type": "stream",
          "text": [
            "Score Treino:  0.005007016833580339 \n",
            "Score Teste:  0.004059248252637433\n",
            "Erro médio absoluto:  7.709140712447207 \n",
            "\n"
          ],
          "name": "stdout"
        },
        {
          "output_type": "stream",
          "text": [
            "/usr/local/lib/python3.6/dist-packages/sklearn/base.py:434: FutureWarning:\n",
            "\n",
            "The default value of multioutput (not exposed in score method) will change from 'variance_weighted' to 'uniform_average' in 0.23 to keep consistent with 'metrics.r2_score'. To specify the default value manually and avoid the warning, please either call 'metrics.r2_score' directly or make a custom scorer with 'metrics.make_scorer' (the built-in scorer 'r2' uses multioutput='uniform_average').\n",
            "\n",
            "/usr/local/lib/python3.6/dist-packages/sklearn/base.py:434: FutureWarning:\n",
            "\n",
            "The default value of multioutput (not exposed in score method) will change from 'variance_weighted' to 'uniform_average' in 0.23 to keep consistent with 'metrics.r2_score'. To specify the default value manually and avoid the warning, please either call 'metrics.r2_score' directly or make a custom scorer with 'metrics.make_scorer' (the built-in scorer 'r2' uses multioutput='uniform_average').\n",
            "\n"
          ],
          "name": "stderr"
        }
      ]
    },
    {
      "cell_type": "markdown",
      "metadata": {
        "id": "IO-iHpv6uRPl"
      },
      "source": [
        "###### Regressão com K vizinhos"
      ]
    },
    {
      "cell_type": "code",
      "metadata": {
        "id": "hJoDisl5uRPm",
        "outputId": "8300f153-d421-44ed-8107-f255e334fa41",
        "colab": {
          "base_uri": "https://localhost:8080/"
        }
      },
      "source": [
        "sc1_rk, sc2_rk, mae_rk = knr(X_train, Y_train, X_test, Y_test)"
      ],
      "execution_count": null,
      "outputs": [
        {
          "output_type": "stream",
          "text": [
            "/usr/local/lib/python3.6/dist-packages/sklearn/base.py:434: FutureWarning:\n",
            "\n",
            "The default value of multioutput (not exposed in score method) will change from 'variance_weighted' to 'uniform_average' in 0.23 to keep consistent with 'metrics.r2_score'. To specify the default value manually and avoid the warning, please either call 'metrics.r2_score' directly or make a custom scorer with 'metrics.make_scorer' (the built-in scorer 'r2' uses multioutput='uniform_average').\n",
            "\n",
            "/usr/local/lib/python3.6/dist-packages/sklearn/base.py:434: FutureWarning:\n",
            "\n",
            "The default value of multioutput (not exposed in score method) will change from 'variance_weighted' to 'uniform_average' in 0.23 to keep consistent with 'metrics.r2_score'. To specify the default value manually and avoid the warning, please either call 'metrics.r2_score' directly or make a custom scorer with 'metrics.make_scorer' (the built-in scorer 'r2' uses multioutput='uniform_average').\n",
            "\n"
          ],
          "name": "stderr"
        },
        {
          "output_type": "stream",
          "text": [
            "Score Treino:  0.7439914978985005 \n",
            "Score Teste:  0.2794166049500784\n",
            "Erro médio absoluto:  6.008728308728309 \n",
            "\n"
          ],
          "name": "stdout"
        }
      ]
    },
    {
      "cell_type": "markdown",
      "metadata": {
        "id": "3E8SpXCFuRPw"
      },
      "source": [
        "##### Resultados"
      ]
    },
    {
      "cell_type": "code",
      "metadata": {
        "id": "1KmY16JUuRPx"
      },
      "source": [
        "regressores = ['Linear', 'Polinomial', 'Decision Tree', 'Random Forest', 'MLP', 'KNN']\n",
        "scores_treino = [sc1_rl, sc1_rp, sc1_ad, sc1_rf, sc1_rm, sc1_rk]\n",
        "scores_teste = [sc2_rl, sc2_rp, sc2_ad, sc2_rf, sc2_rm, sc2_rk]\n",
        "maes = [mae_rl, mae_rp, mae_ad, mae_rf, mae_rm, mae_rk]"
      ],
      "execution_count": null,
      "outputs": []
    },
    {
      "cell_type": "code",
      "metadata": {
        "id": "fvCGfPZRuRP3",
        "outputId": "5d0099c7-b366-4aa8-d8af-6542c61b6de4",
        "colab": {
          "base_uri": "https://localhost:8080/"
        }
      },
      "source": [
        "plot_scores_bar(regressores, scores_treino, scores_teste, 'Scores do TREINO/TESTE dos regressores na base de ocorências.')"
      ],
      "execution_count": null,
      "outputs": [
        {
          "output_type": "display_data",
          "data": {
            "text/html": [
              "<html>\n",
              "<head><meta charset=\"utf-8\" /></head>\n",
              "<body>\n",
              "    <div>\n",
              "            <script src=\"https://cdnjs.cloudflare.com/ajax/libs/mathjax/2.7.5/MathJax.js?config=TeX-AMS-MML_SVG\"></script><script type=\"text/javascript\">if (window.MathJax) {MathJax.Hub.Config({SVG: {font: \"STIX-Web\"}});}</script>\n",
              "                <script type=\"text/javascript\">window.PlotlyConfig = {MathJaxConfig: 'local'};</script>\n",
              "        <script src=\"https://cdn.plot.ly/plotly-latest.min.js\"></script>    \n",
              "            <div id=\"8f259b79-4ea2-4b28-b06f-ac4ff050ad3e\" class=\"plotly-graph-div\" style=\"height:525px; width:100%;\"></div>\n",
              "            <script type=\"text/javascript\">\n",
              "                \n",
              "                    window.PLOTLYENV=window.PLOTLYENV || {};\n",
              "                    \n",
              "                if (document.getElementById(\"8f259b79-4ea2-4b28-b06f-ac4ff050ad3e\")) {\n",
              "                    Plotly.newPlot(\n",
              "                        '8f259b79-4ea2-4b28-b06f-ac4ff050ad3e',\n",
              "                        [{\"name\": \"Scores de Treino\", \"type\": \"bar\", \"x\": [\"Linear\", \"Polinomial\", \"Decision Tree\", \"Random Forest\", \"MLP\", \"KNN\"], \"y\": [0.00868414792179301, 0.09132815890509037, 1.0, 0.9904472799471572, 0.005007016833580339, 0.7439914978985005]}, {\"name\": \"Scores de Teste\", \"type\": \"bar\", \"x\": [\"Linear\", \"Polinomial\", \"Decision Tree\", \"Random Forest\", \"MLP\", \"KNN\"], \"y\": [0.007472341101122346, 0.08814897914473163, 0.9031143248945399, 0.93279787014591, 0.004059248252637433, 0.2794166049500784]}],\n",
              "                        {\"barmode\": \"group\", \"template\": {\"data\": {\"bar\": [{\"error_x\": {\"color\": \"#2a3f5f\"}, \"error_y\": {\"color\": \"#2a3f5f\"}, \"marker\": {\"line\": {\"color\": \"#E5ECF6\", \"width\": 0.5}}, \"type\": \"bar\"}], \"barpolar\": [{\"marker\": {\"line\": {\"color\": \"#E5ECF6\", \"width\": 0.5}}, \"type\": \"barpolar\"}], \"carpet\": [{\"aaxis\": {\"endlinecolor\": \"#2a3f5f\", \"gridcolor\": \"white\", \"linecolor\": \"white\", \"minorgridcolor\": \"white\", \"startlinecolor\": \"#2a3f5f\"}, \"baxis\": {\"endlinecolor\": \"#2a3f5f\", \"gridcolor\": \"white\", \"linecolor\": \"white\", \"minorgridcolor\": \"white\", \"startlinecolor\": \"#2a3f5f\"}, \"type\": \"carpet\"}], \"choropleth\": [{\"colorbar\": {\"outlinewidth\": 0, \"ticks\": \"\"}, \"type\": \"choropleth\"}], \"contour\": [{\"colorbar\": {\"outlinewidth\": 0, \"ticks\": \"\"}, \"colorscale\": [[0.0, \"#0d0887\"], [0.1111111111111111, \"#46039f\"], [0.2222222222222222, \"#7201a8\"], [0.3333333333333333, \"#9c179e\"], [0.4444444444444444, \"#bd3786\"], [0.5555555555555556, \"#d8576b\"], [0.6666666666666666, \"#ed7953\"], [0.7777777777777778, \"#fb9f3a\"], [0.8888888888888888, \"#fdca26\"], [1.0, \"#f0f921\"]], \"type\": \"contour\"}], \"contourcarpet\": [{\"colorbar\": {\"outlinewidth\": 0, \"ticks\": \"\"}, \"type\": \"contourcarpet\"}], \"heatmap\": [{\"colorbar\": {\"outlinewidth\": 0, \"ticks\": \"\"}, \"colorscale\": [[0.0, \"#0d0887\"], [0.1111111111111111, \"#46039f\"], [0.2222222222222222, \"#7201a8\"], [0.3333333333333333, \"#9c179e\"], [0.4444444444444444, \"#bd3786\"], [0.5555555555555556, \"#d8576b\"], [0.6666666666666666, \"#ed7953\"], [0.7777777777777778, \"#fb9f3a\"], [0.8888888888888888, \"#fdca26\"], [1.0, \"#f0f921\"]], \"type\": \"heatmap\"}], \"heatmapgl\": [{\"colorbar\": {\"outlinewidth\": 0, \"ticks\": \"\"}, \"colorscale\": [[0.0, \"#0d0887\"], [0.1111111111111111, \"#46039f\"], [0.2222222222222222, \"#7201a8\"], [0.3333333333333333, \"#9c179e\"], [0.4444444444444444, \"#bd3786\"], [0.5555555555555556, \"#d8576b\"], [0.6666666666666666, \"#ed7953\"], [0.7777777777777778, \"#fb9f3a\"], [0.8888888888888888, \"#fdca26\"], [1.0, \"#f0f921\"]], \"type\": \"heatmapgl\"}], \"histogram\": [{\"marker\": {\"colorbar\": {\"outlinewidth\": 0, \"ticks\": \"\"}}, \"type\": \"histogram\"}], \"histogram2d\": [{\"colorbar\": {\"outlinewidth\": 0, \"ticks\": \"\"}, \"colorscale\": [[0.0, \"#0d0887\"], [0.1111111111111111, \"#46039f\"], [0.2222222222222222, \"#7201a8\"], [0.3333333333333333, \"#9c179e\"], [0.4444444444444444, \"#bd3786\"], [0.5555555555555556, \"#d8576b\"], [0.6666666666666666, \"#ed7953\"], [0.7777777777777778, \"#fb9f3a\"], [0.8888888888888888, \"#fdca26\"], [1.0, \"#f0f921\"]], \"type\": \"histogram2d\"}], \"histogram2dcontour\": [{\"colorbar\": {\"outlinewidth\": 0, \"ticks\": \"\"}, \"colorscale\": [[0.0, \"#0d0887\"], [0.1111111111111111, \"#46039f\"], [0.2222222222222222, \"#7201a8\"], [0.3333333333333333, \"#9c179e\"], [0.4444444444444444, \"#bd3786\"], [0.5555555555555556, \"#d8576b\"], [0.6666666666666666, \"#ed7953\"], [0.7777777777777778, \"#fb9f3a\"], [0.8888888888888888, \"#fdca26\"], [1.0, \"#f0f921\"]], \"type\": \"histogram2dcontour\"}], \"mesh3d\": [{\"colorbar\": {\"outlinewidth\": 0, \"ticks\": \"\"}, \"type\": \"mesh3d\"}], \"parcoords\": [{\"line\": {\"colorbar\": {\"outlinewidth\": 0, \"ticks\": \"\"}}, \"type\": \"parcoords\"}], \"pie\": [{\"automargin\": true, \"type\": \"pie\"}], \"scatter\": [{\"marker\": {\"colorbar\": {\"outlinewidth\": 0, \"ticks\": \"\"}}, \"type\": \"scatter\"}], \"scatter3d\": [{\"line\": {\"colorbar\": {\"outlinewidth\": 0, \"ticks\": \"\"}}, \"marker\": {\"colorbar\": {\"outlinewidth\": 0, \"ticks\": \"\"}}, \"type\": \"scatter3d\"}], \"scattercarpet\": [{\"marker\": {\"colorbar\": {\"outlinewidth\": 0, \"ticks\": \"\"}}, \"type\": \"scattercarpet\"}], \"scattergeo\": [{\"marker\": {\"colorbar\": {\"outlinewidth\": 0, \"ticks\": \"\"}}, \"type\": \"scattergeo\"}], \"scattergl\": [{\"marker\": {\"colorbar\": {\"outlinewidth\": 0, \"ticks\": \"\"}}, \"type\": \"scattergl\"}], \"scattermapbox\": [{\"marker\": {\"colorbar\": {\"outlinewidth\": 0, \"ticks\": \"\"}}, \"type\": \"scattermapbox\"}], \"scatterpolar\": [{\"marker\": {\"colorbar\": {\"outlinewidth\": 0, \"ticks\": \"\"}}, \"type\": \"scatterpolar\"}], \"scatterpolargl\": [{\"marker\": {\"colorbar\": {\"outlinewidth\": 0, \"ticks\": \"\"}}, \"type\": \"scatterpolargl\"}], \"scatterternary\": [{\"marker\": {\"colorbar\": {\"outlinewidth\": 0, \"ticks\": \"\"}}, \"type\": \"scatterternary\"}], \"surface\": [{\"colorbar\": {\"outlinewidth\": 0, \"ticks\": \"\"}, \"colorscale\": [[0.0, \"#0d0887\"], [0.1111111111111111, \"#46039f\"], [0.2222222222222222, \"#7201a8\"], [0.3333333333333333, \"#9c179e\"], [0.4444444444444444, \"#bd3786\"], [0.5555555555555556, \"#d8576b\"], [0.6666666666666666, \"#ed7953\"], [0.7777777777777778, \"#fb9f3a\"], [0.8888888888888888, \"#fdca26\"], [1.0, \"#f0f921\"]], \"type\": \"surface\"}], \"table\": [{\"cells\": {\"fill\": {\"color\": \"#EBF0F8\"}, \"line\": {\"color\": \"white\"}}, \"header\": {\"fill\": {\"color\": \"#C8D4E3\"}, \"line\": {\"color\": \"white\"}}, \"type\": \"table\"}]}, \"layout\": {\"annotationdefaults\": {\"arrowcolor\": \"#2a3f5f\", \"arrowhead\": 0, \"arrowwidth\": 1}, \"coloraxis\": {\"colorbar\": {\"outlinewidth\": 0, \"ticks\": \"\"}}, \"colorscale\": {\"diverging\": [[0, \"#8e0152\"], [0.1, \"#c51b7d\"], [0.2, \"#de77ae\"], [0.3, \"#f1b6da\"], [0.4, \"#fde0ef\"], [0.5, \"#f7f7f7\"], [0.6, \"#e6f5d0\"], [0.7, \"#b8e186\"], [0.8, \"#7fbc41\"], [0.9, \"#4d9221\"], [1, \"#276419\"]], \"sequential\": [[0.0, \"#0d0887\"], [0.1111111111111111, \"#46039f\"], [0.2222222222222222, \"#7201a8\"], [0.3333333333333333, \"#9c179e\"], [0.4444444444444444, \"#bd3786\"], [0.5555555555555556, \"#d8576b\"], [0.6666666666666666, \"#ed7953\"], [0.7777777777777778, \"#fb9f3a\"], [0.8888888888888888, \"#fdca26\"], [1.0, \"#f0f921\"]], \"sequentialminus\": [[0.0, \"#0d0887\"], [0.1111111111111111, \"#46039f\"], [0.2222222222222222, \"#7201a8\"], [0.3333333333333333, \"#9c179e\"], [0.4444444444444444, \"#bd3786\"], [0.5555555555555556, \"#d8576b\"], [0.6666666666666666, \"#ed7953\"], [0.7777777777777778, \"#fb9f3a\"], [0.8888888888888888, \"#fdca26\"], [1.0, \"#f0f921\"]]}, \"colorway\": [\"#636efa\", \"#EF553B\", \"#00cc96\", \"#ab63fa\", \"#FFA15A\", \"#19d3f3\", \"#FF6692\", \"#B6E880\", \"#FF97FF\", \"#FECB52\"], \"font\": {\"color\": \"#2a3f5f\"}, \"geo\": {\"bgcolor\": \"white\", \"lakecolor\": \"white\", \"landcolor\": \"#E5ECF6\", \"showlakes\": true, \"showland\": true, \"subunitcolor\": \"white\"}, \"hoverlabel\": {\"align\": \"left\"}, \"hovermode\": \"closest\", \"mapbox\": {\"style\": \"light\"}, \"paper_bgcolor\": \"white\", \"plot_bgcolor\": \"#E5ECF6\", \"polar\": {\"angularaxis\": {\"gridcolor\": \"white\", \"linecolor\": \"white\", \"ticks\": \"\"}, \"bgcolor\": \"#E5ECF6\", \"radialaxis\": {\"gridcolor\": \"white\", \"linecolor\": \"white\", \"ticks\": \"\"}}, \"scene\": {\"xaxis\": {\"backgroundcolor\": \"#E5ECF6\", \"gridcolor\": \"white\", \"gridwidth\": 2, \"linecolor\": \"white\", \"showbackground\": true, \"ticks\": \"\", \"zerolinecolor\": \"white\"}, \"yaxis\": {\"backgroundcolor\": \"#E5ECF6\", \"gridcolor\": \"white\", \"gridwidth\": 2, \"linecolor\": \"white\", \"showbackground\": true, \"ticks\": \"\", \"zerolinecolor\": \"white\"}, \"zaxis\": {\"backgroundcolor\": \"#E5ECF6\", \"gridcolor\": \"white\", \"gridwidth\": 2, \"linecolor\": \"white\", \"showbackground\": true, \"ticks\": \"\", \"zerolinecolor\": \"white\"}}, \"shapedefaults\": {\"line\": {\"color\": \"#2a3f5f\"}}, \"ternary\": {\"aaxis\": {\"gridcolor\": \"white\", \"linecolor\": \"white\", \"ticks\": \"\"}, \"baxis\": {\"gridcolor\": \"white\", \"linecolor\": \"white\", \"ticks\": \"\"}, \"bgcolor\": \"#E5ECF6\", \"caxis\": {\"gridcolor\": \"white\", \"linecolor\": \"white\", \"ticks\": \"\"}}, \"title\": {\"x\": 0.05}, \"xaxis\": {\"automargin\": true, \"gridcolor\": \"white\", \"linecolor\": \"white\", \"ticks\": \"\", \"title\": {\"standoff\": 15}, \"zerolinecolor\": \"white\", \"zerolinewidth\": 2}, \"yaxis\": {\"automargin\": true, \"gridcolor\": \"white\", \"linecolor\": \"white\", \"ticks\": \"\", \"title\": {\"standoff\": 15}, \"zerolinecolor\": \"white\", \"zerolinewidth\": 2}}}, \"title\": {\"text\": \"Scores do TREINO/TESTE dos regressores na base de ocor\\u00eancias.\"}},\n",
              "                        {\"responsive\": true}\n",
              "                    ).then(function(){\n",
              "                            \n",
              "var gd = document.getElementById('8f259b79-4ea2-4b28-b06f-ac4ff050ad3e');\n",
              "var x = new MutationObserver(function (mutations, observer) {{\n",
              "        var display = window.getComputedStyle(gd).display;\n",
              "        if (!display || display === 'none') {{\n",
              "            console.log([gd, 'removed!']);\n",
              "            Plotly.purge(gd);\n",
              "            observer.disconnect();\n",
              "        }}\n",
              "}});\n",
              "\n",
              "// Listen for the removal of the full notebook cells\n",
              "var notebookContainer = gd.closest('#notebook-container');\n",
              "if (notebookContainer) {{\n",
              "    x.observe(notebookContainer, {childList: true});\n",
              "}}\n",
              "\n",
              "// Listen for the clearing of the current output cell\n",
              "var outputEl = gd.closest('.output');\n",
              "if (outputEl) {{\n",
              "    x.observe(outputEl, {childList: true});\n",
              "}}\n",
              "\n",
              "                        })\n",
              "                };\n",
              "                \n",
              "            </script>\n",
              "        </div>\n",
              "</body>\n",
              "</html>"
            ]
          },
          "metadata": {
            "tags": []
          }
        }
      ]
    },
    {
      "cell_type": "code",
      "metadata": {
        "id": "jNk7b6iiuRP-",
        "outputId": "d7f42c93-b7e2-4042-c9e4-53b81d932f4d",
        "colab": {
          "base_uri": "https://localhost:8080/"
        }
      },
      "source": [
        "px.bar(x=regressores, y=maes, color=maes , title='ERRO MÉDIO ABSOLUTO dos regressores na base de ocorrências.')"
      ],
      "execution_count": null,
      "outputs": [
        {
          "output_type": "display_data",
          "data": {
            "text/html": [
              "<html>\n",
              "<head><meta charset=\"utf-8\" /></head>\n",
              "<body>\n",
              "    <div>\n",
              "            <script src=\"https://cdnjs.cloudflare.com/ajax/libs/mathjax/2.7.5/MathJax.js?config=TeX-AMS-MML_SVG\"></script><script type=\"text/javascript\">if (window.MathJax) {MathJax.Hub.Config({SVG: {font: \"STIX-Web\"}});}</script>\n",
              "                <script type=\"text/javascript\">window.PlotlyConfig = {MathJaxConfig: 'local'};</script>\n",
              "        <script src=\"https://cdn.plot.ly/plotly-latest.min.js\"></script>    \n",
              "            <div id=\"f9439230-9cab-4db5-a252-f5965b143bf7\" class=\"plotly-graph-div\" style=\"height:525px; width:100%;\"></div>\n",
              "            <script type=\"text/javascript\">\n",
              "                \n",
              "                    window.PLOTLYENV=window.PLOTLYENV || {};\n",
              "                    \n",
              "                if (document.getElementById(\"f9439230-9cab-4db5-a252-f5965b143bf7\")) {\n",
              "                    Plotly.newPlot(\n",
              "                        'f9439230-9cab-4db5-a252-f5965b143bf7',\n",
              "                        [{\"alignmentgroup\": \"True\", \"hoverlabel\": {\"namelength\": 0}, \"hovertemplate\": \"x=%{x}<br>y=%{y}<br>color=%{marker.color}\", \"legendgroup\": \"\", \"marker\": {\"color\": [7.676867024083001, 7.492008871793963, 2.7703392903392903, 2.3151810411810416, 7.709140712447207, 6.008728308728309], \"coloraxis\": \"coloraxis\"}, \"name\": \"\", \"offsetgroup\": \"\", \"orientation\": \"v\", \"showlegend\": false, \"textposition\": \"auto\", \"type\": \"bar\", \"x\": [\"Linear\", \"Polinomial\", \"Decision Tree\", \"Random Forest\", \"MLP\", \"KNN\"], \"xaxis\": \"x\", \"y\": [7.676867024083001, 7.492008871793963, 2.7703392903392903, 2.3151810411810416, 7.709140712447207, 6.008728308728309], \"yaxis\": \"y\"}],\n",
              "                        {\"barmode\": \"relative\", \"coloraxis\": {\"colorbar\": {\"title\": {\"text\": \"color\"}}, \"colorscale\": [[0.0, \"#0d0887\"], [0.1111111111111111, \"#46039f\"], [0.2222222222222222, \"#7201a8\"], [0.3333333333333333, \"#9c179e\"], [0.4444444444444444, \"#bd3786\"], [0.5555555555555556, \"#d8576b\"], [0.6666666666666666, \"#ed7953\"], [0.7777777777777778, \"#fb9f3a\"], [0.8888888888888888, \"#fdca26\"], [1.0, \"#f0f921\"]]}, \"legend\": {\"tracegroupgap\": 0}, \"template\": {\"data\": {\"bar\": [{\"error_x\": {\"color\": \"#2a3f5f\"}, \"error_y\": {\"color\": \"#2a3f5f\"}, \"marker\": {\"line\": {\"color\": \"#E5ECF6\", \"width\": 0.5}}, \"type\": \"bar\"}], \"barpolar\": [{\"marker\": {\"line\": {\"color\": \"#E5ECF6\", \"width\": 0.5}}, \"type\": \"barpolar\"}], \"carpet\": [{\"aaxis\": {\"endlinecolor\": \"#2a3f5f\", \"gridcolor\": \"white\", \"linecolor\": \"white\", \"minorgridcolor\": \"white\", \"startlinecolor\": \"#2a3f5f\"}, \"baxis\": {\"endlinecolor\": \"#2a3f5f\", \"gridcolor\": \"white\", \"linecolor\": \"white\", \"minorgridcolor\": \"white\", \"startlinecolor\": \"#2a3f5f\"}, \"type\": \"carpet\"}], \"choropleth\": [{\"colorbar\": {\"outlinewidth\": 0, \"ticks\": \"\"}, \"type\": \"choropleth\"}], \"contour\": [{\"colorbar\": {\"outlinewidth\": 0, \"ticks\": \"\"}, \"colorscale\": [[0.0, \"#0d0887\"], [0.1111111111111111, \"#46039f\"], [0.2222222222222222, \"#7201a8\"], [0.3333333333333333, \"#9c179e\"], [0.4444444444444444, \"#bd3786\"], [0.5555555555555556, \"#d8576b\"], [0.6666666666666666, \"#ed7953\"], [0.7777777777777778, \"#fb9f3a\"], [0.8888888888888888, \"#fdca26\"], [1.0, \"#f0f921\"]], \"type\": \"contour\"}], \"contourcarpet\": [{\"colorbar\": {\"outlinewidth\": 0, \"ticks\": \"\"}, \"type\": \"contourcarpet\"}], \"heatmap\": [{\"colorbar\": {\"outlinewidth\": 0, \"ticks\": \"\"}, \"colorscale\": [[0.0, \"#0d0887\"], [0.1111111111111111, \"#46039f\"], [0.2222222222222222, \"#7201a8\"], [0.3333333333333333, \"#9c179e\"], [0.4444444444444444, \"#bd3786\"], [0.5555555555555556, \"#d8576b\"], [0.6666666666666666, \"#ed7953\"], [0.7777777777777778, \"#fb9f3a\"], [0.8888888888888888, \"#fdca26\"], [1.0, \"#f0f921\"]], \"type\": \"heatmap\"}], \"heatmapgl\": [{\"colorbar\": {\"outlinewidth\": 0, \"ticks\": \"\"}, \"colorscale\": [[0.0, \"#0d0887\"], [0.1111111111111111, \"#46039f\"], [0.2222222222222222, \"#7201a8\"], [0.3333333333333333, \"#9c179e\"], [0.4444444444444444, \"#bd3786\"], [0.5555555555555556, \"#d8576b\"], [0.6666666666666666, \"#ed7953\"], [0.7777777777777778, \"#fb9f3a\"], [0.8888888888888888, \"#fdca26\"], [1.0, \"#f0f921\"]], \"type\": \"heatmapgl\"}], \"histogram\": [{\"marker\": {\"colorbar\": {\"outlinewidth\": 0, \"ticks\": \"\"}}, \"type\": \"histogram\"}], \"histogram2d\": [{\"colorbar\": {\"outlinewidth\": 0, \"ticks\": \"\"}, \"colorscale\": [[0.0, \"#0d0887\"], [0.1111111111111111, \"#46039f\"], [0.2222222222222222, \"#7201a8\"], [0.3333333333333333, \"#9c179e\"], [0.4444444444444444, \"#bd3786\"], [0.5555555555555556, \"#d8576b\"], [0.6666666666666666, \"#ed7953\"], [0.7777777777777778, \"#fb9f3a\"], [0.8888888888888888, \"#fdca26\"], [1.0, \"#f0f921\"]], \"type\": \"histogram2d\"}], \"histogram2dcontour\": [{\"colorbar\": {\"outlinewidth\": 0, \"ticks\": \"\"}, \"colorscale\": [[0.0, \"#0d0887\"], [0.1111111111111111, \"#46039f\"], [0.2222222222222222, \"#7201a8\"], [0.3333333333333333, \"#9c179e\"], [0.4444444444444444, \"#bd3786\"], [0.5555555555555556, \"#d8576b\"], [0.6666666666666666, \"#ed7953\"], [0.7777777777777778, \"#fb9f3a\"], [0.8888888888888888, \"#fdca26\"], [1.0, \"#f0f921\"]], \"type\": \"histogram2dcontour\"}], \"mesh3d\": [{\"colorbar\": {\"outlinewidth\": 0, \"ticks\": \"\"}, \"type\": \"mesh3d\"}], \"parcoords\": [{\"line\": {\"colorbar\": {\"outlinewidth\": 0, \"ticks\": \"\"}}, \"type\": \"parcoords\"}], \"pie\": [{\"automargin\": true, \"type\": \"pie\"}], \"scatter\": [{\"marker\": {\"colorbar\": {\"outlinewidth\": 0, \"ticks\": \"\"}}, \"type\": \"scatter\"}], \"scatter3d\": [{\"line\": {\"colorbar\": {\"outlinewidth\": 0, \"ticks\": \"\"}}, \"marker\": {\"colorbar\": {\"outlinewidth\": 0, \"ticks\": \"\"}}, \"type\": \"scatter3d\"}], \"scattercarpet\": [{\"marker\": {\"colorbar\": {\"outlinewidth\": 0, \"ticks\": \"\"}}, \"type\": \"scattercarpet\"}], \"scattergeo\": [{\"marker\": {\"colorbar\": {\"outlinewidth\": 0, \"ticks\": \"\"}}, \"type\": \"scattergeo\"}], \"scattergl\": [{\"marker\": {\"colorbar\": {\"outlinewidth\": 0, \"ticks\": \"\"}}, \"type\": \"scattergl\"}], \"scattermapbox\": [{\"marker\": {\"colorbar\": {\"outlinewidth\": 0, \"ticks\": \"\"}}, \"type\": \"scattermapbox\"}], \"scatterpolar\": [{\"marker\": {\"colorbar\": {\"outlinewidth\": 0, \"ticks\": \"\"}}, \"type\": \"scatterpolar\"}], \"scatterpolargl\": [{\"marker\": {\"colorbar\": {\"outlinewidth\": 0, \"ticks\": \"\"}}, \"type\": \"scatterpolargl\"}], \"scatterternary\": [{\"marker\": {\"colorbar\": {\"outlinewidth\": 0, \"ticks\": \"\"}}, \"type\": \"scatterternary\"}], \"surface\": [{\"colorbar\": {\"outlinewidth\": 0, \"ticks\": \"\"}, \"colorscale\": [[0.0, \"#0d0887\"], [0.1111111111111111, \"#46039f\"], [0.2222222222222222, \"#7201a8\"], [0.3333333333333333, \"#9c179e\"], [0.4444444444444444, \"#bd3786\"], [0.5555555555555556, \"#d8576b\"], [0.6666666666666666, \"#ed7953\"], [0.7777777777777778, \"#fb9f3a\"], [0.8888888888888888, \"#fdca26\"], [1.0, \"#f0f921\"]], \"type\": \"surface\"}], \"table\": [{\"cells\": {\"fill\": {\"color\": \"#EBF0F8\"}, \"line\": {\"color\": \"white\"}}, \"header\": {\"fill\": {\"color\": \"#C8D4E3\"}, \"line\": {\"color\": \"white\"}}, \"type\": \"table\"}]}, \"layout\": {\"annotationdefaults\": {\"arrowcolor\": \"#2a3f5f\", \"arrowhead\": 0, \"arrowwidth\": 1}, \"coloraxis\": {\"colorbar\": {\"outlinewidth\": 0, \"ticks\": \"\"}}, \"colorscale\": {\"diverging\": [[0, \"#8e0152\"], [0.1, \"#c51b7d\"], [0.2, \"#de77ae\"], [0.3, \"#f1b6da\"], [0.4, \"#fde0ef\"], [0.5, \"#f7f7f7\"], [0.6, \"#e6f5d0\"], [0.7, \"#b8e186\"], [0.8, \"#7fbc41\"], [0.9, \"#4d9221\"], [1, \"#276419\"]], \"sequential\": [[0.0, \"#0d0887\"], [0.1111111111111111, \"#46039f\"], [0.2222222222222222, \"#7201a8\"], [0.3333333333333333, \"#9c179e\"], [0.4444444444444444, \"#bd3786\"], [0.5555555555555556, \"#d8576b\"], [0.6666666666666666, \"#ed7953\"], [0.7777777777777778, \"#fb9f3a\"], [0.8888888888888888, \"#fdca26\"], [1.0, \"#f0f921\"]], \"sequentialminus\": [[0.0, \"#0d0887\"], [0.1111111111111111, \"#46039f\"], [0.2222222222222222, \"#7201a8\"], [0.3333333333333333, \"#9c179e\"], [0.4444444444444444, \"#bd3786\"], [0.5555555555555556, \"#d8576b\"], [0.6666666666666666, \"#ed7953\"], [0.7777777777777778, \"#fb9f3a\"], [0.8888888888888888, \"#fdca26\"], [1.0, \"#f0f921\"]]}, \"colorway\": [\"#636efa\", \"#EF553B\", \"#00cc96\", \"#ab63fa\", \"#FFA15A\", \"#19d3f3\", \"#FF6692\", \"#B6E880\", \"#FF97FF\", \"#FECB52\"], \"font\": {\"color\": \"#2a3f5f\"}, \"geo\": {\"bgcolor\": \"white\", \"lakecolor\": \"white\", \"landcolor\": \"#E5ECF6\", \"showlakes\": true, \"showland\": true, \"subunitcolor\": \"white\"}, \"hoverlabel\": {\"align\": \"left\"}, \"hovermode\": \"closest\", \"mapbox\": {\"style\": \"light\"}, \"paper_bgcolor\": \"white\", \"plot_bgcolor\": \"#E5ECF6\", \"polar\": {\"angularaxis\": {\"gridcolor\": \"white\", \"linecolor\": \"white\", \"ticks\": \"\"}, \"bgcolor\": \"#E5ECF6\", \"radialaxis\": {\"gridcolor\": \"white\", \"linecolor\": \"white\", \"ticks\": \"\"}}, \"scene\": {\"xaxis\": {\"backgroundcolor\": \"#E5ECF6\", \"gridcolor\": \"white\", \"gridwidth\": 2, \"linecolor\": \"white\", \"showbackground\": true, \"ticks\": \"\", \"zerolinecolor\": \"white\"}, \"yaxis\": {\"backgroundcolor\": \"#E5ECF6\", \"gridcolor\": \"white\", \"gridwidth\": 2, \"linecolor\": \"white\", \"showbackground\": true, \"ticks\": \"\", \"zerolinecolor\": \"white\"}, \"zaxis\": {\"backgroundcolor\": \"#E5ECF6\", \"gridcolor\": \"white\", \"gridwidth\": 2, \"linecolor\": \"white\", \"showbackground\": true, \"ticks\": \"\", \"zerolinecolor\": \"white\"}}, \"shapedefaults\": {\"line\": {\"color\": \"#2a3f5f\"}}, \"ternary\": {\"aaxis\": {\"gridcolor\": \"white\", \"linecolor\": \"white\", \"ticks\": \"\"}, \"baxis\": {\"gridcolor\": \"white\", \"linecolor\": \"white\", \"ticks\": \"\"}, \"bgcolor\": \"#E5ECF6\", \"caxis\": {\"gridcolor\": \"white\", \"linecolor\": \"white\", \"ticks\": \"\"}}, \"title\": {\"x\": 0.05}, \"xaxis\": {\"automargin\": true, \"gridcolor\": \"white\", \"linecolor\": \"white\", \"ticks\": \"\", \"title\": {\"standoff\": 15}, \"zerolinecolor\": \"white\", \"zerolinewidth\": 2}, \"yaxis\": {\"automargin\": true, \"gridcolor\": \"white\", \"linecolor\": \"white\", \"ticks\": \"\", \"title\": {\"standoff\": 15}, \"zerolinecolor\": \"white\", \"zerolinewidth\": 2}}}, \"title\": {\"text\": \"ERRO M\\u00c9DIO ABSOLUTO dos regressores na base de ocorr\\u00eancias.\"}, \"xaxis\": {\"anchor\": \"y\", \"domain\": [0.0, 1.0], \"title\": {\"text\": \"x\"}}, \"yaxis\": {\"anchor\": \"x\", \"domain\": [0.0, 1.0], \"title\": {\"text\": \"y\"}}},\n",
              "                        {\"responsive\": true}\n",
              "                    ).then(function(){\n",
              "                            \n",
              "var gd = document.getElementById('f9439230-9cab-4db5-a252-f5965b143bf7');\n",
              "var x = new MutationObserver(function (mutations, observer) {{\n",
              "        var display = window.getComputedStyle(gd).display;\n",
              "        if (!display || display === 'none') {{\n",
              "            console.log([gd, 'removed!']);\n",
              "            Plotly.purge(gd);\n",
              "            observer.disconnect();\n",
              "        }}\n",
              "}});\n",
              "\n",
              "// Listen for the removal of the full notebook cells\n",
              "var notebookContainer = gd.closest('#notebook-container');\n",
              "if (notebookContainer) {{\n",
              "    x.observe(notebookContainer, {childList: true});\n",
              "}}\n",
              "\n",
              "// Listen for the clearing of the current output cell\n",
              "var outputEl = gd.closest('.output');\n",
              "if (outputEl) {{\n",
              "    x.observe(outputEl, {childList: true});\n",
              "}}\n",
              "\n",
              "                        })\n",
              "                };\n",
              "                \n",
              "            </script>\n",
              "        </div>\n",
              "</body>\n",
              "</html>"
            ]
          },
          "metadata": {
            "tags": []
          }
        }
      ]
    },
    {
      "cell_type": "markdown",
      "metadata": {
        "id": "Z-McUhXw6M0a"
      },
      "source": [
        "##### Extrapolação"
      ]
    },
    {
      "cell_type": "markdown",
      "metadata": {
        "id": "MbU7T-I36M0m"
      },
      "source": [
        "###### Criando as novas amostras (X)"
      ]
    },
    {
      "cell_type": "code",
      "metadata": {
        "id": "IPQpr8Vv6M0o"
      },
      "source": [
        "import numpy as np\n",
        "monthNames = ['July', 'August', 'September', 'October', 'November', 'December'];\n",
        "ano = ['2020']\n",
        "uf = df['uf'].unique()\n",
        "causa_acidente = df['causa_acidente'].unique()\n",
        "classificacao_acidente = df['classificacao_acidente'].unique()\n",
        "\n",
        "comb  = np.array(np.meshgrid(ano, monthNames, uf, causa_acidente, classificacao_acidente)).T.reshape(-1,5)\n",
        "df_novo1 = pd.DataFrame(comb, columns=['ano', 'mes', 'uf', 'causa_acidente', 'classificacao_acidente'])\n",
        "\n",
        "monthNames = [\"January\"];\n",
        "ano = ['2021']\n",
        "\n",
        "comb  = np.array(np.meshgrid(ano, monthNames, uf, causa_acidente, classificacao_acidente)).T.reshape(-1,5)\n",
        "df_novo2 = pd.DataFrame(comb, columns=['ano', 'mes', 'uf', 'causa_acidente', 'classificacao_acidente'])\n",
        "\n",
        "df_novo = pd.concat([df_novo1, df_novo2])\n",
        "df_novo.index = [i for i in range(len(df_novo))]\n",
        "# df\n",
        "df_novo_concatenado = pd.concat([df, df_novo])\n",
        "# df_novo_concatenado\n",
        "\n",
        "LE_uf = LabelEncoder()\n",
        "LE_causa = LabelEncoder()\n",
        "LE_classificacao = LabelEncoder()\n",
        "df_novo_concatenado['uf'] = LE_uf.fit_transform(df_novo_concatenado['uf'])\n",
        "df_novo_concatenado['causa_acidente'] = LE_causa.fit_transform(df_novo_concatenado['causa_acidente'])\n",
        "df_novo_concatenado['classificacao_acidente'] = LE_classificacao.fit_transform(df_novo_concatenado['classificacao_acidente'])\n",
        "\n",
        "meses = ['January', 'February', 'March', 'April', 'May', 'June', 'July', 'August', 'September', 'October', 'November', 'December']\n",
        "for mes in meses:\n",
        "  df_novo_concatenado.loc[df_novo_concatenado.mes == mes, 'mes'] = meses.index(mes) + 1\n",
        "df_novo_concatenado.index = [i for i in range(len(df_novo_concatenado))]\n",
        "# df_novo_concatenado"
      ],
      "execution_count": null,
      "outputs": []
    },
    {
      "cell_type": "markdown",
      "metadata": {
        "id": "DtvAX3J56M04"
      },
      "source": [
        "###### Dividindo a base em treino e teste"
      ]
    },
    {
      "cell_type": "code",
      "metadata": {
        "id": "W7GtwnTo6M05"
      },
      "source": [
        "X_train = df_novo_concatenado[:len(df)][x]\n",
        "X_test = df_novo_concatenado[len(df):][x]\n",
        "Y_train = df[y]"
      ],
      "execution_count": null,
      "outputs": []
    },
    {
      "cell_type": "markdown",
      "metadata": {
        "id": "XEwkqmP76M0_"
      },
      "source": [
        "###### Random Forest"
      ]
    },
    {
      "cell_type": "code",
      "metadata": {
        "id": "CzYddzsx6M1A",
        "outputId": "bbb22454-27af-49ba-981a-28d6b7041c3f",
        "colab": {
          "base_uri": "https://localhost:8080/"
        }
      },
      "source": [
        "regressor = RandomForestRegressor()\n",
        "\n",
        "regressor.fit(X_train, Y_train)\n",
        "\n",
        "previsoes = regressor.predict(X_test)\n",
        "\n",
        "previsoes = pd.DataFrame(previsoes)\n",
        "previsoes.columns = y\n",
        "\n",
        "previsoes = pd.concat([df_novo, previsoes], axis=1)\n",
        "for mes in meses:\n",
        "  previsoes.loc[previsoes.mes == mes, 'mes'] = meses.index(mes) + 1\n",
        "previsoes"
      ],
      "execution_count": null,
      "outputs": [
        {
          "output_type": "execute_result",
          "data": {
            "text/html": [
              "<div>\n",
              "<style scoped>\n",
              "    .dataframe tbody tr th:only-of-type {\n",
              "        vertical-align: middle;\n",
              "    }\n",
              "\n",
              "    .dataframe tbody tr th {\n",
              "        vertical-align: top;\n",
              "    }\n",
              "\n",
              "    .dataframe thead th {\n",
              "        text-align: right;\n",
              "    }\n",
              "</style>\n",
              "<table border=\"1\" class=\"dataframe\">\n",
              "  <thead>\n",
              "    <tr style=\"text-align: right;\">\n",
              "      <th></th>\n",
              "      <th>ano</th>\n",
              "      <th>mes</th>\n",
              "      <th>uf</th>\n",
              "      <th>causa_acidente</th>\n",
              "      <th>classificacao_acidente</th>\n",
              "      <th>qt_acidentes</th>\n",
              "      <th>qt_pessoas</th>\n",
              "      <th>qt_mortos</th>\n",
              "      <th>qt_feridos_leves</th>\n",
              "      <th>qt_feridos_graves</th>\n",
              "      <th>qt_ilesos</th>\n",
              "      <th>qt_ignorados</th>\n",
              "      <th>qt_feridos</th>\n",
              "      <th>qt_veiculos</th>\n",
              "    </tr>\n",
              "  </thead>\n",
              "  <tbody>\n",
              "    <tr>\n",
              "      <th>0</th>\n",
              "      <td>2020</td>\n",
              "      <td>7</td>\n",
              "      <td>AC</td>\n",
              "      <td>Avarias e/ou desgaste excessivo no pneu</td>\n",
              "      <td>Com Vítimas Feridas</td>\n",
              "      <td>1.02</td>\n",
              "      <td>2.62</td>\n",
              "      <td>0.00</td>\n",
              "      <td>1.45</td>\n",
              "      <td>0.69</td>\n",
              "      <td>0.48</td>\n",
              "      <td>0.00</td>\n",
              "      <td>2.14</td>\n",
              "      <td>1.02</td>\n",
              "    </tr>\n",
              "    <tr>\n",
              "      <th>1</th>\n",
              "      <td>2020</td>\n",
              "      <td>8</td>\n",
              "      <td>AC</td>\n",
              "      <td>Avarias e/ou desgaste excessivo no pneu</td>\n",
              "      <td>Com Vítimas Feridas</td>\n",
              "      <td>1.03</td>\n",
              "      <td>2.51</td>\n",
              "      <td>0.00</td>\n",
              "      <td>1.37</td>\n",
              "      <td>0.69</td>\n",
              "      <td>0.45</td>\n",
              "      <td>0.00</td>\n",
              "      <td>2.06</td>\n",
              "      <td>1.04</td>\n",
              "    </tr>\n",
              "    <tr>\n",
              "      <th>2</th>\n",
              "      <td>2020</td>\n",
              "      <td>9</td>\n",
              "      <td>AC</td>\n",
              "      <td>Avarias e/ou desgaste excessivo no pneu</td>\n",
              "      <td>Com Vítimas Feridas</td>\n",
              "      <td>1.01</td>\n",
              "      <td>2.37</td>\n",
              "      <td>0.00</td>\n",
              "      <td>1.08</td>\n",
              "      <td>0.86</td>\n",
              "      <td>0.42</td>\n",
              "      <td>0.01</td>\n",
              "      <td>1.94</td>\n",
              "      <td>1.01</td>\n",
              "    </tr>\n",
              "    <tr>\n",
              "      <th>3</th>\n",
              "      <td>2020</td>\n",
              "      <td>10</td>\n",
              "      <td>AC</td>\n",
              "      <td>Avarias e/ou desgaste excessivo no pneu</td>\n",
              "      <td>Com Vítimas Feridas</td>\n",
              "      <td>1.11</td>\n",
              "      <td>2.53</td>\n",
              "      <td>0.00</td>\n",
              "      <td>1.40</td>\n",
              "      <td>0.70</td>\n",
              "      <td>0.40</td>\n",
              "      <td>0.03</td>\n",
              "      <td>2.10</td>\n",
              "      <td>1.11</td>\n",
              "    </tr>\n",
              "    <tr>\n",
              "      <th>4</th>\n",
              "      <td>2020</td>\n",
              "      <td>11</td>\n",
              "      <td>AC</td>\n",
              "      <td>Avarias e/ou desgaste excessivo no pneu</td>\n",
              "      <td>Com Vítimas Feridas</td>\n",
              "      <td>1.21</td>\n",
              "      <td>2.75</td>\n",
              "      <td>0.00</td>\n",
              "      <td>1.65</td>\n",
              "      <td>0.61</td>\n",
              "      <td>0.42</td>\n",
              "      <td>0.07</td>\n",
              "      <td>2.26</td>\n",
              "      <td>1.24</td>\n",
              "    </tr>\n",
              "    <tr>\n",
              "      <th>...</th>\n",
              "      <td>...</td>\n",
              "      <td>...</td>\n",
              "      <td>...</td>\n",
              "      <td>...</td>\n",
              "      <td>...</td>\n",
              "      <td>...</td>\n",
              "      <td>...</td>\n",
              "      <td>...</td>\n",
              "      <td>...</td>\n",
              "      <td>...</td>\n",
              "      <td>...</td>\n",
              "      <td>...</td>\n",
              "      <td>...</td>\n",
              "      <td>...</td>\n",
              "    </tr>\n",
              "    <tr>\n",
              "      <th>13603</th>\n",
              "      <td>2021</td>\n",
              "      <td>1</td>\n",
              "      <td>RS</td>\n",
              "      <td>Ingestão de álcool e/ou substâncias psicoativa...</td>\n",
              "      <td>Com Vítimas Fatais</td>\n",
              "      <td>1.35</td>\n",
              "      <td>5.14</td>\n",
              "      <td>1.75</td>\n",
              "      <td>0.26</td>\n",
              "      <td>0.20</td>\n",
              "      <td>1.62</td>\n",
              "      <td>1.31</td>\n",
              "      <td>0.46</td>\n",
              "      <td>1.62</td>\n",
              "    </tr>\n",
              "    <tr>\n",
              "      <th>13604</th>\n",
              "      <td>2021</td>\n",
              "      <td>1</td>\n",
              "      <td>SC</td>\n",
              "      <td>Ingestão de álcool e/ou substâncias psicoativa...</td>\n",
              "      <td>Com Vítimas Fatais</td>\n",
              "      <td>1.37</td>\n",
              "      <td>5.26</td>\n",
              "      <td>1.77</td>\n",
              "      <td>0.26</td>\n",
              "      <td>0.24</td>\n",
              "      <td>1.66</td>\n",
              "      <td>1.33</td>\n",
              "      <td>0.50</td>\n",
              "      <td>1.73</td>\n",
              "    </tr>\n",
              "    <tr>\n",
              "      <th>13605</th>\n",
              "      <td>2021</td>\n",
              "      <td>1</td>\n",
              "      <td>SE</td>\n",
              "      <td>Ingestão de álcool e/ou substâncias psicoativa...</td>\n",
              "      <td>Com Vítimas Fatais</td>\n",
              "      <td>1.37</td>\n",
              "      <td>5.24</td>\n",
              "      <td>1.77</td>\n",
              "      <td>0.26</td>\n",
              "      <td>0.24</td>\n",
              "      <td>1.64</td>\n",
              "      <td>1.33</td>\n",
              "      <td>0.50</td>\n",
              "      <td>1.73</td>\n",
              "    </tr>\n",
              "    <tr>\n",
              "      <th>13606</th>\n",
              "      <td>2021</td>\n",
              "      <td>1</td>\n",
              "      <td>SP</td>\n",
              "      <td>Ingestão de álcool e/ou substâncias psicoativa...</td>\n",
              "      <td>Com Vítimas Fatais</td>\n",
              "      <td>1.44</td>\n",
              "      <td>5.76</td>\n",
              "      <td>1.87</td>\n",
              "      <td>0.55</td>\n",
              "      <td>0.57</td>\n",
              "      <td>1.47</td>\n",
              "      <td>1.30</td>\n",
              "      <td>1.12</td>\n",
              "      <td>1.90</td>\n",
              "    </tr>\n",
              "    <tr>\n",
              "      <th>13607</th>\n",
              "      <td>2021</td>\n",
              "      <td>1</td>\n",
              "      <td>TO</td>\n",
              "      <td>Ingestão de álcool e/ou substâncias psicoativa...</td>\n",
              "      <td>Com Vítimas Fatais</td>\n",
              "      <td>1.42</td>\n",
              "      <td>5.73</td>\n",
              "      <td>1.85</td>\n",
              "      <td>0.56</td>\n",
              "      <td>0.56</td>\n",
              "      <td>1.49</td>\n",
              "      <td>1.27</td>\n",
              "      <td>1.12</td>\n",
              "      <td>1.89</td>\n",
              "    </tr>\n",
              "  </tbody>\n",
              "</table>\n",
              "<p>13608 rows × 14 columns</p>\n",
              "</div>"
            ],
            "text/plain": [
              "        ano mes  uf  ... qt_ignorados qt_feridos  qt_veiculos\n",
              "0      2020   7  AC  ...         0.00       2.14         1.02\n",
              "1      2020   8  AC  ...         0.00       2.06         1.04\n",
              "2      2020   9  AC  ...         0.01       1.94         1.01\n",
              "3      2020  10  AC  ...         0.03       2.10         1.11\n",
              "4      2020  11  AC  ...         0.07       2.26         1.24\n",
              "...     ...  ..  ..  ...          ...        ...          ...\n",
              "13603  2021   1  RS  ...         1.31       0.46         1.62\n",
              "13604  2021   1  SC  ...         1.33       0.50         1.73\n",
              "13605  2021   1  SE  ...         1.33       0.50         1.73\n",
              "13606  2021   1  SP  ...         1.30       1.12         1.90\n",
              "13607  2021   1  TO  ...         1.27       1.12         1.89\n",
              "\n",
              "[13608 rows x 14 columns]"
            ]
          },
          "metadata": {
            "tags": []
          },
          "execution_count": 71
        }
      ]
    },
    {
      "cell_type": "markdown",
      "metadata": {
        "id": "8cY8zF36WLou"
      },
      "source": [
        "#### **Hipótese 2:**\n",
        "---"
      ]
    },
    {
      "cell_type": "markdown",
      "metadata": {
        "id": "Uslijq-AcKdy"
      },
      "source": [
        "##### Agrupamento da base Pessoas"
      ]
    },
    {
      "cell_type": "code",
      "metadata": {
        "id": "4qUCjvRaXLjG"
      },
      "source": [
        "x = ['ano', 'mes', 'tipo_veiculo']\n",
        "y = ['qtd_acidentes', 'qtd_pessoas', 'qtd_ilesos', 'qtd_feridos_leves', 'qtd_feridos_graves', 'qtd_mortos']\n",
        "\n",
        "df = dfPessoas\n",
        "df = df.groupby([df['data_inversa'].dt.strftime('%Y'), df['data_inversa'].dt.strftime('%B'), 'tipo_veiculo'])\n",
        "df = df.agg({'id': 'nunique', 'pesid': 'nunique', 'ilesos': 'sum', 'feridos_leves': 'sum', 'feridos_graves': 'sum', 'mortos': 'sum'})\n",
        "df.index.names = x\n",
        "df.columns = y\n",
        "df = df.reset_index()\n",
        "\n",
        "#df = df[df['tipo_veiculo'] == 'Motocicleta']\n",
        "#df = df.reset_index()"
      ],
      "execution_count": null,
      "outputs": []
    },
    {
      "cell_type": "markdown",
      "metadata": {
        "id": "HNtdfeQycQXY"
      },
      "source": [
        "##### Pré-Processamento"
      ]
    },
    {
      "cell_type": "code",
      "metadata": {
        "id": "Yt2silE5wB5L"
      },
      "source": [
        "# Label Encoder\n",
        "df_pessoas_tratado = label_encoder(df.copy(), ['mes', 'tipo_veiculo'])\n",
        "\n",
        "# Divisão da base\n",
        "X = df_pessoas_tratado[x]\n",
        "Y = df_pessoas_tratado[y]\n",
        "\n",
        "# Standart Scaler\n",
        "# X, Y = standard_scaler(X, Y)\n",
        "\n",
        "X_train, X_test, Y_train, Y_test = hold_out(X, Y)"
      ],
      "execution_count": null,
      "outputs": []
    },
    {
      "cell_type": "markdown",
      "metadata": {
        "id": "kUh7CgYscUTW"
      },
      "source": [
        "##### Regressão Linear"
      ]
    },
    {
      "cell_type": "code",
      "metadata": {
        "id": "Sytltn4UoXyD",
        "outputId": "62f51c32-e557-4f5d-b50a-060dfaf4701a",
        "colab": {
          "base_uri": "https://localhost:8080/"
        }
      },
      "source": [
        "sc1_rl, sc2_rl, mae_rl = regressao_linear(X_train, Y_train, X_test, Y_test)"
      ],
      "execution_count": null,
      "outputs": [
        {
          "output_type": "stream",
          "text": [
            "Score Treino:  0.190375238478753 \n",
            "Score Teste:  0.21785405198349914\n",
            "Erro médio absoluto:  349.66194055447977 \n",
            "\n"
          ],
          "name": "stdout"
        },
        {
          "output_type": "stream",
          "text": [
            "/usr/local/lib/python3.6/dist-packages/sklearn/base.py:434: FutureWarning:\n",
            "\n",
            "The default value of multioutput (not exposed in score method) will change from 'variance_weighted' to 'uniform_average' in 0.23 to keep consistent with 'metrics.r2_score'. To specify the default value manually and avoid the warning, please either call 'metrics.r2_score' directly or make a custom scorer with 'metrics.make_scorer' (the built-in scorer 'r2' uses multioutput='uniform_average').\n",
            "\n",
            "/usr/local/lib/python3.6/dist-packages/sklearn/base.py:434: FutureWarning:\n",
            "\n",
            "The default value of multioutput (not exposed in score method) will change from 'variance_weighted' to 'uniform_average' in 0.23 to keep consistent with 'metrics.r2_score'. To specify the default value manually and avoid the warning, please either call 'metrics.r2_score' directly or make a custom scorer with 'metrics.make_scorer' (the built-in scorer 'r2' uses multioutput='uniform_average').\n",
            "\n"
          ],
          "name": "stderr"
        }
      ]
    },
    {
      "cell_type": "markdown",
      "metadata": {
        "id": "KelYNIe5chUZ"
      },
      "source": [
        "##### Regressão Polinomial"
      ]
    },
    {
      "cell_type": "code",
      "metadata": {
        "id": "1ZzWJqOvokMc",
        "outputId": "48b7c778-4ef6-4c4d-df41-8e1fa5cd8812",
        "colab": {
          "base_uri": "https://localhost:8080/"
        }
      },
      "source": [
        "sc1_rp, sc2_rp, mae_rp = regressao_polinomial(X_train, Y_train, X_test, Y_test)"
      ],
      "execution_count": null,
      "outputs": [
        {
          "output_type": "stream",
          "text": [
            "Score Treino:  0.4065775647842881 \n",
            "Score Teste:  0.44126128568124817\n",
            "Erro médio absoluto:  288.28534474316984 \n",
            "\n"
          ],
          "name": "stdout"
        },
        {
          "output_type": "stream",
          "text": [
            "/usr/local/lib/python3.6/dist-packages/sklearn/base.py:434: FutureWarning:\n",
            "\n",
            "The default value of multioutput (not exposed in score method) will change from 'variance_weighted' to 'uniform_average' in 0.23 to keep consistent with 'metrics.r2_score'. To specify the default value manually and avoid the warning, please either call 'metrics.r2_score' directly or make a custom scorer with 'metrics.make_scorer' (the built-in scorer 'r2' uses multioutput='uniform_average').\n",
            "\n",
            "/usr/local/lib/python3.6/dist-packages/sklearn/base.py:434: FutureWarning:\n",
            "\n",
            "The default value of multioutput (not exposed in score method) will change from 'variance_weighted' to 'uniform_average' in 0.23 to keep consistent with 'metrics.r2_score'. To specify the default value manually and avoid the warning, please either call 'metrics.r2_score' directly or make a custom scorer with 'metrics.make_scorer' (the built-in scorer 'r2' uses multioutput='uniform_average').\n",
            "\n"
          ],
          "name": "stderr"
        }
      ]
    },
    {
      "cell_type": "markdown",
      "metadata": {
        "id": "wPlGGjyLcof_"
      },
      "source": [
        "##### Regressão por Árvores de Decisão"
      ]
    },
    {
      "cell_type": "code",
      "metadata": {
        "id": "1tIH7tRco2pT",
        "outputId": "6629474d-a3da-45c9-dae0-32c218157e34",
        "colab": {
          "base_uri": "https://localhost:8080/"
        }
      },
      "source": [
        "sc1_ad, sc2_ad, mae_ad = arvore_decisao(X_train, Y_train, X_test, Y_test)"
      ],
      "execution_count": null,
      "outputs": [
        {
          "output_type": "stream",
          "text": [
            "Score Treino:  1.0 \n",
            "Score Teste:  0.9630353470858573\n",
            "Erro médio absoluto:  40.8984375 \n",
            "\n"
          ],
          "name": "stdout"
        },
        {
          "output_type": "stream",
          "text": [
            "/usr/local/lib/python3.6/dist-packages/sklearn/base.py:434: FutureWarning:\n",
            "\n",
            "The default value of multioutput (not exposed in score method) will change from 'variance_weighted' to 'uniform_average' in 0.23 to keep consistent with 'metrics.r2_score'. To specify the default value manually and avoid the warning, please either call 'metrics.r2_score' directly or make a custom scorer with 'metrics.make_scorer' (the built-in scorer 'r2' uses multioutput='uniform_average').\n",
            "\n",
            "/usr/local/lib/python3.6/dist-packages/sklearn/base.py:434: FutureWarning:\n",
            "\n",
            "The default value of multioutput (not exposed in score method) will change from 'variance_weighted' to 'uniform_average' in 0.23 to keep consistent with 'metrics.r2_score'. To specify the default value manually and avoid the warning, please either call 'metrics.r2_score' directly or make a custom scorer with 'metrics.make_scorer' (the built-in scorer 'r2' uses multioutput='uniform_average').\n",
            "\n"
          ],
          "name": "stderr"
        }
      ]
    },
    {
      "cell_type": "markdown",
      "metadata": {
        "id": "pzaxu1KfdEiA"
      },
      "source": [
        "##### Regressão por Random Forest"
      ]
    },
    {
      "cell_type": "code",
      "metadata": {
        "id": "xrJhUFaJpqD_",
        "outputId": "f236a42e-7c75-4931-ee76-c6ed929901e9",
        "colab": {
          "base_uri": "https://localhost:8080/"
        }
      },
      "source": [
        "sc1_rf, sc2_rf, mae_rf = floresta_randomica(X_train, Y_train, X_test, Y_test)"
      ],
      "execution_count": null,
      "outputs": [
        {
          "output_type": "stream",
          "text": [
            "Score Treino:  0.9945333195492919 \n",
            "Score Teste:  0.9739502832440489\n",
            "Erro médio absoluto:  34.509114583333336 \n",
            "\n"
          ],
          "name": "stdout"
        },
        {
          "output_type": "stream",
          "text": [
            "/usr/local/lib/python3.6/dist-packages/sklearn/base.py:434: FutureWarning:\n",
            "\n",
            "The default value of multioutput (not exposed in score method) will change from 'variance_weighted' to 'uniform_average' in 0.23 to keep consistent with 'metrics.r2_score'. To specify the default value manually and avoid the warning, please either call 'metrics.r2_score' directly or make a custom scorer with 'metrics.make_scorer' (the built-in scorer 'r2' uses multioutput='uniform_average').\n",
            "\n",
            "/usr/local/lib/python3.6/dist-packages/sklearn/base.py:434: FutureWarning:\n",
            "\n",
            "The default value of multioutput (not exposed in score method) will change from 'variance_weighted' to 'uniform_average' in 0.23 to keep consistent with 'metrics.r2_score'. To specify the default value manually and avoid the warning, please either call 'metrics.r2_score' directly or make a custom scorer with 'metrics.make_scorer' (the built-in scorer 'r2' uses multioutput='uniform_average').\n",
            "\n"
          ],
          "name": "stderr"
        }
      ]
    },
    {
      "cell_type": "markdown",
      "metadata": {
        "id": "kVo0h0VYdFve"
      },
      "source": [
        "##### Regressão MLP"
      ]
    },
    {
      "cell_type": "code",
      "metadata": {
        "id": "C7AepxLKpxAy",
        "outputId": "49b93b0b-a036-4145-a868-b76f119a818b",
        "colab": {
          "base_uri": "https://localhost:8080/"
        }
      },
      "source": [
        "sc1_rn, sc2_rn, mae_rn = mlp(X_train, Y_train, X_test, Y_test, hls=(200, 100))"
      ],
      "execution_count": null,
      "outputs": [
        {
          "output_type": "stream",
          "text": [
            "Score Treino:  0.15608457248064683 \n",
            "Score Teste:  0.18247804976030527\n",
            "Erro médio absoluto:  293.7153789459597 \n",
            "\n"
          ],
          "name": "stdout"
        },
        {
          "output_type": "stream",
          "text": [
            "/usr/local/lib/python3.6/dist-packages/sklearn/neural_network/_multilayer_perceptron.py:571: ConvergenceWarning:\n",
            "\n",
            "Stochastic Optimizer: Maximum iterations (200) reached and the optimization hasn't converged yet.\n",
            "\n",
            "/usr/local/lib/python3.6/dist-packages/sklearn/base.py:434: FutureWarning:\n",
            "\n",
            "The default value of multioutput (not exposed in score method) will change from 'variance_weighted' to 'uniform_average' in 0.23 to keep consistent with 'metrics.r2_score'. To specify the default value manually and avoid the warning, please either call 'metrics.r2_score' directly or make a custom scorer with 'metrics.make_scorer' (the built-in scorer 'r2' uses multioutput='uniform_average').\n",
            "\n",
            "/usr/local/lib/python3.6/dist-packages/sklearn/base.py:434: FutureWarning:\n",
            "\n",
            "The default value of multioutput (not exposed in score method) will change from 'variance_weighted' to 'uniform_average' in 0.23 to keep consistent with 'metrics.r2_score'. To specify the default value manually and avoid the warning, please either call 'metrics.r2_score' directly or make a custom scorer with 'metrics.make_scorer' (the built-in scorer 'r2' uses multioutput='uniform_average').\n",
            "\n"
          ],
          "name": "stderr"
        }
      ]
    },
    {
      "cell_type": "markdown",
      "metadata": {
        "id": "dwasvjW1dLWN"
      },
      "source": [
        "##### Regressão KNN"
      ]
    },
    {
      "cell_type": "code",
      "metadata": {
        "id": "aYLNc0ijqNsZ",
        "outputId": "433ab125-ef58-4640-8ed9-b54899bc2cef",
        "colab": {
          "base_uri": "https://localhost:8080/"
        }
      },
      "source": [
        "sc1_kn, sc2_kn, mae_kn = knr(X_train, Y_train, X_test, Y_test, k=5)"
      ],
      "execution_count": null,
      "outputs": [
        {
          "output_type": "stream",
          "text": [
            "Score Treino:  0.8081750792488782 \n",
            "Score Teste:  0.6900325666961666\n",
            "Erro médio absoluto:  151.77031250000002 \n",
            "\n"
          ],
          "name": "stdout"
        },
        {
          "output_type": "stream",
          "text": [
            "/usr/local/lib/python3.6/dist-packages/sklearn/base.py:434: FutureWarning:\n",
            "\n",
            "The default value of multioutput (not exposed in score method) will change from 'variance_weighted' to 'uniform_average' in 0.23 to keep consistent with 'metrics.r2_score'. To specify the default value manually and avoid the warning, please either call 'metrics.r2_score' directly or make a custom scorer with 'metrics.make_scorer' (the built-in scorer 'r2' uses multioutput='uniform_average').\n",
            "\n",
            "/usr/local/lib/python3.6/dist-packages/sklearn/base.py:434: FutureWarning:\n",
            "\n",
            "The default value of multioutput (not exposed in score method) will change from 'variance_weighted' to 'uniform_average' in 0.23 to keep consistent with 'metrics.r2_score'. To specify the default value manually and avoid the warning, please either call 'metrics.r2_score' directly or make a custom scorer with 'metrics.make_scorer' (the built-in scorer 'r2' uses multioutput='uniform_average').\n",
            "\n"
          ],
          "name": "stderr"
        }
      ]
    },
    {
      "cell_type": "markdown",
      "metadata": {
        "id": "w_Qq8bOYaPcv"
      },
      "source": [
        "##### Resultados"
      ]
    },
    {
      "cell_type": "code",
      "metadata": {
        "id": "LXJhQwaqaS1p"
      },
      "source": [
        "regressores = ['Linear', 'Polinomial', 'Decision Tree', 'Random Forest', 'MLP', 'KNN']\n",
        "scores_treino = [sc1_rl, sc1_rp, sc1_ad, sc1_rf, sc1_rn, sc1_kn]\n",
        "scores_teste = [sc2_rl, sc2_rp, sc2_ad, sc2_rf, sc2_rn, sc2_kn]\n",
        "maes = [mae_rl, mae_rp, mae_ad, mae_rf, mae_rn, mae_kn]"
      ],
      "execution_count": null,
      "outputs": []
    },
    {
      "cell_type": "code",
      "metadata": {
        "id": "SjRrhFMhaTS5",
        "outputId": "fd163bfa-3657-4b8e-9e2c-cbfce56a78d7",
        "colab": {
          "base_uri": "https://localhost:8080/"
        }
      },
      "source": [
        "plot_scores_bar(regressores, scores_treino, scores_teste, 'Scores de TREINO/TESTE dos regressores na base de pessoas agrupadas (mes, ano, tipo_veiculo).')"
      ],
      "execution_count": null,
      "outputs": [
        {
          "output_type": "display_data",
          "data": {
            "text/html": [
              "<html>\n",
              "<head><meta charset=\"utf-8\" /></head>\n",
              "<body>\n",
              "    <div>\n",
              "            <script src=\"https://cdnjs.cloudflare.com/ajax/libs/mathjax/2.7.5/MathJax.js?config=TeX-AMS-MML_SVG\"></script><script type=\"text/javascript\">if (window.MathJax) {MathJax.Hub.Config({SVG: {font: \"STIX-Web\"}});}</script>\n",
              "                <script type=\"text/javascript\">window.PlotlyConfig = {MathJaxConfig: 'local'};</script>\n",
              "        <script src=\"https://cdn.plot.ly/plotly-latest.min.js\"></script>    \n",
              "            <div id=\"4210343d-3fdd-4c83-885c-a1e7f4bdada7\" class=\"plotly-graph-div\" style=\"height:525px; width:100%;\"></div>\n",
              "            <script type=\"text/javascript\">\n",
              "                \n",
              "                    window.PLOTLYENV=window.PLOTLYENV || {};\n",
              "                    \n",
              "                if (document.getElementById(\"4210343d-3fdd-4c83-885c-a1e7f4bdada7\")) {\n",
              "                    Plotly.newPlot(\n",
              "                        '4210343d-3fdd-4c83-885c-a1e7f4bdada7',\n",
              "                        [{\"name\": \"Scores de Treino\", \"type\": \"bar\", \"x\": [\"Linear\", \"Polinomial\", \"Decision Tree\", \"Random Forest\", \"MLP\", \"KNN\"], \"y\": [0.190375238478753, 0.4065775647842881, 1.0, 0.9945333195492919, 0.15608457248064683, 0.8081750792488782]}, {\"name\": \"Scores de Teste\", \"type\": \"bar\", \"x\": [\"Linear\", \"Polinomial\", \"Decision Tree\", \"Random Forest\", \"MLP\", \"KNN\"], \"y\": [0.21785405198349914, 0.44126128568124817, 0.9630353470858573, 0.9739502832440489, 0.18247804976030527, 0.6900325666961666]}],\n",
              "                        {\"barmode\": \"group\", \"template\": {\"data\": {\"bar\": [{\"error_x\": {\"color\": \"#2a3f5f\"}, \"error_y\": {\"color\": \"#2a3f5f\"}, \"marker\": {\"line\": {\"color\": \"#E5ECF6\", \"width\": 0.5}}, \"type\": \"bar\"}], \"barpolar\": [{\"marker\": {\"line\": {\"color\": \"#E5ECF6\", \"width\": 0.5}}, \"type\": \"barpolar\"}], \"carpet\": [{\"aaxis\": {\"endlinecolor\": \"#2a3f5f\", \"gridcolor\": \"white\", \"linecolor\": \"white\", \"minorgridcolor\": \"white\", \"startlinecolor\": \"#2a3f5f\"}, \"baxis\": {\"endlinecolor\": \"#2a3f5f\", \"gridcolor\": \"white\", \"linecolor\": \"white\", \"minorgridcolor\": \"white\", \"startlinecolor\": \"#2a3f5f\"}, \"type\": \"carpet\"}], \"choropleth\": [{\"colorbar\": {\"outlinewidth\": 0, \"ticks\": \"\"}, \"type\": \"choropleth\"}], \"contour\": [{\"colorbar\": {\"outlinewidth\": 0, \"ticks\": \"\"}, \"colorscale\": [[0.0, \"#0d0887\"], [0.1111111111111111, \"#46039f\"], [0.2222222222222222, \"#7201a8\"], [0.3333333333333333, \"#9c179e\"], [0.4444444444444444, \"#bd3786\"], [0.5555555555555556, \"#d8576b\"], [0.6666666666666666, \"#ed7953\"], [0.7777777777777778, \"#fb9f3a\"], [0.8888888888888888, \"#fdca26\"], [1.0, \"#f0f921\"]], \"type\": \"contour\"}], \"contourcarpet\": [{\"colorbar\": {\"outlinewidth\": 0, \"ticks\": \"\"}, \"type\": \"contourcarpet\"}], \"heatmap\": [{\"colorbar\": {\"outlinewidth\": 0, \"ticks\": \"\"}, \"colorscale\": [[0.0, \"#0d0887\"], [0.1111111111111111, \"#46039f\"], [0.2222222222222222, \"#7201a8\"], [0.3333333333333333, \"#9c179e\"], [0.4444444444444444, \"#bd3786\"], [0.5555555555555556, \"#d8576b\"], [0.6666666666666666, \"#ed7953\"], [0.7777777777777778, \"#fb9f3a\"], [0.8888888888888888, \"#fdca26\"], [1.0, \"#f0f921\"]], \"type\": \"heatmap\"}], \"heatmapgl\": [{\"colorbar\": {\"outlinewidth\": 0, \"ticks\": \"\"}, \"colorscale\": [[0.0, \"#0d0887\"], [0.1111111111111111, \"#46039f\"], [0.2222222222222222, \"#7201a8\"], [0.3333333333333333, \"#9c179e\"], [0.4444444444444444, \"#bd3786\"], [0.5555555555555556, \"#d8576b\"], [0.6666666666666666, \"#ed7953\"], [0.7777777777777778, \"#fb9f3a\"], [0.8888888888888888, \"#fdca26\"], [1.0, \"#f0f921\"]], \"type\": \"heatmapgl\"}], \"histogram\": [{\"marker\": {\"colorbar\": {\"outlinewidth\": 0, \"ticks\": \"\"}}, \"type\": \"histogram\"}], \"histogram2d\": [{\"colorbar\": {\"outlinewidth\": 0, \"ticks\": \"\"}, \"colorscale\": [[0.0, \"#0d0887\"], [0.1111111111111111, \"#46039f\"], [0.2222222222222222, \"#7201a8\"], [0.3333333333333333, \"#9c179e\"], [0.4444444444444444, \"#bd3786\"], [0.5555555555555556, \"#d8576b\"], [0.6666666666666666, \"#ed7953\"], [0.7777777777777778, \"#fb9f3a\"], [0.8888888888888888, \"#fdca26\"], [1.0, \"#f0f921\"]], \"type\": \"histogram2d\"}], \"histogram2dcontour\": [{\"colorbar\": {\"outlinewidth\": 0, \"ticks\": \"\"}, \"colorscale\": [[0.0, \"#0d0887\"], [0.1111111111111111, \"#46039f\"], [0.2222222222222222, \"#7201a8\"], [0.3333333333333333, \"#9c179e\"], [0.4444444444444444, \"#bd3786\"], [0.5555555555555556, \"#d8576b\"], [0.6666666666666666, \"#ed7953\"], [0.7777777777777778, \"#fb9f3a\"], [0.8888888888888888, \"#fdca26\"], [1.0, \"#f0f921\"]], \"type\": \"histogram2dcontour\"}], \"mesh3d\": [{\"colorbar\": {\"outlinewidth\": 0, \"ticks\": \"\"}, \"type\": \"mesh3d\"}], \"parcoords\": [{\"line\": {\"colorbar\": {\"outlinewidth\": 0, \"ticks\": \"\"}}, \"type\": \"parcoords\"}], \"pie\": [{\"automargin\": true, \"type\": \"pie\"}], \"scatter\": [{\"marker\": {\"colorbar\": {\"outlinewidth\": 0, \"ticks\": \"\"}}, \"type\": \"scatter\"}], \"scatter3d\": [{\"line\": {\"colorbar\": {\"outlinewidth\": 0, \"ticks\": \"\"}}, \"marker\": {\"colorbar\": {\"outlinewidth\": 0, \"ticks\": \"\"}}, \"type\": \"scatter3d\"}], \"scattercarpet\": [{\"marker\": {\"colorbar\": {\"outlinewidth\": 0, \"ticks\": \"\"}}, \"type\": \"scattercarpet\"}], \"scattergeo\": [{\"marker\": {\"colorbar\": {\"outlinewidth\": 0, \"ticks\": \"\"}}, \"type\": \"scattergeo\"}], \"scattergl\": [{\"marker\": {\"colorbar\": {\"outlinewidth\": 0, \"ticks\": \"\"}}, \"type\": \"scattergl\"}], \"scattermapbox\": [{\"marker\": {\"colorbar\": {\"outlinewidth\": 0, \"ticks\": \"\"}}, \"type\": \"scattermapbox\"}], \"scatterpolar\": [{\"marker\": {\"colorbar\": {\"outlinewidth\": 0, \"ticks\": \"\"}}, \"type\": \"scatterpolar\"}], \"scatterpolargl\": [{\"marker\": {\"colorbar\": {\"outlinewidth\": 0, \"ticks\": \"\"}}, \"type\": \"scatterpolargl\"}], \"scatterternary\": [{\"marker\": {\"colorbar\": {\"outlinewidth\": 0, \"ticks\": \"\"}}, \"type\": \"scatterternary\"}], \"surface\": [{\"colorbar\": {\"outlinewidth\": 0, \"ticks\": \"\"}, \"colorscale\": [[0.0, \"#0d0887\"], [0.1111111111111111, \"#46039f\"], [0.2222222222222222, \"#7201a8\"], [0.3333333333333333, \"#9c179e\"], [0.4444444444444444, \"#bd3786\"], [0.5555555555555556, \"#d8576b\"], [0.6666666666666666, \"#ed7953\"], [0.7777777777777778, \"#fb9f3a\"], [0.8888888888888888, \"#fdca26\"], [1.0, \"#f0f921\"]], \"type\": \"surface\"}], \"table\": [{\"cells\": {\"fill\": {\"color\": \"#EBF0F8\"}, \"line\": {\"color\": \"white\"}}, \"header\": {\"fill\": {\"color\": \"#C8D4E3\"}, \"line\": {\"color\": \"white\"}}, \"type\": \"table\"}]}, \"layout\": {\"annotationdefaults\": {\"arrowcolor\": \"#2a3f5f\", \"arrowhead\": 0, \"arrowwidth\": 1}, \"coloraxis\": {\"colorbar\": {\"outlinewidth\": 0, \"ticks\": \"\"}}, \"colorscale\": {\"diverging\": [[0, \"#8e0152\"], [0.1, \"#c51b7d\"], [0.2, \"#de77ae\"], [0.3, \"#f1b6da\"], [0.4, \"#fde0ef\"], [0.5, \"#f7f7f7\"], [0.6, \"#e6f5d0\"], [0.7, \"#b8e186\"], [0.8, \"#7fbc41\"], [0.9, \"#4d9221\"], [1, \"#276419\"]], \"sequential\": [[0.0, \"#0d0887\"], [0.1111111111111111, \"#46039f\"], [0.2222222222222222, \"#7201a8\"], [0.3333333333333333, \"#9c179e\"], [0.4444444444444444, \"#bd3786\"], [0.5555555555555556, \"#d8576b\"], [0.6666666666666666, \"#ed7953\"], [0.7777777777777778, \"#fb9f3a\"], [0.8888888888888888, \"#fdca26\"], [1.0, \"#f0f921\"]], \"sequentialminus\": [[0.0, \"#0d0887\"], [0.1111111111111111, \"#46039f\"], [0.2222222222222222, \"#7201a8\"], [0.3333333333333333, \"#9c179e\"], [0.4444444444444444, \"#bd3786\"], [0.5555555555555556, \"#d8576b\"], [0.6666666666666666, \"#ed7953\"], [0.7777777777777778, \"#fb9f3a\"], [0.8888888888888888, \"#fdca26\"], [1.0, \"#f0f921\"]]}, \"colorway\": [\"#636efa\", \"#EF553B\", \"#00cc96\", \"#ab63fa\", \"#FFA15A\", \"#19d3f3\", \"#FF6692\", \"#B6E880\", \"#FF97FF\", \"#FECB52\"], \"font\": {\"color\": \"#2a3f5f\"}, \"geo\": {\"bgcolor\": \"white\", \"lakecolor\": \"white\", \"landcolor\": \"#E5ECF6\", \"showlakes\": true, \"showland\": true, \"subunitcolor\": \"white\"}, \"hoverlabel\": {\"align\": \"left\"}, \"hovermode\": \"closest\", \"mapbox\": {\"style\": \"light\"}, \"paper_bgcolor\": \"white\", \"plot_bgcolor\": \"#E5ECF6\", \"polar\": {\"angularaxis\": {\"gridcolor\": \"white\", \"linecolor\": \"white\", \"ticks\": \"\"}, \"bgcolor\": \"#E5ECF6\", \"radialaxis\": {\"gridcolor\": \"white\", \"linecolor\": \"white\", \"ticks\": \"\"}}, \"scene\": {\"xaxis\": {\"backgroundcolor\": \"#E5ECF6\", \"gridcolor\": \"white\", \"gridwidth\": 2, \"linecolor\": \"white\", \"showbackground\": true, \"ticks\": \"\", \"zerolinecolor\": \"white\"}, \"yaxis\": {\"backgroundcolor\": \"#E5ECF6\", \"gridcolor\": \"white\", \"gridwidth\": 2, \"linecolor\": \"white\", \"showbackground\": true, \"ticks\": \"\", \"zerolinecolor\": \"white\"}, \"zaxis\": {\"backgroundcolor\": \"#E5ECF6\", \"gridcolor\": \"white\", \"gridwidth\": 2, \"linecolor\": \"white\", \"showbackground\": true, \"ticks\": \"\", \"zerolinecolor\": \"white\"}}, \"shapedefaults\": {\"line\": {\"color\": \"#2a3f5f\"}}, \"ternary\": {\"aaxis\": {\"gridcolor\": \"white\", \"linecolor\": \"white\", \"ticks\": \"\"}, \"baxis\": {\"gridcolor\": \"white\", \"linecolor\": \"white\", \"ticks\": \"\"}, \"bgcolor\": \"#E5ECF6\", \"caxis\": {\"gridcolor\": \"white\", \"linecolor\": \"white\", \"ticks\": \"\"}}, \"title\": {\"x\": 0.05}, \"xaxis\": {\"automargin\": true, \"gridcolor\": \"white\", \"linecolor\": \"white\", \"ticks\": \"\", \"title\": {\"standoff\": 15}, \"zerolinecolor\": \"white\", \"zerolinewidth\": 2}, \"yaxis\": {\"automargin\": true, \"gridcolor\": \"white\", \"linecolor\": \"white\", \"ticks\": \"\", \"title\": {\"standoff\": 15}, \"zerolinecolor\": \"white\", \"zerolinewidth\": 2}}}, \"title\": {\"text\": \"Scores de TREINO/TESTE dos regressores na base de pessoas agrupadas (mes, ano, tipo_veiculo).\"}},\n",
              "                        {\"responsive\": true}\n",
              "                    ).then(function(){\n",
              "                            \n",
              "var gd = document.getElementById('4210343d-3fdd-4c83-885c-a1e7f4bdada7');\n",
              "var x = new MutationObserver(function (mutations, observer) {{\n",
              "        var display = window.getComputedStyle(gd).display;\n",
              "        if (!display || display === 'none') {{\n",
              "            console.log([gd, 'removed!']);\n",
              "            Plotly.purge(gd);\n",
              "            observer.disconnect();\n",
              "        }}\n",
              "}});\n",
              "\n",
              "// Listen for the removal of the full notebook cells\n",
              "var notebookContainer = gd.closest('#notebook-container');\n",
              "if (notebookContainer) {{\n",
              "    x.observe(notebookContainer, {childList: true});\n",
              "}}\n",
              "\n",
              "// Listen for the clearing of the current output cell\n",
              "var outputEl = gd.closest('.output');\n",
              "if (outputEl) {{\n",
              "    x.observe(outputEl, {childList: true});\n",
              "}}\n",
              "\n",
              "                        })\n",
              "                };\n",
              "                \n",
              "            </script>\n",
              "        </div>\n",
              "</body>\n",
              "</html>"
            ]
          },
          "metadata": {
            "tags": []
          }
        }
      ]
    },
    {
      "cell_type": "code",
      "metadata": {
        "id": "KSK1todPaV_A",
        "outputId": "ccc29f03-252c-4bbd-da7f-b96ee567677a",
        "colab": {
          "base_uri": "https://localhost:8080/"
        }
      },
      "source": [
        "px.bar(x=regressores, y=maes, color=maes , title='ERRO MÉDIO ABSOLUTO dos regressores na base de pessoas agrupadas (mes, ano, sexo).')"
      ],
      "execution_count": null,
      "outputs": [
        {
          "output_type": "display_data",
          "data": {
            "text/html": [
              "<html>\n",
              "<head><meta charset=\"utf-8\" /></head>\n",
              "<body>\n",
              "    <div>\n",
              "            <script src=\"https://cdnjs.cloudflare.com/ajax/libs/mathjax/2.7.5/MathJax.js?config=TeX-AMS-MML_SVG\"></script><script type=\"text/javascript\">if (window.MathJax) {MathJax.Hub.Config({SVG: {font: \"STIX-Web\"}});}</script>\n",
              "                <script type=\"text/javascript\">window.PlotlyConfig = {MathJaxConfig: 'local'};</script>\n",
              "        <script src=\"https://cdn.plot.ly/plotly-latest.min.js\"></script>    \n",
              "            <div id=\"90475998-47c8-4eca-838c-16a45edfc109\" class=\"plotly-graph-div\" style=\"height:525px; width:100%;\"></div>\n",
              "            <script type=\"text/javascript\">\n",
              "                \n",
              "                    window.PLOTLYENV=window.PLOTLYENV || {};\n",
              "                    \n",
              "                if (document.getElementById(\"90475998-47c8-4eca-838c-16a45edfc109\")) {\n",
              "                    Plotly.newPlot(\n",
              "                        '90475998-47c8-4eca-838c-16a45edfc109',\n",
              "                        [{\"alignmentgroup\": \"True\", \"hoverlabel\": {\"namelength\": 0}, \"hovertemplate\": \"x=%{x}<br>y=%{y}<br>color=%{marker.color}\", \"legendgroup\": \"\", \"marker\": {\"color\": [349.66194055447977, 288.28534474316984, 40.8984375, 34.509114583333336, 293.7153789459597, 151.77031250000002], \"coloraxis\": \"coloraxis\"}, \"name\": \"\", \"offsetgroup\": \"\", \"orientation\": \"v\", \"showlegend\": false, \"textposition\": \"auto\", \"type\": \"bar\", \"x\": [\"Linear\", \"Polinomial\", \"Decision Tree\", \"Random Forest\", \"MLP\", \"KNN\"], \"xaxis\": \"x\", \"y\": [349.66194055447977, 288.28534474316984, 40.8984375, 34.509114583333336, 293.7153789459597, 151.77031250000002], \"yaxis\": \"y\"}],\n",
              "                        {\"barmode\": \"relative\", \"coloraxis\": {\"colorbar\": {\"title\": {\"text\": \"color\"}}, \"colorscale\": [[0.0, \"#0d0887\"], [0.1111111111111111, \"#46039f\"], [0.2222222222222222, \"#7201a8\"], [0.3333333333333333, \"#9c179e\"], [0.4444444444444444, \"#bd3786\"], [0.5555555555555556, \"#d8576b\"], [0.6666666666666666, \"#ed7953\"], [0.7777777777777778, \"#fb9f3a\"], [0.8888888888888888, \"#fdca26\"], [1.0, \"#f0f921\"]]}, \"legend\": {\"tracegroupgap\": 0}, \"template\": {\"data\": {\"bar\": [{\"error_x\": {\"color\": \"#2a3f5f\"}, \"error_y\": {\"color\": \"#2a3f5f\"}, \"marker\": {\"line\": {\"color\": \"#E5ECF6\", \"width\": 0.5}}, \"type\": \"bar\"}], \"barpolar\": [{\"marker\": {\"line\": {\"color\": \"#E5ECF6\", \"width\": 0.5}}, \"type\": \"barpolar\"}], \"carpet\": [{\"aaxis\": {\"endlinecolor\": \"#2a3f5f\", \"gridcolor\": \"white\", \"linecolor\": \"white\", \"minorgridcolor\": \"white\", \"startlinecolor\": \"#2a3f5f\"}, \"baxis\": {\"endlinecolor\": \"#2a3f5f\", \"gridcolor\": \"white\", \"linecolor\": \"white\", \"minorgridcolor\": \"white\", \"startlinecolor\": \"#2a3f5f\"}, \"type\": \"carpet\"}], \"choropleth\": [{\"colorbar\": {\"outlinewidth\": 0, \"ticks\": \"\"}, \"type\": \"choropleth\"}], \"contour\": [{\"colorbar\": {\"outlinewidth\": 0, \"ticks\": \"\"}, \"colorscale\": [[0.0, \"#0d0887\"], [0.1111111111111111, \"#46039f\"], [0.2222222222222222, \"#7201a8\"], [0.3333333333333333, \"#9c179e\"], [0.4444444444444444, \"#bd3786\"], [0.5555555555555556, \"#d8576b\"], [0.6666666666666666, \"#ed7953\"], [0.7777777777777778, \"#fb9f3a\"], [0.8888888888888888, \"#fdca26\"], [1.0, \"#f0f921\"]], \"type\": \"contour\"}], \"contourcarpet\": [{\"colorbar\": {\"outlinewidth\": 0, \"ticks\": \"\"}, \"type\": \"contourcarpet\"}], \"heatmap\": [{\"colorbar\": {\"outlinewidth\": 0, \"ticks\": \"\"}, \"colorscale\": [[0.0, \"#0d0887\"], [0.1111111111111111, \"#46039f\"], [0.2222222222222222, \"#7201a8\"], [0.3333333333333333, \"#9c179e\"], [0.4444444444444444, \"#bd3786\"], [0.5555555555555556, \"#d8576b\"], [0.6666666666666666, \"#ed7953\"], [0.7777777777777778, \"#fb9f3a\"], [0.8888888888888888, \"#fdca26\"], [1.0, \"#f0f921\"]], \"type\": \"heatmap\"}], \"heatmapgl\": [{\"colorbar\": {\"outlinewidth\": 0, \"ticks\": \"\"}, \"colorscale\": [[0.0, \"#0d0887\"], [0.1111111111111111, \"#46039f\"], [0.2222222222222222, \"#7201a8\"], [0.3333333333333333, \"#9c179e\"], [0.4444444444444444, \"#bd3786\"], [0.5555555555555556, \"#d8576b\"], [0.6666666666666666, \"#ed7953\"], [0.7777777777777778, \"#fb9f3a\"], [0.8888888888888888, \"#fdca26\"], [1.0, \"#f0f921\"]], \"type\": \"heatmapgl\"}], \"histogram\": [{\"marker\": {\"colorbar\": {\"outlinewidth\": 0, \"ticks\": \"\"}}, \"type\": \"histogram\"}], \"histogram2d\": [{\"colorbar\": {\"outlinewidth\": 0, \"ticks\": \"\"}, \"colorscale\": [[0.0, \"#0d0887\"], [0.1111111111111111, \"#46039f\"], [0.2222222222222222, \"#7201a8\"], [0.3333333333333333, \"#9c179e\"], [0.4444444444444444, \"#bd3786\"], [0.5555555555555556, \"#d8576b\"], [0.6666666666666666, \"#ed7953\"], [0.7777777777777778, \"#fb9f3a\"], [0.8888888888888888, \"#fdca26\"], [1.0, \"#f0f921\"]], \"type\": \"histogram2d\"}], \"histogram2dcontour\": [{\"colorbar\": {\"outlinewidth\": 0, \"ticks\": \"\"}, \"colorscale\": [[0.0, \"#0d0887\"], [0.1111111111111111, \"#46039f\"], [0.2222222222222222, \"#7201a8\"], [0.3333333333333333, \"#9c179e\"], [0.4444444444444444, \"#bd3786\"], [0.5555555555555556, \"#d8576b\"], [0.6666666666666666, \"#ed7953\"], [0.7777777777777778, \"#fb9f3a\"], [0.8888888888888888, \"#fdca26\"], [1.0, \"#f0f921\"]], \"type\": \"histogram2dcontour\"}], \"mesh3d\": [{\"colorbar\": {\"outlinewidth\": 0, \"ticks\": \"\"}, \"type\": \"mesh3d\"}], \"parcoords\": [{\"line\": {\"colorbar\": {\"outlinewidth\": 0, \"ticks\": \"\"}}, \"type\": \"parcoords\"}], \"pie\": [{\"automargin\": true, \"type\": \"pie\"}], \"scatter\": [{\"marker\": {\"colorbar\": {\"outlinewidth\": 0, \"ticks\": \"\"}}, \"type\": \"scatter\"}], \"scatter3d\": [{\"line\": {\"colorbar\": {\"outlinewidth\": 0, \"ticks\": \"\"}}, \"marker\": {\"colorbar\": {\"outlinewidth\": 0, \"ticks\": \"\"}}, \"type\": \"scatter3d\"}], \"scattercarpet\": [{\"marker\": {\"colorbar\": {\"outlinewidth\": 0, \"ticks\": \"\"}}, \"type\": \"scattercarpet\"}], \"scattergeo\": [{\"marker\": {\"colorbar\": {\"outlinewidth\": 0, \"ticks\": \"\"}}, \"type\": \"scattergeo\"}], \"scattergl\": [{\"marker\": {\"colorbar\": {\"outlinewidth\": 0, \"ticks\": \"\"}}, \"type\": \"scattergl\"}], \"scattermapbox\": [{\"marker\": {\"colorbar\": {\"outlinewidth\": 0, \"ticks\": \"\"}}, \"type\": \"scattermapbox\"}], \"scatterpolar\": [{\"marker\": {\"colorbar\": {\"outlinewidth\": 0, \"ticks\": \"\"}}, \"type\": \"scatterpolar\"}], \"scatterpolargl\": [{\"marker\": {\"colorbar\": {\"outlinewidth\": 0, \"ticks\": \"\"}}, \"type\": \"scatterpolargl\"}], \"scatterternary\": [{\"marker\": {\"colorbar\": {\"outlinewidth\": 0, \"ticks\": \"\"}}, \"type\": \"scatterternary\"}], \"surface\": [{\"colorbar\": {\"outlinewidth\": 0, \"ticks\": \"\"}, \"colorscale\": [[0.0, \"#0d0887\"], [0.1111111111111111, \"#46039f\"], [0.2222222222222222, \"#7201a8\"], [0.3333333333333333, \"#9c179e\"], [0.4444444444444444, \"#bd3786\"], [0.5555555555555556, \"#d8576b\"], [0.6666666666666666, \"#ed7953\"], [0.7777777777777778, \"#fb9f3a\"], [0.8888888888888888, \"#fdca26\"], [1.0, \"#f0f921\"]], \"type\": \"surface\"}], \"table\": [{\"cells\": {\"fill\": {\"color\": \"#EBF0F8\"}, \"line\": {\"color\": \"white\"}}, \"header\": {\"fill\": {\"color\": \"#C8D4E3\"}, \"line\": {\"color\": \"white\"}}, \"type\": \"table\"}]}, \"layout\": {\"annotationdefaults\": {\"arrowcolor\": \"#2a3f5f\", \"arrowhead\": 0, \"arrowwidth\": 1}, \"coloraxis\": {\"colorbar\": {\"outlinewidth\": 0, \"ticks\": \"\"}}, \"colorscale\": {\"diverging\": [[0, \"#8e0152\"], [0.1, \"#c51b7d\"], [0.2, \"#de77ae\"], [0.3, \"#f1b6da\"], [0.4, \"#fde0ef\"], [0.5, \"#f7f7f7\"], [0.6, \"#e6f5d0\"], [0.7, \"#b8e186\"], [0.8, \"#7fbc41\"], [0.9, \"#4d9221\"], [1, \"#276419\"]], \"sequential\": [[0.0, \"#0d0887\"], [0.1111111111111111, \"#46039f\"], [0.2222222222222222, \"#7201a8\"], [0.3333333333333333, \"#9c179e\"], [0.4444444444444444, \"#bd3786\"], [0.5555555555555556, \"#d8576b\"], [0.6666666666666666, \"#ed7953\"], [0.7777777777777778, \"#fb9f3a\"], [0.8888888888888888, \"#fdca26\"], [1.0, \"#f0f921\"]], \"sequentialminus\": [[0.0, \"#0d0887\"], [0.1111111111111111, \"#46039f\"], [0.2222222222222222, \"#7201a8\"], [0.3333333333333333, \"#9c179e\"], [0.4444444444444444, \"#bd3786\"], [0.5555555555555556, \"#d8576b\"], [0.6666666666666666, \"#ed7953\"], [0.7777777777777778, \"#fb9f3a\"], [0.8888888888888888, \"#fdca26\"], [1.0, \"#f0f921\"]]}, \"colorway\": [\"#636efa\", \"#EF553B\", \"#00cc96\", \"#ab63fa\", \"#FFA15A\", \"#19d3f3\", \"#FF6692\", \"#B6E880\", \"#FF97FF\", \"#FECB52\"], \"font\": {\"color\": \"#2a3f5f\"}, \"geo\": {\"bgcolor\": \"white\", \"lakecolor\": \"white\", \"landcolor\": \"#E5ECF6\", \"showlakes\": true, \"showland\": true, \"subunitcolor\": \"white\"}, \"hoverlabel\": {\"align\": \"left\"}, \"hovermode\": \"closest\", \"mapbox\": {\"style\": \"light\"}, \"paper_bgcolor\": \"white\", \"plot_bgcolor\": \"#E5ECF6\", \"polar\": {\"angularaxis\": {\"gridcolor\": \"white\", \"linecolor\": \"white\", \"ticks\": \"\"}, \"bgcolor\": \"#E5ECF6\", \"radialaxis\": {\"gridcolor\": \"white\", \"linecolor\": \"white\", \"ticks\": \"\"}}, \"scene\": {\"xaxis\": {\"backgroundcolor\": \"#E5ECF6\", \"gridcolor\": \"white\", \"gridwidth\": 2, \"linecolor\": \"white\", \"showbackground\": true, \"ticks\": \"\", \"zerolinecolor\": \"white\"}, \"yaxis\": {\"backgroundcolor\": \"#E5ECF6\", \"gridcolor\": \"white\", \"gridwidth\": 2, \"linecolor\": \"white\", \"showbackground\": true, \"ticks\": \"\", \"zerolinecolor\": \"white\"}, \"zaxis\": {\"backgroundcolor\": \"#E5ECF6\", \"gridcolor\": \"white\", \"gridwidth\": 2, \"linecolor\": \"white\", \"showbackground\": true, \"ticks\": \"\", \"zerolinecolor\": \"white\"}}, \"shapedefaults\": {\"line\": {\"color\": \"#2a3f5f\"}}, \"ternary\": {\"aaxis\": {\"gridcolor\": \"white\", \"linecolor\": \"white\", \"ticks\": \"\"}, \"baxis\": {\"gridcolor\": \"white\", \"linecolor\": \"white\", \"ticks\": \"\"}, \"bgcolor\": \"#E5ECF6\", \"caxis\": {\"gridcolor\": \"white\", \"linecolor\": \"white\", \"ticks\": \"\"}}, \"title\": {\"x\": 0.05}, \"xaxis\": {\"automargin\": true, \"gridcolor\": \"white\", \"linecolor\": \"white\", \"ticks\": \"\", \"title\": {\"standoff\": 15}, \"zerolinecolor\": \"white\", \"zerolinewidth\": 2}, \"yaxis\": {\"automargin\": true, \"gridcolor\": \"white\", \"linecolor\": \"white\", \"ticks\": \"\", \"title\": {\"standoff\": 15}, \"zerolinecolor\": \"white\", \"zerolinewidth\": 2}}}, \"title\": {\"text\": \"ERRO M\\u00c9DIO ABSOLUTO dos regressores na base de pessoas agrupadas (mes, ano, sexo).\"}, \"xaxis\": {\"anchor\": \"y\", \"domain\": [0.0, 1.0], \"title\": {\"text\": \"x\"}}, \"yaxis\": {\"anchor\": \"x\", \"domain\": [0.0, 1.0], \"title\": {\"text\": \"y\"}}},\n",
              "                        {\"responsive\": true}\n",
              "                    ).then(function(){\n",
              "                            \n",
              "var gd = document.getElementById('90475998-47c8-4eca-838c-16a45edfc109');\n",
              "var x = new MutationObserver(function (mutations, observer) {{\n",
              "        var display = window.getComputedStyle(gd).display;\n",
              "        if (!display || display === 'none') {{\n",
              "            console.log([gd, 'removed!']);\n",
              "            Plotly.purge(gd);\n",
              "            observer.disconnect();\n",
              "        }}\n",
              "}});\n",
              "\n",
              "// Listen for the removal of the full notebook cells\n",
              "var notebookContainer = gd.closest('#notebook-container');\n",
              "if (notebookContainer) {{\n",
              "    x.observe(notebookContainer, {childList: true});\n",
              "}}\n",
              "\n",
              "// Listen for the clearing of the current output cell\n",
              "var outputEl = gd.closest('.output');\n",
              "if (outputEl) {{\n",
              "    x.observe(outputEl, {childList: true});\n",
              "}}\n",
              "\n",
              "                        })\n",
              "                };\n",
              "                \n",
              "            </script>\n",
              "        </div>\n",
              "</body>\n",
              "</html>"
            ]
          },
          "metadata": {
            "tags": []
          }
        }
      ]
    },
    {
      "cell_type": "markdown",
      "metadata": {
        "id": "ddqf-609v6JV"
      },
      "source": [
        "##### Extrapolação dos dados"
      ]
    },
    {
      "cell_type": "markdown",
      "metadata": {
        "id": "rc-Q8okzv6Je"
      },
      "source": [
        "###### Criando as novas amostras (X)"
      ]
    },
    {
      "cell_type": "code",
      "metadata": {
        "id": "kE2s2aekv6Jk",
        "outputId": "3eb9bd88-e880-4e82-ba91-8c28b8638160",
        "colab": {
          "base_uri": "https://localhost:8080/"
        }
      },
      "source": [
        "import numpy as np\n",
        "monthNames = ['July', 'August', 'September', 'October', 'November', 'December'];\n",
        "ano = ['2020']\n",
        "tipo_veiculo = df['tipo_veiculo'].unique()\n",
        "\n",
        "comb  = np.array(np.meshgrid(ano, monthNames, tipo_veiculo)).T.reshape(-1,3)\n",
        "df_novo1 = pd.DataFrame(comb, columns=['ano', 'mes', 'tipo_veiculo'])\n",
        "\n",
        "monthNames = [\"January\"];\n",
        "ano = ['2021']\n",
        "\n",
        "comb  = np.array(np.meshgrid(ano, monthNames, tipo_veiculo)).T.reshape(-1,3)\n",
        "df_novo2 = pd.DataFrame(comb, columns=['ano', 'mes', 'tipo_veiculo'])\n",
        "\n",
        "df_novo = pd.concat([df_novo1, df_novo2])\n",
        "df_novo.index = [i for i in range(len(df_novo))]\n",
        "\n",
        "df_novo_concatenado = pd.concat([df, df_novo])\n",
        "\n",
        "LE = LabelEncoder()\n",
        "df_novo_concatenado['tipo_veiculo'] = LE.fit_transform(df_novo_concatenado['tipo_veiculo'])\n",
        "meses = ['January', 'February', 'March', 'April', 'May', 'June', 'July', 'August', 'September', 'October', 'November', 'December']\n",
        "for mes in meses:\n",
        "  df_novo_concatenado.loc[df_novo_concatenado.mes == mes, 'mes'] = meses.index(mes) + 1\n",
        "df_novo_concatenado.index = [i for i in range(len(df_novo_concatenado))]\n",
        "df_novo_concatenado"
      ],
      "execution_count": null,
      "outputs": [
        {
          "output_type": "execute_result",
          "data": {
            "text/html": [
              "<div>\n",
              "<style scoped>\n",
              "    .dataframe tbody tr th:only-of-type {\n",
              "        vertical-align: middle;\n",
              "    }\n",
              "\n",
              "    .dataframe tbody tr th {\n",
              "        vertical-align: top;\n",
              "    }\n",
              "\n",
              "    .dataframe thead th {\n",
              "        text-align: right;\n",
              "    }\n",
              "</style>\n",
              "<table border=\"1\" class=\"dataframe\">\n",
              "  <thead>\n",
              "    <tr style=\"text-align: right;\">\n",
              "      <th></th>\n",
              "      <th>ano</th>\n",
              "      <th>mes</th>\n",
              "      <th>tipo_veiculo</th>\n",
              "      <th>qtd_acidentes</th>\n",
              "      <th>qtd_pessoas</th>\n",
              "      <th>qtd_ilesos</th>\n",
              "      <th>qtd_feridos_leves</th>\n",
              "      <th>qtd_feridos_graves</th>\n",
              "      <th>qtd_mortos</th>\n",
              "    </tr>\n",
              "  </thead>\n",
              "  <tbody>\n",
              "    <tr>\n",
              "      <th>0</th>\n",
              "      <td>2017</td>\n",
              "      <td>4</td>\n",
              "      <td>0</td>\n",
              "      <td>4453.0</td>\n",
              "      <td>8474.0</td>\n",
              "      <td>4852.0</td>\n",
              "      <td>2415.0</td>\n",
              "      <td>565.0</td>\n",
              "      <td>192.0</td>\n",
              "    </tr>\n",
              "    <tr>\n",
              "      <th>1</th>\n",
              "      <td>2017</td>\n",
              "      <td>4</td>\n",
              "      <td>1</td>\n",
              "      <td>171.0</td>\n",
              "      <td>188.0</td>\n",
              "      <td>8.0</td>\n",
              "      <td>108.0</td>\n",
              "      <td>42.0</td>\n",
              "      <td>15.0</td>\n",
              "    </tr>\n",
              "    <tr>\n",
              "      <th>2</th>\n",
              "      <td>2017</td>\n",
              "      <td>4</td>\n",
              "      <td>2</td>\n",
              "      <td>1090.0</td>\n",
              "      <td>1643.0</td>\n",
              "      <td>1019.0</td>\n",
              "      <td>400.0</td>\n",
              "      <td>111.0</td>\n",
              "      <td>38.0</td>\n",
              "    </tr>\n",
              "    <tr>\n",
              "      <th>3</th>\n",
              "      <td>2017</td>\n",
              "      <td>4</td>\n",
              "      <td>3</td>\n",
              "      <td>998.0</td>\n",
              "      <td>1261.0</td>\n",
              "      <td>896.0</td>\n",
              "      <td>189.0</td>\n",
              "      <td>53.0</td>\n",
              "      <td>33.0</td>\n",
              "    </tr>\n",
              "    <tr>\n",
              "      <th>4</th>\n",
              "      <td>2017</td>\n",
              "      <td>4</td>\n",
              "      <td>4</td>\n",
              "      <td>1156.0</td>\n",
              "      <td>1352.0</td>\n",
              "      <td>1053.0</td>\n",
              "      <td>184.0</td>\n",
              "      <td>45.0</td>\n",
              "      <td>27.0</td>\n",
              "    </tr>\n",
              "    <tr>\n",
              "      <th>...</th>\n",
              "      <td>...</td>\n",
              "      <td>...</td>\n",
              "      <td>...</td>\n",
              "      <td>...</td>\n",
              "      <td>...</td>\n",
              "      <td>...</td>\n",
              "      <td>...</td>\n",
              "      <td>...</td>\n",
              "      <td>...</td>\n",
              "    </tr>\n",
              "    <tr>\n",
              "      <th>1022</th>\n",
              "      <td>2021</td>\n",
              "      <td>1</td>\n",
              "      <td>24</td>\n",
              "      <td>NaN</td>\n",
              "      <td>NaN</td>\n",
              "      <td>NaN</td>\n",
              "      <td>NaN</td>\n",
              "      <td>NaN</td>\n",
              "      <td>NaN</td>\n",
              "    </tr>\n",
              "    <tr>\n",
              "      <th>1023</th>\n",
              "      <td>2021</td>\n",
              "      <td>1</td>\n",
              "      <td>15</td>\n",
              "      <td>NaN</td>\n",
              "      <td>NaN</td>\n",
              "      <td>NaN</td>\n",
              "      <td>NaN</td>\n",
              "      <td>NaN</td>\n",
              "      <td>NaN</td>\n",
              "    </tr>\n",
              "    <tr>\n",
              "      <th>1024</th>\n",
              "      <td>2021</td>\n",
              "      <td>1</td>\n",
              "      <td>18</td>\n",
              "      <td>NaN</td>\n",
              "      <td>NaN</td>\n",
              "      <td>NaN</td>\n",
              "      <td>NaN</td>\n",
              "      <td>NaN</td>\n",
              "      <td>NaN</td>\n",
              "    </tr>\n",
              "    <tr>\n",
              "      <th>1025</th>\n",
              "      <td>2021</td>\n",
              "      <td>1</td>\n",
              "      <td>22</td>\n",
              "      <td>NaN</td>\n",
              "      <td>NaN</td>\n",
              "      <td>NaN</td>\n",
              "      <td>NaN</td>\n",
              "      <td>NaN</td>\n",
              "      <td>NaN</td>\n",
              "    </tr>\n",
              "    <tr>\n",
              "      <th>1026</th>\n",
              "      <td>2021</td>\n",
              "      <td>1</td>\n",
              "      <td>6</td>\n",
              "      <td>NaN</td>\n",
              "      <td>NaN</td>\n",
              "      <td>NaN</td>\n",
              "      <td>NaN</td>\n",
              "      <td>NaN</td>\n",
              "      <td>NaN</td>\n",
              "    </tr>\n",
              "  </tbody>\n",
              "</table>\n",
              "<p>1027 rows × 9 columns</p>\n",
              "</div>"
            ],
            "text/plain": [
              "       ano mes  tipo_veiculo  ...  qtd_feridos_leves  qtd_feridos_graves  qtd_mortos\n",
              "0     2017   4             0  ...             2415.0               565.0       192.0\n",
              "1     2017   4             1  ...              108.0                42.0        15.0\n",
              "2     2017   4             2  ...              400.0               111.0        38.0\n",
              "3     2017   4             3  ...              189.0                53.0        33.0\n",
              "4     2017   4             4  ...              184.0                45.0        27.0\n",
              "...    ...  ..           ...  ...                ...                 ...         ...\n",
              "1022  2021   1            24  ...                NaN                 NaN         NaN\n",
              "1023  2021   1            15  ...                NaN                 NaN         NaN\n",
              "1024  2021   1            18  ...                NaN                 NaN         NaN\n",
              "1025  2021   1            22  ...                NaN                 NaN         NaN\n",
              "1026  2021   1             6  ...                NaN                 NaN         NaN\n",
              "\n",
              "[1027 rows x 9 columns]"
            ]
          },
          "metadata": {
            "tags": []
          },
          "execution_count": 83
        }
      ]
    },
    {
      "cell_type": "markdown",
      "metadata": {
        "id": "opJjyF1av6J1"
      },
      "source": [
        "###### Dividindo a base em treino e teste"
      ]
    },
    {
      "cell_type": "code",
      "metadata": {
        "id": "xYs7V3Rxv6J2"
      },
      "source": [
        "X_train = df_novo_concatenado[:len(df)][x]\n",
        "X_test = df_novo_concatenado[len(df):][x]\n",
        "Y_train = df[y]"
      ],
      "execution_count": null,
      "outputs": []
    },
    {
      "cell_type": "markdown",
      "metadata": {
        "id": "6fqLaSkXv6KA"
      },
      "source": [
        "###### Random Forest"
      ]
    },
    {
      "cell_type": "code",
      "metadata": {
        "id": "IqVxw8_Ov6KA",
        "outputId": "c2ee7434-907c-4b8b-9ebb-27bdef5db643",
        "colab": {
          "base_uri": "https://localhost:8080/"
        }
      },
      "source": [
        "regressor = RandomForestRegressor()\n",
        "\n",
        "regressor.fit(X_train, Y_train)\n",
        "\n",
        "previsoes = regressor.predict(X_test)\n",
        "\n",
        "previsoes = pd.DataFrame(previsoes)\n",
        "previsoes.columns = y\n",
        "\n",
        "previsoes = pd.concat([df_novo, previsoes], axis=1)\n",
        "for mes in meses:\n",
        "  previsoes.loc[previsoes.mes == mes, 'mes'] = meses.index(mes) + 1\n",
        "previsoes"
      ],
      "execution_count": null,
      "outputs": [
        {
          "output_type": "execute_result",
          "data": {
            "text/html": [
              "<div>\n",
              "<style scoped>\n",
              "    .dataframe tbody tr th:only-of-type {\n",
              "        vertical-align: middle;\n",
              "    }\n",
              "\n",
              "    .dataframe tbody tr th {\n",
              "        vertical-align: top;\n",
              "    }\n",
              "\n",
              "    .dataframe thead th {\n",
              "        text-align: right;\n",
              "    }\n",
              "</style>\n",
              "<table border=\"1\" class=\"dataframe\">\n",
              "  <thead>\n",
              "    <tr style=\"text-align: right;\">\n",
              "      <th></th>\n",
              "      <th>ano</th>\n",
              "      <th>mes</th>\n",
              "      <th>tipo_veiculo</th>\n",
              "      <th>qtd_acidentes</th>\n",
              "      <th>qtd_pessoas</th>\n",
              "      <th>qtd_ilesos</th>\n",
              "      <th>qtd_feridos_leves</th>\n",
              "      <th>qtd_feridos_graves</th>\n",
              "      <th>qtd_mortos</th>\n",
              "    </tr>\n",
              "  </thead>\n",
              "  <tbody>\n",
              "    <tr>\n",
              "      <th>0</th>\n",
              "      <td>2020</td>\n",
              "      <td>7</td>\n",
              "      <td>Automóvel</td>\n",
              "      <td>2532.64</td>\n",
              "      <td>4618.48</td>\n",
              "      <td>2297.29</td>\n",
              "      <td>1441.63</td>\n",
              "      <td>371.00</td>\n",
              "      <td>154.52</td>\n",
              "    </tr>\n",
              "    <tr>\n",
              "      <th>1</th>\n",
              "      <td>2020</td>\n",
              "      <td>8</td>\n",
              "      <td>Automóvel</td>\n",
              "      <td>2538.48</td>\n",
              "      <td>4621.28</td>\n",
              "      <td>2296.85</td>\n",
              "      <td>1443.90</td>\n",
              "      <td>371.72</td>\n",
              "      <td>154.21</td>\n",
              "    </tr>\n",
              "    <tr>\n",
              "      <th>2</th>\n",
              "      <td>2020</td>\n",
              "      <td>9</td>\n",
              "      <td>Automóvel</td>\n",
              "      <td>2539.80</td>\n",
              "      <td>4625.02</td>\n",
              "      <td>2301.28</td>\n",
              "      <td>1446.29</td>\n",
              "      <td>370.21</td>\n",
              "      <td>154.39</td>\n",
              "    </tr>\n",
              "    <tr>\n",
              "      <th>3</th>\n",
              "      <td>2020</td>\n",
              "      <td>10</td>\n",
              "      <td>Automóvel</td>\n",
              "      <td>2541.12</td>\n",
              "      <td>4627.34</td>\n",
              "      <td>2302.57</td>\n",
              "      <td>1447.42</td>\n",
              "      <td>371.18</td>\n",
              "      <td>154.47</td>\n",
              "    </tr>\n",
              "    <tr>\n",
              "      <th>4</th>\n",
              "      <td>2020</td>\n",
              "      <td>11</td>\n",
              "      <td>Automóvel</td>\n",
              "      <td>2551.88</td>\n",
              "      <td>4658.76</td>\n",
              "      <td>2319.93</td>\n",
              "      <td>1455.98</td>\n",
              "      <td>373.76</td>\n",
              "      <td>156.12</td>\n",
              "    </tr>\n",
              "    <tr>\n",
              "      <th>...</th>\n",
              "      <td>...</td>\n",
              "      <td>...</td>\n",
              "      <td>...</td>\n",
              "      <td>...</td>\n",
              "      <td>...</td>\n",
              "      <td>...</td>\n",
              "      <td>...</td>\n",
              "      <td>...</td>\n",
              "      <td>...</td>\n",
              "    </tr>\n",
              "    <tr>\n",
              "      <th>170</th>\n",
              "      <td>2021</td>\n",
              "      <td>1</td>\n",
              "      <td>Ônibus</td>\n",
              "      <td>139.38</td>\n",
              "      <td>632.67</td>\n",
              "      <td>366.41</td>\n",
              "      <td>196.98</td>\n",
              "      <td>43.64</td>\n",
              "      <td>11.39</td>\n",
              "    </tr>\n",
              "    <tr>\n",
              "      <th>171</th>\n",
              "      <td>2021</td>\n",
              "      <td>1</td>\n",
              "      <td>Quadriciclo</td>\n",
              "      <td>1.03</td>\n",
              "      <td>1.04</td>\n",
              "      <td>0.59</td>\n",
              "      <td>0.02</td>\n",
              "      <td>0.01</td>\n",
              "      <td>0.04</td>\n",
              "    </tr>\n",
              "    <tr>\n",
              "      <th>172</th>\n",
              "      <td>2021</td>\n",
              "      <td>1</td>\n",
              "      <td>Trator de esteira</td>\n",
              "      <td>2.32</td>\n",
              "      <td>2.45</td>\n",
              "      <td>0.82</td>\n",
              "      <td>0.95</td>\n",
              "      <td>0.21</td>\n",
              "      <td>0.02</td>\n",
              "    </tr>\n",
              "    <tr>\n",
              "      <th>173</th>\n",
              "      <td>2021</td>\n",
              "      <td>1</td>\n",
              "      <td>Triciclo</td>\n",
              "      <td>1.63</td>\n",
              "      <td>1.79</td>\n",
              "      <td>0.77</td>\n",
              "      <td>0.76</td>\n",
              "      <td>0.06</td>\n",
              "      <td>0.18</td>\n",
              "    </tr>\n",
              "    <tr>\n",
              "      <th>174</th>\n",
              "      <td>2021</td>\n",
              "      <td>1</td>\n",
              "      <td>Carro de mão</td>\n",
              "      <td>1.32</td>\n",
              "      <td>1.72</td>\n",
              "      <td>0.42</td>\n",
              "      <td>0.44</td>\n",
              "      <td>0.54</td>\n",
              "      <td>0.12</td>\n",
              "    </tr>\n",
              "  </tbody>\n",
              "</table>\n",
              "<p>175 rows × 9 columns</p>\n",
              "</div>"
            ],
            "text/plain": [
              "      ano mes  ... qtd_feridos_graves  qtd_mortos\n",
              "0    2020   7  ...             371.00      154.52\n",
              "1    2020   8  ...             371.72      154.21\n",
              "2    2020   9  ...             370.21      154.39\n",
              "3    2020  10  ...             371.18      154.47\n",
              "4    2020  11  ...             373.76      156.12\n",
              "..    ...  ..  ...                ...         ...\n",
              "170  2021   1  ...              43.64       11.39\n",
              "171  2021   1  ...               0.01        0.04\n",
              "172  2021   1  ...               0.21        0.02\n",
              "173  2021   1  ...               0.06        0.18\n",
              "174  2021   1  ...               0.54        0.12\n",
              "\n",
              "[175 rows x 9 columns]"
            ]
          },
          "metadata": {
            "tags": []
          },
          "execution_count": 85
        }
      ]
    },
    {
      "cell_type": "markdown",
      "metadata": {
        "id": "i-mR0VPhv6KG"
      },
      "source": [
        "##### Plot Extrapolação"
      ]
    },
    {
      "cell_type": "code",
      "metadata": {
        "id": "hiZmTtBxv6KH"
      },
      "source": [
        "def cria_data_plot(attr):\n",
        "  data_plot = list()\n",
        "  for tipo_veiculo in df_plot.tipo_veiculo.unique():\n",
        "    data = df_plot[df_plot.tipo_veiculo == tipo_veiculo]\n",
        "    data_plot.append(go.Line(name=(tipo_veiculo + '- Real'), x=data.mes.values, y=data[attr].values))\n",
        "\n",
        "  for tipo_veiculo in previsoes.tipo_veiculo.unique():\n",
        "    data = previsoes[(previsoes.tipo_veiculo == tipo_veiculo) & (previsoes.ano == '2020')]\n",
        "    data_plot.append(go.Line(name=(tipo_veiculo + '- Previsto'), x=data.mes.values, y=data[attr].values))\n",
        "  return data_plot"
      ],
      "execution_count": null,
      "outputs": []
    },
    {
      "cell_type": "code",
      "metadata": {
        "id": "_hnTlxjVv6KM"
      },
      "source": [
        "df_novo_concatenado['tipo_veiculo'] = LE.inverse_transform(df_novo_concatenado['tipo_veiculo'])\n",
        "\n",
        "df_plot = df_novo_concatenado[:len(df)][df_novo_concatenado[:len(df)]['ano'] == '2020']\n",
        "df_plot = df_plot.sort_values('mes')"
      ],
      "execution_count": null,
      "outputs": []
    },
    {
      "cell_type": "markdown",
      "metadata": {
        "id": "TvPv9SKdv6KR"
      },
      "source": [
        "##### Quantidade de Acidentes"
      ]
    },
    {
      "cell_type": "code",
      "metadata": {
        "id": "SzIj-xOuv6KT",
        "outputId": "5fcc321c-a452-4c23-c001-ee8a9c5ac435",
        "colab": {
          "base_uri": "https://localhost:8080/"
        }
      },
      "source": [
        "data_plot = cria_data_plot('qtd_acidentes')\n",
        "fig = go.Figure(data=data_plot)\n",
        "fig.update_layout(title_text='Quantidade de acidentes, por mês, em 2020 por tipo de veículo - Dados reais e previstos')\n",
        "fig.show()"
      ],
      "execution_count": null,
      "outputs": [
        {
          "output_type": "stream",
          "text": [
            "/usr/local/lib/python3.6/dist-packages/plotly/graph_objs/_deprecations.py:385: DeprecationWarning:\n",
            "\n",
            "plotly.graph_objs.Line is deprecated.\n",
            "Please replace it with one of the following more specific types\n",
            "  - plotly.graph_objs.scatter.Line\n",
            "  - plotly.graph_objs.layout.shape.Line\n",
            "  - etc.\n",
            "\n",
            "\n"
          ],
          "name": "stderr"
        },
        {
          "output_type": "display_data",
          "data": {
            "text/html": [
              "<html>\n",
              "<head><meta charset=\"utf-8\" /></head>\n",
              "<body>\n",
              "    <div>\n",
              "            <script src=\"https://cdnjs.cloudflare.com/ajax/libs/mathjax/2.7.5/MathJax.js?config=TeX-AMS-MML_SVG\"></script><script type=\"text/javascript\">if (window.MathJax) {MathJax.Hub.Config({SVG: {font: \"STIX-Web\"}});}</script>\n",
              "                <script type=\"text/javascript\">window.PlotlyConfig = {MathJaxConfig: 'local'};</script>\n",
              "        <script src=\"https://cdn.plot.ly/plotly-latest.min.js\"></script>    \n",
              "            <div id=\"ce242117-594a-482f-8915-a0522fa192a4\" class=\"plotly-graph-div\" style=\"height:525px; width:100%;\"></div>\n",
              "            <script type=\"text/javascript\">\n",
              "                \n",
              "                    window.PLOTLYENV=window.PLOTLYENV || {};\n",
              "                    \n",
              "                if (document.getElementById(\"ce242117-594a-482f-8915-a0522fa192a4\")) {\n",
              "                    Plotly.newPlot(\n",
              "                        'ce242117-594a-482f-8915-a0522fa192a4',\n",
              "                        [{\"name\": \"Carro\\u00e7a-charrete- Real\", \"type\": \"scatter\", \"x\": [1, 2, 3, 4, 5, 6, 7], \"y\": [2.0, 7.0, 7.0, 2.0, 8.0, 3.0, 6.0]}, {\"name\": \"Autom\\u00f3vel- Real\", \"type\": \"scatter\", \"x\": [1, 2, 3, 4, 5, 6, 7], \"y\": [3090.0, 3053.0, 2385.0, 1862.0, 2366.0, 2433.0, 2602.0]}, {\"name\": \"Bicicleta- Real\", \"type\": \"scatter\", \"x\": [1, 2, 3, 4, 5, 6, 7], \"y\": [146.0, 146.0, 142.0, 141.0, 184.0, 181.0, 172.0]}, {\"name\": \"Caminhonete- Real\", \"type\": \"scatter\", \"x\": [1, 2, 3, 4, 5, 6, 7], \"y\": [750.0, 690.0, 648.0, 500.0, 627.0, 663.0, 726.0]}, {\"name\": \"Caminh\\u00e3o- Real\", \"type\": \"scatter\", \"x\": [1, 2, 3, 4, 5, 6, 7], \"y\": [663.0, 653.0, 661.0, 495.0, 569.0, 597.0, 677.0]}, {\"name\": \"Caminh\\u00e3o-trator- Real\", \"type\": \"scatter\", \"x\": [1, 2, 3, 4, 5, 6, 7], \"y\": [730.0, 784.0, 756.0, 568.0, 751.0, 793.0, 908.0]}, {\"name\": \"Camioneta- Real\", \"type\": \"scatter\", \"x\": [1, 2, 3, 4, 5, 6, 7], \"y\": [219.0, 218.0, 169.0, 118.0, 145.0, 140.0, 153.0]}, {\"name\": \"Semireboque- Real\", \"type\": \"scatter\", \"x\": [1, 2, 3, 4, 5, 6, 7], \"y\": [7.0, 11.0, 6.0, 11.0, 9.0, 7.0, 10.0]}, {\"name\": \"Utilit\\u00e1rio- Real\", \"type\": \"scatter\", \"x\": [1, 2, 3, 4, 5, 6, 7], \"y\": [111.0, 94.0, 60.0, 57.0, 60.0, 71.0, 84.0]}, {\"name\": \"Micro-\\u00f4nibus- Real\", \"type\": \"scatter\", \"x\": [1, 2, 3, 4, 5, 6, 7], \"y\": [41.0, 43.0, 25.0, 20.0, 19.0, 17.0, 30.0]}, {\"name\": \"Motocicleta- Real\", \"type\": \"scatter\", \"x\": [1, 2, 3, 4, 5, 6, 7], \"y\": [1802.0, 1838.0, 1695.0, 1407.0, 1607.0, 1617.0, 1784.0]}, {\"name\": \"Motoneta- Real\", \"type\": \"scatter\", \"x\": [1, 2, 3, 4, 5, 6, 7], \"y\": [228.0, 218.0, 222.0, 170.0, 199.0, 189.0, 177.0]}, {\"name\": \"N\\u00e3o Informado- Real\", \"type\": \"scatter\", \"x\": [1, 2, 5, 7], \"y\": [1.0, 2.0, 1.0, 1.0]}, {\"name\": \"Outros- Real\", \"type\": \"scatter\", \"x\": [1, 2, 3, 4, 5, 6, 7], \"y\": [28.0, 43.0, 33.0, 25.0, 36.0, 45.0, 42.0]}, {\"name\": \"Reboque- Real\", \"type\": \"scatter\", \"x\": [1, 2, 3, 4, 6, 7], \"y\": [3.0, 5.0, 2.0, 3.0, 5.0, 4.0]}, {\"name\": \"Ciclomotor- Real\", \"type\": \"scatter\", \"x\": [1, 2, 3, 4, 5, 6, 7], \"y\": [31.0, 32.0, 30.0, 23.0, 25.0, 17.0, 36.0]}, {\"name\": \"\\u00d4nibus- Real\", \"type\": \"scatter\", \"x\": [1, 2, 3, 4, 5, 6, 7], \"y\": [157.0, 128.0, 101.0, 40.0, 54.0, 53.0, 60.0]}, {\"name\": \"Trator de rodas- Real\", \"type\": \"scatter\", \"x\": [1, 2, 3, 4, 5, 6, 7], \"y\": [3.0, 3.0, 8.0, 5.0, 6.0, 5.0, 4.0]}, {\"name\": \"Trem-bonde- Real\", \"type\": \"scatter\", \"x\": [2, 7], \"y\": [2.0, 1.0]}, {\"name\": \"Chassi-plataforma- Real\", \"type\": \"scatter\", \"x\": [2, 7], \"y\": [1.0, 1.0]}, {\"name\": \"Triciclo- Real\", \"type\": \"scatter\", \"x\": [3, 5, 6], \"y\": [1.0, 2.0, 1.0]}, {\"name\": \"Quadriciclo- Real\", \"type\": \"scatter\", \"x\": [3], \"y\": [1.0]}, {\"name\": \"Carro de m\\u00e3o- Real\", \"type\": \"scatter\", \"x\": [4, 6], \"y\": [1.0, 2.0]}, {\"name\": \"Trator misto- Real\", \"type\": \"scatter\", \"x\": [4, 6], \"y\": [1.0, 2.0]}, {\"name\": \"Autom\\u00f3vel- Previsto\", \"type\": \"scatter\", \"x\": [7, 8, 9, 10, 11, 12], \"y\": [2532.64, 2538.48, 2539.8, 2541.12, 2551.88, 2866.72]}, {\"name\": \"Bicicleta- Previsto\", \"type\": \"scatter\", \"x\": [7, 8, 9, 10, 11, 12], \"y\": [172.34, 171.65, 171.82, 164.11, 162.63, 154.62]}, {\"name\": \"Caminhonete- Previsto\", \"type\": \"scatter\", \"x\": [7, 8, 9, 10, 11, 12], \"y\": [696.87, 695.21, 696.15, 696.26, 696.57, 708.8]}, {\"name\": \"Caminh\\u00e3o- Previsto\", \"type\": \"scatter\", \"x\": [7, 8, 9, 10, 11, 12], \"y\": [664.93, 658.85, 662.27, 669.55, 666.99, 665.7]}, {\"name\": \"Caminh\\u00e3o-trator- Previsto\", \"type\": \"scatter\", \"x\": [7, 8, 9, 10, 11, 12], \"y\": [860.85, 839.68, 836.34, 840.19, 812.1, 786.6]}, {\"name\": \"Camioneta- Previsto\", \"type\": \"scatter\", \"x\": [7, 8, 9, 10, 11, 12], \"y\": [154.16, 154.47, 153.68, 155.09, 161.65, 176.49]}, {\"name\": \"Carro\\u00e7a-charrete- Previsto\", \"type\": \"scatter\", \"x\": [7, 8, 9, 10, 11, 12], \"y\": [5.34, 6.72, 7.17, 7.59, 3.17, 3.21]}, {\"name\": \"Chassi-plataforma- Previsto\", \"type\": \"scatter\", \"x\": [7, 8, 9, 10, 11, 12], \"y\": [1.05, 1.14, 1.14, 1.16, 1.08, 1.04]}, {\"name\": \"Ciclomotor- Previsto\", \"type\": \"scatter\", \"x\": [7, 8, 9, 10, 11, 12], \"y\": [30.1, 30.58, 31.52, 29.57, 23.29, 27.79]}, {\"name\": \"Micro-\\u00f4nibus- Previsto\", \"type\": \"scatter\", \"x\": [7, 8, 9, 10, 11, 12], \"y\": [25.39, 25.8, 25.9, 26.14, 26.01, 26.01]}, {\"name\": \"Motocicleta- Previsto\", \"type\": \"scatter\", \"x\": [7, 8, 9, 10, 11, 12], \"y\": [1755.87, 1764.49, 1761.97, 1762.71, 1763.84, 1850.92]}, {\"name\": \"Motoneta- Previsto\", \"type\": \"scatter\", \"x\": [7, 8, 9, 10, 11, 12], \"y\": [181.3, 182.24, 182.24, 184.64, 184.71, 191.41]}, {\"name\": \"N\\u00e3o Informado- Previsto\", \"type\": \"scatter\", \"x\": [7, 8, 9, 10, 11, 12], \"y\": [1.24, 1.14, 1.33, 1.09, 1.65, 1.17]}, {\"name\": \"Outros- Previsto\", \"type\": \"scatter\", \"x\": [7, 8, 9, 10, 11, 12], \"y\": [41.37, 40.94, 42.9, 38.09, 40.71, 38.43]}, {\"name\": \"Reboque- Previsto\", \"type\": \"scatter\", \"x\": [7, 8, 9, 10, 11, 12], \"y\": [4.28, 3.71, 3.52, 4.11, 3.05, 4.22]}, {\"name\": \"Semireboque- Previsto\", \"type\": \"scatter\", \"x\": [7, 8, 9, 10, 11, 12], \"y\": [9.24, 8.55, 7.36, 7.14, 9.75, 11.17]}, {\"name\": \"Trator de rodas- Previsto\", \"type\": \"scatter\", \"x\": [7, 8, 9, 10, 11, 12], \"y\": [4.17, 7.67, 4.5, 5.83, 5.1, 5.29]}, {\"name\": \"Trator misto- Previsto\", \"type\": \"scatter\", \"x\": [7, 8, 9, 10, 11, 12], \"y\": [1.68, 1.86, 1.85, 1.77, 1.94, 2.19]}, {\"name\": \"Trem-bonde- Previsto\", \"type\": \"scatter\", \"x\": [7, 8, 9, 10, 11, 12], \"y\": [1.09, 1.2, 1.19, 1.11, 1.43, 1.69]}, {\"name\": \"Utilit\\u00e1rio- Previsto\", \"type\": \"scatter\", \"x\": [7, 8, 9, 10, 11, 12], \"y\": [79.18, 79.02, 80.53, 79.6, 81.04, 82.51]}, {\"name\": \"\\u00d4nibus- Previsto\", \"type\": \"scatter\", \"x\": [7, 8, 9, 10, 11, 12], \"y\": [59.43, 59.22, 59.29, 61.47, 61.47, 61.33]}, {\"name\": \"Quadriciclo- Previsto\", \"type\": \"scatter\", \"x\": [7, 8, 9, 10, 11, 12], \"y\": [1.05, 1.0, 1.0, 1.01, 1.01, 1.05]}, {\"name\": \"Trator de esteira- Previsto\", \"type\": \"scatter\", \"x\": [7, 8, 9, 10, 11, 12], \"y\": [1.46, 1.57, 1.3, 1.51, 1.63, 1.65]}, {\"name\": \"Triciclo- Previsto\", \"type\": \"scatter\", \"x\": [7, 8, 9, 10, 11, 12], \"y\": [1.37, 2.36, 1.65, 1.22, 1.84, 3.08]}, {\"name\": \"Carro de m\\u00e3o- Previsto\", \"type\": \"scatter\", \"x\": [7, 8, 9, 10, 11, 12], \"y\": [1.6, 1.56, 1.6, 1.7, 1.8, 1.72]}],\n",
              "                        {\"template\": {\"data\": {\"bar\": [{\"error_x\": {\"color\": \"#2a3f5f\"}, \"error_y\": {\"color\": \"#2a3f5f\"}, \"marker\": {\"line\": {\"color\": \"#E5ECF6\", \"width\": 0.5}}, \"type\": \"bar\"}], \"barpolar\": [{\"marker\": {\"line\": {\"color\": \"#E5ECF6\", \"width\": 0.5}}, \"type\": \"barpolar\"}], \"carpet\": [{\"aaxis\": {\"endlinecolor\": \"#2a3f5f\", \"gridcolor\": \"white\", \"linecolor\": \"white\", \"minorgridcolor\": \"white\", \"startlinecolor\": \"#2a3f5f\"}, \"baxis\": {\"endlinecolor\": \"#2a3f5f\", \"gridcolor\": \"white\", \"linecolor\": \"white\", \"minorgridcolor\": \"white\", \"startlinecolor\": \"#2a3f5f\"}, \"type\": \"carpet\"}], \"choropleth\": [{\"colorbar\": {\"outlinewidth\": 0, \"ticks\": \"\"}, \"type\": \"choropleth\"}], \"contour\": [{\"colorbar\": {\"outlinewidth\": 0, \"ticks\": \"\"}, \"colorscale\": [[0.0, \"#0d0887\"], [0.1111111111111111, \"#46039f\"], [0.2222222222222222, \"#7201a8\"], [0.3333333333333333, \"#9c179e\"], [0.4444444444444444, \"#bd3786\"], [0.5555555555555556, \"#d8576b\"], [0.6666666666666666, \"#ed7953\"], [0.7777777777777778, \"#fb9f3a\"], [0.8888888888888888, \"#fdca26\"], [1.0, \"#f0f921\"]], \"type\": \"contour\"}], \"contourcarpet\": [{\"colorbar\": {\"outlinewidth\": 0, \"ticks\": \"\"}, \"type\": \"contourcarpet\"}], \"heatmap\": [{\"colorbar\": {\"outlinewidth\": 0, \"ticks\": \"\"}, \"colorscale\": [[0.0, \"#0d0887\"], [0.1111111111111111, \"#46039f\"], [0.2222222222222222, \"#7201a8\"], [0.3333333333333333, \"#9c179e\"], [0.4444444444444444, \"#bd3786\"], [0.5555555555555556, \"#d8576b\"], [0.6666666666666666, \"#ed7953\"], [0.7777777777777778, \"#fb9f3a\"], [0.8888888888888888, \"#fdca26\"], [1.0, \"#f0f921\"]], \"type\": \"heatmap\"}], \"heatmapgl\": [{\"colorbar\": {\"outlinewidth\": 0, \"ticks\": \"\"}, \"colorscale\": [[0.0, \"#0d0887\"], [0.1111111111111111, \"#46039f\"], [0.2222222222222222, \"#7201a8\"], [0.3333333333333333, \"#9c179e\"], [0.4444444444444444, \"#bd3786\"], [0.5555555555555556, \"#d8576b\"], [0.6666666666666666, \"#ed7953\"], [0.7777777777777778, \"#fb9f3a\"], [0.8888888888888888, \"#fdca26\"], [1.0, \"#f0f921\"]], \"type\": \"heatmapgl\"}], \"histogram\": [{\"marker\": {\"colorbar\": {\"outlinewidth\": 0, \"ticks\": \"\"}}, \"type\": \"histogram\"}], \"histogram2d\": [{\"colorbar\": {\"outlinewidth\": 0, \"ticks\": \"\"}, \"colorscale\": [[0.0, \"#0d0887\"], [0.1111111111111111, \"#46039f\"], [0.2222222222222222, \"#7201a8\"], [0.3333333333333333, \"#9c179e\"], [0.4444444444444444, \"#bd3786\"], [0.5555555555555556, \"#d8576b\"], [0.6666666666666666, \"#ed7953\"], [0.7777777777777778, \"#fb9f3a\"], [0.8888888888888888, \"#fdca26\"], [1.0, \"#f0f921\"]], \"type\": \"histogram2d\"}], \"histogram2dcontour\": [{\"colorbar\": {\"outlinewidth\": 0, \"ticks\": \"\"}, \"colorscale\": [[0.0, \"#0d0887\"], [0.1111111111111111, \"#46039f\"], [0.2222222222222222, \"#7201a8\"], [0.3333333333333333, \"#9c179e\"], [0.4444444444444444, \"#bd3786\"], [0.5555555555555556, \"#d8576b\"], [0.6666666666666666, \"#ed7953\"], [0.7777777777777778, \"#fb9f3a\"], [0.8888888888888888, \"#fdca26\"], [1.0, \"#f0f921\"]], \"type\": \"histogram2dcontour\"}], \"mesh3d\": [{\"colorbar\": {\"outlinewidth\": 0, \"ticks\": \"\"}, \"type\": \"mesh3d\"}], \"parcoords\": [{\"line\": {\"colorbar\": {\"outlinewidth\": 0, \"ticks\": \"\"}}, \"type\": \"parcoords\"}], \"pie\": [{\"automargin\": true, \"type\": \"pie\"}], \"scatter\": [{\"marker\": {\"colorbar\": {\"outlinewidth\": 0, \"ticks\": \"\"}}, \"type\": \"scatter\"}], \"scatter3d\": [{\"line\": {\"colorbar\": {\"outlinewidth\": 0, \"ticks\": \"\"}}, \"marker\": {\"colorbar\": {\"outlinewidth\": 0, \"ticks\": \"\"}}, \"type\": \"scatter3d\"}], \"scattercarpet\": [{\"marker\": {\"colorbar\": {\"outlinewidth\": 0, \"ticks\": \"\"}}, \"type\": \"scattercarpet\"}], \"scattergeo\": [{\"marker\": {\"colorbar\": {\"outlinewidth\": 0, \"ticks\": \"\"}}, \"type\": \"scattergeo\"}], \"scattergl\": [{\"marker\": {\"colorbar\": {\"outlinewidth\": 0, \"ticks\": \"\"}}, \"type\": \"scattergl\"}], \"scattermapbox\": [{\"marker\": {\"colorbar\": {\"outlinewidth\": 0, \"ticks\": \"\"}}, \"type\": \"scattermapbox\"}], \"scatterpolar\": [{\"marker\": {\"colorbar\": {\"outlinewidth\": 0, \"ticks\": \"\"}}, \"type\": \"scatterpolar\"}], \"scatterpolargl\": [{\"marker\": {\"colorbar\": {\"outlinewidth\": 0, \"ticks\": \"\"}}, \"type\": \"scatterpolargl\"}], \"scatterternary\": [{\"marker\": {\"colorbar\": {\"outlinewidth\": 0, \"ticks\": \"\"}}, \"type\": \"scatterternary\"}], \"surface\": [{\"colorbar\": {\"outlinewidth\": 0, \"ticks\": \"\"}, \"colorscale\": [[0.0, \"#0d0887\"], [0.1111111111111111, \"#46039f\"], [0.2222222222222222, \"#7201a8\"], [0.3333333333333333, \"#9c179e\"], [0.4444444444444444, \"#bd3786\"], [0.5555555555555556, \"#d8576b\"], [0.6666666666666666, \"#ed7953\"], [0.7777777777777778, \"#fb9f3a\"], [0.8888888888888888, \"#fdca26\"], [1.0, \"#f0f921\"]], \"type\": \"surface\"}], \"table\": [{\"cells\": {\"fill\": {\"color\": \"#EBF0F8\"}, \"line\": {\"color\": \"white\"}}, \"header\": {\"fill\": {\"color\": \"#C8D4E3\"}, \"line\": {\"color\": \"white\"}}, \"type\": \"table\"}]}, \"layout\": {\"annotationdefaults\": {\"arrowcolor\": \"#2a3f5f\", \"arrowhead\": 0, \"arrowwidth\": 1}, \"coloraxis\": {\"colorbar\": {\"outlinewidth\": 0, \"ticks\": \"\"}}, \"colorscale\": {\"diverging\": [[0, \"#8e0152\"], [0.1, \"#c51b7d\"], [0.2, \"#de77ae\"], [0.3, \"#f1b6da\"], [0.4, \"#fde0ef\"], [0.5, \"#f7f7f7\"], [0.6, \"#e6f5d0\"], [0.7, \"#b8e186\"], [0.8, \"#7fbc41\"], [0.9, \"#4d9221\"], [1, \"#276419\"]], \"sequential\": [[0.0, \"#0d0887\"], [0.1111111111111111, \"#46039f\"], [0.2222222222222222, \"#7201a8\"], [0.3333333333333333, \"#9c179e\"], [0.4444444444444444, \"#bd3786\"], [0.5555555555555556, \"#d8576b\"], [0.6666666666666666, \"#ed7953\"], [0.7777777777777778, \"#fb9f3a\"], [0.8888888888888888, \"#fdca26\"], [1.0, \"#f0f921\"]], \"sequentialminus\": [[0.0, \"#0d0887\"], [0.1111111111111111, \"#46039f\"], [0.2222222222222222, \"#7201a8\"], [0.3333333333333333, \"#9c179e\"], [0.4444444444444444, \"#bd3786\"], [0.5555555555555556, \"#d8576b\"], [0.6666666666666666, \"#ed7953\"], [0.7777777777777778, \"#fb9f3a\"], [0.8888888888888888, \"#fdca26\"], [1.0, \"#f0f921\"]]}, \"colorway\": [\"#636efa\", \"#EF553B\", \"#00cc96\", \"#ab63fa\", \"#FFA15A\", \"#19d3f3\", \"#FF6692\", \"#B6E880\", \"#FF97FF\", \"#FECB52\"], \"font\": {\"color\": \"#2a3f5f\"}, \"geo\": {\"bgcolor\": \"white\", \"lakecolor\": \"white\", \"landcolor\": \"#E5ECF6\", \"showlakes\": true, \"showland\": true, \"subunitcolor\": \"white\"}, \"hoverlabel\": {\"align\": \"left\"}, \"hovermode\": \"closest\", \"mapbox\": {\"style\": \"light\"}, \"paper_bgcolor\": \"white\", \"plot_bgcolor\": \"#E5ECF6\", \"polar\": {\"angularaxis\": {\"gridcolor\": \"white\", \"linecolor\": \"white\", \"ticks\": \"\"}, \"bgcolor\": \"#E5ECF6\", \"radialaxis\": {\"gridcolor\": \"white\", \"linecolor\": \"white\", \"ticks\": \"\"}}, \"scene\": {\"xaxis\": {\"backgroundcolor\": \"#E5ECF6\", \"gridcolor\": \"white\", \"gridwidth\": 2, \"linecolor\": \"white\", \"showbackground\": true, \"ticks\": \"\", \"zerolinecolor\": \"white\"}, \"yaxis\": {\"backgroundcolor\": \"#E5ECF6\", \"gridcolor\": \"white\", \"gridwidth\": 2, \"linecolor\": \"white\", \"showbackground\": true, \"ticks\": \"\", \"zerolinecolor\": \"white\"}, \"zaxis\": {\"backgroundcolor\": \"#E5ECF6\", \"gridcolor\": \"white\", \"gridwidth\": 2, \"linecolor\": \"white\", \"showbackground\": true, \"ticks\": \"\", \"zerolinecolor\": \"white\"}}, \"shapedefaults\": {\"line\": {\"color\": \"#2a3f5f\"}}, \"ternary\": {\"aaxis\": {\"gridcolor\": \"white\", \"linecolor\": \"white\", \"ticks\": \"\"}, \"baxis\": {\"gridcolor\": \"white\", \"linecolor\": \"white\", \"ticks\": \"\"}, \"bgcolor\": \"#E5ECF6\", \"caxis\": {\"gridcolor\": \"white\", \"linecolor\": \"white\", \"ticks\": \"\"}}, \"title\": {\"x\": 0.05}, \"xaxis\": {\"automargin\": true, \"gridcolor\": \"white\", \"linecolor\": \"white\", \"ticks\": \"\", \"title\": {\"standoff\": 15}, \"zerolinecolor\": \"white\", \"zerolinewidth\": 2}, \"yaxis\": {\"automargin\": true, \"gridcolor\": \"white\", \"linecolor\": \"white\", \"ticks\": \"\", \"title\": {\"standoff\": 15}, \"zerolinecolor\": \"white\", \"zerolinewidth\": 2}}}, \"title\": {\"text\": \"Quantidade de acidentes, por m\\u00eas, em 2020 por tipo de ve\\u00edculo - Dados reais e previstos\"}},\n",
              "                        {\"responsive\": true}\n",
              "                    ).then(function(){\n",
              "                            \n",
              "var gd = document.getElementById('ce242117-594a-482f-8915-a0522fa192a4');\n",
              "var x = new MutationObserver(function (mutations, observer) {{\n",
              "        var display = window.getComputedStyle(gd).display;\n",
              "        if (!display || display === 'none') {{\n",
              "            console.log([gd, 'removed!']);\n",
              "            Plotly.purge(gd);\n",
              "            observer.disconnect();\n",
              "        }}\n",
              "}});\n",
              "\n",
              "// Listen for the removal of the full notebook cells\n",
              "var notebookContainer = gd.closest('#notebook-container');\n",
              "if (notebookContainer) {{\n",
              "    x.observe(notebookContainer, {childList: true});\n",
              "}}\n",
              "\n",
              "// Listen for the clearing of the current output cell\n",
              "var outputEl = gd.closest('.output');\n",
              "if (outputEl) {{\n",
              "    x.observe(outputEl, {childList: true});\n",
              "}}\n",
              "\n",
              "                        })\n",
              "                };\n",
              "                \n",
              "            </script>\n",
              "        </div>\n",
              "</body>\n",
              "</html>"
            ]
          },
          "metadata": {
            "tags": []
          }
        }
      ]
    },
    {
      "cell_type": "markdown",
      "metadata": {
        "id": "G8p-XTKT503Q"
      },
      "source": [
        "##### Quantidade de Pessoas"
      ]
    },
    {
      "cell_type": "code",
      "metadata": {
        "id": "YDLkHOVY503R",
        "outputId": "b10ae91a-a0b2-4be2-f097-4b3682a059ef",
        "colab": {
          "base_uri": "https://localhost:8080/"
        }
      },
      "source": [
        "data_plot = cria_data_plot('qtd_pessoas')\n",
        "fig = go.Figure(data=data_plot)\n",
        "fig.update_layout(title_text='Quantidade de Pessoas envolvidas em acidentes, por mês, em 2020 por tipo de veículo - Dados reais e previstos')\n",
        "fig.show()"
      ],
      "execution_count": null,
      "outputs": [
        {
          "output_type": "stream",
          "text": [
            "/usr/local/lib/python3.6/dist-packages/plotly/graph_objs/_deprecations.py:385: DeprecationWarning:\n",
            "\n",
            "plotly.graph_objs.Line is deprecated.\n",
            "Please replace it with one of the following more specific types\n",
            "  - plotly.graph_objs.scatter.Line\n",
            "  - plotly.graph_objs.layout.shape.Line\n",
            "  - etc.\n",
            "\n",
            "\n"
          ],
          "name": "stderr"
        },
        {
          "output_type": "display_data",
          "data": {
            "text/html": [
              "<html>\n",
              "<head><meta charset=\"utf-8\" /></head>\n",
              "<body>\n",
              "    <div>\n",
              "            <script src=\"https://cdnjs.cloudflare.com/ajax/libs/mathjax/2.7.5/MathJax.js?config=TeX-AMS-MML_SVG\"></script><script type=\"text/javascript\">if (window.MathJax) {MathJax.Hub.Config({SVG: {font: \"STIX-Web\"}});}</script>\n",
              "                <script type=\"text/javascript\">window.PlotlyConfig = {MathJaxConfig: 'local'};</script>\n",
              "        <script src=\"https://cdn.plot.ly/plotly-latest.min.js\"></script>    \n",
              "            <div id=\"f10fe183-baf5-468f-870d-952eff5ff5ca\" class=\"plotly-graph-div\" style=\"height:525px; width:100%;\"></div>\n",
              "            <script type=\"text/javascript\">\n",
              "                \n",
              "                    window.PLOTLYENV=window.PLOTLYENV || {};\n",
              "                    \n",
              "                if (document.getElementById(\"f10fe183-baf5-468f-870d-952eff5ff5ca\")) {\n",
              "                    Plotly.newPlot(\n",
              "                        'f10fe183-baf5-468f-870d-952eff5ff5ca',\n",
              "                        [{\"name\": \"Carro\\u00e7a-charrete- Real\", \"type\": \"scatter\", \"x\": [1, 2, 3, 4, 5, 6, 7], \"y\": [2.0, 10.0, 12.0, 3.0, 8.0, 3.0, 9.0]}, {\"name\": \"Autom\\u00f3vel- Real\", \"type\": \"scatter\", \"x\": [1, 2, 3, 4, 5, 6, 7], \"y\": [6413.0, 6013.0, 4320.0, 3314.0, 4196.0, 4356.0, 4777.0]}, {\"name\": \"Bicicleta- Real\", \"type\": \"scatter\", \"x\": [1, 2, 3, 4, 5, 6, 7], \"y\": [167.0, 159.0, 160.0, 156.0, 203.0, 208.0, 189.0]}, {\"name\": \"Caminhonete- Real\", \"type\": \"scatter\", \"x\": [1, 2, 3, 4, 5, 6, 7], \"y\": [1204.0, 1100.0, 1012.0, 748.0, 917.0, 985.0, 1038.0]}, {\"name\": \"Caminh\\u00e3o- Real\", \"type\": \"scatter\", \"x\": [1, 2, 3, 4, 5, 6, 7], \"y\": [922.0, 871.0, 891.0, 667.0, 792.0, 778.0, 951.0]}, {\"name\": \"Caminh\\u00e3o-trator- Real\", \"type\": \"scatter\", \"x\": [1, 2, 3, 4, 5, 6, 7], \"y\": [937.0, 966.0, 949.0, 727.0, 951.0, 1027.0, 1185.0]}, {\"name\": \"Camioneta- Real\", \"type\": \"scatter\", \"x\": [1, 2, 3, 4, 5, 6, 7], \"y\": [416.0, 331.0, 255.0, 179.0, 212.0, 199.0, 233.0]}, {\"name\": \"Semireboque- Real\", \"type\": \"scatter\", \"x\": [1, 2, 3, 4, 5, 6, 7], \"y\": [9.0, 12.0, 8.0, 13.0, 11.0, 9.0, 12.0]}, {\"name\": \"Utilit\\u00e1rio- Real\", \"type\": \"scatter\", \"x\": [1, 2, 3, 4, 5, 6, 7], \"y\": [194.0, 151.0, 105.0, 100.0, 91.0, 112.0, 137.0]}, {\"name\": \"Micro-\\u00f4nibus- Real\", \"type\": \"scatter\", \"x\": [1, 2, 3, 4, 5, 6, 7], \"y\": [104.0, 135.0, 48.0, 73.0, 45.0, 35.0, 71.0]}, {\"name\": \"Motocicleta- Real\", \"type\": \"scatter\", \"x\": [1, 2, 3, 4, 5, 6, 7], \"y\": [2501.0, 2478.0, 2282.0, 1896.0, 2157.0, 2193.0, 2446.0]}, {\"name\": \"Motoneta- Real\", \"type\": \"scatter\", \"x\": [1, 2, 3, 4, 5, 6, 7], \"y\": [288.0, 294.0, 276.0, 218.0, 259.0, 237.0, 222.0]}, {\"name\": \"N\\u00e3o Informado- Real\", \"type\": \"scatter\", \"x\": [1, 2, 5, 7], \"y\": [1.0, 4.0, 1.0, 1.0]}, {\"name\": \"Outros- Real\", \"type\": \"scatter\", \"x\": [1, 2, 3, 4, 5, 6, 7], \"y\": [43.0, 66.0, 46.0, 42.0, 57.0, 64.0, 62.0]}, {\"name\": \"Reboque- Real\", \"type\": \"scatter\", \"x\": [1, 2, 3, 4, 6, 7], \"y\": [4.0, 6.0, 2.0, 3.0, 6.0, 4.0]}, {\"name\": \"Ciclomotor- Real\", \"type\": \"scatter\", \"x\": [1, 2, 3, 4, 5, 6, 7], \"y\": [36.0, 42.0, 37.0, 26.0, 29.0, 19.0, 43.0]}, {\"name\": \"\\u00d4nibus- Real\", \"type\": \"scatter\", \"x\": [1, 2, 3, 4, 5, 6, 7], \"y\": [774.0, 520.0, 332.0, 176.0, 83.0, 138.0, 147.0]}, {\"name\": \"Trator de rodas- Real\", \"type\": \"scatter\", \"x\": [1, 2, 3, 4, 5, 6, 7], \"y\": [3.0, 4.0, 9.0, 5.0, 7.0, 7.0, 5.0]}, {\"name\": \"Trem-bonde- Real\", \"type\": \"scatter\", \"x\": [2, 7], \"y\": [2.0, 1.0]}, {\"name\": \"Chassi-plataforma- Real\", \"type\": \"scatter\", \"x\": [2, 7], \"y\": [1.0, 1.0]}, {\"name\": \"Triciclo- Real\", \"type\": \"scatter\", \"x\": [3, 5, 6], \"y\": [1.0, 3.0, 1.0]}, {\"name\": \"Quadriciclo- Real\", \"type\": \"scatter\", \"x\": [3], \"y\": [1.0]}, {\"name\": \"Carro de m\\u00e3o- Real\", \"type\": \"scatter\", \"x\": [4, 6], \"y\": [1.0, 2.0]}, {\"name\": \"Trator misto- Real\", \"type\": \"scatter\", \"x\": [4, 6], \"y\": [1.0, 2.0]}, {\"name\": \"Autom\\u00f3vel- Previsto\", \"type\": \"scatter\", \"x\": [7, 8, 9, 10, 11, 12], \"y\": [4618.48, 4621.28, 4625.02, 4627.34, 4658.76, 5477.09]}, {\"name\": \"Bicicleta- Previsto\", \"type\": \"scatter\", \"x\": [7, 8, 9, 10, 11, 12], \"y\": [191.26, 190.48, 188.88, 181.39, 184.11, 171.24]}, {\"name\": \"Caminhonete- Previsto\", \"type\": \"scatter\", \"x\": [7, 8, 9, 10, 11, 12], \"y\": [1013.35, 1009.2, 1011.28, 1011.69, 1011.63, 1043.22]}, {\"name\": \"Caminh\\u00e3o- Previsto\", \"type\": \"scatter\", \"x\": [7, 8, 9, 10, 11, 12], \"y\": [913.56, 907.45, 904.82, 917.73, 915.65, 915.44]}, {\"name\": \"Caminh\\u00e3o-trator- Previsto\", \"type\": \"scatter\", \"x\": [7, 8, 9, 10, 11, 12], \"y\": [1121.92, 1087.58, 1076.01, 1080.47, 1050.72, 1005.11]}, {\"name\": \"Camioneta- Previsto\", \"type\": \"scatter\", \"x\": [7, 8, 9, 10, 11, 12], \"y\": [234.13, 233.37, 232.42, 235.13, 245.5, 275.96]}, {\"name\": \"Carro\\u00e7a-charrete- Previsto\", \"type\": \"scatter\", \"x\": [7, 8, 9, 10, 11, 12], \"y\": [7.37, 8.54, 12.78, 13.77, 5.13, 3.83]}, {\"name\": \"Chassi-plataforma- Previsto\", \"type\": \"scatter\", \"x\": [7, 8, 9, 10, 11, 12], \"y\": [1.19, 1.27, 1.4, 1.37, 1.18, 1.07]}, {\"name\": \"Ciclomotor- Previsto\", \"type\": \"scatter\", \"x\": [7, 8, 9, 10, 11, 12], \"y\": [35.53, 36.43, 37.89, 35.75, 28.8, 34.79]}, {\"name\": \"Micro-\\u00f4nibus- Previsto\", \"type\": \"scatter\", \"x\": [7, 8, 9, 10, 11, 12], \"y\": [58.84, 59.9, 60.2, 60.23, 60.63, 60.63]}, {\"name\": \"Motocicleta- Previsto\", \"type\": \"scatter\", \"x\": [7, 8, 9, 10, 11, 12], \"y\": [2398.21, 2407.24, 2402.78, 2402.37, 2405.46, 2522.13]}, {\"name\": \"Motoneta- Previsto\", \"type\": \"scatter\", \"x\": [7, 8, 9, 10, 11, 12], \"y\": [228.11, 229.4, 229.38, 232.47, 232.84, 241.34]}, {\"name\": \"N\\u00e3o Informado- Previsto\", \"type\": \"scatter\", \"x\": [7, 8, 9, 10, 11, 12], \"y\": [1.66, 3.56, 2.73, 2.41, 11.5, 4.18]}, {\"name\": \"Outros- Previsto\", \"type\": \"scatter\", \"x\": [7, 8, 9, 10, 11, 12], \"y\": [62.41, 65.76, 64.48, 55.78, 65.51, 59.03]}, {\"name\": \"Reboque- Previsto\", \"type\": \"scatter\", \"x\": [7, 8, 9, 10, 11, 12], \"y\": [4.63, 3.96, 3.66, 4.31, 3.67, 4.97]}, {\"name\": \"Semireboque- Previsto\", \"type\": \"scatter\", \"x\": [7, 8, 9, 10, 11, 12], \"y\": [11.22, 9.63, 9.16, 10.57, 11.59, 11.75]}, {\"name\": \"Trator de rodas- Previsto\", \"type\": \"scatter\", \"x\": [7, 8, 9, 10, 11, 12], \"y\": [5.28, 10.36, 5.22, 5.93, 5.19, 6.04]}, {\"name\": \"Trator misto- Previsto\", \"type\": \"scatter\", \"x\": [7, 8, 9, 10, 11, 12], \"y\": [1.76, 2.4, 2.37, 2.2, 2.46, 2.51]}, {\"name\": \"Trem-bonde- Previsto\", \"type\": \"scatter\", \"x\": [7, 8, 9, 10, 11, 12], \"y\": [1.18, 1.43, 1.35, 1.19, 1.67, 1.74]}, {\"name\": \"Utilit\\u00e1rio- Previsto\", \"type\": \"scatter\", \"x\": [7, 8, 9, 10, 11, 12], \"y\": [128.15, 127.21, 129.46, 127.63, 129.82, 134.87]}, {\"name\": \"\\u00d4nibus- Previsto\", \"type\": \"scatter\", \"x\": [7, 8, 9, 10, 11, 12], \"y\": [152.12, 147.87, 148.74, 157.4, 157.4, 159.3]}, {\"name\": \"Quadriciclo- Previsto\", \"type\": \"scatter\", \"x\": [7, 8, 9, 10, 11, 12], \"y\": [1.05, 1.0, 1.0, 1.02, 1.02, 1.07]}, {\"name\": \"Trator de esteira- Previsto\", \"type\": \"scatter\", \"x\": [7, 8, 9, 10, 11, 12], \"y\": [1.68, 1.94, 1.57, 1.68, 1.68, 1.77]}, {\"name\": \"Triciclo- Previsto\", \"type\": \"scatter\", \"x\": [7, 8, 9, 10, 11, 12], \"y\": [1.63, 2.59, 1.79, 1.35, 3.2, 3.45]}, {\"name\": \"Carro de m\\u00e3o- Previsto\", \"type\": \"scatter\", \"x\": [7, 8, 9, 10, 11, 12], \"y\": [1.61, 1.63, 1.88, 2.16, 2.44, 2.26]}],\n",
              "                        {\"template\": {\"data\": {\"bar\": [{\"error_x\": {\"color\": \"#2a3f5f\"}, \"error_y\": {\"color\": \"#2a3f5f\"}, \"marker\": {\"line\": {\"color\": \"#E5ECF6\", \"width\": 0.5}}, \"type\": \"bar\"}], \"barpolar\": [{\"marker\": {\"line\": {\"color\": \"#E5ECF6\", \"width\": 0.5}}, \"type\": \"barpolar\"}], \"carpet\": [{\"aaxis\": {\"endlinecolor\": \"#2a3f5f\", \"gridcolor\": \"white\", \"linecolor\": \"white\", \"minorgridcolor\": \"white\", \"startlinecolor\": \"#2a3f5f\"}, \"baxis\": {\"endlinecolor\": \"#2a3f5f\", \"gridcolor\": \"white\", \"linecolor\": \"white\", \"minorgridcolor\": \"white\", \"startlinecolor\": \"#2a3f5f\"}, \"type\": \"carpet\"}], \"choropleth\": [{\"colorbar\": {\"outlinewidth\": 0, \"ticks\": \"\"}, \"type\": \"choropleth\"}], \"contour\": [{\"colorbar\": {\"outlinewidth\": 0, \"ticks\": \"\"}, \"colorscale\": [[0.0, \"#0d0887\"], [0.1111111111111111, \"#46039f\"], [0.2222222222222222, \"#7201a8\"], [0.3333333333333333, \"#9c179e\"], [0.4444444444444444, \"#bd3786\"], [0.5555555555555556, \"#d8576b\"], [0.6666666666666666, \"#ed7953\"], [0.7777777777777778, \"#fb9f3a\"], [0.8888888888888888, \"#fdca26\"], [1.0, \"#f0f921\"]], \"type\": \"contour\"}], \"contourcarpet\": [{\"colorbar\": {\"outlinewidth\": 0, \"ticks\": \"\"}, \"type\": \"contourcarpet\"}], \"heatmap\": [{\"colorbar\": {\"outlinewidth\": 0, \"ticks\": \"\"}, \"colorscale\": [[0.0, \"#0d0887\"], [0.1111111111111111, \"#46039f\"], [0.2222222222222222, \"#7201a8\"], [0.3333333333333333, \"#9c179e\"], [0.4444444444444444, \"#bd3786\"], [0.5555555555555556, \"#d8576b\"], [0.6666666666666666, \"#ed7953\"], [0.7777777777777778, \"#fb9f3a\"], [0.8888888888888888, \"#fdca26\"], [1.0, \"#f0f921\"]], \"type\": \"heatmap\"}], \"heatmapgl\": [{\"colorbar\": {\"outlinewidth\": 0, \"ticks\": \"\"}, \"colorscale\": [[0.0, \"#0d0887\"], [0.1111111111111111, \"#46039f\"], [0.2222222222222222, \"#7201a8\"], [0.3333333333333333, \"#9c179e\"], [0.4444444444444444, \"#bd3786\"], [0.5555555555555556, \"#d8576b\"], [0.6666666666666666, \"#ed7953\"], [0.7777777777777778, \"#fb9f3a\"], [0.8888888888888888, \"#fdca26\"], [1.0, \"#f0f921\"]], \"type\": \"heatmapgl\"}], \"histogram\": [{\"marker\": {\"colorbar\": {\"outlinewidth\": 0, \"ticks\": \"\"}}, \"type\": \"histogram\"}], \"histogram2d\": [{\"colorbar\": {\"outlinewidth\": 0, \"ticks\": \"\"}, \"colorscale\": [[0.0, \"#0d0887\"], [0.1111111111111111, \"#46039f\"], [0.2222222222222222, \"#7201a8\"], [0.3333333333333333, \"#9c179e\"], [0.4444444444444444, \"#bd3786\"], [0.5555555555555556, \"#d8576b\"], [0.6666666666666666, \"#ed7953\"], [0.7777777777777778, \"#fb9f3a\"], [0.8888888888888888, \"#fdca26\"], [1.0, \"#f0f921\"]], \"type\": \"histogram2d\"}], \"histogram2dcontour\": [{\"colorbar\": {\"outlinewidth\": 0, \"ticks\": \"\"}, \"colorscale\": [[0.0, \"#0d0887\"], [0.1111111111111111, \"#46039f\"], [0.2222222222222222, \"#7201a8\"], [0.3333333333333333, \"#9c179e\"], [0.4444444444444444, \"#bd3786\"], [0.5555555555555556, \"#d8576b\"], [0.6666666666666666, \"#ed7953\"], [0.7777777777777778, \"#fb9f3a\"], [0.8888888888888888, \"#fdca26\"], [1.0, \"#f0f921\"]], \"type\": \"histogram2dcontour\"}], \"mesh3d\": [{\"colorbar\": {\"outlinewidth\": 0, \"ticks\": \"\"}, \"type\": \"mesh3d\"}], \"parcoords\": [{\"line\": {\"colorbar\": {\"outlinewidth\": 0, \"ticks\": \"\"}}, \"type\": \"parcoords\"}], \"pie\": [{\"automargin\": true, \"type\": \"pie\"}], \"scatter\": [{\"marker\": {\"colorbar\": {\"outlinewidth\": 0, \"ticks\": \"\"}}, \"type\": \"scatter\"}], \"scatter3d\": [{\"line\": {\"colorbar\": {\"outlinewidth\": 0, \"ticks\": \"\"}}, \"marker\": {\"colorbar\": {\"outlinewidth\": 0, \"ticks\": \"\"}}, \"type\": \"scatter3d\"}], \"scattercarpet\": [{\"marker\": {\"colorbar\": {\"outlinewidth\": 0, \"ticks\": \"\"}}, \"type\": \"scattercarpet\"}], \"scattergeo\": [{\"marker\": {\"colorbar\": {\"outlinewidth\": 0, \"ticks\": \"\"}}, \"type\": \"scattergeo\"}], \"scattergl\": [{\"marker\": {\"colorbar\": {\"outlinewidth\": 0, \"ticks\": \"\"}}, \"type\": \"scattergl\"}], \"scattermapbox\": [{\"marker\": {\"colorbar\": {\"outlinewidth\": 0, \"ticks\": \"\"}}, \"type\": \"scattermapbox\"}], \"scatterpolar\": [{\"marker\": {\"colorbar\": {\"outlinewidth\": 0, \"ticks\": \"\"}}, \"type\": \"scatterpolar\"}], \"scatterpolargl\": [{\"marker\": {\"colorbar\": {\"outlinewidth\": 0, \"ticks\": \"\"}}, \"type\": \"scatterpolargl\"}], \"scatterternary\": [{\"marker\": {\"colorbar\": {\"outlinewidth\": 0, \"ticks\": \"\"}}, \"type\": \"scatterternary\"}], \"surface\": [{\"colorbar\": {\"outlinewidth\": 0, \"ticks\": \"\"}, \"colorscale\": [[0.0, \"#0d0887\"], [0.1111111111111111, \"#46039f\"], [0.2222222222222222, \"#7201a8\"], [0.3333333333333333, \"#9c179e\"], [0.4444444444444444, \"#bd3786\"], [0.5555555555555556, \"#d8576b\"], [0.6666666666666666, \"#ed7953\"], [0.7777777777777778, \"#fb9f3a\"], [0.8888888888888888, \"#fdca26\"], [1.0, \"#f0f921\"]], \"type\": \"surface\"}], \"table\": [{\"cells\": {\"fill\": {\"color\": \"#EBF0F8\"}, \"line\": {\"color\": \"white\"}}, \"header\": {\"fill\": {\"color\": \"#C8D4E3\"}, \"line\": {\"color\": \"white\"}}, \"type\": \"table\"}]}, \"layout\": {\"annotationdefaults\": {\"arrowcolor\": \"#2a3f5f\", \"arrowhead\": 0, \"arrowwidth\": 1}, \"coloraxis\": {\"colorbar\": {\"outlinewidth\": 0, \"ticks\": \"\"}}, \"colorscale\": {\"diverging\": [[0, \"#8e0152\"], [0.1, \"#c51b7d\"], [0.2, \"#de77ae\"], [0.3, \"#f1b6da\"], [0.4, \"#fde0ef\"], [0.5, \"#f7f7f7\"], [0.6, \"#e6f5d0\"], [0.7, \"#b8e186\"], [0.8, \"#7fbc41\"], [0.9, \"#4d9221\"], [1, \"#276419\"]], \"sequential\": [[0.0, \"#0d0887\"], [0.1111111111111111, \"#46039f\"], [0.2222222222222222, \"#7201a8\"], [0.3333333333333333, \"#9c179e\"], [0.4444444444444444, \"#bd3786\"], [0.5555555555555556, \"#d8576b\"], [0.6666666666666666, \"#ed7953\"], [0.7777777777777778, \"#fb9f3a\"], [0.8888888888888888, \"#fdca26\"], [1.0, \"#f0f921\"]], \"sequentialminus\": [[0.0, \"#0d0887\"], [0.1111111111111111, \"#46039f\"], [0.2222222222222222, \"#7201a8\"], [0.3333333333333333, \"#9c179e\"], [0.4444444444444444, \"#bd3786\"], [0.5555555555555556, \"#d8576b\"], [0.6666666666666666, \"#ed7953\"], [0.7777777777777778, \"#fb9f3a\"], [0.8888888888888888, \"#fdca26\"], [1.0, \"#f0f921\"]]}, \"colorway\": [\"#636efa\", \"#EF553B\", \"#00cc96\", \"#ab63fa\", \"#FFA15A\", \"#19d3f3\", \"#FF6692\", \"#B6E880\", \"#FF97FF\", \"#FECB52\"], \"font\": {\"color\": \"#2a3f5f\"}, \"geo\": {\"bgcolor\": \"white\", \"lakecolor\": \"white\", \"landcolor\": \"#E5ECF6\", \"showlakes\": true, \"showland\": true, \"subunitcolor\": \"white\"}, \"hoverlabel\": {\"align\": \"left\"}, \"hovermode\": \"closest\", \"mapbox\": {\"style\": \"light\"}, \"paper_bgcolor\": \"white\", \"plot_bgcolor\": \"#E5ECF6\", \"polar\": {\"angularaxis\": {\"gridcolor\": \"white\", \"linecolor\": \"white\", \"ticks\": \"\"}, \"bgcolor\": \"#E5ECF6\", \"radialaxis\": {\"gridcolor\": \"white\", \"linecolor\": \"white\", \"ticks\": \"\"}}, \"scene\": {\"xaxis\": {\"backgroundcolor\": \"#E5ECF6\", \"gridcolor\": \"white\", \"gridwidth\": 2, \"linecolor\": \"white\", \"showbackground\": true, \"ticks\": \"\", \"zerolinecolor\": \"white\"}, \"yaxis\": {\"backgroundcolor\": \"#E5ECF6\", \"gridcolor\": \"white\", \"gridwidth\": 2, \"linecolor\": \"white\", \"showbackground\": true, \"ticks\": \"\", \"zerolinecolor\": \"white\"}, \"zaxis\": {\"backgroundcolor\": \"#E5ECF6\", \"gridcolor\": \"white\", \"gridwidth\": 2, \"linecolor\": \"white\", \"showbackground\": true, \"ticks\": \"\", \"zerolinecolor\": \"white\"}}, \"shapedefaults\": {\"line\": {\"color\": \"#2a3f5f\"}}, \"ternary\": {\"aaxis\": {\"gridcolor\": \"white\", \"linecolor\": \"white\", \"ticks\": \"\"}, \"baxis\": {\"gridcolor\": \"white\", \"linecolor\": \"white\", \"ticks\": \"\"}, \"bgcolor\": \"#E5ECF6\", \"caxis\": {\"gridcolor\": \"white\", \"linecolor\": \"white\", \"ticks\": \"\"}}, \"title\": {\"x\": 0.05}, \"xaxis\": {\"automargin\": true, \"gridcolor\": \"white\", \"linecolor\": \"white\", \"ticks\": \"\", \"title\": {\"standoff\": 15}, \"zerolinecolor\": \"white\", \"zerolinewidth\": 2}, \"yaxis\": {\"automargin\": true, \"gridcolor\": \"white\", \"linecolor\": \"white\", \"ticks\": \"\", \"title\": {\"standoff\": 15}, \"zerolinecolor\": \"white\", \"zerolinewidth\": 2}}}, \"title\": {\"text\": \"Quantidade de Pessoas envolvidas em acidentes, por m\\u00eas, em 2020 por tipo de ve\\u00edculo - Dados reais e previstos\"}},\n",
              "                        {\"responsive\": true}\n",
              "                    ).then(function(){\n",
              "                            \n",
              "var gd = document.getElementById('f10fe183-baf5-468f-870d-952eff5ff5ca');\n",
              "var x = new MutationObserver(function (mutations, observer) {{\n",
              "        var display = window.getComputedStyle(gd).display;\n",
              "        if (!display || display === 'none') {{\n",
              "            console.log([gd, 'removed!']);\n",
              "            Plotly.purge(gd);\n",
              "            observer.disconnect();\n",
              "        }}\n",
              "}});\n",
              "\n",
              "// Listen for the removal of the full notebook cells\n",
              "var notebookContainer = gd.closest('#notebook-container');\n",
              "if (notebookContainer) {{\n",
              "    x.observe(notebookContainer, {childList: true});\n",
              "}}\n",
              "\n",
              "// Listen for the clearing of the current output cell\n",
              "var outputEl = gd.closest('.output');\n",
              "if (outputEl) {{\n",
              "    x.observe(outputEl, {childList: true});\n",
              "}}\n",
              "\n",
              "                        })\n",
              "                };\n",
              "                \n",
              "            </script>\n",
              "        </div>\n",
              "</body>\n",
              "</html>"
            ]
          },
          "metadata": {
            "tags": []
          }
        }
      ]
    },
    {
      "cell_type": "markdown",
      "metadata": {
        "id": "YbZJSJ8pv6KZ"
      },
      "source": [
        "##### Quatidade de Ilesos"
      ]
    },
    {
      "cell_type": "code",
      "metadata": {
        "id": "znS7rr88v6KZ",
        "outputId": "77108bc2-2297-4cf1-caa6-6d428b8e1222",
        "colab": {
          "base_uri": "https://localhost:8080/"
        }
      },
      "source": [
        "data_plot = cria_data_plot('qtd_ilesos')\n",
        "fig = go.Figure(data=data_plot)\n",
        "fig.update_layout(title_text='Quantidade de Ilesos envolvidos em acidentes, por mês, em 2020 por tipo de veículo - Dados reais e previstos')\n",
        "fig.show()"
      ],
      "execution_count": null,
      "outputs": [
        {
          "output_type": "stream",
          "text": [
            "/usr/local/lib/python3.6/dist-packages/plotly/graph_objs/_deprecations.py:385: DeprecationWarning:\n",
            "\n",
            "plotly.graph_objs.Line is deprecated.\n",
            "Please replace it with one of the following more specific types\n",
            "  - plotly.graph_objs.scatter.Line\n",
            "  - plotly.graph_objs.layout.shape.Line\n",
            "  - etc.\n",
            "\n",
            "\n"
          ],
          "name": "stderr"
        },
        {
          "output_type": "display_data",
          "data": {
            "text/html": [
              "<html>\n",
              "<head><meta charset=\"utf-8\" /></head>\n",
              "<body>\n",
              "    <div>\n",
              "            <script src=\"https://cdnjs.cloudflare.com/ajax/libs/mathjax/2.7.5/MathJax.js?config=TeX-AMS-MML_SVG\"></script><script type=\"text/javascript\">if (window.MathJax) {MathJax.Hub.Config({SVG: {font: \"STIX-Web\"}});}</script>\n",
              "                <script type=\"text/javascript\">window.PlotlyConfig = {MathJaxConfig: 'local'};</script>\n",
              "        <script src=\"https://cdn.plot.ly/plotly-latest.min.js\"></script>    \n",
              "            <div id=\"f74e03dd-fd05-4ded-b7b8-357b72850051\" class=\"plotly-graph-div\" style=\"height:525px; width:100%;\"></div>\n",
              "            <script type=\"text/javascript\">\n",
              "                \n",
              "                    window.PLOTLYENV=window.PLOTLYENV || {};\n",
              "                    \n",
              "                if (document.getElementById(\"f74e03dd-fd05-4ded-b7b8-357b72850051\")) {\n",
              "                    Plotly.newPlot(\n",
              "                        'f74e03dd-fd05-4ded-b7b8-357b72850051',\n",
              "                        [{\"name\": \"Carro\\u00e7a-charrete- Real\", \"type\": \"scatter\", \"x\": [1, 2, 3, 4, 5, 6, 7], \"y\": [0.0, 2.0, 0.0, 2.0, 2.0, 0.0, 3.0]}, {\"name\": \"Autom\\u00f3vel- Real\", \"type\": \"scatter\", \"x\": [1, 2, 3, 4, 5, 6, 7], \"y\": [3038.0, 2923.0, 2118.0, 1540.0, 2061.0, 2177.0, 2390.0]}, {\"name\": \"Bicicleta- Real\", \"type\": \"scatter\", \"x\": [1, 2, 3, 4, 5, 6, 7], \"y\": [6.0, 4.0, 5.0, 7.0, 8.0, 6.0, 4.0]}, {\"name\": \"Caminhonete- Real\", \"type\": \"scatter\", \"x\": [1, 2, 3, 4, 5, 6, 7], \"y\": [655.0, 573.0, 577.0, 395.0, 512.0, 562.0, 644.0]}, {\"name\": \"Caminh\\u00e3o- Real\", \"type\": \"scatter\", \"x\": [1, 2, 3, 4, 5, 6, 7], \"y\": [520.0, 511.0, 464.0, 387.0, 418.0, 458.0, 563.0]}, {\"name\": \"Caminh\\u00e3o-trator- Real\", \"type\": \"scatter\", \"x\": [1, 2, 3, 4, 5, 6, 7], \"y\": [596.0, 626.0, 583.0, 423.0, 582.0, 683.0, 729.0]}, {\"name\": \"Camioneta- Real\", \"type\": \"scatter\", \"x\": [1, 2, 3, 4, 5, 6, 7], \"y\": [211.0, 192.0, 144.0, 89.0, 132.0, 125.0, 132.0]}, {\"name\": \"Semireboque- Real\", \"type\": \"scatter\", \"x\": [1, 2, 3, 4, 5, 6, 7], \"y\": [5.0, 4.0, 3.0, 3.0, 4.0, 4.0, 8.0]}, {\"name\": \"Utilit\\u00e1rio- Real\", \"type\": \"scatter\", \"x\": [1, 2, 3, 4, 5, 6, 7], \"y\": [99.0, 87.0, 61.0, 58.0, 62.0, 66.0, 91.0]}, {\"name\": \"Micro-\\u00f4nibus- Real\", \"type\": \"scatter\", \"x\": [1, 2, 3, 4, 5, 6, 7], \"y\": [48.0, 80.0, 28.0, 37.0, 28.0, 15.0, 32.0]}, {\"name\": \"Motocicleta- Real\", \"type\": \"scatter\", \"x\": [1, 2, 3, 4, 5, 6, 7], \"y\": [166.0, 151.0, 129.0, 119.0, 115.0, 163.0, 175.0]}, {\"name\": \"Motoneta- Real\", \"type\": \"scatter\", \"x\": [1, 2, 3, 4, 5, 6, 7], \"y\": [20.0, 17.0, 15.0, 16.0, 14.0, 9.0, 8.0]}, {\"name\": \"N\\u00e3o Informado- Real\", \"type\": \"scatter\", \"x\": [1, 2, 5, 7], \"y\": [1.0, 3.0, 1.0, 1.0]}, {\"name\": \"Outros- Real\", \"type\": \"scatter\", \"x\": [1, 2, 3, 4, 5, 6, 7], \"y\": [7.0, 9.0, 6.0, 6.0, 8.0, 4.0, 8.0]}, {\"name\": \"Reboque- Real\", \"type\": \"scatter\", \"x\": [1, 2, 3, 4, 6, 7], \"y\": [0.0, 1.0, 1.0, 0.0, 2.0, 0.0]}, {\"name\": \"Ciclomotor- Real\", \"type\": \"scatter\", \"x\": [1, 2, 3, 4, 5, 6, 7], \"y\": [1.0, 2.0, 2.0, 0.0, 4.0, 1.0, 4.0]}, {\"name\": \"\\u00d4nibus- Real\", \"type\": \"scatter\", \"x\": [1, 2, 3, 4, 5, 6, 7], \"y\": [433.0, 339.0, 169.0, 51.0, 65.0, 111.0, 97.0]}, {\"name\": \"Trator de rodas- Real\", \"type\": \"scatter\", \"x\": [1, 2, 3, 4, 5, 6, 7], \"y\": [2.0, 0.0, 4.0, 5.0, 3.0, 4.0, 3.0]}, {\"name\": \"Trem-bonde- Real\", \"type\": \"scatter\", \"x\": [2, 7], \"y\": [2.0, 1.0]}, {\"name\": \"Chassi-plataforma- Real\", \"type\": \"scatter\", \"x\": [2, 7], \"y\": [1.0, 1.0]}, {\"name\": \"Triciclo- Real\", \"type\": \"scatter\", \"x\": [3, 5, 6], \"y\": [1.0, 0.0, 1.0]}, {\"name\": \"Quadriciclo- Real\", \"type\": \"scatter\", \"x\": [3], \"y\": [1.0]}, {\"name\": \"Carro de m\\u00e3o- Real\", \"type\": \"scatter\", \"x\": [4, 6], \"y\": [0.0, 0.0]}, {\"name\": \"Trator misto- Real\", \"type\": \"scatter\", \"x\": [4, 6], \"y\": [1.0, 1.0]}, {\"name\": \"Autom\\u00f3vel- Previsto\", \"type\": \"scatter\", \"x\": [7, 8, 9, 10, 11, 12], \"y\": [2297.29, 2296.85, 2301.28, 2302.57, 2319.93, 2704.3]}, {\"name\": \"Bicicleta- Previsto\", \"type\": \"scatter\", \"x\": [7, 8, 9, 10, 11, 12], \"y\": [4.62, 5.43, 4.75, 8.09, 8.48, 4.45]}, {\"name\": \"Caminhonete- Previsto\", \"type\": \"scatter\", \"x\": [7, 8, 9, 10, 11, 12], \"y\": [607.19, 605.09, 606.07, 605.99, 606.49, 617.71]}, {\"name\": \"Caminh\\u00e3o- Previsto\", \"type\": \"scatter\", \"x\": [7, 8, 9, 10, 11, 12], \"y\": [539.09, 535.24, 535.03, 539.56, 538.79, 537.04]}, {\"name\": \"Caminh\\u00e3o-trator- Previsto\", \"type\": \"scatter\", \"x\": [7, 8, 9, 10, 11, 12], \"y\": [702.33, 681.5, 674.32, 675.03, 659.92, 630.78]}, {\"name\": \"Camioneta- Previsto\", \"type\": \"scatter\", \"x\": [7, 8, 9, 10, 11, 12], \"y\": [134.78, 134.49, 133.19, 134.64, 141.68, 161.55]}, {\"name\": \"Carro\\u00e7a-charrete- Previsto\", \"type\": \"scatter\", \"x\": [7, 8, 9, 10, 11, 12], \"y\": [2.1, 2.09, 2.5, 2.54, 1.0, 0.9]}, {\"name\": \"Chassi-plataforma- Previsto\", \"type\": \"scatter\", \"x\": [7, 8, 9, 10, 11, 12], \"y\": [1.01, 1.01, 0.99, 0.79, 0.27, 0.26]}, {\"name\": \"Ciclomotor- Previsto\", \"type\": \"scatter\", \"x\": [7, 8, 9, 10, 11, 12], \"y\": [2.93, 2.97, 2.55, 1.97, 1.21, 1.57]}, {\"name\": \"Micro-\\u00f4nibus- Previsto\", \"type\": \"scatter\", \"x\": [7, 8, 9, 10, 11, 12], \"y\": [27.49, 27.77, 28.5, 28.47, 28.18, 28.18]}, {\"name\": \"Motocicleta- Previsto\", \"type\": \"scatter\", \"x\": [7, 8, 9, 10, 11, 12], \"y\": [172.17, 174.07, 173.1, 172.94, 172.2, 173.69]}, {\"name\": \"Motoneta- Previsto\", \"type\": \"scatter\", \"x\": [7, 8, 9, 10, 11, 12], \"y\": [8.93, 9.11, 9.1, 9.48, 9.79, 10.42]}, {\"name\": \"N\\u00e3o Informado- Previsto\", \"type\": \"scatter\", \"x\": [7, 8, 9, 10, 11, 12], \"y\": [1.18, 0.55, 0.98, 0.89, 0.98, 0.97]}, {\"name\": \"Outros- Previsto\", \"type\": \"scatter\", \"x\": [7, 8, 9, 10, 11, 12], \"y\": [9.22, 8.4, 10.17, 7.5, 7.83, 8.27]}, {\"name\": \"Reboque- Previsto\", \"type\": \"scatter\", \"x\": [7, 8, 9, 10, 11, 12], \"y\": [0.47, 1.4, 2.25, 1.65, 1.1, 1.59]}, {\"name\": \"Semireboque- Previsto\", \"type\": \"scatter\", \"x\": [7, 8, 9, 10, 11, 12], \"y\": [6.62, 5.79, 5.4, 4.95, 5.44, 3.95]}, {\"name\": \"Trator de rodas- Previsto\", \"type\": \"scatter\", \"x\": [7, 8, 9, 10, 11, 12], \"y\": [3.57, 6.75, 3.36, 4.71, 3.68, 5.54]}, {\"name\": \"Trator misto- Previsto\", \"type\": \"scatter\", \"x\": [7, 8, 9, 10, 11, 12], \"y\": [1.03, 1.66, 1.65, 1.58, 1.6, 1.67]}, {\"name\": \"Trem-bonde- Previsto\", \"type\": \"scatter\", \"x\": [7, 8, 9, 10, 11, 12], \"y\": [1.09, 0.98, 0.9, 0.97, 1.09, 1.17]}, {\"name\": \"Utilit\\u00e1rio- Previsto\", \"type\": \"scatter\", \"x\": [7, 8, 9, 10, 11, 12], \"y\": [82.26, 81.92, 82.66, 81.69, 83.01, 85.34]}, {\"name\": \"\\u00d4nibus- Previsto\", \"type\": \"scatter\", \"x\": [7, 8, 9, 10, 11, 12], \"y\": [103.83, 100.91, 102.07, 106.51, 106.51, 110.18]}, {\"name\": \"Quadriciclo- Previsto\", \"type\": \"scatter\", \"x\": [7, 8, 9, 10, 11, 12], \"y\": [0.73, 0.45, 0.41, 0.33, 0.31, 0.31]}, {\"name\": \"Trator de esteira- Previsto\", \"type\": \"scatter\", \"x\": [7, 8, 9, 10, 11, 12], \"y\": [0.51, 0.65, 0.4, 0.77, 0.83, 0.96]}, {\"name\": \"Triciclo- Previsto\", \"type\": \"scatter\", \"x\": [7, 8, 9, 10, 11, 12], \"y\": [0.58, 1.2, 0.61, 0.26, 0.1, 0.81]}, {\"name\": \"Carro de m\\u00e3o- Previsto\", \"type\": \"scatter\", \"x\": [7, 8, 9, 10, 11, 12], \"y\": [0.01, 0.01, 0.01, 0.02, 0.02, 0.05]}],\n",
              "                        {\"template\": {\"data\": {\"bar\": [{\"error_x\": {\"color\": \"#2a3f5f\"}, \"error_y\": {\"color\": \"#2a3f5f\"}, \"marker\": {\"line\": {\"color\": \"#E5ECF6\", \"width\": 0.5}}, \"type\": \"bar\"}], \"barpolar\": [{\"marker\": {\"line\": {\"color\": \"#E5ECF6\", \"width\": 0.5}}, \"type\": \"barpolar\"}], \"carpet\": [{\"aaxis\": {\"endlinecolor\": \"#2a3f5f\", \"gridcolor\": \"white\", \"linecolor\": \"white\", \"minorgridcolor\": \"white\", \"startlinecolor\": \"#2a3f5f\"}, \"baxis\": {\"endlinecolor\": \"#2a3f5f\", \"gridcolor\": \"white\", \"linecolor\": \"white\", \"minorgridcolor\": \"white\", \"startlinecolor\": \"#2a3f5f\"}, \"type\": \"carpet\"}], \"choropleth\": [{\"colorbar\": {\"outlinewidth\": 0, \"ticks\": \"\"}, \"type\": \"choropleth\"}], \"contour\": [{\"colorbar\": {\"outlinewidth\": 0, \"ticks\": \"\"}, \"colorscale\": [[0.0, \"#0d0887\"], [0.1111111111111111, \"#46039f\"], [0.2222222222222222, \"#7201a8\"], [0.3333333333333333, \"#9c179e\"], [0.4444444444444444, \"#bd3786\"], [0.5555555555555556, \"#d8576b\"], [0.6666666666666666, \"#ed7953\"], [0.7777777777777778, \"#fb9f3a\"], [0.8888888888888888, \"#fdca26\"], [1.0, \"#f0f921\"]], \"type\": \"contour\"}], \"contourcarpet\": [{\"colorbar\": {\"outlinewidth\": 0, \"ticks\": \"\"}, \"type\": \"contourcarpet\"}], \"heatmap\": [{\"colorbar\": {\"outlinewidth\": 0, \"ticks\": \"\"}, \"colorscale\": [[0.0, \"#0d0887\"], [0.1111111111111111, \"#46039f\"], [0.2222222222222222, \"#7201a8\"], [0.3333333333333333, \"#9c179e\"], [0.4444444444444444, \"#bd3786\"], [0.5555555555555556, \"#d8576b\"], [0.6666666666666666, \"#ed7953\"], [0.7777777777777778, \"#fb9f3a\"], [0.8888888888888888, \"#fdca26\"], [1.0, \"#f0f921\"]], \"type\": \"heatmap\"}], \"heatmapgl\": [{\"colorbar\": {\"outlinewidth\": 0, \"ticks\": \"\"}, \"colorscale\": [[0.0, \"#0d0887\"], [0.1111111111111111, \"#46039f\"], [0.2222222222222222, \"#7201a8\"], [0.3333333333333333, \"#9c179e\"], [0.4444444444444444, \"#bd3786\"], [0.5555555555555556, \"#d8576b\"], [0.6666666666666666, \"#ed7953\"], [0.7777777777777778, \"#fb9f3a\"], [0.8888888888888888, \"#fdca26\"], [1.0, \"#f0f921\"]], \"type\": \"heatmapgl\"}], \"histogram\": [{\"marker\": {\"colorbar\": {\"outlinewidth\": 0, \"ticks\": \"\"}}, \"type\": \"histogram\"}], \"histogram2d\": [{\"colorbar\": {\"outlinewidth\": 0, \"ticks\": \"\"}, \"colorscale\": [[0.0, \"#0d0887\"], [0.1111111111111111, \"#46039f\"], [0.2222222222222222, \"#7201a8\"], [0.3333333333333333, \"#9c179e\"], [0.4444444444444444, \"#bd3786\"], [0.5555555555555556, \"#d8576b\"], [0.6666666666666666, \"#ed7953\"], [0.7777777777777778, \"#fb9f3a\"], [0.8888888888888888, \"#fdca26\"], [1.0, \"#f0f921\"]], \"type\": \"histogram2d\"}], \"histogram2dcontour\": [{\"colorbar\": {\"outlinewidth\": 0, \"ticks\": \"\"}, \"colorscale\": [[0.0, \"#0d0887\"], [0.1111111111111111, \"#46039f\"], [0.2222222222222222, \"#7201a8\"], [0.3333333333333333, \"#9c179e\"], [0.4444444444444444, \"#bd3786\"], [0.5555555555555556, \"#d8576b\"], [0.6666666666666666, \"#ed7953\"], [0.7777777777777778, \"#fb9f3a\"], [0.8888888888888888, \"#fdca26\"], [1.0, \"#f0f921\"]], \"type\": \"histogram2dcontour\"}], \"mesh3d\": [{\"colorbar\": {\"outlinewidth\": 0, \"ticks\": \"\"}, \"type\": \"mesh3d\"}], \"parcoords\": [{\"line\": {\"colorbar\": {\"outlinewidth\": 0, \"ticks\": \"\"}}, \"type\": \"parcoords\"}], \"pie\": [{\"automargin\": true, \"type\": \"pie\"}], \"scatter\": [{\"marker\": {\"colorbar\": {\"outlinewidth\": 0, \"ticks\": \"\"}}, \"type\": \"scatter\"}], \"scatter3d\": [{\"line\": {\"colorbar\": {\"outlinewidth\": 0, \"ticks\": \"\"}}, \"marker\": {\"colorbar\": {\"outlinewidth\": 0, \"ticks\": \"\"}}, \"type\": \"scatter3d\"}], \"scattercarpet\": [{\"marker\": {\"colorbar\": {\"outlinewidth\": 0, \"ticks\": \"\"}}, \"type\": \"scattercarpet\"}], \"scattergeo\": [{\"marker\": {\"colorbar\": {\"outlinewidth\": 0, \"ticks\": \"\"}}, \"type\": \"scattergeo\"}], \"scattergl\": [{\"marker\": {\"colorbar\": {\"outlinewidth\": 0, \"ticks\": \"\"}}, \"type\": \"scattergl\"}], \"scattermapbox\": [{\"marker\": {\"colorbar\": {\"outlinewidth\": 0, \"ticks\": \"\"}}, \"type\": \"scattermapbox\"}], \"scatterpolar\": [{\"marker\": {\"colorbar\": {\"outlinewidth\": 0, \"ticks\": \"\"}}, \"type\": \"scatterpolar\"}], \"scatterpolargl\": [{\"marker\": {\"colorbar\": {\"outlinewidth\": 0, \"ticks\": \"\"}}, \"type\": \"scatterpolargl\"}], \"scatterternary\": [{\"marker\": {\"colorbar\": {\"outlinewidth\": 0, \"ticks\": \"\"}}, \"type\": \"scatterternary\"}], \"surface\": [{\"colorbar\": {\"outlinewidth\": 0, \"ticks\": \"\"}, \"colorscale\": [[0.0, \"#0d0887\"], [0.1111111111111111, \"#46039f\"], [0.2222222222222222, \"#7201a8\"], [0.3333333333333333, \"#9c179e\"], [0.4444444444444444, \"#bd3786\"], [0.5555555555555556, \"#d8576b\"], [0.6666666666666666, \"#ed7953\"], [0.7777777777777778, \"#fb9f3a\"], [0.8888888888888888, \"#fdca26\"], [1.0, \"#f0f921\"]], \"type\": \"surface\"}], \"table\": [{\"cells\": {\"fill\": {\"color\": \"#EBF0F8\"}, \"line\": {\"color\": \"white\"}}, \"header\": {\"fill\": {\"color\": \"#C8D4E3\"}, \"line\": {\"color\": \"white\"}}, \"type\": \"table\"}]}, \"layout\": {\"annotationdefaults\": {\"arrowcolor\": \"#2a3f5f\", \"arrowhead\": 0, \"arrowwidth\": 1}, \"coloraxis\": {\"colorbar\": {\"outlinewidth\": 0, \"ticks\": \"\"}}, \"colorscale\": {\"diverging\": [[0, \"#8e0152\"], [0.1, \"#c51b7d\"], [0.2, \"#de77ae\"], [0.3, \"#f1b6da\"], [0.4, \"#fde0ef\"], [0.5, \"#f7f7f7\"], [0.6, \"#e6f5d0\"], [0.7, \"#b8e186\"], [0.8, \"#7fbc41\"], [0.9, \"#4d9221\"], [1, \"#276419\"]], \"sequential\": [[0.0, \"#0d0887\"], [0.1111111111111111, \"#46039f\"], [0.2222222222222222, \"#7201a8\"], [0.3333333333333333, \"#9c179e\"], [0.4444444444444444, \"#bd3786\"], [0.5555555555555556, \"#d8576b\"], [0.6666666666666666, \"#ed7953\"], [0.7777777777777778, \"#fb9f3a\"], [0.8888888888888888, \"#fdca26\"], [1.0, \"#f0f921\"]], \"sequentialminus\": [[0.0, \"#0d0887\"], [0.1111111111111111, \"#46039f\"], [0.2222222222222222, \"#7201a8\"], [0.3333333333333333, \"#9c179e\"], [0.4444444444444444, \"#bd3786\"], [0.5555555555555556, \"#d8576b\"], [0.6666666666666666, \"#ed7953\"], [0.7777777777777778, \"#fb9f3a\"], [0.8888888888888888, \"#fdca26\"], [1.0, \"#f0f921\"]]}, \"colorway\": [\"#636efa\", \"#EF553B\", \"#00cc96\", \"#ab63fa\", \"#FFA15A\", \"#19d3f3\", \"#FF6692\", \"#B6E880\", \"#FF97FF\", \"#FECB52\"], \"font\": {\"color\": \"#2a3f5f\"}, \"geo\": {\"bgcolor\": \"white\", \"lakecolor\": \"white\", \"landcolor\": \"#E5ECF6\", \"showlakes\": true, \"showland\": true, \"subunitcolor\": \"white\"}, \"hoverlabel\": {\"align\": \"left\"}, \"hovermode\": \"closest\", \"mapbox\": {\"style\": \"light\"}, \"paper_bgcolor\": \"white\", \"plot_bgcolor\": \"#E5ECF6\", \"polar\": {\"angularaxis\": {\"gridcolor\": \"white\", \"linecolor\": \"white\", \"ticks\": \"\"}, \"bgcolor\": \"#E5ECF6\", \"radialaxis\": {\"gridcolor\": \"white\", \"linecolor\": \"white\", \"ticks\": \"\"}}, \"scene\": {\"xaxis\": {\"backgroundcolor\": \"#E5ECF6\", \"gridcolor\": \"white\", \"gridwidth\": 2, \"linecolor\": \"white\", \"showbackground\": true, \"ticks\": \"\", \"zerolinecolor\": \"white\"}, \"yaxis\": {\"backgroundcolor\": \"#E5ECF6\", \"gridcolor\": \"white\", \"gridwidth\": 2, \"linecolor\": \"white\", \"showbackground\": true, \"ticks\": \"\", \"zerolinecolor\": \"white\"}, \"zaxis\": {\"backgroundcolor\": \"#E5ECF6\", \"gridcolor\": \"white\", \"gridwidth\": 2, \"linecolor\": \"white\", \"showbackground\": true, \"ticks\": \"\", \"zerolinecolor\": \"white\"}}, \"shapedefaults\": {\"line\": {\"color\": \"#2a3f5f\"}}, \"ternary\": {\"aaxis\": {\"gridcolor\": \"white\", \"linecolor\": \"white\", \"ticks\": \"\"}, \"baxis\": {\"gridcolor\": \"white\", \"linecolor\": \"white\", \"ticks\": \"\"}, \"bgcolor\": \"#E5ECF6\", \"caxis\": {\"gridcolor\": \"white\", \"linecolor\": \"white\", \"ticks\": \"\"}}, \"title\": {\"x\": 0.05}, \"xaxis\": {\"automargin\": true, \"gridcolor\": \"white\", \"linecolor\": \"white\", \"ticks\": \"\", \"title\": {\"standoff\": 15}, \"zerolinecolor\": \"white\", \"zerolinewidth\": 2}, \"yaxis\": {\"automargin\": true, \"gridcolor\": \"white\", \"linecolor\": \"white\", \"ticks\": \"\", \"title\": {\"standoff\": 15}, \"zerolinecolor\": \"white\", \"zerolinewidth\": 2}}}, \"title\": {\"text\": \"Quantidade de Ilesos envolvidos em acidentes, por m\\u00eas, em 2020 por tipo de ve\\u00edculo - Dados reais e previstos\"}},\n",
              "                        {\"responsive\": true}\n",
              "                    ).then(function(){\n",
              "                            \n",
              "var gd = document.getElementById('f74e03dd-fd05-4ded-b7b8-357b72850051');\n",
              "var x = new MutationObserver(function (mutations, observer) {{\n",
              "        var display = window.getComputedStyle(gd).display;\n",
              "        if (!display || display === 'none') {{\n",
              "            console.log([gd, 'removed!']);\n",
              "            Plotly.purge(gd);\n",
              "            observer.disconnect();\n",
              "        }}\n",
              "}});\n",
              "\n",
              "// Listen for the removal of the full notebook cells\n",
              "var notebookContainer = gd.closest('#notebook-container');\n",
              "if (notebookContainer) {{\n",
              "    x.observe(notebookContainer, {childList: true});\n",
              "}}\n",
              "\n",
              "// Listen for the clearing of the current output cell\n",
              "var outputEl = gd.closest('.output');\n",
              "if (outputEl) {{\n",
              "    x.observe(outputEl, {childList: true});\n",
              "}}\n",
              "\n",
              "                        })\n",
              "                };\n",
              "                \n",
              "            </script>\n",
              "        </div>\n",
              "</body>\n",
              "</html>"
            ]
          },
          "metadata": {
            "tags": []
          }
        }
      ]
    },
    {
      "cell_type": "markdown",
      "metadata": {
        "id": "fxFKtzvtv6Kd"
      },
      "source": [
        "##### Quatidade de Feridos Leves"
      ]
    },
    {
      "cell_type": "code",
      "metadata": {
        "id": "0fo8TkAyv6Ke",
        "outputId": "08f049d2-05ae-4961-fa17-a3be7be010dc",
        "colab": {
          "base_uri": "https://localhost:8080/"
        }
      },
      "source": [
        "data_plot = cria_data_plot('qtd_feridos_leves')\n",
        "fig = go.Figure(data=data_plot)\n",
        "fig.update_layout(title_text='Quantidade de Feridos Leves envolvidos em acidentes, por mês, em 2020 por tipo de veículo - Dados reais e previstos')\n",
        "fig.show()"
      ],
      "execution_count": null,
      "outputs": [
        {
          "output_type": "stream",
          "text": [
            "/usr/local/lib/python3.6/dist-packages/plotly/graph_objs/_deprecations.py:385: DeprecationWarning:\n",
            "\n",
            "plotly.graph_objs.Line is deprecated.\n",
            "Please replace it with one of the following more specific types\n",
            "  - plotly.graph_objs.scatter.Line\n",
            "  - plotly.graph_objs.layout.shape.Line\n",
            "  - etc.\n",
            "\n",
            "\n"
          ],
          "name": "stderr"
        },
        {
          "output_type": "display_data",
          "data": {
            "text/html": [
              "<html>\n",
              "<head><meta charset=\"utf-8\" /></head>\n",
              "<body>\n",
              "    <div>\n",
              "            <script src=\"https://cdnjs.cloudflare.com/ajax/libs/mathjax/2.7.5/MathJax.js?config=TeX-AMS-MML_SVG\"></script><script type=\"text/javascript\">if (window.MathJax) {MathJax.Hub.Config({SVG: {font: \"STIX-Web\"}});}</script>\n",
              "                <script type=\"text/javascript\">window.PlotlyConfig = {MathJaxConfig: 'local'};</script>\n",
              "        <script src=\"https://cdn.plot.ly/plotly-latest.min.js\"></script>    \n",
              "            <div id=\"927c7812-e1f1-40d4-bbd0-8eeaca235bf7\" class=\"plotly-graph-div\" style=\"height:525px; width:100%;\"></div>\n",
              "            <script type=\"text/javascript\">\n",
              "                \n",
              "                    window.PLOTLYENV=window.PLOTLYENV || {};\n",
              "                    \n",
              "                if (document.getElementById(\"927c7812-e1f1-40d4-bbd0-8eeaca235bf7\")) {\n",
              "                    Plotly.newPlot(\n",
              "                        '927c7812-e1f1-40d4-bbd0-8eeaca235bf7',\n",
              "                        [{\"name\": \"Carro\\u00e7a-charrete- Real\", \"type\": \"scatter\", \"x\": [1, 2, 3, 4, 5, 6, 7], \"y\": [0.0, 5.0, 9.0, 1.0, 2.0, 2.0, 2.0]}, {\"name\": \"Autom\\u00f3vel- Real\", \"type\": \"scatter\", \"x\": [1, 2, 3, 4, 5, 6, 7], \"y\": [2356.0, 2085.0, 1422.0, 1097.0, 1327.0, 1351.0, 1475.0]}, {\"name\": \"Bicicleta- Real\", \"type\": \"scatter\", \"x\": [1, 2, 3, 4, 5, 6, 7], \"y\": [85.0, 96.0, 85.0, 87.0, 113.0, 97.0, 106.0]}, {\"name\": \"Caminhonete- Real\", \"type\": \"scatter\", \"x\": [1, 2, 3, 4, 5, 6, 7], \"y\": [377.0, 350.0, 295.0, 225.0, 266.0, 281.0, 272.0]}, {\"name\": \"Caminh\\u00e3o- Real\", \"type\": \"scatter\", \"x\": [1, 2, 3, 4, 5, 6, 7], \"y\": [204.0, 168.0, 205.0, 138.0, 190.0, 149.0, 189.0]}, {\"name\": \"Caminh\\u00e3o-trator- Real\", \"type\": \"scatter\", \"x\": [1, 2, 3, 4, 5, 6, 7], \"y\": [194.0, 208.0, 212.0, 190.0, 211.0, 193.0, 257.0]}, {\"name\": \"Camioneta- Real\", \"type\": \"scatter\", \"x\": [1, 2, 3, 4, 5, 6, 7], \"y\": [143.0, 101.0, 75.0, 58.0, 56.0, 53.0, 65.0]}, {\"name\": \"Semireboque- Real\", \"type\": \"scatter\", \"x\": [1, 2, 3, 4, 5, 6, 7], \"y\": [0.0, 1.0, 2.0, 1.0, 1.0, 0.0, 0.0]}, {\"name\": \"Utilit\\u00e1rio- Real\", \"type\": \"scatter\", \"x\": [1, 2, 3, 4, 5, 6, 7], \"y\": [66.0, 43.0, 32.0, 24.0, 19.0, 28.0, 22.0]}, {\"name\": \"Micro-\\u00f4nibus- Real\", \"type\": \"scatter\", \"x\": [1, 2, 3, 4, 5, 6, 7], \"y\": [50.0, 39.0, 13.0, 23.0, 11.0, 16.0, 33.0]}, {\"name\": \"Motocicleta- Real\", \"type\": \"scatter\", \"x\": [1, 2, 3, 4, 5, 6, 7], \"y\": [1578.0, 1534.0, 1407.0, 1165.0, 1289.0, 1278.0, 1475.0]}, {\"name\": \"Motoneta- Real\", \"type\": \"scatter\", \"x\": [1, 2, 3, 4, 5, 6, 7], \"y\": [193.0, 210.0, 194.0, 147.0, 180.0, 165.0, 154.0]}, {\"name\": \"N\\u00e3o Informado- Real\", \"type\": \"scatter\", \"x\": [1, 2, 5, 7], \"y\": [0.0, 1.0, 0.0, 0.0]}, {\"name\": \"Outros- Real\", \"type\": \"scatter\", \"x\": [1, 2, 3, 4, 5, 6, 7], \"y\": [0.0, 4.0, 4.0, 0.0, 5.0, 1.0, 4.0]}, {\"name\": \"Reboque- Real\", \"type\": \"scatter\", \"x\": [1, 2, 3, 4, 6, 7], \"y\": [1.0, 2.0, 1.0, 1.0, 0.0, 1.0]}, {\"name\": \"Ciclomotor- Real\", \"type\": \"scatter\", \"x\": [1, 2, 3, 4, 5, 6, 7], \"y\": [16.0, 22.0, 21.0, 21.0, 17.0, 12.0, 21.0]}, {\"name\": \"\\u00d4nibus- Real\", \"type\": \"scatter\", \"x\": [1, 2, 3, 4, 5, 6, 7], \"y\": [259.0, 127.0, 103.0, 107.0, 15.0, 15.0, 47.0]}, {\"name\": \"Trator de rodas- Real\", \"type\": \"scatter\", \"x\": [1, 2, 3, 4, 5, 6, 7], \"y\": [0.0, 3.0, 3.0, 0.0, 1.0, 1.0, 0.0]}, {\"name\": \"Trem-bonde- Real\", \"type\": \"scatter\", \"x\": [2, 7], \"y\": [0.0, 0.0]}, {\"name\": \"Chassi-plataforma- Real\", \"type\": \"scatter\", \"x\": [2, 7], \"y\": [0.0, 0.0]}, {\"name\": \"Triciclo- Real\", \"type\": \"scatter\", \"x\": [3, 5, 6], \"y\": [0.0, 1.0, 0.0]}, {\"name\": \"Quadriciclo- Real\", \"type\": \"scatter\", \"x\": [3], \"y\": [0.0]}, {\"name\": \"Carro de m\\u00e3o- Real\", \"type\": \"scatter\", \"x\": [4, 6], \"y\": [1.0, 0.0]}, {\"name\": \"Trator misto- Real\", \"type\": \"scatter\", \"x\": [4, 6], \"y\": [0.0, 0.0]}, {\"name\": \"Autom\\u00f3vel- Previsto\", \"type\": \"scatter\", \"x\": [7, 8, 9, 10, 11, 12], \"y\": [1441.63, 1443.9, 1446.29, 1447.42, 1455.98, 1770.83]}, {\"name\": \"Bicicleta- Previsto\", \"type\": \"scatter\", \"x\": [7, 8, 9, 10, 11, 12], \"y\": [102.67, 100.61, 99.98, 100.47, 91.17, 88.03]}, {\"name\": \"Caminhonete- Previsto\", \"type\": \"scatter\", \"x\": [7, 8, 9, 10, 11, 12], \"y\": [275.2, 274.28, 275.05, 275.45, 274.54, 285.86]}, {\"name\": \"Caminh\\u00e3o- Previsto\", \"type\": \"scatter\", \"x\": [7, 8, 9, 10, 11, 12], \"y\": [183.6, 182.3, 180.75, 188.74, 186.02, 188.19]}, {\"name\": \"Caminh\\u00e3o-trator- Previsto\", \"type\": \"scatter\", \"x\": [7, 8, 9, 10, 11, 12], \"y\": [234.95, 225.67, 218.89, 224.32, 219.63, 211.29]}, {\"name\": \"Camioneta- Previsto\", \"type\": \"scatter\", \"x\": [7, 8, 9, 10, 11, 12], \"y\": [64.87, 65.14, 65.53, 65.91, 68.98, 78.09]}, {\"name\": \"Carro\\u00e7a-charrete- Previsto\", \"type\": \"scatter\", \"x\": [7, 8, 9, 10, 11, 12], \"y\": [2.41, 4.37, 6.29, 5.66, 2.43, 2.2]}, {\"name\": \"Chassi-plataforma- Previsto\", \"type\": \"scatter\", \"x\": [7, 8, 9, 10, 11, 12], \"y\": [0.03, 0.13, 0.21, 0.38, 0.71, 0.67]}, {\"name\": \"Ciclomotor- Previsto\", \"type\": \"scatter\", \"x\": [7, 8, 9, 10, 11, 12], \"y\": [18.68, 19.66, 21.5, 19.48, 15.71, 17.31]}, {\"name\": \"Micro-\\u00f4nibus- Previsto\", \"type\": \"scatter\", \"x\": [7, 8, 9, 10, 11, 12], \"y\": [25.76, 26.32, 25.85, 25.82, 26.4, 26.4]}, {\"name\": \"Motocicleta- Previsto\", \"type\": \"scatter\", \"x\": [7, 8, 9, 10, 11, 12], \"y\": [1433.56, 1442.07, 1438.96, 1438.59, 1445.42, 1526.14]}, {\"name\": \"Motoneta- Previsto\", \"type\": \"scatter\", \"x\": [7, 8, 9, 10, 11, 12], \"y\": [158.15, 158.97, 158.92, 160.39, 160.84, 167.33]}, {\"name\": \"N\\u00e3o Informado- Previsto\", \"type\": \"scatter\", \"x\": [7, 8, 9, 10, 11, 12], \"y\": [0.48, 3.01, 1.75, 1.44, 9.38, 2.87]}, {\"name\": \"Outros- Previsto\", \"type\": \"scatter\", \"x\": [7, 8, 9, 10, 11, 12], \"y\": [3.55, 4.77, 3.21, 3.3, 5.52, 3.88]}, {\"name\": \"Reboque- Previsto\", \"type\": \"scatter\", \"x\": [7, 8, 9, 10, 11, 12], \"y\": [0.89, 0.39, 0.21, 0.68, 0.29, 0.12]}, {\"name\": \"Semireboque- Previsto\", \"type\": \"scatter\", \"x\": [7, 8, 9, 10, 11, 12], \"y\": [0.09, 0.51, 0.41, 1.25, 1.67, 1.77]}, {\"name\": \"Trator de rodas- Previsto\", \"type\": \"scatter\", \"x\": [7, 8, 9, 10, 11, 12], \"y\": [0.14, 1.87, 0.47, 0.69, 0.16, 0.08]}, {\"name\": \"Trator misto- Previsto\", \"type\": \"scatter\", \"x\": [7, 8, 9, 10, 11, 12], \"y\": [0.13, 0.02, 0.02, 0.02, 0.44, 0.44]}, {\"name\": \"Trem-bonde- Previsto\", \"type\": \"scatter\", \"x\": [7, 8, 9, 10, 11, 12], \"y\": [0.01, 0.01, 0.01, 0.01, 0.43, 0.43]}, {\"name\": \"Utilit\\u00e1rio- Previsto\", \"type\": \"scatter\", \"x\": [7, 8, 9, 10, 11, 12], \"y\": [24.54, 24.24, 25.45, 24.7, 25.83, 28.62]}, {\"name\": \"\\u00d4nibus- Previsto\", \"type\": \"scatter\", \"x\": [7, 8, 9, 10, 11, 12], \"y\": [41.76, 40.71, 40.4, 43.77, 43.77, 42.67]}, {\"name\": \"Quadriciclo- Previsto\", \"type\": \"scatter\", \"x\": [7, 8, 9, 10, 11, 12], \"y\": [0.1, 0.21, 0.25, 0.53, 0.53, 0.4]}, {\"name\": \"Trator de esteira- Previsto\", \"type\": \"scatter\", \"x\": [7, 8, 9, 10, 11, 12], \"y\": [0.27, 0.35, 0.3, 0.34, 0.29, 0.27]}, {\"name\": \"Triciclo- Previsto\", \"type\": \"scatter\", \"x\": [7, 8, 9, 10, 11, 12], \"y\": [0.75, 1.16, 0.58, 0.85, 3.06, 2.62]}, {\"name\": \"Carro de m\\u00e3o- Previsto\", \"type\": \"scatter\", \"x\": [7, 8, 9, 10, 11, 12], \"y\": [0.18, 0.47, 0.89, 1.17, 1.44, 1.33]}],\n",
              "                        {\"template\": {\"data\": {\"bar\": [{\"error_x\": {\"color\": \"#2a3f5f\"}, \"error_y\": {\"color\": \"#2a3f5f\"}, \"marker\": {\"line\": {\"color\": \"#E5ECF6\", \"width\": 0.5}}, \"type\": \"bar\"}], \"barpolar\": [{\"marker\": {\"line\": {\"color\": \"#E5ECF6\", \"width\": 0.5}}, \"type\": \"barpolar\"}], \"carpet\": [{\"aaxis\": {\"endlinecolor\": \"#2a3f5f\", \"gridcolor\": \"white\", \"linecolor\": \"white\", \"minorgridcolor\": \"white\", \"startlinecolor\": \"#2a3f5f\"}, \"baxis\": {\"endlinecolor\": \"#2a3f5f\", \"gridcolor\": \"white\", \"linecolor\": \"white\", \"minorgridcolor\": \"white\", \"startlinecolor\": \"#2a3f5f\"}, \"type\": \"carpet\"}], \"choropleth\": [{\"colorbar\": {\"outlinewidth\": 0, \"ticks\": \"\"}, \"type\": \"choropleth\"}], \"contour\": [{\"colorbar\": {\"outlinewidth\": 0, \"ticks\": \"\"}, \"colorscale\": [[0.0, \"#0d0887\"], [0.1111111111111111, \"#46039f\"], [0.2222222222222222, \"#7201a8\"], [0.3333333333333333, \"#9c179e\"], [0.4444444444444444, \"#bd3786\"], [0.5555555555555556, \"#d8576b\"], [0.6666666666666666, \"#ed7953\"], [0.7777777777777778, \"#fb9f3a\"], [0.8888888888888888, \"#fdca26\"], [1.0, \"#f0f921\"]], \"type\": \"contour\"}], \"contourcarpet\": [{\"colorbar\": {\"outlinewidth\": 0, \"ticks\": \"\"}, \"type\": \"contourcarpet\"}], \"heatmap\": [{\"colorbar\": {\"outlinewidth\": 0, \"ticks\": \"\"}, \"colorscale\": [[0.0, \"#0d0887\"], [0.1111111111111111, \"#46039f\"], [0.2222222222222222, \"#7201a8\"], [0.3333333333333333, \"#9c179e\"], [0.4444444444444444, \"#bd3786\"], [0.5555555555555556, \"#d8576b\"], [0.6666666666666666, \"#ed7953\"], [0.7777777777777778, \"#fb9f3a\"], [0.8888888888888888, \"#fdca26\"], [1.0, \"#f0f921\"]], \"type\": \"heatmap\"}], \"heatmapgl\": [{\"colorbar\": {\"outlinewidth\": 0, \"ticks\": \"\"}, \"colorscale\": [[0.0, \"#0d0887\"], [0.1111111111111111, \"#46039f\"], [0.2222222222222222, \"#7201a8\"], [0.3333333333333333, \"#9c179e\"], [0.4444444444444444, \"#bd3786\"], [0.5555555555555556, \"#d8576b\"], [0.6666666666666666, \"#ed7953\"], [0.7777777777777778, \"#fb9f3a\"], [0.8888888888888888, \"#fdca26\"], [1.0, \"#f0f921\"]], \"type\": \"heatmapgl\"}], \"histogram\": [{\"marker\": {\"colorbar\": {\"outlinewidth\": 0, \"ticks\": \"\"}}, \"type\": \"histogram\"}], \"histogram2d\": [{\"colorbar\": {\"outlinewidth\": 0, \"ticks\": \"\"}, \"colorscale\": [[0.0, \"#0d0887\"], [0.1111111111111111, \"#46039f\"], [0.2222222222222222, \"#7201a8\"], [0.3333333333333333, \"#9c179e\"], [0.4444444444444444, \"#bd3786\"], [0.5555555555555556, \"#d8576b\"], [0.6666666666666666, \"#ed7953\"], [0.7777777777777778, \"#fb9f3a\"], [0.8888888888888888, \"#fdca26\"], [1.0, \"#f0f921\"]], \"type\": \"histogram2d\"}], \"histogram2dcontour\": [{\"colorbar\": {\"outlinewidth\": 0, \"ticks\": \"\"}, \"colorscale\": [[0.0, \"#0d0887\"], [0.1111111111111111, \"#46039f\"], [0.2222222222222222, \"#7201a8\"], [0.3333333333333333, \"#9c179e\"], [0.4444444444444444, \"#bd3786\"], [0.5555555555555556, \"#d8576b\"], [0.6666666666666666, \"#ed7953\"], [0.7777777777777778, \"#fb9f3a\"], [0.8888888888888888, \"#fdca26\"], [1.0, \"#f0f921\"]], \"type\": \"histogram2dcontour\"}], \"mesh3d\": [{\"colorbar\": {\"outlinewidth\": 0, \"ticks\": \"\"}, \"type\": \"mesh3d\"}], \"parcoords\": [{\"line\": {\"colorbar\": {\"outlinewidth\": 0, \"ticks\": \"\"}}, \"type\": \"parcoords\"}], \"pie\": [{\"automargin\": true, \"type\": \"pie\"}], \"scatter\": [{\"marker\": {\"colorbar\": {\"outlinewidth\": 0, \"ticks\": \"\"}}, \"type\": \"scatter\"}], \"scatter3d\": [{\"line\": {\"colorbar\": {\"outlinewidth\": 0, \"ticks\": \"\"}}, \"marker\": {\"colorbar\": {\"outlinewidth\": 0, \"ticks\": \"\"}}, \"type\": \"scatter3d\"}], \"scattercarpet\": [{\"marker\": {\"colorbar\": {\"outlinewidth\": 0, \"ticks\": \"\"}}, \"type\": \"scattercarpet\"}], \"scattergeo\": [{\"marker\": {\"colorbar\": {\"outlinewidth\": 0, \"ticks\": \"\"}}, \"type\": \"scattergeo\"}], \"scattergl\": [{\"marker\": {\"colorbar\": {\"outlinewidth\": 0, \"ticks\": \"\"}}, \"type\": \"scattergl\"}], \"scattermapbox\": [{\"marker\": {\"colorbar\": {\"outlinewidth\": 0, \"ticks\": \"\"}}, \"type\": \"scattermapbox\"}], \"scatterpolar\": [{\"marker\": {\"colorbar\": {\"outlinewidth\": 0, \"ticks\": \"\"}}, \"type\": \"scatterpolar\"}], \"scatterpolargl\": [{\"marker\": {\"colorbar\": {\"outlinewidth\": 0, \"ticks\": \"\"}}, \"type\": \"scatterpolargl\"}], \"scatterternary\": [{\"marker\": {\"colorbar\": {\"outlinewidth\": 0, \"ticks\": \"\"}}, \"type\": \"scatterternary\"}], \"surface\": [{\"colorbar\": {\"outlinewidth\": 0, \"ticks\": \"\"}, \"colorscale\": [[0.0, \"#0d0887\"], [0.1111111111111111, \"#46039f\"], [0.2222222222222222, \"#7201a8\"], [0.3333333333333333, \"#9c179e\"], [0.4444444444444444, \"#bd3786\"], [0.5555555555555556, \"#d8576b\"], [0.6666666666666666, \"#ed7953\"], [0.7777777777777778, \"#fb9f3a\"], [0.8888888888888888, \"#fdca26\"], [1.0, \"#f0f921\"]], \"type\": \"surface\"}], \"table\": [{\"cells\": {\"fill\": {\"color\": \"#EBF0F8\"}, \"line\": {\"color\": \"white\"}}, \"header\": {\"fill\": {\"color\": \"#C8D4E3\"}, \"line\": {\"color\": \"white\"}}, \"type\": \"table\"}]}, \"layout\": {\"annotationdefaults\": {\"arrowcolor\": \"#2a3f5f\", \"arrowhead\": 0, \"arrowwidth\": 1}, \"coloraxis\": {\"colorbar\": {\"outlinewidth\": 0, \"ticks\": \"\"}}, \"colorscale\": {\"diverging\": [[0, \"#8e0152\"], [0.1, \"#c51b7d\"], [0.2, \"#de77ae\"], [0.3, \"#f1b6da\"], [0.4, \"#fde0ef\"], [0.5, \"#f7f7f7\"], [0.6, \"#e6f5d0\"], [0.7, \"#b8e186\"], [0.8, \"#7fbc41\"], [0.9, \"#4d9221\"], [1, \"#276419\"]], \"sequential\": [[0.0, \"#0d0887\"], [0.1111111111111111, \"#46039f\"], [0.2222222222222222, \"#7201a8\"], [0.3333333333333333, \"#9c179e\"], [0.4444444444444444, \"#bd3786\"], [0.5555555555555556, \"#d8576b\"], [0.6666666666666666, \"#ed7953\"], [0.7777777777777778, \"#fb9f3a\"], [0.8888888888888888, \"#fdca26\"], [1.0, \"#f0f921\"]], \"sequentialminus\": [[0.0, \"#0d0887\"], [0.1111111111111111, \"#46039f\"], [0.2222222222222222, \"#7201a8\"], [0.3333333333333333, \"#9c179e\"], [0.4444444444444444, \"#bd3786\"], [0.5555555555555556, \"#d8576b\"], [0.6666666666666666, \"#ed7953\"], [0.7777777777777778, \"#fb9f3a\"], [0.8888888888888888, \"#fdca26\"], [1.0, \"#f0f921\"]]}, \"colorway\": [\"#636efa\", \"#EF553B\", \"#00cc96\", \"#ab63fa\", \"#FFA15A\", \"#19d3f3\", \"#FF6692\", \"#B6E880\", \"#FF97FF\", \"#FECB52\"], \"font\": {\"color\": \"#2a3f5f\"}, \"geo\": {\"bgcolor\": \"white\", \"lakecolor\": \"white\", \"landcolor\": \"#E5ECF6\", \"showlakes\": true, \"showland\": true, \"subunitcolor\": \"white\"}, \"hoverlabel\": {\"align\": \"left\"}, \"hovermode\": \"closest\", \"mapbox\": {\"style\": \"light\"}, \"paper_bgcolor\": \"white\", \"plot_bgcolor\": \"#E5ECF6\", \"polar\": {\"angularaxis\": {\"gridcolor\": \"white\", \"linecolor\": \"white\", \"ticks\": \"\"}, \"bgcolor\": \"#E5ECF6\", \"radialaxis\": {\"gridcolor\": \"white\", \"linecolor\": \"white\", \"ticks\": \"\"}}, \"scene\": {\"xaxis\": {\"backgroundcolor\": \"#E5ECF6\", \"gridcolor\": \"white\", \"gridwidth\": 2, \"linecolor\": \"white\", \"showbackground\": true, \"ticks\": \"\", \"zerolinecolor\": \"white\"}, \"yaxis\": {\"backgroundcolor\": \"#E5ECF6\", \"gridcolor\": \"white\", \"gridwidth\": 2, \"linecolor\": \"white\", \"showbackground\": true, \"ticks\": \"\", \"zerolinecolor\": \"white\"}, \"zaxis\": {\"backgroundcolor\": \"#E5ECF6\", \"gridcolor\": \"white\", \"gridwidth\": 2, \"linecolor\": \"white\", \"showbackground\": true, \"ticks\": \"\", \"zerolinecolor\": \"white\"}}, \"shapedefaults\": {\"line\": {\"color\": \"#2a3f5f\"}}, \"ternary\": {\"aaxis\": {\"gridcolor\": \"white\", \"linecolor\": \"white\", \"ticks\": \"\"}, \"baxis\": {\"gridcolor\": \"white\", \"linecolor\": \"white\", \"ticks\": \"\"}, \"bgcolor\": \"#E5ECF6\", \"caxis\": {\"gridcolor\": \"white\", \"linecolor\": \"white\", \"ticks\": \"\"}}, \"title\": {\"x\": 0.05}, \"xaxis\": {\"automargin\": true, \"gridcolor\": \"white\", \"linecolor\": \"white\", \"ticks\": \"\", \"title\": {\"standoff\": 15}, \"zerolinecolor\": \"white\", \"zerolinewidth\": 2}, \"yaxis\": {\"automargin\": true, \"gridcolor\": \"white\", \"linecolor\": \"white\", \"ticks\": \"\", \"title\": {\"standoff\": 15}, \"zerolinecolor\": \"white\", \"zerolinewidth\": 2}}}, \"title\": {\"text\": \"Quantidade de Feridos Leves envolvidos em acidentes, por m\\u00eas, em 2020 por tipo de ve\\u00edculo - Dados reais e previstos\"}},\n",
              "                        {\"responsive\": true}\n",
              "                    ).then(function(){\n",
              "                            \n",
              "var gd = document.getElementById('927c7812-e1f1-40d4-bbd0-8eeaca235bf7');\n",
              "var x = new MutationObserver(function (mutations, observer) {{\n",
              "        var display = window.getComputedStyle(gd).display;\n",
              "        if (!display || display === 'none') {{\n",
              "            console.log([gd, 'removed!']);\n",
              "            Plotly.purge(gd);\n",
              "            observer.disconnect();\n",
              "        }}\n",
              "}});\n",
              "\n",
              "// Listen for the removal of the full notebook cells\n",
              "var notebookContainer = gd.closest('#notebook-container');\n",
              "if (notebookContainer) {{\n",
              "    x.observe(notebookContainer, {childList: true});\n",
              "}}\n",
              "\n",
              "// Listen for the clearing of the current output cell\n",
              "var outputEl = gd.closest('.output');\n",
              "if (outputEl) {{\n",
              "    x.observe(outputEl, {childList: true});\n",
              "}}\n",
              "\n",
              "                        })\n",
              "                };\n",
              "                \n",
              "            </script>\n",
              "        </div>\n",
              "</body>\n",
              "</html>"
            ]
          },
          "metadata": {
            "tags": []
          }
        }
      ]
    },
    {
      "cell_type": "markdown",
      "metadata": {
        "id": "4A3JAjEPv6Ki"
      },
      "source": [
        "##### Quatidade de Feridos Graves"
      ]
    },
    {
      "cell_type": "code",
      "metadata": {
        "id": "joX-YMU0v6Kj",
        "outputId": "670dc346-3a02-4dd2-94f2-b01f9bd5af75",
        "colab": {
          "base_uri": "https://localhost:8080/"
        }
      },
      "source": [
        "data_plot = cria_data_plot('qtd_feridos_graves')\n",
        "fig = go.Figure(data=data_plot)\n",
        "fig.update_layout(title_text='Quantidade de vítimas em estado grave envolvidos em acidentes, por mês, em 2020 por tipo de veículo - Dados reais e previstos')\n",
        "fig.show()"
      ],
      "execution_count": null,
      "outputs": [
        {
          "output_type": "stream",
          "text": [
            "/usr/local/lib/python3.6/dist-packages/plotly/graph_objs/_deprecations.py:385: DeprecationWarning:\n",
            "\n",
            "plotly.graph_objs.Line is deprecated.\n",
            "Please replace it with one of the following more specific types\n",
            "  - plotly.graph_objs.scatter.Line\n",
            "  - plotly.graph_objs.layout.shape.Line\n",
            "  - etc.\n",
            "\n",
            "\n"
          ],
          "name": "stderr"
        },
        {
          "output_type": "display_data",
          "data": {
            "text/html": [
              "<html>\n",
              "<head><meta charset=\"utf-8\" /></head>\n",
              "<body>\n",
              "    <div>\n",
              "            <script src=\"https://cdnjs.cloudflare.com/ajax/libs/mathjax/2.7.5/MathJax.js?config=TeX-AMS-MML_SVG\"></script><script type=\"text/javascript\">if (window.MathJax) {MathJax.Hub.Config({SVG: {font: \"STIX-Web\"}});}</script>\n",
              "                <script type=\"text/javascript\">window.PlotlyConfig = {MathJaxConfig: 'local'};</script>\n",
              "        <script src=\"https://cdn.plot.ly/plotly-latest.min.js\"></script>    \n",
              "            <div id=\"34cfbb3b-5f5e-47b3-bcc6-b3f14d54b55d\" class=\"plotly-graph-div\" style=\"height:525px; width:100%;\"></div>\n",
              "            <script type=\"text/javascript\">\n",
              "                \n",
              "                    window.PLOTLYENV=window.PLOTLYENV || {};\n",
              "                    \n",
              "                if (document.getElementById(\"34cfbb3b-5f5e-47b3-bcc6-b3f14d54b55d\")) {\n",
              "                    Plotly.newPlot(\n",
              "                        '34cfbb3b-5f5e-47b3-bcc6-b3f14d54b55d',\n",
              "                        [{\"name\": \"Carro\\u00e7a-charrete- Real\", \"type\": \"scatter\", \"x\": [1, 2, 3, 4, 5, 6, 7], \"y\": [0.0, 3.0, 1.0, 0.0, 1.0, 0.0, 1.0]}, {\"name\": \"Autom\\u00f3vel- Real\", \"type\": \"scatter\", \"x\": [1, 2, 3, 4, 5, 6, 7], \"y\": [514.0, 491.0, 332.0, 264.0, 338.0, 348.0, 380.0]}, {\"name\": \"Bicicleta- Real\", \"type\": \"scatter\", \"x\": [1, 2, 3, 4, 5, 6, 7], \"y\": [51.0, 38.0, 39.0, 44.0, 47.0, 56.0, 44.0]}, {\"name\": \"Caminhonete- Real\", \"type\": \"scatter\", \"x\": [1, 2, 3, 4, 5, 6, 7], \"y\": [87.0, 92.0, 59.0, 48.0, 58.0, 65.0, 53.0]}, {\"name\": \"Caminh\\u00e3o- Real\", \"type\": \"scatter\", \"x\": [1, 2, 3, 4, 5, 6, 7], \"y\": [78.0, 66.0, 70.0, 48.0, 48.0, 62.0, 50.0]}, {\"name\": \"Caminh\\u00e3o-trator- Real\", \"type\": \"scatter\", \"x\": [1, 2, 3, 4, 5, 6, 7], \"y\": [56.0, 50.0, 55.0, 41.0, 52.0, 43.0, 69.0]}, {\"name\": \"Camioneta- Real\", \"type\": \"scatter\", \"x\": [1, 2, 3, 4, 5, 6, 7], \"y\": [33.0, 15.0, 13.0, 8.0, 10.0, 7.0, 18.0]}, {\"name\": \"Semireboque- Real\", \"type\": \"scatter\", \"x\": [1, 2, 3, 4, 5, 6, 7], \"y\": [2.0, 0.0, 0.0, 0.0, 0.0, 1.0, 0.0]}, {\"name\": \"Utilit\\u00e1rio- Real\", \"type\": \"scatter\", \"x\": [1, 2, 3, 4, 5, 6, 7], \"y\": [14.0, 13.0, 4.0, 12.0, 6.0, 8.0, 7.0]}, {\"name\": \"Micro-\\u00f4nibus- Real\", \"type\": \"scatter\", \"x\": [1, 2, 3, 4, 5, 6, 7], \"y\": [4.0, 6.0, 6.0, 11.0, 1.0, 4.0, 4.0]}, {\"name\": \"Motocicleta- Real\", \"type\": \"scatter\", \"x\": [1, 2, 3, 4, 5, 6, 7], \"y\": [541.0, 585.0, 523.0, 443.0, 534.0, 537.0, 552.0]}, {\"name\": \"Motoneta- Real\", \"type\": \"scatter\", \"x\": [1, 2, 3, 4, 5, 6, 7], \"y\": [55.0, 52.0, 53.0, 46.0, 47.0, 50.0, 46.0]}, {\"name\": \"N\\u00e3o Informado- Real\", \"type\": \"scatter\", \"x\": [1, 2, 5, 7], \"y\": [0.0, 0.0, 0.0, 0.0]}, {\"name\": \"Outros- Real\", \"type\": \"scatter\", \"x\": [1, 2, 3, 4, 5, 6, 7], \"y\": [3.0, 7.0, 5.0, 6.0, 8.0, 11.0, 8.0]}, {\"name\": \"Reboque- Real\", \"type\": \"scatter\", \"x\": [1, 2, 3, 4, 6, 7], \"y\": [0.0, 1.0, 0.0, 0.0, 2.0, 0.0]}, {\"name\": \"Ciclomotor- Real\", \"type\": \"scatter\", \"x\": [1, 2, 3, 4, 5, 6, 7], \"y\": [15.0, 14.0, 9.0, 4.0, 5.0, 6.0, 14.0]}, {\"name\": \"\\u00d4nibus- Real\", \"type\": \"scatter\", \"x\": [1, 2, 3, 4, 5, 6, 7], \"y\": [54.0, 30.0, 36.0, 10.0, 1.0, 5.0, 1.0]}, {\"name\": \"Trator de rodas- Real\", \"type\": \"scatter\", \"x\": [1, 2, 3, 4, 5, 6, 7], \"y\": [1.0, 1.0, 1.0, 0.0, 0.0, 0.0, 0.0]}, {\"name\": \"Trem-bonde- Real\", \"type\": \"scatter\", \"x\": [2, 7], \"y\": [0.0, 0.0]}, {\"name\": \"Chassi-plataforma- Real\", \"type\": \"scatter\", \"x\": [2, 7], \"y\": [0.0, 0.0]}, {\"name\": \"Triciclo- Real\", \"type\": \"scatter\", \"x\": [3, 5, 6], \"y\": [0.0, 2.0, 0.0]}, {\"name\": \"Quadriciclo- Real\", \"type\": \"scatter\", \"x\": [3], \"y\": [0.0]}, {\"name\": \"Carro de m\\u00e3o- Real\", \"type\": \"scatter\", \"x\": [4, 6], \"y\": [0.0, 1.0]}, {\"name\": \"Trator misto- Real\", \"type\": \"scatter\", \"x\": [4, 6], \"y\": [0.0, 0.0]}, {\"name\": \"Autom\\u00f3vel- Previsto\", \"type\": \"scatter\", \"x\": [7, 8, 9, 10, 11, 12], \"y\": [371.0, 371.72, 370.21, 371.18, 373.76, 454.31]}, {\"name\": \"Bicicleta- Previsto\", \"type\": \"scatter\", \"x\": [7, 8, 9, 10, 11, 12], \"y\": [46.58, 48.34, 50.19, 46.71, 52.58, 52.07]}, {\"name\": \"Caminhonete- Previsto\", \"type\": \"scatter\", \"x\": [7, 8, 9, 10, 11, 12], \"y\": [57.67, 56.8, 57.22, 57.36, 57.69, 64.3]}, {\"name\": \"Caminh\\u00e3o- Previsto\", \"type\": \"scatter\", \"x\": [7, 8, 9, 10, 11, 12], \"y\": [53.6, 53.53, 53.78, 55.26, 57.12, 55.6]}, {\"name\": \"Caminh\\u00e3o-trator- Previsto\", \"type\": \"scatter\", \"x\": [7, 8, 9, 10, 11, 12], \"y\": [63.23, 62.59, 62.66, 61.07, 55.38, 54.92]}, {\"name\": \"Camioneta- Previsto\", \"type\": \"scatter\", \"x\": [7, 8, 9, 10, 11, 12], \"y\": [16.17, 15.81, 15.52, 16.09, 16.33, 17.12]}, {\"name\": \"Carro\\u00e7a-charrete- Previsto\", \"type\": \"scatter\", \"x\": [7, 8, 9, 10, 11, 12], \"y\": [0.64, 0.39, 1.08, 3.61, 1.07, 0.38]}, {\"name\": \"Chassi-plataforma- Previsto\", \"type\": \"scatter\", \"x\": [7, 8, 9, 10, 11, 12], \"y\": [0.01, 0.0, 0.02, 0.1, 0.05, 0.0]}, {\"name\": \"Ciclomotor- Previsto\", \"type\": \"scatter\", \"x\": [7, 8, 9, 10, 11, 12], \"y\": [11.1, 11.01, 10.39, 11.29, 7.93, 13.09]}, {\"name\": \"Micro-\\u00f4nibus- Previsto\", \"type\": \"scatter\", \"x\": [7, 8, 9, 10, 11, 12], \"y\": [3.78, 3.92, 3.98, 3.98, 3.97, 3.97]}, {\"name\": \"Motocicleta- Previsto\", \"type\": \"scatter\", \"x\": [7, 8, 9, 10, 11, 12], \"y\": [557.69, 558.01, 557.42, 558.1, 554.57, 584.25]}, {\"name\": \"Motoneta- Previsto\", \"type\": \"scatter\", \"x\": [7, 8, 9, 10, 11, 12], \"y\": [47.09, 47.35, 47.36, 48.25, 48.17, 49.48]}, {\"name\": \"N\\u00e3o Informado- Previsto\", \"type\": \"scatter\", \"x\": [7, 8, 9, 10, 11, 12], \"y\": [0.0, 0.0, 0.0, 0.04, 0.57, 0.17]}, {\"name\": \"Outros- Previsto\", \"type\": \"scatter\", \"x\": [7, 8, 9, 10, 11, 12], \"y\": [7.52, 7.46, 7.1, 7.45, 7.34, 5.07]}, {\"name\": \"Reboque- Previsto\", \"type\": \"scatter\", \"x\": [7, 8, 9, 10, 11, 12], \"y\": [0.42, 0.31, 0.22, 0.18, 0.14, 0.06]}, {\"name\": \"Semireboque- Previsto\", \"type\": \"scatter\", \"x\": [7, 8, 9, 10, 11, 12], \"y\": [0.17, 0.09, 0.05, 0.04, 0.03, 0.03]}, {\"name\": \"Trator de rodas- Previsto\", \"type\": \"scatter\", \"x\": [7, 8, 9, 10, 11, 12], \"y\": [0.04, 0.59, 0.21, 0.08, 0.61, 0.18]}, {\"name\": \"Trator misto- Previsto\", \"type\": \"scatter\", \"x\": [7, 8, 9, 10, 11, 12], \"y\": [0.0, 0.0, 0.02, 0.01, 0.0, 0.0]}, {\"name\": \"Trem-bonde- Previsto\", \"type\": \"scatter\", \"x\": [7, 8, 9, 10, 11, 12], \"y\": [0.0, 0.0, 0.02, 0.01, 0.0, 0.0]}, {\"name\": \"Utilit\\u00e1rio- Previsto\", \"type\": \"scatter\", \"x\": [7, 8, 9, 10, 11, 12], \"y\": [7.62, 7.36, 7.56, 7.52, 7.66, 8.24]}, {\"name\": \"\\u00d4nibus- Previsto\", \"type\": \"scatter\", \"x\": [7, 8, 9, 10, 11, 12], \"y\": [2.77, 2.57, 2.57, 3.3, 3.3, 2.71]}, {\"name\": \"Quadriciclo- Previsto\", \"type\": \"scatter\", \"x\": [7, 8, 9, 10, 11, 12], \"y\": [0.06, 0.23, 0.23, 0.1, 0.03, 0.03]}, {\"name\": \"Trator de esteira- Previsto\", \"type\": \"scatter\", \"x\": [7, 8, 9, 10, 11, 12], \"y\": [0.0, 0.03, 0.0, 0.0, 0.04, 0.01]}, {\"name\": \"Triciclo- Previsto\", \"type\": \"scatter\", \"x\": [7, 8, 9, 10, 11, 12], \"y\": [0.3, 0.23, 0.6, 0.24, 0.04, 0.02]}, {\"name\": \"Carro de m\\u00e3o- Previsto\", \"type\": \"scatter\", \"x\": [7, 8, 9, 10, 11, 12], \"y\": [0.82, 0.59, 0.38, 0.27, 0.18, 0.18]}],\n",
              "                        {\"template\": {\"data\": {\"bar\": [{\"error_x\": {\"color\": \"#2a3f5f\"}, \"error_y\": {\"color\": \"#2a3f5f\"}, \"marker\": {\"line\": {\"color\": \"#E5ECF6\", \"width\": 0.5}}, \"type\": \"bar\"}], \"barpolar\": [{\"marker\": {\"line\": {\"color\": \"#E5ECF6\", \"width\": 0.5}}, \"type\": \"barpolar\"}], \"carpet\": [{\"aaxis\": {\"endlinecolor\": \"#2a3f5f\", \"gridcolor\": \"white\", \"linecolor\": \"white\", \"minorgridcolor\": \"white\", \"startlinecolor\": \"#2a3f5f\"}, \"baxis\": {\"endlinecolor\": \"#2a3f5f\", \"gridcolor\": \"white\", \"linecolor\": \"white\", \"minorgridcolor\": \"white\", \"startlinecolor\": \"#2a3f5f\"}, \"type\": \"carpet\"}], \"choropleth\": [{\"colorbar\": {\"outlinewidth\": 0, \"ticks\": \"\"}, \"type\": \"choropleth\"}], \"contour\": [{\"colorbar\": {\"outlinewidth\": 0, \"ticks\": \"\"}, \"colorscale\": [[0.0, \"#0d0887\"], [0.1111111111111111, \"#46039f\"], [0.2222222222222222, \"#7201a8\"], [0.3333333333333333, \"#9c179e\"], [0.4444444444444444, \"#bd3786\"], [0.5555555555555556, \"#d8576b\"], [0.6666666666666666, \"#ed7953\"], [0.7777777777777778, \"#fb9f3a\"], [0.8888888888888888, \"#fdca26\"], [1.0, \"#f0f921\"]], \"type\": \"contour\"}], \"contourcarpet\": [{\"colorbar\": {\"outlinewidth\": 0, \"ticks\": \"\"}, \"type\": \"contourcarpet\"}], \"heatmap\": [{\"colorbar\": {\"outlinewidth\": 0, \"ticks\": \"\"}, \"colorscale\": [[0.0, \"#0d0887\"], [0.1111111111111111, \"#46039f\"], [0.2222222222222222, \"#7201a8\"], [0.3333333333333333, \"#9c179e\"], [0.4444444444444444, \"#bd3786\"], [0.5555555555555556, \"#d8576b\"], [0.6666666666666666, \"#ed7953\"], [0.7777777777777778, \"#fb9f3a\"], [0.8888888888888888, \"#fdca26\"], [1.0, \"#f0f921\"]], \"type\": \"heatmap\"}], \"heatmapgl\": [{\"colorbar\": {\"outlinewidth\": 0, \"ticks\": \"\"}, \"colorscale\": [[0.0, \"#0d0887\"], [0.1111111111111111, \"#46039f\"], [0.2222222222222222, \"#7201a8\"], [0.3333333333333333, \"#9c179e\"], [0.4444444444444444, \"#bd3786\"], [0.5555555555555556, \"#d8576b\"], [0.6666666666666666, \"#ed7953\"], [0.7777777777777778, \"#fb9f3a\"], [0.8888888888888888, \"#fdca26\"], [1.0, \"#f0f921\"]], \"type\": \"heatmapgl\"}], \"histogram\": [{\"marker\": {\"colorbar\": {\"outlinewidth\": 0, \"ticks\": \"\"}}, \"type\": \"histogram\"}], \"histogram2d\": [{\"colorbar\": {\"outlinewidth\": 0, \"ticks\": \"\"}, \"colorscale\": [[0.0, \"#0d0887\"], [0.1111111111111111, \"#46039f\"], [0.2222222222222222, \"#7201a8\"], [0.3333333333333333, \"#9c179e\"], [0.4444444444444444, \"#bd3786\"], [0.5555555555555556, \"#d8576b\"], [0.6666666666666666, \"#ed7953\"], [0.7777777777777778, \"#fb9f3a\"], [0.8888888888888888, \"#fdca26\"], [1.0, \"#f0f921\"]], \"type\": \"histogram2d\"}], \"histogram2dcontour\": [{\"colorbar\": {\"outlinewidth\": 0, \"ticks\": \"\"}, \"colorscale\": [[0.0, \"#0d0887\"], [0.1111111111111111, \"#46039f\"], [0.2222222222222222, \"#7201a8\"], [0.3333333333333333, \"#9c179e\"], [0.4444444444444444, \"#bd3786\"], [0.5555555555555556, \"#d8576b\"], [0.6666666666666666, \"#ed7953\"], [0.7777777777777778, \"#fb9f3a\"], [0.8888888888888888, \"#fdca26\"], [1.0, \"#f0f921\"]], \"type\": \"histogram2dcontour\"}], \"mesh3d\": [{\"colorbar\": {\"outlinewidth\": 0, \"ticks\": \"\"}, \"type\": \"mesh3d\"}], \"parcoords\": [{\"line\": {\"colorbar\": {\"outlinewidth\": 0, \"ticks\": \"\"}}, \"type\": \"parcoords\"}], \"pie\": [{\"automargin\": true, \"type\": \"pie\"}], \"scatter\": [{\"marker\": {\"colorbar\": {\"outlinewidth\": 0, \"ticks\": \"\"}}, \"type\": \"scatter\"}], \"scatter3d\": [{\"line\": {\"colorbar\": {\"outlinewidth\": 0, \"ticks\": \"\"}}, \"marker\": {\"colorbar\": {\"outlinewidth\": 0, \"ticks\": \"\"}}, \"type\": \"scatter3d\"}], \"scattercarpet\": [{\"marker\": {\"colorbar\": {\"outlinewidth\": 0, \"ticks\": \"\"}}, \"type\": \"scattercarpet\"}], \"scattergeo\": [{\"marker\": {\"colorbar\": {\"outlinewidth\": 0, \"ticks\": \"\"}}, \"type\": \"scattergeo\"}], \"scattergl\": [{\"marker\": {\"colorbar\": {\"outlinewidth\": 0, \"ticks\": \"\"}}, \"type\": \"scattergl\"}], \"scattermapbox\": [{\"marker\": {\"colorbar\": {\"outlinewidth\": 0, \"ticks\": \"\"}}, \"type\": \"scattermapbox\"}], \"scatterpolar\": [{\"marker\": {\"colorbar\": {\"outlinewidth\": 0, \"ticks\": \"\"}}, \"type\": \"scatterpolar\"}], \"scatterpolargl\": [{\"marker\": {\"colorbar\": {\"outlinewidth\": 0, \"ticks\": \"\"}}, \"type\": \"scatterpolargl\"}], \"scatterternary\": [{\"marker\": {\"colorbar\": {\"outlinewidth\": 0, \"ticks\": \"\"}}, \"type\": \"scatterternary\"}], \"surface\": [{\"colorbar\": {\"outlinewidth\": 0, \"ticks\": \"\"}, \"colorscale\": [[0.0, \"#0d0887\"], [0.1111111111111111, \"#46039f\"], [0.2222222222222222, \"#7201a8\"], [0.3333333333333333, \"#9c179e\"], [0.4444444444444444, \"#bd3786\"], [0.5555555555555556, \"#d8576b\"], [0.6666666666666666, \"#ed7953\"], [0.7777777777777778, \"#fb9f3a\"], [0.8888888888888888, \"#fdca26\"], [1.0, \"#f0f921\"]], \"type\": \"surface\"}], \"table\": [{\"cells\": {\"fill\": {\"color\": \"#EBF0F8\"}, \"line\": {\"color\": \"white\"}}, \"header\": {\"fill\": {\"color\": \"#C8D4E3\"}, \"line\": {\"color\": \"white\"}}, \"type\": \"table\"}]}, \"layout\": {\"annotationdefaults\": {\"arrowcolor\": \"#2a3f5f\", \"arrowhead\": 0, \"arrowwidth\": 1}, \"coloraxis\": {\"colorbar\": {\"outlinewidth\": 0, \"ticks\": \"\"}}, \"colorscale\": {\"diverging\": [[0, \"#8e0152\"], [0.1, \"#c51b7d\"], [0.2, \"#de77ae\"], [0.3, \"#f1b6da\"], [0.4, \"#fde0ef\"], [0.5, \"#f7f7f7\"], [0.6, \"#e6f5d0\"], [0.7, \"#b8e186\"], [0.8, \"#7fbc41\"], [0.9, \"#4d9221\"], [1, \"#276419\"]], \"sequential\": [[0.0, \"#0d0887\"], [0.1111111111111111, \"#46039f\"], [0.2222222222222222, \"#7201a8\"], [0.3333333333333333, \"#9c179e\"], [0.4444444444444444, \"#bd3786\"], [0.5555555555555556, \"#d8576b\"], [0.6666666666666666, \"#ed7953\"], [0.7777777777777778, \"#fb9f3a\"], [0.8888888888888888, \"#fdca26\"], [1.0, \"#f0f921\"]], \"sequentialminus\": [[0.0, \"#0d0887\"], [0.1111111111111111, \"#46039f\"], [0.2222222222222222, \"#7201a8\"], [0.3333333333333333, \"#9c179e\"], [0.4444444444444444, \"#bd3786\"], [0.5555555555555556, \"#d8576b\"], [0.6666666666666666, \"#ed7953\"], [0.7777777777777778, \"#fb9f3a\"], [0.8888888888888888, \"#fdca26\"], [1.0, \"#f0f921\"]]}, \"colorway\": [\"#636efa\", \"#EF553B\", \"#00cc96\", \"#ab63fa\", \"#FFA15A\", \"#19d3f3\", \"#FF6692\", \"#B6E880\", \"#FF97FF\", \"#FECB52\"], \"font\": {\"color\": \"#2a3f5f\"}, \"geo\": {\"bgcolor\": \"white\", \"lakecolor\": \"white\", \"landcolor\": \"#E5ECF6\", \"showlakes\": true, \"showland\": true, \"subunitcolor\": \"white\"}, \"hoverlabel\": {\"align\": \"left\"}, \"hovermode\": \"closest\", \"mapbox\": {\"style\": \"light\"}, \"paper_bgcolor\": \"white\", \"plot_bgcolor\": \"#E5ECF6\", \"polar\": {\"angularaxis\": {\"gridcolor\": \"white\", \"linecolor\": \"white\", \"ticks\": \"\"}, \"bgcolor\": \"#E5ECF6\", \"radialaxis\": {\"gridcolor\": \"white\", \"linecolor\": \"white\", \"ticks\": \"\"}}, \"scene\": {\"xaxis\": {\"backgroundcolor\": \"#E5ECF6\", \"gridcolor\": \"white\", \"gridwidth\": 2, \"linecolor\": \"white\", \"showbackground\": true, \"ticks\": \"\", \"zerolinecolor\": \"white\"}, \"yaxis\": {\"backgroundcolor\": \"#E5ECF6\", \"gridcolor\": \"white\", \"gridwidth\": 2, \"linecolor\": \"white\", \"showbackground\": true, \"ticks\": \"\", \"zerolinecolor\": \"white\"}, \"zaxis\": {\"backgroundcolor\": \"#E5ECF6\", \"gridcolor\": \"white\", \"gridwidth\": 2, \"linecolor\": \"white\", \"showbackground\": true, \"ticks\": \"\", \"zerolinecolor\": \"white\"}}, \"shapedefaults\": {\"line\": {\"color\": \"#2a3f5f\"}}, \"ternary\": {\"aaxis\": {\"gridcolor\": \"white\", \"linecolor\": \"white\", \"ticks\": \"\"}, \"baxis\": {\"gridcolor\": \"white\", \"linecolor\": \"white\", \"ticks\": \"\"}, \"bgcolor\": \"#E5ECF6\", \"caxis\": {\"gridcolor\": \"white\", \"linecolor\": \"white\", \"ticks\": \"\"}}, \"title\": {\"x\": 0.05}, \"xaxis\": {\"automargin\": true, \"gridcolor\": \"white\", \"linecolor\": \"white\", \"ticks\": \"\", \"title\": {\"standoff\": 15}, \"zerolinecolor\": \"white\", \"zerolinewidth\": 2}, \"yaxis\": {\"automargin\": true, \"gridcolor\": \"white\", \"linecolor\": \"white\", \"ticks\": \"\", \"title\": {\"standoff\": 15}, \"zerolinecolor\": \"white\", \"zerolinewidth\": 2}}}, \"title\": {\"text\": \"Quantidade de v\\u00edtimas em estado grave envolvidos em acidentes, por m\\u00eas, em 2020 por tipo de ve\\u00edculo - Dados reais e previstos\"}},\n",
              "                        {\"responsive\": true}\n",
              "                    ).then(function(){\n",
              "                            \n",
              "var gd = document.getElementById('34cfbb3b-5f5e-47b3-bcc6-b3f14d54b55d');\n",
              "var x = new MutationObserver(function (mutations, observer) {{\n",
              "        var display = window.getComputedStyle(gd).display;\n",
              "        if (!display || display === 'none') {{\n",
              "            console.log([gd, 'removed!']);\n",
              "            Plotly.purge(gd);\n",
              "            observer.disconnect();\n",
              "        }}\n",
              "}});\n",
              "\n",
              "// Listen for the removal of the full notebook cells\n",
              "var notebookContainer = gd.closest('#notebook-container');\n",
              "if (notebookContainer) {{\n",
              "    x.observe(notebookContainer, {childList: true});\n",
              "}}\n",
              "\n",
              "// Listen for the clearing of the current output cell\n",
              "var outputEl = gd.closest('.output');\n",
              "if (outputEl) {{\n",
              "    x.observe(outputEl, {childList: true});\n",
              "}}\n",
              "\n",
              "                        })\n",
              "                };\n",
              "                \n",
              "            </script>\n",
              "        </div>\n",
              "</body>\n",
              "</html>"
            ]
          },
          "metadata": {
            "tags": []
          }
        }
      ]
    },
    {
      "cell_type": "markdown",
      "metadata": {
        "id": "GY55Y9drv6Kn"
      },
      "source": [
        "##### Quatidade de Mortos"
      ]
    },
    {
      "cell_type": "code",
      "metadata": {
        "id": "vWph5S8Wv6Ko",
        "outputId": "d8518a6c-47c1-4524-aefa-c2000057a641",
        "colab": {
          "base_uri": "https://localhost:8080/"
        }
      },
      "source": [
        "data_plot = cria_data_plot('qtd_mortos')\n",
        "fig = go.Figure(data=data_plot)\n",
        "fig.update_layout(title_text='Quantidade de Mortos envolvidos em acidentes, por mês, em 2020 por tipo de veículo - Dados reais e previstos')\n",
        "fig.show()"
      ],
      "execution_count": null,
      "outputs": [
        {
          "output_type": "stream",
          "text": [
            "/usr/local/lib/python3.6/dist-packages/plotly/graph_objs/_deprecations.py:385: DeprecationWarning:\n",
            "\n",
            "plotly.graph_objs.Line is deprecated.\n",
            "Please replace it with one of the following more specific types\n",
            "  - plotly.graph_objs.scatter.Line\n",
            "  - plotly.graph_objs.layout.shape.Line\n",
            "  - etc.\n",
            "\n",
            "\n"
          ],
          "name": "stderr"
        },
        {
          "output_type": "display_data",
          "data": {
            "text/html": [
              "<html>\n",
              "<head><meta charset=\"utf-8\" /></head>\n",
              "<body>\n",
              "    <div>\n",
              "            <script src=\"https://cdnjs.cloudflare.com/ajax/libs/mathjax/2.7.5/MathJax.js?config=TeX-AMS-MML_SVG\"></script><script type=\"text/javascript\">if (window.MathJax) {MathJax.Hub.Config({SVG: {font: \"STIX-Web\"}});}</script>\n",
              "                <script type=\"text/javascript\">window.PlotlyConfig = {MathJaxConfig: 'local'};</script>\n",
              "        <script src=\"https://cdn.plot.ly/plotly-latest.min.js\"></script>    \n",
              "            <div id=\"f4ce3aaa-a938-468a-afa9-a3781e4ff39c\" class=\"plotly-graph-div\" style=\"height:525px; width:100%;\"></div>\n",
              "            <script type=\"text/javascript\">\n",
              "                \n",
              "                    window.PLOTLYENV=window.PLOTLYENV || {};\n",
              "                    \n",
              "                if (document.getElementById(\"f4ce3aaa-a938-468a-afa9-a3781e4ff39c\")) {\n",
              "                    Plotly.newPlot(\n",
              "                        'f4ce3aaa-a938-468a-afa9-a3781e4ff39c',\n",
              "                        [{\"name\": \"Carro\\u00e7a-charrete- Real\", \"type\": \"scatter\", \"x\": [1, 2, 3, 4, 5, 6, 7], \"y\": [0.0, 0.0, 0.0, 0.0, 1.0, 0.0, 0.0]}, {\"name\": \"Autom\\u00f3vel- Real\", \"type\": \"scatter\", \"x\": [1, 2, 3, 4, 5, 6, 7], \"y\": [166.0, 133.0, 115.0, 132.0, 129.0, 125.0, 173.0]}, {\"name\": \"Bicicleta- Real\", \"type\": \"scatter\", \"x\": [1, 2, 3, 4, 5, 6, 7], \"y\": [13.0, 17.0, 17.0, 12.0, 16.0, 32.0, 19.0]}, {\"name\": \"Caminhonete- Real\", \"type\": \"scatter\", \"x\": [1, 2, 3, 4, 5, 6, 7], \"y\": [28.0, 31.0, 27.0, 30.0, 24.0, 18.0, 24.0]}, {\"name\": \"Caminh\\u00e3o- Real\", \"type\": \"scatter\", \"x\": [1, 2, 3, 4, 5, 6, 7], \"y\": [33.0, 22.0, 53.0, 31.0, 41.0, 29.0, 47.0]}, {\"name\": \"Caminh\\u00e3o-trator- Real\", \"type\": \"scatter\", \"x\": [1, 2, 3, 4, 5, 6, 7], \"y\": [22.0, 22.0, 29.0, 24.0, 31.0, 24.0, 32.0]}, {\"name\": \"Camioneta- Real\", \"type\": \"scatter\", \"x\": [1, 2, 3, 4, 5, 6, 7], \"y\": [11.0, 4.0, 3.0, 11.0, 4.0, 6.0, 5.0]}, {\"name\": \"Semireboque- Real\", \"type\": \"scatter\", \"x\": [1, 2, 3, 4, 5, 6, 7], \"y\": [0.0, 0.0, 0.0, 0.0, 0.0, 0.0, 0.0]}, {\"name\": \"Utilit\\u00e1rio- Real\", \"type\": \"scatter\", \"x\": [1, 2, 3, 4, 5, 6, 7], \"y\": [4.0, 6.0, 2.0, 3.0, 3.0, 3.0, 2.0]}, {\"name\": \"Micro-\\u00f4nibus- Real\", \"type\": \"scatter\", \"x\": [1, 2, 3, 4, 5, 6, 7], \"y\": [0.0, 5.0, 0.0, 0.0, 3.0, 0.0, 0.0]}, {\"name\": \"Motocicleta- Real\", \"type\": \"scatter\", \"x\": [1, 2, 3, 4, 5, 6, 7], \"y\": [101.0, 117.0, 114.0, 95.0, 113.0, 103.0, 133.0]}, {\"name\": \"Motoneta- Real\", \"type\": \"scatter\", \"x\": [1, 2, 3, 4, 5, 6, 7], \"y\": [7.0, 6.0, 6.0, 4.0, 9.0, 4.0, 7.0]}, {\"name\": \"N\\u00e3o Informado- Real\", \"type\": \"scatter\", \"x\": [1, 2, 5, 7], \"y\": [0.0, 0.0, 0.0, 0.0]}, {\"name\": \"Outros- Real\", \"type\": \"scatter\", \"x\": [1, 2, 3, 4, 5, 6, 7], \"y\": [11.0, 9.0, 5.0, 11.0, 7.0, 9.0, 9.0]}, {\"name\": \"Reboque- Real\", \"type\": \"scatter\", \"x\": [1, 2, 3, 4, 6, 7], \"y\": [0.0, 1.0, 0.0, 0.0, 0.0, 0.0]}, {\"name\": \"Ciclomotor- Real\", \"type\": \"scatter\", \"x\": [1, 2, 3, 4, 5, 6, 7], \"y\": [3.0, 1.0, 3.0, 0.0, 2.0, 0.0, 2.0]}, {\"name\": \"\\u00d4nibus- Real\", \"type\": \"scatter\", \"x\": [1, 2, 3, 4, 5, 6, 7], \"y\": [11.0, 12.0, 15.0, 1.0, 1.0, 2.0, 0.0]}, {\"name\": \"Trator de rodas- Real\", \"type\": \"scatter\", \"x\": [1, 2, 3, 4, 5, 6, 7], \"y\": [0.0, 0.0, 0.0, 0.0, 2.0, 0.0, 0.0]}, {\"name\": \"Trem-bonde- Real\", \"type\": \"scatter\", \"x\": [2, 7], \"y\": [0.0, 0.0]}, {\"name\": \"Chassi-plataforma- Real\", \"type\": \"scatter\", \"x\": [2, 7], \"y\": [0.0, 0.0]}, {\"name\": \"Triciclo- Real\", \"type\": \"scatter\", \"x\": [3, 5, 6], \"y\": [0.0, 0.0, 0.0]}, {\"name\": \"Quadriciclo- Real\", \"type\": \"scatter\", \"x\": [3], \"y\": [0.0]}, {\"name\": \"Carro de m\\u00e3o- Real\", \"type\": \"scatter\", \"x\": [4, 6], \"y\": [0.0, 1.0]}, {\"name\": \"Trator misto- Real\", \"type\": \"scatter\", \"x\": [4, 6], \"y\": [0.0, 0.0]}, {\"name\": \"Autom\\u00f3vel- Previsto\", \"type\": \"scatter\", \"x\": [7, 8, 9, 10, 11, 12], \"y\": [154.52, 154.21, 154.39, 154.47, 156.12, 170.93]}, {\"name\": \"Bicicleta- Previsto\", \"type\": \"scatter\", \"x\": [7, 8, 9, 10, 11, 12], \"y\": [21.8, 21.83, 20.12, 16.56, 17.36, 15.84]}, {\"name\": \"Caminhonete- Previsto\", \"type\": \"scatter\", \"x\": [7, 8, 9, 10, 11, 12], \"y\": [23.52, 22.96, 23.07, 23.06, 23.18, 24.2]}, {\"name\": \"Caminh\\u00e3o- Previsto\", \"type\": \"scatter\", \"x\": [7, 8, 9, 10, 11, 12], \"y\": [40.82, 41.06, 40.1, 36.65, 37.6, 38.72]}, {\"name\": \"Caminh\\u00e3o-trator- Previsto\", \"type\": \"scatter\", \"x\": [7, 8, 9, 10, 11, 12], \"y\": [30.45, 30.34, 32.92, 35.31, 33.72, 30.37]}, {\"name\": \"Camioneta- Previsto\", \"type\": \"scatter\", \"x\": [7, 8, 9, 10, 11, 12], \"y\": [5.52, 5.66, 5.86, 5.79, 5.74, 5.62]}, {\"name\": \"Carro\\u00e7a-charrete- Previsto\", \"type\": \"scatter\", \"x\": [7, 8, 9, 10, 11, 12], \"y\": [0.03, 0.12, 1.21, 0.83, 0.19, 0.12]}, {\"name\": \"Chassi-plataforma- Previsto\", \"type\": \"scatter\", \"x\": [7, 8, 9, 10, 11, 12], \"y\": [0.0, 0.0, 0.04, 0.0, 0.0, 0.0]}, {\"name\": \"Ciclomotor- Previsto\", \"type\": \"scatter\", \"x\": [7, 8, 9, 10, 11, 12], \"y\": [1.42, 1.52, 2.48, 2.17, 3.34, 2.0]}, {\"name\": \"Micro-\\u00f4nibus- Previsto\", \"type\": \"scatter\", \"x\": [7, 8, 9, 10, 11, 12], \"y\": [0.39, 0.45, 0.41, 0.41, 0.45, 0.45]}, {\"name\": \"Motocicleta- Previsto\", \"type\": \"scatter\", \"x\": [7, 8, 9, 10, 11, 12], \"y\": [124.31, 123.64, 123.08, 122.46, 123.83, 126.73]}, {\"name\": \"Motoneta- Previsto\", \"type\": \"scatter\", \"x\": [7, 8, 9, 10, 11, 12], \"y\": [6.43, 6.49, 6.46, 6.79, 6.61, 6.46]}, {\"name\": \"N\\u00e3o Informado- Previsto\", \"type\": \"scatter\", \"x\": [7, 8, 9, 10, 11, 12], \"y\": [0.0, 0.0, 0.0, 0.04, 0.57, 0.17]}, {\"name\": \"Outros- Previsto\", \"type\": \"scatter\", \"x\": [7, 8, 9, 10, 11, 12], \"y\": [10.39, 11.37, 10.84, 9.48, 12.11, 12.89]}, {\"name\": \"Reboque- Previsto\", \"type\": \"scatter\", \"x\": [7, 8, 9, 10, 11, 12], \"y\": [0.01, 0.5, 0.18, 0.15, 0.63, 1.92]}, {\"name\": \"Semireboque- Previsto\", \"type\": \"scatter\", \"x\": [7, 8, 9, 10, 11, 12], \"y\": [0.0, 0.0, 0.08, 0.53, 0.19, 0.03]}, {\"name\": \"Trator de rodas- Previsto\", \"type\": \"scatter\", \"x\": [7, 8, 9, 10, 11, 12], \"y\": [0.06, 0.61, 0.21, 0.09, 0.65, 0.18]}, {\"name\": \"Trator misto- Previsto\", \"type\": \"scatter\", \"x\": [7, 8, 9, 10, 11, 12], \"y\": [0.07, 0.53, 0.52, 0.43, 0.34, 0.32]}, {\"name\": \"Trem-bonde- Previsto\", \"type\": \"scatter\", \"x\": [7, 8, 9, 10, 11, 12], \"y\": [0.01, 0.16, 0.15, 0.07, 0.06, 0.05]}, {\"name\": \"Utilit\\u00e1rio- Previsto\", \"type\": \"scatter\", \"x\": [7, 8, 9, 10, 11, 12], \"y\": [2.47, 2.51, 2.69, 2.57, 2.24, 2.71]}, {\"name\": \"\\u00d4nibus- Previsto\", \"type\": \"scatter\", \"x\": [7, 8, 9, 10, 11, 12], \"y\": [0.84, 0.75, 0.72, 0.76, 0.76, 0.78]}, {\"name\": \"Quadriciclo- Previsto\", \"type\": \"scatter\", \"x\": [7, 8, 9, 10, 11, 12], \"y\": [0.08, 0.04, 0.04, 0.03, 0.13, 0.3]}, {\"name\": \"Trator de esteira- Previsto\", \"type\": \"scatter\", \"x\": [7, 8, 9, 10, 11, 12], \"y\": [0.0, 0.03, 0.01, 0.02, 0.04, 0.01]}, {\"name\": \"Triciclo- Previsto\", \"type\": \"scatter\", \"x\": [7, 8, 9, 10, 11, 12], \"y\": [0.0, 0.0, 0.0, 0.0, 0.0, 0.0]}, {\"name\": \"Carro de m\\u00e3o- Previsto\", \"type\": \"scatter\", \"x\": [7, 8, 9, 10, 11, 12], \"y\": [0.6, 0.56, 0.6, 0.7, 0.8, 0.7]}],\n",
              "                        {\"template\": {\"data\": {\"bar\": [{\"error_x\": {\"color\": \"#2a3f5f\"}, \"error_y\": {\"color\": \"#2a3f5f\"}, \"marker\": {\"line\": {\"color\": \"#E5ECF6\", \"width\": 0.5}}, \"type\": \"bar\"}], \"barpolar\": [{\"marker\": {\"line\": {\"color\": \"#E5ECF6\", \"width\": 0.5}}, \"type\": \"barpolar\"}], \"carpet\": [{\"aaxis\": {\"endlinecolor\": \"#2a3f5f\", \"gridcolor\": \"white\", \"linecolor\": \"white\", \"minorgridcolor\": \"white\", \"startlinecolor\": \"#2a3f5f\"}, \"baxis\": {\"endlinecolor\": \"#2a3f5f\", \"gridcolor\": \"white\", \"linecolor\": \"white\", \"minorgridcolor\": \"white\", \"startlinecolor\": \"#2a3f5f\"}, \"type\": \"carpet\"}], \"choropleth\": [{\"colorbar\": {\"outlinewidth\": 0, \"ticks\": \"\"}, \"type\": \"choropleth\"}], \"contour\": [{\"colorbar\": {\"outlinewidth\": 0, \"ticks\": \"\"}, \"colorscale\": [[0.0, \"#0d0887\"], [0.1111111111111111, \"#46039f\"], [0.2222222222222222, \"#7201a8\"], [0.3333333333333333, \"#9c179e\"], [0.4444444444444444, \"#bd3786\"], [0.5555555555555556, \"#d8576b\"], [0.6666666666666666, \"#ed7953\"], [0.7777777777777778, \"#fb9f3a\"], [0.8888888888888888, \"#fdca26\"], [1.0, \"#f0f921\"]], \"type\": \"contour\"}], \"contourcarpet\": [{\"colorbar\": {\"outlinewidth\": 0, \"ticks\": \"\"}, \"type\": \"contourcarpet\"}], \"heatmap\": [{\"colorbar\": {\"outlinewidth\": 0, \"ticks\": \"\"}, \"colorscale\": [[0.0, \"#0d0887\"], [0.1111111111111111, \"#46039f\"], [0.2222222222222222, \"#7201a8\"], [0.3333333333333333, \"#9c179e\"], [0.4444444444444444, \"#bd3786\"], [0.5555555555555556, \"#d8576b\"], [0.6666666666666666, \"#ed7953\"], [0.7777777777777778, \"#fb9f3a\"], [0.8888888888888888, \"#fdca26\"], [1.0, \"#f0f921\"]], \"type\": \"heatmap\"}], \"heatmapgl\": [{\"colorbar\": {\"outlinewidth\": 0, \"ticks\": \"\"}, \"colorscale\": [[0.0, \"#0d0887\"], [0.1111111111111111, \"#46039f\"], [0.2222222222222222, \"#7201a8\"], [0.3333333333333333, \"#9c179e\"], [0.4444444444444444, \"#bd3786\"], [0.5555555555555556, \"#d8576b\"], [0.6666666666666666, \"#ed7953\"], [0.7777777777777778, \"#fb9f3a\"], [0.8888888888888888, \"#fdca26\"], [1.0, \"#f0f921\"]], \"type\": \"heatmapgl\"}], \"histogram\": [{\"marker\": {\"colorbar\": {\"outlinewidth\": 0, \"ticks\": \"\"}}, \"type\": \"histogram\"}], \"histogram2d\": [{\"colorbar\": {\"outlinewidth\": 0, \"ticks\": \"\"}, \"colorscale\": [[0.0, \"#0d0887\"], [0.1111111111111111, \"#46039f\"], [0.2222222222222222, \"#7201a8\"], [0.3333333333333333, \"#9c179e\"], [0.4444444444444444, \"#bd3786\"], [0.5555555555555556, \"#d8576b\"], [0.6666666666666666, \"#ed7953\"], [0.7777777777777778, \"#fb9f3a\"], [0.8888888888888888, \"#fdca26\"], [1.0, \"#f0f921\"]], \"type\": \"histogram2d\"}], \"histogram2dcontour\": [{\"colorbar\": {\"outlinewidth\": 0, \"ticks\": \"\"}, \"colorscale\": [[0.0, \"#0d0887\"], [0.1111111111111111, \"#46039f\"], [0.2222222222222222, \"#7201a8\"], [0.3333333333333333, \"#9c179e\"], [0.4444444444444444, \"#bd3786\"], [0.5555555555555556, \"#d8576b\"], [0.6666666666666666, \"#ed7953\"], [0.7777777777777778, \"#fb9f3a\"], [0.8888888888888888, \"#fdca26\"], [1.0, \"#f0f921\"]], \"type\": \"histogram2dcontour\"}], \"mesh3d\": [{\"colorbar\": {\"outlinewidth\": 0, \"ticks\": \"\"}, \"type\": \"mesh3d\"}], \"parcoords\": [{\"line\": {\"colorbar\": {\"outlinewidth\": 0, \"ticks\": \"\"}}, \"type\": \"parcoords\"}], \"pie\": [{\"automargin\": true, \"type\": \"pie\"}], \"scatter\": [{\"marker\": {\"colorbar\": {\"outlinewidth\": 0, \"ticks\": \"\"}}, \"type\": \"scatter\"}], \"scatter3d\": [{\"line\": {\"colorbar\": {\"outlinewidth\": 0, \"ticks\": \"\"}}, \"marker\": {\"colorbar\": {\"outlinewidth\": 0, \"ticks\": \"\"}}, \"type\": \"scatter3d\"}], \"scattercarpet\": [{\"marker\": {\"colorbar\": {\"outlinewidth\": 0, \"ticks\": \"\"}}, \"type\": \"scattercarpet\"}], \"scattergeo\": [{\"marker\": {\"colorbar\": {\"outlinewidth\": 0, \"ticks\": \"\"}}, \"type\": \"scattergeo\"}], \"scattergl\": [{\"marker\": {\"colorbar\": {\"outlinewidth\": 0, \"ticks\": \"\"}}, \"type\": \"scattergl\"}], \"scattermapbox\": [{\"marker\": {\"colorbar\": {\"outlinewidth\": 0, \"ticks\": \"\"}}, \"type\": \"scattermapbox\"}], \"scatterpolar\": [{\"marker\": {\"colorbar\": {\"outlinewidth\": 0, \"ticks\": \"\"}}, \"type\": \"scatterpolar\"}], \"scatterpolargl\": [{\"marker\": {\"colorbar\": {\"outlinewidth\": 0, \"ticks\": \"\"}}, \"type\": \"scatterpolargl\"}], \"scatterternary\": [{\"marker\": {\"colorbar\": {\"outlinewidth\": 0, \"ticks\": \"\"}}, \"type\": \"scatterternary\"}], \"surface\": [{\"colorbar\": {\"outlinewidth\": 0, \"ticks\": \"\"}, \"colorscale\": [[0.0, \"#0d0887\"], [0.1111111111111111, \"#46039f\"], [0.2222222222222222, \"#7201a8\"], [0.3333333333333333, \"#9c179e\"], [0.4444444444444444, \"#bd3786\"], [0.5555555555555556, \"#d8576b\"], [0.6666666666666666, \"#ed7953\"], [0.7777777777777778, \"#fb9f3a\"], [0.8888888888888888, \"#fdca26\"], [1.0, \"#f0f921\"]], \"type\": \"surface\"}], \"table\": [{\"cells\": {\"fill\": {\"color\": \"#EBF0F8\"}, \"line\": {\"color\": \"white\"}}, \"header\": {\"fill\": {\"color\": \"#C8D4E3\"}, \"line\": {\"color\": \"white\"}}, \"type\": \"table\"}]}, \"layout\": {\"annotationdefaults\": {\"arrowcolor\": \"#2a3f5f\", \"arrowhead\": 0, \"arrowwidth\": 1}, \"coloraxis\": {\"colorbar\": {\"outlinewidth\": 0, \"ticks\": \"\"}}, \"colorscale\": {\"diverging\": [[0, \"#8e0152\"], [0.1, \"#c51b7d\"], [0.2, \"#de77ae\"], [0.3, \"#f1b6da\"], [0.4, \"#fde0ef\"], [0.5, \"#f7f7f7\"], [0.6, \"#e6f5d0\"], [0.7, \"#b8e186\"], [0.8, \"#7fbc41\"], [0.9, \"#4d9221\"], [1, \"#276419\"]], \"sequential\": [[0.0, \"#0d0887\"], [0.1111111111111111, \"#46039f\"], [0.2222222222222222, \"#7201a8\"], [0.3333333333333333, \"#9c179e\"], [0.4444444444444444, \"#bd3786\"], [0.5555555555555556, \"#d8576b\"], [0.6666666666666666, \"#ed7953\"], [0.7777777777777778, \"#fb9f3a\"], [0.8888888888888888, \"#fdca26\"], [1.0, \"#f0f921\"]], \"sequentialminus\": [[0.0, \"#0d0887\"], [0.1111111111111111, \"#46039f\"], [0.2222222222222222, \"#7201a8\"], [0.3333333333333333, \"#9c179e\"], [0.4444444444444444, \"#bd3786\"], [0.5555555555555556, \"#d8576b\"], [0.6666666666666666, \"#ed7953\"], [0.7777777777777778, \"#fb9f3a\"], [0.8888888888888888, \"#fdca26\"], [1.0, \"#f0f921\"]]}, \"colorway\": [\"#636efa\", \"#EF553B\", \"#00cc96\", \"#ab63fa\", \"#FFA15A\", \"#19d3f3\", \"#FF6692\", \"#B6E880\", \"#FF97FF\", \"#FECB52\"], \"font\": {\"color\": \"#2a3f5f\"}, \"geo\": {\"bgcolor\": \"white\", \"lakecolor\": \"white\", \"landcolor\": \"#E5ECF6\", \"showlakes\": true, \"showland\": true, \"subunitcolor\": \"white\"}, \"hoverlabel\": {\"align\": \"left\"}, \"hovermode\": \"closest\", \"mapbox\": {\"style\": \"light\"}, \"paper_bgcolor\": \"white\", \"plot_bgcolor\": \"#E5ECF6\", \"polar\": {\"angularaxis\": {\"gridcolor\": \"white\", \"linecolor\": \"white\", \"ticks\": \"\"}, \"bgcolor\": \"#E5ECF6\", \"radialaxis\": {\"gridcolor\": \"white\", \"linecolor\": \"white\", \"ticks\": \"\"}}, \"scene\": {\"xaxis\": {\"backgroundcolor\": \"#E5ECF6\", \"gridcolor\": \"white\", \"gridwidth\": 2, \"linecolor\": \"white\", \"showbackground\": true, \"ticks\": \"\", \"zerolinecolor\": \"white\"}, \"yaxis\": {\"backgroundcolor\": \"#E5ECF6\", \"gridcolor\": \"white\", \"gridwidth\": 2, \"linecolor\": \"white\", \"showbackground\": true, \"ticks\": \"\", \"zerolinecolor\": \"white\"}, \"zaxis\": {\"backgroundcolor\": \"#E5ECF6\", \"gridcolor\": \"white\", \"gridwidth\": 2, \"linecolor\": \"white\", \"showbackground\": true, \"ticks\": \"\", \"zerolinecolor\": \"white\"}}, \"shapedefaults\": {\"line\": {\"color\": \"#2a3f5f\"}}, \"ternary\": {\"aaxis\": {\"gridcolor\": \"white\", \"linecolor\": \"white\", \"ticks\": \"\"}, \"baxis\": {\"gridcolor\": \"white\", \"linecolor\": \"white\", \"ticks\": \"\"}, \"bgcolor\": \"#E5ECF6\", \"caxis\": {\"gridcolor\": \"white\", \"linecolor\": \"white\", \"ticks\": \"\"}}, \"title\": {\"x\": 0.05}, \"xaxis\": {\"automargin\": true, \"gridcolor\": \"white\", \"linecolor\": \"white\", \"ticks\": \"\", \"title\": {\"standoff\": 15}, \"zerolinecolor\": \"white\", \"zerolinewidth\": 2}, \"yaxis\": {\"automargin\": true, \"gridcolor\": \"white\", \"linecolor\": \"white\", \"ticks\": \"\", \"title\": {\"standoff\": 15}, \"zerolinecolor\": \"white\", \"zerolinewidth\": 2}}}, \"title\": {\"text\": \"Quantidade de Mortos envolvidos em acidentes, por m\\u00eas, em 2020 por tipo de ve\\u00edculo - Dados reais e previstos\"}},\n",
              "                        {\"responsive\": true}\n",
              "                    ).then(function(){\n",
              "                            \n",
              "var gd = document.getElementById('f4ce3aaa-a938-468a-afa9-a3781e4ff39c');\n",
              "var x = new MutationObserver(function (mutations, observer) {{\n",
              "        var display = window.getComputedStyle(gd).display;\n",
              "        if (!display || display === 'none') {{\n",
              "            console.log([gd, 'removed!']);\n",
              "            Plotly.purge(gd);\n",
              "            observer.disconnect();\n",
              "        }}\n",
              "}});\n",
              "\n",
              "// Listen for the removal of the full notebook cells\n",
              "var notebookContainer = gd.closest('#notebook-container');\n",
              "if (notebookContainer) {{\n",
              "    x.observe(notebookContainer, {childList: true});\n",
              "}}\n",
              "\n",
              "// Listen for the clearing of the current output cell\n",
              "var outputEl = gd.closest('.output');\n",
              "if (outputEl) {{\n",
              "    x.observe(outputEl, {childList: true});\n",
              "}}\n",
              "\n",
              "                        })\n",
              "                };\n",
              "                \n",
              "            </script>\n",
              "        </div>\n",
              "</body>\n",
              "</html>"
            ]
          },
          "metadata": {
            "tags": []
          }
        }
      ]
    },
    {
      "cell_type": "markdown",
      "metadata": {
        "id": "nawChMtbWIzN"
      },
      "source": [
        "#### **Hipótese 3:**\n",
        "---\n"
      ]
    },
    {
      "cell_type": "markdown",
      "metadata": {
        "id": "Cd9eYa8UdyJj"
      },
      "source": [
        "##### Agrupamento da base Ocorrências"
      ]
    },
    {
      "cell_type": "code",
      "metadata": {
        "id": "S7jvjbOkWH32"
      },
      "source": [
        "x = ['ano', 'mes', 'causa_acidente']\n",
        "y = ['qtd_acidentes', 'qtd_ilesos', 'qtd_feridos_leves', 'qtd_feridos_graves', 'qtd_mortos', 'qtd_feridos', 'qtd_veiculos']\n",
        "\n",
        "df = dfOcorrencias\n",
        "df = df.groupby([df['data_inversa'].dt.strftime('%Y'), df['data_inversa'].dt.strftime('%B'), 'causa_acidente'])\n",
        "df = df.agg({'id': 'nunique', 'ilesos': 'sum', 'feridos_leves': 'sum', 'feridos_graves': 'sum', 'mortos': 'sum', 'feridos': 'sum', 'veiculos': 'sum'})\n",
        "df.index.names = x\n",
        "df.columns = y\n",
        "df = df.reset_index()\n",
        "\n",
        "#df = df[df['causa_acidente'] == 'Animais na Pista']\n",
        "#df = df.reset_index()"
      ],
      "execution_count": null,
      "outputs": []
    },
    {
      "cell_type": "markdown",
      "metadata": {
        "id": "2TBGGpRLd4zJ"
      },
      "source": [
        "##### Pré-Processamento"
      ]
    },
    {
      "cell_type": "code",
      "metadata": {
        "id": "IA2AtHtpwrhR"
      },
      "source": [
        "# Label Encoder\n",
        "df_ocorrencias_tratado = label_encoder(df.copy(), ['mes', 'causa_acidente'])\n",
        "\n",
        "# Divisão da base\n",
        "X = df_ocorrencias_tratado[x]\n",
        "Y = df_ocorrencias_tratado[y]\n",
        "\n",
        "# Standart Scaler\n",
        "# X, Y = standard_scaler(X, Y)\n",
        "\n",
        "X_train, X_test, Y_train, Y_test = hold_out(X, Y)"
      ],
      "execution_count": null,
      "outputs": []
    },
    {
      "cell_type": "markdown",
      "metadata": {
        "id": "PpPL_h4keD_f"
      },
      "source": [
        "##### Regressão Linear"
      ]
    },
    {
      "cell_type": "code",
      "metadata": {
        "id": "kk5TcfjixfoJ",
        "outputId": "0f7fa176-6f67-4a1b-f1d0-5069cc8427fa",
        "colab": {
          "base_uri": "https://localhost:8080/"
        }
      },
      "source": [
        "sc1_rl, sc2_rl, mae_rl = regressao_linear(X_train, Y_train, X_test, Y_test)"
      ],
      "execution_count": null,
      "outputs": [
        {
          "output_type": "stream",
          "text": [
            "Score Treino:  0.012139609685341118 \n",
            "Score Teste:  0.0017737006488780863\n",
            "Erro médio absoluto:  219.022049395509 \n",
            "\n"
          ],
          "name": "stdout"
        },
        {
          "output_type": "stream",
          "text": [
            "/usr/local/lib/python3.6/dist-packages/sklearn/base.py:434: FutureWarning:\n",
            "\n",
            "The default value of multioutput (not exposed in score method) will change from 'variance_weighted' to 'uniform_average' in 0.23 to keep consistent with 'metrics.r2_score'. To specify the default value manually and avoid the warning, please either call 'metrics.r2_score' directly or make a custom scorer with 'metrics.make_scorer' (the built-in scorer 'r2' uses multioutput='uniform_average').\n",
            "\n",
            "/usr/local/lib/python3.6/dist-packages/sklearn/base.py:434: FutureWarning:\n",
            "\n",
            "The default value of multioutput (not exposed in score method) will change from 'variance_weighted' to 'uniform_average' in 0.23 to keep consistent with 'metrics.r2_score'. To specify the default value manually and avoid the warning, please either call 'metrics.r2_score' directly or make a custom scorer with 'metrics.make_scorer' (the built-in scorer 'r2' uses multioutput='uniform_average').\n",
            "\n"
          ],
          "name": "stderr"
        }
      ]
    },
    {
      "cell_type": "markdown",
      "metadata": {
        "id": "JIbDm0FOeOKF"
      },
      "source": [
        "##### Regressão Polinomial"
      ]
    },
    {
      "cell_type": "code",
      "metadata": {
        "id": "5_FCKwZreR74",
        "outputId": "090eb437-951b-4055-d103-5027201a1bfa",
        "colab": {
          "base_uri": "https://localhost:8080/"
        }
      },
      "source": [
        "sc1_rp, sc2_rp, mae_rp = regressao_polinomial(X_train, Y_train, X_test, Y_test)"
      ],
      "execution_count": null,
      "outputs": [
        {
          "output_type": "stream",
          "text": [
            "Score Treino:  0.09251027449173825 \n",
            "Score Teste:  0.01790589734399044\n",
            "Erro médio absoluto:  224.59950523540502 \n",
            "\n"
          ],
          "name": "stdout"
        },
        {
          "output_type": "stream",
          "text": [
            "/usr/local/lib/python3.6/dist-packages/sklearn/base.py:434: FutureWarning:\n",
            "\n",
            "The default value of multioutput (not exposed in score method) will change from 'variance_weighted' to 'uniform_average' in 0.23 to keep consistent with 'metrics.r2_score'. To specify the default value manually and avoid the warning, please either call 'metrics.r2_score' directly or make a custom scorer with 'metrics.make_scorer' (the built-in scorer 'r2' uses multioutput='uniform_average').\n",
            "\n",
            "/usr/local/lib/python3.6/dist-packages/sklearn/base.py:434: FutureWarning:\n",
            "\n",
            "The default value of multioutput (not exposed in score method) will change from 'variance_weighted' to 'uniform_average' in 0.23 to keep consistent with 'metrics.r2_score'. To specify the default value manually and avoid the warning, please either call 'metrics.r2_score' directly or make a custom scorer with 'metrics.make_scorer' (the built-in scorer 'r2' uses multioutput='uniform_average').\n",
            "\n"
          ],
          "name": "stderr"
        }
      ]
    },
    {
      "cell_type": "markdown",
      "metadata": {
        "id": "WAao-lNEeLuK"
      },
      "source": [
        "##### Regressão por Árvores de Decisão"
      ]
    },
    {
      "cell_type": "code",
      "metadata": {
        "id": "knBX_mMzemsq",
        "outputId": "5fbc67e5-2d64-45b9-8709-baf26aa9feb5",
        "colab": {
          "base_uri": "https://localhost:8080/"
        }
      },
      "source": [
        "sc1_ad, sc2_ad, mae_ad = arvore_decisao(X_train, Y_train, X_test, Y_test)"
      ],
      "execution_count": null,
      "outputs": [
        {
          "output_type": "stream",
          "text": [
            "Score Treino:  1.0 \n",
            "Score Teste:  0.9730457688829115\n",
            "Erro médio absoluto:  31.161490683229808 \n",
            "\n"
          ],
          "name": "stdout"
        },
        {
          "output_type": "stream",
          "text": [
            "/usr/local/lib/python3.6/dist-packages/sklearn/base.py:434: FutureWarning:\n",
            "\n",
            "The default value of multioutput (not exposed in score method) will change from 'variance_weighted' to 'uniform_average' in 0.23 to keep consistent with 'metrics.r2_score'. To specify the default value manually and avoid the warning, please either call 'metrics.r2_score' directly or make a custom scorer with 'metrics.make_scorer' (the built-in scorer 'r2' uses multioutput='uniform_average').\n",
            "\n",
            "/usr/local/lib/python3.6/dist-packages/sklearn/base.py:434: FutureWarning:\n",
            "\n",
            "The default value of multioutput (not exposed in score method) will change from 'variance_weighted' to 'uniform_average' in 0.23 to keep consistent with 'metrics.r2_score'. To specify the default value manually and avoid the warning, please either call 'metrics.r2_score' directly or make a custom scorer with 'metrics.make_scorer' (the built-in scorer 'r2' uses multioutput='uniform_average').\n",
            "\n"
          ],
          "name": "stderr"
        }
      ]
    },
    {
      "cell_type": "markdown",
      "metadata": {
        "id": "SjjZ50WMeSZm"
      },
      "source": [
        "##### Regressão por Random Forest"
      ]
    },
    {
      "cell_type": "code",
      "metadata": {
        "id": "VZNgc7SjenKJ",
        "outputId": "f795beb6-70d3-4eab-c1a8-d342fc73eb06",
        "colab": {
          "base_uri": "https://localhost:8080/"
        }
      },
      "source": [
        "sc1_rf, sc2_rf, mae_rf = floresta_randomica(X_train, Y_train, X_test, Y_test)"
      ],
      "execution_count": null,
      "outputs": [
        {
          "output_type": "stream",
          "text": [
            "Score Treino:  0.9958899250365785 \n",
            "Score Teste:  0.9755635984630532\n",
            "Erro médio absoluto:  27.907978977544197 \n",
            "\n"
          ],
          "name": "stdout"
        },
        {
          "output_type": "stream",
          "text": [
            "/usr/local/lib/python3.6/dist-packages/sklearn/base.py:434: FutureWarning:\n",
            "\n",
            "The default value of multioutput (not exposed in score method) will change from 'variance_weighted' to 'uniform_average' in 0.23 to keep consistent with 'metrics.r2_score'. To specify the default value manually and avoid the warning, please either call 'metrics.r2_score' directly or make a custom scorer with 'metrics.make_scorer' (the built-in scorer 'r2' uses multioutput='uniform_average').\n",
            "\n",
            "/usr/local/lib/python3.6/dist-packages/sklearn/base.py:434: FutureWarning:\n",
            "\n",
            "The default value of multioutput (not exposed in score method) will change from 'variance_weighted' to 'uniform_average' in 0.23 to keep consistent with 'metrics.r2_score'. To specify the default value manually and avoid the warning, please either call 'metrics.r2_score' directly or make a custom scorer with 'metrics.make_scorer' (the built-in scorer 'r2' uses multioutput='uniform_average').\n",
            "\n"
          ],
          "name": "stderr"
        }
      ]
    },
    {
      "cell_type": "markdown",
      "metadata": {
        "id": "0f5XRWvGeSc7"
      },
      "source": [
        "##### Regressão MLP"
      ]
    },
    {
      "cell_type": "code",
      "metadata": {
        "id": "YtWabvSceniK",
        "outputId": "e006547e-7003-441d-f372-a80514dfc24e",
        "colab": {
          "base_uri": "https://localhost:8080/"
        }
      },
      "source": [
        "sc1_rn, sc2_rn, mae_rn = mlp(X_train, Y_train, X_test, Y_test, hls=(200, 100))"
      ],
      "execution_count": null,
      "outputs": [
        {
          "output_type": "stream",
          "text": [
            "Score Treino:  -0.00013295382509632576 \n",
            "Score Teste:  -0.0014519262413858387\n",
            "Erro médio absoluto:  220.68860543432515 \n",
            "\n"
          ],
          "name": "stdout"
        },
        {
          "output_type": "stream",
          "text": [
            "/usr/local/lib/python3.6/dist-packages/sklearn/base.py:434: FutureWarning:\n",
            "\n",
            "The default value of multioutput (not exposed in score method) will change from 'variance_weighted' to 'uniform_average' in 0.23 to keep consistent with 'metrics.r2_score'. To specify the default value manually and avoid the warning, please either call 'metrics.r2_score' directly or make a custom scorer with 'metrics.make_scorer' (the built-in scorer 'r2' uses multioutput='uniform_average').\n",
            "\n",
            "/usr/local/lib/python3.6/dist-packages/sklearn/base.py:434: FutureWarning:\n",
            "\n",
            "The default value of multioutput (not exposed in score method) will change from 'variance_weighted' to 'uniform_average' in 0.23 to keep consistent with 'metrics.r2_score'. To specify the default value manually and avoid the warning, please either call 'metrics.r2_score' directly or make a custom scorer with 'metrics.make_scorer' (the built-in scorer 'r2' uses multioutput='uniform_average').\n",
            "\n"
          ],
          "name": "stderr"
        }
      ]
    },
    {
      "cell_type": "markdown",
      "metadata": {
        "id": "kp7cGrueeSgl"
      },
      "source": [
        "##### Regressão KNN"
      ]
    },
    {
      "cell_type": "code",
      "metadata": {
        "id": "8B6JixGlen9-",
        "outputId": "ef062552-cc6b-4fe5-eb6c-b90c0ed5b7e5",
        "colab": {
          "base_uri": "https://localhost:8080/"
        }
      },
      "source": [
        "sc1_kn, sc2_kn, mae_kn = knr(X_train, Y_train, X_test, Y_test, k=5)"
      ],
      "execution_count": null,
      "outputs": [
        {
          "output_type": "stream",
          "text": [
            "Score Treino:  0.791031266646652 \n",
            "Score Teste:  0.5643560618747276\n",
            "Erro médio absoluto:  145.47214524605832 \n",
            "\n"
          ],
          "name": "stdout"
        },
        {
          "output_type": "stream",
          "text": [
            "/usr/local/lib/python3.6/dist-packages/sklearn/base.py:434: FutureWarning:\n",
            "\n",
            "The default value of multioutput (not exposed in score method) will change from 'variance_weighted' to 'uniform_average' in 0.23 to keep consistent with 'metrics.r2_score'. To specify the default value manually and avoid the warning, please either call 'metrics.r2_score' directly or make a custom scorer with 'metrics.make_scorer' (the built-in scorer 'r2' uses multioutput='uniform_average').\n",
            "\n",
            "/usr/local/lib/python3.6/dist-packages/sklearn/base.py:434: FutureWarning:\n",
            "\n",
            "The default value of multioutput (not exposed in score method) will change from 'variance_weighted' to 'uniform_average' in 0.23 to keep consistent with 'metrics.r2_score'. To specify the default value manually and avoid the warning, please either call 'metrics.r2_score' directly or make a custom scorer with 'metrics.make_scorer' (the built-in scorer 'r2' uses multioutput='uniform_average').\n",
            "\n"
          ],
          "name": "stderr"
        }
      ]
    },
    {
      "cell_type": "markdown",
      "metadata": {
        "id": "ai-0db8NeSjh"
      },
      "source": [
        "##### Resultados"
      ]
    },
    {
      "cell_type": "code",
      "metadata": {
        "id": "lpxdMO9_eoaD"
      },
      "source": [
        "regressores = ['Linear', 'Polinomial', 'Decision Tree', 'Random Forest', 'MLP', 'KNN']\n",
        "scores_treino = [sc1_rl, sc1_rp, sc1_ad, sc1_rf, sc1_rn, sc1_kn]\n",
        "scores_teste = [sc2_rl, sc2_rp, sc2_ad, sc2_rf, sc2_rn, sc2_kn]\n",
        "maes = [mae_rl, mae_rp, mae_ad, mae_rf, mae_rn, mae_kn]"
      ],
      "execution_count": null,
      "outputs": []
    },
    {
      "cell_type": "code",
      "metadata": {
        "id": "FeuVoq-OeodA",
        "outputId": "ee89f489-8352-4732-8667-c60e647e0e99",
        "colab": {
          "base_uri": "https://localhost:8080/"
        }
      },
      "source": [
        "plot_scores_bar(regressores, scores_treino, scores_teste, 'Scores de TREINO/TESTE dos regressores na base de pessoas agrupadas (mes, ano, tipo_veiculo).')"
      ],
      "execution_count": null,
      "outputs": [
        {
          "output_type": "display_data",
          "data": {
            "text/html": [
              "<html>\n",
              "<head><meta charset=\"utf-8\" /></head>\n",
              "<body>\n",
              "    <div>\n",
              "            <script src=\"https://cdnjs.cloudflare.com/ajax/libs/mathjax/2.7.5/MathJax.js?config=TeX-AMS-MML_SVG\"></script><script type=\"text/javascript\">if (window.MathJax) {MathJax.Hub.Config({SVG: {font: \"STIX-Web\"}});}</script>\n",
              "                <script type=\"text/javascript\">window.PlotlyConfig = {MathJaxConfig: 'local'};</script>\n",
              "        <script src=\"https://cdn.plot.ly/plotly-latest.min.js\"></script>    \n",
              "            <div id=\"f366a3c9-1583-44b9-8893-88b76f53ccd4\" class=\"plotly-graph-div\" style=\"height:525px; width:100%;\"></div>\n",
              "            <script type=\"text/javascript\">\n",
              "                \n",
              "                    window.PLOTLYENV=window.PLOTLYENV || {};\n",
              "                    \n",
              "                if (document.getElementById(\"f366a3c9-1583-44b9-8893-88b76f53ccd4\")) {\n",
              "                    Plotly.newPlot(\n",
              "                        'f366a3c9-1583-44b9-8893-88b76f53ccd4',\n",
              "                        [{\"name\": \"Scores de Treino\", \"type\": \"bar\", \"x\": [\"Linear\", \"Polinomial\", \"Decision Tree\", \"Random Forest\", \"MLP\", \"KNN\"], \"y\": [0.012139609685341118, 0.09251027449173825, 1.0, 0.9958899250365785, -0.00013295382509632576, 0.791031266646652]}, {\"name\": \"Scores de Teste\", \"type\": \"bar\", \"x\": [\"Linear\", \"Polinomial\", \"Decision Tree\", \"Random Forest\", \"MLP\", \"KNN\"], \"y\": [0.0017737006488780863, 0.01790589734399044, 0.9730457688829115, 0.9755635984630532, -0.0014519262413858387, 0.5643560618747276]}],\n",
              "                        {\"barmode\": \"group\", \"template\": {\"data\": {\"bar\": [{\"error_x\": {\"color\": \"#2a3f5f\"}, \"error_y\": {\"color\": \"#2a3f5f\"}, \"marker\": {\"line\": {\"color\": \"#E5ECF6\", \"width\": 0.5}}, \"type\": \"bar\"}], \"barpolar\": [{\"marker\": {\"line\": {\"color\": \"#E5ECF6\", \"width\": 0.5}}, \"type\": \"barpolar\"}], \"carpet\": [{\"aaxis\": {\"endlinecolor\": \"#2a3f5f\", \"gridcolor\": \"white\", \"linecolor\": \"white\", \"minorgridcolor\": \"white\", \"startlinecolor\": \"#2a3f5f\"}, \"baxis\": {\"endlinecolor\": \"#2a3f5f\", \"gridcolor\": \"white\", \"linecolor\": \"white\", \"minorgridcolor\": \"white\", \"startlinecolor\": \"#2a3f5f\"}, \"type\": \"carpet\"}], \"choropleth\": [{\"colorbar\": {\"outlinewidth\": 0, \"ticks\": \"\"}, \"type\": \"choropleth\"}], \"contour\": [{\"colorbar\": {\"outlinewidth\": 0, \"ticks\": \"\"}, \"colorscale\": [[0.0, \"#0d0887\"], [0.1111111111111111, \"#46039f\"], [0.2222222222222222, \"#7201a8\"], [0.3333333333333333, \"#9c179e\"], [0.4444444444444444, \"#bd3786\"], [0.5555555555555556, \"#d8576b\"], [0.6666666666666666, \"#ed7953\"], [0.7777777777777778, \"#fb9f3a\"], [0.8888888888888888, \"#fdca26\"], [1.0, \"#f0f921\"]], \"type\": \"contour\"}], \"contourcarpet\": [{\"colorbar\": {\"outlinewidth\": 0, \"ticks\": \"\"}, \"type\": \"contourcarpet\"}], \"heatmap\": [{\"colorbar\": {\"outlinewidth\": 0, \"ticks\": \"\"}, \"colorscale\": [[0.0, \"#0d0887\"], [0.1111111111111111, \"#46039f\"], [0.2222222222222222, \"#7201a8\"], [0.3333333333333333, \"#9c179e\"], [0.4444444444444444, \"#bd3786\"], [0.5555555555555556, \"#d8576b\"], [0.6666666666666666, \"#ed7953\"], [0.7777777777777778, \"#fb9f3a\"], [0.8888888888888888, \"#fdca26\"], [1.0, \"#f0f921\"]], \"type\": \"heatmap\"}], \"heatmapgl\": [{\"colorbar\": {\"outlinewidth\": 0, \"ticks\": \"\"}, \"colorscale\": [[0.0, \"#0d0887\"], [0.1111111111111111, \"#46039f\"], [0.2222222222222222, \"#7201a8\"], [0.3333333333333333, \"#9c179e\"], [0.4444444444444444, \"#bd3786\"], [0.5555555555555556, \"#d8576b\"], [0.6666666666666666, \"#ed7953\"], [0.7777777777777778, \"#fb9f3a\"], [0.8888888888888888, \"#fdca26\"], [1.0, \"#f0f921\"]], \"type\": \"heatmapgl\"}], \"histogram\": [{\"marker\": {\"colorbar\": {\"outlinewidth\": 0, \"ticks\": \"\"}}, \"type\": \"histogram\"}], \"histogram2d\": [{\"colorbar\": {\"outlinewidth\": 0, \"ticks\": \"\"}, \"colorscale\": [[0.0, \"#0d0887\"], [0.1111111111111111, \"#46039f\"], [0.2222222222222222, \"#7201a8\"], [0.3333333333333333, \"#9c179e\"], [0.4444444444444444, \"#bd3786\"], [0.5555555555555556, \"#d8576b\"], [0.6666666666666666, \"#ed7953\"], [0.7777777777777778, \"#fb9f3a\"], [0.8888888888888888, \"#fdca26\"], [1.0, \"#f0f921\"]], \"type\": \"histogram2d\"}], \"histogram2dcontour\": [{\"colorbar\": {\"outlinewidth\": 0, \"ticks\": \"\"}, \"colorscale\": [[0.0, \"#0d0887\"], [0.1111111111111111, \"#46039f\"], [0.2222222222222222, \"#7201a8\"], [0.3333333333333333, \"#9c179e\"], [0.4444444444444444, \"#bd3786\"], [0.5555555555555556, \"#d8576b\"], [0.6666666666666666, \"#ed7953\"], [0.7777777777777778, \"#fb9f3a\"], [0.8888888888888888, \"#fdca26\"], [1.0, \"#f0f921\"]], \"type\": \"histogram2dcontour\"}], \"mesh3d\": [{\"colorbar\": {\"outlinewidth\": 0, \"ticks\": \"\"}, \"type\": \"mesh3d\"}], \"parcoords\": [{\"line\": {\"colorbar\": {\"outlinewidth\": 0, \"ticks\": \"\"}}, \"type\": \"parcoords\"}], \"pie\": [{\"automargin\": true, \"type\": \"pie\"}], \"scatter\": [{\"marker\": {\"colorbar\": {\"outlinewidth\": 0, \"ticks\": \"\"}}, \"type\": \"scatter\"}], \"scatter3d\": [{\"line\": {\"colorbar\": {\"outlinewidth\": 0, \"ticks\": \"\"}}, \"marker\": {\"colorbar\": {\"outlinewidth\": 0, \"ticks\": \"\"}}, \"type\": \"scatter3d\"}], \"scattercarpet\": [{\"marker\": {\"colorbar\": {\"outlinewidth\": 0, \"ticks\": \"\"}}, \"type\": \"scattercarpet\"}], \"scattergeo\": [{\"marker\": {\"colorbar\": {\"outlinewidth\": 0, \"ticks\": \"\"}}, \"type\": \"scattergeo\"}], \"scattergl\": [{\"marker\": {\"colorbar\": {\"outlinewidth\": 0, \"ticks\": \"\"}}, \"type\": \"scattergl\"}], \"scattermapbox\": [{\"marker\": {\"colorbar\": {\"outlinewidth\": 0, \"ticks\": \"\"}}, \"type\": \"scattermapbox\"}], \"scatterpolar\": [{\"marker\": {\"colorbar\": {\"outlinewidth\": 0, \"ticks\": \"\"}}, \"type\": \"scatterpolar\"}], \"scatterpolargl\": [{\"marker\": {\"colorbar\": {\"outlinewidth\": 0, \"ticks\": \"\"}}, \"type\": \"scatterpolargl\"}], \"scatterternary\": [{\"marker\": {\"colorbar\": {\"outlinewidth\": 0, \"ticks\": \"\"}}, \"type\": \"scatterternary\"}], \"surface\": [{\"colorbar\": {\"outlinewidth\": 0, \"ticks\": \"\"}, \"colorscale\": [[0.0, \"#0d0887\"], [0.1111111111111111, \"#46039f\"], [0.2222222222222222, \"#7201a8\"], [0.3333333333333333, \"#9c179e\"], [0.4444444444444444, \"#bd3786\"], [0.5555555555555556, \"#d8576b\"], [0.6666666666666666, \"#ed7953\"], [0.7777777777777778, \"#fb9f3a\"], [0.8888888888888888, \"#fdca26\"], [1.0, \"#f0f921\"]], \"type\": \"surface\"}], \"table\": [{\"cells\": {\"fill\": {\"color\": \"#EBF0F8\"}, \"line\": {\"color\": \"white\"}}, \"header\": {\"fill\": {\"color\": \"#C8D4E3\"}, \"line\": {\"color\": \"white\"}}, \"type\": \"table\"}]}, \"layout\": {\"annotationdefaults\": {\"arrowcolor\": \"#2a3f5f\", \"arrowhead\": 0, \"arrowwidth\": 1}, \"coloraxis\": {\"colorbar\": {\"outlinewidth\": 0, \"ticks\": \"\"}}, \"colorscale\": {\"diverging\": [[0, \"#8e0152\"], [0.1, \"#c51b7d\"], [0.2, \"#de77ae\"], [0.3, \"#f1b6da\"], [0.4, \"#fde0ef\"], [0.5, \"#f7f7f7\"], [0.6, \"#e6f5d0\"], [0.7, \"#b8e186\"], [0.8, \"#7fbc41\"], [0.9, \"#4d9221\"], [1, \"#276419\"]], \"sequential\": [[0.0, \"#0d0887\"], [0.1111111111111111, \"#46039f\"], [0.2222222222222222, \"#7201a8\"], [0.3333333333333333, \"#9c179e\"], [0.4444444444444444, \"#bd3786\"], [0.5555555555555556, \"#d8576b\"], [0.6666666666666666, \"#ed7953\"], [0.7777777777777778, \"#fb9f3a\"], [0.8888888888888888, \"#fdca26\"], [1.0, \"#f0f921\"]], \"sequentialminus\": [[0.0, \"#0d0887\"], [0.1111111111111111, \"#46039f\"], [0.2222222222222222, \"#7201a8\"], [0.3333333333333333, \"#9c179e\"], [0.4444444444444444, \"#bd3786\"], [0.5555555555555556, \"#d8576b\"], [0.6666666666666666, \"#ed7953\"], [0.7777777777777778, \"#fb9f3a\"], [0.8888888888888888, \"#fdca26\"], [1.0, \"#f0f921\"]]}, \"colorway\": [\"#636efa\", \"#EF553B\", \"#00cc96\", \"#ab63fa\", \"#FFA15A\", \"#19d3f3\", \"#FF6692\", \"#B6E880\", \"#FF97FF\", \"#FECB52\"], \"font\": {\"color\": \"#2a3f5f\"}, \"geo\": {\"bgcolor\": \"white\", \"lakecolor\": \"white\", \"landcolor\": \"#E5ECF6\", \"showlakes\": true, \"showland\": true, \"subunitcolor\": \"white\"}, \"hoverlabel\": {\"align\": \"left\"}, \"hovermode\": \"closest\", \"mapbox\": {\"style\": \"light\"}, \"paper_bgcolor\": \"white\", \"plot_bgcolor\": \"#E5ECF6\", \"polar\": {\"angularaxis\": {\"gridcolor\": \"white\", \"linecolor\": \"white\", \"ticks\": \"\"}, \"bgcolor\": \"#E5ECF6\", \"radialaxis\": {\"gridcolor\": \"white\", \"linecolor\": \"white\", \"ticks\": \"\"}}, \"scene\": {\"xaxis\": {\"backgroundcolor\": \"#E5ECF6\", \"gridcolor\": \"white\", \"gridwidth\": 2, \"linecolor\": \"white\", \"showbackground\": true, \"ticks\": \"\", \"zerolinecolor\": \"white\"}, \"yaxis\": {\"backgroundcolor\": \"#E5ECF6\", \"gridcolor\": \"white\", \"gridwidth\": 2, \"linecolor\": \"white\", \"showbackground\": true, \"ticks\": \"\", \"zerolinecolor\": \"white\"}, \"zaxis\": {\"backgroundcolor\": \"#E5ECF6\", \"gridcolor\": \"white\", \"gridwidth\": 2, \"linecolor\": \"white\", \"showbackground\": true, \"ticks\": \"\", \"zerolinecolor\": \"white\"}}, \"shapedefaults\": {\"line\": {\"color\": \"#2a3f5f\"}}, \"ternary\": {\"aaxis\": {\"gridcolor\": \"white\", \"linecolor\": \"white\", \"ticks\": \"\"}, \"baxis\": {\"gridcolor\": \"white\", \"linecolor\": \"white\", \"ticks\": \"\"}, \"bgcolor\": \"#E5ECF6\", \"caxis\": {\"gridcolor\": \"white\", \"linecolor\": \"white\", \"ticks\": \"\"}}, \"title\": {\"x\": 0.05}, \"xaxis\": {\"automargin\": true, \"gridcolor\": \"white\", \"linecolor\": \"white\", \"ticks\": \"\", \"title\": {\"standoff\": 15}, \"zerolinecolor\": \"white\", \"zerolinewidth\": 2}, \"yaxis\": {\"automargin\": true, \"gridcolor\": \"white\", \"linecolor\": \"white\", \"ticks\": \"\", \"title\": {\"standoff\": 15}, \"zerolinecolor\": \"white\", \"zerolinewidth\": 2}}}, \"title\": {\"text\": \"Scores de TREINO/TESTE dos regressores na base de pessoas agrupadas (mes, ano, tipo_veiculo).\"}},\n",
              "                        {\"responsive\": true}\n",
              "                    ).then(function(){\n",
              "                            \n",
              "var gd = document.getElementById('f366a3c9-1583-44b9-8893-88b76f53ccd4');\n",
              "var x = new MutationObserver(function (mutations, observer) {{\n",
              "        var display = window.getComputedStyle(gd).display;\n",
              "        if (!display || display === 'none') {{\n",
              "            console.log([gd, 'removed!']);\n",
              "            Plotly.purge(gd);\n",
              "            observer.disconnect();\n",
              "        }}\n",
              "}});\n",
              "\n",
              "// Listen for the removal of the full notebook cells\n",
              "var notebookContainer = gd.closest('#notebook-container');\n",
              "if (notebookContainer) {{\n",
              "    x.observe(notebookContainer, {childList: true});\n",
              "}}\n",
              "\n",
              "// Listen for the clearing of the current output cell\n",
              "var outputEl = gd.closest('.output');\n",
              "if (outputEl) {{\n",
              "    x.observe(outputEl, {childList: true});\n",
              "}}\n",
              "\n",
              "                        })\n",
              "                };\n",
              "                \n",
              "            </script>\n",
              "        </div>\n",
              "</body>\n",
              "</html>"
            ]
          },
          "metadata": {
            "tags": []
          }
        }
      ]
    },
    {
      "cell_type": "code",
      "metadata": {
        "id": "4Bh1-MZ_eofG",
        "outputId": "0d774917-fd51-4567-f606-6cffb0ca63cf",
        "colab": {
          "base_uri": "https://localhost:8080/"
        }
      },
      "source": [
        "px.bar(x=regressores, y=maes, color=maes , title='ERRO MÉDIO ABSOLUTO dos regressores na base de pessoas agrupadas (mes, ano, sexo).')"
      ],
      "execution_count": null,
      "outputs": [
        {
          "output_type": "display_data",
          "data": {
            "text/html": [
              "<html>\n",
              "<head><meta charset=\"utf-8\" /></head>\n",
              "<body>\n",
              "    <div>\n",
              "            <script src=\"https://cdnjs.cloudflare.com/ajax/libs/mathjax/2.7.5/MathJax.js?config=TeX-AMS-MML_SVG\"></script><script type=\"text/javascript\">if (window.MathJax) {MathJax.Hub.Config({SVG: {font: \"STIX-Web\"}});}</script>\n",
              "                <script type=\"text/javascript\">window.PlotlyConfig = {MathJaxConfig: 'local'};</script>\n",
              "        <script src=\"https://cdn.plot.ly/plotly-latest.min.js\"></script>    \n",
              "            <div id=\"eec28f56-b482-415b-8adf-ae58ac511c87\" class=\"plotly-graph-div\" style=\"height:525px; width:100%;\"></div>\n",
              "            <script type=\"text/javascript\">\n",
              "                \n",
              "                    window.PLOTLYENV=window.PLOTLYENV || {};\n",
              "                    \n",
              "                if (document.getElementById(\"eec28f56-b482-415b-8adf-ae58ac511c87\")) {\n",
              "                    Plotly.newPlot(\n",
              "                        'eec28f56-b482-415b-8adf-ae58ac511c87',\n",
              "                        [{\"alignmentgroup\": \"True\", \"hoverlabel\": {\"namelength\": 0}, \"hovertemplate\": \"x=%{x}<br>y=%{y}<br>color=%{marker.color}\", \"legendgroup\": \"\", \"marker\": {\"color\": [219.022049395509, 224.59950523540502, 31.161490683229808, 27.907978977544197, 220.68860543432515, 145.47214524605832], \"coloraxis\": \"coloraxis\"}, \"name\": \"\", \"offsetgroup\": \"\", \"orientation\": \"v\", \"showlegend\": false, \"textposition\": \"auto\", \"type\": \"bar\", \"x\": [\"Linear\", \"Polinomial\", \"Decision Tree\", \"Random Forest\", \"MLP\", \"KNN\"], \"xaxis\": \"x\", \"y\": [219.022049395509, 224.59950523540502, 31.161490683229808, 27.907978977544197, 220.68860543432515, 145.47214524605832], \"yaxis\": \"y\"}],\n",
              "                        {\"barmode\": \"relative\", \"coloraxis\": {\"colorbar\": {\"title\": {\"text\": \"color\"}}, \"colorscale\": [[0.0, \"#0d0887\"], [0.1111111111111111, \"#46039f\"], [0.2222222222222222, \"#7201a8\"], [0.3333333333333333, \"#9c179e\"], [0.4444444444444444, \"#bd3786\"], [0.5555555555555556, \"#d8576b\"], [0.6666666666666666, \"#ed7953\"], [0.7777777777777778, \"#fb9f3a\"], [0.8888888888888888, \"#fdca26\"], [1.0, \"#f0f921\"]]}, \"legend\": {\"tracegroupgap\": 0}, \"template\": {\"data\": {\"bar\": [{\"error_x\": {\"color\": \"#2a3f5f\"}, \"error_y\": {\"color\": \"#2a3f5f\"}, \"marker\": {\"line\": {\"color\": \"#E5ECF6\", \"width\": 0.5}}, \"type\": \"bar\"}], \"barpolar\": [{\"marker\": {\"line\": {\"color\": \"#E5ECF6\", \"width\": 0.5}}, \"type\": \"barpolar\"}], \"carpet\": [{\"aaxis\": {\"endlinecolor\": \"#2a3f5f\", \"gridcolor\": \"white\", \"linecolor\": \"white\", \"minorgridcolor\": \"white\", \"startlinecolor\": \"#2a3f5f\"}, \"baxis\": {\"endlinecolor\": \"#2a3f5f\", \"gridcolor\": \"white\", \"linecolor\": \"white\", \"minorgridcolor\": \"white\", \"startlinecolor\": \"#2a3f5f\"}, \"type\": \"carpet\"}], \"choropleth\": [{\"colorbar\": {\"outlinewidth\": 0, \"ticks\": \"\"}, \"type\": \"choropleth\"}], \"contour\": [{\"colorbar\": {\"outlinewidth\": 0, \"ticks\": \"\"}, \"colorscale\": [[0.0, \"#0d0887\"], [0.1111111111111111, \"#46039f\"], [0.2222222222222222, \"#7201a8\"], [0.3333333333333333, \"#9c179e\"], [0.4444444444444444, \"#bd3786\"], [0.5555555555555556, \"#d8576b\"], [0.6666666666666666, \"#ed7953\"], [0.7777777777777778, \"#fb9f3a\"], [0.8888888888888888, \"#fdca26\"], [1.0, \"#f0f921\"]], \"type\": \"contour\"}], \"contourcarpet\": [{\"colorbar\": {\"outlinewidth\": 0, \"ticks\": \"\"}, \"type\": \"contourcarpet\"}], \"heatmap\": [{\"colorbar\": {\"outlinewidth\": 0, \"ticks\": \"\"}, \"colorscale\": [[0.0, \"#0d0887\"], [0.1111111111111111, \"#46039f\"], [0.2222222222222222, \"#7201a8\"], [0.3333333333333333, \"#9c179e\"], [0.4444444444444444, \"#bd3786\"], [0.5555555555555556, \"#d8576b\"], [0.6666666666666666, \"#ed7953\"], [0.7777777777777778, \"#fb9f3a\"], [0.8888888888888888, \"#fdca26\"], [1.0, \"#f0f921\"]], \"type\": \"heatmap\"}], \"heatmapgl\": [{\"colorbar\": {\"outlinewidth\": 0, \"ticks\": \"\"}, \"colorscale\": [[0.0, \"#0d0887\"], [0.1111111111111111, \"#46039f\"], [0.2222222222222222, \"#7201a8\"], [0.3333333333333333, \"#9c179e\"], [0.4444444444444444, \"#bd3786\"], [0.5555555555555556, \"#d8576b\"], [0.6666666666666666, \"#ed7953\"], [0.7777777777777778, \"#fb9f3a\"], [0.8888888888888888, \"#fdca26\"], [1.0, \"#f0f921\"]], \"type\": \"heatmapgl\"}], \"histogram\": [{\"marker\": {\"colorbar\": {\"outlinewidth\": 0, \"ticks\": \"\"}}, \"type\": \"histogram\"}], \"histogram2d\": [{\"colorbar\": {\"outlinewidth\": 0, \"ticks\": \"\"}, \"colorscale\": [[0.0, \"#0d0887\"], [0.1111111111111111, \"#46039f\"], [0.2222222222222222, \"#7201a8\"], [0.3333333333333333, \"#9c179e\"], [0.4444444444444444, \"#bd3786\"], [0.5555555555555556, \"#d8576b\"], [0.6666666666666666, \"#ed7953\"], [0.7777777777777778, \"#fb9f3a\"], [0.8888888888888888, \"#fdca26\"], [1.0, \"#f0f921\"]], \"type\": \"histogram2d\"}], \"histogram2dcontour\": [{\"colorbar\": {\"outlinewidth\": 0, \"ticks\": \"\"}, \"colorscale\": [[0.0, \"#0d0887\"], [0.1111111111111111, \"#46039f\"], [0.2222222222222222, \"#7201a8\"], [0.3333333333333333, \"#9c179e\"], [0.4444444444444444, \"#bd3786\"], [0.5555555555555556, \"#d8576b\"], [0.6666666666666666, \"#ed7953\"], [0.7777777777777778, \"#fb9f3a\"], [0.8888888888888888, \"#fdca26\"], [1.0, \"#f0f921\"]], \"type\": \"histogram2dcontour\"}], \"mesh3d\": [{\"colorbar\": {\"outlinewidth\": 0, \"ticks\": \"\"}, \"type\": \"mesh3d\"}], \"parcoords\": [{\"line\": {\"colorbar\": {\"outlinewidth\": 0, \"ticks\": \"\"}}, \"type\": \"parcoords\"}], \"pie\": [{\"automargin\": true, \"type\": \"pie\"}], \"scatter\": [{\"marker\": {\"colorbar\": {\"outlinewidth\": 0, \"ticks\": \"\"}}, \"type\": \"scatter\"}], \"scatter3d\": [{\"line\": {\"colorbar\": {\"outlinewidth\": 0, \"ticks\": \"\"}}, \"marker\": {\"colorbar\": {\"outlinewidth\": 0, \"ticks\": \"\"}}, \"type\": \"scatter3d\"}], \"scattercarpet\": [{\"marker\": {\"colorbar\": {\"outlinewidth\": 0, \"ticks\": \"\"}}, \"type\": \"scattercarpet\"}], \"scattergeo\": [{\"marker\": {\"colorbar\": {\"outlinewidth\": 0, \"ticks\": \"\"}}, \"type\": \"scattergeo\"}], \"scattergl\": [{\"marker\": {\"colorbar\": {\"outlinewidth\": 0, \"ticks\": \"\"}}, \"type\": \"scattergl\"}], \"scattermapbox\": [{\"marker\": {\"colorbar\": {\"outlinewidth\": 0, \"ticks\": \"\"}}, \"type\": \"scattermapbox\"}], \"scatterpolar\": [{\"marker\": {\"colorbar\": {\"outlinewidth\": 0, \"ticks\": \"\"}}, \"type\": \"scatterpolar\"}], \"scatterpolargl\": [{\"marker\": {\"colorbar\": {\"outlinewidth\": 0, \"ticks\": \"\"}}, \"type\": \"scatterpolargl\"}], \"scatterternary\": [{\"marker\": {\"colorbar\": {\"outlinewidth\": 0, \"ticks\": \"\"}}, \"type\": \"scatterternary\"}], \"surface\": [{\"colorbar\": {\"outlinewidth\": 0, \"ticks\": \"\"}, \"colorscale\": [[0.0, \"#0d0887\"], [0.1111111111111111, \"#46039f\"], [0.2222222222222222, \"#7201a8\"], [0.3333333333333333, \"#9c179e\"], [0.4444444444444444, \"#bd3786\"], [0.5555555555555556, \"#d8576b\"], [0.6666666666666666, \"#ed7953\"], [0.7777777777777778, \"#fb9f3a\"], [0.8888888888888888, \"#fdca26\"], [1.0, \"#f0f921\"]], \"type\": \"surface\"}], \"table\": [{\"cells\": {\"fill\": {\"color\": \"#EBF0F8\"}, \"line\": {\"color\": \"white\"}}, \"header\": {\"fill\": {\"color\": \"#C8D4E3\"}, \"line\": {\"color\": \"white\"}}, \"type\": \"table\"}]}, \"layout\": {\"annotationdefaults\": {\"arrowcolor\": \"#2a3f5f\", \"arrowhead\": 0, \"arrowwidth\": 1}, \"coloraxis\": {\"colorbar\": {\"outlinewidth\": 0, \"ticks\": \"\"}}, \"colorscale\": {\"diverging\": [[0, \"#8e0152\"], [0.1, \"#c51b7d\"], [0.2, \"#de77ae\"], [0.3, \"#f1b6da\"], [0.4, \"#fde0ef\"], [0.5, \"#f7f7f7\"], [0.6, \"#e6f5d0\"], [0.7, \"#b8e186\"], [0.8, \"#7fbc41\"], [0.9, \"#4d9221\"], [1, \"#276419\"]], \"sequential\": [[0.0, \"#0d0887\"], [0.1111111111111111, \"#46039f\"], [0.2222222222222222, \"#7201a8\"], [0.3333333333333333, \"#9c179e\"], [0.4444444444444444, \"#bd3786\"], [0.5555555555555556, \"#d8576b\"], [0.6666666666666666, \"#ed7953\"], [0.7777777777777778, \"#fb9f3a\"], [0.8888888888888888, \"#fdca26\"], [1.0, \"#f0f921\"]], \"sequentialminus\": [[0.0, \"#0d0887\"], [0.1111111111111111, \"#46039f\"], [0.2222222222222222, \"#7201a8\"], [0.3333333333333333, \"#9c179e\"], [0.4444444444444444, \"#bd3786\"], [0.5555555555555556, \"#d8576b\"], [0.6666666666666666, \"#ed7953\"], [0.7777777777777778, \"#fb9f3a\"], [0.8888888888888888, \"#fdca26\"], [1.0, \"#f0f921\"]]}, \"colorway\": [\"#636efa\", \"#EF553B\", \"#00cc96\", \"#ab63fa\", \"#FFA15A\", \"#19d3f3\", \"#FF6692\", \"#B6E880\", \"#FF97FF\", \"#FECB52\"], \"font\": {\"color\": \"#2a3f5f\"}, \"geo\": {\"bgcolor\": \"white\", \"lakecolor\": \"white\", \"landcolor\": \"#E5ECF6\", \"showlakes\": true, \"showland\": true, \"subunitcolor\": \"white\"}, \"hoverlabel\": {\"align\": \"left\"}, \"hovermode\": \"closest\", \"mapbox\": {\"style\": \"light\"}, \"paper_bgcolor\": \"white\", \"plot_bgcolor\": \"#E5ECF6\", \"polar\": {\"angularaxis\": {\"gridcolor\": \"white\", \"linecolor\": \"white\", \"ticks\": \"\"}, \"bgcolor\": \"#E5ECF6\", \"radialaxis\": {\"gridcolor\": \"white\", \"linecolor\": \"white\", \"ticks\": \"\"}}, \"scene\": {\"xaxis\": {\"backgroundcolor\": \"#E5ECF6\", \"gridcolor\": \"white\", \"gridwidth\": 2, \"linecolor\": \"white\", \"showbackground\": true, \"ticks\": \"\", \"zerolinecolor\": \"white\"}, \"yaxis\": {\"backgroundcolor\": \"#E5ECF6\", \"gridcolor\": \"white\", \"gridwidth\": 2, \"linecolor\": \"white\", \"showbackground\": true, \"ticks\": \"\", \"zerolinecolor\": \"white\"}, \"zaxis\": {\"backgroundcolor\": \"#E5ECF6\", \"gridcolor\": \"white\", \"gridwidth\": 2, \"linecolor\": \"white\", \"showbackground\": true, \"ticks\": \"\", \"zerolinecolor\": \"white\"}}, \"shapedefaults\": {\"line\": {\"color\": \"#2a3f5f\"}}, \"ternary\": {\"aaxis\": {\"gridcolor\": \"white\", \"linecolor\": \"white\", \"ticks\": \"\"}, \"baxis\": {\"gridcolor\": \"white\", \"linecolor\": \"white\", \"ticks\": \"\"}, \"bgcolor\": \"#E5ECF6\", \"caxis\": {\"gridcolor\": \"white\", \"linecolor\": \"white\", \"ticks\": \"\"}}, \"title\": {\"x\": 0.05}, \"xaxis\": {\"automargin\": true, \"gridcolor\": \"white\", \"linecolor\": \"white\", \"ticks\": \"\", \"title\": {\"standoff\": 15}, \"zerolinecolor\": \"white\", \"zerolinewidth\": 2}, \"yaxis\": {\"automargin\": true, \"gridcolor\": \"white\", \"linecolor\": \"white\", \"ticks\": \"\", \"title\": {\"standoff\": 15}, \"zerolinecolor\": \"white\", \"zerolinewidth\": 2}}}, \"title\": {\"text\": \"ERRO M\\u00c9DIO ABSOLUTO dos regressores na base de pessoas agrupadas (mes, ano, sexo).\"}, \"xaxis\": {\"anchor\": \"y\", \"domain\": [0.0, 1.0], \"title\": {\"text\": \"x\"}}, \"yaxis\": {\"anchor\": \"x\", \"domain\": [0.0, 1.0], \"title\": {\"text\": \"y\"}}},\n",
              "                        {\"responsive\": true}\n",
              "                    ).then(function(){\n",
              "                            \n",
              "var gd = document.getElementById('eec28f56-b482-415b-8adf-ae58ac511c87');\n",
              "var x = new MutationObserver(function (mutations, observer) {{\n",
              "        var display = window.getComputedStyle(gd).display;\n",
              "        if (!display || display === 'none') {{\n",
              "            console.log([gd, 'removed!']);\n",
              "            Plotly.purge(gd);\n",
              "            observer.disconnect();\n",
              "        }}\n",
              "}});\n",
              "\n",
              "// Listen for the removal of the full notebook cells\n",
              "var notebookContainer = gd.closest('#notebook-container');\n",
              "if (notebookContainer) {{\n",
              "    x.observe(notebookContainer, {childList: true});\n",
              "}}\n",
              "\n",
              "// Listen for the clearing of the current output cell\n",
              "var outputEl = gd.closest('.output');\n",
              "if (outputEl) {{\n",
              "    x.observe(outputEl, {childList: true});\n",
              "}}\n",
              "\n",
              "                        })\n",
              "                };\n",
              "                \n",
              "            </script>\n",
              "        </div>\n",
              "</body>\n",
              "</html>"
            ]
          },
          "metadata": {
            "tags": []
          }
        }
      ]
    },
    {
      "cell_type": "markdown",
      "metadata": {
        "id": "gPj0MUnL503x"
      },
      "source": [
        "##### Extrapolação dos dados"
      ]
    },
    {
      "cell_type": "markdown",
      "metadata": {
        "id": "gMNQpzn-503x"
      },
      "source": [
        "###### Criando as novas amostras (X)"
      ]
    },
    {
      "cell_type": "code",
      "metadata": {
        "id": "SLXbPs-P503y",
        "outputId": "29144ea6-1d12-433a-c975-9a2d44b740f6",
        "colab": {
          "base_uri": "https://localhost:8080/"
        }
      },
      "source": [
        "import numpy as np\n",
        "monthNames = ['July', 'August', 'September', 'October', 'November', 'December'];\n",
        "ano = ['2020']\n",
        "causa_acidente = df['causa_acidente'].unique()\n",
        "\n",
        "comb  = np.array(np.meshgrid(ano, monthNames, causa_acidente)).T.reshape(-1,3)\n",
        "df_novo1 = pd.DataFrame(comb, columns=['ano', 'mes', 'causa_acidente'])\n",
        "\n",
        "monthNames = [\"January\"];\n",
        "ano = ['2021']\n",
        "\n",
        "comb  = np.array(np.meshgrid(ano, monthNames, causa_acidente)).T.reshape(-1,3)\n",
        "df_novo2 = pd.DataFrame(comb, columns=['ano', 'mes', 'causa_acidente'])\n",
        "\n",
        "df_novo = pd.concat([df_novo1, df_novo2])\n",
        "df_novo.index = [i for i in range(len(df_novo))]\n",
        "\n",
        "df_novo_concatenado = pd.concat([df, df_novo])\n",
        "\n",
        "LE = LabelEncoder()\n",
        "df_novo_concatenado['causa_acidente'] = LE.fit_transform(df_novo_concatenado['causa_acidente'])\n",
        "meses = ['January', 'February', 'March', 'April', 'May', 'June', 'July', 'August', 'September', 'October', 'November', 'December']\n",
        "for mes in meses:\n",
        "  df_novo_concatenado.loc[df_novo_concatenado.mes == mes, 'mes'] = meses.index(mes) + 1\n",
        "df_novo_concatenado.index = [i for i in range(len(df_novo_concatenado))]\n",
        "df_novo_concatenado"
      ],
      "execution_count": null,
      "outputs": [
        {
          "output_type": "execute_result",
          "data": {
            "text/html": [
              "<div>\n",
              "<style scoped>\n",
              "    .dataframe tbody tr th:only-of-type {\n",
              "        vertical-align: middle;\n",
              "    }\n",
              "\n",
              "    .dataframe tbody tr th {\n",
              "        vertical-align: top;\n",
              "    }\n",
              "\n",
              "    .dataframe thead th {\n",
              "        text-align: right;\n",
              "    }\n",
              "</style>\n",
              "<table border=\"1\" class=\"dataframe\">\n",
              "  <thead>\n",
              "    <tr style=\"text-align: right;\">\n",
              "      <th></th>\n",
              "      <th>ano</th>\n",
              "      <th>mes</th>\n",
              "      <th>causa_acidente</th>\n",
              "      <th>qtd_acidentes</th>\n",
              "      <th>qtd_ilesos</th>\n",
              "      <th>qtd_feridos_leves</th>\n",
              "      <th>qtd_feridos_graves</th>\n",
              "      <th>qtd_mortos</th>\n",
              "      <th>qtd_feridos</th>\n",
              "      <th>qtd_veiculos</th>\n",
              "    </tr>\n",
              "  </thead>\n",
              "  <tbody>\n",
              "    <tr>\n",
              "      <th>0</th>\n",
              "      <td>2017</td>\n",
              "      <td>4</td>\n",
              "      <td>1</td>\n",
              "      <td>258.0</td>\n",
              "      <td>242.0</td>\n",
              "      <td>134.0</td>\n",
              "      <td>36.0</td>\n",
              "      <td>14.0</td>\n",
              "      <td>170.0</td>\n",
              "      <td>285.0</td>\n",
              "    </tr>\n",
              "    <tr>\n",
              "      <th>1</th>\n",
              "      <td>2017</td>\n",
              "      <td>4</td>\n",
              "      <td>2</td>\n",
              "      <td>120.0</td>\n",
              "      <td>121.0</td>\n",
              "      <td>124.0</td>\n",
              "      <td>27.0</td>\n",
              "      <td>1.0</td>\n",
              "      <td>151.0</td>\n",
              "      <td>140.0</td>\n",
              "    </tr>\n",
              "    <tr>\n",
              "      <th>2</th>\n",
              "      <td>2017</td>\n",
              "      <td>4</td>\n",
              "      <td>3</td>\n",
              "      <td>42.0</td>\n",
              "      <td>47.0</td>\n",
              "      <td>17.0</td>\n",
              "      <td>3.0</td>\n",
              "      <td>0.0</td>\n",
              "      <td>20.0</td>\n",
              "      <td>60.0</td>\n",
              "    </tr>\n",
              "    <tr>\n",
              "      <th>3</th>\n",
              "      <td>2017</td>\n",
              "      <td>4</td>\n",
              "      <td>4</td>\n",
              "      <td>322.0</td>\n",
              "      <td>295.0</td>\n",
              "      <td>217.0</td>\n",
              "      <td>58.0</td>\n",
              "      <td>31.0</td>\n",
              "      <td>275.0</td>\n",
              "      <td>421.0</td>\n",
              "    </tr>\n",
              "    <tr>\n",
              "      <th>4</th>\n",
              "      <td>2017</td>\n",
              "      <td>4</td>\n",
              "      <td>5</td>\n",
              "      <td>382.0</td>\n",
              "      <td>386.0</td>\n",
              "      <td>261.0</td>\n",
              "      <td>67.0</td>\n",
              "      <td>7.0</td>\n",
              "      <td>328.0</td>\n",
              "      <td>503.0</td>\n",
              "    </tr>\n",
              "    <tr>\n",
              "      <th>...</th>\n",
              "      <td>...</td>\n",
              "      <td>...</td>\n",
              "      <td>...</td>\n",
              "      <td>...</td>\n",
              "      <td>...</td>\n",
              "      <td>...</td>\n",
              "      <td>...</td>\n",
              "      <td>...</td>\n",
              "      <td>...</td>\n",
              "      <td>...</td>\n",
              "    </tr>\n",
              "    <tr>\n",
              "      <th>1157</th>\n",
              "      <td>2021</td>\n",
              "      <td>1</td>\n",
              "      <td>22</td>\n",
              "      <td>NaN</td>\n",
              "      <td>NaN</td>\n",
              "      <td>NaN</td>\n",
              "      <td>NaN</td>\n",
              "      <td>NaN</td>\n",
              "      <td>NaN</td>\n",
              "      <td>NaN</td>\n",
              "    </tr>\n",
              "    <tr>\n",
              "      <th>1158</th>\n",
              "      <td>2021</td>\n",
              "      <td>1</td>\n",
              "      <td>23</td>\n",
              "      <td>NaN</td>\n",
              "      <td>NaN</td>\n",
              "      <td>NaN</td>\n",
              "      <td>NaN</td>\n",
              "      <td>NaN</td>\n",
              "      <td>NaN</td>\n",
              "      <td>NaN</td>\n",
              "    </tr>\n",
              "    <tr>\n",
              "      <th>1159</th>\n",
              "      <td>2021</td>\n",
              "      <td>1</td>\n",
              "      <td>0</td>\n",
              "      <td>NaN</td>\n",
              "      <td>NaN</td>\n",
              "      <td>NaN</td>\n",
              "      <td>NaN</td>\n",
              "      <td>NaN</td>\n",
              "      <td>NaN</td>\n",
              "      <td>NaN</td>\n",
              "    </tr>\n",
              "    <tr>\n",
              "      <th>1160</th>\n",
              "      <td>2021</td>\n",
              "      <td>1</td>\n",
              "      <td>9</td>\n",
              "      <td>NaN</td>\n",
              "      <td>NaN</td>\n",
              "      <td>NaN</td>\n",
              "      <td>NaN</td>\n",
              "      <td>NaN</td>\n",
              "      <td>NaN</td>\n",
              "      <td>NaN</td>\n",
              "    </tr>\n",
              "    <tr>\n",
              "      <th>1161</th>\n",
              "      <td>2021</td>\n",
              "      <td>1</td>\n",
              "      <td>15</td>\n",
              "      <td>NaN</td>\n",
              "      <td>NaN</td>\n",
              "      <td>NaN</td>\n",
              "      <td>NaN</td>\n",
              "      <td>NaN</td>\n",
              "      <td>NaN</td>\n",
              "      <td>NaN</td>\n",
              "    </tr>\n",
              "  </tbody>\n",
              "</table>\n",
              "<p>1162 rows × 10 columns</p>\n",
              "</div>"
            ],
            "text/plain": [
              "       ano mes  causa_acidente  ...  qtd_mortos  qtd_feridos  qtd_veiculos\n",
              "0     2017   4               1  ...        14.0        170.0         285.0\n",
              "1     2017   4               2  ...         1.0        151.0         140.0\n",
              "2     2017   4               3  ...         0.0         20.0          60.0\n",
              "3     2017   4               4  ...        31.0        275.0         421.0\n",
              "4     2017   4               5  ...         7.0        328.0         503.0\n",
              "...    ...  ..             ...  ...         ...          ...           ...\n",
              "1157  2021   1              22  ...         NaN          NaN           NaN\n",
              "1158  2021   1              23  ...         NaN          NaN           NaN\n",
              "1159  2021   1               0  ...         NaN          NaN           NaN\n",
              "1160  2021   1               9  ...         NaN          NaN           NaN\n",
              "1161  2021   1              15  ...         NaN          NaN           NaN\n",
              "\n",
              "[1162 rows x 10 columns]"
            ]
          },
          "metadata": {
            "tags": []
          },
          "execution_count": 105
        }
      ]
    },
    {
      "cell_type": "markdown",
      "metadata": {
        "id": "5lqOe-Dn503z"
      },
      "source": [
        "###### Dividindo a base em treino e teste"
      ]
    },
    {
      "cell_type": "code",
      "metadata": {
        "id": "hLa3XixL503z"
      },
      "source": [
        "X_train = df_novo_concatenado[:len(df)][x]\n",
        "X_test = df_novo_concatenado[len(df):][x]\n",
        "Y_train = df[y]"
      ],
      "execution_count": null,
      "outputs": []
    },
    {
      "cell_type": "markdown",
      "metadata": {
        "id": "DnJV8UDl5031"
      },
      "source": [
        "###### Random Forest"
      ]
    },
    {
      "cell_type": "code",
      "metadata": {
        "id": "gQ84xzAT5032",
        "outputId": "fe0b0dde-34cc-48d1-d124-0dd77610769f",
        "colab": {
          "base_uri": "https://localhost:8080/"
        }
      },
      "source": [
        "regressor = RandomForestRegressor()\n",
        "\n",
        "regressor.fit(X_train, Y_train)\n",
        "\n",
        "previsoes = regressor.predict(X_test)\n",
        "\n",
        "previsoes = pd.DataFrame(previsoes)\n",
        "previsoes.columns = y\n",
        "\n",
        "previsoes = pd.concat([df_novo, previsoes], axis=1)\n",
        "for mes in meses:\n",
        "  previsoes.loc[previsoes.mes == mes, 'mes'] = meses.index(mes) + 1\n",
        "previsoes"
      ],
      "execution_count": null,
      "outputs": [
        {
          "output_type": "execute_result",
          "data": {
            "text/html": [
              "<div>\n",
              "<style scoped>\n",
              "    .dataframe tbody tr th:only-of-type {\n",
              "        vertical-align: middle;\n",
              "    }\n",
              "\n",
              "    .dataframe tbody tr th {\n",
              "        vertical-align: top;\n",
              "    }\n",
              "\n",
              "    .dataframe thead th {\n",
              "        text-align: right;\n",
              "    }\n",
              "</style>\n",
              "<table border=\"1\" class=\"dataframe\">\n",
              "  <thead>\n",
              "    <tr style=\"text-align: right;\">\n",
              "      <th></th>\n",
              "      <th>ano</th>\n",
              "      <th>mes</th>\n",
              "      <th>causa_acidente</th>\n",
              "      <th>qtd_acidentes</th>\n",
              "      <th>qtd_ilesos</th>\n",
              "      <th>qtd_feridos_leves</th>\n",
              "      <th>qtd_feridos_graves</th>\n",
              "      <th>qtd_mortos</th>\n",
              "      <th>qtd_feridos</th>\n",
              "      <th>qtd_veiculos</th>\n",
              "    </tr>\n",
              "  </thead>\n",
              "  <tbody>\n",
              "    <tr>\n",
              "      <th>0</th>\n",
              "      <td>2020</td>\n",
              "      <td>7</td>\n",
              "      <td>Animais na Pista</td>\n",
              "      <td>114.26</td>\n",
              "      <td>70.45</td>\n",
              "      <td>80.52</td>\n",
              "      <td>27.72</td>\n",
              "      <td>5.94</td>\n",
              "      <td>108.24</td>\n",
              "      <td>133.47</td>\n",
              "    </tr>\n",
              "    <tr>\n",
              "      <th>1</th>\n",
              "      <td>2020</td>\n",
              "      <td>8</td>\n",
              "      <td>Animais na Pista</td>\n",
              "      <td>114.83</td>\n",
              "      <td>70.96</td>\n",
              "      <td>80.53</td>\n",
              "      <td>27.89</td>\n",
              "      <td>5.93</td>\n",
              "      <td>108.42</td>\n",
              "      <td>134.09</td>\n",
              "    </tr>\n",
              "    <tr>\n",
              "      <th>2</th>\n",
              "      <td>2020</td>\n",
              "      <td>9</td>\n",
              "      <td>Animais na Pista</td>\n",
              "      <td>115.98</td>\n",
              "      <td>70.76</td>\n",
              "      <td>88.11</td>\n",
              "      <td>28.26</td>\n",
              "      <td>5.39</td>\n",
              "      <td>116.37</td>\n",
              "      <td>135.75</td>\n",
              "    </tr>\n",
              "    <tr>\n",
              "      <th>3</th>\n",
              "      <td>2020</td>\n",
              "      <td>10</td>\n",
              "      <td>Animais na Pista</td>\n",
              "      <td>116.26</td>\n",
              "      <td>67.77</td>\n",
              "      <td>85.34</td>\n",
              "      <td>29.43</td>\n",
              "      <td>5.33</td>\n",
              "      <td>114.77</td>\n",
              "      <td>134.11</td>\n",
              "    </tr>\n",
              "    <tr>\n",
              "      <th>4</th>\n",
              "      <td>2020</td>\n",
              "      <td>11</td>\n",
              "      <td>Animais na Pista</td>\n",
              "      <td>114.09</td>\n",
              "      <td>69.98</td>\n",
              "      <td>84.28</td>\n",
              "      <td>26.94</td>\n",
              "      <td>5.93</td>\n",
              "      <td>111.22</td>\n",
              "      <td>131.88</td>\n",
              "    </tr>\n",
              "    <tr>\n",
              "      <th>...</th>\n",
              "      <td>...</td>\n",
              "      <td>...</td>\n",
              "      <td>...</td>\n",
              "      <td>...</td>\n",
              "      <td>...</td>\n",
              "      <td>...</td>\n",
              "      <td>...</td>\n",
              "      <td>...</td>\n",
              "      <td>...</td>\n",
              "      <td>...</td>\n",
              "    </tr>\n",
              "    <tr>\n",
              "      <th>163</th>\n",
              "      <td>2021</td>\n",
              "      <td>1</td>\n",
              "      <td>Ultrapassagem Indevida</td>\n",
              "      <td>96.14</td>\n",
              "      <td>115.46</td>\n",
              "      <td>111.71</td>\n",
              "      <td>54.84</td>\n",
              "      <td>19.51</td>\n",
              "      <td>166.55</td>\n",
              "      <td>192.63</td>\n",
              "    </tr>\n",
              "    <tr>\n",
              "      <th>164</th>\n",
              "      <td>2021</td>\n",
              "      <td>1</td>\n",
              "      <td>Velocidade Incompatível</td>\n",
              "      <td>556.27</td>\n",
              "      <td>423.50</td>\n",
              "      <td>588.66</td>\n",
              "      <td>154.50</td>\n",
              "      <td>56.41</td>\n",
              "      <td>743.16</td>\n",
              "      <td>763.06</td>\n",
              "    </tr>\n",
              "    <tr>\n",
              "      <th>165</th>\n",
              "      <td>2021</td>\n",
              "      <td>1</td>\n",
              "      <td>Agressão Externa</td>\n",
              "      <td>38.48</td>\n",
              "      <td>31.52</td>\n",
              "      <td>30.88</td>\n",
              "      <td>6.49</td>\n",
              "      <td>3.10</td>\n",
              "      <td>37.37</td>\n",
              "      <td>49.67</td>\n",
              "    </tr>\n",
              "    <tr>\n",
              "      <th>166</th>\n",
              "      <td>2021</td>\n",
              "      <td>1</td>\n",
              "      <td>Desobediência às normas de trânsito pelo pedestre</td>\n",
              "      <td>26.03</td>\n",
              "      <td>24.80</td>\n",
              "      <td>13.13</td>\n",
              "      <td>7.68</td>\n",
              "      <td>9.36</td>\n",
              "      <td>20.81</td>\n",
              "      <td>31.46</td>\n",
              "    </tr>\n",
              "    <tr>\n",
              "      <th>167</th>\n",
              "      <td>2021</td>\n",
              "      <td>1</td>\n",
              "      <td>Ingestão de álcool e/ou substâncias psicoativa...</td>\n",
              "      <td>23.85</td>\n",
              "      <td>18.47</td>\n",
              "      <td>16.65</td>\n",
              "      <td>12.02</td>\n",
              "      <td>0.68</td>\n",
              "      <td>28.67</td>\n",
              "      <td>31.49</td>\n",
              "    </tr>\n",
              "  </tbody>\n",
              "</table>\n",
              "<p>168 rows × 10 columns</p>\n",
              "</div>"
            ],
            "text/plain": [
              "      ano mes  ... qtd_feridos  qtd_veiculos\n",
              "0    2020   7  ...      108.24        133.47\n",
              "1    2020   8  ...      108.42        134.09\n",
              "2    2020   9  ...      116.37        135.75\n",
              "3    2020  10  ...      114.77        134.11\n",
              "4    2020  11  ...      111.22        131.88\n",
              "..    ...  ..  ...         ...           ...\n",
              "163  2021   1  ...      166.55        192.63\n",
              "164  2021   1  ...      743.16        763.06\n",
              "165  2021   1  ...       37.37         49.67\n",
              "166  2021   1  ...       20.81         31.46\n",
              "167  2021   1  ...       28.67         31.49\n",
              "\n",
              "[168 rows x 10 columns]"
            ]
          },
          "metadata": {
            "tags": []
          },
          "execution_count": 107
        }
      ]
    },
    {
      "cell_type": "markdown",
      "metadata": {
        "id": "MYx2Oi7D5034"
      },
      "source": [
        "##### Plot Extrapolação"
      ]
    },
    {
      "cell_type": "code",
      "metadata": {
        "id": "fN1fPKYn5034"
      },
      "source": [
        "def cria_data_plot(attr):\n",
        "  data_plot = list()\n",
        "  for causa_acidente in df_plot.causa_acidente.unique():\n",
        "    data = df_plot[df_plot.causa_acidente == causa_acidente]\n",
        "    data_plot.append(go.Line(name=(causa_acidente + '- Real'), x=data.mes.values, y=data[attr].values))\n",
        "\n",
        "  for causa_acidente in previsoes.causa_acidente.unique():\n",
        "    data = previsoes[(previsoes.causa_acidente == causa_acidente) & (previsoes.ano == '2020')]\n",
        "    data_plot.append(go.Line(name=(causa_acidente + '- Previsto'), x=data.mes.values, y=data[attr].values))\n",
        "  return data_plot"
      ],
      "execution_count": null,
      "outputs": []
    },
    {
      "cell_type": "code",
      "metadata": {
        "id": "jDfpWKVf5036"
      },
      "source": [
        "df_novo_concatenado['causa_acidente'] = LE.inverse_transform(df_novo_concatenado['causa_acidente'])\n",
        "\n",
        "df_plot = df_novo_concatenado[:len(df)][df_novo_concatenado[:len(df)]['ano'] == '2020']\n",
        "df_plot = df_plot.sort_values('mes')"
      ],
      "execution_count": null,
      "outputs": []
    },
    {
      "cell_type": "markdown",
      "metadata": {
        "id": "nA_xvUVA5037"
      },
      "source": [
        "##### Quantidade de Acidentes"
      ]
    },
    {
      "cell_type": "code",
      "metadata": {
        "id": "bXOHH_Nl5038",
        "outputId": "a9857d59-331d-422a-86d5-09f71d2cafd4",
        "colab": {
          "base_uri": "https://localhost:8080/"
        }
      },
      "source": [
        "data_plot = cria_data_plot('qtd_acidentes')\n",
        "fig = go.Figure(data=data_plot)\n",
        "fig.update_layout(title_text='Quantidade de acidentes, por mês, em 2020 em cada causa de acidente- Dados reais e previstos')\n",
        "fig.show()"
      ],
      "execution_count": null,
      "outputs": [
        {
          "output_type": "stream",
          "text": [
            "/usr/local/lib/python3.6/dist-packages/plotly/graph_objs/_deprecations.py:385: DeprecationWarning:\n",
            "\n",
            "plotly.graph_objs.Line is deprecated.\n",
            "Please replace it with one of the following more specific types\n",
            "  - plotly.graph_objs.scatter.Line\n",
            "  - plotly.graph_objs.layout.shape.Line\n",
            "  - etc.\n",
            "\n",
            "\n"
          ],
          "name": "stderr"
        },
        {
          "output_type": "display_data",
          "data": {
            "text/html": [
              "<html>\n",
              "<head><meta charset=\"utf-8\" /></head>\n",
              "<body>\n",
              "    <div>\n",
              "            <script src=\"https://cdnjs.cloudflare.com/ajax/libs/mathjax/2.7.5/MathJax.js?config=TeX-AMS-MML_SVG\"></script><script type=\"text/javascript\">if (window.MathJax) {MathJax.Hub.Config({SVG: {font: \"STIX-Web\"}});}</script>\n",
              "                <script type=\"text/javascript\">window.PlotlyConfig = {MathJaxConfig: 'local'};</script>\n",
              "        <script src=\"https://cdn.plot.ly/plotly-latest.min.js\"></script>    \n",
              "            <div id=\"5f4e99cf-cfc2-428d-b3ec-18f22d2616be\" class=\"plotly-graph-div\" style=\"height:525px; width:100%;\"></div>\n",
              "            <script type=\"text/javascript\">\n",
              "                \n",
              "                    window.PLOTLYENV=window.PLOTLYENV || {};\n",
              "                    \n",
              "                if (document.getElementById(\"5f4e99cf-cfc2-428d-b3ec-18f22d2616be\")) {\n",
              "                    Plotly.newPlot(\n",
              "                        '5f4e99cf-cfc2-428d-b3ec-18f22d2616be',\n",
              "                        [{\"name\": \"Falta de Aten\\u00e7\\u00e3o do Pedestre- Real\", \"type\": \"scatter\", \"x\": [1, 2, 3, 4, 5, 6, 7], \"y\": [148.0, 138.0, 154.0, 134.0, 123.0, 131.0, 131.0]}, {\"name\": \"Agress\\u00e3o Externa- Real\", \"type\": \"scatter\", \"x\": [1, 2, 3, 4, 5, 6, 7], \"y\": [44.0, 24.0, 28.0, 16.0, 25.0, 26.0, 30.0]}, {\"name\": \"Animais na Pista- Real\", \"type\": \"scatter\", \"x\": [1, 2, 3, 4, 5, 6, 7], \"y\": [126.0, 134.0, 129.0, 111.0, 97.0, 115.0, 113.0]}, {\"name\": \"Avarias e/ou desgaste excessivo no pneu- Real\", \"type\": \"scatter\", \"x\": [1, 2, 3, 4, 5, 6, 7], \"y\": [91.0, 88.0, 82.0, 66.0, 61.0, 66.0, 48.0]}, {\"name\": \"Carga excessiva e/ou mal acondicionada- Real\", \"type\": \"scatter\", \"x\": [1, 2, 3, 4, 5, 6, 7], \"y\": [26.0, 24.0, 28.0, 20.0, 29.0, 28.0, 31.0]}, {\"name\": \"Condutor Dormindo- Real\", \"type\": \"scatter\", \"x\": [1, 2, 3, 4, 5, 6, 7], \"y\": [229.0, 221.0, 167.0, 118.0, 128.0, 124.0, 158.0]}, {\"name\": \"Defeito Mec\\u00e2nico no Ve\\u00edculo- Real\", \"type\": \"scatter\", \"x\": [1, 2, 3, 4, 5, 6, 7], \"y\": [333.0, 314.0, 296.0, 221.0, 275.0, 292.0, 327.0]}, {\"name\": \"Defeito na Via- Real\", \"type\": \"scatter\", \"x\": [1, 2, 3, 4, 5, 6, 7], \"y\": [85.0, 105.0, 116.0, 80.0, 101.0, 67.0, 76.0]}, {\"name\": \"Defici\\u00eancia ou n\\u00e3o Acionamento do Sistema de Ilumina\\u00e7\\u00e3o/Sinaliza\\u00e7\\u00e3o do Ve\\u00edculo- Real\", \"type\": \"scatter\", \"x\": [1, 2, 3, 4, 5, 6, 7], \"y\": [10.0, 7.0, 13.0, 20.0, 17.0, 14.0, 16.0]}, {\"name\": \"Desobedi\\u00eancia \\u00e0s normas de tr\\u00e2nsito pelo condutor- Real\", \"type\": \"scatter\", \"x\": [1, 2, 3, 4, 5, 6, 7], \"y\": [651.0, 677.0, 645.0, 560.0, 638.0, 637.0, 757.0]}, {\"name\": \"Restri\\u00e7\\u00e3o de Visibilidade- Real\", \"type\": \"scatter\", \"x\": [1, 2, 3, 4, 5, 6, 7], \"y\": [36.0, 31.0, 40.0, 39.0, 39.0, 59.0, 40.0]}, {\"name\": \"Desobedi\\u00eancia \\u00e0s normas de tr\\u00e2nsito pelo pedestre- Real\", \"type\": \"scatter\", \"x\": [1, 2, 3, 4, 5, 6, 7], \"y\": [17.0, 40.0, 35.0, 24.0, 32.0, 40.0, 25.0]}, {\"name\": \"Falta de Aten\\u00e7\\u00e3o \\u00e0 Condu\\u00e7\\u00e3o- Real\", \"type\": \"scatter\", \"x\": [1, 2, 3, 4, 5, 6, 7], \"y\": [1882.0, 1812.0, 1587.0, 1282.0, 1615.0, 1705.0, 1862.0]}, {\"name\": \"Fen\\u00f4menos da Natureza- Real\", \"type\": \"scatter\", \"x\": [1, 2, 3, 4, 5, 6, 7], \"y\": [20.0, 18.0, 19.0, 11.0, 8.0, 20.0, 14.0]}, {\"name\": \"Ingest\\u00e3o de Subst\\u00e2ncias Psicoativas- Real\", \"type\": \"scatter\", \"x\": [1, 2, 3, 4, 5, 6, 7], \"y\": [6.0, 6.0, 7.0, 6.0, 12.0, 8.0, 2.0]}, {\"name\": \"Ingest\\u00e3o de \\u00c1lcool- Real\", \"type\": \"scatter\", \"x\": [1, 2, 3, 4, 5, 6, 7], \"y\": [394.0, 470.0, 356.0, 336.0, 413.0, 371.0, 394.0]}, {\"name\": \"Ingest\\u00e3o de \\u00e1lcool e/ou subst\\u00e2ncias psicoativas pelo pedestre- Real\", \"type\": \"scatter\", \"x\": [1, 2, 3, 4, 5, 6, 7], \"y\": [22.0, 37.0, 25.0, 21.0, 32.0, 35.0, 31.0]}, {\"name\": \"Mal S\\u00fabito- Real\", \"type\": \"scatter\", \"x\": [1, 2, 3, 4, 5, 6, 7], \"y\": [59.0, 43.0, 55.0, 41.0, 47.0, 48.0, 48.0]}, {\"name\": \"N\\u00e3o guardar dist\\u00e2ncia de seguran\\u00e7a- Real\", \"type\": \"scatter\", \"x\": [1, 2, 3, 4, 5, 6, 7], \"y\": [343.0, 328.0, 265.0, 161.0, 210.0, 225.0, 297.0]}, {\"name\": \"Objeto est\\u00e1tico sobre o leito carro\\u00e7\\u00e1vel- Real\", \"type\": \"scatter\", \"x\": [1, 2, 3, 4, 5, 6, 7], \"y\": [41.0, 38.0, 27.0, 35.0, 25.0, 41.0, 31.0]}, {\"name\": \"Pista Escorregadia- Real\", \"type\": \"scatter\", \"x\": [1, 2, 3, 4, 5, 6, 7], \"y\": [268.0, 271.0, 164.0, 121.0, 124.0, 127.0, 105.0]}, {\"name\": \"Ultrapassagem Indevida- Real\", \"type\": \"scatter\", \"x\": [1, 2, 3, 4, 5, 6, 7], \"y\": [81.0, 96.0, 76.0, 45.0, 77.0, 88.0, 103.0]}, {\"name\": \"Velocidade Incompat\\u00edvel- Real\", \"type\": \"scatter\", \"x\": [1, 2, 3, 4, 5, 6, 7], \"y\": [559.0, 522.0, 447.0, 374.0, 481.0, 420.0, 424.0]}, {\"name\": \"Sinaliza\\u00e7\\u00e3o da via insuficiente ou inadequada- Real\", \"type\": \"scatter\", \"x\": [1, 2, 3, 4, 5, 6, 7], \"y\": [10.0, 14.0, 14.0, 25.0, 25.0, 18.0, 23.0]}, {\"name\": \"Animais na Pista- Previsto\", \"type\": \"scatter\", \"x\": [7, 8, 9, 10, 11, 12], \"y\": [114.26, 114.83, 115.98, 116.26, 114.09, 115.99]}, {\"name\": \"Avarias e/ou desgaste excessivo no pneu- Previsto\", \"type\": \"scatter\", \"x\": [7, 8, 9, 10, 11, 12], \"y\": [54.89, 54.56, 60.62, 58.1, 56.98, 69.16]}, {\"name\": \"Carga excessiva e/ou mal acondicionada- Previsto\", \"type\": \"scatter\", \"x\": [7, 8, 9, 10, 11, 12], \"y\": [29.56, 27.79, 25.68, 29.56, 31.05, 28.55]}, {\"name\": \"Condutor Dormindo- Previsto\", \"type\": \"scatter\", \"x\": [7, 8, 9, 10, 11, 12], \"y\": [150.05, 149.9, 149.98, 150.06, 149.59, 182.95]}, {\"name\": \"Defeito Mec\\u00e2nico no Ve\\u00edculo- Previsto\", \"type\": \"scatter\", \"x\": [7, 8, 9, 10, 11, 12], \"y\": [314.11, 303.64, 316.46, 298.77, 308.25, 337.2]}, {\"name\": \"Defeito na Via- Previsto\", \"type\": \"scatter\", \"x\": [7, 8, 9, 10, 11, 12], \"y\": [78.06, 73.58, 75.06, 67.01, 69.4, 79.19]}, {\"name\": \"Defici\\u00eancia ou n\\u00e3o Acionamento do Sistema de Ilumina\\u00e7\\u00e3o/Sinaliza\\u00e7\\u00e3o do Ve\\u00edculo- Previsto\", \"type\": \"scatter\", \"x\": [7, 8, 9, 10, 11, 12], \"y\": [15.55, 18.37, 16.13, 13.83, 13.79, 13.79]}, {\"name\": \"Desobedi\\u00eancia \\u00e0s normas de tr\\u00e2nsito pelo condutor- Previsto\", \"type\": \"scatter\", \"x\": [7, 8, 9, 10, 11, 12], \"y\": [726.08, 729.1, 730.88, 723.41, 711.73, 740.85]}, {\"name\": \"Falta de Aten\\u00e7\\u00e3o do Pedestre- Previsto\", \"type\": \"scatter\", \"x\": [7, 8, 9, 10, 11, 12], \"y\": [137.22, 138.24, 135.91, 134.03, 134.27, 135.88]}, {\"name\": \"Falta de Aten\\u00e7\\u00e3o \\u00e0 Condu\\u00e7\\u00e3o- Previsto\", \"type\": \"scatter\", \"x\": [7, 8, 9, 10, 11, 12], \"y\": [1785.86, 1785.58, 1785.74, 1787.44, 1786.77, 1787.23]}, {\"name\": \"Fen\\u00f4menos da Natureza- Previsto\", \"type\": \"scatter\", \"x\": [7, 8, 9, 10, 11, 12], \"y\": [15.13, 17.04, 22.32, 22.9, 15.3, 19.04]}, {\"name\": \"Ingest\\u00e3o de Subst\\u00e2ncias Psicoativas- Previsto\", \"type\": \"scatter\", \"x\": [7, 8, 9, 10, 11, 12], \"y\": [4.25, 5.38, 5.23, 5.28, 5.82, 5.99]}, {\"name\": \"Ingest\\u00e3o de \\u00c1lcool- Previsto\", \"type\": \"scatter\", \"x\": [7, 8, 9, 10, 11, 12], \"y\": [395.19, 395.09, 418.09, 404.65, 401.56, 468.51]}, {\"name\": \"Mal S\\u00fabito- Previsto\", \"type\": \"scatter\", \"x\": [7, 8, 9, 10, 11, 12], \"y\": [49.29, 48.78, 49.34, 49.89, 49.47, 50.26]}, {\"name\": \"N\\u00e3o guardar dist\\u00e2ncia de seguran\\u00e7a- Previsto\", \"type\": \"scatter\", \"x\": [7, 8, 9, 10, 11, 12], \"y\": [264.91, 264.91, 264.91, 264.91, 264.91, 277.7]}, {\"name\": \"Objeto est\\u00e1tico sobre o leito carro\\u00e7\\u00e1vel- Previsto\", \"type\": \"scatter\", \"x\": [7, 8, 9, 10, 11, 12], \"y\": [32.79, 31.31, 29.37, 41.31, 37.56, 33.66]}, {\"name\": \"Pista Escorregadia- Previsto\", \"type\": \"scatter\", \"x\": [7, 8, 9, 10, 11, 12], \"y\": [112.37, 128.41, 145.18, 186.36, 238.45, 212.54]}, {\"name\": \"Restri\\u00e7\\u00e3o de Visibilidade- Previsto\", \"type\": \"scatter\", \"x\": [7, 8, 9, 10, 11, 12], \"y\": [44.73, 41.37, 35.47, 43.13, 35.26, 37.73]}, {\"name\": \"Sinaliza\\u00e7\\u00e3o da via insuficiente ou inadequada- Previsto\", \"type\": \"scatter\", \"x\": [7, 8, 9, 10, 11, 12], \"y\": [22.55, 22.32, 20.83, 21.11, 21.96, 21.01]}, {\"name\": \"Ultrapassagem Indevida- Previsto\", \"type\": \"scatter\", \"x\": [7, 8, 9, 10, 11, 12], \"y\": [95.86, 95.24, 94.17, 91.49, 90.65, 107.88]}, {\"name\": \"Velocidade Incompat\\u00edvel- Previsto\", \"type\": \"scatter\", \"x\": [7, 8, 9, 10, 11, 12], \"y\": [428.22, 438.14, 490.13, 522.93, 553.21, 558.62]}, {\"name\": \"Agress\\u00e3o Externa- Previsto\", \"type\": \"scatter\", \"x\": [7, 8, 9, 10, 11, 12], \"y\": [28.43, 30.08, 28.86, 29.25, 28.63, 33.68]}, {\"name\": \"Desobedi\\u00eancia \\u00e0s normas de tr\\u00e2nsito pelo pedestre- Previsto\", \"type\": \"scatter\", \"x\": [7, 8, 9, 10, 11, 12], \"y\": [29.63, 33.74, 32.92, 31.93, 33.66, 29.43]}, {\"name\": \"Ingest\\u00e3o de \\u00e1lcool e/ou subst\\u00e2ncias psicoativas pelo pedestre- Previsto\", \"type\": \"scatter\", \"x\": [7, 8, 9, 10, 11, 12], \"y\": [31.58, 32.39, 38.64, 31.08, 29.3, 42.38]}],\n",
              "                        {\"template\": {\"data\": {\"bar\": [{\"error_x\": {\"color\": \"#2a3f5f\"}, \"error_y\": {\"color\": \"#2a3f5f\"}, \"marker\": {\"line\": {\"color\": \"#E5ECF6\", \"width\": 0.5}}, \"type\": \"bar\"}], \"barpolar\": [{\"marker\": {\"line\": {\"color\": \"#E5ECF6\", \"width\": 0.5}}, \"type\": \"barpolar\"}], \"carpet\": [{\"aaxis\": {\"endlinecolor\": \"#2a3f5f\", \"gridcolor\": \"white\", \"linecolor\": \"white\", \"minorgridcolor\": \"white\", \"startlinecolor\": \"#2a3f5f\"}, \"baxis\": {\"endlinecolor\": \"#2a3f5f\", \"gridcolor\": \"white\", \"linecolor\": \"white\", \"minorgridcolor\": \"white\", \"startlinecolor\": \"#2a3f5f\"}, \"type\": \"carpet\"}], \"choropleth\": [{\"colorbar\": {\"outlinewidth\": 0, \"ticks\": \"\"}, \"type\": \"choropleth\"}], \"contour\": [{\"colorbar\": {\"outlinewidth\": 0, \"ticks\": \"\"}, \"colorscale\": [[0.0, \"#0d0887\"], [0.1111111111111111, \"#46039f\"], [0.2222222222222222, \"#7201a8\"], [0.3333333333333333, \"#9c179e\"], [0.4444444444444444, \"#bd3786\"], [0.5555555555555556, \"#d8576b\"], [0.6666666666666666, \"#ed7953\"], [0.7777777777777778, \"#fb9f3a\"], [0.8888888888888888, \"#fdca26\"], [1.0, \"#f0f921\"]], \"type\": \"contour\"}], \"contourcarpet\": [{\"colorbar\": {\"outlinewidth\": 0, \"ticks\": \"\"}, \"type\": \"contourcarpet\"}], \"heatmap\": [{\"colorbar\": {\"outlinewidth\": 0, \"ticks\": \"\"}, \"colorscale\": [[0.0, \"#0d0887\"], [0.1111111111111111, \"#46039f\"], [0.2222222222222222, \"#7201a8\"], [0.3333333333333333, \"#9c179e\"], [0.4444444444444444, \"#bd3786\"], [0.5555555555555556, \"#d8576b\"], [0.6666666666666666, \"#ed7953\"], [0.7777777777777778, \"#fb9f3a\"], [0.8888888888888888, \"#fdca26\"], [1.0, \"#f0f921\"]], \"type\": \"heatmap\"}], \"heatmapgl\": [{\"colorbar\": {\"outlinewidth\": 0, \"ticks\": \"\"}, \"colorscale\": [[0.0, \"#0d0887\"], [0.1111111111111111, \"#46039f\"], [0.2222222222222222, \"#7201a8\"], [0.3333333333333333, \"#9c179e\"], [0.4444444444444444, \"#bd3786\"], [0.5555555555555556, \"#d8576b\"], [0.6666666666666666, \"#ed7953\"], [0.7777777777777778, \"#fb9f3a\"], [0.8888888888888888, \"#fdca26\"], [1.0, \"#f0f921\"]], \"type\": \"heatmapgl\"}], \"histogram\": [{\"marker\": {\"colorbar\": {\"outlinewidth\": 0, \"ticks\": \"\"}}, \"type\": \"histogram\"}], \"histogram2d\": [{\"colorbar\": {\"outlinewidth\": 0, \"ticks\": \"\"}, \"colorscale\": [[0.0, \"#0d0887\"], [0.1111111111111111, \"#46039f\"], [0.2222222222222222, \"#7201a8\"], [0.3333333333333333, \"#9c179e\"], [0.4444444444444444, \"#bd3786\"], [0.5555555555555556, \"#d8576b\"], [0.6666666666666666, \"#ed7953\"], [0.7777777777777778, \"#fb9f3a\"], [0.8888888888888888, \"#fdca26\"], [1.0, \"#f0f921\"]], \"type\": \"histogram2d\"}], \"histogram2dcontour\": [{\"colorbar\": {\"outlinewidth\": 0, \"ticks\": \"\"}, \"colorscale\": [[0.0, \"#0d0887\"], [0.1111111111111111, \"#46039f\"], [0.2222222222222222, \"#7201a8\"], [0.3333333333333333, \"#9c179e\"], [0.4444444444444444, \"#bd3786\"], [0.5555555555555556, \"#d8576b\"], [0.6666666666666666, \"#ed7953\"], [0.7777777777777778, \"#fb9f3a\"], [0.8888888888888888, \"#fdca26\"], [1.0, \"#f0f921\"]], \"type\": \"histogram2dcontour\"}], \"mesh3d\": [{\"colorbar\": {\"outlinewidth\": 0, \"ticks\": \"\"}, \"type\": \"mesh3d\"}], \"parcoords\": [{\"line\": {\"colorbar\": {\"outlinewidth\": 0, \"ticks\": \"\"}}, \"type\": \"parcoords\"}], \"pie\": [{\"automargin\": true, \"type\": \"pie\"}], \"scatter\": [{\"marker\": {\"colorbar\": {\"outlinewidth\": 0, \"ticks\": \"\"}}, \"type\": \"scatter\"}], \"scatter3d\": [{\"line\": {\"colorbar\": {\"outlinewidth\": 0, \"ticks\": \"\"}}, \"marker\": {\"colorbar\": {\"outlinewidth\": 0, \"ticks\": \"\"}}, \"type\": \"scatter3d\"}], \"scattercarpet\": [{\"marker\": {\"colorbar\": {\"outlinewidth\": 0, \"ticks\": \"\"}}, \"type\": \"scattercarpet\"}], \"scattergeo\": [{\"marker\": {\"colorbar\": {\"outlinewidth\": 0, \"ticks\": \"\"}}, \"type\": \"scattergeo\"}], \"scattergl\": [{\"marker\": {\"colorbar\": {\"outlinewidth\": 0, \"ticks\": \"\"}}, \"type\": \"scattergl\"}], \"scattermapbox\": [{\"marker\": {\"colorbar\": {\"outlinewidth\": 0, \"ticks\": \"\"}}, \"type\": \"scattermapbox\"}], \"scatterpolar\": [{\"marker\": {\"colorbar\": {\"outlinewidth\": 0, \"ticks\": \"\"}}, \"type\": \"scatterpolar\"}], \"scatterpolargl\": [{\"marker\": {\"colorbar\": {\"outlinewidth\": 0, \"ticks\": \"\"}}, \"type\": \"scatterpolargl\"}], \"scatterternary\": [{\"marker\": {\"colorbar\": {\"outlinewidth\": 0, \"ticks\": \"\"}}, \"type\": \"scatterternary\"}], \"surface\": [{\"colorbar\": {\"outlinewidth\": 0, \"ticks\": \"\"}, \"colorscale\": [[0.0, \"#0d0887\"], [0.1111111111111111, \"#46039f\"], [0.2222222222222222, \"#7201a8\"], [0.3333333333333333, \"#9c179e\"], [0.4444444444444444, \"#bd3786\"], [0.5555555555555556, \"#d8576b\"], [0.6666666666666666, \"#ed7953\"], [0.7777777777777778, \"#fb9f3a\"], [0.8888888888888888, \"#fdca26\"], [1.0, \"#f0f921\"]], \"type\": \"surface\"}], \"table\": [{\"cells\": {\"fill\": {\"color\": \"#EBF0F8\"}, \"line\": {\"color\": \"white\"}}, \"header\": {\"fill\": {\"color\": \"#C8D4E3\"}, \"line\": {\"color\": \"white\"}}, \"type\": \"table\"}]}, \"layout\": {\"annotationdefaults\": {\"arrowcolor\": \"#2a3f5f\", \"arrowhead\": 0, \"arrowwidth\": 1}, \"coloraxis\": {\"colorbar\": {\"outlinewidth\": 0, \"ticks\": \"\"}}, \"colorscale\": {\"diverging\": [[0, \"#8e0152\"], [0.1, \"#c51b7d\"], [0.2, \"#de77ae\"], [0.3, \"#f1b6da\"], [0.4, \"#fde0ef\"], [0.5, \"#f7f7f7\"], [0.6, \"#e6f5d0\"], [0.7, \"#b8e186\"], [0.8, \"#7fbc41\"], [0.9, \"#4d9221\"], [1, \"#276419\"]], \"sequential\": [[0.0, \"#0d0887\"], [0.1111111111111111, \"#46039f\"], [0.2222222222222222, \"#7201a8\"], [0.3333333333333333, \"#9c179e\"], [0.4444444444444444, \"#bd3786\"], [0.5555555555555556, \"#d8576b\"], [0.6666666666666666, \"#ed7953\"], [0.7777777777777778, \"#fb9f3a\"], [0.8888888888888888, \"#fdca26\"], [1.0, \"#f0f921\"]], \"sequentialminus\": [[0.0, \"#0d0887\"], [0.1111111111111111, \"#46039f\"], [0.2222222222222222, \"#7201a8\"], [0.3333333333333333, \"#9c179e\"], [0.4444444444444444, \"#bd3786\"], [0.5555555555555556, \"#d8576b\"], [0.6666666666666666, \"#ed7953\"], [0.7777777777777778, \"#fb9f3a\"], [0.8888888888888888, \"#fdca26\"], [1.0, \"#f0f921\"]]}, \"colorway\": [\"#636efa\", \"#EF553B\", \"#00cc96\", \"#ab63fa\", \"#FFA15A\", \"#19d3f3\", \"#FF6692\", \"#B6E880\", \"#FF97FF\", \"#FECB52\"], \"font\": {\"color\": \"#2a3f5f\"}, \"geo\": {\"bgcolor\": \"white\", \"lakecolor\": \"white\", \"landcolor\": \"#E5ECF6\", \"showlakes\": true, \"showland\": true, \"subunitcolor\": \"white\"}, \"hoverlabel\": {\"align\": \"left\"}, \"hovermode\": \"closest\", \"mapbox\": {\"style\": \"light\"}, \"paper_bgcolor\": \"white\", \"plot_bgcolor\": \"#E5ECF6\", \"polar\": {\"angularaxis\": {\"gridcolor\": \"white\", \"linecolor\": \"white\", \"ticks\": \"\"}, \"bgcolor\": \"#E5ECF6\", \"radialaxis\": {\"gridcolor\": \"white\", \"linecolor\": \"white\", \"ticks\": \"\"}}, \"scene\": {\"xaxis\": {\"backgroundcolor\": \"#E5ECF6\", \"gridcolor\": \"white\", \"gridwidth\": 2, \"linecolor\": \"white\", \"showbackground\": true, \"ticks\": \"\", \"zerolinecolor\": \"white\"}, \"yaxis\": {\"backgroundcolor\": \"#E5ECF6\", \"gridcolor\": \"white\", \"gridwidth\": 2, \"linecolor\": \"white\", \"showbackground\": true, \"ticks\": \"\", \"zerolinecolor\": \"white\"}, \"zaxis\": {\"backgroundcolor\": \"#E5ECF6\", \"gridcolor\": \"white\", \"gridwidth\": 2, \"linecolor\": \"white\", \"showbackground\": true, \"ticks\": \"\", \"zerolinecolor\": \"white\"}}, \"shapedefaults\": {\"line\": {\"color\": \"#2a3f5f\"}}, \"ternary\": {\"aaxis\": {\"gridcolor\": \"white\", \"linecolor\": \"white\", \"ticks\": \"\"}, \"baxis\": {\"gridcolor\": \"white\", \"linecolor\": \"white\", \"ticks\": \"\"}, \"bgcolor\": \"#E5ECF6\", \"caxis\": {\"gridcolor\": \"white\", \"linecolor\": \"white\", \"ticks\": \"\"}}, \"title\": {\"x\": 0.05}, \"xaxis\": {\"automargin\": true, \"gridcolor\": \"white\", \"linecolor\": \"white\", \"ticks\": \"\", \"title\": {\"standoff\": 15}, \"zerolinecolor\": \"white\", \"zerolinewidth\": 2}, \"yaxis\": {\"automargin\": true, \"gridcolor\": \"white\", \"linecolor\": \"white\", \"ticks\": \"\", \"title\": {\"standoff\": 15}, \"zerolinecolor\": \"white\", \"zerolinewidth\": 2}}}, \"title\": {\"text\": \"Quantidade de acidentes, por m\\u00eas, em 2020 em cada causa de acidente- Dados reais e previstos\"}},\n",
              "                        {\"responsive\": true}\n",
              "                    ).then(function(){\n",
              "                            \n",
              "var gd = document.getElementById('5f4e99cf-cfc2-428d-b3ec-18f22d2616be');\n",
              "var x = new MutationObserver(function (mutations, observer) {{\n",
              "        var display = window.getComputedStyle(gd).display;\n",
              "        if (!display || display === 'none') {{\n",
              "            console.log([gd, 'removed!']);\n",
              "            Plotly.purge(gd);\n",
              "            observer.disconnect();\n",
              "        }}\n",
              "}});\n",
              "\n",
              "// Listen for the removal of the full notebook cells\n",
              "var notebookContainer = gd.closest('#notebook-container');\n",
              "if (notebookContainer) {{\n",
              "    x.observe(notebookContainer, {childList: true});\n",
              "}}\n",
              "\n",
              "// Listen for the clearing of the current output cell\n",
              "var outputEl = gd.closest('.output');\n",
              "if (outputEl) {{\n",
              "    x.observe(outputEl, {childList: true});\n",
              "}}\n",
              "\n",
              "                        })\n",
              "                };\n",
              "                \n",
              "            </script>\n",
              "        </div>\n",
              "</body>\n",
              "</html>"
            ]
          },
          "metadata": {
            "tags": []
          }
        }
      ]
    },
    {
      "cell_type": "markdown",
      "metadata": {
        "id": "8eZyRcKY5039"
      },
      "source": [
        "##### Quatidade de Ilesos"
      ]
    },
    {
      "cell_type": "code",
      "metadata": {
        "id": "n28EKu6s5039",
        "outputId": "54b15425-3311-4efe-d044-132a6ca2e84a",
        "colab": {
          "base_uri": "https://localhost:8080/"
        }
      },
      "source": [
        "data_plot = cria_data_plot('qtd_ilesos')\n",
        "fig = go.Figure(data=data_plot)\n",
        "fig.update_layout(title_text='Quantidade de Ilesos envolvidos em acidentes, por mês, em 2020 em cada causa de acidente - Dados reais e previstos')\n",
        "fig.show()"
      ],
      "execution_count": null,
      "outputs": [
        {
          "output_type": "stream",
          "text": [
            "/usr/local/lib/python3.6/dist-packages/plotly/graph_objs/_deprecations.py:385: DeprecationWarning:\n",
            "\n",
            "plotly.graph_objs.Line is deprecated.\n",
            "Please replace it with one of the following more specific types\n",
            "  - plotly.graph_objs.scatter.Line\n",
            "  - plotly.graph_objs.layout.shape.Line\n",
            "  - etc.\n",
            "\n",
            "\n"
          ],
          "name": "stderr"
        },
        {
          "output_type": "display_data",
          "data": {
            "text/html": [
              "<html>\n",
              "<head><meta charset=\"utf-8\" /></head>\n",
              "<body>\n",
              "    <div>\n",
              "            <script src=\"https://cdnjs.cloudflare.com/ajax/libs/mathjax/2.7.5/MathJax.js?config=TeX-AMS-MML_SVG\"></script><script type=\"text/javascript\">if (window.MathJax) {MathJax.Hub.Config({SVG: {font: \"STIX-Web\"}});}</script>\n",
              "                <script type=\"text/javascript\">window.PlotlyConfig = {MathJaxConfig: 'local'};</script>\n",
              "        <script src=\"https://cdn.plot.ly/plotly-latest.min.js\"></script>    \n",
              "            <div id=\"fbd2c899-1f71-4e14-a5c9-fb37db87ebe4\" class=\"plotly-graph-div\" style=\"height:525px; width:100%;\"></div>\n",
              "            <script type=\"text/javascript\">\n",
              "                \n",
              "                    window.PLOTLYENV=window.PLOTLYENV || {};\n",
              "                    \n",
              "                if (document.getElementById(\"fbd2c899-1f71-4e14-a5c9-fb37db87ebe4\")) {\n",
              "                    Plotly.newPlot(\n",
              "                        'fbd2c899-1f71-4e14-a5c9-fb37db87ebe4',\n",
              "                        [{\"name\": \"Falta de Aten\\u00e7\\u00e3o do Pedestre- Real\", \"type\": \"scatter\", \"x\": [1, 2, 3, 4, 5, 6, 7], \"y\": [137.0, 131.0, 111.0, 97.0, 92.0, 100.0, 110.0]}, {\"name\": \"Agress\\u00e3o Externa- Real\", \"type\": \"scatter\", \"x\": [1, 2, 3, 4, 5, 6, 7], \"y\": [30.0, 56.0, 18.0, 8.0, 21.0, 21.0, 18.0]}, {\"name\": \"Animais na Pista- Real\", \"type\": \"scatter\", \"x\": [1, 2, 3, 4, 5, 6, 7], \"y\": [82.0, 103.0, 76.0, 65.0, 84.0, 75.0, 67.0]}, {\"name\": \"Avarias e/ou desgaste excessivo no pneu- Real\", \"type\": \"scatter\", \"x\": [1, 2, 3, 4, 5, 6, 7], \"y\": [38.0, 72.0, 30.0, 36.0, 29.0, 42.0, 29.0]}, {\"name\": \"Carga excessiva e/ou mal acondicionada- Real\", \"type\": \"scatter\", \"x\": [1, 2, 3, 4, 5, 6, 7], \"y\": [21.0, 13.0, 24.0, 14.0, 24.0, 27.0, 26.0]}, {\"name\": \"Condutor Dormindo- Real\", \"type\": \"scatter\", \"x\": [1, 2, 3, 4, 5, 6, 7], \"y\": [186.0, 161.0, 99.0, 47.0, 57.0, 76.0, 113.0]}, {\"name\": \"Defeito Mec\\u00e2nico no Ve\\u00edculo- Real\", \"type\": \"scatter\", \"x\": [1, 2, 3, 4, 5, 6, 7], \"y\": [325.0, 372.0, 237.0, 164.0, 227.0, 234.0, 285.0]}, {\"name\": \"Defeito na Via- Real\", \"type\": \"scatter\", \"x\": [1, 2, 3, 4, 5, 6, 7], \"y\": [50.0, 55.0, 60.0, 48.0, 48.0, 29.0, 54.0]}, {\"name\": \"Defici\\u00eancia ou n\\u00e3o Acionamento do Sistema de Ilumina\\u00e7\\u00e3o/Sinaliza\\u00e7\\u00e3o do Ve\\u00edculo- Real\", \"type\": \"scatter\", \"x\": [1, 2, 3, 4, 5, 6, 7], \"y\": [14.0, 4.0, 10.0, 18.0, 13.0, 11.0, 14.0]}, {\"name\": \"Desobedi\\u00eancia \\u00e0s normas de tr\\u00e2nsito pelo condutor- Real\", \"type\": \"scatter\", \"x\": [1, 2, 3, 4, 5, 6, 7], \"y\": [845.0, 775.0, 718.0, 561.0, 697.0, 672.0, 865.0]}, {\"name\": \"Restri\\u00e7\\u00e3o de Visibilidade- Real\", \"type\": \"scatter\", \"x\": [1, 2, 3, 4, 5, 6, 7], \"y\": [24.0, 27.0, 33.0, 42.0, 39.0, 52.0, 38.0]}, {\"name\": \"Desobedi\\u00eancia \\u00e0s normas de tr\\u00e2nsito pelo pedestre- Real\", \"type\": \"scatter\", \"x\": [1, 2, 3, 4, 5, 6, 7], \"y\": [21.0, 32.0, 24.0, 21.0, 34.0, 31.0, 28.0]}, {\"name\": \"Falta de Aten\\u00e7\\u00e3o \\u00e0 Condu\\u00e7\\u00e3o- Real\", \"type\": \"scatter\", \"x\": [1, 2, 3, 4, 5, 6, 7], \"y\": [2150.0, 1838.0, 1517.0, 1054.0, 1426.0, 1613.0, 1736.0]}, {\"name\": \"Fen\\u00f4menos da Natureza- Real\", \"type\": \"scatter\", \"x\": [1, 2, 3, 4, 5, 6, 7], \"y\": [18.0, 10.0, 14.0, 6.0, 7.0, 18.0, 22.0]}, {\"name\": \"Ingest\\u00e3o de Subst\\u00e2ncias Psicoativas- Real\", \"type\": \"scatter\", \"x\": [1, 2, 3, 4, 5, 6, 7], \"y\": [2.0, 13.0, 13.0, 7.0, 10.0, 11.0, 3.0]}, {\"name\": \"Ingest\\u00e3o de \\u00c1lcool- Real\", \"type\": \"scatter\", \"x\": [1, 2, 3, 4, 5, 6, 7], \"y\": [447.0, 472.0, 349.0, 334.0, 409.0, 396.0, 425.0]}, {\"name\": \"Ingest\\u00e3o de \\u00e1lcool e/ou subst\\u00e2ncias psicoativas pelo pedestre- Real\", \"type\": \"scatter\", \"x\": [1, 2, 3, 4, 5, 6, 7], \"y\": [14.0, 39.0, 25.0, 29.0, 19.0, 34.0, 31.0]}, {\"name\": \"Mal S\\u00fabito- Real\", \"type\": \"scatter\", \"x\": [1, 2, 3, 4, 5, 6, 7], \"y\": [24.0, 18.0, 22.0, 9.0, 11.0, 22.0, 22.0]}, {\"name\": \"N\\u00e3o guardar dist\\u00e2ncia de seguran\\u00e7a- Real\", \"type\": \"scatter\", \"x\": [1, 2, 3, 4, 5, 6, 7], \"y\": [603.0, 534.0, 401.0, 232.0, 305.0, 349.0, 459.0]}, {\"name\": \"Objeto est\\u00e1tico sobre o leito carro\\u00e7\\u00e1vel- Real\", \"type\": \"scatter\", \"x\": [1, 2, 3, 4, 5, 6, 7], \"y\": [36.0, 34.0, 33.0, 21.0, 17.0, 38.0, 22.0]}, {\"name\": \"Pista Escorregadia- Real\", \"type\": \"scatter\", \"x\": [1, 2, 3, 4, 5, 6, 7], \"y\": [225.0, 200.0, 112.0, 78.0, 103.0, 85.0, 69.0]}, {\"name\": \"Ultrapassagem Indevida- Real\", \"type\": \"scatter\", \"x\": [1, 2, 3, 4, 5, 6, 7], \"y\": [96.0, 142.0, 78.0, 38.0, 71.0, 134.0, 125.0]}, {\"name\": \"Velocidade Incompat\\u00edvel- Real\", \"type\": \"scatter\", \"x\": [1, 2, 3, 4, 5, 6, 7], \"y\": [409.0, 410.0, 290.0, 191.0, 249.0, 311.0, 315.0]}, {\"name\": \"Sinaliza\\u00e7\\u00e3o da via insuficiente ou inadequada- Real\", \"type\": \"scatter\", \"x\": [1, 2, 3, 4, 5, 6, 7], \"y\": [11.0, 16.0, 17.0, 19.0, 27.0, 11.0, 18.0]}, {\"name\": \"Animais na Pista- Previsto\", \"type\": \"scatter\", \"x\": [7, 8, 9, 10, 11, 12], \"y\": [70.45, 70.96, 70.76, 67.77, 69.98, 73.83]}, {\"name\": \"Avarias e/ou desgaste excessivo no pneu- Previsto\", \"type\": \"scatter\", \"x\": [7, 8, 9, 10, 11, 12], \"y\": [33.12, 30.27, 27.54, 31.21, 32.35, 40.15]}, {\"name\": \"Carga excessiva e/ou mal acondicionada- Previsto\", \"type\": \"scatter\", \"x\": [7, 8, 9, 10, 11, 12], \"y\": [25.73, 22.51, 20.82, 22.74, 24.39, 24.32]}, {\"name\": \"Condutor Dormindo- Previsto\", \"type\": \"scatter\", \"x\": [7, 8, 9, 10, 11, 12], \"y\": [101.67, 100.61, 100.13, 99.96, 100.32, 133.86]}, {\"name\": \"Defeito Mec\\u00e2nico no Ve\\u00edculo- Previsto\", \"type\": \"scatter\", \"x\": [7, 8, 9, 10, 11, 12], \"y\": [272.17, 277.34, 290.2, 254.19, 261.8, 264.35]}, {\"name\": \"Defeito na Via- Previsto\", \"type\": \"scatter\", \"x\": [7, 8, 9, 10, 11, 12], \"y\": [51.08, 44.69, 44.22, 36.99, 41.51, 50.41]}, {\"name\": \"Defici\\u00eancia ou n\\u00e3o Acionamento do Sistema de Ilumina\\u00e7\\u00e3o/Sinaliza\\u00e7\\u00e3o do Ve\\u00edculo- Previsto\", \"type\": \"scatter\", \"x\": [7, 8, 9, 10, 11, 12], \"y\": [13.86, 21.25, 20.49, 15.55, 14.76, 17.27]}, {\"name\": \"Desobedi\\u00eancia \\u00e0s normas de tr\\u00e2nsito pelo condutor- Previsto\", \"type\": \"scatter\", \"x\": [7, 8, 9, 10, 11, 12], \"y\": [817.4, 814.46, 831.39, 857.65, 854.49, 925.45]}, {\"name\": \"Falta de Aten\\u00e7\\u00e3o do Pedestre- Previsto\", \"type\": \"scatter\", \"x\": [7, 8, 9, 10, 11, 12], \"y\": [110.83, 111.58, 109.53, 112.21, 110.43, 112.39]}, {\"name\": \"Falta de Aten\\u00e7\\u00e3o \\u00e0 Condu\\u00e7\\u00e3o- Previsto\", \"type\": \"scatter\", \"x\": [7, 8, 9, 10, 11, 12], \"y\": [1669.42, 1663.4, 1663.04, 1666.72, 1667.5, 1668.91]}, {\"name\": \"Fen\\u00f4menos da Natureza- Previsto\", \"type\": \"scatter\", \"x\": [7, 8, 9, 10, 11, 12], \"y\": [20.44, 19.4, 20.32, 12.8, 5.87, 9.6]}, {\"name\": \"Ingest\\u00e3o de Subst\\u00e2ncias Psicoativas- Previsto\", \"type\": \"scatter\", \"x\": [7, 8, 9, 10, 11, 12], \"y\": [5.36, 5.78, 6.75, 6.34, 7.27, 6.67]}, {\"name\": \"Ingest\\u00e3o de \\u00c1lcool- Previsto\", \"type\": \"scatter\", \"x\": [7, 8, 9, 10, 11, 12], \"y\": [427.14, 424.82, 459.21, 439.95, 440.74, 535.85]}, {\"name\": \"Mal S\\u00fabito- Previsto\", \"type\": \"scatter\", \"x\": [7, 8, 9, 10, 11, 12], \"y\": [22.42, 22.33, 22.04, 22.77, 23.5, 24.19]}, {\"name\": \"N\\u00e3o guardar dist\\u00e2ncia de seguran\\u00e7a- Previsto\", \"type\": \"scatter\", \"x\": [7, 8, 9, 10, 11, 12], \"y\": [406.96, 406.96, 406.96, 406.96, 406.96, 432.96]}, {\"name\": \"Objeto est\\u00e1tico sobre o leito carro\\u00e7\\u00e1vel- Previsto\", \"type\": \"scatter\", \"x\": [7, 8, 9, 10, 11, 12], \"y\": [25.56, 21.52, 23.36, 28.94, 32.48, 26.36]}, {\"name\": \"Pista Escorregadia- Previsto\", \"type\": \"scatter\", \"x\": [7, 8, 9, 10, 11, 12], \"y\": [74.72, 87.81, 105.66, 147.6, 166.78, 155.8]}, {\"name\": \"Restri\\u00e7\\u00e3o de Visibilidade- Previsto\", \"type\": \"scatter\", \"x\": [7, 8, 9, 10, 11, 12], \"y\": [43.02, 40.69, 33.83, 41.09, 35.32, 39.31]}, {\"name\": \"Sinaliza\\u00e7\\u00e3o da via insuficiente ou inadequada- Previsto\", \"type\": \"scatter\", \"x\": [7, 8, 9, 10, 11, 12], \"y\": [17.41, 18.56, 16.98, 19.67, 18.87, 18.04]}, {\"name\": \"Ultrapassagem Indevida- Previsto\", \"type\": \"scatter\", \"x\": [7, 8, 9, 10, 11, 12], \"y\": [117.64, 113.67, 114.27, 105.86, 100.9, 140.59]}, {\"name\": \"Velocidade Incompat\\u00edvel- Previsto\", \"type\": \"scatter\", \"x\": [7, 8, 9, 10, 11, 12], \"y\": [309.14, 315.77, 327.89, 357.01, 433.17, 435.1]}, {\"name\": \"Agress\\u00e3o Externa- Previsto\", \"type\": \"scatter\", \"x\": [7, 8, 9, 10, 11, 12], \"y\": [19.18, 23.49, 21.86, 20.4, 17.88, 33.42]}, {\"name\": \"Desobedi\\u00eancia \\u00e0s normas de tr\\u00e2nsito pelo pedestre- Previsto\", \"type\": \"scatter\", \"x\": [7, 8, 9, 10, 11, 12], \"y\": [29.34, 29.91, 28.91, 30.91, 32.03, 28.1]}, {\"name\": \"Ingest\\u00e3o de \\u00e1lcool e/ou subst\\u00e2ncias psicoativas pelo pedestre- Previsto\", \"type\": \"scatter\", \"x\": [7, 8, 9, 10, 11, 12], \"y\": [30.88, 30.99, 32.69, 28.38, 25.82, 53.66]}],\n",
              "                        {\"template\": {\"data\": {\"bar\": [{\"error_x\": {\"color\": \"#2a3f5f\"}, \"error_y\": {\"color\": \"#2a3f5f\"}, \"marker\": {\"line\": {\"color\": \"#E5ECF6\", \"width\": 0.5}}, \"type\": \"bar\"}], \"barpolar\": [{\"marker\": {\"line\": {\"color\": \"#E5ECF6\", \"width\": 0.5}}, \"type\": \"barpolar\"}], \"carpet\": [{\"aaxis\": {\"endlinecolor\": \"#2a3f5f\", \"gridcolor\": \"white\", \"linecolor\": \"white\", \"minorgridcolor\": \"white\", \"startlinecolor\": \"#2a3f5f\"}, \"baxis\": {\"endlinecolor\": \"#2a3f5f\", \"gridcolor\": \"white\", \"linecolor\": \"white\", \"minorgridcolor\": \"white\", \"startlinecolor\": \"#2a3f5f\"}, \"type\": \"carpet\"}], \"choropleth\": [{\"colorbar\": {\"outlinewidth\": 0, \"ticks\": \"\"}, \"type\": \"choropleth\"}], \"contour\": [{\"colorbar\": {\"outlinewidth\": 0, \"ticks\": \"\"}, \"colorscale\": [[0.0, \"#0d0887\"], [0.1111111111111111, \"#46039f\"], [0.2222222222222222, \"#7201a8\"], [0.3333333333333333, \"#9c179e\"], [0.4444444444444444, \"#bd3786\"], [0.5555555555555556, \"#d8576b\"], [0.6666666666666666, \"#ed7953\"], [0.7777777777777778, \"#fb9f3a\"], [0.8888888888888888, \"#fdca26\"], [1.0, \"#f0f921\"]], \"type\": \"contour\"}], \"contourcarpet\": [{\"colorbar\": {\"outlinewidth\": 0, \"ticks\": \"\"}, \"type\": \"contourcarpet\"}], \"heatmap\": [{\"colorbar\": {\"outlinewidth\": 0, \"ticks\": \"\"}, \"colorscale\": [[0.0, \"#0d0887\"], [0.1111111111111111, \"#46039f\"], [0.2222222222222222, \"#7201a8\"], [0.3333333333333333, \"#9c179e\"], [0.4444444444444444, \"#bd3786\"], [0.5555555555555556, \"#d8576b\"], [0.6666666666666666, \"#ed7953\"], [0.7777777777777778, \"#fb9f3a\"], [0.8888888888888888, \"#fdca26\"], [1.0, \"#f0f921\"]], \"type\": \"heatmap\"}], \"heatmapgl\": [{\"colorbar\": {\"outlinewidth\": 0, \"ticks\": \"\"}, \"colorscale\": [[0.0, \"#0d0887\"], [0.1111111111111111, \"#46039f\"], [0.2222222222222222, \"#7201a8\"], [0.3333333333333333, \"#9c179e\"], [0.4444444444444444, \"#bd3786\"], [0.5555555555555556, \"#d8576b\"], [0.6666666666666666, \"#ed7953\"], [0.7777777777777778, \"#fb9f3a\"], [0.8888888888888888, \"#fdca26\"], [1.0, \"#f0f921\"]], \"type\": \"heatmapgl\"}], \"histogram\": [{\"marker\": {\"colorbar\": {\"outlinewidth\": 0, \"ticks\": \"\"}}, \"type\": \"histogram\"}], \"histogram2d\": [{\"colorbar\": {\"outlinewidth\": 0, \"ticks\": \"\"}, \"colorscale\": [[0.0, \"#0d0887\"], [0.1111111111111111, \"#46039f\"], [0.2222222222222222, \"#7201a8\"], [0.3333333333333333, \"#9c179e\"], [0.4444444444444444, \"#bd3786\"], [0.5555555555555556, \"#d8576b\"], [0.6666666666666666, \"#ed7953\"], [0.7777777777777778, \"#fb9f3a\"], [0.8888888888888888, \"#fdca26\"], [1.0, \"#f0f921\"]], \"type\": \"histogram2d\"}], \"histogram2dcontour\": [{\"colorbar\": {\"outlinewidth\": 0, \"ticks\": \"\"}, \"colorscale\": [[0.0, \"#0d0887\"], [0.1111111111111111, \"#46039f\"], [0.2222222222222222, \"#7201a8\"], [0.3333333333333333, \"#9c179e\"], [0.4444444444444444, \"#bd3786\"], [0.5555555555555556, \"#d8576b\"], [0.6666666666666666, \"#ed7953\"], [0.7777777777777778, \"#fb9f3a\"], [0.8888888888888888, \"#fdca26\"], [1.0, \"#f0f921\"]], \"type\": \"histogram2dcontour\"}], \"mesh3d\": [{\"colorbar\": {\"outlinewidth\": 0, \"ticks\": \"\"}, \"type\": \"mesh3d\"}], \"parcoords\": [{\"line\": {\"colorbar\": {\"outlinewidth\": 0, \"ticks\": \"\"}}, \"type\": \"parcoords\"}], \"pie\": [{\"automargin\": true, \"type\": \"pie\"}], \"scatter\": [{\"marker\": {\"colorbar\": {\"outlinewidth\": 0, \"ticks\": \"\"}}, \"type\": \"scatter\"}], \"scatter3d\": [{\"line\": {\"colorbar\": {\"outlinewidth\": 0, \"ticks\": \"\"}}, \"marker\": {\"colorbar\": {\"outlinewidth\": 0, \"ticks\": \"\"}}, \"type\": \"scatter3d\"}], \"scattercarpet\": [{\"marker\": {\"colorbar\": {\"outlinewidth\": 0, \"ticks\": \"\"}}, \"type\": \"scattercarpet\"}], \"scattergeo\": [{\"marker\": {\"colorbar\": {\"outlinewidth\": 0, \"ticks\": \"\"}}, \"type\": \"scattergeo\"}], \"scattergl\": [{\"marker\": {\"colorbar\": {\"outlinewidth\": 0, \"ticks\": \"\"}}, \"type\": \"scattergl\"}], \"scattermapbox\": [{\"marker\": {\"colorbar\": {\"outlinewidth\": 0, \"ticks\": \"\"}}, \"type\": \"scattermapbox\"}], \"scatterpolar\": [{\"marker\": {\"colorbar\": {\"outlinewidth\": 0, \"ticks\": \"\"}}, \"type\": \"scatterpolar\"}], \"scatterpolargl\": [{\"marker\": {\"colorbar\": {\"outlinewidth\": 0, \"ticks\": \"\"}}, \"type\": \"scatterpolargl\"}], \"scatterternary\": [{\"marker\": {\"colorbar\": {\"outlinewidth\": 0, \"ticks\": \"\"}}, \"type\": \"scatterternary\"}], \"surface\": [{\"colorbar\": {\"outlinewidth\": 0, \"ticks\": \"\"}, \"colorscale\": [[0.0, \"#0d0887\"], [0.1111111111111111, \"#46039f\"], [0.2222222222222222, \"#7201a8\"], [0.3333333333333333, \"#9c179e\"], [0.4444444444444444, \"#bd3786\"], [0.5555555555555556, \"#d8576b\"], [0.6666666666666666, \"#ed7953\"], [0.7777777777777778, \"#fb9f3a\"], [0.8888888888888888, \"#fdca26\"], [1.0, \"#f0f921\"]], \"type\": \"surface\"}], \"table\": [{\"cells\": {\"fill\": {\"color\": \"#EBF0F8\"}, \"line\": {\"color\": \"white\"}}, \"header\": {\"fill\": {\"color\": \"#C8D4E3\"}, \"line\": {\"color\": \"white\"}}, \"type\": \"table\"}]}, \"layout\": {\"annotationdefaults\": {\"arrowcolor\": \"#2a3f5f\", \"arrowhead\": 0, \"arrowwidth\": 1}, \"coloraxis\": {\"colorbar\": {\"outlinewidth\": 0, \"ticks\": \"\"}}, \"colorscale\": {\"diverging\": [[0, \"#8e0152\"], [0.1, \"#c51b7d\"], [0.2, \"#de77ae\"], [0.3, \"#f1b6da\"], [0.4, \"#fde0ef\"], [0.5, \"#f7f7f7\"], [0.6, \"#e6f5d0\"], [0.7, \"#b8e186\"], [0.8, \"#7fbc41\"], [0.9, \"#4d9221\"], [1, \"#276419\"]], \"sequential\": [[0.0, \"#0d0887\"], [0.1111111111111111, \"#46039f\"], [0.2222222222222222, \"#7201a8\"], [0.3333333333333333, \"#9c179e\"], [0.4444444444444444, \"#bd3786\"], [0.5555555555555556, \"#d8576b\"], [0.6666666666666666, \"#ed7953\"], [0.7777777777777778, \"#fb9f3a\"], [0.8888888888888888, \"#fdca26\"], [1.0, \"#f0f921\"]], \"sequentialminus\": [[0.0, \"#0d0887\"], [0.1111111111111111, \"#46039f\"], [0.2222222222222222, \"#7201a8\"], [0.3333333333333333, \"#9c179e\"], [0.4444444444444444, \"#bd3786\"], [0.5555555555555556, \"#d8576b\"], [0.6666666666666666, \"#ed7953\"], [0.7777777777777778, \"#fb9f3a\"], [0.8888888888888888, \"#fdca26\"], [1.0, \"#f0f921\"]]}, \"colorway\": [\"#636efa\", \"#EF553B\", \"#00cc96\", \"#ab63fa\", \"#FFA15A\", \"#19d3f3\", \"#FF6692\", \"#B6E880\", \"#FF97FF\", \"#FECB52\"], \"font\": {\"color\": \"#2a3f5f\"}, \"geo\": {\"bgcolor\": \"white\", \"lakecolor\": \"white\", \"landcolor\": \"#E5ECF6\", \"showlakes\": true, \"showland\": true, \"subunitcolor\": \"white\"}, \"hoverlabel\": {\"align\": \"left\"}, \"hovermode\": \"closest\", \"mapbox\": {\"style\": \"light\"}, \"paper_bgcolor\": \"white\", \"plot_bgcolor\": \"#E5ECF6\", \"polar\": {\"angularaxis\": {\"gridcolor\": \"white\", \"linecolor\": \"white\", \"ticks\": \"\"}, \"bgcolor\": \"#E5ECF6\", \"radialaxis\": {\"gridcolor\": \"white\", \"linecolor\": \"white\", \"ticks\": \"\"}}, \"scene\": {\"xaxis\": {\"backgroundcolor\": \"#E5ECF6\", \"gridcolor\": \"white\", \"gridwidth\": 2, \"linecolor\": \"white\", \"showbackground\": true, \"ticks\": \"\", \"zerolinecolor\": \"white\"}, \"yaxis\": {\"backgroundcolor\": \"#E5ECF6\", \"gridcolor\": \"white\", \"gridwidth\": 2, \"linecolor\": \"white\", \"showbackground\": true, \"ticks\": \"\", \"zerolinecolor\": \"white\"}, \"zaxis\": {\"backgroundcolor\": \"#E5ECF6\", \"gridcolor\": \"white\", \"gridwidth\": 2, \"linecolor\": \"white\", \"showbackground\": true, \"ticks\": \"\", \"zerolinecolor\": \"white\"}}, \"shapedefaults\": {\"line\": {\"color\": \"#2a3f5f\"}}, \"ternary\": {\"aaxis\": {\"gridcolor\": \"white\", \"linecolor\": \"white\", \"ticks\": \"\"}, \"baxis\": {\"gridcolor\": \"white\", \"linecolor\": \"white\", \"ticks\": \"\"}, \"bgcolor\": \"#E5ECF6\", \"caxis\": {\"gridcolor\": \"white\", \"linecolor\": \"white\", \"ticks\": \"\"}}, \"title\": {\"x\": 0.05}, \"xaxis\": {\"automargin\": true, \"gridcolor\": \"white\", \"linecolor\": \"white\", \"ticks\": \"\", \"title\": {\"standoff\": 15}, \"zerolinecolor\": \"white\", \"zerolinewidth\": 2}, \"yaxis\": {\"automargin\": true, \"gridcolor\": \"white\", \"linecolor\": \"white\", \"ticks\": \"\", \"title\": {\"standoff\": 15}, \"zerolinecolor\": \"white\", \"zerolinewidth\": 2}}}, \"title\": {\"text\": \"Quantidade de Ilesos envolvidos em acidentes, por m\\u00eas, em 2020 em cada causa de acidente - Dados reais e previstos\"}},\n",
              "                        {\"responsive\": true}\n",
              "                    ).then(function(){\n",
              "                            \n",
              "var gd = document.getElementById('fbd2c899-1f71-4e14-a5c9-fb37db87ebe4');\n",
              "var x = new MutationObserver(function (mutations, observer) {{\n",
              "        var display = window.getComputedStyle(gd).display;\n",
              "        if (!display || display === 'none') {{\n",
              "            console.log([gd, 'removed!']);\n",
              "            Plotly.purge(gd);\n",
              "            observer.disconnect();\n",
              "        }}\n",
              "}});\n",
              "\n",
              "// Listen for the removal of the full notebook cells\n",
              "var notebookContainer = gd.closest('#notebook-container');\n",
              "if (notebookContainer) {{\n",
              "    x.observe(notebookContainer, {childList: true});\n",
              "}}\n",
              "\n",
              "// Listen for the clearing of the current output cell\n",
              "var outputEl = gd.closest('.output');\n",
              "if (outputEl) {{\n",
              "    x.observe(outputEl, {childList: true});\n",
              "}}\n",
              "\n",
              "                        })\n",
              "                };\n",
              "                \n",
              "            </script>\n",
              "        </div>\n",
              "</body>\n",
              "</html>"
            ]
          },
          "metadata": {
            "tags": []
          }
        }
      ]
    },
    {
      "cell_type": "markdown",
      "metadata": {
        "id": "ko_s4QVR503_"
      },
      "source": [
        "##### Quatidade de Feridos Leves"
      ]
    },
    {
      "cell_type": "code",
      "metadata": {
        "id": "XLzMFEcE503_",
        "outputId": "5d6a84e6-ce37-45c6-e0a9-6d76399220fd",
        "colab": {
          "base_uri": "https://localhost:8080/"
        }
      },
      "source": [
        "data_plot = cria_data_plot('qtd_feridos_leves')\n",
        "fig = go.Figure(data=data_plot)\n",
        "fig.update_layout(title_text='Quantidade de Feridos Leves envolvidos em acidentes, por mês, em 2020 em cada causa de acidente- Dados reais e previstos')\n",
        "fig.show()"
      ],
      "execution_count": null,
      "outputs": [
        {
          "output_type": "stream",
          "text": [
            "/usr/local/lib/python3.6/dist-packages/plotly/graph_objs/_deprecations.py:385: DeprecationWarning:\n",
            "\n",
            "plotly.graph_objs.Line is deprecated.\n",
            "Please replace it with one of the following more specific types\n",
            "  - plotly.graph_objs.scatter.Line\n",
            "  - plotly.graph_objs.layout.shape.Line\n",
            "  - etc.\n",
            "\n",
            "\n"
          ],
          "name": "stderr"
        },
        {
          "output_type": "display_data",
          "data": {
            "text/html": [
              "<html>\n",
              "<head><meta charset=\"utf-8\" /></head>\n",
              "<body>\n",
              "    <div>\n",
              "            <script src=\"https://cdnjs.cloudflare.com/ajax/libs/mathjax/2.7.5/MathJax.js?config=TeX-AMS-MML_SVG\"></script><script type=\"text/javascript\">if (window.MathJax) {MathJax.Hub.Config({SVG: {font: \"STIX-Web\"}});}</script>\n",
              "                <script type=\"text/javascript\">window.PlotlyConfig = {MathJaxConfig: 'local'};</script>\n",
              "        <script src=\"https://cdn.plot.ly/plotly-latest.min.js\"></script>    \n",
              "            <div id=\"e0616d8b-bbc8-41e5-b3fb-84d174155e90\" class=\"plotly-graph-div\" style=\"height:525px; width:100%;\"></div>\n",
              "            <script type=\"text/javascript\">\n",
              "                \n",
              "                    window.PLOTLYENV=window.PLOTLYENV || {};\n",
              "                    \n",
              "                if (document.getElementById(\"e0616d8b-bbc8-41e5-b3fb-84d174155e90\")) {\n",
              "                    Plotly.newPlot(\n",
              "                        'e0616d8b-bbc8-41e5-b3fb-84d174155e90',\n",
              "                        [{\"name\": \"Falta de Aten\\u00e7\\u00e3o do Pedestre- Real\", \"type\": \"scatter\", \"x\": [1, 2, 3, 4, 5, 6, 7], \"y\": [59.0, 62.0, 76.0, 52.0, 62.0, 62.0, 58.0]}, {\"name\": \"Agress\\u00e3o Externa- Real\", \"type\": \"scatter\", \"x\": [1, 2, 3, 4, 5, 6, 7], \"y\": [36.0, 18.0, 17.0, 13.0, 21.0, 14.0, 25.0]}, {\"name\": \"Animais na Pista- Real\", \"type\": \"scatter\", \"x\": [1, 2, 3, 4, 5, 6, 7], \"y\": [101.0, 106.0, 105.0, 92.0, 89.0, 86.0, 76.0]}, {\"name\": \"Avarias e/ou desgaste excessivo no pneu- Real\", \"type\": \"scatter\", \"x\": [1, 2, 3, 4, 5, 6, 7], \"y\": [105.0, 121.0, 96.0, 71.0, 62.0, 58.0, 54.0]}, {\"name\": \"Carga excessiva e/ou mal acondicionada- Real\", \"type\": \"scatter\", \"x\": [1, 2, 3, 4, 5, 6, 7], \"y\": [16.0, 13.0, 16.0, 13.0, 12.0, 15.0, 21.0]}, {\"name\": \"Condutor Dormindo- Real\", \"type\": \"scatter\", \"x\": [1, 2, 3, 4, 5, 6, 7], \"y\": [300.0, 217.0, 147.0, 105.0, 95.0, 99.0, 138.0]}, {\"name\": \"Defeito Mec\\u00e2nico no Ve\\u00edculo- Real\", \"type\": \"scatter\", \"x\": [1, 2, 3, 4, 5, 6, 7], \"y\": [305.0, 246.0, 221.0, 150.0, 194.0, 224.0, 224.0]}, {\"name\": \"Defeito na Via- Real\", \"type\": \"scatter\", \"x\": [1, 2, 3, 4, 5, 6, 7], \"y\": [126.0, 103.0, 117.0, 124.0, 94.0, 55.0, 54.0]}, {\"name\": \"Defici\\u00eancia ou n\\u00e3o Acionamento do Sistema de Ilumina\\u00e7\\u00e3o/Sinaliza\\u00e7\\u00e3o do Ve\\u00edculo- Real\", \"type\": \"scatter\", \"x\": [1, 2, 3, 4, 5, 6, 7], \"y\": [10.0, 4.0, 10.0, 18.0, 8.0, 10.0, 8.0]}, {\"name\": \"Desobedi\\u00eancia \\u00e0s normas de tr\\u00e2nsito pelo condutor- Real\", \"type\": \"scatter\", \"x\": [1, 2, 3, 4, 5, 6, 7], \"y\": [642.0, 637.0, 570.0, 450.0, 504.0, 505.0, 649.0]}, {\"name\": \"Restri\\u00e7\\u00e3o de Visibilidade- Real\", \"type\": \"scatter\", \"x\": [1, 2, 3, 4, 5, 6, 7], \"y\": [44.0, 33.0, 30.0, 40.0, 24.0, 51.0, 21.0]}, {\"name\": \"Desobedi\\u00eancia \\u00e0s normas de tr\\u00e2nsito pelo pedestre- Real\", \"type\": \"scatter\", \"x\": [1, 2, 3, 4, 5, 6, 7], \"y\": [8.0, 21.0, 19.0, 9.0, 16.0, 24.0, 8.0]}, {\"name\": \"Falta de Aten\\u00e7\\u00e3o \\u00e0 Condu\\u00e7\\u00e3o- Real\", \"type\": \"scatter\", \"x\": [1, 2, 3, 4, 5, 6, 7], \"y\": [1916.0, 1657.0, 1382.0, 1166.0, 1385.0, 1430.0, 1539.0]}, {\"name\": \"Fen\\u00f4menos da Natureza- Real\", \"type\": \"scatter\", \"x\": [1, 2, 3, 4, 5, 6, 7], \"y\": [17.0, 12.0, 16.0, 12.0, 10.0, 12.0, 8.0]}, {\"name\": \"Ingest\\u00e3o de Subst\\u00e2ncias Psicoativas- Real\", \"type\": \"scatter\", \"x\": [1, 2, 3, 4, 5, 6, 7], \"y\": [6.0, 1.0, 0.0, 4.0, 9.0, 6.0, 1.0]}, {\"name\": \"Ingest\\u00e3o de \\u00c1lcool- Real\", \"type\": \"scatter\", \"x\": [1, 2, 3, 4, 5, 6, 7], \"y\": [276.0, 340.0, 232.0, 246.0, 270.0, 210.0, 259.0]}, {\"name\": \"Ingest\\u00e3o de \\u00e1lcool e/ou subst\\u00e2ncias psicoativas pelo pedestre- Real\", \"type\": \"scatter\", \"x\": [1, 2, 3, 4, 5, 6, 7], \"y\": [15.0, 24.0, 15.0, 15.0, 26.0, 14.0, 25.0]}, {\"name\": \"Mal S\\u00fabito- Real\", \"type\": \"scatter\", \"x\": [1, 2, 3, 4, 5, 6, 7], \"y\": [51.0, 32.0, 49.0, 23.0, 38.0, 43.0, 37.0]}, {\"name\": \"N\\u00e3o guardar dist\\u00e2ncia de seguran\\u00e7a- Real\", \"type\": \"scatter\", \"x\": [1, 2, 3, 4, 5, 6, 7], \"y\": [376.0, 327.0, 265.0, 153.0, 178.0, 182.0, 264.0]}, {\"name\": \"Objeto est\\u00e1tico sobre o leito carro\\u00e7\\u00e1vel- Real\", \"type\": \"scatter\", \"x\": [1, 2, 3, 4, 5, 6, 7], \"y\": [40.0, 65.0, 28.0, 36.0, 19.0, 36.0, 39.0]}, {\"name\": \"Pista Escorregadia- Real\", \"type\": \"scatter\", \"x\": [1, 2, 3, 4, 5, 6, 7], \"y\": [328.0, 344.0, 171.0, 119.0, 112.0, 118.0, 116.0]}, {\"name\": \"Ultrapassagem Indevida- Real\", \"type\": \"scatter\", \"x\": [1, 2, 3, 4, 5, 6, 7], \"y\": [100.0, 138.0, 81.0, 46.0, 83.0, 64.0, 102.0]}, {\"name\": \"Velocidade Incompat\\u00edvel- Real\", \"type\": \"scatter\", \"x\": [1, 2, 3, 4, 5, 6, 7], \"y\": [631.0, 462.0, 412.0, 302.0, 375.0, 316.0, 367.0]}, {\"name\": \"Sinaliza\\u00e7\\u00e3o da via insuficiente ou inadequada- Real\", \"type\": \"scatter\", \"x\": [1, 2, 3, 4, 5, 6, 7], \"y\": [14.0, 16.0, 8.0, 27.0, 18.0, 8.0, 30.0]}, {\"name\": \"Animais na Pista- Previsto\", \"type\": \"scatter\", \"x\": [7, 8, 9, 10, 11, 12], \"y\": [80.52, 80.53, 88.11, 85.34, 84.28, 85.88]}, {\"name\": \"Avarias e/ou desgaste excessivo no pneu- Previsto\", \"type\": \"scatter\", \"x\": [7, 8, 9, 10, 11, 12], \"y\": [57.85, 70.86, 81.92, 69.75, 70.06, 90.18]}, {\"name\": \"Carga excessiva e/ou mal acondicionada- Previsto\", \"type\": \"scatter\", \"x\": [7, 8, 9, 10, 11, 12], \"y\": [18.75, 17.01, 16.11, 17.6, 16.44, 18.87]}, {\"name\": \"Condutor Dormindo- Previsto\", \"type\": \"scatter\", \"x\": [7, 8, 9, 10, 11, 12], \"y\": [129.55, 129.1, 129.43, 129.56, 129.17, 182.17]}, {\"name\": \"Defeito Mec\\u00e2nico no Ve\\u00edculo- Previsto\", \"type\": \"scatter\", \"x\": [7, 8, 9, 10, 11, 12], \"y\": [221.14, 216.55, 229.62, 227.82, 226.93, 283.73]}, {\"name\": \"Defeito na Via- Previsto\", \"type\": \"scatter\", \"x\": [7, 8, 9, 10, 11, 12], \"y\": [61.23, 65.06, 62.88, 58.84, 60.86, 76.03]}, {\"name\": \"Defici\\u00eancia ou n\\u00e3o Acionamento do Sistema de Ilumina\\u00e7\\u00e3o/Sinaliza\\u00e7\\u00e3o do Ve\\u00edculo- Previsto\", \"type\": \"scatter\", \"x\": [7, 8, 9, 10, 11, 12], \"y\": [8.83, 11.29, 11.26, 12.19, 10.89, 10.05]}, {\"name\": \"Desobedi\\u00eancia \\u00e0s normas de tr\\u00e2nsito pelo condutor- Previsto\", \"type\": \"scatter\", \"x\": [7, 8, 9, 10, 11, 12], \"y\": [616.79, 623.66, 631.38, 638.17, 643.35, 659.85]}, {\"name\": \"Falta de Aten\\u00e7\\u00e3o do Pedestre- Previsto\", \"type\": \"scatter\", \"x\": [7, 8, 9, 10, 11, 12], \"y\": [63.12, 65.85, 63.45, 62.39, 62.43, 63.58]}, {\"name\": \"Falta de Aten\\u00e7\\u00e3o \\u00e0 Condu\\u00e7\\u00e3o- Previsto\", \"type\": \"scatter\", \"x\": [7, 8, 9, 10, 11, 12], \"y\": [1495.17, 1494.77, 1495.11, 1497.81, 1494.78, 1496.73]}, {\"name\": \"Fen\\u00f4menos da Natureza- Previsto\", \"type\": \"scatter\", \"x\": [7, 8, 9, 10, 11, 12], \"y\": [9.06, 10.15, 17.86, 19.11, 16.2, 22.07]}, {\"name\": \"Ingest\\u00e3o de Subst\\u00e2ncias Psicoativas- Previsto\", \"type\": \"scatter\", \"x\": [7, 8, 9, 10, 11, 12], \"y\": [2.4, 2.15, 1.94, 3.08, 3.16, 2.86]}, {\"name\": \"Ingest\\u00e3o de \\u00c1lcool- Previsto\", \"type\": \"scatter\", \"x\": [7, 8, 9, 10, 11, 12], \"y\": [256.97, 256.25, 284.14, 267.59, 265.54, 333.0]}, {\"name\": \"Mal S\\u00fabito- Previsto\", \"type\": \"scatter\", \"x\": [7, 8, 9, 10, 11, 12], \"y\": [38.71, 38.59, 39.06, 39.2, 39.59, 40.29]}, {\"name\": \"N\\u00e3o guardar dist\\u00e2ncia de seguran\\u00e7a- Previsto\", \"type\": \"scatter\", \"x\": [7, 8, 9, 10, 11, 12], \"y\": [231.88, 231.88, 231.88, 231.88, 231.88, 247.17]}, {\"name\": \"Objeto est\\u00e1tico sobre o leito carro\\u00e7\\u00e1vel- Previsto\", \"type\": \"scatter\", \"x\": [7, 8, 9, 10, 11, 12], \"y\": [37.7, 34.58, 29.73, 45.86, 35.89, 33.97]}, {\"name\": \"Pista Escorregadia- Previsto\", \"type\": \"scatter\", \"x\": [7, 8, 9, 10, 11, 12], \"y\": [120.98, 149.07, 161.53, 191.65, 244.97, 229.94]}, {\"name\": \"Restri\\u00e7\\u00e3o de Visibilidade- Previsto\", \"type\": \"scatter\", \"x\": [7, 8, 9, 10, 11, 12], \"y\": [29.34, 28.26, 25.12, 30.06, 27.9, 31.23]}, {\"name\": \"Sinaliza\\u00e7\\u00e3o da via insuficiente ou inadequada- Previsto\", \"type\": \"scatter\", \"x\": [7, 8, 9, 10, 11, 12], \"y\": [25.03, 23.83, 20.71, 23.36, 21.85, 20.33]}, {\"name\": \"Ultrapassagem Indevida- Previsto\", \"type\": \"scatter\", \"x\": [7, 8, 9, 10, 11, 12], \"y\": [92.16, 99.14, 92.39, 94.9, 95.55, 113.45]}, {\"name\": \"Velocidade Incompat\\u00edvel- Previsto\", \"type\": \"scatter\", \"x\": [7, 8, 9, 10, 11, 12], \"y\": [360.65, 385.81, 424.26, 464.11, 531.94, 570.39]}, {\"name\": \"Agress\\u00e3o Externa- Previsto\", \"type\": \"scatter\", \"x\": [7, 8, 9, 10, 11, 12], \"y\": [22.31, 31.5, 22.81, 22.9, 21.48, 38.11]}, {\"name\": \"Desobedi\\u00eancia \\u00e0s normas de tr\\u00e2nsito pelo pedestre- Previsto\", \"type\": \"scatter\", \"x\": [7, 8, 9, 10, 11, 12], \"y\": [12.7, 15.76, 14.77, 14.37, 16.97, 14.96]}, {\"name\": \"Ingest\\u00e3o de \\u00e1lcool e/ou subst\\u00e2ncias psicoativas pelo pedestre- Previsto\", \"type\": \"scatter\", \"x\": [7, 8, 9, 10, 11, 12], \"y\": [21.6, 21.8, 18.86, 16.88, 21.14, 29.21]}],\n",
              "                        {\"template\": {\"data\": {\"bar\": [{\"error_x\": {\"color\": \"#2a3f5f\"}, \"error_y\": {\"color\": \"#2a3f5f\"}, \"marker\": {\"line\": {\"color\": \"#E5ECF6\", \"width\": 0.5}}, \"type\": \"bar\"}], \"barpolar\": [{\"marker\": {\"line\": {\"color\": \"#E5ECF6\", \"width\": 0.5}}, \"type\": \"barpolar\"}], \"carpet\": [{\"aaxis\": {\"endlinecolor\": \"#2a3f5f\", \"gridcolor\": \"white\", \"linecolor\": \"white\", \"minorgridcolor\": \"white\", \"startlinecolor\": \"#2a3f5f\"}, \"baxis\": {\"endlinecolor\": \"#2a3f5f\", \"gridcolor\": \"white\", \"linecolor\": \"white\", \"minorgridcolor\": \"white\", \"startlinecolor\": \"#2a3f5f\"}, \"type\": \"carpet\"}], \"choropleth\": [{\"colorbar\": {\"outlinewidth\": 0, \"ticks\": \"\"}, \"type\": \"choropleth\"}], \"contour\": [{\"colorbar\": {\"outlinewidth\": 0, \"ticks\": \"\"}, \"colorscale\": [[0.0, \"#0d0887\"], [0.1111111111111111, \"#46039f\"], [0.2222222222222222, \"#7201a8\"], [0.3333333333333333, \"#9c179e\"], [0.4444444444444444, \"#bd3786\"], [0.5555555555555556, \"#d8576b\"], [0.6666666666666666, \"#ed7953\"], [0.7777777777777778, \"#fb9f3a\"], [0.8888888888888888, \"#fdca26\"], [1.0, \"#f0f921\"]], \"type\": \"contour\"}], \"contourcarpet\": [{\"colorbar\": {\"outlinewidth\": 0, \"ticks\": \"\"}, \"type\": \"contourcarpet\"}], \"heatmap\": [{\"colorbar\": {\"outlinewidth\": 0, \"ticks\": \"\"}, \"colorscale\": [[0.0, \"#0d0887\"], [0.1111111111111111, \"#46039f\"], [0.2222222222222222, \"#7201a8\"], [0.3333333333333333, \"#9c179e\"], [0.4444444444444444, \"#bd3786\"], [0.5555555555555556, \"#d8576b\"], [0.6666666666666666, \"#ed7953\"], [0.7777777777777778, \"#fb9f3a\"], [0.8888888888888888, \"#fdca26\"], [1.0, \"#f0f921\"]], \"type\": \"heatmap\"}], \"heatmapgl\": [{\"colorbar\": {\"outlinewidth\": 0, \"ticks\": \"\"}, \"colorscale\": [[0.0, \"#0d0887\"], [0.1111111111111111, \"#46039f\"], [0.2222222222222222, \"#7201a8\"], [0.3333333333333333, \"#9c179e\"], [0.4444444444444444, \"#bd3786\"], [0.5555555555555556, \"#d8576b\"], [0.6666666666666666, \"#ed7953\"], [0.7777777777777778, \"#fb9f3a\"], [0.8888888888888888, \"#fdca26\"], [1.0, \"#f0f921\"]], \"type\": \"heatmapgl\"}], \"histogram\": [{\"marker\": {\"colorbar\": {\"outlinewidth\": 0, \"ticks\": \"\"}}, \"type\": \"histogram\"}], \"histogram2d\": [{\"colorbar\": {\"outlinewidth\": 0, \"ticks\": \"\"}, \"colorscale\": [[0.0, \"#0d0887\"], [0.1111111111111111, \"#46039f\"], [0.2222222222222222, \"#7201a8\"], [0.3333333333333333, \"#9c179e\"], [0.4444444444444444, \"#bd3786\"], [0.5555555555555556, \"#d8576b\"], [0.6666666666666666, \"#ed7953\"], [0.7777777777777778, \"#fb9f3a\"], [0.8888888888888888, \"#fdca26\"], [1.0, \"#f0f921\"]], \"type\": \"histogram2d\"}], \"histogram2dcontour\": [{\"colorbar\": {\"outlinewidth\": 0, \"ticks\": \"\"}, \"colorscale\": [[0.0, \"#0d0887\"], [0.1111111111111111, \"#46039f\"], [0.2222222222222222, \"#7201a8\"], [0.3333333333333333, \"#9c179e\"], [0.4444444444444444, \"#bd3786\"], [0.5555555555555556, \"#d8576b\"], [0.6666666666666666, \"#ed7953\"], [0.7777777777777778, \"#fb9f3a\"], [0.8888888888888888, \"#fdca26\"], [1.0, \"#f0f921\"]], \"type\": \"histogram2dcontour\"}], \"mesh3d\": [{\"colorbar\": {\"outlinewidth\": 0, \"ticks\": \"\"}, \"type\": \"mesh3d\"}], \"parcoords\": [{\"line\": {\"colorbar\": {\"outlinewidth\": 0, \"ticks\": \"\"}}, \"type\": \"parcoords\"}], \"pie\": [{\"automargin\": true, \"type\": \"pie\"}], \"scatter\": [{\"marker\": {\"colorbar\": {\"outlinewidth\": 0, \"ticks\": \"\"}}, \"type\": \"scatter\"}], \"scatter3d\": [{\"line\": {\"colorbar\": {\"outlinewidth\": 0, \"ticks\": \"\"}}, \"marker\": {\"colorbar\": {\"outlinewidth\": 0, \"ticks\": \"\"}}, \"type\": \"scatter3d\"}], \"scattercarpet\": [{\"marker\": {\"colorbar\": {\"outlinewidth\": 0, \"ticks\": \"\"}}, \"type\": \"scattercarpet\"}], \"scattergeo\": [{\"marker\": {\"colorbar\": {\"outlinewidth\": 0, \"ticks\": \"\"}}, \"type\": \"scattergeo\"}], \"scattergl\": [{\"marker\": {\"colorbar\": {\"outlinewidth\": 0, \"ticks\": \"\"}}, \"type\": \"scattergl\"}], \"scattermapbox\": [{\"marker\": {\"colorbar\": {\"outlinewidth\": 0, \"ticks\": \"\"}}, \"type\": \"scattermapbox\"}], \"scatterpolar\": [{\"marker\": {\"colorbar\": {\"outlinewidth\": 0, \"ticks\": \"\"}}, \"type\": \"scatterpolar\"}], \"scatterpolargl\": [{\"marker\": {\"colorbar\": {\"outlinewidth\": 0, \"ticks\": \"\"}}, \"type\": \"scatterpolargl\"}], \"scatterternary\": [{\"marker\": {\"colorbar\": {\"outlinewidth\": 0, \"ticks\": \"\"}}, \"type\": \"scatterternary\"}], \"surface\": [{\"colorbar\": {\"outlinewidth\": 0, \"ticks\": \"\"}, \"colorscale\": [[0.0, \"#0d0887\"], [0.1111111111111111, \"#46039f\"], [0.2222222222222222, \"#7201a8\"], [0.3333333333333333, \"#9c179e\"], [0.4444444444444444, \"#bd3786\"], [0.5555555555555556, \"#d8576b\"], [0.6666666666666666, \"#ed7953\"], [0.7777777777777778, \"#fb9f3a\"], [0.8888888888888888, \"#fdca26\"], [1.0, \"#f0f921\"]], \"type\": \"surface\"}], \"table\": [{\"cells\": {\"fill\": {\"color\": \"#EBF0F8\"}, \"line\": {\"color\": \"white\"}}, \"header\": {\"fill\": {\"color\": \"#C8D4E3\"}, \"line\": {\"color\": \"white\"}}, \"type\": \"table\"}]}, \"layout\": {\"annotationdefaults\": {\"arrowcolor\": \"#2a3f5f\", \"arrowhead\": 0, \"arrowwidth\": 1}, \"coloraxis\": {\"colorbar\": {\"outlinewidth\": 0, \"ticks\": \"\"}}, \"colorscale\": {\"diverging\": [[0, \"#8e0152\"], [0.1, \"#c51b7d\"], [0.2, \"#de77ae\"], [0.3, \"#f1b6da\"], [0.4, \"#fde0ef\"], [0.5, \"#f7f7f7\"], [0.6, \"#e6f5d0\"], [0.7, \"#b8e186\"], [0.8, \"#7fbc41\"], [0.9, \"#4d9221\"], [1, \"#276419\"]], \"sequential\": [[0.0, \"#0d0887\"], [0.1111111111111111, \"#46039f\"], [0.2222222222222222, \"#7201a8\"], [0.3333333333333333, \"#9c179e\"], [0.4444444444444444, \"#bd3786\"], [0.5555555555555556, \"#d8576b\"], [0.6666666666666666, \"#ed7953\"], [0.7777777777777778, \"#fb9f3a\"], [0.8888888888888888, \"#fdca26\"], [1.0, \"#f0f921\"]], \"sequentialminus\": [[0.0, \"#0d0887\"], [0.1111111111111111, \"#46039f\"], [0.2222222222222222, \"#7201a8\"], [0.3333333333333333, \"#9c179e\"], [0.4444444444444444, \"#bd3786\"], [0.5555555555555556, \"#d8576b\"], [0.6666666666666666, \"#ed7953\"], [0.7777777777777778, \"#fb9f3a\"], [0.8888888888888888, \"#fdca26\"], [1.0, \"#f0f921\"]]}, \"colorway\": [\"#636efa\", \"#EF553B\", \"#00cc96\", \"#ab63fa\", \"#FFA15A\", \"#19d3f3\", \"#FF6692\", \"#B6E880\", \"#FF97FF\", \"#FECB52\"], \"font\": {\"color\": \"#2a3f5f\"}, \"geo\": {\"bgcolor\": \"white\", \"lakecolor\": \"white\", \"landcolor\": \"#E5ECF6\", \"showlakes\": true, \"showland\": true, \"subunitcolor\": \"white\"}, \"hoverlabel\": {\"align\": \"left\"}, \"hovermode\": \"closest\", \"mapbox\": {\"style\": \"light\"}, \"paper_bgcolor\": \"white\", \"plot_bgcolor\": \"#E5ECF6\", \"polar\": {\"angularaxis\": {\"gridcolor\": \"white\", \"linecolor\": \"white\", \"ticks\": \"\"}, \"bgcolor\": \"#E5ECF6\", \"radialaxis\": {\"gridcolor\": \"white\", \"linecolor\": \"white\", \"ticks\": \"\"}}, \"scene\": {\"xaxis\": {\"backgroundcolor\": \"#E5ECF6\", \"gridcolor\": \"white\", \"gridwidth\": 2, \"linecolor\": \"white\", \"showbackground\": true, \"ticks\": \"\", \"zerolinecolor\": \"white\"}, \"yaxis\": {\"backgroundcolor\": \"#E5ECF6\", \"gridcolor\": \"white\", \"gridwidth\": 2, \"linecolor\": \"white\", \"showbackground\": true, \"ticks\": \"\", \"zerolinecolor\": \"white\"}, \"zaxis\": {\"backgroundcolor\": \"#E5ECF6\", \"gridcolor\": \"white\", \"gridwidth\": 2, \"linecolor\": \"white\", \"showbackground\": true, \"ticks\": \"\", \"zerolinecolor\": \"white\"}}, \"shapedefaults\": {\"line\": {\"color\": \"#2a3f5f\"}}, \"ternary\": {\"aaxis\": {\"gridcolor\": \"white\", \"linecolor\": \"white\", \"ticks\": \"\"}, \"baxis\": {\"gridcolor\": \"white\", \"linecolor\": \"white\", \"ticks\": \"\"}, \"bgcolor\": \"#E5ECF6\", \"caxis\": {\"gridcolor\": \"white\", \"linecolor\": \"white\", \"ticks\": \"\"}}, \"title\": {\"x\": 0.05}, \"xaxis\": {\"automargin\": true, \"gridcolor\": \"white\", \"linecolor\": \"white\", \"ticks\": \"\", \"title\": {\"standoff\": 15}, \"zerolinecolor\": \"white\", \"zerolinewidth\": 2}, \"yaxis\": {\"automargin\": true, \"gridcolor\": \"white\", \"linecolor\": \"white\", \"ticks\": \"\", \"title\": {\"standoff\": 15}, \"zerolinecolor\": \"white\", \"zerolinewidth\": 2}}}, \"title\": {\"text\": \"Quantidade de Feridos Leves envolvidos em acidentes, por m\\u00eas, em 2020 em cada causa de acidente- Dados reais e previstos\"}},\n",
              "                        {\"responsive\": true}\n",
              "                    ).then(function(){\n",
              "                            \n",
              "var gd = document.getElementById('e0616d8b-bbc8-41e5-b3fb-84d174155e90');\n",
              "var x = new MutationObserver(function (mutations, observer) {{\n",
              "        var display = window.getComputedStyle(gd).display;\n",
              "        if (!display || display === 'none') {{\n",
              "            console.log([gd, 'removed!']);\n",
              "            Plotly.purge(gd);\n",
              "            observer.disconnect();\n",
              "        }}\n",
              "}});\n",
              "\n",
              "// Listen for the removal of the full notebook cells\n",
              "var notebookContainer = gd.closest('#notebook-container');\n",
              "if (notebookContainer) {{\n",
              "    x.observe(notebookContainer, {childList: true});\n",
              "}}\n",
              "\n",
              "// Listen for the clearing of the current output cell\n",
              "var outputEl = gd.closest('.output');\n",
              "if (outputEl) {{\n",
              "    x.observe(outputEl, {childList: true});\n",
              "}}\n",
              "\n",
              "                        })\n",
              "                };\n",
              "                \n",
              "            </script>\n",
              "        </div>\n",
              "</body>\n",
              "</html>"
            ]
          },
          "metadata": {
            "tags": []
          }
        }
      ]
    },
    {
      "cell_type": "markdown",
      "metadata": {
        "id": "A-OhlQan504B"
      },
      "source": [
        "##### Quatidade de Feridos Graves"
      ]
    },
    {
      "cell_type": "code",
      "metadata": {
        "id": "3lefl_8U504B",
        "outputId": "6b872a47-f1e6-41e5-cd74-0bf9cc0a306c",
        "colab": {
          "base_uri": "https://localhost:8080/"
        }
      },
      "source": [
        "data_plot = cria_data_plot('qtd_feridos_graves')\n",
        "fig = go.Figure(data=data_plot)\n",
        "fig.update_layout(title_text='Quantidade de vítimas em estado grave envolvidos em acidentes, por mês, em 2020 em cada causa de acidente - Dados reais e previstos')\n",
        "fig.show()"
      ],
      "execution_count": null,
      "outputs": [
        {
          "output_type": "stream",
          "text": [
            "/usr/local/lib/python3.6/dist-packages/plotly/graph_objs/_deprecations.py:385: DeprecationWarning:\n",
            "\n",
            "plotly.graph_objs.Line is deprecated.\n",
            "Please replace it with one of the following more specific types\n",
            "  - plotly.graph_objs.scatter.Line\n",
            "  - plotly.graph_objs.layout.shape.Line\n",
            "  - etc.\n",
            "\n",
            "\n"
          ],
          "name": "stderr"
        },
        {
          "output_type": "display_data",
          "data": {
            "text/html": [
              "<html>\n",
              "<head><meta charset=\"utf-8\" /></head>\n",
              "<body>\n",
              "    <div>\n",
              "            <script src=\"https://cdnjs.cloudflare.com/ajax/libs/mathjax/2.7.5/MathJax.js?config=TeX-AMS-MML_SVG\"></script><script type=\"text/javascript\">if (window.MathJax) {MathJax.Hub.Config({SVG: {font: \"STIX-Web\"}});}</script>\n",
              "                <script type=\"text/javascript\">window.PlotlyConfig = {MathJaxConfig: 'local'};</script>\n",
              "        <script src=\"https://cdn.plot.ly/plotly-latest.min.js\"></script>    \n",
              "            <div id=\"1ba19d8e-7bcb-47fb-8824-979274d1b898\" class=\"plotly-graph-div\" style=\"height:525px; width:100%;\"></div>\n",
              "            <script type=\"text/javascript\">\n",
              "                \n",
              "                    window.PLOTLYENV=window.PLOTLYENV || {};\n",
              "                    \n",
              "                if (document.getElementById(\"1ba19d8e-7bcb-47fb-8824-979274d1b898\")) {\n",
              "                    Plotly.newPlot(\n",
              "                        '1ba19d8e-7bcb-47fb-8824-979274d1b898',\n",
              "                        [{\"name\": \"Falta de Aten\\u00e7\\u00e3o do Pedestre- Real\", \"type\": \"scatter\", \"x\": [1, 2, 3, 4, 5, 6, 7], \"y\": [57.0, 71.0, 63.0, 47.0, 49.0, 52.0, 46.0]}, {\"name\": \"Agress\\u00e3o Externa- Real\", \"type\": \"scatter\", \"x\": [1, 2, 3, 4, 5, 6, 7], \"y\": [7.0, 6.0, 6.0, 2.0, 2.0, 3.0, 7.0]}, {\"name\": \"Animais na Pista- Real\", \"type\": \"scatter\", \"x\": [1, 2, 3, 4, 5, 6, 7], \"y\": [34.0, 33.0, 42.0, 18.0, 15.0, 16.0, 30.0]}, {\"name\": \"Avarias e/ou desgaste excessivo no pneu- Real\", \"type\": \"scatter\", \"x\": [1, 2, 3, 4, 5, 6, 7], \"y\": [27.0, 22.0, 16.0, 15.0, 18.0, 7.0, 6.0]}, {\"name\": \"Carga excessiva e/ou mal acondicionada- Real\", \"type\": \"scatter\", \"x\": [1, 2, 3, 4, 5, 6, 7], \"y\": [4.0, 4.0, 0.0, 2.0, 2.0, 7.0, 1.0]}, {\"name\": \"Condutor Dormindo- Real\", \"type\": \"scatter\", \"x\": [1, 2, 3, 4, 5, 6, 7], \"y\": [89.0, 90.0, 47.0, 29.0, 30.0, 31.0, 30.0]}, {\"name\": \"Defeito Mec\\u00e2nico no Ve\\u00edculo- Real\", \"type\": \"scatter\", \"x\": [1, 2, 3, 4, 5, 6, 7], \"y\": [47.0, 51.0, 57.0, 30.0, 33.0, 32.0, 40.0]}, {\"name\": \"Defeito na Via- Real\", \"type\": \"scatter\", \"x\": [1, 2, 3, 4, 5, 6, 7], \"y\": [20.0, 20.0, 20.0, 27.0, 20.0, 17.0, 18.0]}, {\"name\": \"Defici\\u00eancia ou n\\u00e3o Acionamento do Sistema de Ilumina\\u00e7\\u00e3o/Sinaliza\\u00e7\\u00e3o do Ve\\u00edculo- Real\", \"type\": \"scatter\", \"x\": [1, 2, 3, 4, 5, 6, 7], \"y\": [3.0, 2.0, 4.0, 8.0, 7.0, 6.0, 10.0]}, {\"name\": \"Desobedi\\u00eancia \\u00e0s normas de tr\\u00e2nsito pelo condutor- Real\", \"type\": \"scatter\", \"x\": [1, 2, 3, 4, 5, 6, 7], \"y\": [267.0, 201.0, 217.0, 210.0, 222.0, 220.0, 234.0]}, {\"name\": \"Restri\\u00e7\\u00e3o de Visibilidade- Real\", \"type\": \"scatter\", \"x\": [1, 2, 3, 4, 5, 6, 7], \"y\": [6.0, 10.0, 16.0, 13.0, 12.0, 17.0, 15.0]}, {\"name\": \"Desobedi\\u00eancia \\u00e0s normas de tr\\u00e2nsito pelo pedestre- Real\", \"type\": \"scatter\", \"x\": [1, 2, 3, 4, 5, 6, 7], \"y\": [4.0, 13.0, 13.0, 7.0, 16.0, 21.0, 7.0]}, {\"name\": \"Falta de Aten\\u00e7\\u00e3o \\u00e0 Condu\\u00e7\\u00e3o- Real\", \"type\": \"scatter\", \"x\": [1, 2, 3, 4, 5, 6, 7], \"y\": [444.0, 423.0, 336.0, 308.0, 383.0, 428.0, 449.0]}, {\"name\": \"Fen\\u00f4menos da Natureza- Real\", \"type\": \"scatter\", \"x\": [1, 2, 3, 4, 5, 6, 7], \"y\": [6.0, 6.0, 3.0, 3.0, 1.0, 2.0, 3.0]}, {\"name\": \"Ingest\\u00e3o de Subst\\u00e2ncias Psicoativas- Real\", \"type\": \"scatter\", \"x\": [1, 2, 3, 4, 5, 6, 7], \"y\": [0.0, 0.0, 4.0, 1.0, 4.0, 0.0, 0.0]}, {\"name\": \"Ingest\\u00e3o de \\u00c1lcool- Real\", \"type\": \"scatter\", \"x\": [1, 2, 3, 4, 5, 6, 7], \"y\": [87.0, 142.0, 86.0, 63.0, 77.0, 66.0, 77.0]}, {\"name\": \"Ingest\\u00e3o de \\u00e1lcool e/ou subst\\u00e2ncias psicoativas pelo pedestre- Real\", \"type\": \"scatter\", \"x\": [1, 2, 3, 4, 5, 6, 7], \"y\": [13.0, 13.0, 9.0, 3.0, 8.0, 17.0, 4.0]}, {\"name\": \"Mal S\\u00fabito- Real\", \"type\": \"scatter\", \"x\": [1, 2, 3, 4, 5, 6, 7], \"y\": [22.0, 17.0, 12.0, 14.0, 16.0, 8.0, 13.0]}, {\"name\": \"N\\u00e3o guardar dist\\u00e2ncia de seguran\\u00e7a- Real\", \"type\": \"scatter\", \"x\": [1, 2, 3, 4, 5, 6, 7], \"y\": [59.0, 60.0, 37.0, 32.0, 41.0, 34.0, 44.0]}, {\"name\": \"Objeto est\\u00e1tico sobre o leito carro\\u00e7\\u00e1vel- Real\", \"type\": \"scatter\", \"x\": [1, 2, 3, 4, 5, 6, 7], \"y\": [13.0, 14.0, 5.0, 6.0, 4.0, 15.0, 8.0]}, {\"name\": \"Pista Escorregadia- Real\", \"type\": \"scatter\", \"x\": [1, 2, 3, 4, 5, 6, 7], \"y\": [87.0, 54.0, 31.0, 20.0, 13.0, 19.0, 24.0]}, {\"name\": \"Ultrapassagem Indevida- Real\", \"type\": \"scatter\", \"x\": [1, 2, 3, 4, 5, 6, 7], \"y\": [50.0, 48.0, 33.0, 20.0, 41.0, 51.0, 51.0]}, {\"name\": \"Velocidade Incompat\\u00edvel- Real\", \"type\": \"scatter\", \"x\": [1, 2, 3, 4, 5, 6, 7], \"y\": [156.0, 162.0, 147.0, 96.0, 138.0, 131.0, 124.0]}, {\"name\": \"Sinaliza\\u00e7\\u00e3o da via insuficiente ou inadequada- Real\", \"type\": \"scatter\", \"x\": [1, 2, 3, 4, 5, 6, 7], \"y\": [6.0, 2.0, 2.0, 11.0, 6.0, 6.0, 6.0]}, {\"name\": \"Animais na Pista- Previsto\", \"type\": \"scatter\", \"x\": [7, 8, 9, 10, 11, 12], \"y\": [27.72, 27.89, 28.26, 29.43, 26.94, 27.09]}, {\"name\": \"Avarias e/ou desgaste excessivo no pneu- Previsto\", \"type\": \"scatter\", \"x\": [7, 8, 9, 10, 11, 12], \"y\": [6.85, 6.34, 10.53, 10.88, 10.89, 14.7]}, {\"name\": \"Carga excessiva e/ou mal acondicionada- Previsto\", \"type\": \"scatter\", \"x\": [7, 8, 9, 10, 11, 12], \"y\": [2.42, 2.06, 2.23, 1.7, 5.1, 4.92]}, {\"name\": \"Condutor Dormindo- Previsto\", \"type\": \"scatter\", \"x\": [7, 8, 9, 10, 11, 12], \"y\": [32.04, 31.67, 31.22, 31.5, 31.63, 51.36]}, {\"name\": \"Defeito Mec\\u00e2nico no Ve\\u00edculo- Previsto\", \"type\": \"scatter\", \"x\": [7, 8, 9, 10, 11, 12], \"y\": [38.99, 39.49, 42.44, 53.29, 49.51, 56.13]}, {\"name\": \"Defeito na Via- Previsto\", \"type\": \"scatter\", \"x\": [7, 8, 9, 10, 11, 12], \"y\": [19.42, 20.46, 19.9, 19.96, 16.84, 17.05]}, {\"name\": \"Defici\\u00eancia ou n\\u00e3o Acionamento do Sistema de Ilumina\\u00e7\\u00e3o/Sinaliza\\u00e7\\u00e3o do Ve\\u00edculo- Previsto\", \"type\": \"scatter\", \"x\": [7, 8, 9, 10, 11, 12], \"y\": [8.8, 10.52, 6.74, 8.35, 5.26, 4.43]}, {\"name\": \"Desobedi\\u00eancia \\u00e0s normas de tr\\u00e2nsito pelo condutor- Previsto\", \"type\": \"scatter\", \"x\": [7, 8, 9, 10, 11, 12], \"y\": [234.18, 234.57, 231.93, 238.68, 240.64, 259.68]}, {\"name\": \"Falta de Aten\\u00e7\\u00e3o do Pedestre- Previsto\", \"type\": \"scatter\", \"x\": [7, 8, 9, 10, 11, 12], \"y\": [53.07, 52.33, 52.76, 50.68, 51.96, 52.34]}, {\"name\": \"Falta de Aten\\u00e7\\u00e3o \\u00e0 Condu\\u00e7\\u00e3o- Previsto\", \"type\": \"scatter\", \"x\": [7, 8, 9, 10, 11, 12], \"y\": [437.2, 435.24, 434.6, 436.22, 435.61, 435.94]}, {\"name\": \"Fen\\u00f4menos da Natureza- Previsto\", \"type\": \"scatter\", \"x\": [7, 8, 9, 10, 11, 12], \"y\": [2.37, 2.94, 2.95, 3.75, 4.05, 5.04]}, {\"name\": \"Ingest\\u00e3o de Subst\\u00e2ncias Psicoativas- Previsto\", \"type\": \"scatter\", \"x\": [7, 8, 9, 10, 11, 12], \"y\": [0.12, 0.88, 1.55, 2.75, 1.43, 2.49]}, {\"name\": \"Ingest\\u00e3o de \\u00c1lcool- Previsto\", \"type\": \"scatter\", \"x\": [7, 8, 9, 10, 11, 12], \"y\": [78.15, 80.55, 89.03, 86.69, 85.65, 120.9]}, {\"name\": \"Mal S\\u00fabito- Previsto\", \"type\": \"scatter\", \"x\": [7, 8, 9, 10, 11, 12], \"y\": [13.0, 13.16, 13.36, 13.83, 13.39, 12.85]}, {\"name\": \"N\\u00e3o guardar dist\\u00e2ncia de seguran\\u00e7a- Previsto\", \"type\": \"scatter\", \"x\": [7, 8, 9, 10, 11, 12], \"y\": [40.73, 40.73, 40.73, 40.73, 40.73, 43.36]}, {\"name\": \"Objeto est\\u00e1tico sobre o leito carro\\u00e7\\u00e1vel- Previsto\", \"type\": \"scatter\", \"x\": [7, 8, 9, 10, 11, 12], \"y\": [8.32, 8.5, 5.34, 9.88, 9.63, 9.99]}, {\"name\": \"Pista Escorregadia- Previsto\", \"type\": \"scatter\", \"x\": [7, 8, 9, 10, 11, 12], \"y\": [24.59, 21.59, 25.84, 34.82, 61.14, 46.23]}, {\"name\": \"Restri\\u00e7\\u00e3o de Visibilidade- Previsto\", \"type\": \"scatter\", \"x\": [7, 8, 9, 10, 11, 12], \"y\": [15.11, 17.04, 11.04, 12.17, 7.85, 9.31]}, {\"name\": \"Sinaliza\\u00e7\\u00e3o da via insuficiente ou inadequada- Previsto\", \"type\": \"scatter\", \"x\": [7, 8, 9, 10, 11, 12], \"y\": [6.87, 6.7, 5.84, 5.71, 5.77, 7.25]}, {\"name\": \"Ultrapassagem Indevida- Previsto\", \"type\": \"scatter\", \"x\": [7, 8, 9, 10, 11, 12], \"y\": [49.97, 49.36, 47.78, 44.63, 49.03, 64.36]}, {\"name\": \"Velocidade Incompat\\u00edvel- Previsto\", \"type\": \"scatter\", \"x\": [7, 8, 9, 10, 11, 12], \"y\": [127.68, 131.52, 160.34, 171.21, 158.07, 173.08]}, {\"name\": \"Agress\\u00e3o Externa- Previsto\", \"type\": \"scatter\", \"x\": [7, 8, 9, 10, 11, 12], \"y\": [5.83, 9.12, 4.8, 3.86, 4.89, 5.81]}, {\"name\": \"Desobedi\\u00eancia \\u00e0s normas de tr\\u00e2nsito pelo pedestre- Previsto\", \"type\": \"scatter\", \"x\": [7, 8, 9, 10, 11, 12], \"y\": [11.35, 11.99, 10.85, 10.66, 12.17, 10.08]}, {\"name\": \"Ingest\\u00e3o de \\u00e1lcool e/ou subst\\u00e2ncias psicoativas pelo pedestre- Previsto\", \"type\": \"scatter\", \"x\": [7, 8, 9, 10, 11, 12], \"y\": [7.67, 7.91, 11.06, 8.15, 8.37, 11.15]}],\n",
              "                        {\"template\": {\"data\": {\"bar\": [{\"error_x\": {\"color\": \"#2a3f5f\"}, \"error_y\": {\"color\": \"#2a3f5f\"}, \"marker\": {\"line\": {\"color\": \"#E5ECF6\", \"width\": 0.5}}, \"type\": \"bar\"}], \"barpolar\": [{\"marker\": {\"line\": {\"color\": \"#E5ECF6\", \"width\": 0.5}}, \"type\": \"barpolar\"}], \"carpet\": [{\"aaxis\": {\"endlinecolor\": \"#2a3f5f\", \"gridcolor\": \"white\", \"linecolor\": \"white\", \"minorgridcolor\": \"white\", \"startlinecolor\": \"#2a3f5f\"}, \"baxis\": {\"endlinecolor\": \"#2a3f5f\", \"gridcolor\": \"white\", \"linecolor\": \"white\", \"minorgridcolor\": \"white\", \"startlinecolor\": \"#2a3f5f\"}, \"type\": \"carpet\"}], \"choropleth\": [{\"colorbar\": {\"outlinewidth\": 0, \"ticks\": \"\"}, \"type\": \"choropleth\"}], \"contour\": [{\"colorbar\": {\"outlinewidth\": 0, \"ticks\": \"\"}, \"colorscale\": [[0.0, \"#0d0887\"], [0.1111111111111111, \"#46039f\"], [0.2222222222222222, \"#7201a8\"], [0.3333333333333333, \"#9c179e\"], [0.4444444444444444, \"#bd3786\"], [0.5555555555555556, \"#d8576b\"], [0.6666666666666666, \"#ed7953\"], [0.7777777777777778, \"#fb9f3a\"], [0.8888888888888888, \"#fdca26\"], [1.0, \"#f0f921\"]], \"type\": \"contour\"}], \"contourcarpet\": [{\"colorbar\": {\"outlinewidth\": 0, \"ticks\": \"\"}, \"type\": \"contourcarpet\"}], \"heatmap\": [{\"colorbar\": {\"outlinewidth\": 0, \"ticks\": \"\"}, \"colorscale\": [[0.0, \"#0d0887\"], [0.1111111111111111, \"#46039f\"], [0.2222222222222222, \"#7201a8\"], [0.3333333333333333, \"#9c179e\"], [0.4444444444444444, \"#bd3786\"], [0.5555555555555556, \"#d8576b\"], [0.6666666666666666, \"#ed7953\"], [0.7777777777777778, \"#fb9f3a\"], [0.8888888888888888, \"#fdca26\"], [1.0, \"#f0f921\"]], \"type\": \"heatmap\"}], \"heatmapgl\": [{\"colorbar\": {\"outlinewidth\": 0, \"ticks\": \"\"}, \"colorscale\": [[0.0, \"#0d0887\"], [0.1111111111111111, \"#46039f\"], [0.2222222222222222, \"#7201a8\"], [0.3333333333333333, \"#9c179e\"], [0.4444444444444444, \"#bd3786\"], [0.5555555555555556, \"#d8576b\"], [0.6666666666666666, \"#ed7953\"], [0.7777777777777778, \"#fb9f3a\"], [0.8888888888888888, \"#fdca26\"], [1.0, \"#f0f921\"]], \"type\": \"heatmapgl\"}], \"histogram\": [{\"marker\": {\"colorbar\": {\"outlinewidth\": 0, \"ticks\": \"\"}}, \"type\": \"histogram\"}], \"histogram2d\": [{\"colorbar\": {\"outlinewidth\": 0, \"ticks\": \"\"}, \"colorscale\": [[0.0, \"#0d0887\"], [0.1111111111111111, \"#46039f\"], [0.2222222222222222, \"#7201a8\"], [0.3333333333333333, \"#9c179e\"], [0.4444444444444444, \"#bd3786\"], [0.5555555555555556, \"#d8576b\"], [0.6666666666666666, \"#ed7953\"], [0.7777777777777778, \"#fb9f3a\"], [0.8888888888888888, \"#fdca26\"], [1.0, \"#f0f921\"]], \"type\": \"histogram2d\"}], \"histogram2dcontour\": [{\"colorbar\": {\"outlinewidth\": 0, \"ticks\": \"\"}, \"colorscale\": [[0.0, \"#0d0887\"], [0.1111111111111111, \"#46039f\"], [0.2222222222222222, \"#7201a8\"], [0.3333333333333333, \"#9c179e\"], [0.4444444444444444, \"#bd3786\"], [0.5555555555555556, \"#d8576b\"], [0.6666666666666666, \"#ed7953\"], [0.7777777777777778, \"#fb9f3a\"], [0.8888888888888888, \"#fdca26\"], [1.0, \"#f0f921\"]], \"type\": \"histogram2dcontour\"}], \"mesh3d\": [{\"colorbar\": {\"outlinewidth\": 0, \"ticks\": \"\"}, \"type\": \"mesh3d\"}], \"parcoords\": [{\"line\": {\"colorbar\": {\"outlinewidth\": 0, \"ticks\": \"\"}}, \"type\": \"parcoords\"}], \"pie\": [{\"automargin\": true, \"type\": \"pie\"}], \"scatter\": [{\"marker\": {\"colorbar\": {\"outlinewidth\": 0, \"ticks\": \"\"}}, \"type\": \"scatter\"}], \"scatter3d\": [{\"line\": {\"colorbar\": {\"outlinewidth\": 0, \"ticks\": \"\"}}, \"marker\": {\"colorbar\": {\"outlinewidth\": 0, \"ticks\": \"\"}}, \"type\": \"scatter3d\"}], \"scattercarpet\": [{\"marker\": {\"colorbar\": {\"outlinewidth\": 0, \"ticks\": \"\"}}, \"type\": \"scattercarpet\"}], \"scattergeo\": [{\"marker\": {\"colorbar\": {\"outlinewidth\": 0, \"ticks\": \"\"}}, \"type\": \"scattergeo\"}], \"scattergl\": [{\"marker\": {\"colorbar\": {\"outlinewidth\": 0, \"ticks\": \"\"}}, \"type\": \"scattergl\"}], \"scattermapbox\": [{\"marker\": {\"colorbar\": {\"outlinewidth\": 0, \"ticks\": \"\"}}, \"type\": \"scattermapbox\"}], \"scatterpolar\": [{\"marker\": {\"colorbar\": {\"outlinewidth\": 0, \"ticks\": \"\"}}, \"type\": \"scatterpolar\"}], \"scatterpolargl\": [{\"marker\": {\"colorbar\": {\"outlinewidth\": 0, \"ticks\": \"\"}}, \"type\": \"scatterpolargl\"}], \"scatterternary\": [{\"marker\": {\"colorbar\": {\"outlinewidth\": 0, \"ticks\": \"\"}}, \"type\": \"scatterternary\"}], \"surface\": [{\"colorbar\": {\"outlinewidth\": 0, \"ticks\": \"\"}, \"colorscale\": [[0.0, \"#0d0887\"], [0.1111111111111111, \"#46039f\"], [0.2222222222222222, \"#7201a8\"], [0.3333333333333333, \"#9c179e\"], [0.4444444444444444, \"#bd3786\"], [0.5555555555555556, \"#d8576b\"], [0.6666666666666666, \"#ed7953\"], [0.7777777777777778, \"#fb9f3a\"], [0.8888888888888888, \"#fdca26\"], [1.0, \"#f0f921\"]], \"type\": \"surface\"}], \"table\": [{\"cells\": {\"fill\": {\"color\": \"#EBF0F8\"}, \"line\": {\"color\": \"white\"}}, \"header\": {\"fill\": {\"color\": \"#C8D4E3\"}, \"line\": {\"color\": \"white\"}}, \"type\": \"table\"}]}, \"layout\": {\"annotationdefaults\": {\"arrowcolor\": \"#2a3f5f\", \"arrowhead\": 0, \"arrowwidth\": 1}, \"coloraxis\": {\"colorbar\": {\"outlinewidth\": 0, \"ticks\": \"\"}}, \"colorscale\": {\"diverging\": [[0, \"#8e0152\"], [0.1, \"#c51b7d\"], [0.2, \"#de77ae\"], [0.3, \"#f1b6da\"], [0.4, \"#fde0ef\"], [0.5, \"#f7f7f7\"], [0.6, \"#e6f5d0\"], [0.7, \"#b8e186\"], [0.8, \"#7fbc41\"], [0.9, \"#4d9221\"], [1, \"#276419\"]], \"sequential\": [[0.0, \"#0d0887\"], [0.1111111111111111, \"#46039f\"], [0.2222222222222222, \"#7201a8\"], [0.3333333333333333, \"#9c179e\"], [0.4444444444444444, \"#bd3786\"], [0.5555555555555556, \"#d8576b\"], [0.6666666666666666, \"#ed7953\"], [0.7777777777777778, \"#fb9f3a\"], [0.8888888888888888, \"#fdca26\"], [1.0, \"#f0f921\"]], \"sequentialminus\": [[0.0, \"#0d0887\"], [0.1111111111111111, \"#46039f\"], [0.2222222222222222, \"#7201a8\"], [0.3333333333333333, \"#9c179e\"], [0.4444444444444444, \"#bd3786\"], [0.5555555555555556, \"#d8576b\"], [0.6666666666666666, \"#ed7953\"], [0.7777777777777778, \"#fb9f3a\"], [0.8888888888888888, \"#fdca26\"], [1.0, \"#f0f921\"]]}, \"colorway\": [\"#636efa\", \"#EF553B\", \"#00cc96\", \"#ab63fa\", \"#FFA15A\", \"#19d3f3\", \"#FF6692\", \"#B6E880\", \"#FF97FF\", \"#FECB52\"], \"font\": {\"color\": \"#2a3f5f\"}, \"geo\": {\"bgcolor\": \"white\", \"lakecolor\": \"white\", \"landcolor\": \"#E5ECF6\", \"showlakes\": true, \"showland\": true, \"subunitcolor\": \"white\"}, \"hoverlabel\": {\"align\": \"left\"}, \"hovermode\": \"closest\", \"mapbox\": {\"style\": \"light\"}, \"paper_bgcolor\": \"white\", \"plot_bgcolor\": \"#E5ECF6\", \"polar\": {\"angularaxis\": {\"gridcolor\": \"white\", \"linecolor\": \"white\", \"ticks\": \"\"}, \"bgcolor\": \"#E5ECF6\", \"radialaxis\": {\"gridcolor\": \"white\", \"linecolor\": \"white\", \"ticks\": \"\"}}, \"scene\": {\"xaxis\": {\"backgroundcolor\": \"#E5ECF6\", \"gridcolor\": \"white\", \"gridwidth\": 2, \"linecolor\": \"white\", \"showbackground\": true, \"ticks\": \"\", \"zerolinecolor\": \"white\"}, \"yaxis\": {\"backgroundcolor\": \"#E5ECF6\", \"gridcolor\": \"white\", \"gridwidth\": 2, \"linecolor\": \"white\", \"showbackground\": true, \"ticks\": \"\", \"zerolinecolor\": \"white\"}, \"zaxis\": {\"backgroundcolor\": \"#E5ECF6\", \"gridcolor\": \"white\", \"gridwidth\": 2, \"linecolor\": \"white\", \"showbackground\": true, \"ticks\": \"\", \"zerolinecolor\": \"white\"}}, \"shapedefaults\": {\"line\": {\"color\": \"#2a3f5f\"}}, \"ternary\": {\"aaxis\": {\"gridcolor\": \"white\", \"linecolor\": \"white\", \"ticks\": \"\"}, \"baxis\": {\"gridcolor\": \"white\", \"linecolor\": \"white\", \"ticks\": \"\"}, \"bgcolor\": \"#E5ECF6\", \"caxis\": {\"gridcolor\": \"white\", \"linecolor\": \"white\", \"ticks\": \"\"}}, \"title\": {\"x\": 0.05}, \"xaxis\": {\"automargin\": true, \"gridcolor\": \"white\", \"linecolor\": \"white\", \"ticks\": \"\", \"title\": {\"standoff\": 15}, \"zerolinecolor\": \"white\", \"zerolinewidth\": 2}, \"yaxis\": {\"automargin\": true, \"gridcolor\": \"white\", \"linecolor\": \"white\", \"ticks\": \"\", \"title\": {\"standoff\": 15}, \"zerolinecolor\": \"white\", \"zerolinewidth\": 2}}}, \"title\": {\"text\": \"Quantidade de v\\u00edtimas em estado grave envolvidos em acidentes, por m\\u00eas, em 2020 em cada causa de acidente - Dados reais e previstos\"}},\n",
              "                        {\"responsive\": true}\n",
              "                    ).then(function(){\n",
              "                            \n",
              "var gd = document.getElementById('1ba19d8e-7bcb-47fb-8824-979274d1b898');\n",
              "var x = new MutationObserver(function (mutations, observer) {{\n",
              "        var display = window.getComputedStyle(gd).display;\n",
              "        if (!display || display === 'none') {{\n",
              "            console.log([gd, 'removed!']);\n",
              "            Plotly.purge(gd);\n",
              "            observer.disconnect();\n",
              "        }}\n",
              "}});\n",
              "\n",
              "// Listen for the removal of the full notebook cells\n",
              "var notebookContainer = gd.closest('#notebook-container');\n",
              "if (notebookContainer) {{\n",
              "    x.observe(notebookContainer, {childList: true});\n",
              "}}\n",
              "\n",
              "// Listen for the clearing of the current output cell\n",
              "var outputEl = gd.closest('.output');\n",
              "if (outputEl) {{\n",
              "    x.observe(outputEl, {childList: true});\n",
              "}}\n",
              "\n",
              "                        })\n",
              "                };\n",
              "                \n",
              "            </script>\n",
              "        </div>\n",
              "</body>\n",
              "</html>"
            ]
          },
          "metadata": {
            "tags": []
          }
        }
      ]
    },
    {
      "cell_type": "markdown",
      "metadata": {
        "id": "sWYE1cjx504D"
      },
      "source": [
        "##### Quatidade de Mortos"
      ]
    },
    {
      "cell_type": "code",
      "metadata": {
        "id": "oxkgz_PK504D",
        "outputId": "e9491435-80c0-48e9-c776-26da46004931",
        "colab": {
          "base_uri": "https://localhost:8080/"
        }
      },
      "source": [
        "data_plot = cria_data_plot('qtd_mortos')\n",
        "fig = go.Figure(data=data_plot)\n",
        "fig.update_layout(title_text='Quantidade de Mortos envolvidos em acidentes, por mês, em 2020 em cada causa de acidente - Dados reais e previstos')\n",
        "fig.show()"
      ],
      "execution_count": null,
      "outputs": [
        {
          "output_type": "stream",
          "text": [
            "/usr/local/lib/python3.6/dist-packages/plotly/graph_objs/_deprecations.py:385: DeprecationWarning:\n",
            "\n",
            "plotly.graph_objs.Line is deprecated.\n",
            "Please replace it with one of the following more specific types\n",
            "  - plotly.graph_objs.scatter.Line\n",
            "  - plotly.graph_objs.layout.shape.Line\n",
            "  - etc.\n",
            "\n",
            "\n"
          ],
          "name": "stderr"
        },
        {
          "output_type": "display_data",
          "data": {
            "text/html": [
              "<html>\n",
              "<head><meta charset=\"utf-8\" /></head>\n",
              "<body>\n",
              "    <div>\n",
              "            <script src=\"https://cdnjs.cloudflare.com/ajax/libs/mathjax/2.7.5/MathJax.js?config=TeX-AMS-MML_SVG\"></script><script type=\"text/javascript\">if (window.MathJax) {MathJax.Hub.Config({SVG: {font: \"STIX-Web\"}});}</script>\n",
              "                <script type=\"text/javascript\">window.PlotlyConfig = {MathJaxConfig: 'local'};</script>\n",
              "        <script src=\"https://cdn.plot.ly/plotly-latest.min.js\"></script>    \n",
              "            <div id=\"222d7fd0-9430-4899-9b16-0d2a5b3e215f\" class=\"plotly-graph-div\" style=\"height:525px; width:100%;\"></div>\n",
              "            <script type=\"text/javascript\">\n",
              "                \n",
              "                    window.PLOTLYENV=window.PLOTLYENV || {};\n",
              "                    \n",
              "                if (document.getElementById(\"222d7fd0-9430-4899-9b16-0d2a5b3e215f\")) {\n",
              "                    Plotly.newPlot(\n",
              "                        '222d7fd0-9430-4899-9b16-0d2a5b3e215f',\n",
              "                        [{\"name\": \"Falta de Aten\\u00e7\\u00e3o do Pedestre- Real\", \"type\": \"scatter\", \"x\": [1, 2, 3, 4, 5, 6, 7], \"y\": [54.0, 27.0, 61.0, 59.0, 41.0, 45.0, 40.0]}, {\"name\": \"Agress\\u00e3o Externa- Real\", \"type\": \"scatter\", \"x\": [1, 2, 3, 4, 5, 6, 7], \"y\": [4.0, 0.0, 3.0, 0.0, 1.0, 1.0, 1.0]}, {\"name\": \"Animais na Pista- Real\", \"type\": \"scatter\", \"x\": [1, 2, 3, 4, 5, 6, 7], \"y\": [5.0, 11.0, 7.0, 7.0, 3.0, 4.0, 6.0]}, {\"name\": \"Avarias e/ou desgaste excessivo no pneu- Real\", \"type\": \"scatter\", \"x\": [1, 2, 3, 4, 5, 6, 7], \"y\": [10.0, 4.0, 2.0, 7.0, 3.0, 3.0, 3.0]}, {\"name\": \"Carga excessiva e/ou mal acondicionada- Real\", \"type\": \"scatter\", \"x\": [1, 2, 3, 4, 5, 6, 7], \"y\": [0.0, 0.0, 1.0, 0.0, 0.0, 0.0, 1.0]}, {\"name\": \"Condutor Dormindo- Real\", \"type\": \"scatter\", \"x\": [1, 2, 3, 4, 5, 6, 7], \"y\": [23.0, 16.0, 25.0, 12.0, 12.0, 18.0, 31.0]}, {\"name\": \"Defeito Mec\\u00e2nico no Ve\\u00edculo- Real\", \"type\": \"scatter\", \"x\": [1, 2, 3, 4, 5, 6, 7], \"y\": [6.0, 12.0, 9.0, 7.0, 13.0, 3.0, 21.0]}, {\"name\": \"Defeito na Via- Real\", \"type\": \"scatter\", \"x\": [1, 2, 3, 4, 5, 6, 7], \"y\": [4.0, 13.0, 7.0, 5.0, 5.0, 11.0, 6.0]}, {\"name\": \"Defici\\u00eancia ou n\\u00e3o Acionamento do Sistema de Ilumina\\u00e7\\u00e3o/Sinaliza\\u00e7\\u00e3o do Ve\\u00edculo- Real\", \"type\": \"scatter\", \"x\": [1, 2, 3, 4, 5, 6, 7], \"y\": [2.0, 4.0, 4.0, 2.0, 2.0, 4.0, 2.0]}, {\"name\": \"Desobedi\\u00eancia \\u00e0s normas de tr\\u00e2nsito pelo condutor- Real\", \"type\": \"scatter\", \"x\": [1, 2, 3, 4, 5, 6, 7], \"y\": [48.0, 56.0, 55.0, 61.0, 80.0, 53.0, 83.0]}, {\"name\": \"Restri\\u00e7\\u00e3o de Visibilidade- Real\", \"type\": \"scatter\", \"x\": [1, 2, 3, 4, 5, 6, 7], \"y\": [1.0, 1.0, 4.0, 2.0, 5.0, 2.0, 8.0]}, {\"name\": \"Desobedi\\u00eancia \\u00e0s normas de tr\\u00e2nsito pelo pedestre- Real\", \"type\": \"scatter\", \"x\": [1, 2, 3, 4, 5, 6, 7], \"y\": [6.0, 15.0, 9.0, 10.0, 5.0, 7.0, 10.0]}, {\"name\": \"Falta de Aten\\u00e7\\u00e3o \\u00e0 Condu\\u00e7\\u00e3o- Real\", \"type\": \"scatter\", \"x\": [1, 2, 3, 4, 5, 6, 7], \"y\": [113.0, 84.0, 77.0, 72.0, 85.0, 82.0, 122.0]}, {\"name\": \"Fen\\u00f4menos da Natureza- Real\", \"type\": \"scatter\", \"x\": [1, 2, 3, 4, 5, 6, 7], \"y\": [0.0, 1.0, 2.0, 1.0, 0.0, 1.0, 1.0]}, {\"name\": \"Ingest\\u00e3o de Subst\\u00e2ncias Psicoativas- Real\", \"type\": \"scatter\", \"x\": [1, 2, 3, 4, 5, 6, 7], \"y\": [0.0, 0.0, 0.0, 0.0, 1.0, 0.0, 0.0]}, {\"name\": \"Ingest\\u00e3o de \\u00c1lcool- Real\", \"type\": \"scatter\", \"x\": [1, 2, 3, 4, 5, 6, 7], \"y\": [25.0, 24.0, 22.0, 25.0, 24.0, 25.0, 26.0]}, {\"name\": \"Ingest\\u00e3o de \\u00e1lcool e/ou subst\\u00e2ncias psicoativas pelo pedestre- Real\", \"type\": \"scatter\", \"x\": [1, 2, 3, 4, 5, 6, 7], \"y\": [0.0, 3.0, 1.0, 1.0, 3.0, 1.0, 2.0]}, {\"name\": \"Mal S\\u00fabito- Real\", \"type\": \"scatter\", \"x\": [1, 2, 3, 4, 5, 6, 7], \"y\": [11.0, 4.0, 4.0, 7.0, 3.0, 4.0, 1.0]}, {\"name\": \"N\\u00e3o guardar dist\\u00e2ncia de seguran\\u00e7a- Real\", \"type\": \"scatter\", \"x\": [1, 2, 3, 4, 5, 6, 7], \"y\": [6.0, 9.0, 6.0, 4.0, 7.0, 7.0, 8.0]}, {\"name\": \"Objeto est\\u00e1tico sobre o leito carro\\u00e7\\u00e1vel- Real\", \"type\": \"scatter\", \"x\": [1, 2, 3, 4, 5, 6, 7], \"y\": [2.0, 3.0, 1.0, 0.0, 0.0, 0.0, 0.0]}, {\"name\": \"Pista Escorregadia- Real\", \"type\": \"scatter\", \"x\": [1, 2, 3, 4, 5, 6, 7], \"y\": [20.0, 9.0, 13.0, 9.0, 6.0, 3.0, 0.0]}, {\"name\": \"Ultrapassagem Indevida- Real\", \"type\": \"scatter\", \"x\": [1, 2, 3, 4, 5, 6, 7], \"y\": [13.0, 27.0, 22.0, 11.0, 26.0, 18.0, 32.0]}, {\"name\": \"Velocidade Incompat\\u00edvel- Real\", \"type\": \"scatter\", \"x\": [1, 2, 3, 4, 5, 6, 7], \"y\": [57.0, 63.0, 50.0, 52.0, 56.0, 62.0, 47.0]}, {\"name\": \"Sinaliza\\u00e7\\u00e3o da via insuficiente ou inadequada- Real\", \"type\": \"scatter\", \"x\": [1, 2, 3, 4, 5, 6, 7], \"y\": [0.0, 0.0, 4.0, 0.0, 5.0, 2.0, 2.0]}, {\"name\": \"Animais na Pista- Previsto\", \"type\": \"scatter\", \"x\": [7, 8, 9, 10, 11, 12], \"y\": [5.94, 5.93, 5.39, 5.33, 5.93, 6.08]}, {\"name\": \"Avarias e/ou desgaste excessivo no pneu- Previsto\", \"type\": \"scatter\", \"x\": [7, 8, 9, 10, 11, 12], \"y\": [2.81, 2.93, 2.7, 3.14, 2.66, 3.73]}, {\"name\": \"Carga excessiva e/ou mal acondicionada- Previsto\", \"type\": \"scatter\", \"x\": [7, 8, 9, 10, 11, 12], \"y\": [0.74, 2.55, 1.61, 1.32, 1.71, 1.14]}, {\"name\": \"Condutor Dormindo- Previsto\", \"type\": \"scatter\", \"x\": [7, 8, 9, 10, 11, 12], \"y\": [26.26, 26.23, 26.08, 26.13, 26.22, 30.63]}, {\"name\": \"Defeito Mec\\u00e2nico no Ve\\u00edculo- Previsto\", \"type\": \"scatter\", \"x\": [7, 8, 9, 10, 11, 12], \"y\": [15.71, 11.85, 12.24, 11.33, 10.26, 10.06]}, {\"name\": \"Defeito na Via- Previsto\", \"type\": \"scatter\", \"x\": [7, 8, 9, 10, 11, 12], \"y\": [6.52, 5.55, 6.22, 7.3, 5.41, 5.28]}, {\"name\": \"Defici\\u00eancia ou n\\u00e3o Acionamento do Sistema de Ilumina\\u00e7\\u00e3o/Sinaliza\\u00e7\\u00e3o do Ve\\u00edculo- Previsto\", \"type\": \"scatter\", \"x\": [7, 8, 9, 10, 11, 12], \"y\": [2.24, 3.36, 2.26, 1.65, 2.17, 2.71]}, {\"name\": \"Desobedi\\u00eancia \\u00e0s normas de tr\\u00e2nsito pelo condutor- Previsto\", \"type\": \"scatter\", \"x\": [7, 8, 9, 10, 11, 12], \"y\": [76.34, 76.37, 76.91, 68.25, 71.71, 71.48]}, {\"name\": \"Falta de Aten\\u00e7\\u00e3o do Pedestre- Previsto\", \"type\": \"scatter\", \"x\": [7, 8, 9, 10, 11, 12], \"y\": [42.78, 43.07, 43.42, 43.25, 42.77, 42.59]}, {\"name\": \"Falta de Aten\\u00e7\\u00e3o \\u00e0 Condu\\u00e7\\u00e3o- Previsto\", \"type\": \"scatter\", \"x\": [7, 8, 9, 10, 11, 12], \"y\": [106.23, 105.78, 105.88, 105.88, 105.8, 105.66]}, {\"name\": \"Fen\\u00f4menos da Natureza- Previsto\", \"type\": \"scatter\", \"x\": [7, 8, 9, 10, 11, 12], \"y\": [0.86, 0.51, 0.27, 1.36, 0.46, 0.18]}, {\"name\": \"Ingest\\u00e3o de Subst\\u00e2ncias Psicoativas- Previsto\", \"type\": \"scatter\", \"x\": [7, 8, 9, 10, 11, 12], \"y\": [0.16, 1.07, 0.29, 0.19, 0.85, 0.31]}, {\"name\": \"Ingest\\u00e3o de \\u00c1lcool- Previsto\", \"type\": \"scatter\", \"x\": [7, 8, 9, 10, 11, 12], \"y\": [26.07, 25.63, 26.17, 26.01, 25.35, 29.93]}, {\"name\": \"Mal S\\u00fabito- Previsto\", \"type\": \"scatter\", \"x\": [7, 8, 9, 10, 11, 12], \"y\": [2.63, 2.46, 2.39, 2.92, 3.13, 3.3]}, {\"name\": \"N\\u00e3o guardar dist\\u00e2ncia de seguran\\u00e7a- Previsto\", \"type\": \"scatter\", \"x\": [7, 8, 9, 10, 11, 12], \"y\": [7.4, 7.4, 7.4, 7.4, 7.4, 7.76]}, {\"name\": \"Objeto est\\u00e1tico sobre o leito carro\\u00e7\\u00e1vel- Previsto\", \"type\": \"scatter\", \"x\": [7, 8, 9, 10, 11, 12], \"y\": [0.1, 1.08, 0.83, 0.97, 1.57, 0.7]}, {\"name\": \"Pista Escorregadia- Previsto\", \"type\": \"scatter\", \"x\": [7, 8, 9, 10, 11, 12], \"y\": [1.49, 3.56, 4.28, 10.23, 14.6, 13.59]}, {\"name\": \"Restri\\u00e7\\u00e3o de Visibilidade- Previsto\", \"type\": \"scatter\", \"x\": [7, 8, 9, 10, 11, 12], \"y\": [7.25, 7.29, 6.86, 4.62, 5.32, 8.0]}, {\"name\": \"Sinaliza\\u00e7\\u00e3o da via insuficiente ou inadequada- Previsto\", \"type\": \"scatter\", \"x\": [7, 8, 9, 10, 11, 12], \"y\": [2.31, 2.28, 1.49, 1.4, 2.05, 1.98]}, {\"name\": \"Ultrapassagem Indevida- Previsto\", \"type\": \"scatter\", \"x\": [7, 8, 9, 10, 11, 12], \"y\": [27.56, 30.17, 27.45, 23.34, 25.39, 33.77]}, {\"name\": \"Velocidade Incompat\\u00edvel- Previsto\", \"type\": \"scatter\", \"x\": [7, 8, 9, 10, 11, 12], \"y\": [52.57, 50.65, 58.06, 60.66, 69.76, 67.0]}, {\"name\": \"Agress\\u00e3o Externa- Previsto\", \"type\": \"scatter\", \"x\": [7, 8, 9, 10, 11, 12], \"y\": [0.98, 1.0, 1.39, 1.55, 2.38, 0.84]}, {\"name\": \"Desobedi\\u00eancia \\u00e0s normas de tr\\u00e2nsito pelo pedestre- Previsto\", \"type\": \"scatter\", \"x\": [7, 8, 9, 10, 11, 12], \"y\": [9.14, 11.16, 11.43, 10.91, 10.89, 9.6]}, {\"name\": \"Ingest\\u00e3o de \\u00e1lcool e/ou subst\\u00e2ncias psicoativas pelo pedestre- Previsto\", \"type\": \"scatter\", \"x\": [7, 8, 9, 10, 11, 12], \"y\": [1.79, 1.74, 3.22, 2.06, 2.08, 3.56]}],\n",
              "                        {\"template\": {\"data\": {\"bar\": [{\"error_x\": {\"color\": \"#2a3f5f\"}, \"error_y\": {\"color\": \"#2a3f5f\"}, \"marker\": {\"line\": {\"color\": \"#E5ECF6\", \"width\": 0.5}}, \"type\": \"bar\"}], \"barpolar\": [{\"marker\": {\"line\": {\"color\": \"#E5ECF6\", \"width\": 0.5}}, \"type\": \"barpolar\"}], \"carpet\": [{\"aaxis\": {\"endlinecolor\": \"#2a3f5f\", \"gridcolor\": \"white\", \"linecolor\": \"white\", \"minorgridcolor\": \"white\", \"startlinecolor\": \"#2a3f5f\"}, \"baxis\": {\"endlinecolor\": \"#2a3f5f\", \"gridcolor\": \"white\", \"linecolor\": \"white\", \"minorgridcolor\": \"white\", \"startlinecolor\": \"#2a3f5f\"}, \"type\": \"carpet\"}], \"choropleth\": [{\"colorbar\": {\"outlinewidth\": 0, \"ticks\": \"\"}, \"type\": \"choropleth\"}], \"contour\": [{\"colorbar\": {\"outlinewidth\": 0, \"ticks\": \"\"}, \"colorscale\": [[0.0, \"#0d0887\"], [0.1111111111111111, \"#46039f\"], [0.2222222222222222, \"#7201a8\"], [0.3333333333333333, \"#9c179e\"], [0.4444444444444444, \"#bd3786\"], [0.5555555555555556, \"#d8576b\"], [0.6666666666666666, \"#ed7953\"], [0.7777777777777778, \"#fb9f3a\"], [0.8888888888888888, \"#fdca26\"], [1.0, \"#f0f921\"]], \"type\": \"contour\"}], \"contourcarpet\": [{\"colorbar\": {\"outlinewidth\": 0, \"ticks\": \"\"}, \"type\": \"contourcarpet\"}], \"heatmap\": [{\"colorbar\": {\"outlinewidth\": 0, \"ticks\": \"\"}, \"colorscale\": [[0.0, \"#0d0887\"], [0.1111111111111111, \"#46039f\"], [0.2222222222222222, \"#7201a8\"], [0.3333333333333333, \"#9c179e\"], [0.4444444444444444, \"#bd3786\"], [0.5555555555555556, \"#d8576b\"], [0.6666666666666666, \"#ed7953\"], [0.7777777777777778, \"#fb9f3a\"], [0.8888888888888888, \"#fdca26\"], [1.0, \"#f0f921\"]], \"type\": \"heatmap\"}], \"heatmapgl\": [{\"colorbar\": {\"outlinewidth\": 0, \"ticks\": \"\"}, \"colorscale\": [[0.0, \"#0d0887\"], [0.1111111111111111, \"#46039f\"], [0.2222222222222222, \"#7201a8\"], [0.3333333333333333, \"#9c179e\"], [0.4444444444444444, \"#bd3786\"], [0.5555555555555556, \"#d8576b\"], [0.6666666666666666, \"#ed7953\"], [0.7777777777777778, \"#fb9f3a\"], [0.8888888888888888, \"#fdca26\"], [1.0, \"#f0f921\"]], \"type\": \"heatmapgl\"}], \"histogram\": [{\"marker\": {\"colorbar\": {\"outlinewidth\": 0, \"ticks\": \"\"}}, \"type\": \"histogram\"}], \"histogram2d\": [{\"colorbar\": {\"outlinewidth\": 0, \"ticks\": \"\"}, \"colorscale\": [[0.0, \"#0d0887\"], [0.1111111111111111, \"#46039f\"], [0.2222222222222222, \"#7201a8\"], [0.3333333333333333, \"#9c179e\"], [0.4444444444444444, \"#bd3786\"], [0.5555555555555556, \"#d8576b\"], [0.6666666666666666, \"#ed7953\"], [0.7777777777777778, \"#fb9f3a\"], [0.8888888888888888, \"#fdca26\"], [1.0, \"#f0f921\"]], \"type\": \"histogram2d\"}], \"histogram2dcontour\": [{\"colorbar\": {\"outlinewidth\": 0, \"ticks\": \"\"}, \"colorscale\": [[0.0, \"#0d0887\"], [0.1111111111111111, \"#46039f\"], [0.2222222222222222, \"#7201a8\"], [0.3333333333333333, \"#9c179e\"], [0.4444444444444444, \"#bd3786\"], [0.5555555555555556, \"#d8576b\"], [0.6666666666666666, \"#ed7953\"], [0.7777777777777778, \"#fb9f3a\"], [0.8888888888888888, \"#fdca26\"], [1.0, \"#f0f921\"]], \"type\": \"histogram2dcontour\"}], \"mesh3d\": [{\"colorbar\": {\"outlinewidth\": 0, \"ticks\": \"\"}, \"type\": \"mesh3d\"}], \"parcoords\": [{\"line\": {\"colorbar\": {\"outlinewidth\": 0, \"ticks\": \"\"}}, \"type\": \"parcoords\"}], \"pie\": [{\"automargin\": true, \"type\": \"pie\"}], \"scatter\": [{\"marker\": {\"colorbar\": {\"outlinewidth\": 0, \"ticks\": \"\"}}, \"type\": \"scatter\"}], \"scatter3d\": [{\"line\": {\"colorbar\": {\"outlinewidth\": 0, \"ticks\": \"\"}}, \"marker\": {\"colorbar\": {\"outlinewidth\": 0, \"ticks\": \"\"}}, \"type\": \"scatter3d\"}], \"scattercarpet\": [{\"marker\": {\"colorbar\": {\"outlinewidth\": 0, \"ticks\": \"\"}}, \"type\": \"scattercarpet\"}], \"scattergeo\": [{\"marker\": {\"colorbar\": {\"outlinewidth\": 0, \"ticks\": \"\"}}, \"type\": \"scattergeo\"}], \"scattergl\": [{\"marker\": {\"colorbar\": {\"outlinewidth\": 0, \"ticks\": \"\"}}, \"type\": \"scattergl\"}], \"scattermapbox\": [{\"marker\": {\"colorbar\": {\"outlinewidth\": 0, \"ticks\": \"\"}}, \"type\": \"scattermapbox\"}], \"scatterpolar\": [{\"marker\": {\"colorbar\": {\"outlinewidth\": 0, \"ticks\": \"\"}}, \"type\": \"scatterpolar\"}], \"scatterpolargl\": [{\"marker\": {\"colorbar\": {\"outlinewidth\": 0, \"ticks\": \"\"}}, \"type\": \"scatterpolargl\"}], \"scatterternary\": [{\"marker\": {\"colorbar\": {\"outlinewidth\": 0, \"ticks\": \"\"}}, \"type\": \"scatterternary\"}], \"surface\": [{\"colorbar\": {\"outlinewidth\": 0, \"ticks\": \"\"}, \"colorscale\": [[0.0, \"#0d0887\"], [0.1111111111111111, \"#46039f\"], [0.2222222222222222, \"#7201a8\"], [0.3333333333333333, \"#9c179e\"], [0.4444444444444444, \"#bd3786\"], [0.5555555555555556, \"#d8576b\"], [0.6666666666666666, \"#ed7953\"], [0.7777777777777778, \"#fb9f3a\"], [0.8888888888888888, \"#fdca26\"], [1.0, \"#f0f921\"]], \"type\": \"surface\"}], \"table\": [{\"cells\": {\"fill\": {\"color\": \"#EBF0F8\"}, \"line\": {\"color\": \"white\"}}, \"header\": {\"fill\": {\"color\": \"#C8D4E3\"}, \"line\": {\"color\": \"white\"}}, \"type\": \"table\"}]}, \"layout\": {\"annotationdefaults\": {\"arrowcolor\": \"#2a3f5f\", \"arrowhead\": 0, \"arrowwidth\": 1}, \"coloraxis\": {\"colorbar\": {\"outlinewidth\": 0, \"ticks\": \"\"}}, \"colorscale\": {\"diverging\": [[0, \"#8e0152\"], [0.1, \"#c51b7d\"], [0.2, \"#de77ae\"], [0.3, \"#f1b6da\"], [0.4, \"#fde0ef\"], [0.5, \"#f7f7f7\"], [0.6, \"#e6f5d0\"], [0.7, \"#b8e186\"], [0.8, \"#7fbc41\"], [0.9, \"#4d9221\"], [1, \"#276419\"]], \"sequential\": [[0.0, \"#0d0887\"], [0.1111111111111111, \"#46039f\"], [0.2222222222222222, \"#7201a8\"], [0.3333333333333333, \"#9c179e\"], [0.4444444444444444, \"#bd3786\"], [0.5555555555555556, \"#d8576b\"], [0.6666666666666666, \"#ed7953\"], [0.7777777777777778, \"#fb9f3a\"], [0.8888888888888888, \"#fdca26\"], [1.0, \"#f0f921\"]], \"sequentialminus\": [[0.0, \"#0d0887\"], [0.1111111111111111, \"#46039f\"], [0.2222222222222222, \"#7201a8\"], [0.3333333333333333, \"#9c179e\"], [0.4444444444444444, \"#bd3786\"], [0.5555555555555556, \"#d8576b\"], [0.6666666666666666, \"#ed7953\"], [0.7777777777777778, \"#fb9f3a\"], [0.8888888888888888, \"#fdca26\"], [1.0, \"#f0f921\"]]}, \"colorway\": [\"#636efa\", \"#EF553B\", \"#00cc96\", \"#ab63fa\", \"#FFA15A\", \"#19d3f3\", \"#FF6692\", \"#B6E880\", \"#FF97FF\", \"#FECB52\"], \"font\": {\"color\": \"#2a3f5f\"}, \"geo\": {\"bgcolor\": \"white\", \"lakecolor\": \"white\", \"landcolor\": \"#E5ECF6\", \"showlakes\": true, \"showland\": true, \"subunitcolor\": \"white\"}, \"hoverlabel\": {\"align\": \"left\"}, \"hovermode\": \"closest\", \"mapbox\": {\"style\": \"light\"}, \"paper_bgcolor\": \"white\", \"plot_bgcolor\": \"#E5ECF6\", \"polar\": {\"angularaxis\": {\"gridcolor\": \"white\", \"linecolor\": \"white\", \"ticks\": \"\"}, \"bgcolor\": \"#E5ECF6\", \"radialaxis\": {\"gridcolor\": \"white\", \"linecolor\": \"white\", \"ticks\": \"\"}}, \"scene\": {\"xaxis\": {\"backgroundcolor\": \"#E5ECF6\", \"gridcolor\": \"white\", \"gridwidth\": 2, \"linecolor\": \"white\", \"showbackground\": true, \"ticks\": \"\", \"zerolinecolor\": \"white\"}, \"yaxis\": {\"backgroundcolor\": \"#E5ECF6\", \"gridcolor\": \"white\", \"gridwidth\": 2, \"linecolor\": \"white\", \"showbackground\": true, \"ticks\": \"\", \"zerolinecolor\": \"white\"}, \"zaxis\": {\"backgroundcolor\": \"#E5ECF6\", \"gridcolor\": \"white\", \"gridwidth\": 2, \"linecolor\": \"white\", \"showbackground\": true, \"ticks\": \"\", \"zerolinecolor\": \"white\"}}, \"shapedefaults\": {\"line\": {\"color\": \"#2a3f5f\"}}, \"ternary\": {\"aaxis\": {\"gridcolor\": \"white\", \"linecolor\": \"white\", \"ticks\": \"\"}, \"baxis\": {\"gridcolor\": \"white\", \"linecolor\": \"white\", \"ticks\": \"\"}, \"bgcolor\": \"#E5ECF6\", \"caxis\": {\"gridcolor\": \"white\", \"linecolor\": \"white\", \"ticks\": \"\"}}, \"title\": {\"x\": 0.05}, \"xaxis\": {\"automargin\": true, \"gridcolor\": \"white\", \"linecolor\": \"white\", \"ticks\": \"\", \"title\": {\"standoff\": 15}, \"zerolinecolor\": \"white\", \"zerolinewidth\": 2}, \"yaxis\": {\"automargin\": true, \"gridcolor\": \"white\", \"linecolor\": \"white\", \"ticks\": \"\", \"title\": {\"standoff\": 15}, \"zerolinecolor\": \"white\", \"zerolinewidth\": 2}}}, \"title\": {\"text\": \"Quantidade de Mortos envolvidos em acidentes, por m\\u00eas, em 2020 em cada causa de acidente - Dados reais e previstos\"}},\n",
              "                        {\"responsive\": true}\n",
              "                    ).then(function(){\n",
              "                            \n",
              "var gd = document.getElementById('222d7fd0-9430-4899-9b16-0d2a5b3e215f');\n",
              "var x = new MutationObserver(function (mutations, observer) {{\n",
              "        var display = window.getComputedStyle(gd).display;\n",
              "        if (!display || display === 'none') {{\n",
              "            console.log([gd, 'removed!']);\n",
              "            Plotly.purge(gd);\n",
              "            observer.disconnect();\n",
              "        }}\n",
              "}});\n",
              "\n",
              "// Listen for the removal of the full notebook cells\n",
              "var notebookContainer = gd.closest('#notebook-container');\n",
              "if (notebookContainer) {{\n",
              "    x.observe(notebookContainer, {childList: true});\n",
              "}}\n",
              "\n",
              "// Listen for the clearing of the current output cell\n",
              "var outputEl = gd.closest('.output');\n",
              "if (outputEl) {{\n",
              "    x.observe(outputEl, {childList: true});\n",
              "}}\n",
              "\n",
              "                        })\n",
              "                };\n",
              "                \n",
              "            </script>\n",
              "        </div>\n",
              "</body>\n",
              "</html>"
            ]
          },
          "metadata": {
            "tags": []
          }
        }
      ]
    },
    {
      "cell_type": "markdown",
      "metadata": {
        "id": "qQNB4x0_yfTG"
      },
      "source": [
        "##### Quatidade de Feridos"
      ]
    },
    {
      "cell_type": "code",
      "metadata": {
        "id": "uzutZhv-yntq",
        "outputId": "3df37845-a9a6-4a1f-a314-a90ea9637437",
        "colab": {
          "base_uri": "https://localhost:8080/"
        }
      },
      "source": [
        "data_plot = cria_data_plot('qtd_feridos')\n",
        "fig = go.Figure(data=data_plot)\n",
        "fig.update_layout(title_text='Quantidade de Feridos envolvidos em acidentes, por mês, em 2020 em cada causa de acidente - Dados reais e previstos')\n",
        "fig.show()"
      ],
      "execution_count": null,
      "outputs": [
        {
          "output_type": "stream",
          "text": [
            "/usr/local/lib/python3.6/dist-packages/plotly/graph_objs/_deprecations.py:385: DeprecationWarning:\n",
            "\n",
            "plotly.graph_objs.Line is deprecated.\n",
            "Please replace it with one of the following more specific types\n",
            "  - plotly.graph_objs.scatter.Line\n",
            "  - plotly.graph_objs.layout.shape.Line\n",
            "  - etc.\n",
            "\n",
            "\n"
          ],
          "name": "stderr"
        },
        {
          "output_type": "display_data",
          "data": {
            "text/html": [
              "<html>\n",
              "<head><meta charset=\"utf-8\" /></head>\n",
              "<body>\n",
              "    <div>\n",
              "            <script src=\"https://cdnjs.cloudflare.com/ajax/libs/mathjax/2.7.5/MathJax.js?config=TeX-AMS-MML_SVG\"></script><script type=\"text/javascript\">if (window.MathJax) {MathJax.Hub.Config({SVG: {font: \"STIX-Web\"}});}</script>\n",
              "                <script type=\"text/javascript\">window.PlotlyConfig = {MathJaxConfig: 'local'};</script>\n",
              "        <script src=\"https://cdn.plot.ly/plotly-latest.min.js\"></script>    \n",
              "            <div id=\"75444b48-78b4-4121-9fc3-05b27e762fc0\" class=\"plotly-graph-div\" style=\"height:525px; width:100%;\"></div>\n",
              "            <script type=\"text/javascript\">\n",
              "                \n",
              "                    window.PLOTLYENV=window.PLOTLYENV || {};\n",
              "                    \n",
              "                if (document.getElementById(\"75444b48-78b4-4121-9fc3-05b27e762fc0\")) {\n",
              "                    Plotly.newPlot(\n",
              "                        '75444b48-78b4-4121-9fc3-05b27e762fc0',\n",
              "                        [{\"name\": \"Falta de Aten\\u00e7\\u00e3o do Pedestre- Real\", \"type\": \"scatter\", \"x\": [1, 2, 3, 4, 5, 6, 7], \"y\": [116.0, 133.0, 139.0, 99.0, 111.0, 114.0, 104.0]}, {\"name\": \"Agress\\u00e3o Externa- Real\", \"type\": \"scatter\", \"x\": [1, 2, 3, 4, 5, 6, 7], \"y\": [43.0, 24.0, 23.0, 15.0, 23.0, 17.0, 32.0]}, {\"name\": \"Animais na Pista- Real\", \"type\": \"scatter\", \"x\": [1, 2, 3, 4, 5, 6, 7], \"y\": [135.0, 139.0, 147.0, 110.0, 104.0, 102.0, 106.0]}, {\"name\": \"Avarias e/ou desgaste excessivo no pneu- Real\", \"type\": \"scatter\", \"x\": [1, 2, 3, 4, 5, 6, 7], \"y\": [132.0, 143.0, 112.0, 86.0, 80.0, 65.0, 60.0]}, {\"name\": \"Carga excessiva e/ou mal acondicionada- Real\", \"type\": \"scatter\", \"x\": [1, 2, 3, 4, 5, 6, 7], \"y\": [20.0, 17.0, 16.0, 15.0, 14.0, 22.0, 22.0]}, {\"name\": \"Condutor Dormindo- Real\", \"type\": \"scatter\", \"x\": [1, 2, 3, 4, 5, 6, 7], \"y\": [389.0, 307.0, 194.0, 134.0, 125.0, 130.0, 168.0]}, {\"name\": \"Defeito Mec\\u00e2nico no Ve\\u00edculo- Real\", \"type\": \"scatter\", \"x\": [1, 2, 3, 4, 5, 6, 7], \"y\": [352.0, 297.0, 278.0, 180.0, 227.0, 256.0, 264.0]}, {\"name\": \"Defeito na Via- Real\", \"type\": \"scatter\", \"x\": [1, 2, 3, 4, 5, 6, 7], \"y\": [146.0, 123.0, 137.0, 151.0, 114.0, 72.0, 72.0]}, {\"name\": \"Defici\\u00eancia ou n\\u00e3o Acionamento do Sistema de Ilumina\\u00e7\\u00e3o/Sinaliza\\u00e7\\u00e3o do Ve\\u00edculo- Real\", \"type\": \"scatter\", \"x\": [1, 2, 3, 4, 5, 6, 7], \"y\": [13.0, 6.0, 14.0, 26.0, 15.0, 16.0, 18.0]}, {\"name\": \"Desobedi\\u00eancia \\u00e0s normas de tr\\u00e2nsito pelo condutor- Real\", \"type\": \"scatter\", \"x\": [1, 2, 3, 4, 5, 6, 7], \"y\": [909.0, 838.0, 787.0, 660.0, 726.0, 725.0, 883.0]}, {\"name\": \"Restri\\u00e7\\u00e3o de Visibilidade- Real\", \"type\": \"scatter\", \"x\": [1, 2, 3, 4, 5, 6, 7], \"y\": [50.0, 43.0, 46.0, 53.0, 36.0, 68.0, 36.0]}, {\"name\": \"Desobedi\\u00eancia \\u00e0s normas de tr\\u00e2nsito pelo pedestre- Real\", \"type\": \"scatter\", \"x\": [1, 2, 3, 4, 5, 6, 7], \"y\": [12.0, 34.0, 32.0, 16.0, 32.0, 45.0, 15.0]}, {\"name\": \"Falta de Aten\\u00e7\\u00e3o \\u00e0 Condu\\u00e7\\u00e3o- Real\", \"type\": \"scatter\", \"x\": [1, 2, 3, 4, 5, 6, 7], \"y\": [2360.0, 2080.0, 1718.0, 1474.0, 1768.0, 1858.0, 1988.0]}, {\"name\": \"Fen\\u00f4menos da Natureza- Real\", \"type\": \"scatter\", \"x\": [1, 2, 3, 4, 5, 6, 7], \"y\": [23.0, 18.0, 19.0, 15.0, 11.0, 14.0, 11.0]}, {\"name\": \"Ingest\\u00e3o de Subst\\u00e2ncias Psicoativas- Real\", \"type\": \"scatter\", \"x\": [1, 2, 3, 4, 5, 6, 7], \"y\": [6.0, 1.0, 4.0, 5.0, 13.0, 6.0, 1.0]}, {\"name\": \"Ingest\\u00e3o de \\u00c1lcool- Real\", \"type\": \"scatter\", \"x\": [1, 2, 3, 4, 5, 6, 7], \"y\": [363.0, 482.0, 318.0, 309.0, 347.0, 276.0, 336.0]}, {\"name\": \"Ingest\\u00e3o de \\u00e1lcool e/ou subst\\u00e2ncias psicoativas pelo pedestre- Real\", \"type\": \"scatter\", \"x\": [1, 2, 3, 4, 5, 6, 7], \"y\": [28.0, 37.0, 24.0, 18.0, 34.0, 31.0, 29.0]}, {\"name\": \"Mal S\\u00fabito- Real\", \"type\": \"scatter\", \"x\": [1, 2, 3, 4, 5, 6, 7], \"y\": [73.0, 49.0, 61.0, 37.0, 54.0, 51.0, 50.0]}, {\"name\": \"N\\u00e3o guardar dist\\u00e2ncia de seguran\\u00e7a- Real\", \"type\": \"scatter\", \"x\": [1, 2, 3, 4, 5, 6, 7], \"y\": [435.0, 387.0, 302.0, 185.0, 219.0, 216.0, 308.0]}, {\"name\": \"Objeto est\\u00e1tico sobre o leito carro\\u00e7\\u00e1vel- Real\", \"type\": \"scatter\", \"x\": [1, 2, 3, 4, 5, 6, 7], \"y\": [53.0, 79.0, 33.0, 42.0, 23.0, 51.0, 47.0]}, {\"name\": \"Pista Escorregadia- Real\", \"type\": \"scatter\", \"x\": [1, 2, 3, 4, 5, 6, 7], \"y\": [415.0, 398.0, 202.0, 139.0, 125.0, 137.0, 140.0]}, {\"name\": \"Ultrapassagem Indevida- Real\", \"type\": \"scatter\", \"x\": [1, 2, 3, 4, 5, 6, 7], \"y\": [150.0, 186.0, 114.0, 66.0, 124.0, 115.0, 153.0]}, {\"name\": \"Velocidade Incompat\\u00edvel- Real\", \"type\": \"scatter\", \"x\": [1, 2, 3, 4, 5, 6, 7], \"y\": [787.0, 624.0, 559.0, 398.0, 513.0, 447.0, 491.0]}, {\"name\": \"Sinaliza\\u00e7\\u00e3o da via insuficiente ou inadequada- Real\", \"type\": \"scatter\", \"x\": [1, 2, 3, 4, 5, 6, 7], \"y\": [20.0, 18.0, 10.0, 38.0, 24.0, 14.0, 36.0]}, {\"name\": \"Animais na Pista- Previsto\", \"type\": \"scatter\", \"x\": [7, 8, 9, 10, 11, 12], \"y\": [108.24, 108.42, 116.37, 114.77, 111.22, 112.97]}, {\"name\": \"Avarias e/ou desgaste excessivo no pneu- Previsto\", \"type\": \"scatter\", \"x\": [7, 8, 9, 10, 11, 12], \"y\": [64.7, 77.2, 92.45, 80.63, 80.95, 104.88]}, {\"name\": \"Carga excessiva e/ou mal acondicionada- Previsto\", \"type\": \"scatter\", \"x\": [7, 8, 9, 10, 11, 12], \"y\": [21.17, 19.07, 18.34, 19.3, 21.54, 23.79]}, {\"name\": \"Condutor Dormindo- Previsto\", \"type\": \"scatter\", \"x\": [7, 8, 9, 10, 11, 12], \"y\": [161.59, 160.77, 160.65, 161.06, 160.8, 233.53]}, {\"name\": \"Defeito Mec\\u00e2nico no Ve\\u00edculo- Previsto\", \"type\": \"scatter\", \"x\": [7, 8, 9, 10, 11, 12], \"y\": [260.13, 256.04, 272.06, 281.11, 276.44, 339.86]}, {\"name\": \"Defeito na Via- Previsto\", \"type\": \"scatter\", \"x\": [7, 8, 9, 10, 11, 12], \"y\": [80.65, 85.52, 82.78, 78.8, 77.7, 93.08]}, {\"name\": \"Defici\\u00eancia ou n\\u00e3o Acionamento do Sistema de Ilumina\\u00e7\\u00e3o/Sinaliza\\u00e7\\u00e3o do Ve\\u00edculo- Previsto\", \"type\": \"scatter\", \"x\": [7, 8, 9, 10, 11, 12], \"y\": [17.63, 21.81, 18.0, 20.54, 16.15, 14.48]}, {\"name\": \"Desobedi\\u00eancia \\u00e0s normas de tr\\u00e2nsito pelo condutor- Previsto\", \"type\": \"scatter\", \"x\": [7, 8, 9, 10, 11, 12], \"y\": [850.97, 858.23, 863.31, 876.85, 883.99, 919.53]}, {\"name\": \"Falta de Aten\\u00e7\\u00e3o do Pedestre- Previsto\", \"type\": \"scatter\", \"x\": [7, 8, 9, 10, 11, 12], \"y\": [116.19, 118.18, 116.21, 113.07, 114.39, 115.92]}, {\"name\": \"Falta de Aten\\u00e7\\u00e3o \\u00e0 Condu\\u00e7\\u00e3o- Previsto\", \"type\": \"scatter\", \"x\": [7, 8, 9, 10, 11, 12], \"y\": [1932.37, 1930.01, 1929.71, 1934.03, 1930.39, 1932.67]}, {\"name\": \"Fen\\u00f4menos da Natureza- Previsto\", \"type\": \"scatter\", \"x\": [7, 8, 9, 10, 11, 12], \"y\": [11.43, 13.09, 20.81, 22.86, 20.25, 27.11]}, {\"name\": \"Ingest\\u00e3o de Subst\\u00e2ncias Psicoativas- Previsto\", \"type\": \"scatter\", \"x\": [7, 8, 9, 10, 11, 12], \"y\": [2.52, 3.03, 3.49, 5.83, 4.59, 5.35]}, {\"name\": \"Ingest\\u00e3o de \\u00c1lcool- Previsto\", \"type\": \"scatter\", \"x\": [7, 8, 9, 10, 11, 12], \"y\": [335.12, 336.8, 373.17, 354.28, 351.19, 453.9]}, {\"name\": \"Mal S\\u00fabito- Previsto\", \"type\": \"scatter\", \"x\": [7, 8, 9, 10, 11, 12], \"y\": [51.71, 51.75, 52.42, 53.03, 52.98, 53.14]}, {\"name\": \"N\\u00e3o guardar dist\\u00e2ncia de seguran\\u00e7a- Previsto\", \"type\": \"scatter\", \"x\": [7, 8, 9, 10, 11, 12], \"y\": [272.61, 272.61, 272.61, 272.61, 272.61, 290.53]}, {\"name\": \"Objeto est\\u00e1tico sobre o leito carro\\u00e7\\u00e1vel- Previsto\", \"type\": \"scatter\", \"x\": [7, 8, 9, 10, 11, 12], \"y\": [46.02, 43.08, 35.07, 55.74, 45.52, 43.96]}, {\"name\": \"Pista Escorregadia- Previsto\", \"type\": \"scatter\", \"x\": [7, 8, 9, 10, 11, 12], \"y\": [145.57, 170.66, 187.37, 226.47, 306.11, 276.17]}, {\"name\": \"Restri\\u00e7\\u00e3o de Visibilidade- Previsto\", \"type\": \"scatter\", \"x\": [7, 8, 9, 10, 11, 12], \"y\": [44.45, 45.3, 36.16, 42.23, 35.75, 40.54]}, {\"name\": \"Sinaliza\\u00e7\\u00e3o da via insuficiente ou inadequada- Previsto\", \"type\": \"scatter\", \"x\": [7, 8, 9, 10, 11, 12], \"y\": [31.9, 30.53, 26.55, 29.07, 27.62, 27.58]}, {\"name\": \"Ultrapassagem Indevida- Previsto\", \"type\": \"scatter\", \"x\": [7, 8, 9, 10, 11, 12], \"y\": [142.13, 148.5, 140.17, 139.53, 144.58, 177.81]}, {\"name\": \"Velocidade Incompat\\u00edvel- Previsto\", \"type\": \"scatter\", \"x\": [7, 8, 9, 10, 11, 12], \"y\": [488.33, 517.33, 584.6, 635.32, 690.01, 743.47]}, {\"name\": \"Agress\\u00e3o Externa- Previsto\", \"type\": \"scatter\", \"x\": [7, 8, 9, 10, 11, 12], \"y\": [28.14, 40.62, 27.61, 26.76, 26.37, 43.92]}, {\"name\": \"Desobedi\\u00eancia \\u00e0s normas de tr\\u00e2nsito pelo pedestre- Previsto\", \"type\": \"scatter\", \"x\": [7, 8, 9, 10, 11, 12], \"y\": [24.05, 27.75, 25.62, 25.03, 29.14, 25.04]}, {\"name\": \"Ingest\\u00e3o de \\u00e1lcool e/ou subst\\u00e2ncias psicoativas pelo pedestre- Previsto\", \"type\": \"scatter\", \"x\": [7, 8, 9, 10, 11, 12], \"y\": [29.27, 29.71, 29.92, 25.03, 29.51, 40.36]}],\n",
              "                        {\"template\": {\"data\": {\"bar\": [{\"error_x\": {\"color\": \"#2a3f5f\"}, \"error_y\": {\"color\": \"#2a3f5f\"}, \"marker\": {\"line\": {\"color\": \"#E5ECF6\", \"width\": 0.5}}, \"type\": \"bar\"}], \"barpolar\": [{\"marker\": {\"line\": {\"color\": \"#E5ECF6\", \"width\": 0.5}}, \"type\": \"barpolar\"}], \"carpet\": [{\"aaxis\": {\"endlinecolor\": \"#2a3f5f\", \"gridcolor\": \"white\", \"linecolor\": \"white\", \"minorgridcolor\": \"white\", \"startlinecolor\": \"#2a3f5f\"}, \"baxis\": {\"endlinecolor\": \"#2a3f5f\", \"gridcolor\": \"white\", \"linecolor\": \"white\", \"minorgridcolor\": \"white\", \"startlinecolor\": \"#2a3f5f\"}, \"type\": \"carpet\"}], \"choropleth\": [{\"colorbar\": {\"outlinewidth\": 0, \"ticks\": \"\"}, \"type\": \"choropleth\"}], \"contour\": [{\"colorbar\": {\"outlinewidth\": 0, \"ticks\": \"\"}, \"colorscale\": [[0.0, \"#0d0887\"], [0.1111111111111111, \"#46039f\"], [0.2222222222222222, \"#7201a8\"], [0.3333333333333333, \"#9c179e\"], [0.4444444444444444, \"#bd3786\"], [0.5555555555555556, \"#d8576b\"], [0.6666666666666666, \"#ed7953\"], [0.7777777777777778, \"#fb9f3a\"], [0.8888888888888888, \"#fdca26\"], [1.0, \"#f0f921\"]], \"type\": \"contour\"}], \"contourcarpet\": [{\"colorbar\": {\"outlinewidth\": 0, \"ticks\": \"\"}, \"type\": \"contourcarpet\"}], \"heatmap\": [{\"colorbar\": {\"outlinewidth\": 0, \"ticks\": \"\"}, \"colorscale\": [[0.0, \"#0d0887\"], [0.1111111111111111, \"#46039f\"], [0.2222222222222222, \"#7201a8\"], [0.3333333333333333, \"#9c179e\"], [0.4444444444444444, \"#bd3786\"], [0.5555555555555556, \"#d8576b\"], [0.6666666666666666, \"#ed7953\"], [0.7777777777777778, \"#fb9f3a\"], [0.8888888888888888, \"#fdca26\"], [1.0, \"#f0f921\"]], \"type\": \"heatmap\"}], \"heatmapgl\": [{\"colorbar\": {\"outlinewidth\": 0, \"ticks\": \"\"}, \"colorscale\": [[0.0, \"#0d0887\"], [0.1111111111111111, \"#46039f\"], [0.2222222222222222, \"#7201a8\"], [0.3333333333333333, \"#9c179e\"], [0.4444444444444444, \"#bd3786\"], [0.5555555555555556, \"#d8576b\"], [0.6666666666666666, \"#ed7953\"], [0.7777777777777778, \"#fb9f3a\"], [0.8888888888888888, \"#fdca26\"], [1.0, \"#f0f921\"]], \"type\": \"heatmapgl\"}], \"histogram\": [{\"marker\": {\"colorbar\": {\"outlinewidth\": 0, \"ticks\": \"\"}}, \"type\": \"histogram\"}], \"histogram2d\": [{\"colorbar\": {\"outlinewidth\": 0, \"ticks\": \"\"}, \"colorscale\": [[0.0, \"#0d0887\"], [0.1111111111111111, \"#46039f\"], [0.2222222222222222, \"#7201a8\"], [0.3333333333333333, \"#9c179e\"], [0.4444444444444444, \"#bd3786\"], [0.5555555555555556, \"#d8576b\"], [0.6666666666666666, \"#ed7953\"], [0.7777777777777778, \"#fb9f3a\"], [0.8888888888888888, \"#fdca26\"], [1.0, \"#f0f921\"]], \"type\": \"histogram2d\"}], \"histogram2dcontour\": [{\"colorbar\": {\"outlinewidth\": 0, \"ticks\": \"\"}, \"colorscale\": [[0.0, \"#0d0887\"], [0.1111111111111111, \"#46039f\"], [0.2222222222222222, \"#7201a8\"], [0.3333333333333333, \"#9c179e\"], [0.4444444444444444, \"#bd3786\"], [0.5555555555555556, \"#d8576b\"], [0.6666666666666666, \"#ed7953\"], [0.7777777777777778, \"#fb9f3a\"], [0.8888888888888888, \"#fdca26\"], [1.0, \"#f0f921\"]], \"type\": \"histogram2dcontour\"}], \"mesh3d\": [{\"colorbar\": {\"outlinewidth\": 0, \"ticks\": \"\"}, \"type\": \"mesh3d\"}], \"parcoords\": [{\"line\": {\"colorbar\": {\"outlinewidth\": 0, \"ticks\": \"\"}}, \"type\": \"parcoords\"}], \"pie\": [{\"automargin\": true, \"type\": \"pie\"}], \"scatter\": [{\"marker\": {\"colorbar\": {\"outlinewidth\": 0, \"ticks\": \"\"}}, \"type\": \"scatter\"}], \"scatter3d\": [{\"line\": {\"colorbar\": {\"outlinewidth\": 0, \"ticks\": \"\"}}, \"marker\": {\"colorbar\": {\"outlinewidth\": 0, \"ticks\": \"\"}}, \"type\": \"scatter3d\"}], \"scattercarpet\": [{\"marker\": {\"colorbar\": {\"outlinewidth\": 0, \"ticks\": \"\"}}, \"type\": \"scattercarpet\"}], \"scattergeo\": [{\"marker\": {\"colorbar\": {\"outlinewidth\": 0, \"ticks\": \"\"}}, \"type\": \"scattergeo\"}], \"scattergl\": [{\"marker\": {\"colorbar\": {\"outlinewidth\": 0, \"ticks\": \"\"}}, \"type\": \"scattergl\"}], \"scattermapbox\": [{\"marker\": {\"colorbar\": {\"outlinewidth\": 0, \"ticks\": \"\"}}, \"type\": \"scattermapbox\"}], \"scatterpolar\": [{\"marker\": {\"colorbar\": {\"outlinewidth\": 0, \"ticks\": \"\"}}, \"type\": \"scatterpolar\"}], \"scatterpolargl\": [{\"marker\": {\"colorbar\": {\"outlinewidth\": 0, \"ticks\": \"\"}}, \"type\": \"scatterpolargl\"}], \"scatterternary\": [{\"marker\": {\"colorbar\": {\"outlinewidth\": 0, \"ticks\": \"\"}}, \"type\": \"scatterternary\"}], \"surface\": [{\"colorbar\": {\"outlinewidth\": 0, \"ticks\": \"\"}, \"colorscale\": [[0.0, \"#0d0887\"], [0.1111111111111111, \"#46039f\"], [0.2222222222222222, \"#7201a8\"], [0.3333333333333333, \"#9c179e\"], [0.4444444444444444, \"#bd3786\"], [0.5555555555555556, \"#d8576b\"], [0.6666666666666666, \"#ed7953\"], [0.7777777777777778, \"#fb9f3a\"], [0.8888888888888888, \"#fdca26\"], [1.0, \"#f0f921\"]], \"type\": \"surface\"}], \"table\": [{\"cells\": {\"fill\": {\"color\": \"#EBF0F8\"}, \"line\": {\"color\": \"white\"}}, \"header\": {\"fill\": {\"color\": \"#C8D4E3\"}, \"line\": {\"color\": \"white\"}}, \"type\": \"table\"}]}, \"layout\": {\"annotationdefaults\": {\"arrowcolor\": \"#2a3f5f\", \"arrowhead\": 0, \"arrowwidth\": 1}, \"coloraxis\": {\"colorbar\": {\"outlinewidth\": 0, \"ticks\": \"\"}}, \"colorscale\": {\"diverging\": [[0, \"#8e0152\"], [0.1, \"#c51b7d\"], [0.2, \"#de77ae\"], [0.3, \"#f1b6da\"], [0.4, \"#fde0ef\"], [0.5, \"#f7f7f7\"], [0.6, \"#e6f5d0\"], [0.7, \"#b8e186\"], [0.8, \"#7fbc41\"], [0.9, \"#4d9221\"], [1, \"#276419\"]], \"sequential\": [[0.0, \"#0d0887\"], [0.1111111111111111, \"#46039f\"], [0.2222222222222222, \"#7201a8\"], [0.3333333333333333, \"#9c179e\"], [0.4444444444444444, \"#bd3786\"], [0.5555555555555556, \"#d8576b\"], [0.6666666666666666, \"#ed7953\"], [0.7777777777777778, \"#fb9f3a\"], [0.8888888888888888, \"#fdca26\"], [1.0, \"#f0f921\"]], \"sequentialminus\": [[0.0, \"#0d0887\"], [0.1111111111111111, \"#46039f\"], [0.2222222222222222, \"#7201a8\"], [0.3333333333333333, \"#9c179e\"], [0.4444444444444444, \"#bd3786\"], [0.5555555555555556, \"#d8576b\"], [0.6666666666666666, \"#ed7953\"], [0.7777777777777778, \"#fb9f3a\"], [0.8888888888888888, \"#fdca26\"], [1.0, \"#f0f921\"]]}, \"colorway\": [\"#636efa\", \"#EF553B\", \"#00cc96\", \"#ab63fa\", \"#FFA15A\", \"#19d3f3\", \"#FF6692\", \"#B6E880\", \"#FF97FF\", \"#FECB52\"], \"font\": {\"color\": \"#2a3f5f\"}, \"geo\": {\"bgcolor\": \"white\", \"lakecolor\": \"white\", \"landcolor\": \"#E5ECF6\", \"showlakes\": true, \"showland\": true, \"subunitcolor\": \"white\"}, \"hoverlabel\": {\"align\": \"left\"}, \"hovermode\": \"closest\", \"mapbox\": {\"style\": \"light\"}, \"paper_bgcolor\": \"white\", \"plot_bgcolor\": \"#E5ECF6\", \"polar\": {\"angularaxis\": {\"gridcolor\": \"white\", \"linecolor\": \"white\", \"ticks\": \"\"}, \"bgcolor\": \"#E5ECF6\", \"radialaxis\": {\"gridcolor\": \"white\", \"linecolor\": \"white\", \"ticks\": \"\"}}, \"scene\": {\"xaxis\": {\"backgroundcolor\": \"#E5ECF6\", \"gridcolor\": \"white\", \"gridwidth\": 2, \"linecolor\": \"white\", \"showbackground\": true, \"ticks\": \"\", \"zerolinecolor\": \"white\"}, \"yaxis\": {\"backgroundcolor\": \"#E5ECF6\", \"gridcolor\": \"white\", \"gridwidth\": 2, \"linecolor\": \"white\", \"showbackground\": true, \"ticks\": \"\", \"zerolinecolor\": \"white\"}, \"zaxis\": {\"backgroundcolor\": \"#E5ECF6\", \"gridcolor\": \"white\", \"gridwidth\": 2, \"linecolor\": \"white\", \"showbackground\": true, \"ticks\": \"\", \"zerolinecolor\": \"white\"}}, \"shapedefaults\": {\"line\": {\"color\": \"#2a3f5f\"}}, \"ternary\": {\"aaxis\": {\"gridcolor\": \"white\", \"linecolor\": \"white\", \"ticks\": \"\"}, \"baxis\": {\"gridcolor\": \"white\", \"linecolor\": \"white\", \"ticks\": \"\"}, \"bgcolor\": \"#E5ECF6\", \"caxis\": {\"gridcolor\": \"white\", \"linecolor\": \"white\", \"ticks\": \"\"}}, \"title\": {\"x\": 0.05}, \"xaxis\": {\"automargin\": true, \"gridcolor\": \"white\", \"linecolor\": \"white\", \"ticks\": \"\", \"title\": {\"standoff\": 15}, \"zerolinecolor\": \"white\", \"zerolinewidth\": 2}, \"yaxis\": {\"automargin\": true, \"gridcolor\": \"white\", \"linecolor\": \"white\", \"ticks\": \"\", \"title\": {\"standoff\": 15}, \"zerolinecolor\": \"white\", \"zerolinewidth\": 2}}}, \"title\": {\"text\": \"Quantidade de Feridos envolvidos em acidentes, por m\\u00eas, em 2020 em cada causa de acidente - Dados reais e previstos\"}},\n",
              "                        {\"responsive\": true}\n",
              "                    ).then(function(){\n",
              "                            \n",
              "var gd = document.getElementById('75444b48-78b4-4121-9fc3-05b27e762fc0');\n",
              "var x = new MutationObserver(function (mutations, observer) {{\n",
              "        var display = window.getComputedStyle(gd).display;\n",
              "        if (!display || display === 'none') {{\n",
              "            console.log([gd, 'removed!']);\n",
              "            Plotly.purge(gd);\n",
              "            observer.disconnect();\n",
              "        }}\n",
              "}});\n",
              "\n",
              "// Listen for the removal of the full notebook cells\n",
              "var notebookContainer = gd.closest('#notebook-container');\n",
              "if (notebookContainer) {{\n",
              "    x.observe(notebookContainer, {childList: true});\n",
              "}}\n",
              "\n",
              "// Listen for the clearing of the current output cell\n",
              "var outputEl = gd.closest('.output');\n",
              "if (outputEl) {{\n",
              "    x.observe(outputEl, {childList: true});\n",
              "}}\n",
              "\n",
              "                        })\n",
              "                };\n",
              "                \n",
              "            </script>\n",
              "        </div>\n",
              "</body>\n",
              "</html>"
            ]
          },
          "metadata": {
            "tags": []
          }
        }
      ]
    },
    {
      "cell_type": "markdown",
      "metadata": {
        "id": "sTME32IVyip0"
      },
      "source": [
        "##### Quatidade de Veículos"
      ]
    },
    {
      "cell_type": "code",
      "metadata": {
        "id": "1-oa8Iveyt__",
        "outputId": "f0d2668c-537e-4981-f984-590e010e45f4",
        "colab": {
          "base_uri": "https://localhost:8080/"
        }
      },
      "source": [
        "data_plot = cria_data_plot('qtd_veiculos')\n",
        "fig = go.Figure(data=data_plot)\n",
        "fig.update_layout(title_text='Quantidade de Veículos envolvidos em acidentes, por mês, em 2020 por cada causa de acidente - Dados reais e previstos')\n",
        "fig.show()"
      ],
      "execution_count": null,
      "outputs": [
        {
          "output_type": "stream",
          "text": [
            "/usr/local/lib/python3.6/dist-packages/plotly/graph_objs/_deprecations.py:385: DeprecationWarning:\n",
            "\n",
            "plotly.graph_objs.Line is deprecated.\n",
            "Please replace it with one of the following more specific types\n",
            "  - plotly.graph_objs.scatter.Line\n",
            "  - plotly.graph_objs.layout.shape.Line\n",
            "  - etc.\n",
            "\n",
            "\n"
          ],
          "name": "stderr"
        },
        {
          "output_type": "display_data",
          "data": {
            "text/html": [
              "<html>\n",
              "<head><meta charset=\"utf-8\" /></head>\n",
              "<body>\n",
              "    <div>\n",
              "            <script src=\"https://cdnjs.cloudflare.com/ajax/libs/mathjax/2.7.5/MathJax.js?config=TeX-AMS-MML_SVG\"></script><script type=\"text/javascript\">if (window.MathJax) {MathJax.Hub.Config({SVG: {font: \"STIX-Web\"}});}</script>\n",
              "                <script type=\"text/javascript\">window.PlotlyConfig = {MathJaxConfig: 'local'};</script>\n",
              "        <script src=\"https://cdn.plot.ly/plotly-latest.min.js\"></script>    \n",
              "            <div id=\"1091b5f9-82b5-476d-a93e-eb6c5a1a09e1\" class=\"plotly-graph-div\" style=\"height:525px; width:100%;\"></div>\n",
              "            <script type=\"text/javascript\">\n",
              "                \n",
              "                    window.PLOTLYENV=window.PLOTLYENV || {};\n",
              "                    \n",
              "                if (document.getElementById(\"1091b5f9-82b5-476d-a93e-eb6c5a1a09e1\")) {\n",
              "                    Plotly.newPlot(\n",
              "                        '1091b5f9-82b5-476d-a93e-eb6c5a1a09e1',\n",
              "                        [{\"name\": \"Falta de Aten\\u00e7\\u00e3o do Pedestre- Real\", \"type\": \"scatter\", \"x\": [1, 2, 3, 4, 5, 6, 7], \"y\": [162.0, 152.0, 171.0, 148.0, 136.0, 143.0, 146.0]}, {\"name\": \"Agress\\u00e3o Externa- Real\", \"type\": \"scatter\", \"x\": [1, 2, 3, 4, 5, 6, 7], \"y\": [57.0, 32.0, 31.0, 21.0, 33.0, 35.0, 41.0]}, {\"name\": \"Animais na Pista- Real\", \"type\": \"scatter\", \"x\": [1, 2, 3, 4, 5, 6, 7], \"y\": [143.0, 152.0, 148.0, 131.0, 117.0, 132.0, 132.0]}, {\"name\": \"Avarias e/ou desgaste excessivo no pneu- Real\", \"type\": \"scatter\", \"x\": [1, 2, 3, 4, 5, 6, 7], \"y\": [102.0, 109.0, 95.0, 72.0, 65.0, 72.0, 54.0]}, {\"name\": \"Carga excessiva e/ou mal acondicionada- Real\", \"type\": \"scatter\", \"x\": [1, 2, 3, 4, 5, 6, 7], \"y\": [32.0, 31.0, 34.0, 24.0, 35.0, 42.0, 41.0]}, {\"name\": \"Condutor Dormindo- Real\", \"type\": \"scatter\", \"x\": [1, 2, 3, 4, 5, 6, 7], \"y\": [307.0, 293.0, 222.0, 146.0, 157.0, 160.0, 212.0]}, {\"name\": \"Defeito Mec\\u00e2nico no Ve\\u00edculo- Real\", \"type\": \"scatter\", \"x\": [1, 2, 3, 4, 5, 6, 7], \"y\": [440.0, 411.0, 380.0, 262.0, 344.0, 361.0, 416.0]}, {\"name\": \"Defeito na Via- Real\", \"type\": \"scatter\", \"x\": [1, 2, 3, 4, 5, 6, 7], \"y\": [104.0, 128.0, 143.0, 100.0, 114.0, 86.0, 93.0]}, {\"name\": \"Defici\\u00eancia ou n\\u00e3o Acionamento do Sistema de Ilumina\\u00e7\\u00e3o/Sinaliza\\u00e7\\u00e3o do Ve\\u00edculo- Real\", \"type\": \"scatter\", \"x\": [1, 2, 3, 4, 5, 6, 7], \"y\": [20.0, 13.0, 26.0, 40.0, 31.0, 28.0, 28.0]}, {\"name\": \"Desobedi\\u00eancia \\u00e0s normas de tr\\u00e2nsito pelo condutor- Real\", \"type\": \"scatter\", \"x\": [1, 2, 3, 4, 5, 6, 7], \"y\": [1298.0, 1328.0, 1289.0, 1080.0, 1258.0, 1252.0, 1485.0]}, {\"name\": \"Restri\\u00e7\\u00e3o de Visibilidade- Real\", \"type\": \"scatter\", \"x\": [1, 2, 3, 4, 5, 6, 7], \"y\": [58.0, 45.0, 64.0, 66.0, 58.0, 92.0, 75.0]}, {\"name\": \"Desobedi\\u00eancia \\u00e0s normas de tr\\u00e2nsito pelo pedestre- Real\", \"type\": \"scatter\", \"x\": [1, 2, 3, 4, 5, 6, 7], \"y\": [21.0, 48.0, 41.0, 27.0, 42.0, 47.0, 28.0]}, {\"name\": \"Falta de Aten\\u00e7\\u00e3o \\u00e0 Condu\\u00e7\\u00e3o- Real\", \"type\": \"scatter\", \"x\": [1, 2, 3, 4, 5, 6, 7], \"y\": [3346.0, 3195.0, 2717.0, 2112.0, 2727.0, 2957.0, 3135.0]}, {\"name\": \"Fen\\u00f4menos da Natureza- Real\", \"type\": \"scatter\", \"x\": [1, 2, 3, 4, 5, 6, 7], \"y\": [32.0, 19.0, 30.0, 14.0, 13.0, 30.0, 22.0]}, {\"name\": \"Ingest\\u00e3o de Subst\\u00e2ncias Psicoativas- Real\", \"type\": \"scatter\", \"x\": [1, 2, 3, 4, 5, 6, 7], \"y\": [7.0, 11.0, 13.0, 8.0, 18.0, 13.0, 3.0]}, {\"name\": \"Ingest\\u00e3o de \\u00c1lcool- Real\", \"type\": \"scatter\", \"x\": [1, 2, 3, 4, 5, 6, 7], \"y\": [642.0, 748.0, 564.0, 489.0, 638.0, 579.0, 618.0]}, {\"name\": \"Ingest\\u00e3o de \\u00e1lcool e/ou subst\\u00e2ncias psicoativas pelo pedestre- Real\", \"type\": \"scatter\", \"x\": [1, 2, 3, 4, 5, 6, 7], \"y\": [28.0, 59.0, 29.0, 30.0, 45.0, 44.0, 40.0]}, {\"name\": \"Mal S\\u00fabito- Real\", \"type\": \"scatter\", \"x\": [1, 2, 3, 4, 5, 6, 7], \"y\": [77.0, 59.0, 72.0, 52.0, 58.0, 59.0, 63.0]}, {\"name\": \"N\\u00e3o guardar dist\\u00e2ncia de seguran\\u00e7a- Real\", \"type\": \"scatter\", \"x\": [1, 2, 3, 4, 5, 6, 7], \"y\": [784.0, 742.0, 563.0, 359.0, 467.0, 498.0, 661.0]}, {\"name\": \"Objeto est\\u00e1tico sobre o leito carro\\u00e7\\u00e1vel- Real\", \"type\": \"scatter\", \"x\": [1, 2, 3, 4, 5, 6, 7], \"y\": [64.0, 61.0, 38.0, 44.0, 31.0, 70.0, 41.0]}, {\"name\": \"Pista Escorregadia- Real\", \"type\": \"scatter\", \"x\": [1, 2, 3, 4, 5, 6, 7], \"y\": [337.0, 359.0, 202.0, 154.0, 157.0, 152.0, 134.0]}, {\"name\": \"Ultrapassagem Indevida- Real\", \"type\": \"scatter\", \"x\": [1, 2, 3, 4, 5, 6, 7], \"y\": [165.0, 196.0, 157.0, 89.0, 164.0, 177.0, 220.0]}, {\"name\": \"Velocidade Incompat\\u00edvel- Real\", \"type\": \"scatter\", \"x\": [1, 2, 3, 4, 5, 6, 7], \"y\": [767.0, 721.0, 624.0, 478.0, 630.0, 611.0, 608.0]}, {\"name\": \"Sinaliza\\u00e7\\u00e3o da via insuficiente ou inadequada- Real\", \"type\": \"scatter\", \"x\": [1, 2, 3, 4, 5, 6, 7], \"y\": [16.0, 26.0, 24.0, 36.0, 41.0, 26.0, 39.0]}, {\"name\": \"Animais na Pista- Previsto\", \"type\": \"scatter\", \"x\": [7, 8, 9, 10, 11, 12], \"y\": [133.47, 134.09, 135.75, 134.11, 131.88, 133.79]}, {\"name\": \"Avarias e/ou desgaste excessivo no pneu- Previsto\", \"type\": \"scatter\", \"x\": [7, 8, 9, 10, 11, 12], \"y\": [61.09, 60.07, 70.02, 71.68, 66.46, 78.28]}, {\"name\": \"Carga excessiva e/ou mal acondicionada- Previsto\", \"type\": \"scatter\", \"x\": [7, 8, 9, 10, 11, 12], \"y\": [39.86, 36.65, 34.5, 37.2, 42.41, 39.78]}, {\"name\": \"Condutor Dormindo- Previsto\", \"type\": \"scatter\", \"x\": [7, 8, 9, 10, 11, 12], \"y\": [198.51, 198.28, 198.45, 198.32, 198.56, 241.26]}, {\"name\": \"Defeito Mec\\u00e2nico no Ve\\u00edculo- Previsto\", \"type\": \"scatter\", \"x\": [7, 8, 9, 10, 11, 12], \"y\": [397.04, 381.5, 381.68, 368.61, 377.96, 411.36]}, {\"name\": \"Defeito na Via- Previsto\", \"type\": \"scatter\", \"x\": [7, 8, 9, 10, 11, 12], \"y\": [95.07, 89.11, 91.01, 82.7, 83.13, 94.29]}, {\"name\": \"Defici\\u00eancia ou n\\u00e3o Acionamento do Sistema de Ilumina\\u00e7\\u00e3o/Sinaliza\\u00e7\\u00e3o do Ve\\u00edculo- Previsto\", \"type\": \"scatter\", \"x\": [7, 8, 9, 10, 11, 12], \"y\": [28.3, 35.5, 32.43, 27.88, 27.89, 27.82]}, {\"name\": \"Desobedi\\u00eancia \\u00e0s normas de tr\\u00e2nsito pelo condutor- Previsto\", \"type\": \"scatter\", \"x\": [7, 8, 9, 10, 11, 12], \"y\": [1425.68, 1433.44, 1444.62, 1418.58, 1411.62, 1476.71]}, {\"name\": \"Falta de Aten\\u00e7\\u00e3o do Pedestre- Previsto\", \"type\": \"scatter\", \"x\": [7, 8, 9, 10, 11, 12], \"y\": [151.41, 152.44, 150.39, 148.56, 148.72, 150.74]}, {\"name\": \"Falta de Aten\\u00e7\\u00e3o \\u00e0 Condu\\u00e7\\u00e3o- Previsto\", \"type\": \"scatter\", \"x\": [7, 8, 9, 10, 11, 12], \"y\": [3036.25, 3034.05, 3032.91, 3036.83, 3036.55, 3037.41]}, {\"name\": \"Fen\\u00f4menos da Natureza- Previsto\", \"type\": \"scatter\", \"x\": [7, 8, 9, 10, 11, 12], \"y\": [23.31, 24.48, 29.36, 26.72, 17.53, 22.11]}, {\"name\": \"Ingest\\u00e3o de Subst\\u00e2ncias Psicoativas- Previsto\", \"type\": \"scatter\", \"x\": [7, 8, 9, 10, 11, 12], \"y\": [6.6, 8.09, 7.8, 8.77, 10.67, 9.23]}, {\"name\": \"Ingest\\u00e3o de \\u00c1lcool- Previsto\", \"type\": \"scatter\", \"x\": [7, 8, 9, 10, 11, 12], \"y\": [621.07, 620.87, 660.18, 640.47, 638.63, 762.13]}, {\"name\": \"Mal S\\u00fabito- Previsto\", \"type\": \"scatter\", \"x\": [7, 8, 9, 10, 11, 12], \"y\": [64.2, 64.26, 64.78, 66.14, 65.74, 66.56]}, {\"name\": \"N\\u00e3o guardar dist\\u00e2ncia de seguran\\u00e7a- Previsto\", \"type\": \"scatter\", \"x\": [7, 8, 9, 10, 11, 12], \"y\": [589.03, 589.03, 589.03, 589.03, 589.03, 620.5]}, {\"name\": \"Objeto est\\u00e1tico sobre o leito carro\\u00e7\\u00e1vel- Previsto\", \"type\": \"scatter\", \"x\": [7, 8, 9, 10, 11, 12], \"y\": [45.35, 44.04, 43.48, 63.31, 57.39, 49.51]}, {\"name\": \"Pista Escorregadia- Previsto\", \"type\": \"scatter\", \"x\": [7, 8, 9, 10, 11, 12], \"y\": [142.57, 159.74, 183.07, 237.9, 297.99, 273.1]}, {\"name\": \"Restri\\u00e7\\u00e3o de Visibilidade- Previsto\", \"type\": \"scatter\", \"x\": [7, 8, 9, 10, 11, 12], \"y\": [79.43, 73.98, 63.03, 72.38, 60.2, 61.91]}, {\"name\": \"Sinaliza\\u00e7\\u00e3o da via insuficiente ou inadequada- Previsto\", \"type\": \"scatter\", \"x\": [7, 8, 9, 10, 11, 12], \"y\": [37.36, 37.39, 33.91, 35.34, 35.64, 35.25]}, {\"name\": \"Ultrapassagem Indevida- Previsto\", \"type\": \"scatter\", \"x\": [7, 8, 9, 10, 11, 12], \"y\": [201.55, 199.46, 197.12, 185.12, 185.08, 211.36]}, {\"name\": \"Velocidade Incompat\\u00edvel- Previsto\", \"type\": \"scatter\", \"x\": [7, 8, 9, 10, 11, 12], \"y\": [609.68, 616.27, 689.62, 721.94, 772.51, 774.43]}, {\"name\": \"Agress\\u00e3o Externa- Previsto\", \"type\": \"scatter\", \"x\": [7, 8, 9, 10, 11, 12], \"y\": [38.7, 40.72, 39.14, 39.01, 37.65, 46.83]}, {\"name\": \"Desobedi\\u00eancia \\u00e0s normas de tr\\u00e2nsito pelo pedestre- Previsto\", \"type\": \"scatter\", \"x\": [7, 8, 9, 10, 11, 12], \"y\": [34.06, 38.68, 36.86, 35.99, 38.81, 34.58]}, {\"name\": \"Ingest\\u00e3o de \\u00e1lcool e/ou subst\\u00e2ncias psicoativas pelo pedestre- Previsto\", \"type\": \"scatter\", \"x\": [7, 8, 9, 10, 11, 12], \"y\": [41.3, 42.6, 50.75, 42.23, 39.98, 62.2]}],\n",
              "                        {\"template\": {\"data\": {\"bar\": [{\"error_x\": {\"color\": \"#2a3f5f\"}, \"error_y\": {\"color\": \"#2a3f5f\"}, \"marker\": {\"line\": {\"color\": \"#E5ECF6\", \"width\": 0.5}}, \"type\": \"bar\"}], \"barpolar\": [{\"marker\": {\"line\": {\"color\": \"#E5ECF6\", \"width\": 0.5}}, \"type\": \"barpolar\"}], \"carpet\": [{\"aaxis\": {\"endlinecolor\": \"#2a3f5f\", \"gridcolor\": \"white\", \"linecolor\": \"white\", \"minorgridcolor\": \"white\", \"startlinecolor\": \"#2a3f5f\"}, \"baxis\": {\"endlinecolor\": \"#2a3f5f\", \"gridcolor\": \"white\", \"linecolor\": \"white\", \"minorgridcolor\": \"white\", \"startlinecolor\": \"#2a3f5f\"}, \"type\": \"carpet\"}], \"choropleth\": [{\"colorbar\": {\"outlinewidth\": 0, \"ticks\": \"\"}, \"type\": \"choropleth\"}], \"contour\": [{\"colorbar\": {\"outlinewidth\": 0, \"ticks\": \"\"}, \"colorscale\": [[0.0, \"#0d0887\"], [0.1111111111111111, \"#46039f\"], [0.2222222222222222, \"#7201a8\"], [0.3333333333333333, \"#9c179e\"], [0.4444444444444444, \"#bd3786\"], [0.5555555555555556, \"#d8576b\"], [0.6666666666666666, \"#ed7953\"], [0.7777777777777778, \"#fb9f3a\"], [0.8888888888888888, \"#fdca26\"], [1.0, \"#f0f921\"]], \"type\": \"contour\"}], \"contourcarpet\": [{\"colorbar\": {\"outlinewidth\": 0, \"ticks\": \"\"}, \"type\": \"contourcarpet\"}], \"heatmap\": [{\"colorbar\": {\"outlinewidth\": 0, \"ticks\": \"\"}, \"colorscale\": [[0.0, \"#0d0887\"], [0.1111111111111111, \"#46039f\"], [0.2222222222222222, \"#7201a8\"], [0.3333333333333333, \"#9c179e\"], [0.4444444444444444, \"#bd3786\"], [0.5555555555555556, \"#d8576b\"], [0.6666666666666666, \"#ed7953\"], [0.7777777777777778, \"#fb9f3a\"], [0.8888888888888888, \"#fdca26\"], [1.0, \"#f0f921\"]], \"type\": \"heatmap\"}], \"heatmapgl\": [{\"colorbar\": {\"outlinewidth\": 0, \"ticks\": \"\"}, \"colorscale\": [[0.0, \"#0d0887\"], [0.1111111111111111, \"#46039f\"], [0.2222222222222222, \"#7201a8\"], [0.3333333333333333, \"#9c179e\"], [0.4444444444444444, \"#bd3786\"], [0.5555555555555556, \"#d8576b\"], [0.6666666666666666, \"#ed7953\"], [0.7777777777777778, \"#fb9f3a\"], [0.8888888888888888, \"#fdca26\"], [1.0, \"#f0f921\"]], \"type\": \"heatmapgl\"}], \"histogram\": [{\"marker\": {\"colorbar\": {\"outlinewidth\": 0, \"ticks\": \"\"}}, \"type\": \"histogram\"}], \"histogram2d\": [{\"colorbar\": {\"outlinewidth\": 0, \"ticks\": \"\"}, \"colorscale\": [[0.0, \"#0d0887\"], [0.1111111111111111, \"#46039f\"], [0.2222222222222222, \"#7201a8\"], [0.3333333333333333, \"#9c179e\"], [0.4444444444444444, \"#bd3786\"], [0.5555555555555556, \"#d8576b\"], [0.6666666666666666, \"#ed7953\"], [0.7777777777777778, \"#fb9f3a\"], [0.8888888888888888, \"#fdca26\"], [1.0, \"#f0f921\"]], \"type\": \"histogram2d\"}], \"histogram2dcontour\": [{\"colorbar\": {\"outlinewidth\": 0, \"ticks\": \"\"}, \"colorscale\": [[0.0, \"#0d0887\"], [0.1111111111111111, \"#46039f\"], [0.2222222222222222, \"#7201a8\"], [0.3333333333333333, \"#9c179e\"], [0.4444444444444444, \"#bd3786\"], [0.5555555555555556, \"#d8576b\"], [0.6666666666666666, \"#ed7953\"], [0.7777777777777778, \"#fb9f3a\"], [0.8888888888888888, \"#fdca26\"], [1.0, \"#f0f921\"]], \"type\": \"histogram2dcontour\"}], \"mesh3d\": [{\"colorbar\": {\"outlinewidth\": 0, \"ticks\": \"\"}, \"type\": \"mesh3d\"}], \"parcoords\": [{\"line\": {\"colorbar\": {\"outlinewidth\": 0, \"ticks\": \"\"}}, \"type\": \"parcoords\"}], \"pie\": [{\"automargin\": true, \"type\": \"pie\"}], \"scatter\": [{\"marker\": {\"colorbar\": {\"outlinewidth\": 0, \"ticks\": \"\"}}, \"type\": \"scatter\"}], \"scatter3d\": [{\"line\": {\"colorbar\": {\"outlinewidth\": 0, \"ticks\": \"\"}}, \"marker\": {\"colorbar\": {\"outlinewidth\": 0, \"ticks\": \"\"}}, \"type\": \"scatter3d\"}], \"scattercarpet\": [{\"marker\": {\"colorbar\": {\"outlinewidth\": 0, \"ticks\": \"\"}}, \"type\": \"scattercarpet\"}], \"scattergeo\": [{\"marker\": {\"colorbar\": {\"outlinewidth\": 0, \"ticks\": \"\"}}, \"type\": \"scattergeo\"}], \"scattergl\": [{\"marker\": {\"colorbar\": {\"outlinewidth\": 0, \"ticks\": \"\"}}, \"type\": \"scattergl\"}], \"scattermapbox\": [{\"marker\": {\"colorbar\": {\"outlinewidth\": 0, \"ticks\": \"\"}}, \"type\": \"scattermapbox\"}], \"scatterpolar\": [{\"marker\": {\"colorbar\": {\"outlinewidth\": 0, \"ticks\": \"\"}}, \"type\": \"scatterpolar\"}], \"scatterpolargl\": [{\"marker\": {\"colorbar\": {\"outlinewidth\": 0, \"ticks\": \"\"}}, \"type\": \"scatterpolargl\"}], \"scatterternary\": [{\"marker\": {\"colorbar\": {\"outlinewidth\": 0, \"ticks\": \"\"}}, \"type\": \"scatterternary\"}], \"surface\": [{\"colorbar\": {\"outlinewidth\": 0, \"ticks\": \"\"}, \"colorscale\": [[0.0, \"#0d0887\"], [0.1111111111111111, \"#46039f\"], [0.2222222222222222, \"#7201a8\"], [0.3333333333333333, \"#9c179e\"], [0.4444444444444444, \"#bd3786\"], [0.5555555555555556, \"#d8576b\"], [0.6666666666666666, \"#ed7953\"], [0.7777777777777778, \"#fb9f3a\"], [0.8888888888888888, \"#fdca26\"], [1.0, \"#f0f921\"]], \"type\": \"surface\"}], \"table\": [{\"cells\": {\"fill\": {\"color\": \"#EBF0F8\"}, \"line\": {\"color\": \"white\"}}, \"header\": {\"fill\": {\"color\": \"#C8D4E3\"}, \"line\": {\"color\": \"white\"}}, \"type\": \"table\"}]}, \"layout\": {\"annotationdefaults\": {\"arrowcolor\": \"#2a3f5f\", \"arrowhead\": 0, \"arrowwidth\": 1}, \"coloraxis\": {\"colorbar\": {\"outlinewidth\": 0, \"ticks\": \"\"}}, \"colorscale\": {\"diverging\": [[0, \"#8e0152\"], [0.1, \"#c51b7d\"], [0.2, \"#de77ae\"], [0.3, \"#f1b6da\"], [0.4, \"#fde0ef\"], [0.5, \"#f7f7f7\"], [0.6, \"#e6f5d0\"], [0.7, \"#b8e186\"], [0.8, \"#7fbc41\"], [0.9, \"#4d9221\"], [1, \"#276419\"]], \"sequential\": [[0.0, \"#0d0887\"], [0.1111111111111111, \"#46039f\"], [0.2222222222222222, \"#7201a8\"], [0.3333333333333333, \"#9c179e\"], [0.4444444444444444, \"#bd3786\"], [0.5555555555555556, \"#d8576b\"], [0.6666666666666666, \"#ed7953\"], [0.7777777777777778, \"#fb9f3a\"], [0.8888888888888888, \"#fdca26\"], [1.0, \"#f0f921\"]], \"sequentialminus\": [[0.0, \"#0d0887\"], [0.1111111111111111, \"#46039f\"], [0.2222222222222222, \"#7201a8\"], [0.3333333333333333, \"#9c179e\"], [0.4444444444444444, \"#bd3786\"], [0.5555555555555556, \"#d8576b\"], [0.6666666666666666, \"#ed7953\"], [0.7777777777777778, \"#fb9f3a\"], [0.8888888888888888, \"#fdca26\"], [1.0, \"#f0f921\"]]}, \"colorway\": [\"#636efa\", \"#EF553B\", \"#00cc96\", \"#ab63fa\", \"#FFA15A\", \"#19d3f3\", \"#FF6692\", \"#B6E880\", \"#FF97FF\", \"#FECB52\"], \"font\": {\"color\": \"#2a3f5f\"}, \"geo\": {\"bgcolor\": \"white\", \"lakecolor\": \"white\", \"landcolor\": \"#E5ECF6\", \"showlakes\": true, \"showland\": true, \"subunitcolor\": \"white\"}, \"hoverlabel\": {\"align\": \"left\"}, \"hovermode\": \"closest\", \"mapbox\": {\"style\": \"light\"}, \"paper_bgcolor\": \"white\", \"plot_bgcolor\": \"#E5ECF6\", \"polar\": {\"angularaxis\": {\"gridcolor\": \"white\", \"linecolor\": \"white\", \"ticks\": \"\"}, \"bgcolor\": \"#E5ECF6\", \"radialaxis\": {\"gridcolor\": \"white\", \"linecolor\": \"white\", \"ticks\": \"\"}}, \"scene\": {\"xaxis\": {\"backgroundcolor\": \"#E5ECF6\", \"gridcolor\": \"white\", \"gridwidth\": 2, \"linecolor\": \"white\", \"showbackground\": true, \"ticks\": \"\", \"zerolinecolor\": \"white\"}, \"yaxis\": {\"backgroundcolor\": \"#E5ECF6\", \"gridcolor\": \"white\", \"gridwidth\": 2, \"linecolor\": \"white\", \"showbackground\": true, \"ticks\": \"\", \"zerolinecolor\": \"white\"}, \"zaxis\": {\"backgroundcolor\": \"#E5ECF6\", \"gridcolor\": \"white\", \"gridwidth\": 2, \"linecolor\": \"white\", \"showbackground\": true, \"ticks\": \"\", \"zerolinecolor\": \"white\"}}, \"shapedefaults\": {\"line\": {\"color\": \"#2a3f5f\"}}, \"ternary\": {\"aaxis\": {\"gridcolor\": \"white\", \"linecolor\": \"white\", \"ticks\": \"\"}, \"baxis\": {\"gridcolor\": \"white\", \"linecolor\": \"white\", \"ticks\": \"\"}, \"bgcolor\": \"#E5ECF6\", \"caxis\": {\"gridcolor\": \"white\", \"linecolor\": \"white\", \"ticks\": \"\"}}, \"title\": {\"x\": 0.05}, \"xaxis\": {\"automargin\": true, \"gridcolor\": \"white\", \"linecolor\": \"white\", \"ticks\": \"\", \"title\": {\"standoff\": 15}, \"zerolinecolor\": \"white\", \"zerolinewidth\": 2}, \"yaxis\": {\"automargin\": true, \"gridcolor\": \"white\", \"linecolor\": \"white\", \"ticks\": \"\", \"title\": {\"standoff\": 15}, \"zerolinecolor\": \"white\", \"zerolinewidth\": 2}}}, \"title\": {\"text\": \"Quantidade de Ve\\u00edculos envolvidos em acidentes, por m\\u00eas, em 2020 por cada causa de acidente - Dados reais e previstos\"}},\n",
              "                        {\"responsive\": true}\n",
              "                    ).then(function(){\n",
              "                            \n",
              "var gd = document.getElementById('1091b5f9-82b5-476d-a93e-eb6c5a1a09e1');\n",
              "var x = new MutationObserver(function (mutations, observer) {{\n",
              "        var display = window.getComputedStyle(gd).display;\n",
              "        if (!display || display === 'none') {{\n",
              "            console.log([gd, 'removed!']);\n",
              "            Plotly.purge(gd);\n",
              "            observer.disconnect();\n",
              "        }}\n",
              "}});\n",
              "\n",
              "// Listen for the removal of the full notebook cells\n",
              "var notebookContainer = gd.closest('#notebook-container');\n",
              "if (notebookContainer) {{\n",
              "    x.observe(notebookContainer, {childList: true});\n",
              "}}\n",
              "\n",
              "// Listen for the clearing of the current output cell\n",
              "var outputEl = gd.closest('.output');\n",
              "if (outputEl) {{\n",
              "    x.observe(outputEl, {childList: true});\n",
              "}}\n",
              "\n",
              "                        })\n",
              "                };\n",
              "                \n",
              "            </script>\n",
              "        </div>\n",
              "</body>\n",
              "</html>"
            ]
          },
          "metadata": {
            "tags": []
          }
        }
      ]
    },
    {
      "cell_type": "markdown",
      "metadata": {
        "id": "V0bSpUTWis91"
      },
      "source": [
        "## **Conclusão**\n",
        "\n",
        "----\n",
        "\n",
        "- Os algoritmos de Regressão que geraram melhores resultados, no geral, foram: Árvore de Decisão, Random Forest e Regressão Polinomial. Para algumas hipóteses não foi plotado o gráfico que exibe a curva de extrapolação para o ano de 2020 pois, haviam numerosas classes em dados atributos, o que dificultou a exibição."
      ]
    }
  ]
}