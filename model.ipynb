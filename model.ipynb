{
  "nbformat": 4,
  "nbformat_minor": 0,
  "metadata": {
    "colab": {
      "name": "model.ipynb",
      "provenance": [],
      "authorship_tag": "ABX9TyMBUISeHJQffTsJur+s+5Bt",
      "include_colab_link": true
    },
    "kernelspec": {
      "name": "python3",
      "display_name": "Python 3"
    }
  },
  "cells": [
    {
      "cell_type": "markdown",
      "metadata": {
        "id": "view-in-github",
        "colab_type": "text"
      },
      "source": [
        "<a href=\"https://colab.research.google.com/github/lucifernandes/acidentesPRF/blob/master/model.ipynb\" target=\"_parent\"><img src=\"https://colab.research.google.com/assets/colab-badge.svg\" alt=\"Open In Colab\"/></a>"
      ]
    },
    {
      "cell_type": "markdown",
      "metadata": {
        "id": "MWfi_D1TXAkZ",
        "colab_type": "text"
      },
      "source": [
        "#Dados abertos sobre Acidentes da Polícia Rodoviária Federal a partir da aplicação do processo OSEMN."
      ]
    },
    {
      "cell_type": "markdown",
      "metadata": {
        "id": "iqnPE1NmXHf9",
        "colab_type": "text"
      },
      "source": [
        "##Etapa Modelagem"
      ]
    },
    {
      "cell_type": "code",
      "metadata": {
        "id": "fksThDS5W7d5",
        "colab_type": "code",
        "colab": {}
      },
      "source": [
        ""
      ],
      "execution_count": null,
      "outputs": []
    }
  ]
}